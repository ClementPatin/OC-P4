{
 "cells": [
  {
   "cell_type": "markdown",
   "id": "86974f31",
   "metadata": {},
   "source": [
    "# Construisez un modèle de scoring\n",
    "\n",
    "# Prêt à dépenser\n",
    "\n",
    "<img src=\"logo_pret_a_depenser.png\" alt=\"logo_pret_a_depenser\" width=\"300\"/>"
   ]
  },
  {
   "cell_type": "markdown",
   "id": "5c60e483",
   "metadata": {},
   "source": [
    "# Problématique de l'entreprise"
   ]
  },
  {
   "cell_type": "markdown",
   "id": "1df0da93",
   "metadata": {},
   "source": [
    "\"Prêt à dépenser\" propose des crédits à la consommation pour les particuliers. La cible commerciale de l'entreprise sont les personnes n'ayant pas ou peu d'historique de prêt.\n",
    "\n",
    "Afin d'éviter des pertes importantes, l'entreprise souhaite mettre en oeuvre un outil d'évalutation du risque de crédit associé à un prospect avant une éventuelle signature.\n",
    "\n",
    "Cet outil prendra la forme d'un \"scoring crédit\" et :\n",
    "- calculera la probalité de défaut du prospect\n",
    "- classifiera la demande de prêt : \"accordé\" ou \"refusé\""
   ]
  },
  {
   "cell_type": "markdown",
   "id": "07fd87dd",
   "metadata": {},
   "source": [
    "# Imports de librairies"
   ]
  },
  {
   "cell_type": "code",
   "execution_count": 1,
   "id": "dc13eb7c",
   "metadata": {},
   "outputs": [],
   "source": [
    "import pandas as pd # to manipulate the dataset with dataframes\n",
    "import numpy as np # for statistics and calculations\n",
    "\n",
    "import matplotlib.pyplot as plt # for data visualisation\n",
    "%matplotlib inline\n",
    "import matplotlib.ticker as mtick # for format axis in percent %\n",
    "import seaborn as sns # for data visualisation, with different proporties\n",
    "import missingno as ms # for visualisation of missing data\n",
    "import plotly.express as px # for interactive graphs\n",
    "import plotly.graph_objects as go\n",
    "\n",
    "from sklearn.preprocessing import MinMaxScaler, StandardScaler # for scaling\n",
    "\n",
    "from sklearn.experimental import enable_iterative_imputer \n",
    "from sklearn.impute import KNNImputer, IterativeImputer, SimpleImputer # imputers\n",
    "\n",
    "from sklearn import neighbors\n",
    "\n",
    "from sklearn.metrics import mean_squared_error, r2_score # measures for imputation quality\n",
    "\n",
    "from sklearn.decomposition import PCA # PCA decomposition\n",
    "\n",
    "import statsmodels.api as sm\n",
    "from statsmodels.formula.api import ols # for ANOVA\n",
    "import scipy.stats as stats\n",
    "from itertools import combinations\n",
    "\n",
    "import ipywidgets as widgets\n",
    "\n",
    "import os\n",
    "import shutil\n",
    "import sys"
   ]
  },
  {
   "cell_type": "code",
   "execution_count": 2,
   "id": "d5807d5c",
   "metadata": {},
   "outputs": [],
   "source": [
    "from myFunctions import bestDtype,testDtypes"
   ]
  },
  {
   "cell_type": "markdown",
   "id": "b26e1e7d",
   "metadata": {},
   "source": [
    "# Import des datasets brutes"
   ]
  },
  {
   "cell_type": "code",
   "execution_count": 3,
   "id": "63222f50",
   "metadata": {},
   "outputs": [
    {
     "data": {
      "text/plain": [
       "['application_test.csv',\n",
       " 'application_train.csv',\n",
       " 'bureau.csv',\n",
       " 'bureau_balance.csv',\n",
       " 'credit_card_balance.csv',\n",
       " 'HomeCredit_columns_description.csv',\n",
       " 'installments_payments.csv',\n",
       " 'POS_CASH_balance.csv',\n",
       " 'previous_application.csv',\n",
       " 'sample_submission.csv']"
      ]
     },
     "execution_count": 3,
     "metadata": {},
     "output_type": "execute_result"
    }
   ],
   "source": [
    "os.listdir(\"Projet+Mise+en+prod+-+home-credit-default-risk\")"
   ]
  },
  {
   "cell_type": "code",
   "execution_count": 4,
   "id": "59b053cd",
   "metadata": {},
   "outputs": [],
   "source": [
    "earlyNumRows = None"
   ]
  },
  {
   "cell_type": "code",
   "execution_count": 5,
   "id": "8d4e6e2b",
   "metadata": {},
   "outputs": [],
   "source": [
    "if os.path.isdir(\"Projet+Mise+en+prod+-+home-credit-default-risk\") :\n",
    "    rawCsvNames=os.listdir(\"Projet+Mise+en+prod+-+home-credit-default-risk\")\n",
    "    rawCsvNames.remove('application_test.csv')\n",
    "#     rawCsvNames.remove('HomeCredit_columns_description.csv')\n",
    "#     rawCsvNames.remove('sample_submission.csv')\n",
    "    rawDfNames=[\n",
    "        \"rawAppliDf\",\n",
    "        \"rawBurDf\",\n",
    "        \"rawBurBalDf\",\n",
    "        \"rawCcBalDf\",\n",
    "        \"rawColDescripDf\",\n",
    "        \"rawInstalPaymDf\",\n",
    "        \"rawPosDf\",\n",
    "        \"rawPrevAppDf\",\n",
    "        \"rawSampleSubmi\"\n",
    "    ]\n",
    "    rawDfDict={}\n",
    "\n",
    "    for dfName,csvName in zip(rawDfNames,rawCsvNames) :\n",
    "        vars()[dfName]=pd.read_csv(\n",
    "            \"Projet+Mise+en+prod+-+home-credit-default-risk/\"+csvName,\n",
    "            encoding_errors=\"ignore\",\n",
    "            nrows=earlyNumRows\n",
    "                       )\n",
    "        rawDfDict[dfName]=vars()[dfName]\n",
    "else : \n",
    "    print(\"attention le dossier de base contenant les .csv du projet n'est pas présent\")"
   ]
  },
  {
   "cell_type": "code",
   "execution_count": 6,
   "id": "f30aa7bf",
   "metadata": {},
   "outputs": [],
   "source": [
    "realRawDfNames=[ # create a list of the dataframes based on \"real\" datasets\n",
    "    \"rawAppliDf\",\n",
    "    \"rawBurDf\",\n",
    "    \"rawBurBalDf\",\n",
    "    \"rawCcBalDf\",\n",
    "    \"rawInstalPaymDf\",\n",
    "    \"rawPosDf\",\n",
    "    \"rawPrevAppDf\"\n",
    "]\n",
    "\n",
    "realRawCsvNames=[ # same list but with corresponding csv files names\n",
    "     'application_train.csv',\n",
    "     'bureau.csv',\n",
    "     'bureau_balance.csv',\n",
    "     'credit_card_balance.csv',\n",
    "     'installments_payments.csv',\n",
    "     'POS_CASH_balance.csv',\n",
    "     'previous_application.csv'\n",
    "]"
   ]
  },
  {
   "cell_type": "markdown",
   "id": "5e23cabb",
   "metadata": {},
   "source": [
    "# Exploration"
   ]
  },
  {
   "cell_type": "markdown",
   "id": "88e009fc",
   "metadata": {},
   "source": [
    "## Describe"
   ]
  },
  {
   "cell_type": "code",
   "execution_count": 7,
   "id": "24699797",
   "metadata": {},
   "outputs": [],
   "source": [
    "from myFunctions import myDescribe"
   ]
  },
  {
   "cell_type": "code",
   "execution_count": 8,
   "id": "05040eca",
   "metadata": {},
   "outputs": [
    {
     "data": {
      "application/vnd.jupyter.widget-view+json": {
       "model_id": "ad49d78add5f4975918b60eed68677b3",
       "version_major": 2,
       "version_minor": 0
      },
      "text/plain": [
       "Dropdown(description='Which dataframe :', options=('rawAppliDf', 'rawBurDf', 'rawBurBalDf', 'rawCcBalDf', 'raw…"
      ]
     },
     "metadata": {},
     "output_type": "display_data"
    },
    {
     "data": {
      "application/vnd.jupyter.widget-view+json": {
       "model_id": "28dfa311c057497da14c102ebe655f04",
       "version_major": 2,
       "version_minor": 0
      },
      "text/plain": [
       "Output()"
      ]
     },
     "metadata": {},
     "output_type": "display_data"
    }
   ],
   "source": [
    "myDescribe(rawDfDict)"
   ]
  },
  {
   "cell_type": "markdown",
   "id": "e9f5c9da",
   "metadata": {},
   "source": [
    "Ce que l'on peut en retenir :\n",
    "- la colonne `TARGET` est déséquilibrée. En effet, ce qui est assez logique, il y a peu (8%) de client avec des défaut de paiement.\n",
    "- pour certaines features `DAYS...` nous renseignant sur un nombre de jours, le maximum est la valeur `365243`, ce qui est incohérent. Cette valeur représente surement $\\infty$.\n",
    "    *(exemple : dataframe `rawAppliDf` - feature `DAYS_EMPLOYED`)*\n",
    "    \n",
    "\n",
    "- certaines features qualitatives ne semblent comporter que 2 valeurs uniques. Celles-ci pourraient transformées en features numériques avec les valeurs 0 ou 1.\n",
    "    *(exemple : dataframe `rawAppliDf` - feature `FLAG_OWN_CAR`)*\n",
    "\n",
    "- sur le même principe, certaines features ont 3 valeurs uniques là il serait plus logique qu'elles en aient 2. la troisième valeur pourrait refléter une absence d'information, et donc passée en valeur manquante.\n",
    "    *(exemple : dataframe `rawAppliDf` - feature `CODE_GENDER`)*\n",
    "    \n"
   ]
  },
  {
   "cell_type": "markdown",
   "id": "b2da1c09",
   "metadata": {},
   "source": [
    "## Valeurs reflétant une absence d'information"
   ]
  },
  {
   "cell_type": "markdown",
   "id": "856b905d",
   "metadata": {},
   "source": [
    "Recherchons tout d'abord des valeurs représentant une absence d'information :"
   ]
  },
  {
   "cell_type": "code",
   "execution_count": 9,
   "id": "5dbbcaa6",
   "metadata": {},
   "outputs": [],
   "source": [
    "# # print qualitative unique values to find values that can be replace with NaN\n",
    "# for dfName in realRawDfNames :\n",
    "#     print(dfName)\n",
    "#     print(\"-------------\")\n",
    "#     df=vars()[dfName].copy()\n",
    "#     test=pd.Series(df.apply(lambda s : s.unique().tolist() \\\n",
    "#                                                            if ((s.dtype==\"O\")) \\\n",
    "#                                     else np.nan,axis=0\n",
    "\n",
    "#                                                           ))\n",
    "#     for i,v in test.items() :\n",
    "#         print(i,\":\",v)\n",
    "#     print(\"-------------\")\n",
    "#     del test, df"
   ]
  },
  {
   "cell_type": "markdown",
   "id": "c923ee7b",
   "metadata": {},
   "source": [
    "Les valeurs : `\"XNA\"`,  `'Unknown'`, `'not specified'`, `'Unknown type of loan'`, `'X'` peuvent être considérées comme des valeurs manquantes.\n",
    "\n",
    "XXXXXXXXXXXX  `'XAP'` XXXXXXXXXXXXXXXXX"
   ]
  },
  {
   "cell_type": "markdown",
   "id": "1f024d34",
   "metadata": {},
   "source": [
    "## Amender `HomeCredit_columns_description.csv` avec des informations utiles"
   ]
  },
  {
   "cell_type": "code",
   "execution_count": 10,
   "id": "4729d9e7",
   "metadata": {},
   "outputs": [
    {
     "data": {
      "text/plain": [
       "(219, 5)"
      ]
     },
     "execution_count": 10,
     "metadata": {},
     "output_type": "execute_result"
    }
   ],
   "source": [
    "rawColDescripDf.shape"
   ]
  },
  {
   "cell_type": "markdown",
   "id": "07f667c3",
   "metadata": {},
   "source": [
    "Il y a apparemment 219 features dans les différents datasets à notre disposition. Nous pouvons nous appuyer sur ce tableau `HomeCredit_columns_description.csv` pour présenter différentes informations sur nos features :"
   ]
  },
  {
   "cell_type": "code",
   "execution_count": 11,
   "id": "446b6afe",
   "metadata": {},
   "outputs": [],
   "source": [
    "if not os.path.isdir(\"myCSVs\") :\n",
    "    os.mkdir(\"myCSVs\")\n",
    "if not os.path.isdir(\"myCSVs/processed\") :\n",
    "    os.mkdir(\"myCSVs/processed\")\n",
    "if not os.path.isdir(\"myCSVs/processed/columnsDescription\") :\n",
    "    os.mkdir(\"myCSVs/processed/columnsDescription\")"
   ]
  },
  {
   "cell_type": "code",
   "execution_count": 44,
   "id": "fc70572d",
   "metadata": {},
   "outputs": [
    {
     "name": "stdout",
     "output_type": "stream",
     "text": [
      "CPU times: total: 0 ns\n",
      "Wall time: 14.2 ms\n"
     ]
    }
   ],
   "source": [
    "%%time\n",
    "# add informations in the columns description dataframe\n",
    "\n",
    "if \"proColDescripDf.csv\" in os.listdir(\"myCSVs/processed/columnsDescription\") :\n",
    "    proColDescripDf=pd.read_csv(\"myCSVs/processed/columnsDescription/proColDescripDf.csv\",index_col=0)\n",
    "    colNamesWithListsInside = [\"Uniques\",\"otherNanValues\",\"binValues\"]\n",
    "    for colName in colNamesWithListsInside :\n",
    "        proColDescripDf.loc[proColDescripDf[colName].notna(),colName] \\\n",
    "        = \\\n",
    "        proColDescripDf.loc[proColDescripDf[colName].notna(),colName]\\\n",
    "        .apply(lambda x : x.strip(\"[]\").replace(\"'\",\"\").split(\", \") \n",
    "               if x != \"365243.0\" \n",
    "               else 365243\n",
    "              )\n",
    "else :\n",
    "    proColDescripDf = rawColDescripDf.copy() # create copy\n",
    "\n",
    "\n",
    "   \n",
    "    # change \"application_{train|test}.csv\" for 'application_train.csv' in the columns description df : proColDescripDf\n",
    "    proColDescripDf.loc[proColDescripDf[\"Table\"]==\"application_{train|test}.csv\",\"Table\"] \\\n",
    "    = 'application_train.csv'\n",
    "    # correct proColDescripDf issues\n",
    "    proColDescripDf=proColDescripDf.drop(columns=\"Unnamed: 0\")\n",
    "    proColDescripDf[\"Row\"]=proColDescripDf[\"Row\"].str.strip()\n",
    "    proColDescripDf.loc[proColDescripDf[\"Row\"]==\"SK_BUREAU_ID\",\"Row\"]=\"SK_ID_BUREAU\"\n",
    "    proColDescripDf=proColDescripDf.loc[proColDescripDf[\"Row\"]!=\"NFLAG_MICRO_CASH\"]\n",
    "\n",
    "    # create columns with informations\n",
    "\n",
    "\n",
    "    for dfName,csvName in zip(realRawDfNames,realRawCsvNames) :  # iterate on dataframes and their csv files\n",
    "        df=vars()[dfName].copy()\n",
    "        mask = ( # in the columns description dataframe, filter on csvName and df's columns\n",
    "            (proColDescripDf[\"Table\"]==csvName)&\n",
    "            (proColDescripDf[\"Row\"].isin(df.columns))\n",
    "        )\n",
    "#         print(    proColDescripDf.loc[mask,\"Row\"].tolist()==df.columns.tolist()    )\n",
    "        \n",
    "        # TYPES\n",
    "        \n",
    "        # get columns dtypes\n",
    "        proColDescripDf.loc[mask,\"type\"]=df.dtypes.values.tolist()\n",
    "        \n",
    "        # true or false - float columns values are all integers\n",
    "        proColDescripDf.loc[mask,\"float_real_int\"]=(\n",
    "            (\n",
    "                (df.apply(lambda s : (s*10%10).max() \\\n",
    "                                  if s.dtype==\"float64\" \\\n",
    "                                  else np.nan,\n",
    "                                  axis=0)\n",
    "                )==0\n",
    "            ).values.tolist())\n",
    "        \n",
    "        # lowest memory consumming dtype\n",
    "        proColDescripDf.loc[mask,\"bestType\"] = proColDescripDf.loc[mask].apply(lambda r : bestDtype(r[\"Row\"],df), axis=1)\n",
    "                        \n",
    "        # get percentage of missing values\n",
    "        proColDescripDf.loc[mask,\"NaN_rate\"]=(df.isna().mean(axis=0)).values.tolist()\n",
    "\n",
    "        # get unique values\n",
    "        proColDescripDf.loc[mask,\"Uniques\"]=pd.Series(df.apply(lambda s : s.dropna().unique().tolist() \\\n",
    "                                                               if s.dtype==\"O\"\n",
    "                                                               else np.nan,\n",
    "                                                               axis=0\n",
    "                                                      )).values\n",
    "\n",
    "        # for concerned columns, add the new NaN value 365243 in a list \n",
    "        mask2 = (proColDescripDf[\"type\"]=='int64')|(proColDescripDf[\"type\"]=='float64')\n",
    "        \n",
    "        \n",
    "        proColDescripDf.loc[mask&mask2,\"otherNanValues\"]=pd.Series(df.select_dtypes(['int64', 'float64'])\\\n",
    "                                                                    .apply(lambda s : 365243\n",
    "                                                                              if s.max()==365243\n",
    "                                                                              else np.nan,\n",
    "                                                                              axis=0)).values\n",
    "        \n",
    "        \n",
    "        \n",
    "        del df,mask,mask2\n",
    "\n",
    "    # list of new NaN values if columns have \"XNA\",  'Unknown', 'not specified', 'Unknown type of loan', 'X' within their values\n",
    "    nanValuesList=[\"XNA\",  'Unknown', 'not specified', 'Unknown type of loan','X']\n",
    "    nanValuesList.append(\"XAP\") # add \"XAP\"\n",
    "    \n",
    "    mask = proColDescripDf[\"otherNanValues\"].isna()\n",
    "    proColDescripDf.loc[mask,\"otherNanValues\"]=proColDescripDf.loc[mask,\"Uniques\"]\\\n",
    "    .apply(lambda lst : [nanVal for nanVal in nanValuesList if nanVal in lst] \\\n",
    "           if type(lst)==list\n",
    "           else np.nan)\\\n",
    "    .apply(lambda lst : lst if (type(lst)==list and len(lst)>0) else np.nan)\n",
    "\n",
    "    # true or false - columns have only 2 unique values\n",
    "    proColDescripDf[\"bin\"]=(\n",
    "        proColDescripDf[\"Uniques\"].apply(lambda l : len(l) if type(l)==list else np.nan) \\\n",
    "        - proColDescripDf[\"otherNanValues\"].apply(lambda l : len(l) if type(l)==list else 0)\n",
    "    )==2\n",
    "    # store both values\n",
    "    proColDescripDf.loc[(proColDescripDf[\"bin\"]==True)&(proColDescripDf[\"otherNanValues\"].isna()),\"binValues\"] = \\\n",
    "    proColDescripDf.loc[(proColDescripDf[\"bin\"]==True)&(proColDescripDf[\"otherNanValues\"].isna()),\"Uniques\"]\n",
    "    \n",
    "    \n",
    "    proColDescripDf.loc[(proColDescripDf[\"bin\"]==True)&(proColDescripDf[\"otherNanValues\"].notna()),\"binValues\"] = \\\n",
    "    proColDescripDf.loc[(proColDescripDf[\"bin\"]==True)&(proColDescripDf[\"otherNanValues\"].notna()),[\"Uniques\",\"otherNanValues\"]]\\\n",
    "    .apply(lambda r : [elt for elt in r[\"Uniques\"] if elt not in r[\"otherNanValues\"]],\n",
    "                                                axis=1)\n",
    "    \n",
    "    \n",
    "    proColDescripDf.to_csv(\"myCSVs/processed/columnsDescription/proColDescripDf.csv\")\n",
    "    \n"
   ]
  },
  {
   "cell_type": "code",
   "execution_count": 45,
   "id": "1e3d871c",
   "metadata": {},
   "outputs": [
    {
     "data": {
      "text/html": [
       "<div>\n",
       "<style scoped>\n",
       "    .dataframe tbody tr th:only-of-type {\n",
       "        vertical-align: middle;\n",
       "    }\n",
       "\n",
       "    .dataframe tbody tr th {\n",
       "        vertical-align: top;\n",
       "    }\n",
       "\n",
       "    .dataframe thead th {\n",
       "        text-align: right;\n",
       "    }\n",
       "</style>\n",
       "<table border=\"1\" class=\"dataframe\">\n",
       "  <thead>\n",
       "    <tr style=\"text-align: right;\">\n",
       "      <th></th>\n",
       "      <th>Table</th>\n",
       "      <th>Row</th>\n",
       "      <th>Description</th>\n",
       "      <th>Special</th>\n",
       "      <th>type</th>\n",
       "      <th>float_real_int</th>\n",
       "      <th>bestType</th>\n",
       "      <th>NaN_rate</th>\n",
       "      <th>Uniques</th>\n",
       "      <th>otherNanValues</th>\n",
       "      <th>bin</th>\n",
       "      <th>binValues</th>\n",
       "    </tr>\n",
       "  </thead>\n",
       "  <tbody>\n",
       "    <tr>\n",
       "      <th>0</th>\n",
       "      <td>application_train.csv</td>\n",
       "      <td>SK_ID_CURR</td>\n",
       "      <td>ID of loan in our sample</td>\n",
       "      <td>NaN</td>\n",
       "      <td>int64</td>\n",
       "      <td>False</td>\n",
       "      <td>int32</td>\n",
       "      <td>0.000000</td>\n",
       "      <td>NaN</td>\n",
       "      <td>NaN</td>\n",
       "      <td>False</td>\n",
       "      <td>NaN</td>\n",
       "    </tr>\n",
       "    <tr>\n",
       "      <th>1</th>\n",
       "      <td>application_train.csv</td>\n",
       "      <td>TARGET</td>\n",
       "      <td>Target variable (1 - client with payment diffi...</td>\n",
       "      <td>NaN</td>\n",
       "      <td>int64</td>\n",
       "      <td>False</td>\n",
       "      <td>int8</td>\n",
       "      <td>0.000000</td>\n",
       "      <td>NaN</td>\n",
       "      <td>NaN</td>\n",
       "      <td>False</td>\n",
       "      <td>NaN</td>\n",
       "    </tr>\n",
       "    <tr>\n",
       "      <th>2</th>\n",
       "      <td>application_train.csv</td>\n",
       "      <td>NAME_CONTRACT_TYPE</td>\n",
       "      <td>Identification if loan is cash or revolving</td>\n",
       "      <td>NaN</td>\n",
       "      <td>object</td>\n",
       "      <td>False</td>\n",
       "      <td>category</td>\n",
       "      <td>0.000000</td>\n",
       "      <td>[Cash loans, Revolving loans]</td>\n",
       "      <td>NaN</td>\n",
       "      <td>True</td>\n",
       "      <td>[Cash loans, Revolving loans]</td>\n",
       "    </tr>\n",
       "    <tr>\n",
       "      <th>3</th>\n",
       "      <td>application_train.csv</td>\n",
       "      <td>CODE_GENDER</td>\n",
       "      <td>Gender of the client</td>\n",
       "      <td>NaN</td>\n",
       "      <td>object</td>\n",
       "      <td>False</td>\n",
       "      <td>category</td>\n",
       "      <td>0.000000</td>\n",
       "      <td>[M, F, XNA]</td>\n",
       "      <td>[XNA]</td>\n",
       "      <td>True</td>\n",
       "      <td>[M, F]</td>\n",
       "    </tr>\n",
       "    <tr>\n",
       "      <th>4</th>\n",
       "      <td>application_train.csv</td>\n",
       "      <td>FLAG_OWN_CAR</td>\n",
       "      <td>Flag if the client owns a car</td>\n",
       "      <td>NaN</td>\n",
       "      <td>object</td>\n",
       "      <td>False</td>\n",
       "      <td>category</td>\n",
       "      <td>0.000000</td>\n",
       "      <td>[N, Y]</td>\n",
       "      <td>NaN</td>\n",
       "      <td>True</td>\n",
       "      <td>[N, Y]</td>\n",
       "    </tr>\n",
       "    <tr>\n",
       "      <th>...</th>\n",
       "      <td>...</td>\n",
       "      <td>...</td>\n",
       "      <td>...</td>\n",
       "      <td>...</td>\n",
       "      <td>...</td>\n",
       "      <td>...</td>\n",
       "      <td>...</td>\n",
       "      <td>...</td>\n",
       "      <td>...</td>\n",
       "      <td>...</td>\n",
       "      <td>...</td>\n",
       "      <td>...</td>\n",
       "    </tr>\n",
       "    <tr>\n",
       "      <th>214</th>\n",
       "      <td>installments_payments.csv</td>\n",
       "      <td>NUM_INSTALMENT_NUMBER</td>\n",
       "      <td>On which installment we observe payment</td>\n",
       "      <td>NaN</td>\n",
       "      <td>int64</td>\n",
       "      <td>False</td>\n",
       "      <td>int16</td>\n",
       "      <td>0.000000</td>\n",
       "      <td>NaN</td>\n",
       "      <td>NaN</td>\n",
       "      <td>False</td>\n",
       "      <td>NaN</td>\n",
       "    </tr>\n",
       "    <tr>\n",
       "      <th>215</th>\n",
       "      <td>installments_payments.csv</td>\n",
       "      <td>DAYS_INSTALMENT</td>\n",
       "      <td>When the installment of previous credit was su...</td>\n",
       "      <td>time only relative to the application</td>\n",
       "      <td>float64</td>\n",
       "      <td>True</td>\n",
       "      <td>int16</td>\n",
       "      <td>0.000000</td>\n",
       "      <td>NaN</td>\n",
       "      <td>NaN</td>\n",
       "      <td>False</td>\n",
       "      <td>NaN</td>\n",
       "    </tr>\n",
       "    <tr>\n",
       "      <th>216</th>\n",
       "      <td>installments_payments.csv</td>\n",
       "      <td>DAYS_ENTRY_PAYMENT</td>\n",
       "      <td>When was the installments of previous credit p...</td>\n",
       "      <td>time only relative to the application</td>\n",
       "      <td>float64</td>\n",
       "      <td>True</td>\n",
       "      <td>float32</td>\n",
       "      <td>0.000214</td>\n",
       "      <td>NaN</td>\n",
       "      <td>NaN</td>\n",
       "      <td>False</td>\n",
       "      <td>NaN</td>\n",
       "    </tr>\n",
       "    <tr>\n",
       "      <th>217</th>\n",
       "      <td>installments_payments.csv</td>\n",
       "      <td>AMT_INSTALMENT</td>\n",
       "      <td>What was the prescribed installment amount of ...</td>\n",
       "      <td>NaN</td>\n",
       "      <td>float64</td>\n",
       "      <td>False</td>\n",
       "      <td>float64</td>\n",
       "      <td>0.000000</td>\n",
       "      <td>NaN</td>\n",
       "      <td>NaN</td>\n",
       "      <td>False</td>\n",
       "      <td>NaN</td>\n",
       "    </tr>\n",
       "    <tr>\n",
       "      <th>218</th>\n",
       "      <td>installments_payments.csv</td>\n",
       "      <td>AMT_PAYMENT</td>\n",
       "      <td>What the client actually paid on previous cred...</td>\n",
       "      <td>NaN</td>\n",
       "      <td>float64</td>\n",
       "      <td>False</td>\n",
       "      <td>float64</td>\n",
       "      <td>0.000214</td>\n",
       "      <td>NaN</td>\n",
       "      <td>NaN</td>\n",
       "      <td>False</td>\n",
       "      <td>NaN</td>\n",
       "    </tr>\n",
       "  </tbody>\n",
       "</table>\n",
       "<p>218 rows × 12 columns</p>\n",
       "</div>"
      ],
      "text/plain": [
       "                         Table                    Row  \\\n",
       "0        application_train.csv             SK_ID_CURR   \n",
       "1        application_train.csv                 TARGET   \n",
       "2        application_train.csv     NAME_CONTRACT_TYPE   \n",
       "3        application_train.csv            CODE_GENDER   \n",
       "4        application_train.csv           FLAG_OWN_CAR   \n",
       "..                         ...                    ...   \n",
       "214  installments_payments.csv  NUM_INSTALMENT_NUMBER   \n",
       "215  installments_payments.csv        DAYS_INSTALMENT   \n",
       "216  installments_payments.csv     DAYS_ENTRY_PAYMENT   \n",
       "217  installments_payments.csv         AMT_INSTALMENT   \n",
       "218  installments_payments.csv            AMT_PAYMENT   \n",
       "\n",
       "                                           Description  \\\n",
       "0                             ID of loan in our sample   \n",
       "1    Target variable (1 - client with payment diffi...   \n",
       "2          Identification if loan is cash or revolving   \n",
       "3                                 Gender of the client   \n",
       "4                        Flag if the client owns a car   \n",
       "..                                                 ...   \n",
       "214            On which installment we observe payment   \n",
       "215  When the installment of previous credit was su...   \n",
       "216  When was the installments of previous credit p...   \n",
       "217  What was the prescribed installment amount of ...   \n",
       "218  What the client actually paid on previous cred...   \n",
       "\n",
       "                                   Special     type  float_real_int  bestType  \\\n",
       "0                                      NaN    int64           False     int32   \n",
       "1                                      NaN    int64           False      int8   \n",
       "2                                      NaN   object           False  category   \n",
       "3                                      NaN   object           False  category   \n",
       "4                                      NaN   object           False  category   \n",
       "..                                     ...      ...             ...       ...   \n",
       "214                                    NaN    int64           False     int16   \n",
       "215  time only relative to the application  float64            True     int16   \n",
       "216  time only relative to the application  float64            True   float32   \n",
       "217                                    NaN  float64           False   float64   \n",
       "218                                    NaN  float64           False   float64   \n",
       "\n",
       "     NaN_rate                        Uniques otherNanValues    bin  \\\n",
       "0    0.000000                            NaN            NaN  False   \n",
       "1    0.000000                            NaN            NaN  False   \n",
       "2    0.000000  [Cash loans, Revolving loans]            NaN   True   \n",
       "3    0.000000                    [M, F, XNA]          [XNA]   True   \n",
       "4    0.000000                         [N, Y]            NaN   True   \n",
       "..        ...                            ...            ...    ...   \n",
       "214  0.000000                            NaN            NaN  False   \n",
       "215  0.000000                            NaN            NaN  False   \n",
       "216  0.000214                            NaN            NaN  False   \n",
       "217  0.000000                            NaN            NaN  False   \n",
       "218  0.000214                            NaN            NaN  False   \n",
       "\n",
       "                         binValues  \n",
       "0                              NaN  \n",
       "1                              NaN  \n",
       "2    [Cash loans, Revolving loans]  \n",
       "3                           [M, F]  \n",
       "4                           [N, Y]  \n",
       "..                             ...  \n",
       "214                            NaN  \n",
       "215                            NaN  \n",
       "216                            NaN  \n",
       "217                            NaN  \n",
       "218                            NaN  \n",
       "\n",
       "[218 rows x 12 columns]"
      ]
     },
     "execution_count": 45,
     "metadata": {},
     "output_type": "execute_result"
    }
   ],
   "source": [
    "proColDescripDf"
   ]
  },
  {
   "cell_type": "code",
   "execution_count": 14,
   "id": "268f71d2",
   "metadata": {},
   "outputs": [
    {
     "data": {
      "text/plain": [
       "otherNanValues\n",
       "[XNA]                     11\n",
       "365243                     6\n",
       "[XNA, XAP]                 2\n",
       "[Unknown]                  1\n",
       "[not specified]            1\n",
       "[Unknown type of loan]     1\n",
       "[X]                        1\n",
       "Name: count, dtype: int64"
      ]
     },
     "execution_count": 14,
     "metadata": {},
     "output_type": "execute_result"
    }
   ],
   "source": [
    "proColDescripDf.otherNanValues.value_counts()"
   ]
  },
  {
   "cell_type": "markdown",
   "id": "f8cfef35",
   "metadata": {},
   "source": [
    "## Stocker des informations qui nous permettront d'améliorer nos imports"
   ]
  },
  {
   "cell_type": "code",
   "execution_count": 15,
   "id": "2bcda42a",
   "metadata": {},
   "outputs": [],
   "source": [
    "# dictionnary for dtypes\n",
    "lowMemTypesDict = {\n",
    "                    csvName : {\n",
    "                                col : bestTyp for col,bestTyp in zip(\n",
    "                                    proColDescripDf.loc[proColDescripDf[\"Table\"]==csvName,\"Row\"].values.tolist(),\n",
    "                                    proColDescripDf.loc[proColDescripDf[\"Table\"]==csvName,\"bestType\"].values.tolist()\n",
    "                                                                    )\n",
    "                         \n",
    "\n",
    "}\n",
    "               for csvName in realRawCsvNames}\n",
    "\n"
   ]
  },
  {
   "cell_type": "code",
   "execution_count": 16,
   "id": "30bf277f",
   "metadata": {},
   "outputs": [
    {
     "data": {
      "text/plain": [
       "{'application_train.csv': {'SK_ID_CURR': 'int32',\n",
       "  'TARGET': 'int8',\n",
       "  'NAME_CONTRACT_TYPE': 'category',\n",
       "  'CODE_GENDER': 'category',\n",
       "  'FLAG_OWN_CAR': 'category',\n",
       "  'FLAG_OWN_REALTY': 'category',\n",
       "  'CNT_CHILDREN': 'int8',\n",
       "  'AMT_INCOME_TOTAL': 'float64',\n",
       "  'AMT_CREDIT': 'float32',\n",
       "  'AMT_ANNUITY': 'float32',\n",
       "  'AMT_GOODS_PRICE': 'float32',\n",
       "  'NAME_TYPE_SUITE': 'category',\n",
       "  'NAME_INCOME_TYPE': 'category',\n",
       "  'NAME_EDUCATION_TYPE': 'category',\n",
       "  'NAME_FAMILY_STATUS': 'category',\n",
       "  'NAME_HOUSING_TYPE': 'category',\n",
       "  'REGION_POPULATION_RELATIVE': 'float32',\n",
       "  'DAYS_BIRTH': 'int16',\n",
       "  'DAYS_EMPLOYED': 'int32',\n",
       "  'DAYS_REGISTRATION': 'float32',\n",
       "  'DAYS_ID_PUBLISH': 'int16',\n",
       "  'OWN_CAR_AGE': 'float32',\n",
       "  'FLAG_MOBIL': 'int8',\n",
       "  'FLAG_EMP_PHONE': 'int8',\n",
       "  'FLAG_WORK_PHONE': 'int8',\n",
       "  'FLAG_CONT_MOBILE': 'int8',\n",
       "  'FLAG_PHONE': 'int8',\n",
       "  'FLAG_EMAIL': 'int8',\n",
       "  'OCCUPATION_TYPE': 'category',\n",
       "  'CNT_FAM_MEMBERS': 'float32',\n",
       "  'REGION_RATING_CLIENT': 'int8',\n",
       "  'REGION_RATING_CLIENT_W_CITY': 'int8',\n",
       "  'WEEKDAY_APPR_PROCESS_START': 'category',\n",
       "  'HOUR_APPR_PROCESS_START': 'int8',\n",
       "  'REG_REGION_NOT_LIVE_REGION': 'int8',\n",
       "  'REG_REGION_NOT_WORK_REGION': 'int8',\n",
       "  'LIVE_REGION_NOT_WORK_REGION': 'int8',\n",
       "  'REG_CITY_NOT_LIVE_CITY': 'int8',\n",
       "  'REG_CITY_NOT_WORK_CITY': 'int8',\n",
       "  'LIVE_CITY_NOT_WORK_CITY': 'int8',\n",
       "  'ORGANIZATION_TYPE': 'category',\n",
       "  'EXT_SOURCE_1': 'float32',\n",
       "  'EXT_SOURCE_2': 'float32',\n",
       "  'EXT_SOURCE_3': 'float32',\n",
       "  'APARTMENTS_AVG': 'float32',\n",
       "  'BASEMENTAREA_AVG': 'float32',\n",
       "  'YEARS_BEGINEXPLUATATION_AVG': 'float32',\n",
       "  'YEARS_BUILD_AVG': 'float32',\n",
       "  'COMMONAREA_AVG': 'float32',\n",
       "  'ELEVATORS_AVG': 'float32',\n",
       "  'ENTRANCES_AVG': 'float32',\n",
       "  'FLOORSMAX_AVG': 'float32',\n",
       "  'FLOORSMIN_AVG': 'float32',\n",
       "  'LANDAREA_AVG': 'float32',\n",
       "  'LIVINGAPARTMENTS_AVG': 'float32',\n",
       "  'LIVINGAREA_AVG': 'float32',\n",
       "  'NONLIVINGAPARTMENTS_AVG': 'float32',\n",
       "  'NONLIVINGAREA_AVG': 'float32',\n",
       "  'APARTMENTS_MODE': 'float32',\n",
       "  'BASEMENTAREA_MODE': 'float32',\n",
       "  'YEARS_BEGINEXPLUATATION_MODE': 'float32',\n",
       "  'YEARS_BUILD_MODE': 'float32',\n",
       "  'COMMONAREA_MODE': 'float32',\n",
       "  'ELEVATORS_MODE': 'float32',\n",
       "  'ENTRANCES_MODE': 'float32',\n",
       "  'FLOORSMAX_MODE': 'float32',\n",
       "  'FLOORSMIN_MODE': 'float32',\n",
       "  'LANDAREA_MODE': 'float32',\n",
       "  'LIVINGAPARTMENTS_MODE': 'float32',\n",
       "  'LIVINGAREA_MODE': 'float32',\n",
       "  'NONLIVINGAPARTMENTS_MODE': 'float32',\n",
       "  'NONLIVINGAREA_MODE': 'float32',\n",
       "  'APARTMENTS_MEDI': 'float32',\n",
       "  'BASEMENTAREA_MEDI': 'float32',\n",
       "  'YEARS_BEGINEXPLUATATION_MEDI': 'float32',\n",
       "  'YEARS_BUILD_MEDI': 'float32',\n",
       "  'COMMONAREA_MEDI': 'float32',\n",
       "  'ELEVATORS_MEDI': 'float32',\n",
       "  'ENTRANCES_MEDI': 'float32',\n",
       "  'FLOORSMAX_MEDI': 'float32',\n",
       "  'FLOORSMIN_MEDI': 'float32',\n",
       "  'LANDAREA_MEDI': 'float32',\n",
       "  'LIVINGAPARTMENTS_MEDI': 'float32',\n",
       "  'LIVINGAREA_MEDI': 'float32',\n",
       "  'NONLIVINGAPARTMENTS_MEDI': 'float32',\n",
       "  'NONLIVINGAREA_MEDI': 'float32',\n",
       "  'FONDKAPREMONT_MODE': 'category',\n",
       "  'HOUSETYPE_MODE': 'category',\n",
       "  'TOTALAREA_MODE': 'float32',\n",
       "  'WALLSMATERIAL_MODE': 'category',\n",
       "  'EMERGENCYSTATE_MODE': 'category',\n",
       "  'OBS_30_CNT_SOCIAL_CIRCLE': 'float32',\n",
       "  'DEF_30_CNT_SOCIAL_CIRCLE': 'float32',\n",
       "  'OBS_60_CNT_SOCIAL_CIRCLE': 'float32',\n",
       "  'DEF_60_CNT_SOCIAL_CIRCLE': 'float32',\n",
       "  'DAYS_LAST_PHONE_CHANGE': 'float32',\n",
       "  'FLAG_DOCUMENT_2': 'int8',\n",
       "  'FLAG_DOCUMENT_3': 'int8',\n",
       "  'FLAG_DOCUMENT_4': 'int8',\n",
       "  'FLAG_DOCUMENT_5': 'int8',\n",
       "  'FLAG_DOCUMENT_6': 'int8',\n",
       "  'FLAG_DOCUMENT_7': 'int8',\n",
       "  'FLAG_DOCUMENT_8': 'int8',\n",
       "  'FLAG_DOCUMENT_9': 'int8',\n",
       "  'FLAG_DOCUMENT_10': 'int8',\n",
       "  'FLAG_DOCUMENT_11': 'int8',\n",
       "  'FLAG_DOCUMENT_12': 'int8',\n",
       "  'FLAG_DOCUMENT_13': 'int8',\n",
       "  'FLAG_DOCUMENT_14': 'int8',\n",
       "  'FLAG_DOCUMENT_15': 'int8',\n",
       "  'FLAG_DOCUMENT_16': 'int8',\n",
       "  'FLAG_DOCUMENT_17': 'int8',\n",
       "  'FLAG_DOCUMENT_18': 'int8',\n",
       "  'FLAG_DOCUMENT_19': 'int8',\n",
       "  'FLAG_DOCUMENT_20': 'int8',\n",
       "  'FLAG_DOCUMENT_21': 'int8',\n",
       "  'AMT_REQ_CREDIT_BUREAU_HOUR': 'float32',\n",
       "  'AMT_REQ_CREDIT_BUREAU_DAY': 'float32',\n",
       "  'AMT_REQ_CREDIT_BUREAU_WEEK': 'float32',\n",
       "  'AMT_REQ_CREDIT_BUREAU_MON': 'float32',\n",
       "  'AMT_REQ_CREDIT_BUREAU_QRT': 'float32',\n",
       "  'AMT_REQ_CREDIT_BUREAU_YEAR': 'float32'},\n",
       " 'bureau.csv': {'SK_ID_CURR': 'int32',\n",
       "  'SK_ID_BUREAU': 'int32',\n",
       "  'CREDIT_ACTIVE': 'category',\n",
       "  'CREDIT_CURRENCY': 'category',\n",
       "  'DAYS_CREDIT': 'int16',\n",
       "  'CREDIT_DAY_OVERDUE': 'int16',\n",
       "  'DAYS_CREDIT_ENDDATE': 'float32',\n",
       "  'DAYS_ENDDATE_FACT': 'float32',\n",
       "  'AMT_CREDIT_MAX_OVERDUE': 'float64',\n",
       "  'CNT_CREDIT_PROLONG': 'int8',\n",
       "  'AMT_CREDIT_SUM': 'float64',\n",
       "  'AMT_CREDIT_SUM_DEBT': 'float64',\n",
       "  'AMT_CREDIT_SUM_LIMIT': 'float64',\n",
       "  'AMT_CREDIT_SUM_OVERDUE': 'float64',\n",
       "  'CREDIT_TYPE': 'category',\n",
       "  'DAYS_CREDIT_UPDATE': 'int32',\n",
       "  'AMT_ANNUITY': 'float64'},\n",
       " 'bureau_balance.csv': {'SK_ID_BUREAU': 'int32',\n",
       "  'MONTHS_BALANCE': 'int8',\n",
       "  'STATUS': 'category'},\n",
       " 'credit_card_balance.csv': {'SK_ID_PREV': 'int32',\n",
       "  'SK_ID_CURR': 'int32',\n",
       "  'MONTHS_BALANCE': 'int8',\n",
       "  'AMT_BALANCE': 'float64',\n",
       "  'AMT_CREDIT_LIMIT_ACTUAL': 'int32',\n",
       "  'AMT_DRAWINGS_ATM_CURRENT': 'float64',\n",
       "  'AMT_DRAWINGS_CURRENT': 'float64',\n",
       "  'AMT_DRAWINGS_OTHER_CURRENT': 'float64',\n",
       "  'AMT_DRAWINGS_POS_CURRENT': 'float64',\n",
       "  'AMT_INST_MIN_REGULARITY': 'float64',\n",
       "  'AMT_PAYMENT_CURRENT': 'float64',\n",
       "  'AMT_PAYMENT_TOTAL_CURRENT': 'float64',\n",
       "  'AMT_RECEIVABLE_PRINCIPAL': 'float64',\n",
       "  'AMT_RECIVABLE': 'float64',\n",
       "  'AMT_TOTAL_RECEIVABLE': 'float64',\n",
       "  'CNT_DRAWINGS_ATM_CURRENT': 'float32',\n",
       "  'CNT_DRAWINGS_CURRENT': 'uint8',\n",
       "  'CNT_DRAWINGS_OTHER_CURRENT': 'float32',\n",
       "  'CNT_DRAWINGS_POS_CURRENT': 'float32',\n",
       "  'CNT_INSTALMENT_MATURE_CUM': 'float32',\n",
       "  'NAME_CONTRACT_STATUS': 'category',\n",
       "  'SK_DPD': 'int16',\n",
       "  'SK_DPD_DEF': 'int16'},\n",
       " 'installments_payments.csv': {'SK_ID_PREV': 'int32',\n",
       "  'SK_ID_CURR': 'int32',\n",
       "  'NUM_INSTALMENT_VERSION': 'uint8',\n",
       "  'NUM_INSTALMENT_NUMBER': 'int16',\n",
       "  'DAYS_INSTALMENT': 'int16',\n",
       "  'DAYS_ENTRY_PAYMENT': 'float32',\n",
       "  'AMT_INSTALMENT': 'float64',\n",
       "  'AMT_PAYMENT': 'float64'},\n",
       " 'POS_CASH_balance.csv': {'SK_ID_PREV': 'int32',\n",
       "  'SK_ID_CURR': 'int32',\n",
       "  'MONTHS_BALANCE': 'int8',\n",
       "  'CNT_INSTALMENT': 'float32',\n",
       "  'CNT_INSTALMENT_FUTURE': 'float32',\n",
       "  'NAME_CONTRACT_STATUS': 'category',\n",
       "  'SK_DPD': 'int16',\n",
       "  'SK_DPD_DEF': 'int16'},\n",
       " 'previous_application.csv': {'SK_ID_PREV': 'int32',\n",
       "  'SK_ID_CURR': 'int32',\n",
       "  'NAME_CONTRACT_TYPE': 'category',\n",
       "  'AMT_ANNUITY': 'float64',\n",
       "  'AMT_APPLICATION': 'float64',\n",
       "  'AMT_CREDIT': 'float64',\n",
       "  'AMT_DOWN_PAYMENT': 'float64',\n",
       "  'AMT_GOODS_PRICE': 'float64',\n",
       "  'WEEKDAY_APPR_PROCESS_START': 'category',\n",
       "  'HOUR_APPR_PROCESS_START': 'int8',\n",
       "  'FLAG_LAST_APPL_PER_CONTRACT': 'category',\n",
       "  'NFLAG_LAST_APPL_IN_DAY': 'int8',\n",
       "  'RATE_DOWN_PAYMENT': 'float32',\n",
       "  'RATE_INTEREST_PRIMARY': 'float32',\n",
       "  'RATE_INTEREST_PRIVILEGED': 'float32',\n",
       "  'NAME_CASH_LOAN_PURPOSE': 'category',\n",
       "  'NAME_CONTRACT_STATUS': 'category',\n",
       "  'DAYS_DECISION': 'int16',\n",
       "  'NAME_PAYMENT_TYPE': 'category',\n",
       "  'CODE_REJECT_REASON': 'category',\n",
       "  'NAME_TYPE_SUITE': 'category',\n",
       "  'NAME_CLIENT_TYPE': 'category',\n",
       "  'NAME_GOODS_CATEGORY': 'category',\n",
       "  'NAME_PORTFOLIO': 'category',\n",
       "  'NAME_PRODUCT_TYPE': 'category',\n",
       "  'CHANNEL_TYPE': 'category',\n",
       "  'SELLERPLACE_AREA': 'int32',\n",
       "  'NAME_SELLER_INDUSTRY': 'category',\n",
       "  'CNT_PAYMENT': 'float32',\n",
       "  'NAME_YIELD_GROUP': 'category',\n",
       "  'PRODUCT_COMBINATION': 'category',\n",
       "  'DAYS_FIRST_DRAWING': 'float32',\n",
       "  'DAYS_FIRST_DUE': 'float32',\n",
       "  'DAYS_LAST_DUE_1ST_VERSION': 'float32',\n",
       "  'DAYS_LAST_DUE': 'float32',\n",
       "  'DAYS_TERMINATION': 'float32',\n",
       "  'NFLAG_INSURED_ON_APPROVAL': 'float32'}}"
      ]
     },
     "execution_count": 16,
     "metadata": {},
     "output_type": "execute_result"
    }
   ],
   "source": [
    "lowMemTypesDict"
   ]
  },
  {
   "cell_type": "code",
   "execution_count": 17,
   "id": "d6e95bb9",
   "metadata": {},
   "outputs": [],
   "source": [
    "# dictionnary for categorical columns nan values\n",
    "\n",
    "\n",
    "catNanValuesDict = {\n",
    "                    csvName : {\n",
    "                                col : nanLst for col,nanLst in zip(\n",
    "                                    \n",
    "                                    proColDescripDf.loc[\n",
    "                                        (\n",
    "                                            (proColDescripDf[\"Table\"]==csvName)&\n",
    "                                            (proColDescripDf[\"otherNanValues\"].notna())&\n",
    "                                            (proColDescripDf[\"otherNanValues\"]!=365243)\n",
    "                                    ),\n",
    "                                        \"Row\"].values.tolist(),\n",
    "                                    \n",
    "                                    proColDescripDf.loc[(\n",
    "                                            (proColDescripDf[\"Table\"]==csvName)&\n",
    "                                            (proColDescripDf[\"otherNanValues\"].notna())&\n",
    "                                            (proColDescripDf[\"otherNanValues\"]!=365243)\n",
    "                                    ),\n",
    "                                        \"otherNanValues\"].values.tolist()\n",
    "                                )\n",
    "                    }\n",
    "    for csvName in realRawCsvNames\n",
    "}\n",
    "\n"
   ]
  },
  {
   "cell_type": "code",
   "execution_count": 18,
   "id": "60e7b0cf",
   "metadata": {},
   "outputs": [
    {
     "data": {
      "text/plain": [
       "{'application_train.csv': {'CODE_GENDER': ['XNA'],\n",
       "  'NAME_FAMILY_STATUS': ['Unknown'],\n",
       "  'ORGANIZATION_TYPE': ['XNA'],\n",
       "  'FONDKAPREMONT_MODE': ['not specified']},\n",
       " 'bureau.csv': {'CREDIT_TYPE': ['Unknown type of loan']},\n",
       " 'bureau_balance.csv': {'STATUS': ['X']},\n",
       " 'credit_card_balance.csv': {},\n",
       " 'installments_payments.csv': {},\n",
       " 'POS_CASH_balance.csv': {'NAME_CONTRACT_STATUS': ['XNA']},\n",
       " 'previous_application.csv': {'NAME_CONTRACT_TYPE': ['XNA'],\n",
       "  'NAME_CASH_LOAN_PURPOSE': ['XNA', 'XAP'],\n",
       "  'NAME_PAYMENT_TYPE': ['XNA'],\n",
       "  'CODE_REJECT_REASON': ['XNA', 'XAP'],\n",
       "  'NAME_CLIENT_TYPE': ['XNA'],\n",
       "  'NAME_GOODS_CATEGORY': ['XNA'],\n",
       "  'NAME_PORTFOLIO': ['XNA'],\n",
       "  'NAME_PRODUCT_TYPE': ['XNA'],\n",
       "  'NAME_SELLER_INDUSTRY': ['XNA'],\n",
       "  'NAME_YIELD_GROUP': ['XNA']}}"
      ]
     },
     "execution_count": 18,
     "metadata": {},
     "output_type": "execute_result"
    }
   ],
   "source": [
    "catNanValuesDict"
   ]
  },
  {
   "cell_type": "code",
   "execution_count": 19,
   "id": "3f588aad",
   "metadata": {},
   "outputs": [],
   "source": [
    "# dictionnary for numerical columns nan values\n",
    "\n",
    "\n",
    "numNanValuesDict = {\n",
    "                    csvName : {\n",
    "                                col : nanLst for col,nanLst in zip(\n",
    "                                    \n",
    "                                    proColDescripDf.loc[\n",
    "                                        (\n",
    "                                            (proColDescripDf[\"Table\"]==csvName)&\n",
    "                                            (proColDescripDf[\"otherNanValues\"]==365243)\n",
    "                                    ),\n",
    "                                        \"Row\"].values.tolist(),\n",
    "                                    \n",
    "                                    proColDescripDf.loc[(\n",
    "                                            (proColDescripDf[\"Table\"]==csvName)&\n",
    "                                            (proColDescripDf[\"otherNanValues\"]==365243)\n",
    "                                    ),\n",
    "                                        \"otherNanValues\"].values.tolist()\n",
    "                                )\n",
    "                    }\n",
    "    for csvName in realRawCsvNames\n",
    "}\n",
    "\n"
   ]
  },
  {
   "cell_type": "code",
   "execution_count": 20,
   "id": "419d9cd2",
   "metadata": {},
   "outputs": [
    {
     "data": {
      "text/plain": [
       "{'application_train.csv': {'DAYS_EMPLOYED': 365243},\n",
       " 'bureau.csv': {},\n",
       " 'bureau_balance.csv': {},\n",
       " 'credit_card_balance.csv': {},\n",
       " 'installments_payments.csv': {},\n",
       " 'POS_CASH_balance.csv': {},\n",
       " 'previous_application.csv': {'DAYS_FIRST_DRAWING': 365243,\n",
       "  'DAYS_FIRST_DUE': 365243,\n",
       "  'DAYS_LAST_DUE_1ST_VERSION': 365243,\n",
       "  'DAYS_LAST_DUE': 365243,\n",
       "  'DAYS_TERMINATION': 365243}}"
      ]
     },
     "execution_count": 20,
     "metadata": {},
     "output_type": "execute_result"
    }
   ],
   "source": [
    "numNanValuesDict"
   ]
  },
  {
   "cell_type": "code",
   "execution_count": 21,
   "id": "6d9a4f95",
   "metadata": {},
   "outputs": [],
   "source": [
    "# dictionnary for bin columns\n",
    "\n",
    "booleanDict = {\n",
    "                csvName : {\n",
    "                            col : colVals for col,colVals in zip(\n",
    "                                \n",
    "                                proColDescripDf.loc[\n",
    "                                    (\n",
    "                                        (proColDescripDf[\"Table\"]==csvName)&\n",
    "                                        (proColDescripDf[\"bin\"]==True)\n",
    "                                    ),\n",
    "                                    \"Row\"\n",
    "                                ].values.tolist() \n",
    "                                ,\n",
    "                                proColDescripDf.loc[\n",
    "                                    (\n",
    "                                        (proColDescripDf[\"Table\"]==csvName)&\n",
    "                                        (proColDescripDf[\"bin\"]==True)\n",
    "                                    ),\n",
    "                                    \"binValues\"\n",
    "                                ].values.tolist()\n",
    "                            )\n",
    "                }\n",
    "\n",
    "               for csvName in realRawCsvNames}"
   ]
  },
  {
   "cell_type": "code",
   "execution_count": 22,
   "id": "39fcdbaf",
   "metadata": {},
   "outputs": [
    {
     "data": {
      "text/plain": [
       "{'application_train.csv': {'NAME_CONTRACT_TYPE': ['Cash loans',\n",
       "   'Revolving loans'],\n",
       "  'CODE_GENDER': ['M', 'F'],\n",
       "  'FLAG_OWN_CAR': ['N', 'Y'],\n",
       "  'FLAG_OWN_REALTY': ['Y', 'N'],\n",
       "  'EMERGENCYSTATE_MODE': ['No', 'Yes']},\n",
       " 'bureau.csv': {},\n",
       " 'bureau_balance.csv': {},\n",
       " 'credit_card_balance.csv': {},\n",
       " 'installments_payments.csv': {},\n",
       " 'POS_CASH_balance.csv': {},\n",
       " 'previous_application.csv': {'FLAG_LAST_APPL_PER_CONTRACT': ['Y', 'N'],\n",
       "  'NAME_PRODUCT_TYPE': ['x-sell', 'walk-in']}}"
      ]
     },
     "execution_count": 22,
     "metadata": {},
     "output_type": "execute_result"
    }
   ],
   "source": [
    "booleanDict"
   ]
  },
  {
   "cell_type": "markdown",
   "id": "89fa5e0d",
   "metadata": {},
   "source": [
    "On peut maintenant attribuer les numéros 0 et 1 à ces valeurs :"
   ]
  },
  {
   "cell_type": "code",
   "execution_count": 23,
   "id": "e34712ac",
   "metadata": {},
   "outputs": [],
   "source": [
    "booleanEncodeDict = {\n",
    "    'Cash loans':1,'Revolving loans':0,\n",
    "    'F':1,'M':0,\n",
    "    'Y':1,'N':0,\n",
    "    'Yes':1,'No':0,\n",
    "    'walk-in':1,'x-sell':0\n",
    "}"
   ]
  },
  {
   "cell_type": "markdown",
   "id": "dd73a318",
   "metadata": {},
   "source": [
    "## Meilleurs dtypes - exemples"
   ]
  },
  {
   "cell_type": "code",
   "execution_count": 24,
   "id": "2ed2e468",
   "metadata": {},
   "outputs": [
    {
     "name": "stdout",
     "output_type": "stream",
     "text": [
      "AMT_INCOME_TOTAL\n",
      "dtype :  float64\n",
      "NaN rate :  0.0\n",
      ">0\n",
      "---------\n",
      "raw :  2460252  bytes (with  float64 )\n",
      "signed :  2460252  bytes (with  float64 )\n",
      "unsigned :  2460252  bytes (with  float64 )\n",
      "float :  2460252  bytes (with  float64 )\n"
     ]
    },
    {
     "data": {
      "text/plain": [
       "dtype('float64')"
      ]
     },
     "execution_count": 24,
     "metadata": {},
     "output_type": "execute_result"
    }
   ],
   "source": [
    "testDtypes (\"AMT_INCOME_TOTAL\",rawAppliDf)\n",
    "bestDtype (\"AMT_INCOME_TOTAL\",rawAppliDf)"
   ]
  },
  {
   "cell_type": "code",
   "execution_count": 25,
   "id": "fe6b71a4",
   "metadata": {},
   "outputs": [
    {
     "name": "stdout",
     "output_type": "stream",
     "text": [
      "FLAG_MOBIL\n",
      "dtype :  int64\n",
      "NaN rate :  0.0\n",
      ">0\n",
      "---------\n",
      "raw :  2460252  bytes (with  int64 )\n",
      "integer :  307675  bytes (with  int8 )\n",
      "signed :  307675  bytes (with  int8 )\n",
      "unsigned :  307675  bytes (with  uint8 )\n",
      "float :  1230208  bytes (with  float32 )\n"
     ]
    },
    {
     "data": {
      "text/plain": [
       "dtype('int8')"
      ]
     },
     "execution_count": 25,
     "metadata": {},
     "output_type": "execute_result"
    }
   ],
   "source": [
    "testDtypes (\"FLAG_MOBIL\",rawAppliDf)\n",
    "bestDtype (\"FLAG_MOBIL\",rawAppliDf)"
   ]
  },
  {
   "cell_type": "code",
   "execution_count": 26,
   "id": "3408b293",
   "metadata": {},
   "outputs": [
    {
     "name": "stdout",
     "output_type": "stream",
     "text": [
      "FLAG_OWN_CAR\n",
      "dtype :  object\n",
      "NaN rate :  0.0\n",
      "---------\n",
      "raw :  17835802  bytes (with  object  )\n",
      "Cat :  307899  bytes (with category)\n"
     ]
    },
    {
     "data": {
      "text/plain": [
       "'category'"
      ]
     },
     "execution_count": 26,
     "metadata": {},
     "output_type": "execute_result"
    }
   ],
   "source": [
    "testDtypes (\"FLAG_OWN_CAR\",rawAppliDf)\n",
    "bestDtype (\"FLAG_OWN_CAR\",rawAppliDf)"
   ]
  },
  {
   "cell_type": "code",
   "execution_count": 27,
   "id": "3f37e66e",
   "metadata": {},
   "outputs": [
    {
     "name": "stdout",
     "output_type": "stream",
     "text": [
      "FLAG_OWN_CAR\n",
      "dtype :  int64\n",
      "NaN rate :  0.0\n",
      ">0\n",
      "---------\n",
      "raw :  2460252  bytes (with  int64 )\n",
      "integer :  307675  bytes (with  int8 )\n",
      "signed :  307675  bytes (with  int8 )\n",
      "unsigned :  307675  bytes (with  uint8 )\n",
      "float :  1230208  bytes (with  float32 )\n"
     ]
    },
    {
     "data": {
      "text/plain": [
       "dtype('int8')"
      ]
     },
     "execution_count": 27,
     "metadata": {},
     "output_type": "execute_result"
    }
   ],
   "source": [
    "testDtypes (\"FLAG_OWN_CAR\",rawAppliDf[[\"FLAG_OWN_CAR\"]].applymap(lambda x : 0 if x==\"N\" else 1))\n",
    "bestDtype (\"FLAG_OWN_CAR\",rawAppliDf[[\"FLAG_OWN_CAR\"]].applymap(lambda x : 0 if x==\"N\" else 1))"
   ]
  },
  {
   "cell_type": "code",
   "execution_count": 28,
   "id": "50728237",
   "metadata": {},
   "outputs": [
    {
     "name": "stdout",
     "output_type": "stream",
     "text": [
      "DEF_60_CNT_SOCIAL_CIRCLE\n",
      "dtype :  float64\n",
      "NaN rate :  0.0033202064316398437\n",
      ">0\n",
      "---------\n",
      "raw :  2460252  bytes (with  float64 )\n",
      "signed :  2460252  bytes (with  float64 )\n",
      "unsigned :  2460252  bytes (with  float64 )\n",
      "float :  1230208  bytes (with  float32 )\n"
     ]
    },
    {
     "data": {
      "text/plain": [
       "dtype('float32')"
      ]
     },
     "execution_count": 28,
     "metadata": {},
     "output_type": "execute_result"
    }
   ],
   "source": [
    "testDtypes (\"DEF_60_CNT_SOCIAL_CIRCLE\",rawAppliDf)\n",
    "bestDtype (\"DEF_60_CNT_SOCIAL_CIRCLE\",rawAppliDf)"
   ]
  },
  {
   "cell_type": "code",
   "execution_count": 29,
   "id": "ac936d5a",
   "metadata": {},
   "outputs": [
    {
     "name": "stdout",
     "output_type": "stream",
     "text": [
      "DAYS_REGISTRATION\n",
      "dtype :  float64\n",
      "NaN rate :  0.0\n",
      ">0\n",
      "---------\n",
      "raw :  2460252  bytes (with  float64 )\n",
      "signed :  2460252  bytes (with  float64 )\n",
      "unsigned :  2460252  bytes (with  float64 )\n",
      "float :  1230208  bytes (with  float32 )\n"
     ]
    },
    {
     "data": {
      "text/plain": [
       "dtype('float32')"
      ]
     },
     "execution_count": 29,
     "metadata": {},
     "output_type": "execute_result"
    }
   ],
   "source": [
    "testDtypes (\"DAYS_REGISTRATION\",rawAppliDf)\n",
    "bestDtype (\"DAYS_REGISTRATION\",rawAppliDf)"
   ]
  },
  {
   "cell_type": "code",
   "execution_count": 30,
   "id": "a3b33f44",
   "metadata": {},
   "outputs": [
    {
     "name": "stdout",
     "output_type": "stream",
     "text": [
      "CODE_GENDER\n",
      "dtype :  object\n",
      "NaN rate :  0.0\n",
      "---------\n",
      "raw :  17835810  bytes (with  object  )\n",
      "Cat :  307959  bytes (with category)\n"
     ]
    },
    {
     "data": {
      "text/plain": [
       "'category'"
      ]
     },
     "execution_count": 30,
     "metadata": {},
     "output_type": "execute_result"
    }
   ],
   "source": [
    "testDtypes (\"CODE_GENDER\",rawAppliDf)\n",
    "bestDtype (\"CODE_GENDER\",rawAppliDf)"
   ]
  },
  {
   "cell_type": "code",
   "execution_count": 31,
   "id": "457da4b3",
   "metadata": {},
   "outputs": [
    {
     "name": "stdout",
     "output_type": "stream",
     "text": [
      "HOUSETYPE_MODE\n",
      "dtype :  object\n",
      "NaN rate :  0.50176091261776\n",
      "---------\n",
      "raw :  15818860  bytes (with  object  )\n",
      "Cat :  307998  bytes (with category)\n"
     ]
    },
    {
     "data": {
      "text/plain": [
       "'category'"
      ]
     },
     "execution_count": 31,
     "metadata": {},
     "output_type": "execute_result"
    }
   ],
   "source": [
    "testDtypes (\"HOUSETYPE_MODE\",rawAppliDf)\n",
    "bestDtype (\"CODE_GENDER\",rawAppliDf)"
   ]
  },
  {
   "cell_type": "code",
   "execution_count": 32,
   "id": "496e0c1f",
   "metadata": {},
   "outputs": [
    {
     "data": {
      "text/plain": [
       "bestType\n",
       "float32     83\n",
       "int8        43\n",
       "category    38\n",
       "float64     25\n",
       "int32       16\n",
       "int16       11\n",
       "uint8        2\n",
       "Name: count, dtype: int64"
      ]
     },
     "execution_count": 32,
     "metadata": {},
     "output_type": "execute_result"
    }
   ],
   "source": [
    "proColDescripDf.bestType.value_counts()"
   ]
  },
  {
   "cell_type": "markdown",
   "id": "e8c3c418",
   "metadata": {},
   "source": [
    "## `rawAppliDf`"
   ]
  },
  {
   "cell_type": "markdown",
   "id": "68e49f0f",
   "metadata": {},
   "source": [
    "## `rawBurDf`"
   ]
  },
  {
   "cell_type": "markdown",
   "id": "88d05965",
   "metadata": {},
   "source": [
    "## `rawBurBalDf`"
   ]
  },
  {
   "cell_type": "markdown",
   "id": "9fec3101",
   "metadata": {},
   "source": [
    "## `rawCcBalDf`"
   ]
  },
  {
   "cell_type": "markdown",
   "id": "d37ba3ce",
   "metadata": {},
   "source": [
    "## `rawInstalPaymDf`"
   ]
  },
  {
   "cell_type": "markdown",
   "id": "85097945",
   "metadata": {},
   "source": [
    "## `rawPosDf`"
   ]
  },
  {
   "cell_type": "markdown",
   "id": "68375684",
   "metadata": {},
   "source": [
    "## `rawPrevAppDf`"
   ]
  },
  {
   "cell_type": "markdown",
   "id": "6e168d0f",
   "metadata": {},
   "source": [
    "## Imports optimisés des datasets"
   ]
  },
  {
   "cell_type": "code",
   "execution_count": 33,
   "id": "47bf9af3",
   "metadata": {},
   "outputs": [],
   "source": [
    "if not os.path.isdir(\"myCSVs\") :\n",
    "    os.mkdir(\"myCSVs\")\n",
    "if not os.path.isdir(\"myCSVs/processed\") :\n",
    "    os.mkdir(\"myCSVs/processed\")\n",
    "if not os.path.isdir(\"myCSVs/processed/lowMem\") :\n",
    "    os.mkdir(\"myCSVs/processed/lowMem\")"
   ]
  },
  {
   "cell_type": "code",
   "execution_count": 34,
   "id": "38c78049",
   "metadata": {},
   "outputs": [],
   "source": [
    "lowMemDfNames=[ # create a list of the dataframes based on \"real\" datasets\n",
    "    \"lowMemAppliDf\",\n",
    "    \"lowMemBurDf\",\n",
    "    \"lowMemBurBalDf\",\n",
    "    \"lowMemCcBalDf\",\n",
    "    \"lowMemInstalPaymDf\",\n",
    "    \"lowMemPosDf\",\n",
    "    \"lowMemPrevAppDf\"\n",
    "]"
   ]
  },
  {
   "cell_type": "code",
   "execution_count": 35,
   "id": "29fe0c48",
   "metadata": {},
   "outputs": [],
   "source": [
    "def importsEnhanced(\n",
    "    dfName,\n",
    "    csvName,\n",
    "    dtypes=lowMemTypesDict,\n",
    "    catNans=catNanValuesDict,\n",
    "    numNans=numNanValuesDict,\n",
    "    boolCols=booleanDict,\n",
    "    boolEncodeKeys=booleanEncodeDict\n",
    ") :\n",
    "\n",
    "    df=pd.read_csv(\n",
    "        \"Projet+Mise+en+prod+-+home-credit-default-risk/\"+csvName,\n",
    "        encoding_errors=\"ignore\",\n",
    "        dtype=dtypes[csvName],\n",
    "        na_values=catNans[csvName]\n",
    "                   )\n",
    "\n",
    "    for colName in numNans[csvName].keys() :\n",
    "        df[colName]=df[colName].replace(numNans[csvName][colName],np.nan)\n",
    "        df[colName]=df[colName].astype(bestDtype(colName,df))\n",
    "\n",
    "    for colName in boolCols[csvName].keys() :\n",
    "        df[colName]=pd.to_numeric(df[colName].apply(lambda x : boolEncodeKeys[x]))\n",
    "        df[colName]=df[colName].astype(bestDtype(colName,df))\n",
    "        \n",
    "    return df"
   ]
  },
  {
   "cell_type": "code",
   "execution_count": 41,
   "id": "19c22f16",
   "metadata": {},
   "outputs": [
    {
     "name": "stdout",
     "output_type": "stream",
     "text": [
      "CPU times: total: 2min 2s\n",
      "Wall time: 2min 43s\n"
     ]
    }
   ],
   "source": [
    "%%time\n",
    "enhancedDfDict={}\n",
    "for dfName,csvName in zip(lowMemDfNames,realRawCsvNames) :\n",
    "    \n",
    "    if dfName+\".csv\" in os.listdir(\"myCSVs/processed/lowMem\") :\n",
    "        df=pd.read_csv(\"myCSVs/processed/lowMem/\"+dfName+\".csv\",index_col=0)\n",
    "        df=df.astype({col : bestDtype(col,df) for col in df.columns})\n",
    "        vars()[dfName]=enhancedDfDict[dfName]=df\n",
    "        del df\n",
    "\n",
    "    else :\n",
    "        vars()[dfName]=enhancedDfDict[dfName]=importsEnhanced(dfName,csvName)\n",
    "        vars()[dfName].to_csv(\"myCSVs/processed/lowMem/\"+dfName+\".csv\")"
   ]
  },
  {
   "cell_type": "markdown",
   "id": "37929e63",
   "metadata": {},
   "source": [
    "Nous pouvons comparer l'espace mémoire :"
   ]
  },
  {
   "cell_type": "code",
   "execution_count": 52,
   "id": "6291eb6f",
   "metadata": {},
   "outputs": [],
   "source": [
    "if not os.path.isdir(\"myCSVs/processed/memorySizes\") :\n",
    "    os.mkdir(\"myCSVs/processed/memorySizes\")\n",
    "\n",
    "if \"memorySizesRawVSEnhanced.csv\" in os.listdir(\"myCSVs/processed/memorySizes\") :\n",
    "    memorySizesRawVSEnhanced=pd.read_csv(\"myCSVs/processed/memorySizes/memorySizesRawVSEnhanced.csv\",index_col=0)\n",
    "else :\n",
    "    memorySizesRawVSEnhanced = pd.DataFrame()\n",
    "\n",
    "    memorySizesRawVSEnhanced.index=realRawCsvNames\n",
    "\n",
    "    memorySizesRawVSEnhanced[\"rawImports\"]=[sys.getsizeof(rawDfDict[dfName]) for dfName in realRawDfNames]\n",
    "    memorySizesRawVSEnhanced[\"enhancedImports\"]=[sys.getsizeof(enhancedDfDict[dfName]) for dfName in lowMemDfNames]\n",
    "\n",
    "    memorySizesRawVSEnhanced[\"difference\"]=\\\n",
    "    ((memorySizesRawVSEnhanced[\"enhancedImports\"]/memorySizesRawVSEnhanced[\"rawImports\"]-1)*100).astype(int).astype(str)+\" %\"\n",
    "\n",
    "    memorySizesRawVSEnhanced.to_csv(\"myCSVs/processed/memorySizes/memorySizesRawVSEnhanced.csv\")"
   ]
  },
  {
   "cell_type": "code",
   "execution_count": 53,
   "id": "51a06c6a",
   "metadata": {},
   "outputs": [
    {
     "data": {
      "text/html": [
       "<div>\n",
       "<style scoped>\n",
       "    .dataframe tbody tr th:only-of-type {\n",
       "        vertical-align: middle;\n",
       "    }\n",
       "\n",
       "    .dataframe tbody tr th {\n",
       "        vertical-align: top;\n",
       "    }\n",
       "\n",
       "    .dataframe thead th {\n",
       "        text-align: right;\n",
       "    }\n",
       "</style>\n",
       "<table border=\"1\" class=\"dataframe\">\n",
       "  <thead>\n",
       "    <tr style=\"text-align: right;\">\n",
       "      <th></th>\n",
       "      <th>rawImports</th>\n",
       "      <th>enhancedImports</th>\n",
       "      <th>difference</th>\n",
       "    </tr>\n",
       "  </thead>\n",
       "  <tbody>\n",
       "    <tr>\n",
       "      <th>application_train.csv</th>\n",
       "      <td>562761965</td>\n",
       "      <td>105489612</td>\n",
       "      <td>-81 %</td>\n",
       "    </tr>\n",
       "    <tr>\n",
       "      <th>bureau.csv</th>\n",
       "      <td>536987086</td>\n",
       "      <td>144182495</td>\n",
       "      <td>-73 %</td>\n",
       "    </tr>\n",
       "    <tr>\n",
       "      <th>bureau_balance.csv</th>\n",
       "      <td>2020194614</td>\n",
       "      <td>382199688</td>\n",
       "      <td>-81 %</td>\n",
       "    </tr>\n",
       "    <tr>\n",
       "      <th>credit_card_balance.csv</th>\n",
       "      <td>918225104</td>\n",
       "      <td>48974088</td>\n",
       "      <td>-94 %</td>\n",
       "    </tr>\n",
       "    <tr>\n",
       "      <th>installments_payments.csv</th>\n",
       "      <td>870745828</td>\n",
       "      <td>557821473</td>\n",
       "      <td>-35 %</td>\n",
       "    </tr>\n",
       "    <tr>\n",
       "      <th>POS_CASH_balance.csv</th>\n",
       "      <td>1192493276</td>\n",
       "      <td>300041606</td>\n",
       "      <td>-74 %</td>\n",
       "    </tr>\n",
       "    <tr>\n",
       "      <th>previous_application.csv</th>\n",
       "      <td>1992956783</td>\n",
       "      <td>205449783</td>\n",
       "      <td>-89 %</td>\n",
       "    </tr>\n",
       "  </tbody>\n",
       "</table>\n",
       "</div>"
      ],
      "text/plain": [
       "                           rawImports  enhancedImports difference\n",
       "application_train.csv       562761965        105489612      -81 %\n",
       "bureau.csv                  536987086        144182495      -73 %\n",
       "bureau_balance.csv         2020194614        382199688      -81 %\n",
       "credit_card_balance.csv     918225104         48974088      -94 %\n",
       "installments_payments.csv   870745828        557821473      -35 %\n",
       "POS_CASH_balance.csv       1192493276        300041606      -74 %\n",
       "previous_application.csv   1992956783        205449783      -89 %"
      ]
     },
     "execution_count": 53,
     "metadata": {},
     "output_type": "execute_result"
    }
   ],
   "source": [
    "memorySizesRawVSEnhanced"
   ]
  },
  {
   "cell_type": "code",
   "execution_count": 43,
   "id": "1c42bf08",
   "metadata": {},
   "outputs": [
    {
     "data": {
      "application/vnd.jupyter.widget-view+json": {
       "model_id": "43d4f5a521024289bc1a399dd23184e2",
       "version_major": 2,
       "version_minor": 0
      },
      "text/plain": [
       "Dropdown(description='Which dataframe :', options=('lowMemAppliDf', 'lowMemBurDf', 'lowMemBurBalDf', 'lowMemCc…"
      ]
     },
     "metadata": {},
     "output_type": "display_data"
    },
    {
     "data": {
      "application/vnd.jupyter.widget-view+json": {
       "model_id": "0e5730ab7a8946758b14aff0bcefad3c",
       "version_major": 2,
       "version_minor": 0
      },
      "text/plain": [
       "Output()"
      ]
     },
     "metadata": {},
     "output_type": "display_data"
    }
   ],
   "source": [
    "myDescribe(enhancedDfDict)"
   ]
  },
  {
   "cell_type": "code",
   "execution_count": 42,
   "id": "f4c8074a",
   "metadata": {},
   "outputs": [
    {
     "data": {
      "text/html": [
       "<div>\n",
       "<style scoped>\n",
       "    .dataframe tbody tr th:only-of-type {\n",
       "        vertical-align: middle;\n",
       "    }\n",
       "\n",
       "    .dataframe tbody tr th {\n",
       "        vertical-align: top;\n",
       "    }\n",
       "\n",
       "    .dataframe thead th {\n",
       "        text-align: right;\n",
       "    }\n",
       "</style>\n",
       "<table border=\"1\" class=\"dataframe\">\n",
       "  <thead>\n",
       "    <tr style=\"text-align: right;\">\n",
       "      <th></th>\n",
       "      <th>SK_ID_CURR</th>\n",
       "      <th>TARGET</th>\n",
       "      <th>NAME_CONTRACT_TYPE</th>\n",
       "      <th>CODE_GENDER</th>\n",
       "      <th>FLAG_OWN_CAR</th>\n",
       "      <th>FLAG_OWN_REALTY</th>\n",
       "      <th>CNT_CHILDREN</th>\n",
       "      <th>AMT_INCOME_TOTAL</th>\n",
       "      <th>AMT_CREDIT</th>\n",
       "      <th>AMT_ANNUITY</th>\n",
       "      <th>...</th>\n",
       "      <th>FLAG_DOCUMENT_18</th>\n",
       "      <th>FLAG_DOCUMENT_19</th>\n",
       "      <th>FLAG_DOCUMENT_20</th>\n",
       "      <th>FLAG_DOCUMENT_21</th>\n",
       "      <th>AMT_REQ_CREDIT_BUREAU_HOUR</th>\n",
       "      <th>AMT_REQ_CREDIT_BUREAU_DAY</th>\n",
       "      <th>AMT_REQ_CREDIT_BUREAU_WEEK</th>\n",
       "      <th>AMT_REQ_CREDIT_BUREAU_MON</th>\n",
       "      <th>AMT_REQ_CREDIT_BUREAU_QRT</th>\n",
       "      <th>AMT_REQ_CREDIT_BUREAU_YEAR</th>\n",
       "    </tr>\n",
       "  </thead>\n",
       "  <tbody>\n",
       "    <tr>\n",
       "      <th>0</th>\n",
       "      <td>100002</td>\n",
       "      <td>1</td>\n",
       "      <td>1</td>\n",
       "      <td>0.0</td>\n",
       "      <td>0</td>\n",
       "      <td>1</td>\n",
       "      <td>0</td>\n",
       "      <td>202500.0</td>\n",
       "      <td>406597.5</td>\n",
       "      <td>24700.5</td>\n",
       "      <td>...</td>\n",
       "      <td>0</td>\n",
       "      <td>0</td>\n",
       "      <td>0</td>\n",
       "      <td>0</td>\n",
       "      <td>0.0</td>\n",
       "      <td>0.0</td>\n",
       "      <td>0.0</td>\n",
       "      <td>0.0</td>\n",
       "      <td>0.0</td>\n",
       "      <td>1.0</td>\n",
       "    </tr>\n",
       "    <tr>\n",
       "      <th>1</th>\n",
       "      <td>100003</td>\n",
       "      <td>0</td>\n",
       "      <td>1</td>\n",
       "      <td>1.0</td>\n",
       "      <td>0</td>\n",
       "      <td>0</td>\n",
       "      <td>0</td>\n",
       "      <td>270000.0</td>\n",
       "      <td>1293502.5</td>\n",
       "      <td>35698.5</td>\n",
       "      <td>...</td>\n",
       "      <td>0</td>\n",
       "      <td>0</td>\n",
       "      <td>0</td>\n",
       "      <td>0</td>\n",
       "      <td>0.0</td>\n",
       "      <td>0.0</td>\n",
       "      <td>0.0</td>\n",
       "      <td>0.0</td>\n",
       "      <td>0.0</td>\n",
       "      <td>0.0</td>\n",
       "    </tr>\n",
       "    <tr>\n",
       "      <th>2</th>\n",
       "      <td>100004</td>\n",
       "      <td>0</td>\n",
       "      <td>0</td>\n",
       "      <td>0.0</td>\n",
       "      <td>1</td>\n",
       "      <td>1</td>\n",
       "      <td>0</td>\n",
       "      <td>67500.0</td>\n",
       "      <td>135000.0</td>\n",
       "      <td>6750.0</td>\n",
       "      <td>...</td>\n",
       "      <td>0</td>\n",
       "      <td>0</td>\n",
       "      <td>0</td>\n",
       "      <td>0</td>\n",
       "      <td>0.0</td>\n",
       "      <td>0.0</td>\n",
       "      <td>0.0</td>\n",
       "      <td>0.0</td>\n",
       "      <td>0.0</td>\n",
       "      <td>0.0</td>\n",
       "    </tr>\n",
       "    <tr>\n",
       "      <th>3</th>\n",
       "      <td>100006</td>\n",
       "      <td>0</td>\n",
       "      <td>1</td>\n",
       "      <td>1.0</td>\n",
       "      <td>0</td>\n",
       "      <td>1</td>\n",
       "      <td>0</td>\n",
       "      <td>135000.0</td>\n",
       "      <td>312682.5</td>\n",
       "      <td>29686.5</td>\n",
       "      <td>...</td>\n",
       "      <td>0</td>\n",
       "      <td>0</td>\n",
       "      <td>0</td>\n",
       "      <td>0</td>\n",
       "      <td>NaN</td>\n",
       "      <td>NaN</td>\n",
       "      <td>NaN</td>\n",
       "      <td>NaN</td>\n",
       "      <td>NaN</td>\n",
       "      <td>NaN</td>\n",
       "    </tr>\n",
       "    <tr>\n",
       "      <th>4</th>\n",
       "      <td>100007</td>\n",
       "      <td>0</td>\n",
       "      <td>1</td>\n",
       "      <td>0.0</td>\n",
       "      <td>0</td>\n",
       "      <td>1</td>\n",
       "      <td>0</td>\n",
       "      <td>121500.0</td>\n",
       "      <td>513000.0</td>\n",
       "      <td>21865.5</td>\n",
       "      <td>...</td>\n",
       "      <td>0</td>\n",
       "      <td>0</td>\n",
       "      <td>0</td>\n",
       "      <td>0</td>\n",
       "      <td>0.0</td>\n",
       "      <td>0.0</td>\n",
       "      <td>0.0</td>\n",
       "      <td>0.0</td>\n",
       "      <td>0.0</td>\n",
       "      <td>0.0</td>\n",
       "    </tr>\n",
       "    <tr>\n",
       "      <th>...</th>\n",
       "      <td>...</td>\n",
       "      <td>...</td>\n",
       "      <td>...</td>\n",
       "      <td>...</td>\n",
       "      <td>...</td>\n",
       "      <td>...</td>\n",
       "      <td>...</td>\n",
       "      <td>...</td>\n",
       "      <td>...</td>\n",
       "      <td>...</td>\n",
       "      <td>...</td>\n",
       "      <td>...</td>\n",
       "      <td>...</td>\n",
       "      <td>...</td>\n",
       "      <td>...</td>\n",
       "      <td>...</td>\n",
       "      <td>...</td>\n",
       "      <td>...</td>\n",
       "      <td>...</td>\n",
       "      <td>...</td>\n",
       "      <td>...</td>\n",
       "    </tr>\n",
       "    <tr>\n",
       "      <th>307506</th>\n",
       "      <td>456251</td>\n",
       "      <td>0</td>\n",
       "      <td>1</td>\n",
       "      <td>0.0</td>\n",
       "      <td>0</td>\n",
       "      <td>0</td>\n",
       "      <td>0</td>\n",
       "      <td>157500.0</td>\n",
       "      <td>254700.0</td>\n",
       "      <td>27558.0</td>\n",
       "      <td>...</td>\n",
       "      <td>0</td>\n",
       "      <td>0</td>\n",
       "      <td>0</td>\n",
       "      <td>0</td>\n",
       "      <td>NaN</td>\n",
       "      <td>NaN</td>\n",
       "      <td>NaN</td>\n",
       "      <td>NaN</td>\n",
       "      <td>NaN</td>\n",
       "      <td>NaN</td>\n",
       "    </tr>\n",
       "    <tr>\n",
       "      <th>307507</th>\n",
       "      <td>456252</td>\n",
       "      <td>0</td>\n",
       "      <td>1</td>\n",
       "      <td>1.0</td>\n",
       "      <td>0</td>\n",
       "      <td>1</td>\n",
       "      <td>0</td>\n",
       "      <td>72000.0</td>\n",
       "      <td>269550.0</td>\n",
       "      <td>12001.5</td>\n",
       "      <td>...</td>\n",
       "      <td>0</td>\n",
       "      <td>0</td>\n",
       "      <td>0</td>\n",
       "      <td>0</td>\n",
       "      <td>NaN</td>\n",
       "      <td>NaN</td>\n",
       "      <td>NaN</td>\n",
       "      <td>NaN</td>\n",
       "      <td>NaN</td>\n",
       "      <td>NaN</td>\n",
       "    </tr>\n",
       "    <tr>\n",
       "      <th>307508</th>\n",
       "      <td>456253</td>\n",
       "      <td>0</td>\n",
       "      <td>1</td>\n",
       "      <td>1.0</td>\n",
       "      <td>0</td>\n",
       "      <td>1</td>\n",
       "      <td>0</td>\n",
       "      <td>153000.0</td>\n",
       "      <td>677664.0</td>\n",
       "      <td>29979.0</td>\n",
       "      <td>...</td>\n",
       "      <td>0</td>\n",
       "      <td>0</td>\n",
       "      <td>0</td>\n",
       "      <td>0</td>\n",
       "      <td>1.0</td>\n",
       "      <td>0.0</td>\n",
       "      <td>0.0</td>\n",
       "      <td>1.0</td>\n",
       "      <td>0.0</td>\n",
       "      <td>1.0</td>\n",
       "    </tr>\n",
       "    <tr>\n",
       "      <th>307509</th>\n",
       "      <td>456254</td>\n",
       "      <td>1</td>\n",
       "      <td>1</td>\n",
       "      <td>1.0</td>\n",
       "      <td>0</td>\n",
       "      <td>1</td>\n",
       "      <td>0</td>\n",
       "      <td>171000.0</td>\n",
       "      <td>370107.0</td>\n",
       "      <td>20205.0</td>\n",
       "      <td>...</td>\n",
       "      <td>0</td>\n",
       "      <td>0</td>\n",
       "      <td>0</td>\n",
       "      <td>0</td>\n",
       "      <td>0.0</td>\n",
       "      <td>0.0</td>\n",
       "      <td>0.0</td>\n",
       "      <td>0.0</td>\n",
       "      <td>0.0</td>\n",
       "      <td>0.0</td>\n",
       "    </tr>\n",
       "    <tr>\n",
       "      <th>307510</th>\n",
       "      <td>456255</td>\n",
       "      <td>0</td>\n",
       "      <td>1</td>\n",
       "      <td>1.0</td>\n",
       "      <td>0</td>\n",
       "      <td>0</td>\n",
       "      <td>0</td>\n",
       "      <td>157500.0</td>\n",
       "      <td>675000.0</td>\n",
       "      <td>49117.5</td>\n",
       "      <td>...</td>\n",
       "      <td>0</td>\n",
       "      <td>0</td>\n",
       "      <td>0</td>\n",
       "      <td>0</td>\n",
       "      <td>0.0</td>\n",
       "      <td>0.0</td>\n",
       "      <td>0.0</td>\n",
       "      <td>2.0</td>\n",
       "      <td>0.0</td>\n",
       "      <td>1.0</td>\n",
       "    </tr>\n",
       "  </tbody>\n",
       "</table>\n",
       "<p>307511 rows × 122 columns</p>\n",
       "</div>"
      ],
      "text/plain": [
       "        SK_ID_CURR  TARGET  NAME_CONTRACT_TYPE  CODE_GENDER  FLAG_OWN_CAR  \\\n",
       "0           100002       1                   1          0.0             0   \n",
       "1           100003       0                   1          1.0             0   \n",
       "2           100004       0                   0          0.0             1   \n",
       "3           100006       0                   1          1.0             0   \n",
       "4           100007       0                   1          0.0             0   \n",
       "...            ...     ...                 ...          ...           ...   \n",
       "307506      456251       0                   1          0.0             0   \n",
       "307507      456252       0                   1          1.0             0   \n",
       "307508      456253       0                   1          1.0             0   \n",
       "307509      456254       1                   1          1.0             0   \n",
       "307510      456255       0                   1          1.0             0   \n",
       "\n",
       "        FLAG_OWN_REALTY  CNT_CHILDREN  AMT_INCOME_TOTAL  AMT_CREDIT  \\\n",
       "0                     1             0          202500.0    406597.5   \n",
       "1                     0             0          270000.0   1293502.5   \n",
       "2                     1             0           67500.0    135000.0   \n",
       "3                     1             0          135000.0    312682.5   \n",
       "4                     1             0          121500.0    513000.0   \n",
       "...                 ...           ...               ...         ...   \n",
       "307506                0             0          157500.0    254700.0   \n",
       "307507                1             0           72000.0    269550.0   \n",
       "307508                1             0          153000.0    677664.0   \n",
       "307509                1             0          171000.0    370107.0   \n",
       "307510                0             0          157500.0    675000.0   \n",
       "\n",
       "        AMT_ANNUITY  ...  FLAG_DOCUMENT_18 FLAG_DOCUMENT_19 FLAG_DOCUMENT_20  \\\n",
       "0           24700.5  ...                 0                0                0   \n",
       "1           35698.5  ...                 0                0                0   \n",
       "2            6750.0  ...                 0                0                0   \n",
       "3           29686.5  ...                 0                0                0   \n",
       "4           21865.5  ...                 0                0                0   \n",
       "...             ...  ...               ...              ...              ...   \n",
       "307506      27558.0  ...                 0                0                0   \n",
       "307507      12001.5  ...                 0                0                0   \n",
       "307508      29979.0  ...                 0                0                0   \n",
       "307509      20205.0  ...                 0                0                0   \n",
       "307510      49117.5  ...                 0                0                0   \n",
       "\n",
       "       FLAG_DOCUMENT_21 AMT_REQ_CREDIT_BUREAU_HOUR AMT_REQ_CREDIT_BUREAU_DAY  \\\n",
       "0                     0                        0.0                       0.0   \n",
       "1                     0                        0.0                       0.0   \n",
       "2                     0                        0.0                       0.0   \n",
       "3                     0                        NaN                       NaN   \n",
       "4                     0                        0.0                       0.0   \n",
       "...                 ...                        ...                       ...   \n",
       "307506                0                        NaN                       NaN   \n",
       "307507                0                        NaN                       NaN   \n",
       "307508                0                        1.0                       0.0   \n",
       "307509                0                        0.0                       0.0   \n",
       "307510                0                        0.0                       0.0   \n",
       "\n",
       "        AMT_REQ_CREDIT_BUREAU_WEEK  AMT_REQ_CREDIT_BUREAU_MON  \\\n",
       "0                              0.0                        0.0   \n",
       "1                              0.0                        0.0   \n",
       "2                              0.0                        0.0   \n",
       "3                              NaN                        NaN   \n",
       "4                              0.0                        0.0   \n",
       "...                            ...                        ...   \n",
       "307506                         NaN                        NaN   \n",
       "307507                         NaN                        NaN   \n",
       "307508                         0.0                        1.0   \n",
       "307509                         0.0                        0.0   \n",
       "307510                         0.0                        2.0   \n",
       "\n",
       "        AMT_REQ_CREDIT_BUREAU_QRT  AMT_REQ_CREDIT_BUREAU_YEAR  \n",
       "0                             0.0                         1.0  \n",
       "1                             0.0                         0.0  \n",
       "2                             0.0                         0.0  \n",
       "3                             NaN                         NaN  \n",
       "4                             0.0                         0.0  \n",
       "...                           ...                         ...  \n",
       "307506                        NaN                         NaN  \n",
       "307507                        NaN                         NaN  \n",
       "307508                        0.0                         1.0  \n",
       "307509                        0.0                         0.0  \n",
       "307510                        0.0                         1.0  \n",
       "\n",
       "[307511 rows x 122 columns]"
      ]
     },
     "execution_count": 42,
     "metadata": {},
     "output_type": "execute_result"
    }
   ],
   "source": [
    "lowMemAppliDf"
   ]
  },
  {
   "cell_type": "markdown",
   "id": "9dad98ac",
   "metadata": {},
   "source": [
    "## Aggrégation des datasets"
   ]
  }
 ],
 "metadata": {
  "kernelspec": {
   "display_name": "envProject4",
   "language": "python",
   "name": "envproject4"
  },
  "language_info": {
   "codemirror_mode": {
    "name": "ipython",
    "version": 3
   },
   "file_extension": ".py",
   "mimetype": "text/x-python",
   "name": "python",
   "nbconvert_exporter": "python",
   "pygments_lexer": "ipython3",
   "version": "3.11.3"
  }
 },
 "nbformat": 4,
 "nbformat_minor": 5
}
