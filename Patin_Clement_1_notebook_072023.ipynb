{
 "cells": [
  {
   "cell_type": "markdown",
   "id": "86974f31",
   "metadata": {},
   "source": [
    "# Construisez un modèle de scoring\n",
    "\n",
    "# Prêt à dépenser\n",
    "\n",
    "<img src=\"logo_pret_a_depenser.png\" alt=\"logo_pret_a_depenser\" width=\"300\"/>"
   ]
  },
  {
   "cell_type": "markdown",
   "id": "e362221d",
   "metadata": {},
   "source": [
    "# Sommaire"
   ]
  },
  {
   "cell_type": "markdown",
   "id": "c5de6ba3",
   "metadata": {},
   "source": [
    "* [Problématique de l'entreprise](#1)\n",
    "* [Imports de librairies](#2)\n",
    "* [Import des datasets brutes](#3)\n",
    "* [Première exploration, pour améliorer nos datasets](#4)\n",
    "    * [Describe](#41)\n",
    "    * [Valeurs reflétant une absence d'information](#42)\n",
    "    * [Amender `HomeCredit_columns_description.csv` avec des informations utiles](#43)\n",
    "    * [Stocker ces informations](#44)\n",
    "    * [Versions optimisées des datasets](#45)\n",
    "* [Exploration, seconde partie - TARGET](#5)\n",
    "* [Créer de nouvelles features dans `application_train.csv`](#6)\n",
    "* [Unifier les datasets](#7)\n",
    "    * [Unifier les datasets - Comment ?](#71)\n",
    "    * [Unifier les datasets - Encodage des features catégorielles avant aggrégation](#72)\n",
    "    * [Unifier les datasets - Création de quelques features, avant aggrégations](#73)\n",
    "    * [Unifier les datasets - Agrégation `bureau_balance.csv` & Merge avec `bureau.csv`](#74)\n",
    "    * [Unifier les datasets - Agrégations des `xxx.csv` & Merge avec `application_train.csv`](#75)\n",
    "    * [Unifier les datasets - bilan](#76)\n",
    "* [Méthode d'évaluation](#8)\n",
    "    * [Approche coût métier](#81)\n",
    "    * [Choix de la métrique d'évaluation](#82)\n",
    "    * [Optimisation du modèle final](#83)\n",
    "* [Création des jeux d'entraînement et de test](#9)\n",
    "* [Gérer la multicolinéarité](#10)\n",
    "* [Création des pipelines de preprocessing...](#11)\n",
    "    * [... pour les features numériques](#111)\n",
    "    * [... pour les features nominales avec beaucoup de catégories](#112)\n",
    "    * [... pour les features nominales](#113)\n",
    "    * [... pour les features ordinales](#114)\n",
    "* [Création du `column transformer`](#12)\n",
    "* [Création des `samplers`](#13)\n",
    "* [Outil(s) de feature selection](#14)\n",
    "    * [Outil(s) de feature selection - méthode](#141)\n",
    "    * [Outil(s) de feature selection - `VarianceSelector`](#142)\n",
    "    * [Outil(s) de feature selection - `FscoreSelector`](#143)\n",
    "    * [Outil(s) de feature selection - `RFESelector`](#144)\n",
    "    * [Outil(s) de feature selection - Test](#145)\n",
    "* [MODELES : méthodologie](#15)\n",
    "* [MODELES : modèle de référence naïf - `dummy`](#16)\n",
    "* [MODELES : `Random Forest`](#17)\n",
    "* [MODELES : `Logistic Regression`](#18)\n",
    "* [MODELES : `LightGBM`](#19)\n",
    "* [MODELE CHOISI - Essai sur le Test set](#20)\n",
    "* [MODELE CHOISI - et sans les features composites ?](#21)\n",
    "* [MODELE CHOISI - sélectionner un seuil basé sur notre hypothèse business](#22)\n",
    "* [MODELE CHOISI - faire des prédictions](#23)\n",
    "* [MODELE CHOISI - expliquer nos prédictions](#24)\n",
    "    * [Préambule](#241)\n",
    "    * [`shap.plots.bar`](#242)\n",
    "    * [`shap.decision_plot`](#243)\n",
    "    * [`shap.plots.waterfall`](#244)"
   ]
  },
  {
   "cell_type": "markdown",
   "id": "5c60e483",
   "metadata": {},
   "source": [
    "# Problématique de l'entreprise<a class=\"anchor\" id=\"1\"></a>"
   ]
  },
  {
   "cell_type": "markdown",
   "id": "1df0da93",
   "metadata": {},
   "source": [
    "\"Prêt à dépenser\" propose des crédits à la consommation pour les particuliers. La cible commerciale de l'entreprise sont les personnes n'ayant pas ou peu d'historique de prêt.\n",
    "\n",
    "Afin d'éviter des pertes importantes, l'entreprise souhaite mettre en oeuvre un outil d'évalutation du risque de crédit associé à un prospect avant une éventuelle signature.\n",
    "\n",
    "Cet outil prendra la forme d'un \"scoring crédit\" et :\n",
    "- calculera la probabilité de défaut du prospect\n",
    "- classifiera la demande de prêt : \"crédit accordé\" ou \"crédit refusé\""
   ]
  },
  {
   "cell_type": "markdown",
   "id": "756805d8",
   "metadata": {},
   "source": [
    "# Imports de librairies<a class=\"anchor\" id=\"2\"></a>"
   ]
  },
  {
   "cell_type": "code",
   "execution_count": 1,
   "id": "06396d83",
   "metadata": {},
   "outputs": [],
   "source": [
    "import time\n",
    "start_time = time.time()"
   ]
  },
  {
   "cell_type": "code",
   "execution_count": 196,
   "id": "dc13eb7c",
   "metadata": {},
   "outputs": [],
   "source": [
    "import pandas as pd # to manipulate the dataset with dataframes\n",
    "import numpy as np # for statistics and calculations\n",
    "\n",
    "import matplotlib.pyplot as plt # for data visualisation\n",
    "%matplotlib inline\n",
    "import matplotlib.ticker as mtick # for format axis in percent %\n",
    "from matplotlib.patches import Patch # for custom legends\n",
    "import seaborn as sns # for data visualisation, with different proporties\n",
    "\n",
    "# from math import floor\n",
    "\n",
    "import ipywidgets as widgets # for interactive plots\n",
    "\n",
    "import os # for folders management\n",
    "import sys # for memory management\n",
    "import gc # for memory management"
   ]
  },
  {
   "cell_type": "code",
   "execution_count": 3,
   "id": "7ad51835",
   "metadata": {},
   "outputs": [
    {
     "name": "stderr",
     "output_type": "stream",
     "text": [
      "Using `tqdm.autonotebook.tqdm` in notebook mode. Use `tqdm.tqdm` instead to force console mode (e.g. in jupyter console)\n"
     ]
    }
   ],
   "source": [
    "from sklearn.model_selection import train_test_split # to create train and test sets\n",
    "\n",
    "from sklearn.preprocessing import OneHotEncoder,TargetEncoder,OrdinalEncoder # for encoding categorical features\n",
    "from sklearn.preprocessing import StandardScaler,RobustScaler # for scaling numerical features\n",
    "\n",
    "from sklearn.impute import SimpleImputer # imputers\n",
    "\n",
    "from sklearn.pipeline import Pipeline as sklPipeline # to make pipeline\n",
    "from sklearn.compose import ColumnTransformer # to handle features preprocessing\n",
    "\n",
    "from imblearn.over_sampling import SMOTE # SMOTE over sampler (based on nearest neighbors)\n",
    "from imblearn.under_sampling import RandomUnderSampler # random under sampler\n",
    "\n",
    "from sklearn.feature_selection import RFECV # for main feature selection\n",
    "from sklearn.feature_selection import VarianceThreshold,SelectPercentile,f_classif # for pre feature selection\n",
    "\n",
    "from imblearn.pipeline import Pipeline as imbPipeline # imblearn pipeline (to ignore sampler when using .predit)\n",
    "\n",
    "from sklearn.model_selection import StratifiedKFold # to create train/validation sets for cross validation\n",
    "from sklearn.model_selection import GridSearchCV # for hyperparameters tuning\n",
    "from sklearn.model_selection import cross_val_predict # for out of folds scores\n",
    "from skopt import BayesSearchCV # for grid search using bayesian optimisation\n",
    "\n",
    "# models\n",
    "from sklearn.dummy import DummyClassifier\n",
    "from sklearn.ensemble import RandomForestClassifier\n",
    "from sklearn.linear_model import LogisticRegression\n",
    "from lightgbm import LGBMClassifier\n",
    "\n",
    "from sklearn.base import clone # to create copies of model\n",
    "\n",
    "from sklearn.metrics import average_precision_score,precision_score,recall_score # metrics\n",
    "from sklearn.metrics import confusion_matrix,ConfusionMatrixDisplay # confusion matrix\n",
    "\n",
    "from joblib import dump,load # to make saves\n",
    "\n",
    "import shap # for ML interpretability"
   ]
  },
  {
   "cell_type": "code",
   "execution_count": 4,
   "id": "aafa093a",
   "metadata": {},
   "outputs": [],
   "source": [
    "import myFunctions as mf # for using custom functions"
   ]
  },
  {
   "cell_type": "markdown",
   "id": "89eab285",
   "metadata": {},
   "source": [
    "# Options du notebook & sauvegardes<a class=\"anchor\" id=\"options\"></a>"
   ]
  },
  {
   "cell_type": "markdown",
   "id": "7d219bac",
   "metadata": {},
   "source": [
    "Afin de réduire le temps d'exécution lors du développement du projet, nous avons utilisé les fonctions `dump` et `load` de `joblib`. \n",
    "Les enregistrements sont inclus dans le dossier `/mySaves`.\n",
    "\n",
    "**Le notebook n'a pas besoin de ce dossier pour fonctionner**. Le temps d'exécution sera en revanche **plus long** lors de la première exécution.\n",
    "\n",
    "L'option `rapidProcessing` peut être désactivée pour ignorer les sauvegardes (ou les recréer après des modifications par exemple)."
   ]
  },
  {
   "cell_type": "code",
   "execution_count": 5,
   "id": "b6822fb5",
   "metadata": {},
   "outputs": [],
   "source": [
    "# bools for notebook options\n",
    "rapidProcessing = True \n",
    "# if true : use \".joblib\"s  saved in /mySaves folder to speed up processing"
   ]
  },
  {
   "cell_type": "markdown",
   "id": "24c552e6",
   "metadata": {},
   "source": [
    "Le projet comporte plusieurs `.csv` que nous avons utilisés et modelés (pour réduire l'espace mémoire, pour l'encodage, pour les agrégats, etc.). Afin de réduire l'espace mémoire, nous effaçons au fur et à mesure les dataframes inutilisés.\n",
    "\n",
    "La désactivation des options suivantes permet de les conserver :"
   ]
  },
  {
   "cell_type": "code",
   "execution_count": 6,
   "id": "0b51d8a7",
   "metadata": {},
   "outputs": [],
   "source": [
    "# bools, wether or not delete memory consuming dataframes\n",
    "deleteRawDfs = False\n",
    "deleteLowMemDfs = False\n",
    "deleteLastNxx_dfs = False\n",
    "deleteEncodedDfs = False"
   ]
  },
  {
   "cell_type": "markdown",
   "id": "4d436342",
   "metadata": {},
   "source": [
    "Une dernière option pour imprimer ou non le nom des features rajoutées au dataset principal `application_train.csv` :"
   ]
  },
  {
   "cell_type": "code",
   "execution_count": 7,
   "id": "2455260e",
   "metadata": {},
   "outputs": [],
   "source": [
    "printNewFeatures = True"
   ]
  },
  {
   "cell_type": "markdown",
   "id": "b26e1e7d",
   "metadata": {},
   "source": [
    "# Import des datasets brutes<a class=\"anchor\" id=\"3\"></a>"
   ]
  },
  {
   "cell_type": "code",
   "execution_count": 8,
   "id": "63222f50",
   "metadata": {},
   "outputs": [
    {
     "data": {
      "text/plain": [
       "['application_test.csv',\n",
       " 'application_train.csv',\n",
       " 'bureau.csv',\n",
       " 'bureau_balance.csv',\n",
       " 'credit_card_balance.csv',\n",
       " 'HomeCredit_columns_description.csv',\n",
       " 'installments_payments.csv',\n",
       " 'POS_CASH_balance.csv',\n",
       " 'previous_application.csv',\n",
       " 'sample_submission.csv']"
      ]
     },
     "execution_count": 8,
     "metadata": {},
     "output_type": "execute_result"
    }
   ],
   "source": [
    "os.listdir(\"Projet+Mise+en+prod+-+home-credit-default-risk\")"
   ]
  },
  {
   "cell_type": "code",
   "execution_count": 9,
   "id": "8d4e6e2b",
   "metadata": {},
   "outputs": [],
   "source": [
    "if os.path.isdir(\"Projet+Mise+en+prod+-+home-credit-default-risk\") :\n",
    "    rawCsvNames=os.listdir(\"Projet+Mise+en+prod+-+home-credit-default-risk\")\n",
    "    rawCsvNames.remove('application_test.csv')\n",
    "#     rawCsvNames.remove('HomeCredit_columns_description.csv')\n",
    "    rawCsvNames.remove('sample_submission.csv')\n",
    "    rawDfNames=[\n",
    "        \"rawAppliDf\",\n",
    "        \"rawBurDf\",\n",
    "        \"rawBurBalDf\",\n",
    "        \"rawCcBalDf\",\n",
    "        \"rawColDescripDf\",\n",
    "        \"rawInstalPaymDf\",\n",
    "        \"rawPosDf\",\n",
    "        \"rawPrevAppDf\"\n",
    "    ]\n",
    "    rawDfDict={}\n",
    "\n",
    "    for dfName,csvName in zip(rawDfNames,rawCsvNames) :\n",
    "        vars()[dfName]=pd.read_csv(\n",
    "            \"Projet+Mise+en+prod+-+home-credit-default-risk/\"+csvName,\n",
    "            encoding_errors=\"ignore\"\n",
    "        )\n",
    "        rawDfDict[dfName]=vars()[dfName]\n",
    "else : \n",
    "    print(\"attention le dossier de base contenant les .csv du projet n'est pas présent\")"
   ]
  },
  {
   "cell_type": "code",
   "execution_count": 10,
   "id": "f30aa7bf",
   "metadata": {},
   "outputs": [],
   "source": [
    "realRawDfNames=[ # create a list of the dataframes based on \"real\" datasets\n",
    "    \"rawAppliDf\",\n",
    "    \"rawBurDf\",\n",
    "    \"rawBurBalDf\",\n",
    "    \"rawCcBalDf\",\n",
    "    \"rawInstalPaymDf\",\n",
    "    \"rawPosDf\",\n",
    "    \"rawPrevAppDf\"\n",
    "]\n",
    "\n",
    "realRawCsvNames=[ # same list but with corresponding csv files names\n",
    "     'application_train.csv',\n",
    "     'bureau.csv',\n",
    "     'bureau_balance.csv',\n",
    "     'credit_card_balance.csv',\n",
    "     'installments_payments.csv',\n",
    "     'POS_CASH_balance.csv',\n",
    "     'previous_application.csv'\n",
    "]"
   ]
  },
  {
   "cell_type": "markdown",
   "id": "5e23cabb",
   "metadata": {},
   "source": [
    "# Première exploration, pour améliorer nos datasets<a class=\"anchor\" id=\"4\"></a>"
   ]
  },
  {
   "cell_type": "markdown",
   "id": "afb447fb",
   "metadata": {},
   "source": [
    "Nous allons dans un premier temps regarder nos jeux de données à l'aide la méthode .describe() pour nous intéresser :\n",
    "- au nombre de valeurs uniques (pour les features catégorielles)\n",
    "- aux valeurs min, max\n",
    "\n",
    "L'objectif étant de détecter facilement d'éventuelles incohérences."
   ]
  },
  {
   "cell_type": "markdown",
   "id": "88e009fc",
   "metadata": {},
   "source": [
    "## Describe<a class=\"anchor\" id=\"41\"></a>"
   ]
  },
  {
   "cell_type": "code",
   "execution_count": 11,
   "id": "05040eca",
   "metadata": {},
   "outputs": [
    {
     "data": {
      "application/vnd.jupyter.widget-view+json": {
       "model_id": "04feeba68d1640af922f140b985717e9",
       "version_major": 2,
       "version_minor": 0
      },
      "text/plain": [
       "Dropdown(description='Which dataframe :', options=('rawAppliDf', 'rawBurDf', 'rawBurBalDf', 'rawCcBalDf', 'raw…"
      ]
     },
     "metadata": {},
     "output_type": "display_data"
    },
    {
     "data": {
      "application/vnd.jupyter.widget-view+json": {
       "model_id": "52647b015d7e4aa2ac3a9c49706c9878",
       "version_major": 2,
       "version_minor": 0
      },
      "text/plain": [
       "Output()"
      ]
     },
     "metadata": {},
     "output_type": "display_data"
    }
   ],
   "source": [
    "# custom .Describe\n",
    "mf.myDescribe(rawDfDict)"
   ]
  },
  {
   "cell_type": "markdown",
   "id": "e9f5c9da",
   "metadata": {},
   "source": [
    "Ce que l'on peut en retenir :\n",
    "- la colonne `TARGET` est **déséquilibrée**. En effet, ce qui est assez logique, il y a peu (8%) de clients avec des défaut de paiement.\n",
    "- pour certaines features `DAYS...` nous renseignant sur un nombre de jours, le **maximum est la valeur `365243`, ce qui est incohérent**. Cette valeur représente surement $\\infty$.\n",
    "    *(exemple : dataframe `rawAppliDf` - feature `DAYS_EMPLOYED`)*\n",
    "    \n",
    "\n",
    "- certaines features qualitatives ne semblent comporter que **2 valeurs uniques**. Celles-ci pourraient être transformées en features numériques avec les valeurs 0 ou 1.\n",
    "    *(exemple : dataframe `rawAppliDf` - feature `FLAG_OWN_CAR`)*\n",
    "\n",
    "- sur le même principe, certaines features ont 3 valeurs uniques là il serait plus logique qu'elles en aient 2. la **troisième valeur pourrait refléter une absence d'information**, et donc passée en valeur manquante.\n",
    "    *(exemple : dataframe `rawAppliDf` - feature `CODE_GENDER`)*\n",
    "    \n",
    "- certaines features ont un **taux de valeurs manquantes très élevé**.\n",
    "    *(exemple : dataframe `rawPrevAppDf` - feature `RATE_INTEREST_PRIMARY` : 99.6%)*\n",
    "    \n",
    "- certaines features ont des **problèmes d'outliers** *(notamment dans `rawBurDf`)*"
   ]
  },
  {
   "cell_type": "markdown",
   "id": "b2da1c09",
   "metadata": {},
   "source": [
    "## Valeurs reflétant une absence d'information<a class=\"anchor\" id=\"42\"></a>"
   ]
  },
  {
   "cell_type": "markdown",
   "id": "856b905d",
   "metadata": {},
   "source": [
    "Recherchons les valeurs représentant une \"absence d'information\" :"
   ]
  },
  {
   "cell_type": "code",
   "execution_count": 12,
   "id": "5dbbcaa6",
   "metadata": {},
   "outputs": [],
   "source": [
    "# # print qualitative unique values to find values that can be replace with NaN\n",
    "# for dfName in realRawDfNames :\n",
    "#     print(dfName)\n",
    "#     print(\"-------------\")\n",
    "#     df=vars()[dfName].copy()\n",
    "#     test=pd.Series(df.apply(lambda s : s.unique().tolist() \\\n",
    "#                                                            if ((s.dtype==\"O\")) \\\n",
    "#                                     else np.nan,axis=0\n",
    "\n",
    "#                                                           ))\n",
    "#     for i,v in test.items() :\n",
    "#         print(i,\":\",v)\n",
    "#     print(\"-------------\")\n",
    "#     del test, df\n",
    "#     gc.collect()"
   ]
  },
  {
   "cell_type": "markdown",
   "id": "c923ee7b",
   "metadata": {},
   "source": [
    "Les valeurs : `\"XNA\"`,  `'Unknown'`, `'not specified'`, `'Unknown type of loan'`, `'X'` peuvent être considérées comme des valeurs manquantes."
   ]
  },
  {
   "cell_type": "markdown",
   "id": "1f024d34",
   "metadata": {},
   "source": [
    "## Amender `HomeCredit_columns_description.csv` avec des informations utiles<a class=\"anchor\" id=\"43\"></a>"
   ]
  },
  {
   "cell_type": "code",
   "execution_count": 13,
   "id": "4729d9e7",
   "metadata": {},
   "outputs": [
    {
     "data": {
      "text/plain": [
       "(219, 5)"
      ]
     },
     "execution_count": 13,
     "metadata": {},
     "output_type": "execute_result"
    }
   ],
   "source": [
    "rawColDescripDf.shape"
   ]
  },
  {
   "cell_type": "markdown",
   "id": "07f667c3",
   "metadata": {},
   "source": [
    "Il y a apparemment 219 features dans les différents datasets à notre disposition. \n",
    "\n",
    "Nous pouvons nous appuyer sur ce tableau `HomeCredit_columns_description.csv` pour notre exploration : Nous allons ajouter différentes colonnes avec des informations importantes :\n",
    "- le **type**\n",
    "- le type qui serait le plus approprié en terme d'**espace mémoire**\n",
    "- le taux de **valeurs manquantes**\n",
    "- les **valeurs uniques**\n",
    "- les valeurs que nous considérerons **comme des valeurs manquantes** (comme vu précédemment)\n",
    "- les colonnes qui n'ont **que 2 valeurs uniques**."
   ]
  },
  {
   "cell_type": "code",
   "execution_count": 14,
   "id": "446b6afe",
   "metadata": {},
   "outputs": [],
   "source": [
    "if not os.path.isdir(\"mySaves\") :\n",
    "    os.mkdir(\"mySaves\")\n",
    "if not os.path.isdir(\"mySaves/myDataFrames\") :\n",
    "    os.mkdir(\"mySaves/myDataFrames\")\n",
    "if not os.path.isdir(\"mySaves/myDataFrames/columnsDescription\") :\n",
    "    os.mkdir(\"mySaves/myDataFrames/columnsDescription\")"
   ]
  },
  {
   "cell_type": "code",
   "execution_count": 15,
   "id": "acb22f99",
   "metadata": {},
   "outputs": [
    {
     "data": {
      "text/html": [
       "<div>\n",
       "<style scoped>\n",
       "    .dataframe tbody tr th:only-of-type {\n",
       "        vertical-align: middle;\n",
       "    }\n",
       "\n",
       "    .dataframe tbody tr th {\n",
       "        vertical-align: top;\n",
       "    }\n",
       "\n",
       "    .dataframe thead th {\n",
       "        text-align: right;\n",
       "    }\n",
       "</style>\n",
       "<table border=\"1\" class=\"dataframe\">\n",
       "  <thead>\n",
       "    <tr style=\"text-align: right;\">\n",
       "      <th></th>\n",
       "      <th>Table</th>\n",
       "      <th>Row</th>\n",
       "      <th>Description</th>\n",
       "      <th>Special</th>\n",
       "      <th>type</th>\n",
       "      <th>bestType</th>\n",
       "      <th>NaN_rate</th>\n",
       "      <th>Uniques</th>\n",
       "      <th>otherNanValues</th>\n",
       "      <th>bin</th>\n",
       "      <th>binValues</th>\n",
       "    </tr>\n",
       "  </thead>\n",
       "  <tbody>\n",
       "    <tr>\n",
       "      <th>0</th>\n",
       "      <td>application_train.csv</td>\n",
       "      <td>SK_ID_CURR</td>\n",
       "      <td>ID of loan in our sample</td>\n",
       "      <td>NaN</td>\n",
       "      <td>int64</td>\n",
       "      <td>uint32</td>\n",
       "      <td>0.000000</td>\n",
       "      <td>NaN</td>\n",
       "      <td>NaN</td>\n",
       "      <td>False</td>\n",
       "      <td>NaN</td>\n",
       "    </tr>\n",
       "    <tr>\n",
       "      <th>1</th>\n",
       "      <td>application_train.csv</td>\n",
       "      <td>TARGET</td>\n",
       "      <td>Target variable (1 - client with payment diffi...</td>\n",
       "      <td>NaN</td>\n",
       "      <td>int64</td>\n",
       "      <td>uint8</td>\n",
       "      <td>0.000000</td>\n",
       "      <td>NaN</td>\n",
       "      <td>NaN</td>\n",
       "      <td>False</td>\n",
       "      <td>NaN</td>\n",
       "    </tr>\n",
       "    <tr>\n",
       "      <th>2</th>\n",
       "      <td>application_train.csv</td>\n",
       "      <td>NAME_CONTRACT_TYPE</td>\n",
       "      <td>Identification if loan is cash or revolving</td>\n",
       "      <td>NaN</td>\n",
       "      <td>object</td>\n",
       "      <td>category</td>\n",
       "      <td>0.000000</td>\n",
       "      <td>[Cash loans, Revolving loans]</td>\n",
       "      <td>NaN</td>\n",
       "      <td>True</td>\n",
       "      <td>[Cash loans, Revolving loans]</td>\n",
       "    </tr>\n",
       "    <tr>\n",
       "      <th>3</th>\n",
       "      <td>application_train.csv</td>\n",
       "      <td>CODE_GENDER</td>\n",
       "      <td>Gender of the client</td>\n",
       "      <td>NaN</td>\n",
       "      <td>object</td>\n",
       "      <td>category</td>\n",
       "      <td>0.000000</td>\n",
       "      <td>[M, F, XNA]</td>\n",
       "      <td>[XNA]</td>\n",
       "      <td>True</td>\n",
       "      <td>[M, F]</td>\n",
       "    </tr>\n",
       "    <tr>\n",
       "      <th>4</th>\n",
       "      <td>application_train.csv</td>\n",
       "      <td>FLAG_OWN_CAR</td>\n",
       "      <td>Flag if the client owns a car</td>\n",
       "      <td>NaN</td>\n",
       "      <td>object</td>\n",
       "      <td>category</td>\n",
       "      <td>0.000000</td>\n",
       "      <td>[N, Y]</td>\n",
       "      <td>NaN</td>\n",
       "      <td>True</td>\n",
       "      <td>[N, Y]</td>\n",
       "    </tr>\n",
       "    <tr>\n",
       "      <th>...</th>\n",
       "      <td>...</td>\n",
       "      <td>...</td>\n",
       "      <td>...</td>\n",
       "      <td>...</td>\n",
       "      <td>...</td>\n",
       "      <td>...</td>\n",
       "      <td>...</td>\n",
       "      <td>...</td>\n",
       "      <td>...</td>\n",
       "      <td>...</td>\n",
       "      <td>...</td>\n",
       "    </tr>\n",
       "    <tr>\n",
       "      <th>214</th>\n",
       "      <td>installments_payments.csv</td>\n",
       "      <td>NUM_INSTALMENT_NUMBER</td>\n",
       "      <td>On which installment we observe payment</td>\n",
       "      <td>NaN</td>\n",
       "      <td>int64</td>\n",
       "      <td>uint16</td>\n",
       "      <td>0.000000</td>\n",
       "      <td>NaN</td>\n",
       "      <td>NaN</td>\n",
       "      <td>False</td>\n",
       "      <td>NaN</td>\n",
       "    </tr>\n",
       "    <tr>\n",
       "      <th>215</th>\n",
       "      <td>installments_payments.csv</td>\n",
       "      <td>DAYS_INSTALMENT</td>\n",
       "      <td>When the installment of previous credit was su...</td>\n",
       "      <td>time only relative to the application</td>\n",
       "      <td>float64</td>\n",
       "      <td>int16</td>\n",
       "      <td>0.000000</td>\n",
       "      <td>NaN</td>\n",
       "      <td>NaN</td>\n",
       "      <td>False</td>\n",
       "      <td>NaN</td>\n",
       "    </tr>\n",
       "    <tr>\n",
       "      <th>216</th>\n",
       "      <td>installments_payments.csv</td>\n",
       "      <td>DAYS_ENTRY_PAYMENT</td>\n",
       "      <td>When was the installments of previous credit p...</td>\n",
       "      <td>time only relative to the application</td>\n",
       "      <td>float64</td>\n",
       "      <td>float32</td>\n",
       "      <td>0.000214</td>\n",
       "      <td>NaN</td>\n",
       "      <td>NaN</td>\n",
       "      <td>False</td>\n",
       "      <td>NaN</td>\n",
       "    </tr>\n",
       "    <tr>\n",
       "      <th>217</th>\n",
       "      <td>installments_payments.csv</td>\n",
       "      <td>AMT_INSTALMENT</td>\n",
       "      <td>What was the prescribed installment amount of ...</td>\n",
       "      <td>NaN</td>\n",
       "      <td>float64</td>\n",
       "      <td>float64</td>\n",
       "      <td>0.000000</td>\n",
       "      <td>NaN</td>\n",
       "      <td>NaN</td>\n",
       "      <td>False</td>\n",
       "      <td>NaN</td>\n",
       "    </tr>\n",
       "    <tr>\n",
       "      <th>218</th>\n",
       "      <td>installments_payments.csv</td>\n",
       "      <td>AMT_PAYMENT</td>\n",
       "      <td>What the client actually paid on previous cred...</td>\n",
       "      <td>NaN</td>\n",
       "      <td>float64</td>\n",
       "      <td>float64</td>\n",
       "      <td>0.000214</td>\n",
       "      <td>NaN</td>\n",
       "      <td>NaN</td>\n",
       "      <td>False</td>\n",
       "      <td>NaN</td>\n",
       "    </tr>\n",
       "  </tbody>\n",
       "</table>\n",
       "<p>218 rows × 11 columns</p>\n",
       "</div>"
      ],
      "text/plain": [
       "                         Table                    Row  \\\n",
       "0        application_train.csv             SK_ID_CURR   \n",
       "1        application_train.csv                 TARGET   \n",
       "2        application_train.csv     NAME_CONTRACT_TYPE   \n",
       "3        application_train.csv            CODE_GENDER   \n",
       "4        application_train.csv           FLAG_OWN_CAR   \n",
       "..                         ...                    ...   \n",
       "214  installments_payments.csv  NUM_INSTALMENT_NUMBER   \n",
       "215  installments_payments.csv        DAYS_INSTALMENT   \n",
       "216  installments_payments.csv     DAYS_ENTRY_PAYMENT   \n",
       "217  installments_payments.csv         AMT_INSTALMENT   \n",
       "218  installments_payments.csv            AMT_PAYMENT   \n",
       "\n",
       "                                           Description  \\\n",
       "0                             ID of loan in our sample   \n",
       "1    Target variable (1 - client with payment diffi...   \n",
       "2          Identification if loan is cash or revolving   \n",
       "3                                 Gender of the client   \n",
       "4                        Flag if the client owns a car   \n",
       "..                                                 ...   \n",
       "214            On which installment we observe payment   \n",
       "215  When the installment of previous credit was su...   \n",
       "216  When was the installments of previous credit p...   \n",
       "217  What was the prescribed installment amount of ...   \n",
       "218  What the client actually paid on previous cred...   \n",
       "\n",
       "                                   Special     type  bestType  NaN_rate  \\\n",
       "0                                      NaN    int64    uint32  0.000000   \n",
       "1                                      NaN    int64     uint8  0.000000   \n",
       "2                                      NaN   object  category  0.000000   \n",
       "3                                      NaN   object  category  0.000000   \n",
       "4                                      NaN   object  category  0.000000   \n",
       "..                                     ...      ...       ...       ...   \n",
       "214                                    NaN    int64    uint16  0.000000   \n",
       "215  time only relative to the application  float64     int16  0.000000   \n",
       "216  time only relative to the application  float64   float32  0.000214   \n",
       "217                                    NaN  float64   float64  0.000000   \n",
       "218                                    NaN  float64   float64  0.000214   \n",
       "\n",
       "                           Uniques otherNanValues    bin  \\\n",
       "0                              NaN            NaN  False   \n",
       "1                              NaN            NaN  False   \n",
       "2    [Cash loans, Revolving loans]            NaN   True   \n",
       "3                      [M, F, XNA]          [XNA]   True   \n",
       "4                           [N, Y]            NaN   True   \n",
       "..                             ...            ...    ...   \n",
       "214                            NaN            NaN  False   \n",
       "215                            NaN            NaN  False   \n",
       "216                            NaN            NaN  False   \n",
       "217                            NaN            NaN  False   \n",
       "218                            NaN            NaN  False   \n",
       "\n",
       "                         binValues  \n",
       "0                              NaN  \n",
       "1                              NaN  \n",
       "2    [Cash loans, Revolving loans]  \n",
       "3                           [M, F]  \n",
       "4                           [N, Y]  \n",
       "..                             ...  \n",
       "214                            NaN  \n",
       "215                            NaN  \n",
       "216                            NaN  \n",
       "217                            NaN  \n",
       "218                            NaN  \n",
       "\n",
       "[218 rows x 11 columns]"
      ]
     },
     "metadata": {},
     "output_type": "display_data"
    },
    {
     "name": "stdout",
     "output_type": "stream",
     "text": [
      "CPU times: total: 0 ns\n",
      "Wall time: 16.3 ms\n"
     ]
    }
   ],
   "source": [
    "%%time\n",
    "# add informations in the columns description dataframe\n",
    "\n",
    "if (\"proColDescripDf.joblib\" not in os.listdir(\"mySaves/myDataFrames/columnsDescription\")) or (rapidProcessing==False) :\n",
    "    proColDescripDf = rawColDescripDf.copy() # create copy\n",
    "\n",
    "\n",
    "   \n",
    "    # change \"application_{train|test}.csv\" for 'application_train.csv' in the columns description df : proColDescripDf\n",
    "    proColDescripDf.loc[proColDescripDf[\"Table\"]==\"application_{train|test}.csv\",\"Table\"] \\\n",
    "    = 'application_train.csv'\n",
    "    # correct proColDescripDf issues\n",
    "    proColDescripDf=proColDescripDf.drop(columns=\"Unnamed: 0\")\n",
    "    proColDescripDf[\"Row\"]=proColDescripDf[\"Row\"].str.strip()\n",
    "    proColDescripDf.loc[proColDescripDf[\"Row\"]==\"SK_BUREAU_ID\",\"Row\"]=\"SK_ID_BUREAU\"\n",
    "    proColDescripDf=proColDescripDf.loc[proColDescripDf[\"Row\"]!=\"NFLAG_MICRO_CASH\"]\n",
    "\n",
    "    # create columns with informations\n",
    "\n",
    "\n",
    "    for dfName,csvName in zip(realRawDfNames,realRawCsvNames) :  # iterate on dataframes and their csv files\n",
    "        df=vars()[dfName].copy()\n",
    "        mask = ( # in the columns description dataframe, filter on csvName and df's columns\n",
    "            (proColDescripDf[\"Table\"]==csvName)&\n",
    "            (proColDescripDf[\"Row\"].isin(df.columns))\n",
    "        )\n",
    "#         print(    proColDescripDf.loc[mask,\"Row\"].tolist()==df.columns.tolist()    )\n",
    "        \n",
    "        # TYPES\n",
    "        \n",
    "        # get columns dtypes\n",
    "        proColDescripDf.loc[mask,\"type\"]=df.dtypes.values.tolist()\n",
    "        \n",
    "        # lowest memory consumming dtype, using a function from myFunctions\n",
    "        proColDescripDf.loc[mask,\"bestType\"] = proColDescripDf.loc[mask].apply(lambda r : mf.bestDtype(df[r[\"Row\"]]), axis=1)\n",
    "                        \n",
    "        # get percentage of missing values\n",
    "        proColDescripDf.loc[mask,\"NaN_rate\"]=(df.isna().mean(axis=0)).values.tolist()\n",
    "\n",
    "        # get unique values\n",
    "        proColDescripDf.loc[mask,\"Uniques\"]=pd.Series(df.apply(lambda s : s.dropna().unique().tolist() \\\n",
    "                                                               if s.dtype==\"O\"\n",
    "                                                               else np.nan,\n",
    "                                                               axis=0\n",
    "                                                      )).values\n",
    "\n",
    "        # for concerned columns, add the new NaN value 365243 in a list \n",
    "        mask2 = (proColDescripDf[\"type\"]=='int64')|(proColDescripDf[\"type\"]=='float64')\n",
    "        \n",
    "        \n",
    "        proColDescripDf.loc[mask&mask2,\"otherNanValues\"]=pd.Series(df.select_dtypes(['int64', 'float64'])\\\n",
    "                                                                    .apply(lambda s : 365243\n",
    "                                                                              if s.max()==365243\n",
    "                                                                              else np.nan,\n",
    "                                                                              axis=0)).values\n",
    "        \n",
    "        \n",
    "        \n",
    "        del df,mask,mask2\n",
    "        gc.collect()\n",
    "\n",
    "    # list of new NaN values if columns have \"XNA\",  'Unknown', 'not specified', 'Unknown type of loan', 'X' within their values\n",
    "    nanValuesList=[\"XNA\",  'Unknown', 'not specified', 'Unknown type of loan','X']\n",
    "    nanValuesList.append(\"XAP\") # add \"XAP\"\n",
    "    \n",
    "    mask = proColDescripDf[\"otherNanValues\"].isna()\n",
    "    proColDescripDf.loc[mask,\"otherNanValues\"]=proColDescripDf.loc[mask,\"Uniques\"]\\\n",
    "    .apply(lambda lst : [nanVal for nanVal in nanValuesList if nanVal in lst] \\\n",
    "           if type(lst)==list\n",
    "           else np.nan)\\\n",
    "    .apply(lambda lst : lst if (type(lst)==list and len(lst)>0) else np.nan)\n",
    "\n",
    "    # true or false - columns have only 2 unique values\n",
    "    proColDescripDf[\"bin\"]=(\n",
    "        proColDescripDf[\"Uniques\"].apply(lambda l : len(l) if type(l)==list else np.nan) \\\n",
    "        - proColDescripDf[\"otherNanValues\"].apply(lambda l : len(l) if type(l)==list else 0)\n",
    "    )==2\n",
    "    # store both values\n",
    "    proColDescripDf.loc[(proColDescripDf[\"bin\"]==True)&(proColDescripDf[\"otherNanValues\"].isna()),\"binValues\"] = \\\n",
    "    proColDescripDf.loc[(proColDescripDf[\"bin\"]==True)&(proColDescripDf[\"otherNanValues\"].isna()),\"Uniques\"]\n",
    "    \n",
    "    \n",
    "    proColDescripDf.loc[(proColDescripDf[\"bin\"]==True)&(proColDescripDf[\"otherNanValues\"].notna()),\"binValues\"] = \\\n",
    "    proColDescripDf.loc[(proColDescripDf[\"bin\"]==True)&(proColDescripDf[\"otherNanValues\"].notna()),[\"Uniques\",\"otherNanValues\"]]\\\n",
    "    .apply(lambda r : [elt for elt in r[\"Uniques\"] if elt not in r[\"otherNanValues\"]],\n",
    "                                                axis=1)\n",
    "    \n",
    "    \n",
    "    dump(proColDescripDf,\"mySaves/myDataFrames/columnsDescription/proColDescripDf.joblib\")\n",
    "\n",
    "else :\n",
    "    proColDescripDf=load(\"mySaves/myDataFrames/columnsDescription/proColDescripDf.joblib\")\n",
    "    \n",
    "display(proColDescripDf)"
   ]
  },
  {
   "cell_type": "markdown",
   "id": "f8cfef35",
   "metadata": {},
   "source": [
    "## Stocker ces informations<a class=\"anchor\" id=\"44\"></a>"
   ]
  },
  {
   "cell_type": "markdown",
   "id": "c433e429",
   "metadata": {},
   "source": [
    "Nous allons utiliser le fruit du travail effectué sur `proColDescripDf` pour créer différents dictionnaires que nous pourrons utiliser plus tard pour améliorer nos datasets :"
   ]
  },
  {
   "cell_type": "markdown",
   "id": "1a5374ca",
   "metadata": {},
   "source": [
    "Nous pouvons tout d'abord stocker le `dtype` qui optimise l'espace mémoire, pour chaque colonne."
   ]
  },
  {
   "cell_type": "code",
   "execution_count": 16,
   "id": "3a8b5ba6",
   "metadata": {},
   "outputs": [],
   "source": [
    "# dictionnary for dtypes\n",
    "lowMemTypesDict = {\n",
    "                    csvName : {\n",
    "                                col : bestTyp for col,bestTyp in zip(\n",
    "                                    proColDescripDf.loc[proColDescripDf[\"Table\"]==csvName,\"Row\"].values.tolist(),\n",
    "                                    proColDescripDf.loc[proColDescripDf[\"Table\"]==csvName,\"bestType\"].values.tolist()\n",
    "                                                                    )\n",
    "                         \n",
    "\n",
    "}\n",
    "               for csvName in realRawCsvNames}\n",
    "\n"
   ]
  },
  {
   "cell_type": "markdown",
   "id": "f8cf26d7",
   "metadata": {},
   "source": [
    "Les valeurs que nous supprimerons (car considérées comme valeurs manquantes) :"
   ]
  },
  {
   "cell_type": "code",
   "execution_count": 17,
   "id": "d6e95bb9",
   "metadata": {},
   "outputs": [],
   "source": [
    "# dictionnary for categorical columns nan values\n",
    "\n",
    "\n",
    "catNanValuesDict = {\n",
    "                    csvName : {\n",
    "                                col : nanLst for col,nanLst in zip(\n",
    "                                    \n",
    "                                    proColDescripDf.loc[\n",
    "                                        (\n",
    "                                            (proColDescripDf[\"Table\"]==csvName)&\n",
    "                                            (proColDescripDf[\"otherNanValues\"].notna())&\n",
    "                                            (proColDescripDf[\"otherNanValues\"]!=365243)\n",
    "                                    ),\n",
    "                                        \"Row\"].values.tolist(),\n",
    "                                    \n",
    "                                    proColDescripDf.loc[(\n",
    "                                            (proColDescripDf[\"Table\"]==csvName)&\n",
    "                                            (proColDescripDf[\"otherNanValues\"].notna())&\n",
    "                                            (proColDescripDf[\"otherNanValues\"]!=365243)\n",
    "                                    ),\n",
    "                                        \"otherNanValues\"].values.tolist()\n",
    "                                )\n",
    "                    }\n",
    "    for csvName in realRawCsvNames\n",
    "}\n",
    "\n"
   ]
  },
  {
   "cell_type": "code",
   "execution_count": 18,
   "id": "60e7b0cf",
   "metadata": {},
   "outputs": [
    {
     "data": {
      "text/plain": [
       "{'application_train.csv': {'CODE_GENDER': ['XNA'],\n",
       "  'NAME_FAMILY_STATUS': ['Unknown'],\n",
       "  'ORGANIZATION_TYPE': ['XNA'],\n",
       "  'FONDKAPREMONT_MODE': ['not specified']},\n",
       " 'bureau.csv': {'CREDIT_TYPE': ['Unknown type of loan']},\n",
       " 'bureau_balance.csv': {'STATUS': ['X']},\n",
       " 'credit_card_balance.csv': {},\n",
       " 'installments_payments.csv': {},\n",
       " 'POS_CASH_balance.csv': {'NAME_CONTRACT_STATUS': ['XNA']},\n",
       " 'previous_application.csv': {'NAME_CONTRACT_TYPE': ['XNA'],\n",
       "  'NAME_CASH_LOAN_PURPOSE': ['XNA', 'XAP'],\n",
       "  'NAME_PAYMENT_TYPE': ['XNA'],\n",
       "  'CODE_REJECT_REASON': ['XNA', 'XAP'],\n",
       "  'NAME_CLIENT_TYPE': ['XNA'],\n",
       "  'NAME_GOODS_CATEGORY': ['XNA'],\n",
       "  'NAME_PORTFOLIO': ['XNA'],\n",
       "  'NAME_PRODUCT_TYPE': ['XNA'],\n",
       "  'NAME_SELLER_INDUSTRY': ['XNA'],\n",
       "  'NAME_YIELD_GROUP': ['XNA']}}"
      ]
     },
     "execution_count": 18,
     "metadata": {},
     "output_type": "execute_result"
    }
   ],
   "source": [
    "catNanValuesDict"
   ]
  },
  {
   "cell_type": "code",
   "execution_count": 19,
   "id": "3f588aad",
   "metadata": {},
   "outputs": [],
   "source": [
    "# dictionnary for numerical columns nan values\n",
    "\n",
    "\n",
    "numNanValuesDict = {\n",
    "                    csvName : {\n",
    "                                col : nanLst for col,nanLst in zip(\n",
    "                                    \n",
    "                                    proColDescripDf.loc[\n",
    "                                        (\n",
    "                                            (proColDescripDf[\"Table\"]==csvName)&\n",
    "                                            (proColDescripDf[\"otherNanValues\"]==365243)\n",
    "                                    ),\n",
    "                                        \"Row\"].values.tolist(),\n",
    "                                    \n",
    "                                    proColDescripDf.loc[(\n",
    "                                            (proColDescripDf[\"Table\"]==csvName)&\n",
    "                                            (proColDescripDf[\"otherNanValues\"]==365243)\n",
    "                                    ),\n",
    "                                        \"otherNanValues\"].values.tolist()\n",
    "                                )\n",
    "                    }\n",
    "    for csvName in realRawCsvNames\n",
    "}\n",
    "\n"
   ]
  },
  {
   "cell_type": "code",
   "execution_count": 20,
   "id": "419d9cd2",
   "metadata": {},
   "outputs": [
    {
     "data": {
      "text/plain": [
       "{'application_train.csv': {'DAYS_EMPLOYED': 365243.0},\n",
       " 'bureau.csv': {},\n",
       " 'bureau_balance.csv': {},\n",
       " 'credit_card_balance.csv': {},\n",
       " 'installments_payments.csv': {},\n",
       " 'POS_CASH_balance.csv': {},\n",
       " 'previous_application.csv': {'DAYS_FIRST_DRAWING': 365243.0,\n",
       "  'DAYS_FIRST_DUE': 365243.0,\n",
       "  'DAYS_LAST_DUE_1ST_VERSION': 365243.0,\n",
       "  'DAYS_LAST_DUE': 365243.0,\n",
       "  'DAYS_TERMINATION': 365243.0}}"
      ]
     },
     "execution_count": 20,
     "metadata": {},
     "output_type": "execute_result"
    }
   ],
   "source": [
    "numNanValuesDict"
   ]
  },
  {
   "cell_type": "markdown",
   "id": "d7199789",
   "metadata": {},
   "source": [
    "Les features avec seulement deux valeurs uniques :"
   ]
  },
  {
   "cell_type": "code",
   "execution_count": 21,
   "id": "6d9a4f95",
   "metadata": {},
   "outputs": [],
   "source": [
    "# dictionnary for bin columns\n",
    "\n",
    "booleanDict = {\n",
    "                csvName : {\n",
    "                            col : colVals for col,colVals in zip(\n",
    "                                \n",
    "                                proColDescripDf.loc[\n",
    "                                    (\n",
    "                                        (proColDescripDf[\"Table\"]==csvName)&\n",
    "                                        (proColDescripDf[\"bin\"]==True)\n",
    "                                    ),\n",
    "                                    \"Row\"\n",
    "                                ].values.tolist() \n",
    "                                ,\n",
    "                                proColDescripDf.loc[\n",
    "                                    (\n",
    "                                        (proColDescripDf[\"Table\"]==csvName)&\n",
    "                                        (proColDescripDf[\"bin\"]==True)\n",
    "                                    ),\n",
    "                                    \"binValues\"\n",
    "                                ].values.tolist()\n",
    "                            )\n",
    "                }\n",
    "\n",
    "               for csvName in realRawCsvNames}"
   ]
  },
  {
   "cell_type": "code",
   "execution_count": 22,
   "id": "39fcdbaf",
   "metadata": {},
   "outputs": [
    {
     "data": {
      "text/plain": [
       "{'application_train.csv': {'NAME_CONTRACT_TYPE': ['Cash loans',\n",
       "   'Revolving loans'],\n",
       "  'CODE_GENDER': ['M', 'F'],\n",
       "  'FLAG_OWN_CAR': ['N', 'Y'],\n",
       "  'FLAG_OWN_REALTY': ['Y', 'N'],\n",
       "  'EMERGENCYSTATE_MODE': ['No', 'Yes']},\n",
       " 'bureau.csv': {},\n",
       " 'bureau_balance.csv': {},\n",
       " 'credit_card_balance.csv': {},\n",
       " 'installments_payments.csv': {},\n",
       " 'POS_CASH_balance.csv': {},\n",
       " 'previous_application.csv': {'FLAG_LAST_APPL_PER_CONTRACT': ['Y', 'N'],\n",
       "  'NAME_PRODUCT_TYPE': ['x-sell', 'walk-in']}}"
      ]
     },
     "execution_count": 22,
     "metadata": {},
     "output_type": "execute_result"
    }
   ],
   "source": [
    "booleanDict"
   ]
  },
  {
   "cell_type": "markdown",
   "id": "89fa5e0d",
   "metadata": {},
   "source": [
    "On peut attribuer les numéros 0 et 1 à ces valeurs :"
   ]
  },
  {
   "cell_type": "code",
   "execution_count": 23,
   "id": "e34712ac",
   "metadata": {},
   "outputs": [],
   "source": [
    "booleanEncodeDict = {\n",
    "    'Cash loans':1,'Revolving loans':0,\n",
    "    'F':1,'M':0,\n",
    "    'Y':1,'N':0,\n",
    "    'Yes':1,'No':0,\n",
    "    'walk-in':1,'x-sell':0\n",
    "}"
   ]
  },
  {
   "cell_type": "markdown",
   "id": "6e168d0f",
   "metadata": {},
   "source": [
    "## Versions optimisées des datasets<a class=\"anchor\" id=\"45\"></a>"
   ]
  },
  {
   "cell_type": "markdown",
   "id": "c089bd3e",
   "metadata": {},
   "source": [
    "Nous pouvons maintenant transformer nos dataframes en prenant en compte les résultats de notre exploration :"
   ]
  },
  {
   "cell_type": "code",
   "execution_count": 24,
   "id": "38c78049",
   "metadata": {},
   "outputs": [],
   "source": [
    "lowMemDfNames=[ # create a list of df names for optimized imports\n",
    "    \"lowMemAppliDf\",\n",
    "    \"lowMemBurDf\",\n",
    "    \"lowMemBurBalDf\",\n",
    "    \"lowMemCcBalDf\",\n",
    "    \"lowMemInstalPaymDf\",\n",
    "    \"lowMemPosDf\",\n",
    "    \"lowMemPrevAppDf\"\n",
    "]"
   ]
  },
  {
   "cell_type": "code",
   "execution_count": 25,
   "id": "67313083",
   "metadata": {},
   "outputs": [],
   "source": [
    "def dfsEnhanced(\n",
    "    rawDf,\n",
    "    csvName,\n",
    ") :\n",
    "    '''\n",
    "    a custom function to enhance a dataframe given the informations from dictionnaries\n",
    "    \n",
    "    parameters :\n",
    "    -----------\n",
    "    rawDf - dataframe : one of the raw dataframes\n",
    "    csvName - string : corresponding csv name\n",
    "    \n",
    "    output :\n",
    "    --------\n",
    "    df - dataframe : the same dataframe, with other NaN values, dtypes, etc.\n",
    "    \n",
    "    '''\n",
    "    # create a copy()\n",
    "    df = rawDf.copy() \n",
    "    # set types\n",
    "    df = df.astype(lowMemTypesDict[csvName])\n",
    "    # add cat nan values\n",
    "    df = df.replace(catNanValuesDict[csvName],np.nan)\n",
    "    # add num nan values\n",
    "    df = df.replace(numNanValuesDict[csvName],np.nan)\n",
    "    for colName in numNanValuesDict[csvName].keys() :\n",
    "        # creating NaN can change dtype if feature was 100% completed before :\n",
    "        if rawDf[colName].dtype != df[colName].dtype :\n",
    "            df[colName]=df[colName].astype(mf.bestDtype(df[colName])) # adapt dtype\n",
    "    # set bool columns\n",
    "    for colName in booleanDict[csvName].keys() :\n",
    "        df[colName]=pd.to_numeric(df[colName].apply(lambda x : booleanEncodeDict[x]))\n",
    "        df[colName]=df[colName].astype(mf.bestDtype(df[colName]))\n",
    "    return df"
   ]
  },
  {
   "cell_type": "code",
   "execution_count": 26,
   "id": "cd42468c",
   "metadata": {},
   "outputs": [
    {
     "name": "stdout",
     "output_type": "stream",
     "text": [
      "CPU times: total: 2.78 s\n",
      "Wall time: 11.6 s\n"
     ]
    }
   ],
   "source": [
    "%%time\n",
    "enhancedDfDict={}\n",
    "for lowMemDfName,rawDfName,csvName in zip(lowMemDfNames,realRawDfNames,realRawCsvNames) :\n",
    "    vars()[lowMemDfName]=enhancedDfDict[lowMemDfName]=dfsEnhanced(rawDfDict[rawDfName],csvName)\n",
    "        "
   ]
  },
  {
   "cell_type": "markdown",
   "id": "37929e63",
   "metadata": {},
   "source": [
    "Nous pouvons comparer l'espace mémoire :"
   ]
  },
  {
   "cell_type": "code",
   "execution_count": 27,
   "id": "6291eb6f",
   "metadata": {},
   "outputs": [
    {
     "name": "stdout",
     "output_type": "stream",
     "text": [
      "CPU times: total: 1.77 s\n",
      "Wall time: 6.78 s\n"
     ]
    }
   ],
   "source": [
    "%%time\n",
    "memorySizesRawVSEnhanced = pd.DataFrame()\n",
    "\n",
    "memorySizesRawVSEnhanced.index=realRawCsvNames\n",
    "\n",
    "memorySizesRawVSEnhanced[\"rawImports\"]=[sys.getsizeof(rawDfDict[dfName]) for dfName in realRawDfNames]\n",
    "memorySizesRawVSEnhanced[\"lowMemory\"]=[sys.getsizeof(enhancedDfDict[dfName]) for dfName in lowMemDfNames]\n",
    "\n",
    "memorySizesRawVSEnhanced[\"difference\"]=\\\n",
    "((memorySizesRawVSEnhanced[\"lowMemory\"]/memorySizesRawVSEnhanced[\"rawImports\"]-1)*100).astype(int).astype(str)+\" %\"\n"
   ]
  },
  {
   "cell_type": "code",
   "execution_count": 28,
   "id": "6744772d",
   "metadata": {},
   "outputs": [
    {
     "data": {
      "text/html": [
       "<div>\n",
       "<style scoped>\n",
       "    .dataframe tbody tr th:only-of-type {\n",
       "        vertical-align: middle;\n",
       "    }\n",
       "\n",
       "    .dataframe tbody tr th {\n",
       "        vertical-align: top;\n",
       "    }\n",
       "\n",
       "    .dataframe thead th {\n",
       "        text-align: right;\n",
       "    }\n",
       "</style>\n",
       "<table border=\"1\" class=\"dataframe\">\n",
       "  <thead>\n",
       "    <tr style=\"text-align: right;\">\n",
       "      <th></th>\n",
       "      <th>rawImports</th>\n",
       "      <th>lowMemory</th>\n",
       "      <th>difference</th>\n",
       "    </tr>\n",
       "  </thead>\n",
       "  <tbody>\n",
       "    <tr>\n",
       "      <th>application_train.csv</th>\n",
       "      <td>562761965</td>\n",
       "      <td>103029656</td>\n",
       "      <td>-81 %</td>\n",
       "    </tr>\n",
       "    <tr>\n",
       "      <th>bureau.csv</th>\n",
       "      <td>536987086</td>\n",
       "      <td>130451203</td>\n",
       "      <td>-75 %</td>\n",
       "    </tr>\n",
       "    <tr>\n",
       "      <th>bureau_balance.csv</th>\n",
       "      <td>2020194614</td>\n",
       "      <td>163800420</td>\n",
       "      <td>-91 %</td>\n",
       "    </tr>\n",
       "    <tr>\n",
       "      <th>credit_card_balance.csv</th>\n",
       "      <td>918225104</td>\n",
       "      <td>472359294</td>\n",
       "      <td>-48 %</td>\n",
       "    </tr>\n",
       "    <tr>\n",
       "      <th>installments_payments.csv</th>\n",
       "      <td>870745828</td>\n",
       "      <td>448978397</td>\n",
       "      <td>-48 %</td>\n",
       "    </tr>\n",
       "    <tr>\n",
       "      <th>POS_CASH_balance.csv</th>\n",
       "      <td>1192493276</td>\n",
       "      <td>220030874</td>\n",
       "      <td>-81 %</td>\n",
       "    </tr>\n",
       "    <tr>\n",
       "      <th>previous_application.csv</th>\n",
       "      <td>1992956783</td>\n",
       "      <td>192088203</td>\n",
       "      <td>-90 %</td>\n",
       "    </tr>\n",
       "  </tbody>\n",
       "</table>\n",
       "</div>"
      ],
      "text/plain": [
       "                           rawImports  lowMemory difference\n",
       "application_train.csv       562761965  103029656      -81 %\n",
       "bureau.csv                  536987086  130451203      -75 %\n",
       "bureau_balance.csv         2020194614  163800420      -91 %\n",
       "credit_card_balance.csv     918225104  472359294      -48 %\n",
       "installments_payments.csv   870745828  448978397      -48 %\n",
       "POS_CASH_balance.csv       1192493276  220030874      -81 %\n",
       "previous_application.csv   1992956783  192088203      -90 %"
      ]
     },
     "execution_count": 28,
     "metadata": {},
     "output_type": "execute_result"
    }
   ],
   "source": [
    "memorySizesRawVSEnhanced.rename(columns={\"enhancedImports\":\"lowMemory\"})"
   ]
  },
  {
   "cell_type": "code",
   "execution_count": 29,
   "id": "df95b9c2",
   "metadata": {},
   "outputs": [],
   "source": [
    "if deleteRawDfs==True :\n",
    "    del rawDfDict, rawAppliDf, rawBurDf, rawBurBalDf, rawCcBalDf, rawColDescripDf, rawInstalPaymDf, rawPosDf, rawPrevAppDf"
   ]
  },
  {
   "cell_type": "code",
   "execution_count": 30,
   "id": "1c42bf08",
   "metadata": {},
   "outputs": [
    {
     "data": {
      "application/vnd.jupyter.widget-view+json": {
       "model_id": "72776ae5344a4dcbbdd28df365227e4e",
       "version_major": 2,
       "version_minor": 0
      },
      "text/plain": [
       "Dropdown(description='Which dataframe :', options=('lowMemAppliDf', 'lowMemBurDf', 'lowMemBurBalDf', 'lowMemCc…"
      ]
     },
     "metadata": {},
     "output_type": "display_data"
    },
    {
     "data": {
      "application/vnd.jupyter.widget-view+json": {
       "model_id": "c124e54afed442019bbff12e8f13facd",
       "version_major": 2,
       "version_minor": 0
      },
      "text/plain": [
       "Output()"
      ]
     },
     "metadata": {},
     "output_type": "display_data"
    }
   ],
   "source": [
    "mf.myDescribe(enhancedDfDict)"
   ]
  },
  {
   "cell_type": "markdown",
   "id": "9dad98ac",
   "metadata": {},
   "source": [
    "# Exploration, seconde partie - TARGET<a class=\"anchor\" id=\"5\"></a>"
   ]
  },
  {
   "cell_type": "markdown",
   "id": "5ed6f645",
   "metadata": {},
   "source": [
    "On peut maintenant s'intéresser aux liens entre notre target et nos features :\n",
    "\n",
    "(pour cela nous utilisons une function de `myFunctions` permettant de comparer les distributions d'une feature donnée en fonctions des différentes valeurs prise par une target)"
   ]
  },
  {
   "cell_type": "code",
   "execution_count": 31,
   "id": "33e8de19",
   "metadata": {
    "scrolled": false
   },
   "outputs": [
    {
     "data": {
      "application/vnd.jupyter.widget-view+json": {
       "model_id": "f871b709f5314c938178a747a68fa4ab",
       "version_major": 2,
       "version_minor": 0
      },
      "text/plain": [
       "Dropdown(description='Which column :', options=('SK_ID_CURR', 'NAME_CONTRACT_TYPE', 'CODE_GENDER', 'FLAG_OWN_C…"
      ]
     },
     "metadata": {},
     "output_type": "display_data"
    },
    {
     "data": {
      "application/vnd.jupyter.widget-view+json": {
       "model_id": "16c548c8aa6f4e32bde3e7207824f0c2",
       "version_major": 2,
       "version_minor": 0
      },
      "text/plain": [
       "IntSlider(value=50, description=\"Nb of unique values below which a num' feature is considered cat' :\", layout=…"
      ]
     },
     "metadata": {},
     "output_type": "display_data"
    },
    {
     "data": {
      "application/vnd.jupyter.widget-view+json": {
       "model_id": "f45ec53352aa4bd4a8f7f3514af6c1cd",
       "version_major": 2,
       "version_minor": 0
      },
      "text/plain": [
       "Output()"
      ]
     },
     "metadata": {},
     "output_type": "display_data"
    }
   ],
   "source": [
    "# for EDA, compare distributions filtered on target values\n",
    "mf.plotFeatureVsTargetWID(df=lowMemAppliDf, \n",
    "                           targetFeatureName='TARGET', \n",
    "                           targetValsForCat=1, \n",
    "                           targetValsForNum=None,\n",
    "                           includeCatFeatureNan=True, \n",
    "                           includeTargetNan=True\n",
    "                          )"
   ]
  },
  {
   "cell_type": "markdown",
   "id": "ac067af3",
   "metadata": {},
   "source": [
    "Ce que l'on peut en retenir :\n",
    "\n",
    "En considérant les features prises **indépendamment les unes des autres**, les clients qui ont fait défaut :\n",
    "- ont souscrit un prêt plutôt qu'une ligne de crédit\n",
    "- sont des hommes\n",
    "- ont fait peu d'étude\n",
    "- ne sont pas mariés\n",
    "- vivent chez leurs parents ou louent leur appartement\n",
    "- sont plus jeunes\n",
    "- n'ont pas un travail depuis longtemps\n",
    "- ont changé de papier d'identité il y a peu\n",
    "- n'ont pas fourni de numéro de téléphone pro\n",
    "- ont un emploi moins qualifié\n",
    "- vivent dans une région classée \"3\" par la banque, en prenant la ville en compte ou non\n",
    "- ont fait leur demande de prêt très tôt le matin ...\n",
    "- ont des adresses (contact, domicile, travail) éloignées les unes des autres \n",
    "- travaillent dans certaines types d'entreprises (exemples : \"Business entity type 3\", \"Self-employed\", \"trade - type 7\", \"construction\", etc.)\n",
    "- ont des valeurs basses de \"EXT_SOURCES_1\", \"EXT_SOURCES_2\" et \"EXT_SOURCES_3\"\n",
    "- ont au moins une personne avec des retards de paiement\n",
    "- ont changé de téléphone il y a moins longtemps que ceux qui n'ont pas fait défaut (léger)\n",
    "- ont remis un ou plusieurs de ces **documents : 2,3,20, 21** \n",
    "\n",
    "    (d'un autre côté, les clients qui ont remis les documents suivants : **6, 7, 8, 9, 11, 13, 14, 15, 16, 17, 18, 19**,   ont moins de chance de faire défaut, ce qui ne veut pas dire que les personnes qui ne les remettent pas font plus défaut). \n",
    "\n",
    "\n",
    "\n",
    "Les liens suivants sont caractérisés par une feature catégorielle **très** déséquilibrée. La banque n'a accordé que très peu de prêts à ces personnes :\n",
    "- clients avec beaucoup d'enfants, une grande famille\n",
    "- clients sans emploi ou en congés maternité\n",
    "- clients travaillant pour certains secteurs (ex : \"industry type 13\", industry type 8\", etc.)"
   ]
  },
  {
   "cell_type": "code",
   "execution_count": 32,
   "id": "3fde58fe",
   "metadata": {},
   "outputs": [
    {
     "name": "stdout",
     "output_type": "stream",
     "text": [
      "`xx_AVG`, `xx_MODE`, `xx_MEDI` :  47  columns\n",
      "`xx_AVG`, `xx_MODE`, `xx_MEDI` :  57.91 % average NaN rate\n"
     ]
    }
   ],
   "source": [
    "homeColNames = [f_ for f_ in lowMemAppliDf.columns if '_AVG' in f_ or '_MODE' in f_ or '_MEDI' in f_]\n",
    "print(\"`xx_AVG`, `xx_MODE`, `xx_MEDI` : \",len(homeColNames),\" columns\")\n",
    "print(\"`xx_AVG`, `xx_MODE`, `xx_MEDI` : \",round(lowMemAppliDf[homeColNames].isna().mean().mean()*100,2),\"% average NaN rate\")"
   ]
  },
  {
   "cell_type": "markdown",
   "id": "8412f48a",
   "metadata": {},
   "source": [
    "Les features en `xx_AVG`, `xx_MODE`, `xx_MEDI`, au nombre de 47, n'affectent pas beaucoup la target et ne sont pas bien renseignées."
   ]
  },
  {
   "cell_type": "markdown",
   "id": "81a9385f",
   "metadata": {},
   "source": [
    "Nous **ne pouvons pas étudier** pour l'instant les relations entre notre target et **les features des autres datasets**. En effet la target n'est pas présente dans ces derniers. Nous allons effectuer des jointures."
   ]
  },
  {
   "cell_type": "markdown",
   "id": "ed81a948",
   "metadata": {},
   "source": [
    "# Créer de nouvelles features dans `application_train.csv`<a class=\"anchor\" id=\"6\"></a>"
   ]
  },
  {
   "cell_type": "markdown",
   "id": "eee57132",
   "metadata": {},
   "source": [
    "Nous pouvons créer de nouvelles features `application_train.csv` :"
   ]
  },
  {
   "cell_type": "code",
   "execution_count": 33,
   "id": "50095919",
   "metadata": {
    "scrolled": false
   },
   "outputs": [
    {
     "data": {
      "application/vnd.jupyter.widget-view+json": {
       "model_id": "103fbedd0dc14e9c96800bbfc967178d",
       "version_major": 2,
       "version_minor": 0
      },
      "text/plain": [
       "Dropdown(description='Which column :', options=('NEW_CREDIT_TO_ANNUITY_RATIO', 'NEW_DOWN_PAYMENT_RATE', 'NEW_C…"
      ]
     },
     "metadata": {},
     "output_type": "display_data"
    },
    {
     "data": {
      "application/vnd.jupyter.widget-view+json": {
       "model_id": "a3e426ed9af54fe4923c38426fc56883",
       "version_major": 2,
       "version_minor": 0
      },
      "text/plain": [
       "IntSlider(value=50, description=\"Nb of unique values below which a num' feature is considered cat' :\", layout=…"
      ]
     },
     "metadata": {},
     "output_type": "display_data"
    },
    {
     "data": {
      "application/vnd.jupyter.widget-view+json": {
       "model_id": "97ee913bf0ba4e69b9d9eff68b77ed56",
       "version_major": 2,
       "version_minor": 0
      },
      "text/plain": [
       "Output()"
      ]
     },
     "metadata": {},
     "output_type": "display_data"
    }
   ],
   "source": [
    "newAppliFeatures = pd.DataFrame()\n",
    "def zeroToNan(x) : \n",
    "    '''\n",
    "    parameter :\n",
    "    -----------\n",
    "    x - scalar\n",
    "    \n",
    "    return :\n",
    "    --------\n",
    "    x if x != 0  else NaN\n",
    "    '''\n",
    "    return x if x!=0 else np.nan\n",
    "\n",
    "# large annuity compare to principal ?\n",
    "newAppliFeatures['NEW_CREDIT_TO_ANNUITY_RATIO'] =  \\\n",
    "lowMemAppliDf['AMT_CREDIT'] / lowMemAppliDf['AMT_ANNUITY'].apply(zeroToNan)\n",
    "\n",
    "# Difference between principal and goods price, normalized\n",
    "newAppliFeatures['NEW_DOWN_PAYMENT_RATE'] = \\\n",
    "(lowMemAppliDf['AMT_GOODS_PRICE'] - lowMemAppliDf['AMT_CREDIT']) \\\n",
    "/ \\\n",
    "lowMemAppliDf['AMT_GOODS_PRICE'].apply(zeroToNan)\n",
    "\n",
    "# Difference between principal and goods price, normalized\n",
    "newAppliFeatures['NEW_CREDIT_TO_GOOD_RATIO'] = \\\n",
    "(lowMemAppliDf['AMT_CREDIT']) \\\n",
    "/ \\\n",
    "lowMemAppliDf['AMT_GOODS_PRICE'].apply(zeroToNan)\n",
    "\n",
    "# Compare income to annuity\n",
    "newAppliFeatures['NEW_ANNUITY_TO_INCOME_RATIO'] = \\\n",
    "lowMemAppliDf['AMT_ANNUITY'] / lowMemAppliDf['AMT_INCOME_TOTAL'].apply(zeroToNan)\n",
    "\n",
    "# Compare lenght of employement to age\n",
    "newAppliFeatures['NEW_EMPLOY_TO_BIRTH_RATIO'] = \\\n",
    "lowMemAppliDf['DAYS_EMPLOYED'] / lowMemAppliDf['DAYS_BIRTH'].apply(zeroToNan)\n",
    "\n",
    "# EXT_SOURCE\n",
    "# prod\n",
    "newAppliFeatures['NEW_SOURCES_PROD'] = \\\n",
    "lowMemAppliDf[['EXT_SOURCE_1','EXT_SOURCE_2','EXT_SOURCE_3']].prod(axis=1)\n",
    "# mean\n",
    "newAppliFeatures['NEW_EXT_SOURCES_MEAN'] = \\\n",
    "lowMemAppliDf[['EXT_SOURCE_1', 'EXT_SOURCE_2', 'EXT_SOURCE_3']].mean(axis=1)\n",
    "\n",
    "# \"xx_NOT_xx\" features\n",
    "NOTlist = [col for col in lowMemAppliDf.columns if \"_NOT_\" in col]\n",
    "newAppliFeatures[\"NEW_is_NOT_sth\"]=lowMemAppliDf[NOTlist].sum(axis=1)\n",
    "\n",
    "# \"FLAG_DOCUMENT_\" features\n",
    "Less=[\"T_\"+str(e) for e in [6, 7, 8, 9, 11, 13, 14, 15, 16, 17, 18, 19]]\n",
    "DOCLessList = [col for col in lowMemAppliDf.columns if col.split(\"N\")[-1] in Less]\n",
    "newAppliFeatures[\"NEW_is_DOCLess\"]=lowMemAppliDf[DOCLessList].sum(axis=1)\n",
    "\n",
    "More=[\"T_\"+str(e) for e in [2,3,20, 21]]\n",
    "DOCMoreList = [col for col in lowMemAppliDf.columns if col.split(\"N\")[-1] in More]\n",
    "newAppliFeatures[\"NEW_is_DOCMore\"]=lowMemAppliDf[DOCMoreList].sum(axis=1)\n",
    "\n",
    "# compare distributions filtered on target values\n",
    "mf.plotFeatureVsTargetWID(df=pd.concat([lowMemAppliDf[['TARGET']],newAppliFeatures],axis=1), \n",
    "                           targetFeatureName='TARGET', \n",
    "                           targetValsForCat=None, \n",
    "                           targetValsForNum=None,\n",
    "                           includeCatFeatureNan=True, \n",
    "                           includeTargetNan=False\n",
    "                          )\n",
    "\n"
   ]
  },
  {
   "cell_type": "markdown",
   "id": "894dd40d",
   "metadata": {},
   "source": [
    "# Unifier les datasets<a class=\"anchor\" id=\"7\"></a>"
   ]
  },
  {
   "cell_type": "markdown",
   "id": "4da7cc8d",
   "metadata": {},
   "source": [
    "Les différents datasets sont liés les uns autres autres :"
   ]
  },
  {
   "cell_type": "markdown",
   "id": "c9473426",
   "metadata": {},
   "source": [
    "<img src=\"orga_ datasets.png\" alt=\"orga_ datasets\" width=\"1000\"/>"
   ]
  },
  {
   "cell_type": "markdown",
   "id": "44a4039b",
   "metadata": {},
   "source": [
    "## Unifier les datasets - Méthode utilisée<a class=\"anchor\" id=\"71\"></a>"
   ]
  },
  {
   "cell_type": "markdown",
   "id": "cdf71fd7",
   "metadata": {},
   "source": [
    "Afin d'unifier nos datasets, nous devons procéder par étapes :\n",
    "\n",
    "### Quel dataset  conservera tous ses éléments ?\n",
    "La `TARGET` étant dans le dataset `application_train.csv`, nous conserverons toutes ses observations lors des jointures.\n",
    "\n",
    "### Quelle variable commune pour la jointure ?\n",
    "La feature d'identification `SK_ID_CURR` (correspondant aux clients actuels de la banque), présente dans `application_train.csv`, l'est aussi dans :\n",
    "\n",
    "- `bureau.csv`,\n",
    "- `credit_card_balance.csv`,\n",
    "- `installments_payments.csv`,\n",
    "- `POS_CASH_balance.csv`,\n",
    "- `previous_application.csv`\n",
    "\n",
    "Nous utiliserons donc une fonction de jointure pour assembler ces datasets :\n",
    "- avec pour **clé** `SK_ID_CURR` \n",
    "- en **gardant tous les éléments du dataset `application_train.csv`**\n",
    "\n",
    "### Comment traiter `bureau_balance.csv` ?\n",
    "`bureau_balance.csv` ne contient pas `SK_ID_CURR`, mais il a en commun avec `bureau.csv` la feature d'identification `SK_ID_BUREAU`. Nous utiliserons donc une fonction de jointure pour assembler ces 2 datasets :\n",
    "- avec pour **clé** `SK_ID_BUREAU` \n",
    "- en **gardant tous les éléments du dataset `bureau.csv`**\n",
    "- **avant** d'effectuer la jointure sur `application_train.csv`\n",
    "\n",
    "### Comment traiter les doublons de `SK_ID_CURR` et `SK_ID_BUREAU` ?\n",
    "#### `SK_ID_CURR` :\n",
    "Certains clients de la banques ont plusieurs crédits renseignés dans la base de données CREDIT BUREAU ou ont déjà fait plusieurs demandes de prêts (`previous_application.csv`).\n",
    "De la même manière, les historiques :\n",
    "- de remboursements de prêt (`installments_payments.csv`)\n",
    "- de soldes mensuels de carte de crédit (`credit_card_balance.csv`)\n",
    "- de soldes mensuels de facilités de paiement (paiments en plusieurs fois) et de crédits en espèces (`POS_CASH_balance.csv`) \n",
    "\n",
    "ont plusieurs lignes par client\n",
    "#### `SK_ID_BUREAU` :\n",
    "idem pour les soldes mensuels des anciens crédits enregistrés par CREDIT BUREAU, chaque prêt comporte plusieurs lignes.\n",
    "\n",
    "#### Solution :\n",
    "Faire des **agrégations** sur `SK_ID_CURR` (et sur `SK_ID_BUREAU` dans le cas de `bureau_balance.csv`) avant d'effectuer les jointures."
   ]
  },
  {
   "cell_type": "markdown",
   "id": "b4baeb5a",
   "metadata": {},
   "source": [
    "Nous pouvons nous intéresser aux futurs résultat de ces \"agrégations --> jointures\" :"
   ]
  },
  {
   "cell_type": "code",
   "execution_count": 34,
   "id": "05ca7d01",
   "metadata": {},
   "outputs": [
    {
     "data": {
      "text/html": [
       "<div>\n",
       "<style scoped>\n",
       "    .dataframe tbody tr th:only-of-type {\n",
       "        vertical-align: middle;\n",
       "    }\n",
       "\n",
       "    .dataframe tbody tr th {\n",
       "        vertical-align: top;\n",
       "    }\n",
       "\n",
       "    .dataframe thead th {\n",
       "        text-align: right;\n",
       "    }\n",
       "</style>\n",
       "<table border=\"1\" class=\"dataframe\">\n",
       "  <thead>\n",
       "    <tr style=\"text-align: right;\">\n",
       "      <th></th>\n",
       "      <th>size</th>\n",
       "      <th>nUnique_SK_ID_CURR</th>\n",
       "      <th>nRowsPer_SK_ID_CURR_mean</th>\n",
       "      <th>%InterWithAppli</th>\n",
       "      <th>nUnique_SK_ID_BUREAU</th>\n",
       "      <th>nRowsPer_SK_ID_BUREAU_mean</th>\n",
       "      <th>%InterWithBur</th>\n",
       "      <th>nUnique_SK_ID_PREV</th>\n",
       "      <th>nRowsPer_SK_ID_PREV_mean</th>\n",
       "      <th>%InterWithPrev</th>\n",
       "    </tr>\n",
       "  </thead>\n",
       "  <tbody>\n",
       "    <tr>\n",
       "      <th>lowMemAppliDf</th>\n",
       "      <td>307511.0</td>\n",
       "      <td>307511.0</td>\n",
       "      <td>1.0</td>\n",
       "      <td>100%</td>\n",
       "      <td>NaN</td>\n",
       "      <td>NaN</td>\n",
       "      <td>NaN</td>\n",
       "      <td>NaN</td>\n",
       "      <td>NaN</td>\n",
       "      <td>NaN</td>\n",
       "    </tr>\n",
       "    <tr>\n",
       "      <th>lowMemBurDf</th>\n",
       "      <td>1716428.0</td>\n",
       "      <td>305811.0</td>\n",
       "      <td>5.6</td>\n",
       "      <td>86%</td>\n",
       "      <td>1716428.0</td>\n",
       "      <td>1.0</td>\n",
       "      <td>100%</td>\n",
       "      <td>NaN</td>\n",
       "      <td>NaN</td>\n",
       "      <td>NaN</td>\n",
       "    </tr>\n",
       "    <tr>\n",
       "      <th>lowMemBurBalDf</th>\n",
       "      <td>27299925.0</td>\n",
       "      <td>NaN</td>\n",
       "      <td>NaN</td>\n",
       "      <td>NaN</td>\n",
       "      <td>817395.0</td>\n",
       "      <td>33.4</td>\n",
       "      <td>45%</td>\n",
       "      <td>NaN</td>\n",
       "      <td>NaN</td>\n",
       "      <td>NaN</td>\n",
       "    </tr>\n",
       "    <tr>\n",
       "      <th>lowMemCcBalDf</th>\n",
       "      <td>3840312.0</td>\n",
       "      <td>103558.0</td>\n",
       "      <td>37.1</td>\n",
       "      <td>28%</td>\n",
       "      <td>NaN</td>\n",
       "      <td>NaN</td>\n",
       "      <td>NaN</td>\n",
       "      <td>104307.0</td>\n",
       "      <td>36.8</td>\n",
       "      <td>6%</td>\n",
       "    </tr>\n",
       "    <tr>\n",
       "      <th>lowMemInstalPaymDf</th>\n",
       "      <td>13605401.0</td>\n",
       "      <td>339587.0</td>\n",
       "      <td>40.1</td>\n",
       "      <td>95%</td>\n",
       "      <td>NaN</td>\n",
       "      <td>NaN</td>\n",
       "      <td>NaN</td>\n",
       "      <td>997752.0</td>\n",
       "      <td>13.6</td>\n",
       "      <td>57%</td>\n",
       "    </tr>\n",
       "    <tr>\n",
       "      <th>lowMemPosDf</th>\n",
       "      <td>10001358.0</td>\n",
       "      <td>337252.0</td>\n",
       "      <td>29.7</td>\n",
       "      <td>94%</td>\n",
       "      <td>NaN</td>\n",
       "      <td>NaN</td>\n",
       "      <td>NaN</td>\n",
       "      <td>936325.0</td>\n",
       "      <td>10.7</td>\n",
       "      <td>54%</td>\n",
       "    </tr>\n",
       "    <tr>\n",
       "      <th>lowMemPrevAppDf</th>\n",
       "      <td>1670214.0</td>\n",
       "      <td>338857.0</td>\n",
       "      <td>4.9</td>\n",
       "      <td>95%</td>\n",
       "      <td>NaN</td>\n",
       "      <td>NaN</td>\n",
       "      <td>NaN</td>\n",
       "      <td>1670214.0</td>\n",
       "      <td>1.0</td>\n",
       "      <td>100%</td>\n",
       "    </tr>\n",
       "  </tbody>\n",
       "</table>\n",
       "</div>"
      ],
      "text/plain": [
       "                          size  nUnique_SK_ID_CURR  nRowsPer_SK_ID_CURR_mean  \\\n",
       "lowMemAppliDf         307511.0            307511.0                       1.0   \n",
       "lowMemBurDf          1716428.0            305811.0                       5.6   \n",
       "lowMemBurBalDf      27299925.0                 NaN                       NaN   \n",
       "lowMemCcBalDf        3840312.0            103558.0                      37.1   \n",
       "lowMemInstalPaymDf  13605401.0            339587.0                      40.1   \n",
       "lowMemPosDf         10001358.0            337252.0                      29.7   \n",
       "lowMemPrevAppDf      1670214.0            338857.0                       4.9   \n",
       "\n",
       "                   %InterWithAppli  nUnique_SK_ID_BUREAU  \\\n",
       "lowMemAppliDf                 100%                   NaN   \n",
       "lowMemBurDf                    86%             1716428.0   \n",
       "lowMemBurBalDf                 NaN              817395.0   \n",
       "lowMemCcBalDf                  28%                   NaN   \n",
       "lowMemInstalPaymDf             95%                   NaN   \n",
       "lowMemPosDf                    94%                   NaN   \n",
       "lowMemPrevAppDf                95%                   NaN   \n",
       "\n",
       "                    nRowsPer_SK_ID_BUREAU_mean %InterWithBur  \\\n",
       "lowMemAppliDf                              NaN           NaN   \n",
       "lowMemBurDf                                1.0          100%   \n",
       "lowMemBurBalDf                            33.4           45%   \n",
       "lowMemCcBalDf                              NaN           NaN   \n",
       "lowMemInstalPaymDf                         NaN           NaN   \n",
       "lowMemPosDf                                NaN           NaN   \n",
       "lowMemPrevAppDf                            NaN           NaN   \n",
       "\n",
       "                    nUnique_SK_ID_PREV  nRowsPer_SK_ID_PREV_mean  \\\n",
       "lowMemAppliDf                      NaN                       NaN   \n",
       "lowMemBurDf                        NaN                       NaN   \n",
       "lowMemBurBalDf                     NaN                       NaN   \n",
       "lowMemCcBalDf                 104307.0                      36.8   \n",
       "lowMemInstalPaymDf            997752.0                      13.6   \n",
       "lowMemPosDf                   936325.0                      10.7   \n",
       "lowMemPrevAppDf              1670214.0                       1.0   \n",
       "\n",
       "                   %InterWithPrev  \n",
       "lowMemAppliDf                 NaN  \n",
       "lowMemBurDf                   NaN  \n",
       "lowMemBurBalDf                NaN  \n",
       "lowMemCcBalDf                  6%  \n",
       "lowMemInstalPaymDf            57%  \n",
       "lowMemPosDf                   54%  \n",
       "lowMemPrevAppDf              100%  "
      ]
     },
     "metadata": {},
     "output_type": "display_data"
    }
   ],
   "source": [
    "# create a dataframe with, for each dataset :\n",
    "    # the number of unique 'SK_ID_xx'\n",
    "    # the number of duplicates\n",
    "    # the correspondence with the 'SK_ID_xx's from the main dataset\n",
    "\n",
    "# create path\n",
    "if not os.path.isdir(\"mySaves/myDataFrames/SK_IDs\") :\n",
    "    os.mkdir(\"mySaves/myDataFrames/SK_IDs\")\n",
    "\n",
    "if (\"SK_IDsDf.joblib\" not in os.listdir(\"mySaves/myDataFrames/SK_IDs\")) or (rapidProcessing==False) :\n",
    "    \n",
    "    # if SK_IDsDf does not exist, create it\n",
    "    SK_IDsDf = pd.DataFrame() # initiate a dataframe\n",
    "    \n",
    "    # extract 'SK_ID_xx' columns from main datasets\n",
    "    testCURList=lowMemAppliDf.SK_ID_CURR.to_list()\n",
    "    testBURList=lowMemBurDf.SK_ID_BUREAU.to_list()\n",
    "    testPREList=lowMemPrevAppDf.SK_ID_PREV.to_list()\n",
    "\n",
    "    for dfName,df in zip(lowMemDfNames,enhancedDfDict.values()) : # iterate on datasets\n",
    "        SK_IDsDf.loc[dfName,\"size\"]=len(df) # create a columns with sizes\n",
    "        # iterate on ...\n",
    "        for idCol,testList,dfNameBis in zip(\n",
    "            [\"SK_ID_CURR\",\"SK_ID_BUREAU\",\"SK_ID_PREV\"], #... 'SK_ID_xx's names\n",
    "            [testCURList,testBURList,testPREList], # ... 'SK_ID_xx's columns in main datasets\n",
    "            [\"Appli\",\"Bur\",\"Prev\"] # ... main datasets names\n",
    "        ) :\n",
    "            if idCol in df.columns : # if SK_ID_xx exists in df \n",
    "                SK_IDsDf.loc[dfName,\"nUnique_\"+idCol]=df[idCol].nunique() # number of uniques 'SK_ID_xx'\n",
    "                SK_IDsDf.loc[dfName,\"nRowsPer_\"+idCol+\"_mean\"]=round(df[idCol].value_counts().mean(),1) # average number of duplicates\n",
    "                SK_IDsDf.loc[dfName,\"%InterWith\"+dfNameBis]= \\\n",
    "                str(int(round(len(set(testList).intersection(df[idCol].to_list()))/len(testList)*100,0)))+\"%\" # % of matching 'SK_ID_xx'\n",
    "    \n",
    "    # save to .joblib\n",
    "    dump(SK_IDsDf,\"mySaves/myDataFrames/SK_IDs/SK_IDsDf.joblib\")\n",
    "\n",
    "else :\n",
    "    SK_IDsDf=load(\"mySaves/myDataFrames/SK_IDs/SK_IDsDf.joblib\")\n",
    "        \n",
    "display(SK_IDsDf)"
   ]
  },
  {
   "cell_type": "markdown",
   "id": "f66bf820",
   "metadata": {},
   "source": [
    "ce que l'on peut en retenir :\n",
    "#### nombres de 'SK_ID_xx' moyens :\n",
    "- les clients ont en moyenne 5.6 prêts enregistrés chez CREDIT BUREAU\n",
    "- les clients ont déjà réalisé en moyenne 4.9 demandes de prêt à la banque\n",
    "- les clients concernés ont autour de 30-40 historiques de soldes / remboursements\n",
    "#### correspondance des 'SK_ID_xx' entre datasets :\n",
    "- le niveau de correspondance entre datasets est **hétérogène**\n",
    "- on remarque par exemple que les datasets d'historique de paiements/remboursements/soldes, ont plus de `SK_ID_CURR` en commun avec `application_train.csv` qu'ils n'ont de `SK_ID_PREV` en commun avec leur dataset \"père\" `previous_application.csv`. On voit donc qu'**il semblerait qu'il soit plus pertinent d'effectuer directement la jointure sur `SK_ID_CURR`**.\n",
    "- d'un manière générale, les colonnes créées par agrégation ne seront remplies, au maximun, qu'à hauteur du niveau de correspondance avec jointure. **L'intégration des autres datasets va donc générer des valeurs manquantes, qu'il faudra traiter**."
   ]
  },
  {
   "cell_type": "markdown",
   "id": "1c796bd3",
   "metadata": {},
   "source": [
    "\n"
   ]
  },
  {
   "cell_type": "markdown",
   "id": "57de6d4b",
   "metadata": {},
   "source": [
    "## Unifier les datasets - Encodage des features catégorielles avant aggrégation<a class=\"anchor\" id=\"72\"></a>"
   ]
  },
  {
   "cell_type": "markdown",
   "id": "e63ffff1",
   "metadata": {},
   "source": [
    "Avant d'aggréger les dataset concernés sur les `SK_ID_xx`, nous devons **encoder** leur features catégorielles.\n",
    "\n",
    "En effet il serait tout simplement possible de ne garder à chaque fois que le mode, le premier ou le dernier, mais cela reviendrait à perdre de l'information."
   ]
  },
  {
   "cell_type": "code",
   "execution_count": 35,
   "id": "02e17fa1",
   "metadata": {
    "scrolled": false
   },
   "outputs": [
    {
     "name": "stdout",
     "output_type": "stream",
     "text": [
      "dataframe example :\n"
     ]
    },
    {
     "data": {
      "text/html": [
       "<div>\n",
       "<style scoped>\n",
       "    .dataframe tbody tr th:only-of-type {\n",
       "        vertical-align: middle;\n",
       "    }\n",
       "\n",
       "    .dataframe tbody tr th {\n",
       "        vertical-align: top;\n",
       "    }\n",
       "\n",
       "    .dataframe thead th {\n",
       "        text-align: right;\n",
       "    }\n",
       "</style>\n",
       "<table border=\"1\" class=\"dataframe\">\n",
       "  <thead>\n",
       "    <tr style=\"text-align: right;\">\n",
       "      <th></th>\n",
       "      <th>id</th>\n",
       "      <th>A</th>\n",
       "    </tr>\n",
       "  </thead>\n",
       "  <tbody>\n",
       "    <tr>\n",
       "      <th>0</th>\n",
       "      <td>1</td>\n",
       "      <td>a</td>\n",
       "    </tr>\n",
       "    <tr>\n",
       "      <th>1</th>\n",
       "      <td>1</td>\n",
       "      <td>a</td>\n",
       "    </tr>\n",
       "    <tr>\n",
       "      <th>2</th>\n",
       "      <td>1</td>\n",
       "      <td>b</td>\n",
       "    </tr>\n",
       "    <tr>\n",
       "      <th>3</th>\n",
       "      <td>1</td>\n",
       "      <td>c</td>\n",
       "    </tr>\n",
       "    <tr>\n",
       "      <th>4</th>\n",
       "      <td>2</td>\n",
       "      <td>b</td>\n",
       "    </tr>\n",
       "    <tr>\n",
       "      <th>5</th>\n",
       "      <td>2</td>\n",
       "      <td>b</td>\n",
       "    </tr>\n",
       "    <tr>\n",
       "      <th>6</th>\n",
       "      <td>2</td>\n",
       "      <td>a</td>\n",
       "    </tr>\n",
       "    <tr>\n",
       "      <th>7</th>\n",
       "      <td>3</td>\n",
       "      <td>a</td>\n",
       "    </tr>\n",
       "    <tr>\n",
       "      <th>8</th>\n",
       "      <td>3</td>\n",
       "      <td>c</td>\n",
       "    </tr>\n",
       "    <tr>\n",
       "      <th>9</th>\n",
       "      <td>3</td>\n",
       "      <td>d</td>\n",
       "    </tr>\n",
       "  </tbody>\n",
       "</table>\n",
       "</div>"
      ],
      "text/plain": [
       "   id  A\n",
       "0   1  a\n",
       "1   1  a\n",
       "2   1  b\n",
       "3   1  c\n",
       "4   2  b\n",
       "5   2  b\n",
       "6   2  a\n",
       "7   3  a\n",
       "8   3  c\n",
       "9   3  d"
      ]
     },
     "metadata": {},
     "output_type": "display_data"
    },
    {
     "name": "stdout",
     "output_type": "stream",
     "text": [
      "--------------------------------------------------\n",
      "Different aggregations on 'A', then OHE :\n"
     ]
    },
    {
     "data": {
      "text/html": [
       "<div>\n",
       "<style scoped>\n",
       "    .dataframe tbody tr th:only-of-type {\n",
       "        vertical-align: middle;\n",
       "    }\n",
       "\n",
       "    .dataframe tbody tr th {\n",
       "        vertical-align: top;\n",
       "    }\n",
       "\n",
       "    .dataframe thead th {\n",
       "        text-align: right;\n",
       "    }\n",
       "</style>\n",
       "<table border=\"1\" class=\"dataframe\">\n",
       "  <thead>\n",
       "    <tr style=\"text-align: right;\">\n",
       "      <th></th>\n",
       "      <th>id</th>\n",
       "      <th>A_myMode_a</th>\n",
       "      <th>A_myMode_b</th>\n",
       "      <th>A_first_a</th>\n",
       "      <th>A_first_b</th>\n",
       "      <th>A_last_a</th>\n",
       "      <th>A_last_c</th>\n",
       "      <th>A_last_d</th>\n",
       "    </tr>\n",
       "  </thead>\n",
       "  <tbody>\n",
       "    <tr>\n",
       "      <th>0</th>\n",
       "      <td>1</td>\n",
       "      <td>1</td>\n",
       "      <td>0</td>\n",
       "      <td>1</td>\n",
       "      <td>0</td>\n",
       "      <td>0</td>\n",
       "      <td>1</td>\n",
       "      <td>0</td>\n",
       "    </tr>\n",
       "    <tr>\n",
       "      <th>1</th>\n",
       "      <td>2</td>\n",
       "      <td>0</td>\n",
       "      <td>1</td>\n",
       "      <td>0</td>\n",
       "      <td>1</td>\n",
       "      <td>1</td>\n",
       "      <td>0</td>\n",
       "      <td>0</td>\n",
       "    </tr>\n",
       "    <tr>\n",
       "      <th>2</th>\n",
       "      <td>3</td>\n",
       "      <td>1</td>\n",
       "      <td>0</td>\n",
       "      <td>1</td>\n",
       "      <td>0</td>\n",
       "      <td>0</td>\n",
       "      <td>0</td>\n",
       "      <td>1</td>\n",
       "    </tr>\n",
       "  </tbody>\n",
       "</table>\n",
       "</div>"
      ],
      "text/plain": [
       "   id  A_myMode_a  A_myMode_b  A_first_a  A_first_b  A_last_a  A_last_c  \\\n",
       "0   1           1           0          1          0         0         1   \n",
       "1   2           0           1          0          1         1         0   \n",
       "2   3           1           0          1          0         0         0   \n",
       "\n",
       "   A_last_d  \n",
       "0         0  \n",
       "1         0  \n",
       "2         1  "
      ]
     },
     "metadata": {},
     "output_type": "display_data"
    },
    {
     "name": "stdout",
     "output_type": "stream",
     "text": [
      "--------------------------------------------------\n",
      "OHE, then different aggregations :\n"
     ]
    },
    {
     "data": {
      "text/html": [
       "<div>\n",
       "<style scoped>\n",
       "    .dataframe tbody tr th:only-of-type {\n",
       "        vertical-align: middle;\n",
       "    }\n",
       "\n",
       "    .dataframe tbody tr th {\n",
       "        vertical-align: top;\n",
       "    }\n",
       "\n",
       "    .dataframe thead th {\n",
       "        text-align: right;\n",
       "    }\n",
       "</style>\n",
       "<table border=\"1\" class=\"dataframe\">\n",
       "  <thead>\n",
       "    <tr style=\"text-align: right;\">\n",
       "      <th></th>\n",
       "      <th>id</th>\n",
       "      <th>A_a_mean</th>\n",
       "      <th>A_a_sum</th>\n",
       "      <th>A_b_mean</th>\n",
       "      <th>A_b_sum</th>\n",
       "      <th>A_c_mean</th>\n",
       "      <th>A_c_sum</th>\n",
       "      <th>A_d_mean</th>\n",
       "      <th>A_d_sum</th>\n",
       "    </tr>\n",
       "  </thead>\n",
       "  <tbody>\n",
       "    <tr>\n",
       "      <th>0</th>\n",
       "      <td>1</td>\n",
       "      <td>0.500000</td>\n",
       "      <td>2</td>\n",
       "      <td>0.250000</td>\n",
       "      <td>1</td>\n",
       "      <td>0.250000</td>\n",
       "      <td>1</td>\n",
       "      <td>0.000000</td>\n",
       "      <td>0</td>\n",
       "    </tr>\n",
       "    <tr>\n",
       "      <th>1</th>\n",
       "      <td>2</td>\n",
       "      <td>0.333333</td>\n",
       "      <td>1</td>\n",
       "      <td>0.666667</td>\n",
       "      <td>2</td>\n",
       "      <td>0.000000</td>\n",
       "      <td>0</td>\n",
       "      <td>0.000000</td>\n",
       "      <td>0</td>\n",
       "    </tr>\n",
       "    <tr>\n",
       "      <th>2</th>\n",
       "      <td>3</td>\n",
       "      <td>0.333333</td>\n",
       "      <td>1</td>\n",
       "      <td>0.000000</td>\n",
       "      <td>0</td>\n",
       "      <td>0.333333</td>\n",
       "      <td>1</td>\n",
       "      <td>0.333333</td>\n",
       "      <td>1</td>\n",
       "    </tr>\n",
       "  </tbody>\n",
       "</table>\n",
       "</div>"
      ],
      "text/plain": [
       "   id  A_a_mean  A_a_sum  A_b_mean  A_b_sum  A_c_mean  A_c_sum  A_d_mean  \\\n",
       "0   1  0.500000        2  0.250000        1  0.250000        1  0.000000   \n",
       "1   2  0.333333        1  0.666667        2  0.000000        0  0.000000   \n",
       "2   3  0.333333        1  0.000000        0  0.333333        1  0.333333   \n",
       "\n",
       "   A_d_sum  \n",
       "0        0  \n",
       "1        0  \n",
       "2        1  "
      ]
     },
     "metadata": {},
     "output_type": "display_data"
    }
   ],
   "source": [
    "exemple=pd.DataFrame({\"id\":[1,1,1,1,2,2,2,3,3,3],\n",
    "                    \"A\":list(\"aabcbbaacd\")})\n",
    "print(\"dataframe example :\")\n",
    "display(exemple)\n",
    "print(\"-\"*50)\n",
    "## USE COTEGORICAL GROUPBY FUNCTIONS THEN OHE\n",
    "# create a simple function to return the mode of a Series\n",
    "def myMode(x) : \n",
    "    '''\n",
    "    parameter :\n",
    "    -----------\n",
    "    x - Series\n",
    "    \n",
    "    return :\n",
    "    --------\n",
    "    mode - scalar : the mode of the Serie (or one of them if several)\n",
    "    '''\n",
    "    return x.value_counts().index[0]\n",
    "# create an aggregation dict\n",
    "aggDict={\"A\" : [myMode,\"first\",\"last\"]}\n",
    "\n",
    "# aggregate\n",
    "aggExemple=exemple.groupby(\"id\").agg(aggDict).reset_index()\n",
    "aggExemple.columns=pd.Index([colName[0]+\"_\"+colName[1] if colName[1] else colName[0] for colName in aggExemple.columns])\n",
    "\n",
    "# prepare for a model with OHE\n",
    "enc=OneHotEncoder(drop=None,handle_unknown=\"ignore\",dtype='int8',sparse_output=False)\n",
    "oheColsNames = aggExemple.select_dtypes('O').columns\n",
    "encAggExemple=pd.DataFrame(enc.fit_transform(aggExemple[oheColsNames]),columns=enc.get_feature_names_out())\n",
    "encAggExemple=pd.concat([aggExemple[[col for col in aggExemple.columns if col not in oheColsNames]],encAggExemple],axis=1)\n",
    "\n",
    "print(\"Different aggregations on 'A', then OHE :\")\n",
    "display(encAggExemple)\n",
    "print(\"-\"*50)\n",
    "\n",
    "## OHE THEN AGG\n",
    "\n",
    "# OHE\n",
    "enc=OneHotEncoder(drop=None,handle_unknown=\"ignore\",dtype='int8',sparse_output=False)\n",
    "oheColsNames=[\"A\"]\n",
    "encExemple=pd.DataFrame(enc.fit_transform(exemple[oheColsNames]),columns=enc.get_feature_names_out())\n",
    "encExemple=pd.concat([exemple[[col for col in exemple.columns if col not in oheColsNames]],encExemple],axis=1)\n",
    "\n",
    "# create an aggregation dict\n",
    "aggDict={col : [\"mean\",\"sum\"] for col in enc.get_feature_names_out()}\n",
    "\n",
    "# aggregate\n",
    "aggEncExemple=encExemple.groupby(\"id\").agg(aggDict).reset_index()\n",
    "aggEncExemple.columns=pd.Index([colName[0]+\"_\"+colName[1] if colName[1] else colName[0] for colName in aggEncExemple.columns])\n",
    "print(\"OHE, then different aggregations :\")\n",
    "display(aggEncExemple)"
   ]
  },
  {
   "cell_type": "markdown",
   "id": "acee8b10",
   "metadata": {},
   "source": [
    "Nous perdons plus d'information dans le premier cas, pour plus de features.\n",
    "\n",
    "Nuance : nous utiliserons tout de même l'aggrégation par le mode pour les features comportant beaucoup de catégories (qui ne subiront donc pas d'encodage préalable au groupby). Ce choix est fait afin de ne pas créer trop de features."
   ]
  },
  {
   "cell_type": "markdown",
   "id": "5c4562ae",
   "metadata": {},
   "source": [
    "Nous utiliserons différents encoders pour cette opération d'aggrégation :\n",
    "- `ordinal` pour les features considérées comme **ordinales**\n",
    "- `one_hot_encoder` pour les features considérées comme **nominales**\n",
    "\n",
    "Nous en profiterons pour regarder aussi les features catégorielles du dataset principal `application_train.csv` (non concerné par les agrégations), pour anticiper sur le futur preprocessing. Nous utiliserons lors de cette phase un autre encoder, `targetencoder`, pour les features **nominales avec beaucoup de catégories** (et ainsi éviter de créer trop de colonnes via un One Hot Encoding)."
   ]
  },
  {
   "cell_type": "markdown",
   "id": "634b614c",
   "metadata": {},
   "source": [
    "### Choix : \"nominal\", \"nominal avec beaucoup de catégories\", \"ordinal\""
   ]
  },
  {
   "cell_type": "code",
   "execution_count": 36,
   "id": "749e5401",
   "metadata": {},
   "outputs": [
    {
     "data": {
      "text/html": [
       "<div>\n",
       "<style scoped>\n",
       "    .dataframe tbody tr th:only-of-type {\n",
       "        vertical-align: middle;\n",
       "    }\n",
       "\n",
       "    .dataframe tbody tr th {\n",
       "        vertical-align: top;\n",
       "    }\n",
       "\n",
       "    .dataframe thead th {\n",
       "        text-align: right;\n",
       "    }\n",
       "</style>\n",
       "<table border=\"1\" class=\"dataframe\">\n",
       "  <thead>\n",
       "    <tr style=\"text-align: right;\">\n",
       "      <th></th>\n",
       "      <th>Table</th>\n",
       "      <th>Row</th>\n",
       "      <th>NaN_rate</th>\n",
       "      <th>dtype</th>\n",
       "      <th>nunique</th>\n",
       "      <th>categType_or_order</th>\n",
       "    </tr>\n",
       "  </thead>\n",
       "  <tbody>\n",
       "    <tr>\n",
       "      <th>11</th>\n",
       "      <td>application_train.csv</td>\n",
       "      <td>NAME_TYPE_SUITE</td>\n",
       "      <td>4.201476e-03</td>\n",
       "      <td>category</td>\n",
       "      <td>7.0</td>\n",
       "      <td>highCardinality</td>\n",
       "    </tr>\n",
       "    <tr>\n",
       "      <th>12</th>\n",
       "      <td>application_train.csv</td>\n",
       "      <td>NAME_INCOME_TYPE</td>\n",
       "      <td>0.000000e+00</td>\n",
       "      <td>category</td>\n",
       "      <td>8.0</td>\n",
       "      <td>highCardinality</td>\n",
       "    </tr>\n",
       "    <tr>\n",
       "      <th>13</th>\n",
       "      <td>application_train.csv</td>\n",
       "      <td>NAME_EDUCATION_TYPE</td>\n",
       "      <td>0.000000e+00</td>\n",
       "      <td>category</td>\n",
       "      <td>5.0</td>\n",
       "      <td>[Lower secondary, Secondary / secondary specia...</td>\n",
       "    </tr>\n",
       "    <tr>\n",
       "      <th>14</th>\n",
       "      <td>application_train.csv</td>\n",
       "      <td>NAME_FAMILY_STATUS</td>\n",
       "      <td>6.503832e-06</td>\n",
       "      <td>category</td>\n",
       "      <td>5.0</td>\n",
       "      <td>nominal</td>\n",
       "    </tr>\n",
       "    <tr>\n",
       "      <th>15</th>\n",
       "      <td>application_train.csv</td>\n",
       "      <td>NAME_HOUSING_TYPE</td>\n",
       "      <td>0.000000e+00</td>\n",
       "      <td>category</td>\n",
       "      <td>6.0</td>\n",
       "      <td>nominal</td>\n",
       "    </tr>\n",
       "    <tr>\n",
       "      <th>28</th>\n",
       "      <td>application_train.csv</td>\n",
       "      <td>OCCUPATION_TYPE</td>\n",
       "      <td>3.134555e-01</td>\n",
       "      <td>category</td>\n",
       "      <td>18.0</td>\n",
       "      <td>highCardinality</td>\n",
       "    </tr>\n",
       "    <tr>\n",
       "      <th>32</th>\n",
       "      <td>application_train.csv</td>\n",
       "      <td>WEEKDAY_APPR_PROCESS_START</td>\n",
       "      <td>0.000000e+00</td>\n",
       "      <td>category</td>\n",
       "      <td>7.0</td>\n",
       "      <td>highCardinality</td>\n",
       "    </tr>\n",
       "    <tr>\n",
       "      <th>40</th>\n",
       "      <td>application_train.csv</td>\n",
       "      <td>ORGANIZATION_TYPE</td>\n",
       "      <td>1.800716e-01</td>\n",
       "      <td>category</td>\n",
       "      <td>57.0</td>\n",
       "      <td>highCardinality</td>\n",
       "    </tr>\n",
       "    <tr>\n",
       "      <th>86</th>\n",
       "      <td>application_train.csv</td>\n",
       "      <td>FONDKAPREMONT_MODE</td>\n",
       "      <td>7.023554e-01</td>\n",
       "      <td>category</td>\n",
       "      <td>3.0</td>\n",
       "      <td>nominal</td>\n",
       "    </tr>\n",
       "    <tr>\n",
       "      <th>87</th>\n",
       "      <td>application_train.csv</td>\n",
       "      <td>HOUSETYPE_MODE</td>\n",
       "      <td>5.017609e-01</td>\n",
       "      <td>category</td>\n",
       "      <td>3.0</td>\n",
       "      <td>nominal</td>\n",
       "    </tr>\n",
       "    <tr>\n",
       "      <th>89</th>\n",
       "      <td>application_train.csv</td>\n",
       "      <td>WALLSMATERIAL_MODE</td>\n",
       "      <td>5.084078e-01</td>\n",
       "      <td>category</td>\n",
       "      <td>7.0</td>\n",
       "      <td>highCardinality</td>\n",
       "    </tr>\n",
       "    <tr>\n",
       "      <th>124</th>\n",
       "      <td>bureau.csv</td>\n",
       "      <td>CREDIT_ACTIVE</td>\n",
       "      <td>0.000000e+00</td>\n",
       "      <td>category</td>\n",
       "      <td>4.0</td>\n",
       "      <td>nominal</td>\n",
       "    </tr>\n",
       "    <tr>\n",
       "      <th>125</th>\n",
       "      <td>bureau.csv</td>\n",
       "      <td>CREDIT_CURRENCY</td>\n",
       "      <td>0.000000e+00</td>\n",
       "      <td>category</td>\n",
       "      <td>4.0</td>\n",
       "      <td>nominal</td>\n",
       "    </tr>\n",
       "    <tr>\n",
       "      <th>136</th>\n",
       "      <td>bureau.csv</td>\n",
       "      <td>CREDIT_TYPE</td>\n",
       "      <td>3.233459e-04</td>\n",
       "      <td>category</td>\n",
       "      <td>14.0</td>\n",
       "      <td>highCardinality</td>\n",
       "    </tr>\n",
       "    <tr>\n",
       "      <th>141</th>\n",
       "      <td>bureau_balance.csv</td>\n",
       "      <td>STATUS</td>\n",
       "      <td>2.128388e-01</td>\n",
       "      <td>category</td>\n",
       "      <td>7.0</td>\n",
       "      <td>[C, missing, 0, 1, 2, 3, 4, 5]</td>\n",
       "    </tr>\n",
       "    <tr>\n",
       "      <th>147</th>\n",
       "      <td>POS_CASH_balance.csv</td>\n",
       "      <td>NAME_CONTRACT_STATUS</td>\n",
       "      <td>1.999728e-07</td>\n",
       "      <td>category</td>\n",
       "      <td>8.0</td>\n",
       "      <td>highCardinality</td>\n",
       "    </tr>\n",
       "    <tr>\n",
       "      <th>170</th>\n",
       "      <td>credit_card_balance.csv</td>\n",
       "      <td>NAME_CONTRACT_STATUS</td>\n",
       "      <td>0.000000e+00</td>\n",
       "      <td>category</td>\n",
       "      <td>7.0</td>\n",
       "      <td>highCardinality</td>\n",
       "    </tr>\n",
       "    <tr>\n",
       "      <th>175</th>\n",
       "      <td>previous_application.csv</td>\n",
       "      <td>NAME_CONTRACT_TYPE</td>\n",
       "      <td>2.071591e-04</td>\n",
       "      <td>category</td>\n",
       "      <td>3.0</td>\n",
       "      <td>nominal</td>\n",
       "    </tr>\n",
       "    <tr>\n",
       "      <th>181</th>\n",
       "      <td>previous_application.csv</td>\n",
       "      <td>WEEKDAY_APPR_PROCESS_START</td>\n",
       "      <td>0.000000e+00</td>\n",
       "      <td>category</td>\n",
       "      <td>7.0</td>\n",
       "      <td>highCardinality</td>\n",
       "    </tr>\n",
       "    <tr>\n",
       "      <th>189</th>\n",
       "      <td>previous_application.csv</td>\n",
       "      <td>NAME_CASH_LOAN_PURPOSE</td>\n",
       "      <td>9.583077e-01</td>\n",
       "      <td>category</td>\n",
       "      <td>23.0</td>\n",
       "      <td>highCardinality</td>\n",
       "    </tr>\n",
       "    <tr>\n",
       "      <th>190</th>\n",
       "      <td>previous_application.csv</td>\n",
       "      <td>NAME_CONTRACT_STATUS</td>\n",
       "      <td>0.000000e+00</td>\n",
       "      <td>category</td>\n",
       "      <td>4.0</td>\n",
       "      <td>nominal</td>\n",
       "    </tr>\n",
       "    <tr>\n",
       "      <th>192</th>\n",
       "      <td>previous_application.csv</td>\n",
       "      <td>NAME_PAYMENT_TYPE</td>\n",
       "      <td>3.756309e-01</td>\n",
       "      <td>category</td>\n",
       "      <td>3.0</td>\n",
       "      <td>nominal</td>\n",
       "    </tr>\n",
       "    <tr>\n",
       "      <th>193</th>\n",
       "      <td>previous_application.csv</td>\n",
       "      <td>CODE_REJECT_REASON</td>\n",
       "      <td>8.132712e-01</td>\n",
       "      <td>category</td>\n",
       "      <td>7.0</td>\n",
       "      <td>highCardinality</td>\n",
       "    </tr>\n",
       "    <tr>\n",
       "      <th>194</th>\n",
       "      <td>previous_application.csv</td>\n",
       "      <td>NAME_TYPE_SUITE</td>\n",
       "      <td>4.911975e-01</td>\n",
       "      <td>category</td>\n",
       "      <td>7.0</td>\n",
       "      <td>highCardinality</td>\n",
       "    </tr>\n",
       "    <tr>\n",
       "      <th>195</th>\n",
       "      <td>previous_application.csv</td>\n",
       "      <td>NAME_CLIENT_TYPE</td>\n",
       "      <td>1.162127e-03</td>\n",
       "      <td>category</td>\n",
       "      <td>3.0</td>\n",
       "      <td>[Repeated, Refreshed, New, missing]</td>\n",
       "    </tr>\n",
       "    <tr>\n",
       "      <th>196</th>\n",
       "      <td>previous_application.csv</td>\n",
       "      <td>NAME_GOODS_CATEGORY</td>\n",
       "      <td>5.692738e-01</td>\n",
       "      <td>category</td>\n",
       "      <td>27.0</td>\n",
       "      <td>highCardinality</td>\n",
       "    </tr>\n",
       "    <tr>\n",
       "      <th>197</th>\n",
       "      <td>previous_application.csv</td>\n",
       "      <td>NAME_PORTFOLIO</td>\n",
       "      <td>2.228637e-01</td>\n",
       "      <td>category</td>\n",
       "      <td>4.0</td>\n",
       "      <td>nominal</td>\n",
       "    </tr>\n",
       "    <tr>\n",
       "      <th>199</th>\n",
       "      <td>previous_application.csv</td>\n",
       "      <td>CHANNEL_TYPE</td>\n",
       "      <td>0.000000e+00</td>\n",
       "      <td>category</td>\n",
       "      <td>8.0</td>\n",
       "      <td>highCardinality</td>\n",
       "    </tr>\n",
       "    <tr>\n",
       "      <th>201</th>\n",
       "      <td>previous_application.csv</td>\n",
       "      <td>NAME_SELLER_INDUSTRY</td>\n",
       "      <td>5.123415e-01</td>\n",
       "      <td>category</td>\n",
       "      <td>10.0</td>\n",
       "      <td>highCardinality</td>\n",
       "    </tr>\n",
       "    <tr>\n",
       "      <th>203</th>\n",
       "      <td>previous_application.csv</td>\n",
       "      <td>NAME_YIELD_GROUP</td>\n",
       "      <td>3.096699e-01</td>\n",
       "      <td>category</td>\n",
       "      <td>4.0</td>\n",
       "      <td>[low_action, low_normal, middle, missing, high]</td>\n",
       "    </tr>\n",
       "    <tr>\n",
       "      <th>204</th>\n",
       "      <td>previous_application.csv</td>\n",
       "      <td>PRODUCT_COMBINATION</td>\n",
       "      <td>2.071591e-04</td>\n",
       "      <td>category</td>\n",
       "      <td>17.0</td>\n",
       "      <td>highCardinality</td>\n",
       "    </tr>\n",
       "  </tbody>\n",
       "</table>\n",
       "</div>"
      ],
      "text/plain": [
       "                        Table                         Row      NaN_rate  \\\n",
       "11      application_train.csv             NAME_TYPE_SUITE  4.201476e-03   \n",
       "12      application_train.csv            NAME_INCOME_TYPE  0.000000e+00   \n",
       "13      application_train.csv         NAME_EDUCATION_TYPE  0.000000e+00   \n",
       "14      application_train.csv          NAME_FAMILY_STATUS  6.503832e-06   \n",
       "15      application_train.csv           NAME_HOUSING_TYPE  0.000000e+00   \n",
       "28      application_train.csv             OCCUPATION_TYPE  3.134555e-01   \n",
       "32      application_train.csv  WEEKDAY_APPR_PROCESS_START  0.000000e+00   \n",
       "40      application_train.csv           ORGANIZATION_TYPE  1.800716e-01   \n",
       "86      application_train.csv          FONDKAPREMONT_MODE  7.023554e-01   \n",
       "87      application_train.csv              HOUSETYPE_MODE  5.017609e-01   \n",
       "89      application_train.csv          WALLSMATERIAL_MODE  5.084078e-01   \n",
       "124                bureau.csv               CREDIT_ACTIVE  0.000000e+00   \n",
       "125                bureau.csv             CREDIT_CURRENCY  0.000000e+00   \n",
       "136                bureau.csv                 CREDIT_TYPE  3.233459e-04   \n",
       "141        bureau_balance.csv                      STATUS  2.128388e-01   \n",
       "147      POS_CASH_balance.csv        NAME_CONTRACT_STATUS  1.999728e-07   \n",
       "170   credit_card_balance.csv        NAME_CONTRACT_STATUS  0.000000e+00   \n",
       "175  previous_application.csv          NAME_CONTRACT_TYPE  2.071591e-04   \n",
       "181  previous_application.csv  WEEKDAY_APPR_PROCESS_START  0.000000e+00   \n",
       "189  previous_application.csv      NAME_CASH_LOAN_PURPOSE  9.583077e-01   \n",
       "190  previous_application.csv        NAME_CONTRACT_STATUS  0.000000e+00   \n",
       "192  previous_application.csv           NAME_PAYMENT_TYPE  3.756309e-01   \n",
       "193  previous_application.csv          CODE_REJECT_REASON  8.132712e-01   \n",
       "194  previous_application.csv             NAME_TYPE_SUITE  4.911975e-01   \n",
       "195  previous_application.csv            NAME_CLIENT_TYPE  1.162127e-03   \n",
       "196  previous_application.csv         NAME_GOODS_CATEGORY  5.692738e-01   \n",
       "197  previous_application.csv              NAME_PORTFOLIO  2.228637e-01   \n",
       "199  previous_application.csv                CHANNEL_TYPE  0.000000e+00   \n",
       "201  previous_application.csv        NAME_SELLER_INDUSTRY  5.123415e-01   \n",
       "203  previous_application.csv            NAME_YIELD_GROUP  3.096699e-01   \n",
       "204  previous_application.csv         PRODUCT_COMBINATION  2.071591e-04   \n",
       "\n",
       "        dtype  nunique                                 categType_or_order  \n",
       "11   category      7.0                                    highCardinality  \n",
       "12   category      8.0                                    highCardinality  \n",
       "13   category      5.0  [Lower secondary, Secondary / secondary specia...  \n",
       "14   category      5.0                                            nominal  \n",
       "15   category      6.0                                            nominal  \n",
       "28   category     18.0                                    highCardinality  \n",
       "32   category      7.0                                    highCardinality  \n",
       "40   category     57.0                                    highCardinality  \n",
       "86   category      3.0                                            nominal  \n",
       "87   category      3.0                                            nominal  \n",
       "89   category      7.0                                    highCardinality  \n",
       "124  category      4.0                                            nominal  \n",
       "125  category      4.0                                            nominal  \n",
       "136  category     14.0                                    highCardinality  \n",
       "141  category      7.0                     [C, missing, 0, 1, 2, 3, 4, 5]  \n",
       "147  category      8.0                                    highCardinality  \n",
       "170  category      7.0                                    highCardinality  \n",
       "175  category      3.0                                            nominal  \n",
       "181  category      7.0                                    highCardinality  \n",
       "189  category     23.0                                    highCardinality  \n",
       "190  category      4.0                                            nominal  \n",
       "192  category      3.0                                            nominal  \n",
       "193  category      7.0                                    highCardinality  \n",
       "194  category      7.0                                    highCardinality  \n",
       "195  category      3.0                [Repeated, Refreshed, New, missing]  \n",
       "196  category     27.0                                    highCardinality  \n",
       "197  category      4.0                                            nominal  \n",
       "199  category      8.0                                    highCardinality  \n",
       "201  category     10.0                                    highCardinality  \n",
       "203  category      4.0    [low_action, low_normal, middle, missing, high]  \n",
       "204  category     17.0                                    highCardinality  "
      ]
     },
     "execution_count": 36,
     "metadata": {},
     "output_type": "execute_result"
    }
   ],
   "source": [
    "categoricalInfosDf = proColDescripDf[[\"Table\",\"Row\"]].copy()\n",
    "\n",
    "\n",
    "for dfName,csvName in zip(lowMemDfNames,realRawCsvNames) :  # iterate on dataframes and their csv files\n",
    "        df=vars()[dfName].copy()\n",
    "        mask = ( # in the columns description dataframe, filter on csvName and df's columns\n",
    "            (categoricalInfosDf[\"Table\"]==csvName)&\n",
    "            (categoricalInfosDf[\"Row\"].isin(df.columns))\n",
    "        )\n",
    "\n",
    "        # get percentage of missing values\n",
    "        categoricalInfosDf.loc[mask,\"NaN_rate\"]=(df.isna().mean(axis=0)).values.tolist()\n",
    "        \n",
    "        # add dtype\n",
    "        categoricalInfosDf.loc[mask,\"dtype\"]=df.dtypes.values.tolist()\n",
    "        \n",
    "        # add nunique\n",
    "        categoricalInfosDf.loc[mask,\"nunique\"]=pd.Series(df.apply(lambda s : s.dropna().nunique() \\\n",
    "                                                               if s.dtype.kind==\"O\"\n",
    "                                                               else np.nan,\n",
    "                                                               axis=0\n",
    "                                                      )).values\n",
    "\n",
    "        del df,mask\n",
    "        gc.collect()\n",
    "\n",
    "\n",
    "# for categorical columns, add subType ('nominal' or 'nominal with high cardinality') or the order of categories if 'ordinal'\n",
    "mask = ~(categoricalInfosDf.Row.isin([\"SK_ID_PREV\",\"SK_ID_CURR\",\"SK_ID_BUREAU\"])) \\\n",
    "            & categoricalInfosDf.dtype.apply(lambda x : x.kind in 'O')\n",
    "\n",
    "\n",
    "categoricalInfosDf.loc[mask,\"categType_or_order\"]=\\\n",
    "['nominal', \n",
    " 'nominal', \n",
    " 'ordinal', \n",
    " 'nominal', \n",
    " 'nominal', \n",
    " 'nominal', \n",
    " 'nominal', \n",
    " 'nominal', \n",
    " 'nominal', \n",
    " 'nominal', \n",
    " 'nominal', \n",
    " 'nominal', \n",
    " 'nominal', \n",
    " 'nominal', \n",
    " 'ordinal', \n",
    " 'nominal', \n",
    " 'nominal', \n",
    " 'nominal', \n",
    " 'nominal', \n",
    " 'nominal', \n",
    " 'nominal', \n",
    " 'nominal', \n",
    " 'nominal', \n",
    " 'nominal', \n",
    " 'ordinal', \n",
    " 'nominal', \n",
    " 'nominal', \n",
    " 'nominal', \n",
    " 'nominal', \n",
    " 'ordinal', \n",
    " 'nominal'\n",
    "]\n",
    "\n",
    "\n",
    "categoricalInfosDf.loc[(categoricalInfosDf.categType_or_order==\"nominal\")& \\\n",
    "                        (categoricalInfosDf[\"nunique\"]>=7),\"categType_or_order\"]='highCardinality'\n",
    "\n",
    "categoricalInfosDf.loc[categoricalInfosDf.categType_or_order==\"ordinal\",\"categType_or_order\"]=\\\n",
    "pd.Series([\n",
    "    ['Lower secondary','Secondary / secondary special','Incomplete higher','Higher education','Academic degree'],\n",
    "    ['C','missing','0','1','2','3','4','5'],\n",
    "    ['Repeated','Refreshed','New','missing'],\n",
    "    ['low_action','low_normal','middle','missing','high']\n",
    "    \n",
    "]).values\n",
    "\n",
    "categoricalInfosDf.loc[mask]"
   ]
  },
  {
   "cell_type": "markdown",
   "id": "c0f21458",
   "metadata": {},
   "source": [
    "Mettons ces informations dans un dictionnaire :"
   ]
  },
  {
   "cell_type": "code",
   "execution_count": 37,
   "id": "e85362d4",
   "metadata": {},
   "outputs": [],
   "source": [
    "# dictionnary for cat dtypes\n",
    "categTypesDict = {\n",
    "                    csvName : {\n",
    "                                col : categType for col,categType in zip(\n",
    "                                    \n",
    "                                    categoricalInfosDf.loc[(\n",
    "                                            (categoricalInfosDf[\"Table\"]==csvName)&\n",
    "                                            (categoricalInfosDf[\"categType_or_order\"].notna())\n",
    "                                    ),\"Row\"].values.tolist(),\n",
    "                                    \n",
    "                                    categoricalInfosDf.loc[(\n",
    "                                            (categoricalInfosDf[\"Table\"]==csvName)&\n",
    "                                            (categoricalInfosDf[\"categType_or_order\"].notna())\n",
    "                                    ),\"categType_or_order\"].values.tolist()\n",
    "                                )\n",
    "                    }\n",
    "    for csvName in realRawCsvNames\n",
    "}\n",
    "\n",
    "# dictionnary for other columns\n",
    "otherTypes = {\n",
    "    csvName : {\n",
    "        col : dtype for col,dtype in zip(\n",
    "            categoricalInfosDf.loc[categoricalInfosDf[\"Table\"]==csvName,\"Row\"].values.tolist(),                     \n",
    "            categoricalInfosDf.loc[categoricalInfosDf[\"Table\"]==csvName,\"dtype\"].values.tolist()\n",
    "        )\n",
    "        if col not in categTypesDict[csvName]\n",
    "    }\n",
    "    for csvName in realRawCsvNames\n",
    "}"
   ]
  },
  {
   "cell_type": "markdown",
   "id": "23d152af",
   "metadata": {},
   "source": [
    "### Encodage des dataframes à agréger"
   ]
  },
  {
   "cell_type": "code",
   "execution_count": 38,
   "id": "c314d2c9",
   "metadata": {},
   "outputs": [],
   "source": [
    "def globalEncoder(df,encodeDict,otherTypesDict,nan_as_category=True) :\n",
    "    \n",
    "    '''\n",
    "    custom function to encode a dataframe based on informations contained in a dictionnary\n",
    "    \n",
    "    parameters :\n",
    "    df - dataframe : of the lowMemDfs, to encode\n",
    "    encodeDict - dict : one the dict contained in supdict categTypesDict, with colNames as keys and categorical type as values\n",
    "    nan_as_category - bool : wether or not to consider NaN values as a category. By default, True\n",
    "    '''\n",
    "    \n",
    "    outDf=df.copy() # create copy\n",
    "    initialColNames=list(outDf.columns) # store initial columns names\n",
    "    \n",
    "    # extract from encodeDict the columns to encode\n",
    "    ordiColNames=[col for col in encodeDict.keys() if type(encodeDict[col])==list]\n",
    "    nomiColNames=[col for col in encodeDict.keys() if encodeDict[col]=='nominal']\n",
    "    \n",
    "    ## encode ordinal columns\n",
    "    \n",
    "    # iterate on ordinal columns\n",
    "    for col in ordiColNames :      \n",
    "        # extract col categories order\n",
    "        if nan_as_category==True : # deal with NaNs\n",
    "            outDf[col]=outDf[col].cat.add_categories(['missing'])\n",
    "            outDf[col]=outDf[col].fillna('missing')\n",
    "            trueOrder=encodeDict[col]\n",
    "        else :\n",
    "            trueOrder=[col for col in encodeDict[col] if col!='missing']\n",
    "        \n",
    "        # encode with good order\n",
    "        outDf[col]=outDf[col].cat.set_categories(trueOrder)\n",
    "        outDf[col]=outDf[col].cat.reorder_categories(trueOrder,ordered=True)\n",
    "        outDf[col]=outDf[col].cat.codes\n",
    "    \n",
    "    ## encode nominal columns\n",
    "    \n",
    "    # deal with NaNs\n",
    "    if nan_as_category==True :\n",
    "        for col in nomiColNames :\n",
    "            outDf[col]=outDf[col].cat.add_categories(['missing'])\n",
    "        outDf[nomiColNames]=outDf[nomiColNames].fillna('missing')\n",
    "    \n",
    "    # encode with get dummies\n",
    "    outDf=pd.get_dummies(outDf, \n",
    "                         columns=nomiColNames,\n",
    "                         dtype=np.int8,\n",
    "                         drop_first=False, # keep all categories at this stage\n",
    "                         dummy_na=False, # already dealt with the string 'missing'\n",
    "                        )\n",
    "    # store dummies columns names\n",
    "    oheColsNames = [c for c in outDf.columns if c not in initialColNames]\n",
    "    \n",
    "    ## set other dtypes\n",
    "    outDf = outDf.astype(otherTypesDict)\n",
    "    \n",
    "    return outDf, oheColsNames"
   ]
  },
  {
   "cell_type": "code",
   "execution_count": 39,
   "id": "e961252b",
   "metadata": {},
   "outputs": [],
   "source": [
    "encodedDfNames=[ # create a list of one hot encoded df names\n",
    "    \"\", # we do not want to encode the 'master' df\n",
    "    \"encodedBurDf\",\n",
    "    \"encodedBurBalDf\",\n",
    "    \"encodedCcBalDf\",\n",
    "    \"encodedInstalPaymDf\",\n",
    "    \"encodedPosDf\",\n",
    "    \"encodedPrevAppDf\"\n",
    "]\n",
    "\n",
    "oheColsNamesList=[ # create a list of list names for new one hot encoded columns names\n",
    "    \"\",\n",
    "    \"oheColsNamesBur\",\n",
    "    \"oheColsNamesBurBal\",\n",
    "    \"oheColsNamesCcBal\",\n",
    "    \"oheColsNamesInstalPaym\",\n",
    "    \"oheColsNamesPos\",\n",
    "    \"oheColsNamesPrevApp\"\n",
    "]"
   ]
  },
  {
   "cell_type": "code",
   "execution_count": 40,
   "id": "8f8d792d",
   "metadata": {},
   "outputs": [
    {
     "name": "stdout",
     "output_type": "stream",
     "text": [
      "CPU times: total: 266 ms\n",
      "Wall time: 3.28 s\n"
     ]
    }
   ],
   "source": [
    "%%time\n",
    "\n",
    "# if not os.path.isdir(\"mySaves/myDataFrames/encoded\") :\n",
    "#     os.mkdir(\"myCSVs/processed/encoded\")\n",
    "\n",
    "encodedDfDict={}\n",
    "oheColsNamesDict={}\n",
    "\n",
    "for df,encodedDfName,oheColsNames,csvName in zip(enhancedDfDict.values(),encodedDfNames,oheColsNamesList,realRawCsvNames) :\n",
    "    if csvName != 'application_train.csv' :\n",
    "        vars()[encodedDfName],vars()[oheColsNames]=\\\n",
    "        encodedDfDict[encodedDfName],oheColsNamesDict[oheColsNames]=\\\n",
    "        globalEncoder(\n",
    "            df,\n",
    "            categTypesDict[csvName],\n",
    "            otherTypes[csvName],\n",
    "            nan_as_category=True\n",
    "        )\n",
    "      "
   ]
  },
  {
   "cell_type": "code",
   "execution_count": 41,
   "id": "c0341ae0",
   "metadata": {},
   "outputs": [],
   "source": [
    "if deleteLowMemDfs == True :\n",
    "    for lowMemDfName in lowMemDfNames :\n",
    "        if lowMemDfName != \"lowMemAppliDf\" :\n",
    "            del vars()[lowMemDfName]\n",
    "            gc.collect()"
   ]
  },
  {
   "cell_type": "code",
   "execution_count": 42,
   "id": "19ab44db",
   "metadata": {},
   "outputs": [
    {
     "data": {
      "application/vnd.jupyter.widget-view+json": {
       "model_id": "d77b831f83d2494e9d069714cffb7011",
       "version_major": 2,
       "version_minor": 0
      },
      "text/plain": [
       "Dropdown(description='Which dataframe :', options=('encodedBurDf', 'encodedBurBalDf', 'encodedCcBalDf', 'encod…"
      ]
     },
     "metadata": {},
     "output_type": "display_data"
    },
    {
     "data": {
      "application/vnd.jupyter.widget-view+json": {
       "model_id": "46dc0149e3c94358a8d60b0359e69704",
       "version_major": 2,
       "version_minor": 0
      },
      "text/plain": [
       "Output()"
      ]
     },
     "metadata": {},
     "output_type": "display_data"
    }
   ],
   "source": [
    "mf.myDescribe(encodedDfDict)"
   ]
  },
  {
   "cell_type": "markdown",
   "id": "2676253a",
   "metadata": {},
   "source": [
    "## Unifier les datasets - Création de quelques features, avant aggrégations<a class=\"anchor\" id=\"73\"></a>"
   ]
  },
  {
   "cell_type": "markdown",
   "id": "1dfb16f5",
   "metadata": {},
   "source": [
    "Avant d'aggréger nos datasets sur `application_train.csv`, nous pouvons essayer de créer quelques features intéressantes :"
   ]
  },
  {
   "cell_type": "markdown",
   "id": "ac90ca78",
   "metadata": {},
   "source": [
    "### `previous_application.csv` - création features\n",
    "\n",
    "- Une feature pour caractériser la **différence entre le capital initialiement demandé par le client** et **ce qu'il a reçu** (en pourcentage). Nous partons du principe qu'une différence implique de l'incertitude, des discussions, etc.\n",
    "\n",
    "\n",
    "- Une feature pour essayer de caractériser le **risque** pris par la banque :\n",
    "\n",
    "**Nota** : comme **pour tout investissement** (par exemple un appartement), le **taux de rendement brut** attendu par l'investisseur est **corrélé au risque** (plus le risque de loyer impayé est grand, plus l'investisseur exigera un taux de rendement brut élevé). Notre hypothèse est qu'il en va de même pour un prêt : la **banque qui \"investit\" sur un client éxigera des intérêts plus importants si elle considère le risque de défaut important**.\n",
    "\n",
    "Ce dataset nous fournit déjà des taux d'intérêt, mais les taux de remplissage sont très mauvais (50% ou 1%..).\n",
    "\n",
    "Nous allons donc calculer la feature suivante :\n",
    "\n",
    "    - Une feature transitoire avec le coût total du prêt pour le client = \n",
    "    \n",
    "                    échéance\"AMT_ANNUITY\" x nb_échances\"CNT_PAYMENT\" - capital\"AMT_CREDIT\"\n",
    "      C'est, à peu près, ce que la banque gagne.\n",
    "      \n",
    "      \n",
    "    - Une feature avec un taux d'intérêt annualisé estimé (intérêt simple) =\n",
    "    \n",
    "                    (\"ce que gagne la banque\" / capital\"AMT_CREDIT\")    /    (nb_échances\"CNT_PAYMENT\" *12 échéances par an)\n",
    "                    \n",
    "source : https://www.trustedchoice.com/annuities/annuity-rates/interest-rates/\n",
    "<img src=\"calcul_taux_interet.png\" alt=\"calcul_taux_interet\" width=\"300\"/>"
   ]
  },
  {
   "cell_type": "code",
   "execution_count": 43,
   "id": "e9c8770e",
   "metadata": {},
   "outputs": [],
   "source": [
    "## 'previous_application.csv' - new features\n",
    "\n",
    "#---------\n",
    "\n",
    "# diff between asked principal and received principal, ratio :\n",
    "encodedPrevAppDf[\"NEW_DIFF_K_RATIO\"]=\\\n",
    "(encodedPrevAppDf[\"AMT_APPLICATION\"]-encodedPrevAppDf[\"AMT_CREDIT\"]) \\\n",
    "/  \\\n",
    "encodedPrevAppDf[\"AMT_APPLICATION\"].apply(zeroToNan)\n",
    "\n",
    "#---------\n",
    "\n",
    "# interest\n",
    "\n",
    "def giveMeInterestRate(df,annuityColName,durationColName,principalColName,nbAnnuitesPerYear=12) :\n",
    "    \n",
    "    '''\n",
    "    custom function to compute a simple interest rate\n",
    "    \n",
    "    parameters :\n",
    "    ------------\n",
    "    df - dataframe\n",
    "    annuityColName - string : column with annuities\n",
    "    durationColName - string : column with duration\n",
    "    principalColName - string : column with credit principal\n",
    "    \n",
    "    return :\n",
    "    --------\n",
    "    interestRate - Series : computed simple interest rates column\n",
    "    \n",
    "    '''\n",
    "    \n",
    "    copyDf=df[[annuityColName,durationColName,principalColName]].copy()\n",
    "    \n",
    "    # total loan cost for client\n",
    "    globalInterest = copyDf[annuityColName]*copyDf[durationColName]-copyDf[principalColName]\n",
    "    \n",
    "    # interest rate\n",
    "    interestRate = globalInterest \\\n",
    "    / \\\n",
    "    (\n",
    "        copyDf[principalColName].apply(zeroToNan)\\\n",
    "        *\\\n",
    "        copyDf[durationColName].apply(zeroToNan)\\\n",
    "        /\\\n",
    "        nbAnnuitesPerYear\n",
    "    )\n",
    "    interestRate = interestRate.clip(0,1)\n",
    "    \n",
    "    del copyDf,globalInterest\n",
    "    gc.collect()\n",
    "    \n",
    "    return interestRate\n",
    "\n",
    "# use function\n",
    "encodedPrevAppDf[\"NEW_I_RATE\"] = \\\n",
    "giveMeInterestRate(\n",
    "    df=encodedPrevAppDf,\n",
    "    annuityColName=\"AMT_ANNUITY\",\n",
    "    durationColName=\"CNT_PAYMENT\",\n",
    "    principalColName=\"AMT_CREDIT\"\n",
    ")"
   ]
  },
  {
   "cell_type": "markdown",
   "id": "1432c7c8",
   "metadata": {},
   "source": [
    "On peut regarder quelle est la relation entre ces nouvelles features et la target :"
   ]
  },
  {
   "cell_type": "code",
   "execution_count": 44,
   "id": "6a9b3d36",
   "metadata": {},
   "outputs": [],
   "source": [
    "def putTargetInAnotherDf(sourceDf,destinationDf,keyColName,targetColName) :\n",
    "    \n",
    "    '''\n",
    "    use pandas.merge() to add the target column in a different dataframe\n",
    "    \n",
    "    parameters :\n",
    "    ------------\n",
    "    sourceDf - dataframe : containing target\n",
    "    destinationDf - dataframe : in which target will be included\n",
    "    keyColName - string : key column name\n",
    "    targetColName - string : target column name\n",
    "    \n",
    "    return :\n",
    "    --------\n",
    "    leftDf : same as destinationDf, but with target\n",
    "    \n",
    "    '''\n",
    "    # create copies\n",
    "    leftDf = destinationDf.copy()\n",
    "    rightDf= sourceDf[[keyColName,targetColName]].copy()\n",
    "    \n",
    "    # cast key column ( for merge() function )\n",
    "    rightDf[keyColName]=rightDf[keyColName].astype('int64')\n",
    "    \n",
    "    # merge\n",
    "    leftDf=leftDf.merge(rightDf,on=keyColName,how=\"left\")\n",
    "    \n",
    "    del rightDf\n",
    "    gc.collect()\n",
    "    \n",
    "    return leftDf"
   ]
  },
  {
   "cell_type": "code",
   "execution_count": 45,
   "id": "41095856",
   "metadata": {},
   "outputs": [
    {
     "data": {
      "application/vnd.jupyter.widget-view+json": {
       "model_id": "60380e86bd424be98e58a157a3b2e353",
       "version_major": 2,
       "version_minor": 0
      },
      "text/plain": [
       "Dropdown(description='Which column :', options=('SK_ID_PREV', 'SK_ID_CURR', 'AMT_ANNUITY', 'AMT_APPLICATION', …"
      ]
     },
     "metadata": {},
     "output_type": "display_data"
    },
    {
     "data": {
      "application/vnd.jupyter.widget-view+json": {
       "model_id": "77563a3ac7a642b78d4adb5b7cdc612c",
       "version_major": 2,
       "version_minor": 0
      },
      "text/plain": [
       "IntSlider(value=50, description=\"Nb of unique values below which a num' feature is considered cat' :\", layout=…"
      ]
     },
     "metadata": {},
     "output_type": "display_data"
    },
    {
     "data": {
      "application/vnd.jupyter.widget-view+json": {
       "model_id": "27adf0b3d2cc4a138959820ff07c3696",
       "version_major": 2,
       "version_minor": 0
      },
      "text/plain": [
       "Output()"
      ]
     },
     "metadata": {},
     "output_type": "display_data"
    }
   ],
   "source": [
    "# relation between 'TARGET' and new features\n",
    "mf.plotFeatureVsTargetWID(\n",
    "    \n",
    "    df=putTargetInAnotherDf( # use of above function to put 'TARGET' in previous_application.csv\n",
    "        sourceDf=lowMemAppliDf, \n",
    "        destinationDf=encodedPrevAppDf,\n",
    "        keyColName=\"SK_ID_CURR\",\n",
    "        targetColName='TARGET'\n",
    "    ),\n",
    "    \n",
    "    targetFeatureName='TARGET', \n",
    "    targetValsForCat=1, \n",
    "    targetValsForNum=None,\n",
    "    includeCatFeatureNan=True, \n",
    "    includeTargetNan=True\n",
    ")"
   ]
  },
  {
   "cell_type": "markdown",
   "id": "110e5aec",
   "metadata": {},
   "source": [
    "Ce que l'on peut en retenir :\n",
    "- `NEW_DIFF_K_RATIO` : peine à voir une différence dans la distribution (et beaucoup d'outliers)\n",
    "- `NEW_I_RATE` : notre taux d'intérêt simple semble effectivement lié à la target."
   ]
  },
  {
   "cell_type": "markdown",
   "id": "7e36e73a",
   "metadata": {},
   "source": [
    "### `bureau.csv` - création features\n",
    "\n",
    "- Une feature avec le ratio débit / durée restante du prêt"
   ]
  },
  {
   "cell_type": "code",
   "execution_count": 46,
   "id": "307ed061",
   "metadata": {},
   "outputs": [],
   "source": [
    "## 'bureau.csv' - new features\n",
    "\n",
    "#---------\n",
    "\n",
    "# debt / remaining duration :\n",
    "encodedBurDf[\"NEW_DEPT_TO_REMDAYS_RATIO\"]=\\\n",
    "(encodedBurDf[\"AMT_CREDIT_SUM_DEBT\"]  /   encodedBurDf[\"DAYS_CREDIT_ENDDATE\"] .apply(zeroToNan))\n",
    "\n"
   ]
  },
  {
   "cell_type": "code",
   "execution_count": 47,
   "id": "4ecf12b7",
   "metadata": {
    "scrolled": false
   },
   "outputs": [
    {
     "data": {
      "application/vnd.jupyter.widget-view+json": {
       "model_id": "eb8819c6f935458aa052b3e18cc9ae8f",
       "version_major": 2,
       "version_minor": 0
      },
      "text/plain": [
       "Dropdown(description='Which column :', options=('SK_ID_CURR', 'SK_ID_BUREAU', 'DAYS_CREDIT', 'CREDIT_DAY_OVERD…"
      ]
     },
     "metadata": {},
     "output_type": "display_data"
    },
    {
     "data": {
      "application/vnd.jupyter.widget-view+json": {
       "model_id": "4a4ec40b202143ff8f7a54b4f7125449",
       "version_major": 2,
       "version_minor": 0
      },
      "text/plain": [
       "IntSlider(value=50, description=\"Nb of unique values below which a num' feature is considered cat' :\", layout=…"
      ]
     },
     "metadata": {},
     "output_type": "display_data"
    },
    {
     "data": {
      "application/vnd.jupyter.widget-view+json": {
       "model_id": "b7b3d2e227174f8abdfe4173cc809c08",
       "version_major": 2,
       "version_minor": 0
      },
      "text/plain": [
       "Output()"
      ]
     },
     "metadata": {},
     "output_type": "display_data"
    }
   ],
   "source": [
    "# relation between 'TARGET' and new features\n",
    "mf.plotFeatureVsTargetWID(\n",
    "    \n",
    "    df=putTargetInAnotherDf(\n",
    "        sourceDf=lowMemAppliDf, \n",
    "        destinationDf=encodedBurDf,\n",
    "        keyColName=\"SK_ID_CURR\",\n",
    "        targetColName='TARGET'\n",
    "    ),\n",
    "    \n",
    "    targetFeatureName='TARGET', \n",
    "    targetValsForCat=None, \n",
    "    targetValsForNum=None,\n",
    "    includeCatFeatureNan=True, \n",
    "    includeTargetNan=True\n",
    ")"
   ]
  },
  {
   "cell_type": "markdown",
   "id": "315f9ac1",
   "metadata": {},
   "source": [
    "Ce que l'on peut en retenir :\n",
    "- `NEW_DEPT_TO_REMDAYS_RATIO` : peine à voir une différence dans la distribution (et beaucoup d'outliers)"
   ]
  },
  {
   "cell_type": "markdown",
   "id": "4b21652e",
   "metadata": {},
   "source": [
    "### `credit_card_balance.csv` - création features\n",
    "\n",
    "- Une feature avec la somme des quantités de retraits pour les différents types de retrait \n",
    "\n",
    "`AMT_BALANCE` semble très lié à la target (voir ci-dessous). Nous pourrions nous intéresser aux valeurs de cette feature **pour les mois proches de la demande de carte de crédit courante** : l'idée est que si l'état du compte du client est mauvais lors de sa demande de prêt, c'est qu'il ne doit pas être un très bon client...\n",
    "\n",
    "Nous allons donc :\n",
    "- trier le relevé de compte mensuel en fonction de la date via `MONTHS_BALANCE` (et aussi pas `SK_ID_PREV`, mais plus dans un souci de visibilité) \n",
    "- et ne garder que les n premières lignes par prêt (via un `groupby.head(n)`), correspondant aux n derniers mois avant l'application.\n"
   ]
  },
  {
   "cell_type": "code",
   "execution_count": 48,
   "id": "dc1cd4ea",
   "metadata": {},
   "outputs": [],
   "source": [
    "periods=[10]"
   ]
  },
  {
   "cell_type": "code",
   "execution_count": 49,
   "id": "320aa7ae",
   "metadata": {},
   "outputs": [
    {
     "name": "stdout",
     "output_type": "stream",
     "text": [
      "CPU times: total: 1.19 s\n",
      "Wall time: 3.68 s\n"
     ]
    }
   ],
   "source": [
    "%%time\n",
    "## 'credit_card_balance.csv' - new features\n",
    "\n",
    "#---------\n",
    "\n",
    "# a feature with the sum of \"CNT_DRAWINGS\" features\n",
    "encodedCcBalDf[\"NEW_SUM_CNT_DRAW\"]=encodedCcBalDf[[col for col in encodedCcBalDf.columns if \"CNT_DRAWINGS\" in col]].sum(axis=1)\n",
    "\n",
    "# for different time periods n, create a dataframe with last n observations, aggregated on SK_ID_PREV\n",
    "lastNcc_dfs = []\n",
    "for n in periods :\n",
    "    df=encodedCcBalDf.copy().sort_values([\"SK_ID_PREV\",\"MONTHS_BALANCE\"],ascending=False).groupby(\"SK_ID_PREV\").head(n)\n",
    "    df=df[[\"SK_ID_PREV\",\"SK_ID_CURR\",\"MONTHS_BALANCE\",\"AMT_BALANCE\",\"NEW_SUM_CNT_DRAW\",\n",
    "          \"SK_DPD\",\"SK_DPD_DEF\"]]\n",
    "    # adapt col name, adding \"last n\" as prefix\n",
    "    df.columns=pd.Index(\n",
    "    [\"SK_ID_PREV\",\"SK_ID_CURR\"]+[\"last\"+str(n)+\"_\"+col for col in df.columns if \"SK_ID_\" not in col])\n",
    "    lastNcc_dfs.append(df)\n",
    "    del df\n",
    "    gc.collect()\n",
    "#---------"
   ]
  },
  {
   "cell_type": "code",
   "execution_count": 50,
   "id": "377f2a30",
   "metadata": {},
   "outputs": [],
   "source": [
    "# lastNcc_dfs[0].head(10)"
   ]
  },
  {
   "cell_type": "markdown",
   "id": "9f2505d0",
   "metadata": {},
   "source": [
    "Nous pouvons regarder quel lien ses features ont avec notre target :"
   ]
  },
  {
   "cell_type": "code",
   "execution_count": 51,
   "id": "37f9ce34",
   "metadata": {
    "scrolled": false
   },
   "outputs": [
    {
     "data": {
      "application/vnd.jupyter.widget-view+json": {
       "model_id": "aec5243e7432460e8ee4f43250e00302",
       "version_major": 2,
       "version_minor": 0
      },
      "text/plain": [
       "Dropdown(description='Time window :', options=(('Last 10 month(s)', 0), ('Last all month(s)', 1)), style=Descr…"
      ]
     },
     "metadata": {},
     "output_type": "display_data"
    },
    {
     "data": {
      "application/vnd.jupyter.widget-view+json": {
       "model_id": "dc1d8a1e3bf940c9b704a839bdf848c7",
       "version_major": 2,
       "version_minor": 0
      },
      "text/plain": [
       "Output()"
      ]
     },
     "metadata": {},
     "output_type": "display_data"
    }
   ],
   "source": [
    "## use plotFeatureVsTargetWID to look at the link between these new features and the TARGET\n",
    "\n",
    "# create a Dropdown widget to select a time period\n",
    "widLastnDf=widgets.Dropdown(options=[('Last '+str(i)+\" month(s)\", j) for i,j in zip(periods+[\"all\"],range(len(lastNcc_dfs)+1))],\n",
    "                          value=0,\n",
    "                          description=\"Time window :\",\n",
    "                          disabled=False,\n",
    "                          style={'description_width': 'initial'}\n",
    "                          )\n",
    "\n",
    "display(widLastnDf)\n",
    "\n",
    "# create a function to adapt plotFeatureVsTargetWID\n",
    "def whichTimeWindow (n,df,lastN_dfs) :\n",
    "    '''\n",
    "    custom function : use the function putTargetInAnotherDf to put TARGET in a \"lastN_dfs\" or in a \"df\", and then use\n",
    "    the myFunctions function  plotFeatureVsTargetWID to compare distribution with or without the TARGET\n",
    "    \n",
    "    parameters :\n",
    "    ------------\n",
    "    n - integer : index of the df we want to explore in a dataframes list\n",
    "    df - dataframe : base encoded dataframe, previously used to create the \"Lastxx\" dataframes\n",
    "    lastN_dfs - list of dataframes, aggregates on last xx periods\n",
    "    \n",
    "    \n",
    "    '''\n",
    "    # compare distributions filtered on target values\n",
    "    mf.plotFeatureVsTargetWID(\n",
    "\n",
    "        df=putTargetInAnotherDf( # use putTargetInAnotherDf to transfer TARGET\n",
    "            sourceDf=lowMemAppliDf, \n",
    "            destinationDf=(lastN_dfs+[df])[n],\n",
    "            keyColName=\"SK_ID_CURR\",\n",
    "            targetColName='TARGET'\n",
    "        ),\n",
    "\n",
    "        targetFeatureName='TARGET', \n",
    "        targetValsForCat=None, \n",
    "        targetValsForNum=None,\n",
    "        includeCatFeatureNan=True, \n",
    "        includeTargetNan=True\n",
    "    )\n",
    "\n",
    "# use interactive_output \n",
    "out=widgets.interactive_output(whichTimeWindow, {\"n\" : widLastnDf,\n",
    "                                                 \"df\":widgets.fixed(encodedCcBalDf),\n",
    "                                                 \"lastN_dfs\":widgets.fixed(lastNcc_dfs)})\n",
    "\n",
    "display(out)"
   ]
  },
  {
   "cell_type": "markdown",
   "id": "4be104fd",
   "metadata": {},
   "source": [
    "Ce que l'on peut en retenir :\n",
    "- `AMT_BALANCE` : le lien est effectivement \"un peu plus puissant\" si l'on considère seulement les derniers mois avant la demande de carte de crédit.\n",
    "- `NEW_SUM_CNT_DRAW` : moins évident, mais la feature semble intéressante dans sa globalité."
   ]
  },
  {
   "cell_type": "markdown",
   "id": "77cbe548",
   "metadata": {},
   "source": [
    "### `POS_CASH_balance.csv` - création features\n",
    "\n",
    "- Une feature avec le nombre d'échéances à payer, ramené à la date de demande\n",
    "- Création des même types de dataframe que précédemment\n"
   ]
  },
  {
   "cell_type": "code",
   "execution_count": 52,
   "id": "c6bad81e",
   "metadata": {},
   "outputs": [
    {
     "name": "stdout",
     "output_type": "stream",
     "text": [
      "CPU times: total: 2.2 s\n",
      "Wall time: 7.07 s\n"
     ]
    }
   ],
   "source": [
    "%%time\n",
    "## 'POS_CASH_balance.csv' - new features\n",
    "\n",
    "#---------\n",
    "# a feature with actual number of left CNT_INSTALMENT_FUTURE to be paid\n",
    "encodedPosDf[\"NEW_ACTUAL_LEFT_TO_PAY\"]=(encodedPosDf[\"CNT_INSTALMENT_FUTURE\"]+encodedPosDf[\"MONTHS_BALANCE\"]).clip(lower=0,upper=None)\n",
    "\n",
    "lastNpos_dfs = []\n",
    "# for different time periods n, create a dataframe with last n observations, aggregated on SK_ID_PREV\n",
    "for n in periods :\n",
    "    df=encodedPosDf.copy().sort_values([\"SK_ID_PREV\",\"MONTHS_BALANCE\"],ascending=False).groupby(\"SK_ID_PREV\").head(n)\n",
    "    df=df[[\"SK_ID_PREV\",\"SK_ID_CURR\",\"MONTHS_BALANCE\",\"SK_DPD\",\"SK_DPD_DEF\",\"NEW_ACTUAL_LEFT_TO_PAY\"]]\n",
    "    # adapt col name, adding \"last n\" as prefix\n",
    "    df.columns=pd.Index(\n",
    "    [\"SK_ID_PREV\",\"SK_ID_CURR\"]+[\"last\"+str(n)+\"_\"+col for col in df.columns if \"SK_ID_\" not in col])\n",
    "    lastNpos_dfs.append(df)\n",
    "    del df\n",
    "    gc.collect()\n",
    "# ---------"
   ]
  },
  {
   "cell_type": "code",
   "execution_count": 53,
   "id": "a1c1f8ea",
   "metadata": {},
   "outputs": [],
   "source": [
    "# lastNpos_dfs[0].head(10)"
   ]
  },
  {
   "cell_type": "code",
   "execution_count": 54,
   "id": "a7af21be",
   "metadata": {
    "scrolled": false
   },
   "outputs": [
    {
     "data": {
      "application/vnd.jupyter.widget-view+json": {
       "model_id": "406842e724a74292ad5ddfe67b6e2e12",
       "version_major": 2,
       "version_minor": 0
      },
      "text/plain": [
       "Dropdown(description='Time window :', options=(('Last 10 month(s)', 0), ('Last all month(s)', 1)), style=Descr…"
      ]
     },
     "metadata": {},
     "output_type": "display_data"
    },
    {
     "data": {
      "application/vnd.jupyter.widget-view+json": {
       "model_id": "6620726c9c7f48178e18156a7cd031f0",
       "version_major": 2,
       "version_minor": 0
      },
      "text/plain": [
       "Output()"
      ]
     },
     "metadata": {},
     "output_type": "display_data"
    }
   ],
   "source": [
    "## use plotFeatureVsTargetWID to look at the link between these new features and the TARGET\n",
    "# create a Dropdown widget to select a time period\n",
    "widLastnDf=widgets.Dropdown(options=[('Last '+str(i)+\" month(s)\", j) for i,j in zip(periods+[\"all\"],range(len(lastNpos_dfs)+1))],\n",
    "                          value=0,\n",
    "                          description=\"Time window :\",\n",
    "                          disabled=False,\n",
    "                          style={'description_width': 'initial'}\n",
    "                          )\n",
    "\n",
    "display(widLastnDf)\n",
    "\n",
    "\n",
    "# use interactive_output with the same whichTimeWindow function\n",
    "out=widgets.interactive_output(whichTimeWindow, {\"n\" : widLastnDf,\n",
    "                                                 \"df\":widgets.fixed(encodedPosDf),\n",
    "                                                 \"lastN_dfs\":widgets.fixed(lastNpos_dfs)})\n",
    "\n",
    "display(out)"
   ]
  },
  {
   "cell_type": "markdown",
   "id": "a9da61d8",
   "metadata": {},
   "source": [
    "Ce que l'on peut en retenir :\n",
    "- `SK_DPD` et `SK_DPD_DEF`: le fait de ne retenir que les derniers mois a un impact.\n",
    "- `NEW_ACTUAL_LEFT_TO_PAY` : moins évident, mais la feature semble intéressante dans sa globalité."
   ]
  },
  {
   "cell_type": "markdown",
   "id": "f7e00614",
   "metadata": {},
   "source": [
    "### `installments_payments.csv` - création features\n",
    "\n",
    "- Des feature caractérisant la différence (normalisée) de montant de paiement ou la différence de date de paiement."
   ]
  },
  {
   "cell_type": "code",
   "execution_count": 55,
   "id": "25ae8229",
   "metadata": {},
   "outputs": [
    {
     "name": "stdout",
     "output_type": "stream",
     "text": [
      "CPU times: total: 5.62 s\n",
      "Wall time: 14.4 s\n"
     ]
    }
   ],
   "source": [
    "%%time\n",
    "## 'installments_payments.csv' - new features\n",
    "\n",
    "#---------\n",
    "\n",
    "# a feature with normalised difference between what client paid and what was supposed to be paid\n",
    "encodedInstalPaymDf[\"NEW_LESS_PAY_NORM\"]=\\\n",
    "(encodedInstalPaymDf[\"AMT_PAYMENT\"]-encodedInstalPaymDf[\"AMT_INSTALMENT\"]).clip(None,0)\\\n",
    "/  \\\n",
    "encodedInstalPaymDf[\"AMT_INSTALMENT\"].apply(zeroToNan)\n",
    "\n",
    "# a feature with normalised difference between when client paid and when the payment was supposed to be paid\n",
    "encodedInstalPaymDf[\"NEW_DPD_NORM\"]=\\\n",
    "(encodedInstalPaymDf[\"DAYS_ENTRY_PAYMENT\"]-encodedInstalPaymDf[\"DAYS_INSTALMENT\"]).clip(0,None)\\\n",
    "/  \\\n",
    "(-encodedInstalPaymDf[\"DAYS_INSTALMENT\"].apply(zeroToNan))\n",
    "\n",
    "lastNins_dfs = []\n",
    "# for different time periods n, create a dataframe with last n observations, aggregated on SK_ID_PREV\n",
    "for n in periods :\n",
    "    df=encodedInstalPaymDf.copy().sort_values([\"SK_ID_PREV\",\"NUM_INSTALMENT_NUMBER\"],ascending=False).groupby(\"SK_ID_PREV\").head(n)\n",
    "    df=df[[\"SK_ID_PREV\",\"SK_ID_CURR\",\"NUM_INSTALMENT_NUMBER\",\"NEW_LESS_PAY_NORM\",\"NEW_DPD_NORM\"]]\n",
    "    # adapt col name, adding \"last n\" as prefix\n",
    "    df.columns=pd.Index(\n",
    "    [\"SK_ID_PREV\",\"SK_ID_CURR\"]+[\"last\"+str(n)+\"_\"+col for col in df.columns if \"SK_ID_\" not in col])\n",
    "    lastNins_dfs.append(df)\n",
    "    del df\n",
    "    gc.collect()\n",
    "# ---------"
   ]
  },
  {
   "cell_type": "code",
   "execution_count": 56,
   "id": "9163a4d9",
   "metadata": {},
   "outputs": [],
   "source": [
    "# lastNins_dfs[0].head(10)"
   ]
  },
  {
   "cell_type": "code",
   "execution_count": 57,
   "id": "267b9a0f",
   "metadata": {},
   "outputs": [
    {
     "data": {
      "application/vnd.jupyter.widget-view+json": {
       "model_id": "4a0a688d349441cba11ba83f740bbc20",
       "version_major": 2,
       "version_minor": 0
      },
      "text/plain": [
       "Dropdown(description='Time window :', options=(('Last 10 installment(s)', 0), ('Last all installment(s)', 1)),…"
      ]
     },
     "metadata": {},
     "output_type": "display_data"
    },
    {
     "data": {
      "application/vnd.jupyter.widget-view+json": {
       "model_id": "fe4f6cc64eba42d38beaba24927a1bdb",
       "version_major": 2,
       "version_minor": 0
      },
      "text/plain": [
       "Output()"
      ]
     },
     "metadata": {},
     "output_type": "display_data"
    }
   ],
   "source": [
    "## use plotFeatureVsTargetWID to look at the link between these new features and the TARGET\n",
    "# create a Dropdown widget to select a time period\n",
    "widLastnDf=widgets.Dropdown(options=[('Last '+str(i)+\" installment(s)\", j) for i,j in zip(periods+[\"all\"],range(len(lastNins_dfs)+1))],\n",
    "                          value=0,\n",
    "                          description=\"Time window :\",\n",
    "                          disabled=False,\n",
    "                          style={'description_width': 'initial'}\n",
    "                          )\n",
    "\n",
    "display(widLastnDf)\n",
    "\n",
    "# use interactive_output with the same whichTimeWindow function\n",
    "out=widgets.interactive_output(whichTimeWindow, {\"n\" : widLastnDf,\n",
    "                                                 \"df\":widgets.fixed(encodedInstalPaymDf),\n",
    "                                                 \"lastN_dfs\":widgets.fixed(lastNins_dfs)})\n",
    "\n",
    "display(out)"
   ]
  },
  {
   "cell_type": "markdown",
   "id": "2706bd12",
   "metadata": {},
   "source": [
    "Ce que l'on peut en retenir :\n",
    "- `NEW_DPD_NORM` et `NEW_LESS_PAY_NORM` se démarquent un peu"
   ]
  },
  {
   "cell_type": "markdown",
   "id": "23728bf5",
   "metadata": {},
   "source": [
    "### `bureau_balance.csv` - création features\n",
    "\n",
    "- même principe avec `STATUS` pour différentes fenêtres."
   ]
  },
  {
   "cell_type": "code",
   "execution_count": 58,
   "id": "93217cf3",
   "metadata": {},
   "outputs": [
    {
     "name": "stdout",
     "output_type": "stream",
     "text": [
      "CPU times: total: 6.08 s\n",
      "Wall time: 8.88 s\n"
     ]
    }
   ],
   "source": [
    "%%time\n",
    "lastNbb_dfs = []\n",
    "# for different time periods n, create a dataframe with last n observations, aggregated on SK_ID_PREV\n",
    "for n in periods :\n",
    "    df=encodedBurBalDf.copy().sort_values([\"SK_ID_BUREAU\",\"MONTHS_BALANCE\"],ascending=False).groupby(\"SK_ID_BUREAU\").head(n)\n",
    "    df=df[[\"SK_ID_BUREAU\",\"MONTHS_BALANCE\",\"STATUS\"]]\n",
    "    # adapt col name, adding \"last n\" as prefix\n",
    "    df.columns=pd.Index(\n",
    "    [\"SK_ID_BUREAU\"]+[\"last\"+str(n)+\"_\"+col for col in df.columns if \"SK_ID_\" not in col])\n",
    "    lastNbb_dfs.append(df)\n",
    "    del df\n",
    "    gc.collect()"
   ]
  },
  {
   "cell_type": "markdown",
   "id": "7d021d78",
   "metadata": {},
   "source": [
    "Cette fois nous ne regarderons pas l'éventuel impact sur la target, ce qui reviendrait à anticiper la jointure avec `bureau.csv`."
   ]
  },
  {
   "cell_type": "markdown",
   "id": "1dab8c1e",
   "metadata": {},
   "source": [
    "## Unifier les datasets - Agrégation `bureau_balance.csv` & Merge avec `bureau.csv`<a class=\"anchor\" id=\"74\"></a>"
   ]
  },
  {
   "cell_type": "markdown",
   "id": "c15073c2",
   "metadata": {},
   "source": [
    "Créons une fonction :"
   ]
  },
  {
   "cell_type": "code",
   "execution_count": 59,
   "id": "f9a4141b",
   "metadata": {},
   "outputs": [],
   "source": [
    "def aggregationFunc (df, \n",
    "                     newColsText, \n",
    "                     groupByColName,\n",
    "                     aggDict,\n",
    "                    ) :\n",
    "    '''\n",
    "    Aggretates the values of a dataframe on a given column.\n",
    "    \n",
    "    parameters\n",
    "    ---------\n",
    "    df - dataframe : dataframe used to calculate aggregations on\n",
    "    newColsText - string : text added in new features names\n",
    "    groupByColName - string : name of the columns to perform pandas.groupby on\n",
    "    aggDict - dict : dictionnary with :\n",
    "                        - keys - string : columns names to aggregate on\n",
    "                        - values - string or list : aggregation function(s) for each columns\n",
    "    \n",
    "    return \n",
    "    ------\n",
    "    aggDf - dataframe : the same dataframe with :\n",
    "                        - the groupBy variable in first column\n",
    "                        - for each column name in aggDict, as many columns as functions in the corresponding aggDict value\n",
    "    \n",
    "    \n",
    "    '''\n",
    "    \n",
    "    # dealing with functions names not in lists\n",
    "    for colName,funcs in aggDict.items() :\n",
    "        if type(funcs)==str :\n",
    "            aggDict[colName]=[funcs]\n",
    "    \n",
    "    # perform groupby\n",
    "    aggDf = df.groupby(groupByColName).agg(aggDict)\n",
    "    \n",
    "    aggDf.columns = pd.Index([newColsText+\"_\"+col[0]+\"_Agg\"+col[1].capitalize() for col in aggDf.columns])\n",
    "    aggDf=aggDf.astype({col : mf.bestDtype(aggDf[col]) for col in aggDf.columns})\n",
    "    \n",
    "    return aggDf\n",
    "    \n"
   ]
  },
  {
   "cell_type": "markdown",
   "id": "c568a90b",
   "metadata": {},
   "source": [
    "Corrigeons la feature \"key\" de `bureau.csv` (compatibilité avec .merge() ) :"
   ]
  },
  {
   "cell_type": "code",
   "execution_count": 60,
   "id": "6eff300e",
   "metadata": {},
   "outputs": [],
   "source": [
    "# \"SK_ID_BUREAU\" as type 'int64' for .merge() compatibility\n",
    "encodedBurDf[\"SK_ID_BUREAU\"]=encodedBurDf[\"SK_ID_BUREAU\"].astype('int64')"
   ]
  },
  {
   "cell_type": "markdown",
   "id": "b4db8066",
   "metadata": {},
   "source": [
    "### `bureau_balance.csv` - agrégations"
   ]
  },
  {
   "cell_type": "code",
   "execution_count": 61,
   "id": "7b399850",
   "metadata": {},
   "outputs": [],
   "source": [
    "# iterate on each bureau_balance dataframe\n",
    "for bbDf in lastNbb_dfs +[encodedBurBalDf] :\n",
    "    \n",
    "    # create the aggregation dict\n",
    "    BBaggDict = {}\n",
    "\n",
    "    for col in bbDf.columns :\n",
    "        if \"STATUS\" in col :\n",
    "            BBaggDict[col]=['mean'] \n",
    "    \n",
    "    # use function\n",
    "    agg_BB_df = aggregationFunc (df=bbDf, \n",
    "                                newColsText=\"BB\", \n",
    "                                groupByColName=\"SK_ID_BUREAU\",\n",
    "                                aggDict=BBaggDict,\n",
    "                               )\n",
    "    \n",
    "    # merge with bureau.csv\n",
    "    encodedBurDf=encodedBurDf.merge(agg_BB_df,on=\"SK_ID_BUREAU\",how='left')\n",
    "    del bbDf, agg_BB_df\n",
    "    gc.collect()\n",
    "    \n",
    "if deleteLastNxx_dfs == True :\n",
    "    del lastNbb_dfs\n",
    "    gc.collect()"
   ]
  },
  {
   "cell_type": "markdown",
   "id": "54f46beb",
   "metadata": {},
   "source": [
    "## Unifier les datasets - Agrégations des `xxx.csv` & Merge avec `application_train.csv`<a class=\"anchor\" id=\"75\"></a>"
   ]
  },
  {
   "cell_type": "markdown",
   "id": "e66c1e18",
   "metadata": {},
   "source": [
    "Nous allons créer un dataframe général :\n",
    "- qui recevra les nouvelles features composites\n",
    "- dans lequel nous supprimerons les features `FLAG_DOCUMENTxx` and `xx_NOT_xxx`, que nous avons synthétisé par ailleurs\n",
    "- qui recevra les agrégations\n",
    "\n",
    "Nous allons en profiter pour corriger la feature \"key\" de `application_train.csv` (compatibilité avec .merge() ) :"
   ]
  },
  {
   "cell_type": "code",
   "execution_count": 62,
   "id": "4897ff0b",
   "metadata": {},
   "outputs": [
    {
     "name": "stdout",
     "output_type": "stream",
     "text": [
      "bigAppliDf a 106 features\n"
     ]
    }
   ],
   "source": [
    "# concatenate newAppliFeatures and lowMemAppliDf\n",
    "bigAppliDf = pd.concat([lowMemAppliDf,newAppliFeatures],axis=1)\n",
    "# drop xx_NOT_xxx features\n",
    "bigAppliDf=bigAppliDf.drop(columns = NOTlist)\n",
    "# drop  FLAG_DOCUMENTxx features\n",
    "bigAppliDf=bigAppliDf.drop(columns = [col for col in bigAppliDf.columns if \"FLAG_DOC\" in col])\n",
    "\n",
    "del newAppliFeatures\n",
    "gc.collect()\n",
    "\n",
    "# \"SK_ID_CURR\" as type 'int64' for .merge() compatibility\n",
    "bigAppliDf[\"SK_ID_CURR\"]=bigAppliDf[\"SK_ID_CURR\"].astype('int64')\n",
    "print(\"bigAppliDf a \"+str(bigAppliDf.shape[1])+\" features\")\n",
    "nFeatures = bigAppliDf.shape[1]"
   ]
  },
  {
   "cell_type": "code",
   "execution_count": 63,
   "id": "b2ec76ea",
   "metadata": {},
   "outputs": [],
   "source": [
    "if deleteLowMemDfs == True :\n",
    "    del lowMemAppliDf,enhancedDfDict\n",
    "    gc.collect()"
   ]
  },
  {
   "cell_type": "markdown",
   "id": "1c1ca9a3",
   "metadata": {},
   "source": [
    "### `bureau.csv` - agrégations"
   ]
  },
  {
   "cell_type": "markdown",
   "id": "5b48982e",
   "metadata": {},
   "source": [
    "Pour rappel les noms des features encodées par One Hot Encoding sont stockés ici :"
   ]
  },
  {
   "cell_type": "code",
   "execution_count": 64,
   "id": "53f9cda4",
   "metadata": {},
   "outputs": [
    {
     "data": {
      "text/plain": [
       "['CREDIT_ACTIVE_Active',\n",
       " 'CREDIT_ACTIVE_Bad debt',\n",
       " 'CREDIT_ACTIVE_Closed',\n",
       " 'CREDIT_ACTIVE_Sold',\n",
       " 'CREDIT_ACTIVE_missing',\n",
       " 'CREDIT_CURRENCY_currency 1',\n",
       " 'CREDIT_CURRENCY_currency 2',\n",
       " 'CREDIT_CURRENCY_currency 3',\n",
       " 'CREDIT_CURRENCY_currency 4',\n",
       " 'CREDIT_CURRENCY_missing']"
      ]
     },
     "execution_count": 64,
     "metadata": {},
     "output_type": "execute_result"
    }
   ],
   "source": [
    "oheColsNamesBur"
   ]
  },
  {
   "cell_type": "markdown",
   "id": "e4cf6625",
   "metadata": {},
   "source": [
    "il y avait une feature avec beaucoup de catégories :"
   ]
  },
  {
   "cell_type": "code",
   "execution_count": 65,
   "id": "fe662dd5",
   "metadata": {},
   "outputs": [
    {
     "data": {
      "text/plain": [
       "{'CREDIT_ACTIVE': 'nominal',\n",
       " 'CREDIT_CURRENCY': 'nominal',\n",
       " 'CREDIT_TYPE': 'highCardinality'}"
      ]
     },
     "execution_count": 65,
     "metadata": {},
     "output_type": "execute_result"
    }
   ],
   "source": [
    "categTypesDict['bureau.csv']"
   ]
  },
  {
   "cell_type": "markdown",
   "id": "0f6c9f73",
   "metadata": {},
   "source": [
    "La fonction `myMode` est très lente. Nous allons donc sauvegarder le dataframe issu de l'agrégation."
   ]
  },
  {
   "cell_type": "code",
   "execution_count": 66,
   "id": "fa10beb2",
   "metadata": {},
   "outputs": [],
   "source": [
    "if not os.path.isdir(\"mySaves/myDataFrames/aggDfs\") :\n",
    "    os.mkdir(\"mySaves/myDataFrames/aggDfs\")"
   ]
  },
  {
   "cell_type": "code",
   "execution_count": 67,
   "id": "5fd5b438",
   "metadata": {},
   "outputs": [
    {
     "name": "stdout",
     "output_type": "stream",
     "text": [
      "CPU times: total: 109 ms\n",
      "Wall time: 192 ms\n"
     ]
    },
    {
     "data": {
      "text/plain": [
       "0"
      ]
     },
     "execution_count": 67,
     "metadata": {},
     "output_type": "execute_result"
    }
   ],
   "source": [
    "%%time\n",
    "\n",
    "if (\"agg_BUR_df.joblib\" not in os.listdir(\"mySaves/myDataFrames/aggDfs\")) or (rapidProcessing==False) :\n",
    "\n",
    "    # create the aggregation dict\n",
    "    BaggDict = {}\n",
    "\n",
    "    for col in encodedBurDf.columns :\n",
    "        if col in oheColsNamesBur :\n",
    "            BaggDict[col]=['mean']\n",
    "        if \"BB\" in col :\n",
    "            BaggDict[col]=['mean'] \n",
    "\n",
    "    BaggDict = BaggDict|{\n",
    "        'DAYS_CREDIT':[\"mean\"], \n",
    "        'CREDIT_DAY_OVERDUE':[\"mean\"],\n",
    "        'DAYS_CREDIT_ENDDATE':[\"mean\"], \n",
    "        'DAYS_ENDDATE_FACT':[\"mean\"], \n",
    "        'AMT_CREDIT_MAX_OVERDUE':[\"mean\"],\n",
    "        'CNT_CREDIT_PROLONG':[\"sum\"], \n",
    "        'AMT_CREDIT_SUM':[\"sum\"], \n",
    "        'AMT_CREDIT_SUM_DEBT':[\"sum\"],\n",
    "        'AMT_CREDIT_SUM_LIMIT':[], \n",
    "        'AMT_CREDIT_SUM_OVERDUE':[], \n",
    "        'DAYS_CREDIT_UPDATE':[],\n",
    "        'AMT_ANNUITY':[\"mean\"],\n",
    "        'CREDIT_TYPE' :[myMode],\n",
    "        'NEW_DEPT_TO_REMDAYS_RATIO':[\"max\"]\n",
    "    }\n",
    "\n",
    "\n",
    "    # use function\n",
    "    agg_BUR_df = aggregationFunc (df=encodedBurDf, \n",
    "                                newColsText=\"BUR\", \n",
    "                                groupByColName=\"SK_ID_CURR\",\n",
    "                                aggDict=BaggDict,\n",
    "                               )\n",
    "    dump(agg_BUR_df,\"mySaves/myDataFrames/aggDfs/agg_BUR_df.joblib\")\n",
    "\n",
    "else :\n",
    "    agg_BUR_df=load(\"mySaves/myDataFrames/aggDfs/agg_BUR_df.joblib\")\n",
    "\n",
    "# merge with bureau.csv\n",
    "bigAppliDf=bigAppliDf.merge(agg_BUR_df,on=\"SK_ID_CURR\",how='left')\n",
    "\n",
    "del agg_BUR_df\n",
    "gc.collect()"
   ]
  },
  {
   "cell_type": "code",
   "execution_count": 68,
   "id": "d2f6d8ac",
   "metadata": {},
   "outputs": [
    {
     "name": "stdout",
     "output_type": "stream",
     "text": [
      "bigAppliDf a 129 features, 23 de plus.\n",
      "BUR_CREDIT_ACTIVE_Active_AggMean\n",
      "BUR_CREDIT_ACTIVE_Bad debt_AggMean\n",
      "BUR_CREDIT_ACTIVE_Closed_AggMean\n",
      "BUR_CREDIT_ACTIVE_Sold_AggMean\n",
      "BUR_CREDIT_ACTIVE_missing_AggMean\n",
      "BUR_CREDIT_CURRENCY_currency 1_AggMean\n",
      "BUR_CREDIT_CURRENCY_currency 2_AggMean\n",
      "BUR_CREDIT_CURRENCY_currency 3_AggMean\n",
      "BUR_CREDIT_CURRENCY_currency 4_AggMean\n",
      "BUR_CREDIT_CURRENCY_missing_AggMean\n",
      "BUR_BB_last10_STATUS_AggMean_AggMean\n",
      "BUR_BB_STATUS_AggMean_AggMean\n",
      "BUR_DAYS_CREDIT_AggMean\n",
      "BUR_CREDIT_DAY_OVERDUE_AggMean\n",
      "BUR_DAYS_CREDIT_ENDDATE_AggMean\n",
      "BUR_DAYS_ENDDATE_FACT_AggMean\n",
      "BUR_AMT_CREDIT_MAX_OVERDUE_AggMean\n",
      "BUR_CNT_CREDIT_PROLONG_AggSum\n",
      "BUR_AMT_CREDIT_SUM_AggSum\n",
      "BUR_AMT_CREDIT_SUM_DEBT_AggSum\n",
      "BUR_AMT_ANNUITY_AggMean\n",
      "BUR_CREDIT_TYPE_AggMymode\n",
      "BUR_NEW_DEPT_TO_REMDAYS_RATIO_AggMax\n"
     ]
    }
   ],
   "source": [
    "print(\"bigAppliDf a \"+str(bigAppliDf.shape[1])+\" features, \"+str(bigAppliDf.shape[1]-nFeatures)+\" de plus.\")\n",
    "\n",
    "if printNewFeatures==True :\n",
    "    for col in bigAppliDf.columns.tolist()[nFeatures:] :\n",
    "        print(col)\n",
    "\n",
    "nFeatures = bigAppliDf.shape[1]"
   ]
  },
  {
   "cell_type": "markdown",
   "id": "3b6e1304",
   "metadata": {},
   "source": [
    "### `previous_application.csv` - agrégations"
   ]
  },
  {
   "cell_type": "markdown",
   "id": "4a6fb781",
   "metadata": {},
   "source": [
    "Pour rappel il y avait des features avec beaucoup de catégories ('highCardinality') :"
   ]
  },
  {
   "cell_type": "code",
   "execution_count": 69,
   "id": "fb28f0ce",
   "metadata": {},
   "outputs": [
    {
     "data": {
      "text/plain": [
       "{'NAME_CONTRACT_TYPE': 'nominal',\n",
       " 'WEEKDAY_APPR_PROCESS_START': 'highCardinality',\n",
       " 'NAME_CASH_LOAN_PURPOSE': 'highCardinality',\n",
       " 'NAME_CONTRACT_STATUS': 'nominal',\n",
       " 'NAME_PAYMENT_TYPE': 'nominal',\n",
       " 'CODE_REJECT_REASON': 'highCardinality',\n",
       " 'NAME_TYPE_SUITE': 'highCardinality',\n",
       " 'NAME_CLIENT_TYPE': ['Repeated', 'Refreshed', 'New', 'missing'],\n",
       " 'NAME_GOODS_CATEGORY': 'highCardinality',\n",
       " 'NAME_PORTFOLIO': 'nominal',\n",
       " 'CHANNEL_TYPE': 'highCardinality',\n",
       " 'NAME_SELLER_INDUSTRY': 'highCardinality',\n",
       " 'NAME_YIELD_GROUP': ['low_action', 'low_normal', 'middle', 'missing', 'high'],\n",
       " 'PRODUCT_COMBINATION': 'highCardinality'}"
      ]
     },
     "execution_count": 69,
     "metadata": {},
     "output_type": "execute_result"
    }
   ],
   "source": [
    "categTypesDict['previous_application.csv']"
   ]
  },
  {
   "cell_type": "code",
   "execution_count": 70,
   "id": "695e2b34",
   "metadata": {
    "scrolled": true
   },
   "outputs": [
    {
     "name": "stdout",
     "output_type": "stream",
     "text": [
      "CPU times: total: 125 ms\n",
      "Wall time: 234 ms\n"
     ]
    },
    {
     "data": {
      "text/plain": [
       "0"
      ]
     },
     "execution_count": 70,
     "metadata": {},
     "output_type": "execute_result"
    }
   ],
   "source": [
    "%%time\n",
    "\n",
    "if (\"agg_PREV_df.joblib\" not in os.listdir(\"mySaves/myDataFrames/aggDfs\")) or (rapidProcessing==False) :\n",
    "\n",
    "    # create the aggregation dict\n",
    "    PREVaggDict = {}\n",
    "\n",
    "    for col in encodedPrevAppDf.columns :\n",
    "        if col in oheColsNamesPrevApp :\n",
    "            PREVaggDict[col]=['mean']\n",
    "\n",
    "\n",
    "    PREVaggDict = PREVaggDict|{\n",
    "        'AMT_ANNUITY' : ['max'],\n",
    "        'AMT_APPLICATION' : ['min'],\n",
    "        'AMT_CREDIT' : ['min'],\n",
    "        'AMT_DOWN_PAYMENT' : [],\n",
    "        'AMT_GOODS_PRICE' : [],\n",
    "        'HOUR_APPR_PROCESS_START' : [],\n",
    "        'FLAG_LAST_APPL_PER_CONTRACT' : [],\n",
    "        'NFLAG_LAST_APPL_IN_DAY' : [],\n",
    "        'RATE_DOWN_PAYMENT' : [],\n",
    "        'RATE_INTEREST_PRIMARY' : [],\n",
    "        'RATE_INTEREST_PRIVILEGED' : [],\n",
    "        'NAME_CASH_LOAN_PURPOSE' : [myMode],\n",
    "        'DAYS_DECISION' : ['min'],\n",
    "        'NAME_CLIENT_TYPE' : ['min'],\n",
    "        'NAME_GOODS_CATEGORY' : [myMode],\n",
    "        'NAME_PRODUCT_TYPE' : ['mean'],\n",
    "        'SELLERPLACE_AREA' : [],\n",
    "        'CNT_PAYMENT' : ['mean'],\n",
    "        'NAME_YIELD_GROUP' : ['min'],\n",
    "        'PRODUCT_COMBINATION' : [myMode],\n",
    "        'DAYS_FIRST_DRAWING' : [],\n",
    "        'DAYS_FIRST_DUE' : ['max'],\n",
    "        'DAYS_LAST_DUE_1ST_VERSION' : ['max'],\n",
    "        'DAYS_LAST_DUE' : ['max'],\n",
    "        'DAYS_TERMINATION' : [],\n",
    "        'NFLAG_INSURED_ON_APPROVAL' : ['mean'],\n",
    "        'WEEKDAY_APPR_PROCESS_START' : [myMode],\n",
    "        'CODE_REJECT_REASON': [myMode],\n",
    "        'NAME_TYPE_SUITE': [myMode],\n",
    "        'CHANNEL_TYPE': [myMode],\n",
    "        'NAME_SELLER_INDUSTRY': [myMode],\n",
    "        'NEW_DIFF_K_RATIO' : ['max'],\n",
    "        'NEW_I_RATE' : ['min']\n",
    "        }\n",
    "    \n",
    "    # use function\n",
    "    agg_PREV_df = aggregationFunc (df=encodedPrevAppDf, \n",
    "                                newColsText=\"PREV\", \n",
    "                                groupByColName=\"SK_ID_CURR\",\n",
    "                                aggDict=PREVaggDict,\n",
    "                               )\n",
    "\n",
    "    dump(agg_PREV_df,\"mySaves/myDataFrames/aggDfs/agg_PREV_df.joblib\")\n",
    "        \n",
    "else :\n",
    "    agg_PREV_df=load(\"mySaves/myDataFrames/aggDfs/agg_PREV_df.joblib\")\n",
    "        \n",
    "# merge with bureau.csv\n",
    "bigAppliDf=bigAppliDf.merge(agg_PREV_df,on=\"SK_ID_CURR\",how='left')\n",
    "\n",
    "del agg_PREV_df\n",
    "gc.collect() "
   ]
  },
  {
   "cell_type": "code",
   "execution_count": 71,
   "id": "b78f8476",
   "metadata": {
    "scrolled": false
   },
   "outputs": [
    {
     "name": "stdout",
     "output_type": "stream",
     "text": [
      "bigAppliDf a 169 features, 40 de plus.\n",
      "PREV_NAME_CONTRACT_TYPE_Cash loans_AggMean\n",
      "PREV_NAME_CONTRACT_TYPE_Consumer loans_AggMean\n",
      "PREV_NAME_CONTRACT_TYPE_Revolving loans_AggMean\n",
      "PREV_NAME_CONTRACT_TYPE_missing_AggMean\n",
      "PREV_NAME_CONTRACT_STATUS_Approved_AggMean\n",
      "PREV_NAME_CONTRACT_STATUS_Canceled_AggMean\n",
      "PREV_NAME_CONTRACT_STATUS_Refused_AggMean\n",
      "PREV_NAME_CONTRACT_STATUS_Unused offer_AggMean\n",
      "PREV_NAME_CONTRACT_STATUS_missing_AggMean\n",
      "PREV_NAME_PAYMENT_TYPE_Cash through the bank_AggMean\n",
      "PREV_NAME_PAYMENT_TYPE_Cashless from the account of the employer_AggMean\n",
      "PREV_NAME_PAYMENT_TYPE_Non-cash from your account_AggMean\n",
      "PREV_NAME_PAYMENT_TYPE_missing_AggMean\n",
      "PREV_NAME_PORTFOLIO_Cards_AggMean\n",
      "PREV_NAME_PORTFOLIO_Cars_AggMean\n",
      "PREV_NAME_PORTFOLIO_Cash_AggMean\n",
      "PREV_NAME_PORTFOLIO_POS_AggMean\n",
      "PREV_NAME_PORTFOLIO_missing_AggMean\n",
      "PREV_AMT_ANNUITY_AggMax\n",
      "PREV_AMT_APPLICATION_AggMin\n",
      "PREV_AMT_CREDIT_AggMin\n",
      "PREV_NAME_CASH_LOAN_PURPOSE_AggMymode\n",
      "PREV_DAYS_DECISION_AggMin\n",
      "PREV_NAME_CLIENT_TYPE_AggMin\n",
      "PREV_NAME_GOODS_CATEGORY_AggMymode\n",
      "PREV_NAME_PRODUCT_TYPE_AggMean\n",
      "PREV_CNT_PAYMENT_AggMean\n",
      "PREV_NAME_YIELD_GROUP_AggMin\n",
      "PREV_PRODUCT_COMBINATION_AggMymode\n",
      "PREV_DAYS_FIRST_DUE_AggMax\n",
      "PREV_DAYS_LAST_DUE_1ST_VERSION_AggMax\n",
      "PREV_DAYS_LAST_DUE_AggMax\n",
      "PREV_NFLAG_INSURED_ON_APPROVAL_AggMean\n",
      "PREV_WEEKDAY_APPR_PROCESS_START_AggMymode\n",
      "PREV_CODE_REJECT_REASON_AggMymode\n",
      "PREV_NAME_TYPE_SUITE_AggMymode\n",
      "PREV_CHANNEL_TYPE_AggMymode\n",
      "PREV_NAME_SELLER_INDUSTRY_AggMymode\n",
      "PREV_NEW_DIFF_K_RATIO_AggMax\n",
      "PREV_NEW_I_RATE_AggMin\n"
     ]
    }
   ],
   "source": [
    "print(\"bigAppliDf a \"+str(bigAppliDf.shape[1])+\" features, \"+str(bigAppliDf.shape[1]-nFeatures)+\" de plus.\")\n",
    "\n",
    "\n",
    "if printNewFeatures==True :\n",
    "    for col in bigAppliDf.columns.tolist()[nFeatures:] :\n",
    "        print(col)\n",
    "\n",
    "nFeatures = bigAppliDf.shape[1]"
   ]
  },
  {
   "cell_type": "markdown",
   "id": "a24f45fc",
   "metadata": {},
   "source": [
    "### `credit_card_balance.csv` - agrégations"
   ]
  },
  {
   "cell_type": "markdown",
   "id": "a1ea416f",
   "metadata": {},
   "source": [
    "Pour rappel il y avait une feature avec beaucoup de catégories ('highCardinality') :"
   ]
  },
  {
   "cell_type": "code",
   "execution_count": 72,
   "id": "587af5ce",
   "metadata": {},
   "outputs": [
    {
     "data": {
      "text/plain": [
       "{'NAME_CONTRACT_STATUS': 'highCardinality'}"
      ]
     },
     "execution_count": 72,
     "metadata": {},
     "output_type": "execute_result"
    }
   ],
   "source": [
    "categTypesDict['credit_card_balance.csv']"
   ]
  },
  {
   "cell_type": "code",
   "execution_count": 73,
   "id": "3e05c0d3",
   "metadata": {},
   "outputs": [
    {
     "data": {
      "text/plain": [
       "[]"
      ]
     },
     "execution_count": 73,
     "metadata": {},
     "output_type": "execute_result"
    }
   ],
   "source": [
    "oheColsNamesCcBal"
   ]
  },
  {
   "cell_type": "code",
   "execution_count": 74,
   "id": "7985c3bb",
   "metadata": {
    "scrolled": true
   },
   "outputs": [
    {
     "name": "stdout",
     "output_type": "stream",
     "text": [
      "CPU times: total: 13.8 s\n",
      "Wall time: 20.1 s\n"
     ]
    }
   ],
   "source": [
    "%%time\n",
    "       \n",
    "for ccDf in lastNcc_dfs +[encodedCcBalDf] : \n",
    "\n",
    "    # create the aggregation dict\n",
    "    CCaggDict = {}\n",
    "\n",
    "    for col in ccDf.columns :\n",
    "        if col in oheColsNamesCcBal :\n",
    "            CCaggDict[col]=['mean'] \n",
    "        if (\"NEW\" in col) :\n",
    "            CCaggDict[col]=['sum'] \n",
    "        if (\"DPD\" in col) :\n",
    "            CCaggDict[col]=['mean'] \n",
    "        if (\"AMT_BALANCE\" in col) :\n",
    "            CCaggDict[col]=['mean']\n",
    "        if 'NAME_CONTRACT_STATUS' in col :\n",
    "            CCaggDict[col]=[myMode]\n",
    "\n",
    "    # use function\n",
    "    agg_CC_df = aggregationFunc (df=ccDf, \n",
    "                                newColsText=\"CC\", \n",
    "                                groupByColName=\"SK_ID_CURR\",\n",
    "                                aggDict=CCaggDict,\n",
    "                               )\n",
    "\n",
    "    # merge with bureau.csv\n",
    "    bigAppliDf=bigAppliDf.merge(agg_CC_df,on=\"SK_ID_CURR\",how='left')\n",
    "    del ccDf,agg_CC_df\n",
    "    gc.collect()\n",
    "\n",
    "if deleteLastNxx_dfs == True :\n",
    "    del lastNcc_dfs\n",
    "    gc.collect()\n",
    "    \n"
   ]
  },
  {
   "cell_type": "code",
   "execution_count": 75,
   "id": "3f86cc13",
   "metadata": {
    "scrolled": false
   },
   "outputs": [
    {
     "name": "stdout",
     "output_type": "stream",
     "text": [
      "bigAppliDf a 178 features, 9 de plus.\n",
      "CC_last10_AMT_BALANCE_AggMean\n",
      "CC_last10_NEW_SUM_CNT_DRAW_AggSum\n",
      "CC_last10_SK_DPD_AggMean\n",
      "CC_last10_SK_DPD_DEF_AggMean\n",
      "CC_AMT_BALANCE_AggMean\n",
      "CC_NAME_CONTRACT_STATUS_AggMymode\n",
      "CC_SK_DPD_AggMean\n",
      "CC_SK_DPD_DEF_AggMean\n",
      "CC_NEW_SUM_CNT_DRAW_AggSum\n"
     ]
    }
   ],
   "source": [
    "print(\"bigAppliDf a \"+str(bigAppliDf.shape[1])+\" features, \"+str(bigAppliDf.shape[1]-nFeatures)+\" de plus.\")\n",
    "\n",
    "\n",
    "if printNewFeatures==True :\n",
    "    for col in bigAppliDf.columns.tolist()[nFeatures:] :\n",
    "        print(col)\n",
    "\n",
    "nFeatures = bigAppliDf.shape[1]"
   ]
  },
  {
   "cell_type": "markdown",
   "id": "f74ebeee",
   "metadata": {},
   "source": [
    "### `POS_CASH_balance.csv` - agrégations"
   ]
  },
  {
   "cell_type": "markdown",
   "id": "8dd8151a",
   "metadata": {},
   "source": [
    "Pour rappel il y avait une feature avec beaucoup de catégories ('highCardinality') :"
   ]
  },
  {
   "cell_type": "code",
   "execution_count": 76,
   "id": "a7b59cac",
   "metadata": {},
   "outputs": [
    {
     "data": {
      "text/plain": [
       "{'NAME_CONTRACT_STATUS': 'highCardinality'}"
      ]
     },
     "execution_count": 76,
     "metadata": {},
     "output_type": "execute_result"
    }
   ],
   "source": [
    "categTypesDict['POS_CASH_balance.csv']"
   ]
  },
  {
   "cell_type": "code",
   "execution_count": 77,
   "id": "acd29508",
   "metadata": {},
   "outputs": [
    {
     "data": {
      "text/plain": [
       "[]"
      ]
     },
     "execution_count": 77,
     "metadata": {},
     "output_type": "execute_result"
    }
   ],
   "source": [
    "oheColsNamesPos"
   ]
  },
  {
   "cell_type": "code",
   "execution_count": 78,
   "id": "68dc55bc",
   "metadata": {
    "scrolled": true
   },
   "outputs": [
    {
     "name": "stdout",
     "output_type": "stream",
     "text": [
      "CPU times: total: 39.7 s\n",
      "Wall time: 1min\n"
     ]
    }
   ],
   "source": [
    "%%time\n",
    "for posDf in lastNpos_dfs +[encodedPosDf] :\n",
    "\n",
    "    # create the aggregation dict\n",
    "    POSaggDict = {}\n",
    "\n",
    "    for col in posDf.columns :\n",
    "        if col in oheColsNamesPos :\n",
    "            POSaggDict[col]=['mean'] \n",
    "        if (\"NEW\" in col)or(\"DPD\" in col) :\n",
    "            POSaggDict[col]=['mean'] \n",
    "        if 'NAME_CONTRACT_STATUS' in col :\n",
    "            POSaggDict[col]=[myMode]\n",
    "\n",
    "    # use function\n",
    "    agg_POS_df = aggregationFunc (df=posDf, \n",
    "                                newColsText=\"POS\", \n",
    "                                groupByColName=\"SK_ID_CURR\",\n",
    "                                aggDict=POSaggDict,\n",
    "                               )\n",
    "\n",
    "    # merge with bureau.csv\n",
    "    bigAppliDf=bigAppliDf.merge(agg_POS_df,on=\"SK_ID_CURR\",how='left')\n",
    "    del posDf,agg_POS_df\n",
    "    gc.collect()\n",
    "\n",
    "        \n",
    "if deleteLastNxx_dfs == True :\n",
    "    del lastNpos_dfs\n",
    "    gc.collect()\n"
   ]
  },
  {
   "cell_type": "code",
   "execution_count": 79,
   "id": "5fabd119",
   "metadata": {},
   "outputs": [
    {
     "name": "stdout",
     "output_type": "stream",
     "text": [
      "bigAppliDf a 185 features, 7 de plus.\n",
      "POS_last10_SK_DPD_AggMean\n",
      "POS_last10_SK_DPD_DEF_AggMean\n",
      "POS_last10_NEW_ACTUAL_LEFT_TO_PAY_AggMean\n",
      "POS_NAME_CONTRACT_STATUS_AggMymode\n",
      "POS_SK_DPD_AggMean\n",
      "POS_SK_DPD_DEF_AggMean\n",
      "POS_NEW_ACTUAL_LEFT_TO_PAY_AggMean\n"
     ]
    }
   ],
   "source": [
    "print(\"bigAppliDf a \"+str(bigAppliDf.shape[1])+\" features, \"+str(bigAppliDf.shape[1]-nFeatures)+\" de plus.\")\n",
    "\n",
    "if printNewFeatures==True :\n",
    "    for col in bigAppliDf.columns.tolist()[nFeatures:] :\n",
    "        print(col)\n",
    "\n",
    "nFeatures = bigAppliDf.shape[1]"
   ]
  },
  {
   "cell_type": "markdown",
   "id": "ffeb5906",
   "metadata": {},
   "source": [
    "### `installments_payments.csv` - agrégations"
   ]
  },
  {
   "cell_type": "markdown",
   "id": "d365329b",
   "metadata": {},
   "source": [
    "Pour rappel il n'y avait pas de feature avec beaucoup de catégories ('highCardinality') :"
   ]
  },
  {
   "cell_type": "code",
   "execution_count": 80,
   "id": "c0b712f7",
   "metadata": {},
   "outputs": [
    {
     "data": {
      "text/plain": [
       "{}"
      ]
     },
     "execution_count": 80,
     "metadata": {},
     "output_type": "execute_result"
    }
   ],
   "source": [
    "categTypesDict['installments_payments.csv']"
   ]
  },
  {
   "cell_type": "code",
   "execution_count": 81,
   "id": "1b25cd2d",
   "metadata": {},
   "outputs": [
    {
     "data": {
      "text/plain": [
       "[]"
      ]
     },
     "execution_count": 81,
     "metadata": {},
     "output_type": "execute_result"
    }
   ],
   "source": [
    "oheColsNamesInstalPaym"
   ]
  },
  {
   "cell_type": "code",
   "execution_count": 82,
   "id": "5073761d",
   "metadata": {
    "scrolled": false
   },
   "outputs": [
    {
     "name": "stdout",
     "output_type": "stream",
     "text": [
      "CPU times: total: 2.45 s\n",
      "Wall time: 3.82 s\n"
     ]
    }
   ],
   "source": [
    "%%time\n",
    "      \n",
    "for insDf in lastNins_dfs +[encodedInstalPaymDf] :\n",
    "\n",
    "    # create the aggregation dict\n",
    "    INSaggDict = {}\n",
    "\n",
    "    for col in insDf.columns :\n",
    "        if col in oheColsNamesInstalPaym :\n",
    "            INSaggDict[col]=['mean'] \n",
    "        if (\"AMT\" in col)or(\"ENTRY\" in col)or(\"NEW\" in col) :\n",
    "            INSaggDict[col]=['mean'] \n",
    "\n",
    "    # use function\n",
    "    agg_INS_df = aggregationFunc (df=insDf, \n",
    "                                newColsText=\"INS\", \n",
    "                                groupByColName=\"SK_ID_CURR\",\n",
    "                                aggDict=INSaggDict,\n",
    "                               )\n",
    "\n",
    "    # merge with bureau.csv\n",
    "    bigAppliDf=bigAppliDf.merge(agg_INS_df,on=\"SK_ID_CURR\",how='left')\n",
    "    del insDf,agg_INS_df\n",
    "    gc.collect()\n",
    "\n",
    "if deleteLastNxx_dfs == True :\n",
    "    del lastNins_dfs\n",
    "    gc.collect()\n",
    "\n"
   ]
  },
  {
   "cell_type": "code",
   "execution_count": 83,
   "id": "a42905a6",
   "metadata": {},
   "outputs": [
    {
     "name": "stdout",
     "output_type": "stream",
     "text": [
      "bigAppliDf a 192 features, 7 de plus.\n",
      "INS_last10_NEW_LESS_PAY_NORM_AggMean\n",
      "INS_last10_NEW_DPD_NORM_AggMean\n",
      "INS_DAYS_ENTRY_PAYMENT_AggMean\n",
      "INS_AMT_INSTALMENT_AggMean\n",
      "INS_AMT_PAYMENT_AggMean\n",
      "INS_NEW_LESS_PAY_NORM_AggMean\n",
      "INS_NEW_DPD_NORM_AggMean\n"
     ]
    }
   ],
   "source": [
    "print(\"bigAppliDf a \"+str(bigAppliDf.shape[1])+\" features, \"+str(bigAppliDf.shape[1]-nFeatures)+\" de plus.\")\n",
    "\n",
    "\n",
    "if printNewFeatures==True :\n",
    "    for col in bigAppliDf.columns.tolist()[nFeatures:] :\n",
    "        print(col)\n",
    "\n",
    "nFeatures = bigAppliDf.shape[1]"
   ]
  },
  {
   "cell_type": "markdown",
   "id": "01871a32",
   "metadata": {},
   "source": [
    "## Unifier les datasets - bilan<a class=\"anchor\" id=\"76\"></a>"
   ]
  },
  {
   "cell_type": "markdown",
   "id": "7e9c3976",
   "metadata": {},
   "source": [
    "Maintenant que tous les datasets sont regroupés, profitons-en pour créer une dernière feature, issue de deux datasets différents.\n",
    "\n",
    "L'idée est de cumuler l'information sur le taux d'intérêt et sur le pourcentage de financement :"
   ]
  },
  {
   "cell_type": "code",
   "execution_count": 84,
   "id": "63b66688",
   "metadata": {},
   "outputs": [],
   "source": [
    "bigAppliDf[\"NEW_I_x_DOWN\"] = bigAppliDf[\"PREV_NEW_I_RATE_AggMin\"] * bigAppliDf[\"NEW_DOWN_PAYMENT_RATE\"]"
   ]
  },
  {
   "cell_type": "markdown",
   "id": "afcab5bb",
   "metadata": {},
   "source": [
    "Nous avons maintenant le dataframe final qui nous permettra d'entraîner nos modèles."
   ]
  },
  {
   "cell_type": "code",
   "execution_count": 85,
   "id": "0d316796",
   "metadata": {},
   "outputs": [
    {
     "data": {
      "application/vnd.jupyter.widget-view+json": {
       "model_id": "85b02a967d594e9baf12882b36cc3df9",
       "version_major": 2,
       "version_minor": 0
      },
      "text/plain": [
       "Dropdown(description='Which column :', options=('SK_ID_CURR', 'NAME_CONTRACT_TYPE', 'CODE_GENDER', 'FLAG_OWN_C…"
      ]
     },
     "metadata": {},
     "output_type": "display_data"
    },
    {
     "data": {
      "application/vnd.jupyter.widget-view+json": {
       "model_id": "d51df21866e248b382878666510c76df",
       "version_major": 2,
       "version_minor": 0
      },
      "text/plain": [
       "IntSlider(value=50, description=\"Nb of unique values below which a num' feature is considered cat' :\", layout=…"
      ]
     },
     "metadata": {},
     "output_type": "display_data"
    },
    {
     "data": {
      "application/vnd.jupyter.widget-view+json": {
       "model_id": "3ac152bb84ec40049fd65cdea5f8ae29",
       "version_major": 2,
       "version_minor": 0
      },
      "text/plain": [
       "Output()"
      ]
     },
     "metadata": {},
     "output_type": "display_data"
    }
   ],
   "source": [
    "# compare distributions filtered on target values\n",
    "mf.plotFeatureVsTargetWID(df=bigAppliDf, \n",
    "                           targetFeatureName='TARGET', \n",
    "                           targetValsForCat=1, \n",
    "                           targetValsForNum=None,\n",
    "                           includeCatFeatureNan=True, \n",
    "                           includeTargetNan=True\n",
    "                          )"
   ]
  },
  {
   "cell_type": "code",
   "execution_count": 86,
   "id": "a6c5c5d7",
   "metadata": {},
   "outputs": [],
   "source": [
    "if deleteEncodedDfs == True :\n",
    "    del encodedDfDict\n",
    "    gc.collect()\n",
    "    for encodedDfName in encodedDfNames :\n",
    "        if encodedDfName != '' :\n",
    "            del vars()[encodedDfName]\n",
    "            gc.collect()"
   ]
  },
  {
   "cell_type": "markdown",
   "id": "9ef8c5f5",
   "metadata": {},
   "source": [
    "# Méthode d'évaluation<a class=\"anchor\" id=\"8\"></a>"
   ]
  },
  {
   "cell_type": "markdown",
   "id": "da7fb57d",
   "metadata": {},
   "source": [
    "Avant de rentrer dans la création de nos modèles, nous devons nous intéresser à la façon dont nous les évaluerons.\n",
    "\n",
    "## Approche coût métier  <a class=\"anchor\" id=\"81\"></a>\n",
    " \n",
    "La **probabilité de défaut** du prospect sera **utilisée conjointement avec un seuil** qui classifiera la demande de prêt comme « prêt refusé » (au-dessus du seuil, trop risqué) ou « prêt accordé » (en-dessous du seuil, risque de défaut acceptable).\n",
    " \n",
    "A partir de cette classification, nous pouvons réfléchir à ce que nous **coûterait une erreur**. Nous avons alors deux cas :\n",
    "- **Faux positif (FP)** : le prospect a vu sa demande **refusée**, **mais** il **se serait acquitté de sa dette**. Nous avons donc un manque à gagner correspondant aux intérêts non perçus.\n",
    "- **Faux négatif (FN)** : nous avons **accepté** la demande de prêt, **mais** le client a fait **défaut…** Nous avons donc un coût direct lié à l’utilisation de l’outil de scoring.\n",
    " \n",
    "Nous souhaitons donc minimiser ces deux types d’erreur, mais celles-ci n’ont **pas le même impact financier** pour l’entreprise :\n",
    "- le **coût d’un FP** dépend du capital emprunté, du taux d’intérêt, s’il est fixe ou non, de la durée d’emprunt, etc.\n",
    "- le **coût d’un FN** dépend du montant des impayés (qui dépend du prêt, des dates de défauts, etc.), du taux de recouvrement, des émoluments du prestataire de recouvrement, etc.\n",
    "Dans le cadre de l’étude, nous partirons de l’**hypothèse de travail que les FN coûtent 10x plus chers que les FP**. Cette approche sera à adapter avec l’entreprise bien entendu.\n",
    " \n",
    "\n"
   ]
  },
  {
   "cell_type": "markdown",
   "id": "9aa2b877",
   "metadata": {},
   "source": [
    "## Choix de la métrique d'évaluation<a class=\"anchor\" id=\"82\"></a>"
   ]
  },
  {
   "cell_type": "markdown",
   "id": "acfc089b",
   "metadata": {},
   "source": [
    "Dans le cadre de problèmes de classification :\n",
    "- la **minimisation des FN** se réalise en **maximisant le Recall**, qui correspond au taux de vrais positifs, car le taux de FN = 1 – Recall,\n",
    "- le **minimisation des FP** se réalise en **maximisant la Precision**, qui correspond au taux de bonnes prédictions positives, car le taux de FP = 1 – Precision\n",
    "\n",
    "Nous nous intéresserons donc à ces deux mesures en traçant la **courbe Precision-Recall** à **partir des scores/probabilités issus de nos modèles**.\n",
    "\n",
    "L'évaluation de nos modèles sera faite en calculant l'air sous cette courbe, qui est approximée par l' **average_precision**. Cette métrique sera utilisée pour :\n",
    "- optimiser les **hyperparamètres** lors des recherches sur grille par validation croisée\n",
    "- **comparer** nos modèles (via validation croisée également)"
   ]
  },
  {
   "cell_type": "markdown",
   "id": "7a08e84b",
   "metadata": {},
   "source": [
    "## Optimisation du modèle final<a class=\"anchor\" id=\"83\"></a>"
   ]
  },
  {
   "cell_type": "markdown",
   "id": "70dac176",
   "metadata": {},
   "source": [
    "**Le modèle choisi** devra être **optimisé** pour répondre au mieux à la problématique de coût exposée ci-avant et déterminer le **meilleur seuil**.\n",
    "\n",
    "Cette démarche est à réaliser avec l'entreprise, mais nous pourrons réaliser un essai sur la base de **notre hypothèse** (coûtFN=10 x coûtFP) en **calculant le coût moyen d'une prédiction pour différents seuils de classification**."
   ]
  },
  {
   "cell_type": "markdown",
   "id": "22b5e1d8",
   "metadata": {},
   "source": [
    "# Création des jeux d'entraînement et de test<a class=\"anchor\" id=\"9\"></a>"
   ]
  },
  {
   "cell_type": "markdown",
   "id": "66c460bf",
   "metadata": {},
   "source": [
    "Avant de créer nos jeux de données pour l'entraînement et le test des modèles, nous retirons les featurs basées sur le nombre d' \"observations\" de personnes ayant fait défaut dans l'entourage du client.\n",
    "\n",
    "En effet nous ne pouvons pas savoir si ces autres \"personnes\" :\n",
    "- sont dans notre dataset de base ou non, \n",
    "- seront dans le train set ou le test set,\n",
    "Il y a donc un risque que des observations du test set aient servi à construire des valeurs de la feature dans le train set, ce qui représente un risque de fuite de données."
   ]
  },
  {
   "cell_type": "code",
   "execution_count": 87,
   "id": "9646426a",
   "metadata": {},
   "outputs": [
    {
     "data": {
      "text/plain": [
       "['OBS_30_CNT_SOCIAL_CIRCLE',\n",
       " 'DEF_30_CNT_SOCIAL_CIRCLE',\n",
       " 'OBS_60_CNT_SOCIAL_CIRCLE',\n",
       " 'DEF_60_CNT_SOCIAL_CIRCLE']"
      ]
     },
     "execution_count": 87,
     "metadata": {},
     "output_type": "execute_result"
    }
   ],
   "source": [
    "dropColsNames = [col for col in bigAppliDf.columns if \"SOCIAL_\" in col]\n",
    "dropColsNames"
   ]
  },
  {
   "cell_type": "code",
   "execution_count": 88,
   "id": "53e33363",
   "metadata": {},
   "outputs": [
    {
     "name": "stdout",
     "output_type": "stream",
     "text": [
      "Les jeux ont les tailles suivantes :\n",
      "--------------\n",
      "XTrain : (246008, 187)\n",
      "XTest : (61503, 187)\n",
      "yTrain : (246008,)\n",
      "yTest : (61503,)\n"
     ]
    }
   ],
   "source": [
    "# create train test sets\n",
    "\n",
    "XTrain, XTest, yTrain, yTest = train_test_split(\n",
    "    bigAppliDf.drop(columns=['TARGET']+dropColsNames),\n",
    "    bigAppliDf[\"TARGET\"],\n",
    "    stratify=bigAppliDf[\"TARGET\"],\n",
    "    test_size=0.2,\n",
    "    shuffle=True,\n",
    "    random_state=16\n",
    ")\n",
    "\n",
    "# store ids\n",
    "XTrainIds,XTestIds = XTrain[\"SK_ID_CURR\"],XTest[\"SK_ID_CURR\"]\n",
    "XTrain=XTrain.drop(columns=[\"SK_ID_CURR\"])\n",
    "XTest=XTest.drop(columns=[\"SK_ID_CURR\"])\n",
    "\n",
    "print(\"Les jeux ont les tailles suivantes :\")\n",
    "print(\"--------------\")\n",
    "print(\"XTrain : \"+str(XTrain.shape))\n",
    "print(\"XTest : \"+str(XTest.shape))\n",
    "print(\"yTrain : \"+str(yTrain.shape))\n",
    "print(\"yTest : \"+str(yTest.shape))"
   ]
  },
  {
   "cell_type": "markdown",
   "id": "6d5758d5",
   "metadata": {},
   "source": [
    "On peut regarder quelles features composites sont présentes dans le set final :"
   ]
  },
  {
   "cell_type": "code",
   "execution_count": 89,
   "id": "7b86dd16",
   "metadata": {},
   "outputs": [
    {
     "data": {
      "text/plain": [
       "['NEW_CREDIT_TO_ANNUITY_RATIO',\n",
       " 'NEW_DOWN_PAYMENT_RATE',\n",
       " 'NEW_CREDIT_TO_GOOD_RATIO',\n",
       " 'NEW_ANNUITY_TO_INCOME_RATIO',\n",
       " 'NEW_EMPLOY_TO_BIRTH_RATIO',\n",
       " 'NEW_SOURCES_PROD',\n",
       " 'NEW_EXT_SOURCES_MEAN',\n",
       " 'NEW_is_NOT_sth',\n",
       " 'NEW_is_DOCLess',\n",
       " 'NEW_is_DOCMore',\n",
       " 'BUR_BB_last10_STATUS_AggMean_AggMean',\n",
       " 'BUR_NEW_DEPT_TO_REMDAYS_RATIO_AggMax',\n",
       " 'PREV_NEW_DIFF_K_RATIO_AggMax',\n",
       " 'PREV_NEW_I_RATE_AggMin',\n",
       " 'CC_last10_AMT_BALANCE_AggMean',\n",
       " 'CC_last10_NEW_SUM_CNT_DRAW_AggSum',\n",
       " 'CC_last10_SK_DPD_AggMean',\n",
       " 'CC_last10_SK_DPD_DEF_AggMean',\n",
       " 'CC_NEW_SUM_CNT_DRAW_AggSum',\n",
       " 'POS_last10_SK_DPD_AggMean',\n",
       " 'POS_last10_SK_DPD_DEF_AggMean',\n",
       " 'POS_last10_NEW_ACTUAL_LEFT_TO_PAY_AggMean',\n",
       " 'POS_NEW_ACTUAL_LEFT_TO_PAY_AggMean',\n",
       " 'INS_last10_NEW_LESS_PAY_NORM_AggMean',\n",
       " 'INS_last10_NEW_DPD_NORM_AggMean',\n",
       " 'INS_NEW_LESS_PAY_NORM_AggMean',\n",
       " 'INS_NEW_DPD_NORM_AggMean',\n",
       " 'NEW_I_x_DOWN']"
      ]
     },
     "execution_count": 89,
     "metadata": {},
     "output_type": "execute_result"
    }
   ],
   "source": [
    "myFeatures = [col for col in XTrain.columns if (\"NEW_\" in col)or(\"_last\" in col)]\n",
    "myFeatures"
   ]
  },
  {
   "cell_type": "markdown",
   "id": "56e11533",
   "metadata": {},
   "source": [
    "Nous pouvons vérifié que l'utilisation de l'option `stratify` a bien conservé le déséquilibre de classe sur la target :"
   ]
  },
  {
   "cell_type": "code",
   "execution_count": 90,
   "id": "0b4825e4",
   "metadata": {
    "scrolled": true
   },
   "outputs": [
    {
     "data": {
      "text/html": [
       "<div>\n",
       "<style scoped>\n",
       "    .dataframe tbody tr th:only-of-type {\n",
       "        vertical-align: middle;\n",
       "    }\n",
       "\n",
       "    .dataframe tbody tr th {\n",
       "        vertical-align: top;\n",
       "    }\n",
       "\n",
       "    .dataframe thead th {\n",
       "        text-align: right;\n",
       "    }\n",
       "</style>\n",
       "<table border=\"1\" class=\"dataframe\">\n",
       "  <thead>\n",
       "    <tr style=\"text-align: right;\">\n",
       "      <th></th>\n",
       "      <th>y</th>\n",
       "      <th>yTrain</th>\n",
       "      <th>yTest</th>\n",
       "    </tr>\n",
       "  </thead>\n",
       "  <tbody>\n",
       "    <tr>\n",
       "      <th>0, no default</th>\n",
       "      <td>91.93%</td>\n",
       "      <td>91.93%</td>\n",
       "      <td>91.93%</td>\n",
       "    </tr>\n",
       "    <tr>\n",
       "      <th>1, default</th>\n",
       "      <td>8.07%</td>\n",
       "      <td>8.07%</td>\n",
       "      <td>8.07%</td>\n",
       "    </tr>\n",
       "  </tbody>\n",
       "</table>\n",
       "</div>"
      ],
      "text/plain": [
       "                    y  yTrain   yTest\n",
       "0, no default  91.93%  91.93%  91.93%\n",
       "1, default      8.07%   8.07%   8.07%"
      ]
     },
     "execution_count": 90,
     "metadata": {},
     "output_type": "execute_result"
    }
   ],
   "source": [
    "# check imbalanceness\n",
    "pd.DataFrame(\n",
    "{\"y\":(round(bigAppliDf[\"TARGET\"].value_counts(normalize=True)*100,2).astype(str)+\"%\").values,\n",
    " \"yTrain\":(round(yTrain.value_counts(normalize=True)*100,2).astype(str)+\"%\").values,\n",
    "  \"yTest\":(round(yTest.value_counts(normalize=True)*100,2).astype(str)+\"%\").values\n",
    "},\n",
    "    index=pd.Index([\"0, no default\",\"1, default\"])\n",
    ")"
   ]
  },
  {
   "cell_type": "markdown",
   "id": "63ff3cbd",
   "metadata": {},
   "source": [
    "# Gérer la multicolinéarité<a class=\"anchor\" id=\"10\"></a>"
   ]
  },
  {
   "cell_type": "markdown",
   "id": "e43f5eb0",
   "metadata": {},
   "source": [
    "Afin de réduire le nombre de dimensions et de ne pas pénaliser nos modèles, nous allons supprimer les features ayant une trop forte correlation avec une autre feature."
   ]
  },
  {
   "cell_type": "code",
   "execution_count": 91,
   "id": "ac1527e4",
   "metadata": {},
   "outputs": [],
   "source": [
    "numColsNames = [col \n",
    "                for col in XTrain.columns \n",
    "                \n",
    "                if XTrain[col].dtype.kind in \"biufc\"]"
   ]
  },
  {
   "cell_type": "markdown",
   "id": "e9829076",
   "metadata": {},
   "source": [
    "Le coefficient de Pearson ne semble pas très indiqué (plus approprié pour des relations linéaires). De plus, afin de **limiter le temps de calcul**, nous allons :\n",
    "- utiliser le coefficient de correlation de Spearman et non de Kendall (qui aurait été plus approprié eu égard à la présence d'outliers)\n",
    "- étudier les correlations **par dataset**"
   ]
  },
  {
   "cell_type": "code",
   "execution_count": 92,
   "id": "e6ecc070",
   "metadata": {},
   "outputs": [
    {
     "name": "stdout",
     "output_type": "stream",
     "text": [
      "CPU times: total: 0 ns\n",
      "Wall time: 0 ns\n"
     ]
    }
   ],
   "source": [
    "%%time\n",
    "\n",
    "if not os.path.isdir(\"mySaves/myDataFrames/multicollinearity\") :\n",
    "    os.mkdir(\"mySaves/myDataFrames/multicollinearity\")\n",
    "\n",
    "if (\"highly_corr.joblib\" not in os.listdir(\"mySaves/myDataFrames/multicollinearity\")) or (rapidProcessing==False) :\n",
    "\n",
    "    highly_corr = pd.DataFrame()\n",
    "    corrThreshold = 0.85\n",
    "    method=\"spearman\"\n",
    "\n",
    "    for prefix in [\"BUR_\",\"PREV_\",\"CC_\",\"INS_\",\"POS_\",\"none\"] :\n",
    "        if prefix!=\"none\" :\n",
    "            numColsNames_prefix=[col for col in numColsNames if col.startswith(prefix)]\n",
    "            corr_prefix=pd.concat([yTrain,XTrain[numColsNames_prefix]],axis=1).corr(method=method).abs()\n",
    "        else :\n",
    "            numColsNames_prefix=[col for col in numColsNames if not col.startswith((\"BUR_\",\"PREV_\",\"CC_\",\"INS_\",\"POS_\"))]\n",
    "            corr_prefix=pd.concat([yTrain,XTrain[numColsNames_prefix]],axis=1).corr(method=method).abs()\n",
    "\n",
    "        for i in range (corr_prefix.shape[1]) :\n",
    "            for j in range (i+1, corr_prefix.shape[1]) :\n",
    "                if corr_prefix.iloc[i,j] > corrThreshold :\n",
    "                    if corr_prefix[\"TARGET\"][i]>corr_prefix[\"TARGET\"][j] :\n",
    "                        highly_corr.loc[corr_prefix.columns[j],\"to_keep\"]=corr_prefix.columns[i]\n",
    "                        highly_corr.loc[corr_prefix.columns[j],\"correlation\"]=corr_prefix.iloc[i,j]\n",
    "\n",
    "#         del corr_prefix\n",
    "        gc.collect()\n",
    "\n",
    "\n",
    "    highly_corr=highly_corr.reset_index()\n",
    "    highly_corr=highly_corr.rename(columns={\"index\":\"to_drop\"})\n",
    "    highly_corr=highly_corr.sort_values(\"correlation\",ascending=False)\n",
    "    \n",
    "    dump(highly_corr,\"mySaves/myDataFrames/multicollinearity/highly_corr.joblib\")\n",
    "    \n",
    "else :\n",
    "    highly_corr = load(\"mySaves/myDataFrames/multicollinearity/highly_corr.joblib\")"
   ]
  },
  {
   "cell_type": "code",
   "execution_count": 93,
   "id": "57f304d5",
   "metadata": {
    "scrolled": false
   },
   "outputs": [
    {
     "data": {
      "text/html": [
       "<div>\n",
       "<style scoped>\n",
       "    .dataframe tbody tr th:only-of-type {\n",
       "        vertical-align: middle;\n",
       "    }\n",
       "\n",
       "    .dataframe tbody tr th {\n",
       "        vertical-align: top;\n",
       "    }\n",
       "\n",
       "    .dataframe thead th {\n",
       "        text-align: right;\n",
       "    }\n",
       "</style>\n",
       "<table border=\"1\" class=\"dataframe\">\n",
       "  <thead>\n",
       "    <tr style=\"text-align: right;\">\n",
       "      <th></th>\n",
       "      <th>to_drop</th>\n",
       "      <th>to_keep</th>\n",
       "      <th>correlation</th>\n",
       "    </tr>\n",
       "  </thead>\n",
       "  <tbody>\n",
       "    <tr>\n",
       "      <th>4</th>\n",
       "      <td>POS_NEW_ACTUAL_LEFT_TO_PAY_AggMean</td>\n",
       "      <td>POS_last10_NEW_ACTUAL_LEFT_TO_PAY_AggMean</td>\n",
       "      <td>0.996908</td>\n",
       "    </tr>\n",
       "    <tr>\n",
       "      <th>28</th>\n",
       "      <td>LANDAREA_MEDI</td>\n",
       "      <td>LANDAREA_AVG</td>\n",
       "      <td>0.996325</td>\n",
       "    </tr>\n",
       "    <tr>\n",
       "      <th>26</th>\n",
       "      <td>FLOORSMIN_MEDI</td>\n",
       "      <td>FLOORSMIN_AVG</td>\n",
       "      <td>0.996215</td>\n",
       "    </tr>\n",
       "    <tr>\n",
       "      <th>18</th>\n",
       "      <td>COMMONAREA_MEDI</td>\n",
       "      <td>COMMONAREA_AVG</td>\n",
       "      <td>0.995760</td>\n",
       "    </tr>\n",
       "    <tr>\n",
       "      <th>30</th>\n",
       "      <td>LIVINGAREA_MEDI</td>\n",
       "      <td>LIVINGAREA_AVG</td>\n",
       "      <td>0.995478</td>\n",
       "    </tr>\n",
       "    <tr>\n",
       "      <th>12</th>\n",
       "      <td>BASEMENTAREA_MEDI</td>\n",
       "      <td>BASEMENTAREA_AVG</td>\n",
       "      <td>0.994915</td>\n",
       "    </tr>\n",
       "    <tr>\n",
       "      <th>24</th>\n",
       "      <td>FLOORSMAX_MEDI</td>\n",
       "      <td>FLOORSMAX_AVG</td>\n",
       "      <td>0.994915</td>\n",
       "    </tr>\n",
       "    <tr>\n",
       "      <th>22</th>\n",
       "      <td>ENTRANCES_MEDI</td>\n",
       "      <td>ENTRANCES_AVG</td>\n",
       "      <td>0.993326</td>\n",
       "    </tr>\n",
       "    <tr>\n",
       "      <th>20</th>\n",
       "      <td>ELEVATORS_MEDI</td>\n",
       "      <td>ELEVATORS_AVG</td>\n",
       "      <td>0.991250</td>\n",
       "    </tr>\n",
       "    <tr>\n",
       "      <th>13</th>\n",
       "      <td>YEARS_BUILD_AVG</td>\n",
       "      <td>YEARS_BEGINEXPLUATATION_AVG</td>\n",
       "      <td>0.987405</td>\n",
       "    </tr>\n",
       "    <tr>\n",
       "      <th>16</th>\n",
       "      <td>YEARS_BUILD_MEDI</td>\n",
       "      <td>YEARS_BEGINEXPLUATATION_MEDI</td>\n",
       "      <td>0.986676</td>\n",
       "    </tr>\n",
       "    <tr>\n",
       "      <th>14</th>\n",
       "      <td>YEARS_BEGINEXPLUATATION_MODE</td>\n",
       "      <td>YEARS_BEGINEXPLUATATION_AVG</td>\n",
       "      <td>0.985239</td>\n",
       "    </tr>\n",
       "    <tr>\n",
       "      <th>3</th>\n",
       "      <td>PREV_NAME_PAYMENT_TYPE_missing_AggMean</td>\n",
       "      <td>PREV_NAME_PAYMENT_TYPE_Cash through the bank_A...</td>\n",
       "      <td>0.983303</td>\n",
       "    </tr>\n",
       "    <tr>\n",
       "      <th>25</th>\n",
       "      <td>FLOORSMIN_MODE</td>\n",
       "      <td>FLOORSMIN_AVG</td>\n",
       "      <td>0.983233</td>\n",
       "    </tr>\n",
       "    <tr>\n",
       "      <th>33</th>\n",
       "      <td>NONLIVINGAPARTMENTS_MEDI</td>\n",
       "      <td>NONLIVINGAPARTMENTS_AVG</td>\n",
       "      <td>0.981825</td>\n",
       "    </tr>\n",
       "    <tr>\n",
       "      <th>23</th>\n",
       "      <td>FLOORSMAX_MODE</td>\n",
       "      <td>FLOORSMAX_AVG</td>\n",
       "      <td>0.981804</td>\n",
       "    </tr>\n",
       "    <tr>\n",
       "      <th>15</th>\n",
       "      <td>YEARS_BUILD_MODE</td>\n",
       "      <td>YEARS_BEGINEXPLUATATION_MODE</td>\n",
       "      <td>0.980955</td>\n",
       "    </tr>\n",
       "    <tr>\n",
       "      <th>35</th>\n",
       "      <td>NONLIVINGAREA_MEDI</td>\n",
       "      <td>NONLIVINGAREA_AVG</td>\n",
       "      <td>0.980720</td>\n",
       "    </tr>\n",
       "    <tr>\n",
       "      <th>6</th>\n",
       "      <td>LIVINGAPARTMENTS_AVG</td>\n",
       "      <td>APARTMENTS_AVG</td>\n",
       "      <td>0.973426</td>\n",
       "    </tr>\n",
       "    <tr>\n",
       "      <th>10</th>\n",
       "      <td>LIVINGAPARTMENTS_MEDI</td>\n",
       "      <td>APARTMENTS_MEDI</td>\n",
       "      <td>0.970872</td>\n",
       "    </tr>\n",
       "    <tr>\n",
       "      <th>19</th>\n",
       "      <td>ELEVATORS_MODE</td>\n",
       "      <td>ELEVATORS_AVG</td>\n",
       "      <td>0.969287</td>\n",
       "    </tr>\n",
       "    <tr>\n",
       "      <th>27</th>\n",
       "      <td>LANDAREA_MODE</td>\n",
       "      <td>LANDAREA_AVG</td>\n",
       "      <td>0.968294</td>\n",
       "    </tr>\n",
       "    <tr>\n",
       "      <th>5</th>\n",
       "      <td>NEW_EMPLOY_TO_BIRTH_RATIO</td>\n",
       "      <td>DAYS_EMPLOYED</td>\n",
       "      <td>0.966306</td>\n",
       "    </tr>\n",
       "    <tr>\n",
       "      <th>17</th>\n",
       "      <td>COMMONAREA_MODE</td>\n",
       "      <td>COMMONAREA_AVG</td>\n",
       "      <td>0.965662</td>\n",
       "    </tr>\n",
       "    <tr>\n",
       "      <th>29</th>\n",
       "      <td>LIVINGAREA_MODE</td>\n",
       "      <td>LIVINGAREA_AVG</td>\n",
       "      <td>0.964552</td>\n",
       "    </tr>\n",
       "    <tr>\n",
       "      <th>11</th>\n",
       "      <td>BASEMENTAREA_MODE</td>\n",
       "      <td>BASEMENTAREA_AVG</td>\n",
       "      <td>0.959941</td>\n",
       "    </tr>\n",
       "    <tr>\n",
       "      <th>21</th>\n",
       "      <td>ENTRANCES_MODE</td>\n",
       "      <td>ENTRANCES_AVG</td>\n",
       "      <td>0.957741</td>\n",
       "    </tr>\n",
       "    <tr>\n",
       "      <th>8</th>\n",
       "      <td>LIVINGAPARTMENTS_MODE</td>\n",
       "      <td>APARTMENTS_MODE</td>\n",
       "      <td>0.955488</td>\n",
       "    </tr>\n",
       "    <tr>\n",
       "      <th>2</th>\n",
       "      <td>PREV_NAME_PORTFOLIO_Cards_AggMean</td>\n",
       "      <td>PREV_NAME_CONTRACT_TYPE_Revolving loans_AggMean</td>\n",
       "      <td>0.947572</td>\n",
       "    </tr>\n",
       "    <tr>\n",
       "      <th>31</th>\n",
       "      <td>TOTALAREA_MODE</td>\n",
       "      <td>LIVINGAREA_MEDI</td>\n",
       "      <td>0.935389</td>\n",
       "    </tr>\n",
       "    <tr>\n",
       "      <th>32</th>\n",
       "      <td>NONLIVINGAPARTMENTS_MODE</td>\n",
       "      <td>NONLIVINGAPARTMENTS_AVG</td>\n",
       "      <td>0.933141</td>\n",
       "    </tr>\n",
       "    <tr>\n",
       "      <th>0</th>\n",
       "      <td>BUR_BB_STATUS_AggMean_AggMean</td>\n",
       "      <td>BUR_BB_last10_STATUS_AggMean_AggMean</td>\n",
       "      <td>0.929643</td>\n",
       "    </tr>\n",
       "    <tr>\n",
       "      <th>34</th>\n",
       "      <td>NONLIVINGAREA_MODE</td>\n",
       "      <td>NONLIVINGAREA_AVG</td>\n",
       "      <td>0.918767</td>\n",
       "    </tr>\n",
       "    <tr>\n",
       "      <th>9</th>\n",
       "      <td>APARTMENTS_MEDI</td>\n",
       "      <td>LIVINGAREA_MODE</td>\n",
       "      <td>0.878560</td>\n",
       "    </tr>\n",
       "    <tr>\n",
       "      <th>7</th>\n",
       "      <td>APARTMENTS_MODE</td>\n",
       "      <td>LIVINGAREA_AVG</td>\n",
       "      <td>0.870759</td>\n",
       "    </tr>\n",
       "    <tr>\n",
       "      <th>1</th>\n",
       "      <td>PREV_NAME_PORTFOLIO_Cash_AggMean</td>\n",
       "      <td>PREV_NAME_CONTRACT_TYPE_Cash loans_AggMean</td>\n",
       "      <td>0.866285</td>\n",
       "    </tr>\n",
       "  </tbody>\n",
       "</table>\n",
       "</div>"
      ],
      "text/plain": [
       "                                   to_drop  \\\n",
       "4       POS_NEW_ACTUAL_LEFT_TO_PAY_AggMean   \n",
       "28                           LANDAREA_MEDI   \n",
       "26                          FLOORSMIN_MEDI   \n",
       "18                         COMMONAREA_MEDI   \n",
       "30                         LIVINGAREA_MEDI   \n",
       "12                       BASEMENTAREA_MEDI   \n",
       "24                          FLOORSMAX_MEDI   \n",
       "22                          ENTRANCES_MEDI   \n",
       "20                          ELEVATORS_MEDI   \n",
       "13                         YEARS_BUILD_AVG   \n",
       "16                        YEARS_BUILD_MEDI   \n",
       "14            YEARS_BEGINEXPLUATATION_MODE   \n",
       "3   PREV_NAME_PAYMENT_TYPE_missing_AggMean   \n",
       "25                          FLOORSMIN_MODE   \n",
       "33                NONLIVINGAPARTMENTS_MEDI   \n",
       "23                          FLOORSMAX_MODE   \n",
       "15                        YEARS_BUILD_MODE   \n",
       "35                      NONLIVINGAREA_MEDI   \n",
       "6                     LIVINGAPARTMENTS_AVG   \n",
       "10                   LIVINGAPARTMENTS_MEDI   \n",
       "19                          ELEVATORS_MODE   \n",
       "27                           LANDAREA_MODE   \n",
       "5                NEW_EMPLOY_TO_BIRTH_RATIO   \n",
       "17                         COMMONAREA_MODE   \n",
       "29                         LIVINGAREA_MODE   \n",
       "11                       BASEMENTAREA_MODE   \n",
       "21                          ENTRANCES_MODE   \n",
       "8                    LIVINGAPARTMENTS_MODE   \n",
       "2        PREV_NAME_PORTFOLIO_Cards_AggMean   \n",
       "31                          TOTALAREA_MODE   \n",
       "32                NONLIVINGAPARTMENTS_MODE   \n",
       "0            BUR_BB_STATUS_AggMean_AggMean   \n",
       "34                      NONLIVINGAREA_MODE   \n",
       "9                          APARTMENTS_MEDI   \n",
       "7                          APARTMENTS_MODE   \n",
       "1         PREV_NAME_PORTFOLIO_Cash_AggMean   \n",
       "\n",
       "                                              to_keep  correlation  \n",
       "4           POS_last10_NEW_ACTUAL_LEFT_TO_PAY_AggMean     0.996908  \n",
       "28                                       LANDAREA_AVG     0.996325  \n",
       "26                                      FLOORSMIN_AVG     0.996215  \n",
       "18                                     COMMONAREA_AVG     0.995760  \n",
       "30                                     LIVINGAREA_AVG     0.995478  \n",
       "12                                   BASEMENTAREA_AVG     0.994915  \n",
       "24                                      FLOORSMAX_AVG     0.994915  \n",
       "22                                      ENTRANCES_AVG     0.993326  \n",
       "20                                      ELEVATORS_AVG     0.991250  \n",
       "13                        YEARS_BEGINEXPLUATATION_AVG     0.987405  \n",
       "16                       YEARS_BEGINEXPLUATATION_MEDI     0.986676  \n",
       "14                        YEARS_BEGINEXPLUATATION_AVG     0.985239  \n",
       "3   PREV_NAME_PAYMENT_TYPE_Cash through the bank_A...     0.983303  \n",
       "25                                      FLOORSMIN_AVG     0.983233  \n",
       "33                            NONLIVINGAPARTMENTS_AVG     0.981825  \n",
       "23                                      FLOORSMAX_AVG     0.981804  \n",
       "15                       YEARS_BEGINEXPLUATATION_MODE     0.980955  \n",
       "35                                  NONLIVINGAREA_AVG     0.980720  \n",
       "6                                      APARTMENTS_AVG     0.973426  \n",
       "10                                    APARTMENTS_MEDI     0.970872  \n",
       "19                                      ELEVATORS_AVG     0.969287  \n",
       "27                                       LANDAREA_AVG     0.968294  \n",
       "5                                       DAYS_EMPLOYED     0.966306  \n",
       "17                                     COMMONAREA_AVG     0.965662  \n",
       "29                                     LIVINGAREA_AVG     0.964552  \n",
       "11                                   BASEMENTAREA_AVG     0.959941  \n",
       "21                                      ENTRANCES_AVG     0.957741  \n",
       "8                                     APARTMENTS_MODE     0.955488  \n",
       "2     PREV_NAME_CONTRACT_TYPE_Revolving loans_AggMean     0.947572  \n",
       "31                                    LIVINGAREA_MEDI     0.935389  \n",
       "32                            NONLIVINGAPARTMENTS_AVG     0.933141  \n",
       "0                BUR_BB_last10_STATUS_AggMean_AggMean     0.929643  \n",
       "34                                  NONLIVINGAREA_AVG     0.918767  \n",
       "9                                     LIVINGAREA_MODE     0.878560  \n",
       "7                                      LIVINGAREA_AVG     0.870759  \n",
       "1          PREV_NAME_CONTRACT_TYPE_Cash loans_AggMean     0.866285  "
      ]
     },
     "execution_count": 93,
     "metadata": {},
     "output_type": "execute_result"
    }
   ],
   "source": [
    "highly_corr"
   ]
  },
  {
   "cell_type": "code",
   "execution_count": 94,
   "id": "40d6c9a6",
   "metadata": {},
   "outputs": [],
   "source": [
    "XTrain=XTrain.drop(columns = highly_corr['to_drop'].to_list())\n",
    "XTest=XTest.drop(columns = highly_corr['to_drop'].to_list())"
   ]
  },
  {
   "cell_type": "markdown",
   "id": "da71d5f5",
   "metadata": {},
   "source": [
    "# Création des pipelines de preprocessing ...<a class=\"anchor\" id=\"11\"></a>"
   ]
  },
  {
   "cell_type": "markdown",
   "id": "18809f68",
   "metadata": {},
   "source": [
    "## ... pour les features numériques<a class=\"anchor\" id=\"111\"></a>"
   ]
  },
  {
   "cell_type": "markdown",
   "id": "525ccc5b",
   "metadata": {},
   "source": [
    "Nous avons remarqué que la plupart des features numériques étaient asymétriques. L'utilisation de la moyenne empirique présente donc des risques.\n",
    "\n",
    "Nous utiliserons donc :\n",
    "- une imputation par la médiane,\n",
    "- puis un RobustScaler() qui utilise non pas la moyenne et l'écart-type mais la médiane et l'IQR."
   ]
  },
  {
   "cell_type": "code",
   "execution_count": 95,
   "id": "63dede9d",
   "metadata": {
    "scrolled": true
   },
   "outputs": [
    {
     "name": "stdout",
     "output_type": "stream",
     "text": [
      "Il y a 129 feature(s) numériques sur les 151.\n"
     ]
    }
   ],
   "source": [
    "numColsNames = [col \n",
    "                for col in XTrain.columns \n",
    "                \n",
    "                if XTrain[col].dtype.kind in \"biufc\"]\n",
    "\n",
    "print(\"Il y a \"+str(len(numColsNames))+\" feature(s) numériques sur les \"+str(XTrain.shape[1])+\".\")"
   ]
  },
  {
   "cell_type": "code",
   "execution_count": 96,
   "id": "08ece67a",
   "metadata": {},
   "outputs": [],
   "source": [
    "numericTransformer = sklPipeline(\n",
    "    [\n",
    "        ('imputerNum',SimpleImputer(\n",
    "            strategy=\"median\")\n",
    "        ),\n",
    "        ('scalerNum',RobustScaler())\n",
    "    ]\n",
    ")"
   ]
  },
  {
   "cell_type": "markdown",
   "id": "680a546f",
   "metadata": {},
   "source": [
    "## ... pour les features nominales avec beaucoup de catégories<a class=\"anchor\" id=\"112\"></a>"
   ]
  },
  {
   "cell_type": "markdown",
   "id": "15b7d94b",
   "metadata": {},
   "source": [
    "Nous avons déjà choisi des features nominales avec trop de catégories pour un One Hot Encoding (cette sélection a été faite de manière emprique). Nous avons des features brutes issues de `application_train.csv` et des features issues des autres `xxx.csv` qui ont été agrégées sur le `mode`.\n",
    "\n",
    "Pour ces features nous utiliserons un Target Encoder. Cette méthode remplace chaque catégorie par la moyenne de ses observations où la target est égale à 1.\n",
    "\n",
    "*Nota : la version implémentée par Scikit Learn utilise également :\n",
    "- un facteur de lissage pour \"ajouter un peu\" de la répartition global de la target (ici, 8,07%) dans l'encodage,\n",
    "- un \"cross-fitting\" lors de l'utilisation de la méthode `fit_transform` pour utiliser la moyenne des observations sur les autres folds lors de l'encodage sur un fold donné.\n",
    "    \n",
    "    L'idée est d'éviter de trop coller au train set.\n",
    "  \n",
    "Les valeurs manquantes seront, comme précédemment, remplacées par `'missing'`, et l'encodage suivi d'un standard scaler."
   ]
  },
  {
   "cell_type": "code",
   "execution_count": 97,
   "id": "f4a3991c",
   "metadata": {},
   "outputs": [
    {
     "name": "stdout",
     "output_type": "stream",
     "text": [
      "Initial features with high cardinality : \n",
      "\n",
      "['NAME_TYPE_SUITE', 'NAME_INCOME_TYPE', 'OCCUPATION_TYPE', 'WEEKDAY_APPR_PROCESS_START', 'ORGANIZATION_TYPE', 'WALLSMATERIAL_MODE', 'CREDIT_TYPE', 'NAME_CONTRACT_STATUS', 'NAME_CONTRACT_STATUS', 'WEEKDAY_APPR_PROCESS_START', 'NAME_CASH_LOAN_PURPOSE', 'CODE_REJECT_REASON', 'NAME_TYPE_SUITE', 'NAME_GOODS_CATEGORY', 'CHANNEL_TYPE', 'NAME_SELLER_INDUSTRY', 'PRODUCT_COMBINATION']\n",
      "\n",
      "==============================\n",
      "\n",
      "New features with high cardinality : \n",
      "\n",
      "['NAME_TYPE_SUITE', 'NAME_INCOME_TYPE', 'OCCUPATION_TYPE', 'WEEKDAY_APPR_PROCESS_START', 'ORGANIZATION_TYPE', 'WALLSMATERIAL_MODE', 'BUR_CREDIT_TYPE_AggMymode', 'PREV_NAME_CASH_LOAN_PURPOSE_AggMymode', 'PREV_NAME_GOODS_CATEGORY_AggMymode', 'PREV_PRODUCT_COMBINATION_AggMymode', 'PREV_WEEKDAY_APPR_PROCESS_START_AggMymode', 'PREV_CODE_REJECT_REASON_AggMymode', 'PREV_NAME_TYPE_SUITE_AggMymode', 'PREV_CHANNEL_TYPE_AggMymode', 'PREV_NAME_SELLER_INDUSTRY_AggMymode', 'CC_NAME_CONTRACT_STATUS_AggMymode', 'POS_NAME_CONTRACT_STATUS_AggMymode']\n"
     ]
    }
   ],
   "source": [
    "initialHighCardiColsNames = [col \n",
    "                             for subDict in categTypesDict.values() \n",
    "                             for col in subDict.keys() \n",
    "                             \n",
    "                             if subDict[col]==\"highCardinality\"]\n",
    "\n",
    "print(\"Initial features with high cardinality : \\n\")\n",
    "print(initialHighCardiColsNames)\n",
    "\n",
    "print(\"\\n\"+\"=\"*30+\"\\n\")\n",
    "\n",
    "sameNameHighCardiCols = [col for col in XTrain.columns if col in initialHighCardiColsNames]\n",
    "\n",
    "newHighCardiColsNames = []\n",
    "for col in XTrain.columns :\n",
    "    for highCardiCol in initialHighCardiColsNames :\n",
    "        if (XTrain[col].dtype.kind==\"O\") and (highCardiCol in col) and (col not in newHighCardiColsNames) :\n",
    "            newHighCardiColsNames.append(col)\n",
    "\n",
    "print(\"New features with high cardinality : \\n\")\n",
    "print(newHighCardiColsNames)"
   ]
  },
  {
   "cell_type": "code",
   "execution_count": 98,
   "id": "df616995",
   "metadata": {},
   "outputs": [
    {
     "name": "stdout",
     "output_type": "stream",
     "text": [
      "Il y a 17 feature(s) avec beaucoup de catégories sur les 151.\n"
     ]
    }
   ],
   "source": [
    "print(\"Il y a \"+str(len(newHighCardiColsNames))+\" feature(s) avec beaucoup de catégories sur les \"+str(XTrain.shape[1])+\".\")"
   ]
  },
  {
   "cell_type": "code",
   "execution_count": 99,
   "id": "88d944ef",
   "metadata": {},
   "outputs": [],
   "source": [
    "highCardiTransformer = sklPipeline(\n",
    "    [\n",
    "        ('imputerHighCardi',SimpleImputer(\n",
    "            strategy=\"constant\",\n",
    "            fill_value=\"missing\")),\n",
    "        ('encoderHighCardi',TargetEncoder()),\n",
    "        ('scalerHighCardi',StandardScaler())\n",
    "    ]\n",
    ")"
   ]
  },
  {
   "cell_type": "markdown",
   "id": "394e6254",
   "metadata": {},
   "source": [
    "## ... pour les features nominales <a class=\"anchor\" id=\"113\"></a>"
   ]
  },
  {
   "cell_type": "markdown",
   "id": "dbb22dc5",
   "metadata": {},
   "source": [
    "Nous utiliserons pour ces features (avec moins de catégories) une imputation par `\"missing\"` suivi d'un One Hot Encoding.\n",
    "\n",
    "Pour réduire le nombre de colonnes créés, nous utiliserons l'option `drop='first'`.\n",
    "Si une catégorie présente dans le test set ne l'est pas dans le train set, cela provoquera une erreur. Nous utilisons donc l'option `handle_unknown=\"ignore\"`."
   ]
  },
  {
   "cell_type": "code",
   "execution_count": 100,
   "id": "f8951c3e",
   "metadata": {},
   "outputs": [
    {
     "name": "stdout",
     "output_type": "stream",
     "text": [
      "Initial nominal features : \n",
      "\n",
      "['NAME_FAMILY_STATUS', 'NAME_HOUSING_TYPE', 'FONDKAPREMONT_MODE', 'HOUSETYPE_MODE', 'CREDIT_ACTIVE', 'CREDIT_CURRENCY', 'NAME_CONTRACT_TYPE', 'NAME_CONTRACT_STATUS', 'NAME_PAYMENT_TYPE', 'NAME_PORTFOLIO']\n",
      "\n",
      "==============================\n",
      "\n",
      "Remaining nominal features : \n",
      "\n",
      "['NAME_FAMILY_STATUS', 'NAME_HOUSING_TYPE', 'FONDKAPREMONT_MODE', 'HOUSETYPE_MODE']\n"
     ]
    }
   ],
   "source": [
    "initialNomiColsNames = [col \n",
    "                        for subDict in categTypesDict.values() \n",
    "                        for col in subDict.keys() \n",
    "                        \n",
    "                        if subDict[col]==\"nominal\"]\n",
    "\n",
    "print(\"Initial nominal features : \\n\")\n",
    "print(initialNomiColsNames)\n",
    "\n",
    "print(\"\\n\"+\"=\"*30+\"\\n\")\n",
    "\n",
    "remainingNomiColsNames = [col \n",
    "                          for col in XTrain.columns \n",
    "                          \n",
    "                          if (col in initialNomiColsNames) and (XTrain[col].dtype.kind==\"O\")]\n",
    "print(\"Remaining nominal features : \\n\")\n",
    "print(remainingNomiColsNames)"
   ]
  },
  {
   "cell_type": "code",
   "execution_count": 101,
   "id": "96f7a9c5",
   "metadata": {},
   "outputs": [
    {
     "name": "stdout",
     "output_type": "stream",
     "text": [
      "Il y a 4 feature(s) nominales sur les 151.\n"
     ]
    }
   ],
   "source": [
    "print(\"Il y a \"+str(len(remainingNomiColsNames))+\" feature(s) nominales sur les \"+str(XTrain.shape[1])+\".\")"
   ]
  },
  {
   "cell_type": "code",
   "execution_count": 102,
   "id": "4d0cbebd",
   "metadata": {},
   "outputs": [],
   "source": [
    "nomiTransformer = sklPipeline(\n",
    "    [\n",
    "        ('imputerNomi',SimpleImputer(\n",
    "             strategy=\"constant\",\n",
    "             fill_value=\"missing\")),\n",
    "        ('encoderNomi',OneHotEncoder(\n",
    "            drop=\"first\",\n",
    "            dtype=np.int8,\n",
    "            handle_unknown=\"ignore\"))\n",
    "    ]\n",
    ")"
   ]
  },
  {
   "cell_type": "markdown",
   "id": "27c4ccaa",
   "metadata": {},
   "source": [
    "## ... pour les features ordinales<a class=\"anchor\" id=\"114\"></a>"
   ]
  },
  {
   "cell_type": "markdown",
   "id": "5c27015b",
   "metadata": {},
   "source": [
    "Nous utiliserons pour ces features une imputation des valeurs manquantes par `\"missing\"` suivi d'un Ordinal Encoding.\n",
    "\n",
    "Si une catégorie présente dans le test set ne l'est pas dans le train set, cela provoquera une erreur. Nous remplacerons donc ces valeurs par -1."
   ]
  },
  {
   "cell_type": "code",
   "execution_count": 103,
   "id": "40456f3a",
   "metadata": {},
   "outputs": [
    {
     "name": "stdout",
     "output_type": "stream",
     "text": [
      "Initial ordinal features : \n",
      "\n",
      "[('NAME_EDUCATION_TYPE', ['Lower secondary', 'Secondary / secondary special', 'Incomplete higher', 'Higher education', 'Academic degree']), ('STATUS', ['C', 'missing', '0', '1', '2', '3', '4', '5']), ('NAME_CLIENT_TYPE', ['Repeated', 'Refreshed', 'New', 'missing']), ('NAME_YIELD_GROUP', ['low_action', 'low_normal', 'middle', 'missing', 'high'])]\n",
      "\n",
      "==============================\n",
      "\n",
      "Remaining ordinal features : \n",
      "\n",
      "[('NAME_EDUCATION_TYPE', ['Lower secondary', 'Secondary / secondary special', 'Incomplete higher', 'Higher education', 'Academic degree'])]\n"
     ]
    }
   ],
   "source": [
    "initialOrdiColsNamesAndOrder = [(col,order) \n",
    "                        for subDict in categTypesDict.values() \n",
    "                        for (col,order) in subDict.items() \n",
    "                        \n",
    "                        if type(order)==list]\n",
    "\n",
    "print(\"Initial ordinal features : \\n\")\n",
    "print(initialOrdiColsNamesAndOrder)\n",
    "\n",
    "print(\"\\n\"+\"=\"*30+\"\\n\")\n",
    "\n",
    "remainingOrdiColsNamesAndOrder = [(col,colAndOrder[1])\n",
    "                          for colAndOrder in initialOrdiColsNamesAndOrder \n",
    "                          for col in XTrain.columns \n",
    "                          \n",
    "                          if (colAndOrder[0]==col) and (XTrain[col].dtype.kind==\"O\")]\n",
    "\n",
    "print(\"Remaining ordinal features : \\n\")\n",
    "print(remainingOrdiColsNamesAndOrder)"
   ]
  },
  {
   "cell_type": "code",
   "execution_count": 104,
   "id": "11d72cc1",
   "metadata": {},
   "outputs": [
    {
     "name": "stdout",
     "output_type": "stream",
     "text": [
      "Il y a 1 feature(s) ordinale(s) sur les 151.\n"
     ]
    }
   ],
   "source": [
    "print(\"Il y a \"+str(len(remainingOrdiColsNamesAndOrder))+\" feature(s) ordinale(s) sur les \"+str(XTrain.shape[1])+\".\")"
   ]
  },
  {
   "cell_type": "code",
   "execution_count": 105,
   "id": "dd861373",
   "metadata": {},
   "outputs": [],
   "source": [
    "ordiTransformer = sklPipeline(\n",
    "    [\n",
    "        ('imputerOrdi',SimpleImputer(\n",
    "             strategy=\"constant\",\n",
    "             fill_value=\"missing\")),\n",
    "        ('encoderOrdi',OrdinalEncoder(\n",
    "             categories=[e[1] for e in remainingOrdiColsNamesAndOrder],\n",
    "             handle_unknown='use_encoded_value',\n",
    "             unknown_value=-1,\n",
    "             dtype=np.int8)),\n",
    "        ('scalerOrdi',StandardScaler())\n",
    "    ]\n",
    ")"
   ]
  },
  {
   "cell_type": "markdown",
   "id": "91d654c5",
   "metadata": {},
   "source": [
    "# Création du column transformer<a class=\"anchor\" id=\"12\"></a>"
   ]
  },
  {
   "cell_type": "markdown",
   "id": "931fffd2",
   "metadata": {},
   "source": [
    "Nous utiliserons un `ColumnTransformer` pour appliquer les traitements définis précédemment."
   ]
  },
  {
   "cell_type": "code",
   "execution_count": 106,
   "id": "dc974e1e",
   "metadata": {},
   "outputs": [
    {
     "name": "stdout",
     "output_type": "stream",
     "text": [
      "nombre de colonnes dans le transformer : 151\n",
      "nombre de colonnes dans X : 151\n"
     ]
    }
   ],
   "source": [
    "\n",
    "print(\"nombre de colonnes dans le transformer :\",\n",
    "      len(numColsNames + newHighCardiColsNames + remainingNomiColsNames + [e[0] for e in remainingOrdiColsNamesAndOrder])\n",
    "     )\n",
    "\n",
    "print(\"nombre de colonnes dans X :\",\n",
    "      len(XTrain.columns)\n",
    "     )"
   ]
  },
  {
   "cell_type": "code",
   "execution_count": 107,
   "id": "128f4324",
   "metadata": {},
   "outputs": [],
   "source": [
    "columnTransformer = ColumnTransformer(\n",
    "    [\n",
    "        (\"numericTransformer\",numericTransformer,numColsNames),\n",
    "        (\"highCardiTransformer\",highCardiTransformer,newHighCardiColsNames),\n",
    "        (\"nomiTransformer\",nomiTransformer,remainingNomiColsNames),\n",
    "        (\"ordiTransformer\",ordiTransformer,[e[0] for e in remainingOrdiColsNamesAndOrder])\n",
    "    ]\n",
    ")"
   ]
  },
  {
   "cell_type": "code",
   "execution_count": 108,
   "id": "80ef20be",
   "metadata": {},
   "outputs": [
    {
     "data": {
      "text/html": [
       "<style>#sk-container-id-1 {color: black;}#sk-container-id-1 pre{padding: 0;}#sk-container-id-1 div.sk-toggleable {background-color: white;}#sk-container-id-1 label.sk-toggleable__label {cursor: pointer;display: block;width: 100%;margin-bottom: 0;padding: 0.3em;box-sizing: border-box;text-align: center;}#sk-container-id-1 label.sk-toggleable__label-arrow:before {content: \"▸\";float: left;margin-right: 0.25em;color: #696969;}#sk-container-id-1 label.sk-toggleable__label-arrow:hover:before {color: black;}#sk-container-id-1 div.sk-estimator:hover label.sk-toggleable__label-arrow:before {color: black;}#sk-container-id-1 div.sk-toggleable__content {max-height: 0;max-width: 0;overflow: hidden;text-align: left;background-color: #f0f8ff;}#sk-container-id-1 div.sk-toggleable__content pre {margin: 0.2em;color: black;border-radius: 0.25em;background-color: #f0f8ff;}#sk-container-id-1 input.sk-toggleable__control:checked~div.sk-toggleable__content {max-height: 200px;max-width: 100%;overflow: auto;}#sk-container-id-1 input.sk-toggleable__control:checked~label.sk-toggleable__label-arrow:before {content: \"▾\";}#sk-container-id-1 div.sk-estimator input.sk-toggleable__control:checked~label.sk-toggleable__label {background-color: #d4ebff;}#sk-container-id-1 div.sk-label input.sk-toggleable__control:checked~label.sk-toggleable__label {background-color: #d4ebff;}#sk-container-id-1 input.sk-hidden--visually {border: 0;clip: rect(1px 1px 1px 1px);clip: rect(1px, 1px, 1px, 1px);height: 1px;margin: -1px;overflow: hidden;padding: 0;position: absolute;width: 1px;}#sk-container-id-1 div.sk-estimator {font-family: monospace;background-color: #f0f8ff;border: 1px dotted black;border-radius: 0.25em;box-sizing: border-box;margin-bottom: 0.5em;}#sk-container-id-1 div.sk-estimator:hover {background-color: #d4ebff;}#sk-container-id-1 div.sk-parallel-item::after {content: \"\";width: 100%;border-bottom: 1px solid gray;flex-grow: 1;}#sk-container-id-1 div.sk-label:hover label.sk-toggleable__label {background-color: #d4ebff;}#sk-container-id-1 div.sk-serial::before {content: \"\";position: absolute;border-left: 1px solid gray;box-sizing: border-box;top: 0;bottom: 0;left: 50%;z-index: 0;}#sk-container-id-1 div.sk-serial {display: flex;flex-direction: column;align-items: center;background-color: white;padding-right: 0.2em;padding-left: 0.2em;position: relative;}#sk-container-id-1 div.sk-item {position: relative;z-index: 1;}#sk-container-id-1 div.sk-parallel {display: flex;align-items: stretch;justify-content: center;background-color: white;position: relative;}#sk-container-id-1 div.sk-item::before, #sk-container-id-1 div.sk-parallel-item::before {content: \"\";position: absolute;border-left: 1px solid gray;box-sizing: border-box;top: 0;bottom: 0;left: 50%;z-index: -1;}#sk-container-id-1 div.sk-parallel-item {display: flex;flex-direction: column;z-index: 1;position: relative;background-color: white;}#sk-container-id-1 div.sk-parallel-item:first-child::after {align-self: flex-end;width: 50%;}#sk-container-id-1 div.sk-parallel-item:last-child::after {align-self: flex-start;width: 50%;}#sk-container-id-1 div.sk-parallel-item:only-child::after {width: 0;}#sk-container-id-1 div.sk-dashed-wrapped {border: 1px dashed gray;margin: 0 0.4em 0.5em 0.4em;box-sizing: border-box;padding-bottom: 0.4em;background-color: white;}#sk-container-id-1 div.sk-label label {font-family: monospace;font-weight: bold;display: inline-block;line-height: 1.2em;}#sk-container-id-1 div.sk-label-container {text-align: center;}#sk-container-id-1 div.sk-container {/* jupyter's `normalize.less` sets `[hidden] { display: none; }` but bootstrap.min.css set `[hidden] { display: none !important; }` so we also need the `!important` here to be able to override the default hidden behavior on the sphinx rendered scikit-learn.org. See: https://github.com/scikit-learn/scikit-learn/issues/21755 */display: inline-block !important;position: relative;}#sk-container-id-1 div.sk-text-repr-fallback {display: none;}</style><div id=\"sk-container-id-1\" class=\"sk-top-container\"><div class=\"sk-text-repr-fallback\"><pre>ColumnTransformer(transformers=[(&#x27;numericTransformer&#x27;,\n",
       "                                 Pipeline(steps=[(&#x27;imputerNum&#x27;,\n",
       "                                                  SimpleImputer(strategy=&#x27;median&#x27;)),\n",
       "                                                 (&#x27;scalerNum&#x27;,\n",
       "                                                  RobustScaler())]),\n",
       "                                 [&#x27;NAME_CONTRACT_TYPE&#x27;, &#x27;CODE_GENDER&#x27;,\n",
       "                                  &#x27;FLAG_OWN_CAR&#x27;, &#x27;FLAG_OWN_REALTY&#x27;,\n",
       "                                  &#x27;CNT_CHILDREN&#x27;, &#x27;AMT_INCOME_TOTAL&#x27;,\n",
       "                                  &#x27;AMT_CREDIT&#x27;, &#x27;AMT_ANNUITY&#x27;,\n",
       "                                  &#x27;AMT_GOODS_PRICE&#x27;,\n",
       "                                  &#x27;REGION_POPULATION_RELATIVE&#x27;, &#x27;DAYS_BIRTH&#x27;,\n",
       "                                  &#x27;DAYS_EMPLO...\n",
       "                                                  SimpleImputer(fill_value=&#x27;missing&#x27;,\n",
       "                                                                strategy=&#x27;constant&#x27;)),\n",
       "                                                 (&#x27;encoderOrdi&#x27;,\n",
       "                                                  OrdinalEncoder(categories=[[&#x27;Lower &#x27;\n",
       "                                                                              &#x27;secondary&#x27;,\n",
       "                                                                              &#x27;Secondary &#x27;\n",
       "                                                                              &#x27;/ &#x27;\n",
       "                                                                              &#x27;secondary &#x27;\n",
       "                                                                              &#x27;special&#x27;,\n",
       "                                                                              &#x27;Incomplete &#x27;\n",
       "                                                                              &#x27;higher&#x27;,\n",
       "                                                                              &#x27;Higher &#x27;\n",
       "                                                                              &#x27;education&#x27;,\n",
       "                                                                              &#x27;Academic &#x27;\n",
       "                                                                              &#x27;degree&#x27;]],\n",
       "                                                                 dtype=&lt;class &#x27;numpy.int8&#x27;&gt;,\n",
       "                                                                 handle_unknown=&#x27;use_encoded_value&#x27;,\n",
       "                                                                 unknown_value=-1)),\n",
       "                                                 (&#x27;scalerOrdi&#x27;,\n",
       "                                                  StandardScaler())]),\n",
       "                                 [&#x27;NAME_EDUCATION_TYPE&#x27;])])</pre><b>In a Jupyter environment, please rerun this cell to show the HTML representation or trust the notebook. <br />On GitHub, the HTML representation is unable to render, please try loading this page with nbviewer.org.</b></div><div class=\"sk-container\" hidden><div class=\"sk-item sk-dashed-wrapped\"><div class=\"sk-label-container\"><div class=\"sk-label sk-toggleable\"><input class=\"sk-toggleable__control sk-hidden--visually\" id=\"sk-estimator-id-1\" type=\"checkbox\" ><label for=\"sk-estimator-id-1\" class=\"sk-toggleable__label sk-toggleable__label-arrow\">ColumnTransformer</label><div class=\"sk-toggleable__content\"><pre>ColumnTransformer(transformers=[(&#x27;numericTransformer&#x27;,\n",
       "                                 Pipeline(steps=[(&#x27;imputerNum&#x27;,\n",
       "                                                  SimpleImputer(strategy=&#x27;median&#x27;)),\n",
       "                                                 (&#x27;scalerNum&#x27;,\n",
       "                                                  RobustScaler())]),\n",
       "                                 [&#x27;NAME_CONTRACT_TYPE&#x27;, &#x27;CODE_GENDER&#x27;,\n",
       "                                  &#x27;FLAG_OWN_CAR&#x27;, &#x27;FLAG_OWN_REALTY&#x27;,\n",
       "                                  &#x27;CNT_CHILDREN&#x27;, &#x27;AMT_INCOME_TOTAL&#x27;,\n",
       "                                  &#x27;AMT_CREDIT&#x27;, &#x27;AMT_ANNUITY&#x27;,\n",
       "                                  &#x27;AMT_GOODS_PRICE&#x27;,\n",
       "                                  &#x27;REGION_POPULATION_RELATIVE&#x27;, &#x27;DAYS_BIRTH&#x27;,\n",
       "                                  &#x27;DAYS_EMPLO...\n",
       "                                                  SimpleImputer(fill_value=&#x27;missing&#x27;,\n",
       "                                                                strategy=&#x27;constant&#x27;)),\n",
       "                                                 (&#x27;encoderOrdi&#x27;,\n",
       "                                                  OrdinalEncoder(categories=[[&#x27;Lower &#x27;\n",
       "                                                                              &#x27;secondary&#x27;,\n",
       "                                                                              &#x27;Secondary &#x27;\n",
       "                                                                              &#x27;/ &#x27;\n",
       "                                                                              &#x27;secondary &#x27;\n",
       "                                                                              &#x27;special&#x27;,\n",
       "                                                                              &#x27;Incomplete &#x27;\n",
       "                                                                              &#x27;higher&#x27;,\n",
       "                                                                              &#x27;Higher &#x27;\n",
       "                                                                              &#x27;education&#x27;,\n",
       "                                                                              &#x27;Academic &#x27;\n",
       "                                                                              &#x27;degree&#x27;]],\n",
       "                                                                 dtype=&lt;class &#x27;numpy.int8&#x27;&gt;,\n",
       "                                                                 handle_unknown=&#x27;use_encoded_value&#x27;,\n",
       "                                                                 unknown_value=-1)),\n",
       "                                                 (&#x27;scalerOrdi&#x27;,\n",
       "                                                  StandardScaler())]),\n",
       "                                 [&#x27;NAME_EDUCATION_TYPE&#x27;])])</pre></div></div></div><div class=\"sk-parallel\"><div class=\"sk-parallel-item\"><div class=\"sk-item\"><div class=\"sk-label-container\"><div class=\"sk-label sk-toggleable\"><input class=\"sk-toggleable__control sk-hidden--visually\" id=\"sk-estimator-id-2\" type=\"checkbox\" ><label for=\"sk-estimator-id-2\" class=\"sk-toggleable__label sk-toggleable__label-arrow\">numericTransformer</label><div class=\"sk-toggleable__content\"><pre>[&#x27;NAME_CONTRACT_TYPE&#x27;, &#x27;CODE_GENDER&#x27;, &#x27;FLAG_OWN_CAR&#x27;, &#x27;FLAG_OWN_REALTY&#x27;, &#x27;CNT_CHILDREN&#x27;, &#x27;AMT_INCOME_TOTAL&#x27;, &#x27;AMT_CREDIT&#x27;, &#x27;AMT_ANNUITY&#x27;, &#x27;AMT_GOODS_PRICE&#x27;, &#x27;REGION_POPULATION_RELATIVE&#x27;, &#x27;DAYS_BIRTH&#x27;, &#x27;DAYS_EMPLOYED&#x27;, &#x27;DAYS_REGISTRATION&#x27;, &#x27;DAYS_ID_PUBLISH&#x27;, &#x27;OWN_CAR_AGE&#x27;, &#x27;FLAG_MOBIL&#x27;, &#x27;FLAG_EMP_PHONE&#x27;, &#x27;FLAG_WORK_PHONE&#x27;, &#x27;FLAG_CONT_MOBILE&#x27;, &#x27;FLAG_PHONE&#x27;, &#x27;FLAG_EMAIL&#x27;, &#x27;CNT_FAM_MEMBERS&#x27;, &#x27;REGION_RATING_CLIENT&#x27;, &#x27;REGION_RATING_CLIENT_W_CITY&#x27;, &#x27;HOUR_APPR_PROCESS_START&#x27;, &#x27;EXT_SOURCE_1&#x27;, &#x27;EXT_SOURCE_2&#x27;, &#x27;EXT_SOURCE_3&#x27;, &#x27;APARTMENTS_AVG&#x27;, &#x27;BASEMENTAREA_AVG&#x27;, &#x27;YEARS_BEGINEXPLUATATION_AVG&#x27;, &#x27;COMMONAREA_AVG&#x27;, &#x27;ELEVATORS_AVG&#x27;, &#x27;ENTRANCES_AVG&#x27;, &#x27;FLOORSMAX_AVG&#x27;, &#x27;FLOORSMIN_AVG&#x27;, &#x27;LANDAREA_AVG&#x27;, &#x27;LIVINGAREA_AVG&#x27;, &#x27;NONLIVINGAPARTMENTS_AVG&#x27;, &#x27;NONLIVINGAREA_AVG&#x27;, &#x27;YEARS_BEGINEXPLUATATION_MEDI&#x27;, &#x27;EMERGENCYSTATE_MODE&#x27;, &#x27;DAYS_LAST_PHONE_CHANGE&#x27;, &#x27;AMT_REQ_CREDIT_BUREAU_HOUR&#x27;, &#x27;AMT_REQ_CREDIT_BUREAU_DAY&#x27;, &#x27;AMT_REQ_CREDIT_BUREAU_WEEK&#x27;, &#x27;AMT_REQ_CREDIT_BUREAU_MON&#x27;, &#x27;AMT_REQ_CREDIT_BUREAU_QRT&#x27;, &#x27;AMT_REQ_CREDIT_BUREAU_YEAR&#x27;, &#x27;NEW_CREDIT_TO_ANNUITY_RATIO&#x27;, &#x27;NEW_DOWN_PAYMENT_RATE&#x27;, &#x27;NEW_CREDIT_TO_GOOD_RATIO&#x27;, &#x27;NEW_ANNUITY_TO_INCOME_RATIO&#x27;, &#x27;NEW_SOURCES_PROD&#x27;, &#x27;NEW_EXT_SOURCES_MEAN&#x27;, &#x27;NEW_is_NOT_sth&#x27;, &#x27;NEW_is_DOCLess&#x27;, &#x27;NEW_is_DOCMore&#x27;, &#x27;BUR_CREDIT_ACTIVE_Active_AggMean&#x27;, &#x27;BUR_CREDIT_ACTIVE_Bad debt_AggMean&#x27;, &#x27;BUR_CREDIT_ACTIVE_Closed_AggMean&#x27;, &#x27;BUR_CREDIT_ACTIVE_Sold_AggMean&#x27;, &#x27;BUR_CREDIT_ACTIVE_missing_AggMean&#x27;, &#x27;BUR_CREDIT_CURRENCY_currency 1_AggMean&#x27;, &#x27;BUR_CREDIT_CURRENCY_currency 2_AggMean&#x27;, &#x27;BUR_CREDIT_CURRENCY_currency 3_AggMean&#x27;, &#x27;BUR_CREDIT_CURRENCY_currency 4_AggMean&#x27;, &#x27;BUR_CREDIT_CURRENCY_missing_AggMean&#x27;, &#x27;BUR_BB_last10_STATUS_AggMean_AggMean&#x27;, &#x27;BUR_DAYS_CREDIT_AggMean&#x27;, &#x27;BUR_CREDIT_DAY_OVERDUE_AggMean&#x27;, &#x27;BUR_DAYS_CREDIT_ENDDATE_AggMean&#x27;, &#x27;BUR_DAYS_ENDDATE_FACT_AggMean&#x27;, &#x27;BUR_AMT_CREDIT_MAX_OVERDUE_AggMean&#x27;, &#x27;BUR_CNT_CREDIT_PROLONG_AggSum&#x27;, &#x27;BUR_AMT_CREDIT_SUM_AggSum&#x27;, &#x27;BUR_AMT_CREDIT_SUM_DEBT_AggSum&#x27;, &#x27;BUR_AMT_ANNUITY_AggMean&#x27;, &#x27;BUR_NEW_DEPT_TO_REMDAYS_RATIO_AggMax&#x27;, &#x27;PREV_NAME_CONTRACT_TYPE_Cash loans_AggMean&#x27;, &#x27;PREV_NAME_CONTRACT_TYPE_Consumer loans_AggMean&#x27;, &#x27;PREV_NAME_CONTRACT_TYPE_Revolving loans_AggMean&#x27;, &#x27;PREV_NAME_CONTRACT_TYPE_missing_AggMean&#x27;, &#x27;PREV_NAME_CONTRACT_STATUS_Approved_AggMean&#x27;, &#x27;PREV_NAME_CONTRACT_STATUS_Canceled_AggMean&#x27;, &#x27;PREV_NAME_CONTRACT_STATUS_Refused_AggMean&#x27;, &#x27;PREV_NAME_CONTRACT_STATUS_Unused offer_AggMean&#x27;, &#x27;PREV_NAME_CONTRACT_STATUS_missing_AggMean&#x27;, &#x27;PREV_NAME_PAYMENT_TYPE_Cash through the bank_AggMean&#x27;, &#x27;PREV_NAME_PAYMENT_TYPE_Cashless from the account of the employer_AggMean&#x27;, &#x27;PREV_NAME_PAYMENT_TYPE_Non-cash from your account_AggMean&#x27;, &#x27;PREV_NAME_PORTFOLIO_Cars_AggMean&#x27;, &#x27;PREV_NAME_PORTFOLIO_POS_AggMean&#x27;, &#x27;PREV_NAME_PORTFOLIO_missing_AggMean&#x27;, &#x27;PREV_AMT_ANNUITY_AggMax&#x27;, &#x27;PREV_AMT_APPLICATION_AggMin&#x27;, &#x27;PREV_AMT_CREDIT_AggMin&#x27;, &#x27;PREV_DAYS_DECISION_AggMin&#x27;, &#x27;PREV_NAME_CLIENT_TYPE_AggMin&#x27;, &#x27;PREV_NAME_PRODUCT_TYPE_AggMean&#x27;, &#x27;PREV_CNT_PAYMENT_AggMean&#x27;, &#x27;PREV_NAME_YIELD_GROUP_AggMin&#x27;, &#x27;PREV_DAYS_FIRST_DUE_AggMax&#x27;, &#x27;PREV_DAYS_LAST_DUE_1ST_VERSION_AggMax&#x27;, &#x27;PREV_DAYS_LAST_DUE_AggMax&#x27;, &#x27;PREV_NFLAG_INSURED_ON_APPROVAL_AggMean&#x27;, &#x27;PREV_NEW_DIFF_K_RATIO_AggMax&#x27;, &#x27;PREV_NEW_I_RATE_AggMin&#x27;, &#x27;CC_last10_AMT_BALANCE_AggMean&#x27;, &#x27;CC_last10_NEW_SUM_CNT_DRAW_AggSum&#x27;, &#x27;CC_last10_SK_DPD_AggMean&#x27;, &#x27;CC_last10_SK_DPD_DEF_AggMean&#x27;, &#x27;CC_AMT_BALANCE_AggMean&#x27;, &#x27;CC_SK_DPD_AggMean&#x27;, &#x27;CC_SK_DPD_DEF_AggMean&#x27;, &#x27;CC_NEW_SUM_CNT_DRAW_AggSum&#x27;, &#x27;POS_last10_SK_DPD_AggMean&#x27;, &#x27;POS_last10_SK_DPD_DEF_AggMean&#x27;, &#x27;POS_last10_NEW_ACTUAL_LEFT_TO_PAY_AggMean&#x27;, &#x27;POS_SK_DPD_AggMean&#x27;, &#x27;POS_SK_DPD_DEF_AggMean&#x27;, &#x27;INS_last10_NEW_LESS_PAY_NORM_AggMean&#x27;, &#x27;INS_last10_NEW_DPD_NORM_AggMean&#x27;, &#x27;INS_DAYS_ENTRY_PAYMENT_AggMean&#x27;, &#x27;INS_AMT_INSTALMENT_AggMean&#x27;, &#x27;INS_AMT_PAYMENT_AggMean&#x27;, &#x27;INS_NEW_LESS_PAY_NORM_AggMean&#x27;, &#x27;INS_NEW_DPD_NORM_AggMean&#x27;, &#x27;NEW_I_x_DOWN&#x27;]</pre></div></div></div><div class=\"sk-serial\"><div class=\"sk-item\"><div class=\"sk-serial\"><div class=\"sk-item\"><div class=\"sk-estimator sk-toggleable\"><input class=\"sk-toggleable__control sk-hidden--visually\" id=\"sk-estimator-id-3\" type=\"checkbox\" ><label for=\"sk-estimator-id-3\" class=\"sk-toggleable__label sk-toggleable__label-arrow\">SimpleImputer</label><div class=\"sk-toggleable__content\"><pre>SimpleImputer(strategy=&#x27;median&#x27;)</pre></div></div></div><div class=\"sk-item\"><div class=\"sk-estimator sk-toggleable\"><input class=\"sk-toggleable__control sk-hidden--visually\" id=\"sk-estimator-id-4\" type=\"checkbox\" ><label for=\"sk-estimator-id-4\" class=\"sk-toggleable__label sk-toggleable__label-arrow\">RobustScaler</label><div class=\"sk-toggleable__content\"><pre>RobustScaler()</pre></div></div></div></div></div></div></div></div><div class=\"sk-parallel-item\"><div class=\"sk-item\"><div class=\"sk-label-container\"><div class=\"sk-label sk-toggleable\"><input class=\"sk-toggleable__control sk-hidden--visually\" id=\"sk-estimator-id-5\" type=\"checkbox\" ><label for=\"sk-estimator-id-5\" class=\"sk-toggleable__label sk-toggleable__label-arrow\">highCardiTransformer</label><div class=\"sk-toggleable__content\"><pre>[&#x27;NAME_TYPE_SUITE&#x27;, &#x27;NAME_INCOME_TYPE&#x27;, &#x27;OCCUPATION_TYPE&#x27;, &#x27;WEEKDAY_APPR_PROCESS_START&#x27;, &#x27;ORGANIZATION_TYPE&#x27;, &#x27;WALLSMATERIAL_MODE&#x27;, &#x27;BUR_CREDIT_TYPE_AggMymode&#x27;, &#x27;PREV_NAME_CASH_LOAN_PURPOSE_AggMymode&#x27;, &#x27;PREV_NAME_GOODS_CATEGORY_AggMymode&#x27;, &#x27;PREV_PRODUCT_COMBINATION_AggMymode&#x27;, &#x27;PREV_WEEKDAY_APPR_PROCESS_START_AggMymode&#x27;, &#x27;PREV_CODE_REJECT_REASON_AggMymode&#x27;, &#x27;PREV_NAME_TYPE_SUITE_AggMymode&#x27;, &#x27;PREV_CHANNEL_TYPE_AggMymode&#x27;, &#x27;PREV_NAME_SELLER_INDUSTRY_AggMymode&#x27;, &#x27;CC_NAME_CONTRACT_STATUS_AggMymode&#x27;, &#x27;POS_NAME_CONTRACT_STATUS_AggMymode&#x27;]</pre></div></div></div><div class=\"sk-serial\"><div class=\"sk-item\"><div class=\"sk-serial\"><div class=\"sk-item\"><div class=\"sk-estimator sk-toggleable\"><input class=\"sk-toggleable__control sk-hidden--visually\" id=\"sk-estimator-id-6\" type=\"checkbox\" ><label for=\"sk-estimator-id-6\" class=\"sk-toggleable__label sk-toggleable__label-arrow\">SimpleImputer</label><div class=\"sk-toggleable__content\"><pre>SimpleImputer(fill_value=&#x27;missing&#x27;, strategy=&#x27;constant&#x27;)</pre></div></div></div><div class=\"sk-item\"><div class=\"sk-estimator sk-toggleable\"><input class=\"sk-toggleable__control sk-hidden--visually\" id=\"sk-estimator-id-7\" type=\"checkbox\" ><label for=\"sk-estimator-id-7\" class=\"sk-toggleable__label sk-toggleable__label-arrow\">TargetEncoder</label><div class=\"sk-toggleable__content\"><pre>TargetEncoder()</pre></div></div></div><div class=\"sk-item\"><div class=\"sk-estimator sk-toggleable\"><input class=\"sk-toggleable__control sk-hidden--visually\" id=\"sk-estimator-id-8\" type=\"checkbox\" ><label for=\"sk-estimator-id-8\" class=\"sk-toggleable__label sk-toggleable__label-arrow\">StandardScaler</label><div class=\"sk-toggleable__content\"><pre>StandardScaler()</pre></div></div></div></div></div></div></div></div><div class=\"sk-parallel-item\"><div class=\"sk-item\"><div class=\"sk-label-container\"><div class=\"sk-label sk-toggleable\"><input class=\"sk-toggleable__control sk-hidden--visually\" id=\"sk-estimator-id-9\" type=\"checkbox\" ><label for=\"sk-estimator-id-9\" class=\"sk-toggleable__label sk-toggleable__label-arrow\">nomiTransformer</label><div class=\"sk-toggleable__content\"><pre>[&#x27;NAME_FAMILY_STATUS&#x27;, &#x27;NAME_HOUSING_TYPE&#x27;, &#x27;FONDKAPREMONT_MODE&#x27;, &#x27;HOUSETYPE_MODE&#x27;]</pre></div></div></div><div class=\"sk-serial\"><div class=\"sk-item\"><div class=\"sk-serial\"><div class=\"sk-item\"><div class=\"sk-estimator sk-toggleable\"><input class=\"sk-toggleable__control sk-hidden--visually\" id=\"sk-estimator-id-10\" type=\"checkbox\" ><label for=\"sk-estimator-id-10\" class=\"sk-toggleable__label sk-toggleable__label-arrow\">SimpleImputer</label><div class=\"sk-toggleable__content\"><pre>SimpleImputer(fill_value=&#x27;missing&#x27;, strategy=&#x27;constant&#x27;)</pre></div></div></div><div class=\"sk-item\"><div class=\"sk-estimator sk-toggleable\"><input class=\"sk-toggleable__control sk-hidden--visually\" id=\"sk-estimator-id-11\" type=\"checkbox\" ><label for=\"sk-estimator-id-11\" class=\"sk-toggleable__label sk-toggleable__label-arrow\">OneHotEncoder</label><div class=\"sk-toggleable__content\"><pre>OneHotEncoder(drop=&#x27;first&#x27;, dtype=&lt;class &#x27;numpy.int8&#x27;&gt;, handle_unknown=&#x27;ignore&#x27;)</pre></div></div></div></div></div></div></div></div><div class=\"sk-parallel-item\"><div class=\"sk-item\"><div class=\"sk-label-container\"><div class=\"sk-label sk-toggleable\"><input class=\"sk-toggleable__control sk-hidden--visually\" id=\"sk-estimator-id-12\" type=\"checkbox\" ><label for=\"sk-estimator-id-12\" class=\"sk-toggleable__label sk-toggleable__label-arrow\">ordiTransformer</label><div class=\"sk-toggleable__content\"><pre>[&#x27;NAME_EDUCATION_TYPE&#x27;]</pre></div></div></div><div class=\"sk-serial\"><div class=\"sk-item\"><div class=\"sk-serial\"><div class=\"sk-item\"><div class=\"sk-estimator sk-toggleable\"><input class=\"sk-toggleable__control sk-hidden--visually\" id=\"sk-estimator-id-13\" type=\"checkbox\" ><label for=\"sk-estimator-id-13\" class=\"sk-toggleable__label sk-toggleable__label-arrow\">SimpleImputer</label><div class=\"sk-toggleable__content\"><pre>SimpleImputer(fill_value=&#x27;missing&#x27;, strategy=&#x27;constant&#x27;)</pre></div></div></div><div class=\"sk-item\"><div class=\"sk-estimator sk-toggleable\"><input class=\"sk-toggleable__control sk-hidden--visually\" id=\"sk-estimator-id-14\" type=\"checkbox\" ><label for=\"sk-estimator-id-14\" class=\"sk-toggleable__label sk-toggleable__label-arrow\">OrdinalEncoder</label><div class=\"sk-toggleable__content\"><pre>OrdinalEncoder(categories=[[&#x27;Lower secondary&#x27;, &#x27;Secondary / secondary special&#x27;,\n",
       "                            &#x27;Incomplete higher&#x27;, &#x27;Higher education&#x27;,\n",
       "                            &#x27;Academic degree&#x27;]],\n",
       "               dtype=&lt;class &#x27;numpy.int8&#x27;&gt;, handle_unknown=&#x27;use_encoded_value&#x27;,\n",
       "               unknown_value=-1)</pre></div></div></div><div class=\"sk-item\"><div class=\"sk-estimator sk-toggleable\"><input class=\"sk-toggleable__control sk-hidden--visually\" id=\"sk-estimator-id-15\" type=\"checkbox\" ><label for=\"sk-estimator-id-15\" class=\"sk-toggleable__label sk-toggleable__label-arrow\">StandardScaler</label><div class=\"sk-toggleable__content\"><pre>StandardScaler()</pre></div></div></div></div></div></div></div></div></div></div></div></div>"
      ],
      "text/plain": [
       "ColumnTransformer(transformers=[('numericTransformer',\n",
       "                                 Pipeline(steps=[('imputerNum',\n",
       "                                                  SimpleImputer(strategy='median')),\n",
       "                                                 ('scalerNum',\n",
       "                                                  RobustScaler())]),\n",
       "                                 ['NAME_CONTRACT_TYPE', 'CODE_GENDER',\n",
       "                                  'FLAG_OWN_CAR', 'FLAG_OWN_REALTY',\n",
       "                                  'CNT_CHILDREN', 'AMT_INCOME_TOTAL',\n",
       "                                  'AMT_CREDIT', 'AMT_ANNUITY',\n",
       "                                  'AMT_GOODS_PRICE',\n",
       "                                  'REGION_POPULATION_RELATIVE', 'DAYS_BIRTH',\n",
       "                                  'DAYS_EMPLO...\n",
       "                                                  SimpleImputer(fill_value='missing',\n",
       "                                                                strategy='constant')),\n",
       "                                                 ('encoderOrdi',\n",
       "                                                  OrdinalEncoder(categories=[['Lower '\n",
       "                                                                              'secondary',\n",
       "                                                                              'Secondary '\n",
       "                                                                              '/ '\n",
       "                                                                              'secondary '\n",
       "                                                                              'special',\n",
       "                                                                              'Incomplete '\n",
       "                                                                              'higher',\n",
       "                                                                              'Higher '\n",
       "                                                                              'education',\n",
       "                                                                              'Academic '\n",
       "                                                                              'degree']],\n",
       "                                                                 dtype=<class 'numpy.int8'>,\n",
       "                                                                 handle_unknown='use_encoded_value',\n",
       "                                                                 unknown_value=-1)),\n",
       "                                                 ('scalerOrdi',\n",
       "                                                  StandardScaler())]),\n",
       "                                 ['NAME_EDUCATION_TYPE'])])"
      ]
     },
     "execution_count": 108,
     "metadata": {},
     "output_type": "execute_result"
    }
   ],
   "source": [
    "columnTransformer"
   ]
  },
  {
   "cell_type": "markdown",
   "id": "f13a51c0",
   "metadata": {},
   "source": [
    "# Création des samplers<a class=\"anchor\" id=\"13\"></a>"
   ]
  },
  {
   "cell_type": "markdown",
   "id": "f449a937",
   "metadata": {},
   "source": [
    "Nous allons utiliser de l'over-sampling et de l'under-sampling pour gérer, pour tout ou partie, le déséquilibre des classes de la target.\n",
    "\n",
    "Nous pourrons combiner cette approche avec une approche de type \"classweights\" lorsque les modèles le permettront. C'est pourquoi nous configurons dans un premier temps la `sampling_strategy=0.7` pour l'échantillonnage final."
   ]
  },
  {
   "cell_type": "code",
   "execution_count": 109,
   "id": "de2f9692",
   "metadata": {},
   "outputs": [],
   "source": [
    "overSampler = SMOTE(sampling_strategy=0.4)\n",
    "underSampler = RandomUnderSampler(sampling_strategy=0.7,random_state=16)"
   ]
  },
  {
   "cell_type": "markdown",
   "id": "a737cca8",
   "metadata": {},
   "source": [
    "# Outil(s) de feature selection<a class=\"anchor\" id=\"14\"></a>"
   ]
  },
  {
   "cell_type": "markdown",
   "id": "44146f42",
   "metadata": {},
   "source": [
    "## Outil(s) de feature selection - méthode<a class=\"anchor\" id=\"141\"></a>"
   ]
  },
  {
   "cell_type": "markdown",
   "id": "31a03c0e",
   "metadata": {},
   "source": [
    "L'idée directrice est d'utiliser des outils de Feature Selection compatibles avec `Pipeline`, afin de pouvoir les intégrer facilement au sein d'une validation croisée."
   ]
  },
  {
   "cell_type": "markdown",
   "id": "44eb68b7",
   "metadata": {},
   "source": [
    "Malheureusement la suppression des features **multicolinéaires** n'est pas simple avec des outils Scikit Learn. C'est la raison pour laquelle nous avons été contraints de **les supprimer en amont**."
   ]
  },
  {
   "cell_type": "markdown",
   "id": "93b1f060",
   "metadata": {},
   "source": [
    "Nous utiliserons la fonction **RFECV de Scikit Learn** pour sélectionner les features qui alimenteront nos modèles.\n",
    "\n",
    "Cet algorithme est une version alternative du RFE : Recursive Feature Elimination, qui :\n",
    "- entraîne un modèle de base, \n",
    "- classe les features selon leur importance au sein du modèle, \n",
    "- élimine la ou les features les moins importantes\n",
    "- recommence l'opération jusqu'à atteindre le nombre de features souhaité.\n",
    "\n",
    "Le RFECV détermine lui-même le nombre de features à sélectionner :\n",
    "- en mettant en place une validation croisée\n",
    "- en réalisant pour chaque k, un RFE sur nb folds - 1\n",
    "- en calculant un score de performance donné (par exemple la ROC AUC) à chaque élimination de feature sur le fold restant\n",
    "- le nombre de features mininum avec le meilleur score est sélectionné\n",
    "- un RFE classique est alors utilisé sur la totalité du set avec le nombre de features déterminé précédemment\n",
    "\n",
    "\n",
    "\n",
    "**Afin d'améliorer le temps de calcul**, nous allons précéder le RFECV d'autres méthodes de feature selection, cette fois basées sur la **variance** et sur la **F-statistique ANOVA**. Un filtre préalable sur la variance permettra d'écarter les features n'apportant pas de réelle information. Et nous faisons le choix de la F-statistique car :\n",
    "- la target est nominale,\n",
    "- les features, une fois encodées, sont toutes numériques\n",
    "\n",
    "L'objectif est d'**alimenter le RFECV avec moins de features**, pour qu'il y ait moins de tests à réaliser."
   ]
  },
  {
   "cell_type": "markdown",
   "id": "c6f88458",
   "metadata": {},
   "source": [
    "## Outil(s) de feature selection - VarianceSelector<a class=\"anchor\" id=\"142\"></a>"
   ]
  },
  {
   "cell_type": "code",
   "execution_count": 110,
   "id": "60446cec",
   "metadata": {},
   "outputs": [],
   "source": [
    "VarianceSelector = VarianceThreshold(threshold=0.001)"
   ]
  },
  {
   "cell_type": "markdown",
   "id": "33846ad9",
   "metadata": {},
   "source": [
    "## Outil(s) de feature selection - FscoreSelector<a class=\"anchor\" id=\"143\"></a>"
   ]
  },
  {
   "cell_type": "code",
   "execution_count": 111,
   "id": "de42d4d3",
   "metadata": {},
   "outputs": [],
   "source": [
    "FscoreSelector = SelectPercentile(\n",
    "    score_func=f_classif\n",
    ")"
   ]
  },
  {
   "cell_type": "markdown",
   "id": "4bb2f35d",
   "metadata": {},
   "source": [
    "## Outil(s) de feature selection - RFESelector<a class=\"anchor\" id=\"144\"></a>"
   ]
  },
  {
   "cell_type": "markdown",
   "id": "b0368a5e",
   "metadata": {},
   "source": [
    "### Outil(s) de feature selection - RFESelector - trouver le bon modèle"
   ]
  },
  {
   "cell_type": "markdown",
   "id": "1d9e80d0",
   "metadata": {},
   "source": [
    "Le choix du modèle à intégrer dans le RFECV soulève un double enjeu :\n",
    "- le modèle doit permettre de sélectionner des features pertinentes\n",
    "- le modèle doit pouvoir converger rapidement afin de ne pas trop pénaliser le temps de calcul du pipeline global\n",
    "\n",
    "Nous allons :\n",
    "- utiliser un `RandomForest` et effectuer une recherche d'hyperparamètres **sur grille** afin de trouver le bon compromis\n",
    "- limiter le nombre de paramètres à explorer\n",
    "- limiter la complexité du modèle"
   ]
  },
  {
   "cell_type": "code",
   "execution_count": 112,
   "id": "3e8207f9",
   "metadata": {},
   "outputs": [],
   "source": [
    "# model for RFECV\n",
    "RFEmodel = RandomForestClassifier(\n",
    "    class_weight='balanced',\n",
    "    n_jobs=8,\n",
    "    max_features='sqrt',\n",
    "    n_estimators=75, \n",
    "    min_samples_split=0.15,\n",
    "    random_state=16,\n",
    "    \n",
    "    \n",
    ")\n",
    "\n",
    "# pipeline for RFEmodel tuning\n",
    "RFEmodelPipe = imbPipeline(\n",
    "    [\n",
    "        (\"columnTransformer\",columnTransformer),\n",
    "        (\"VarianceSelector\",VarianceSelector),\n",
    "        (\"FscoreSelector\",FscoreSelector),\n",
    "        (\"RFEmodel\",RFEmodel)\n",
    "    ]\n",
    ")\n",
    "\n",
    "\n",
    "RFEmodelGrid = {\n",
    "    \"FscoreSelector__percentile\" : [\n",
    "            70,\n",
    "            80\n",
    "    ],\n",
    "    \"RFEmodel__max_depth\" : [\n",
    "            4,\n",
    "            6\n",
    "    ],\n",
    "    \"RFEmodel__max_leaf_nodes\" : [\n",
    "            25,\n",
    "            45\n",
    "    ],\n",
    "    \"RFEmodel__max_samples\" : [\n",
    "            0.4,\n",
    "            0.5,\n",
    "    ],\n",
    "}\n",
    "\n",
    "\n",
    "RFEmodelGridSearch = GridSearchCV(\n",
    "    estimator=RFEmodelPipe,\n",
    "    param_grid=RFEmodelGrid,\n",
    "    scoring=\"average_precision\",\n",
    "    cv=StratifiedKFold(shuffle=True,n_splits=3,random_state=3),\n",
    "    verbose=3,\n",
    "    n_jobs=8, \n",
    ")"
   ]
  },
  {
   "cell_type": "code",
   "execution_count": 113,
   "id": "0aee0e47",
   "metadata": {},
   "outputs": [
    {
     "name": "stdout",
     "output_type": "stream",
     "text": [
      "CPU times: total: 0 ns\n",
      "Wall time: 15 ms\n"
     ]
    }
   ],
   "source": [
    "%%time\n",
    "if not os.path.isdir(\"mySaves/models\") :\n",
    "    os.mkdir(\"mySaves/models\")\n",
    "\n",
    "if (\"RFEmodelGridSearch.joblib\" not in os.listdir(\"mySaves/models\")) or (rapidProcessing==False) :\n",
    "    RFEmodelGridSearch.fit(XTrain,yTrain)\n",
    "    dump(RFEmodelGridSearch,\"mySaves/models/RFEmodelGridSearch.joblib\")\n",
    "\n",
    "else :\n",
    "    RFEmodelGridSearch=load(\"mySaves/models/RFEmodelGridSearch.joblib\")\n"
   ]
  },
  {
   "cell_type": "markdown",
   "id": "b9d3bb18",
   "metadata": {},
   "source": [
    "Afin d'apprécier les résultats nous allons ajouter une nouvelle colonne au `.cv_results` qui nous permettra de prendre en compte le temps d'apprentissage."
   ]
  },
  {
   "cell_type": "code",
   "execution_count": 114,
   "id": "27087ba1",
   "metadata": {
    "scrolled": false
   },
   "outputs": [],
   "source": [
    "RFEmodelCVresults=pd.DataFrame(RFEmodelGridSearch.cv_results_)\n",
    "\n",
    "RFEmodelCVresults['rank_fit_time']=RFEmodelCVresults[\"mean_fit_time\"].rank().astype(int)\n",
    "\n",
    "RFEmodelCVresults['rank_score_AND_time']= \\\n",
    "RFEmodelCVresults[['rank_fit_time','rank_test_score']].sum(axis=1).rank().astype(int)\n",
    "\n",
    "firstCols = \\\n",
    "[\"rank_score_AND_time\",\"mean_fit_time\",\"rank_fit_time\",\"mean_test_score\",\"rank_test_score\"]+\\\n",
    "[col for col in RFEmodelCVresults.columns if \"param\" in col]\n",
    "\n",
    "RFEmodelCVresults=RFEmodelCVresults[firstCols+[col for col in RFEmodelCVresults.columns if col not in firstCols]]\n",
    "\n",
    "RFEmodelCVresults=RFEmodelCVresults.sort_values(\"rank_score_AND_time\").reset_index(drop=True)\n",
    "\n",
    "\n"
   ]
  },
  {
   "cell_type": "code",
   "execution_count": 115,
   "id": "71af80bf",
   "metadata": {
    "scrolled": false
   },
   "outputs": [
    {
     "data": {
      "text/html": [
       "<div>\n",
       "<style scoped>\n",
       "    .dataframe tbody tr th:only-of-type {\n",
       "        vertical-align: middle;\n",
       "    }\n",
       "\n",
       "    .dataframe tbody tr th {\n",
       "        vertical-align: top;\n",
       "    }\n",
       "\n",
       "    .dataframe thead th {\n",
       "        text-align: right;\n",
       "    }\n",
       "</style>\n",
       "<table border=\"1\" class=\"dataframe\">\n",
       "  <thead>\n",
       "    <tr style=\"text-align: right;\">\n",
       "      <th></th>\n",
       "      <th>rank_score_AND_time</th>\n",
       "      <th>mean_fit_time</th>\n",
       "      <th>rank_fit_time</th>\n",
       "      <th>mean_test_score</th>\n",
       "      <th>rank_test_score</th>\n",
       "      <th>param_FscoreSelector__percentile</th>\n",
       "      <th>param_RFEmodel__max_depth</th>\n",
       "      <th>param_RFEmodel__max_leaf_nodes</th>\n",
       "      <th>param_RFEmodel__max_samples</th>\n",
       "      <th>params</th>\n",
       "      <th>std_fit_time</th>\n",
       "      <th>mean_score_time</th>\n",
       "      <th>std_score_time</th>\n",
       "      <th>split0_test_score</th>\n",
       "      <th>split1_test_score</th>\n",
       "      <th>split2_test_score</th>\n",
       "      <th>std_test_score</th>\n",
       "    </tr>\n",
       "  </thead>\n",
       "  <tbody>\n",
       "    <tr>\n",
       "      <th>0</th>\n",
       "      <td>1</td>\n",
       "      <td>17.727913</td>\n",
       "      <td>4</td>\n",
       "      <td>0.206216</td>\n",
       "      <td>3</td>\n",
       "      <td>80</td>\n",
       "      <td>4</td>\n",
       "      <td>45</td>\n",
       "      <td>0.5</td>\n",
       "      <td>{'FscoreSelector__percentile': 80, 'RFEmodel__...</td>\n",
       "      <td>0.964590</td>\n",
       "      <td>4.031758</td>\n",
       "      <td>0.538058</td>\n",
       "      <td>0.204896</td>\n",
       "      <td>0.205369</td>\n",
       "      <td>0.208384</td>\n",
       "      <td>0.001545</td>\n",
       "    </tr>\n",
       "    <tr>\n",
       "      <th>1</th>\n",
       "      <td>2</td>\n",
       "      <td>18.133807</td>\n",
       "      <td>6</td>\n",
       "      <td>0.204494</td>\n",
       "      <td>5</td>\n",
       "      <td>70</td>\n",
       "      <td>4</td>\n",
       "      <td>45</td>\n",
       "      <td>0.5</td>\n",
       "      <td>{'FscoreSelector__percentile': 70, 'RFEmodel__...</td>\n",
       "      <td>1.893845</td>\n",
       "      <td>4.442432</td>\n",
       "      <td>1.705828</td>\n",
       "      <td>0.204810</td>\n",
       "      <td>0.199217</td>\n",
       "      <td>0.209455</td>\n",
       "      <td>0.004186</td>\n",
       "    </tr>\n",
       "    <tr>\n",
       "      <th>2</th>\n",
       "      <td>4</td>\n",
       "      <td>16.281099</td>\n",
       "      <td>2</td>\n",
       "      <td>0.203134</td>\n",
       "      <td>10</td>\n",
       "      <td>80</td>\n",
       "      <td>4</td>\n",
       "      <td>25</td>\n",
       "      <td>0.4</td>\n",
       "      <td>{'FscoreSelector__percentile': 80, 'RFEmodel__...</td>\n",
       "      <td>1.068087</td>\n",
       "      <td>4.506276</td>\n",
       "      <td>1.702834</td>\n",
       "      <td>0.201292</td>\n",
       "      <td>0.204057</td>\n",
       "      <td>0.204053</td>\n",
       "      <td>0.001302</td>\n",
       "    </tr>\n",
       "    <tr>\n",
       "      <th>3</th>\n",
       "      <td>4</td>\n",
       "      <td>19.685027</td>\n",
       "      <td>11</td>\n",
       "      <td>0.206382</td>\n",
       "      <td>1</td>\n",
       "      <td>80</td>\n",
       "      <td>6</td>\n",
       "      <td>25</td>\n",
       "      <td>0.5</td>\n",
       "      <td>{'FscoreSelector__percentile': 80, 'RFEmodel__...</td>\n",
       "      <td>1.453528</td>\n",
       "      <td>2.692437</td>\n",
       "      <td>1.203652</td>\n",
       "      <td>0.204953</td>\n",
       "      <td>0.205656</td>\n",
       "      <td>0.208537</td>\n",
       "      <td>0.001551</td>\n",
       "    </tr>\n",
       "    <tr>\n",
       "      <th>4</th>\n",
       "      <td>4</td>\n",
       "      <td>17.583226</td>\n",
       "      <td>3</td>\n",
       "      <td>0.203495</td>\n",
       "      <td>9</td>\n",
       "      <td>80</td>\n",
       "      <td>6</td>\n",
       "      <td>45</td>\n",
       "      <td>0.4</td>\n",
       "      <td>{'FscoreSelector__percentile': 80, 'RFEmodel__...</td>\n",
       "      <td>0.649627</td>\n",
       "      <td>3.150546</td>\n",
       "      <td>0.559419</td>\n",
       "      <td>0.201615</td>\n",
       "      <td>0.203849</td>\n",
       "      <td>0.205019</td>\n",
       "      <td>0.001412</td>\n",
       "    </tr>\n",
       "    <tr>\n",
       "      <th>5</th>\n",
       "      <td>6</td>\n",
       "      <td>18.480182</td>\n",
       "      <td>7</td>\n",
       "      <td>0.203532</td>\n",
       "      <td>8</td>\n",
       "      <td>70</td>\n",
       "      <td>4</td>\n",
       "      <td>25</td>\n",
       "      <td>0.5</td>\n",
       "      <td>{'FscoreSelector__percentile': 70, 'RFEmodel__...</td>\n",
       "      <td>0.604311</td>\n",
       "      <td>2.557193</td>\n",
       "      <td>0.356237</td>\n",
       "      <td>0.202287</td>\n",
       "      <td>0.198986</td>\n",
       "      <td>0.209322</td>\n",
       "      <td>0.004310</td>\n",
       "    </tr>\n",
       "    <tr>\n",
       "      <th>6</th>\n",
       "      <td>7</td>\n",
       "      <td>14.448004</td>\n",
       "      <td>1</td>\n",
       "      <td>0.200936</td>\n",
       "      <td>15</td>\n",
       "      <td>70</td>\n",
       "      <td>4</td>\n",
       "      <td>25</td>\n",
       "      <td>0.4</td>\n",
       "      <td>{'FscoreSelector__percentile': 70, 'RFEmodel__...</td>\n",
       "      <td>1.679804</td>\n",
       "      <td>4.971147</td>\n",
       "      <td>0.908279</td>\n",
       "      <td>0.198356</td>\n",
       "      <td>0.198401</td>\n",
       "      <td>0.206050</td>\n",
       "      <td>0.003616</td>\n",
       "    </tr>\n",
       "    <tr>\n",
       "      <th>7</th>\n",
       "      <td>7</td>\n",
       "      <td>19.821374</td>\n",
       "      <td>14</td>\n",
       "      <td>0.206336</td>\n",
       "      <td>2</td>\n",
       "      <td>80</td>\n",
       "      <td>6</td>\n",
       "      <td>45</td>\n",
       "      <td>0.5</td>\n",
       "      <td>{'FscoreSelector__percentile': 80, 'RFEmodel__...</td>\n",
       "      <td>0.351702</td>\n",
       "      <td>1.513729</td>\n",
       "      <td>0.376222</td>\n",
       "      <td>0.204991</td>\n",
       "      <td>0.205639</td>\n",
       "      <td>0.208378</td>\n",
       "      <td>0.001468</td>\n",
       "    </tr>\n",
       "    <tr>\n",
       "      <th>8</th>\n",
       "      <td>9</td>\n",
       "      <td>19.696753</td>\n",
       "      <td>12</td>\n",
       "      <td>0.203727</td>\n",
       "      <td>7</td>\n",
       "      <td>80</td>\n",
       "      <td>4</td>\n",
       "      <td>45</td>\n",
       "      <td>0.4</td>\n",
       "      <td>{'FscoreSelector__percentile': 80, 'RFEmodel__...</td>\n",
       "      <td>1.129368</td>\n",
       "      <td>1.832627</td>\n",
       "      <td>0.107951</td>\n",
       "      <td>0.201693</td>\n",
       "      <td>0.204097</td>\n",
       "      <td>0.205391</td>\n",
       "      <td>0.001532</td>\n",
       "    </tr>\n",
       "    <tr>\n",
       "      <th>9</th>\n",
       "      <td>10</td>\n",
       "      <td>21.012904</td>\n",
       "      <td>16</td>\n",
       "      <td>0.206010</td>\n",
       "      <td>4</td>\n",
       "      <td>80</td>\n",
       "      <td>4</td>\n",
       "      <td>25</td>\n",
       "      <td>0.5</td>\n",
       "      <td>{'FscoreSelector__percentile': 80, 'RFEmodel__...</td>\n",
       "      <td>0.297720</td>\n",
       "      <td>2.353207</td>\n",
       "      <td>0.203143</td>\n",
       "      <td>0.204614</td>\n",
       "      <td>0.205190</td>\n",
       "      <td>0.208226</td>\n",
       "      <td>0.001584</td>\n",
       "    </tr>\n",
       "    <tr>\n",
       "      <th>10</th>\n",
       "      <td>12</td>\n",
       "      <td>17.947468</td>\n",
       "      <td>5</td>\n",
       "      <td>0.200906</td>\n",
       "      <td>16</td>\n",
       "      <td>70</td>\n",
       "      <td>4</td>\n",
       "      <td>45</td>\n",
       "      <td>0.4</td>\n",
       "      <td>{'FscoreSelector__percentile': 70, 'RFEmodel__...</td>\n",
       "      <td>2.327834</td>\n",
       "      <td>2.997099</td>\n",
       "      <td>1.386379</td>\n",
       "      <td>0.198405</td>\n",
       "      <td>0.198314</td>\n",
       "      <td>0.205999</td>\n",
       "      <td>0.003601</td>\n",
       "    </tr>\n",
       "    <tr>\n",
       "      <th>11</th>\n",
       "      <td>12</td>\n",
       "      <td>18.766621</td>\n",
       "      <td>9</td>\n",
       "      <td>0.202855</td>\n",
       "      <td>12</td>\n",
       "      <td>70</td>\n",
       "      <td>6</td>\n",
       "      <td>25</td>\n",
       "      <td>0.5</td>\n",
       "      <td>{'FscoreSelector__percentile': 70, 'RFEmodel__...</td>\n",
       "      <td>1.767533</td>\n",
       "      <td>3.518519</td>\n",
       "      <td>1.288996</td>\n",
       "      <td>0.202207</td>\n",
       "      <td>0.199157</td>\n",
       "      <td>0.207201</td>\n",
       "      <td>0.003316</td>\n",
       "    </tr>\n",
       "    <tr>\n",
       "      <th>12</th>\n",
       "      <td>12</td>\n",
       "      <td>18.545804</td>\n",
       "      <td>8</td>\n",
       "      <td>0.202483</td>\n",
       "      <td>13</td>\n",
       "      <td>70</td>\n",
       "      <td>6</td>\n",
       "      <td>45</td>\n",
       "      <td>0.4</td>\n",
       "      <td>{'FscoreSelector__percentile': 70, 'RFEmodel__...</td>\n",
       "      <td>1.035622</td>\n",
       "      <td>3.150544</td>\n",
       "      <td>0.607251</td>\n",
       "      <td>0.203128</td>\n",
       "      <td>0.198266</td>\n",
       "      <td>0.206054</td>\n",
       "      <td>0.003212</td>\n",
       "    </tr>\n",
       "    <tr>\n",
       "      <th>13</th>\n",
       "      <td>12</td>\n",
       "      <td>20.800228</td>\n",
       "      <td>15</td>\n",
       "      <td>0.204100</td>\n",
       "      <td>6</td>\n",
       "      <td>70</td>\n",
       "      <td>6</td>\n",
       "      <td>45</td>\n",
       "      <td>0.5</td>\n",
       "      <td>{'FscoreSelector__percentile': 70, 'RFEmodel__...</td>\n",
       "      <td>0.636772</td>\n",
       "      <td>1.926591</td>\n",
       "      <td>0.264031</td>\n",
       "      <td>0.204405</td>\n",
       "      <td>0.199062</td>\n",
       "      <td>0.208834</td>\n",
       "      <td>0.003996</td>\n",
       "    </tr>\n",
       "    <tr>\n",
       "      <th>14</th>\n",
       "      <td>15</td>\n",
       "      <td>19.490410</td>\n",
       "      <td>10</td>\n",
       "      <td>0.200944</td>\n",
       "      <td>14</td>\n",
       "      <td>70</td>\n",
       "      <td>6</td>\n",
       "      <td>25</td>\n",
       "      <td>0.4</td>\n",
       "      <td>{'FscoreSelector__percentile': 70, 'RFEmodel__...</td>\n",
       "      <td>0.239380</td>\n",
       "      <td>2.374176</td>\n",
       "      <td>0.126397</td>\n",
       "      <td>0.198441</td>\n",
       "      <td>0.198328</td>\n",
       "      <td>0.206062</td>\n",
       "      <td>0.003620</td>\n",
       "    </tr>\n",
       "    <tr>\n",
       "      <th>15</th>\n",
       "      <td>15</td>\n",
       "      <td>19.785228</td>\n",
       "      <td>13</td>\n",
       "      <td>0.202945</td>\n",
       "      <td>11</td>\n",
       "      <td>80</td>\n",
       "      <td>6</td>\n",
       "      <td>25</td>\n",
       "      <td>0.4</td>\n",
       "      <td>{'FscoreSelector__percentile': 80, 'RFEmodel__...</td>\n",
       "      <td>0.501047</td>\n",
       "      <td>2.563130</td>\n",
       "      <td>0.292176</td>\n",
       "      <td>0.200918</td>\n",
       "      <td>0.204154</td>\n",
       "      <td>0.203762</td>\n",
       "      <td>0.001442</td>\n",
       "    </tr>\n",
       "  </tbody>\n",
       "</table>\n",
       "</div>"
      ],
      "text/plain": [
       "    rank_score_AND_time  mean_fit_time  rank_fit_time  mean_test_score  \\\n",
       "0                     1      17.727913              4         0.206216   \n",
       "1                     2      18.133807              6         0.204494   \n",
       "2                     4      16.281099              2         0.203134   \n",
       "3                     4      19.685027             11         0.206382   \n",
       "4                     4      17.583226              3         0.203495   \n",
       "5                     6      18.480182              7         0.203532   \n",
       "6                     7      14.448004              1         0.200936   \n",
       "7                     7      19.821374             14         0.206336   \n",
       "8                     9      19.696753             12         0.203727   \n",
       "9                    10      21.012904             16         0.206010   \n",
       "10                   12      17.947468              5         0.200906   \n",
       "11                   12      18.766621              9         0.202855   \n",
       "12                   12      18.545804              8         0.202483   \n",
       "13                   12      20.800228             15         0.204100   \n",
       "14                   15      19.490410             10         0.200944   \n",
       "15                   15      19.785228             13         0.202945   \n",
       "\n",
       "    rank_test_score param_FscoreSelector__percentile  \\\n",
       "0                 3                               80   \n",
       "1                 5                               70   \n",
       "2                10                               80   \n",
       "3                 1                               80   \n",
       "4                 9                               80   \n",
       "5                 8                               70   \n",
       "6                15                               70   \n",
       "7                 2                               80   \n",
       "8                 7                               80   \n",
       "9                 4                               80   \n",
       "10               16                               70   \n",
       "11               12                               70   \n",
       "12               13                               70   \n",
       "13                6                               70   \n",
       "14               14                               70   \n",
       "15               11                               80   \n",
       "\n",
       "   param_RFEmodel__max_depth param_RFEmodel__max_leaf_nodes  \\\n",
       "0                          4                             45   \n",
       "1                          4                             45   \n",
       "2                          4                             25   \n",
       "3                          6                             25   \n",
       "4                          6                             45   \n",
       "5                          4                             25   \n",
       "6                          4                             25   \n",
       "7                          6                             45   \n",
       "8                          4                             45   \n",
       "9                          4                             25   \n",
       "10                         4                             45   \n",
       "11                         6                             25   \n",
       "12                         6                             45   \n",
       "13                         6                             45   \n",
       "14                         6                             25   \n",
       "15                         6                             25   \n",
       "\n",
       "   param_RFEmodel__max_samples  \\\n",
       "0                          0.5   \n",
       "1                          0.5   \n",
       "2                          0.4   \n",
       "3                          0.5   \n",
       "4                          0.4   \n",
       "5                          0.5   \n",
       "6                          0.4   \n",
       "7                          0.5   \n",
       "8                          0.4   \n",
       "9                          0.5   \n",
       "10                         0.4   \n",
       "11                         0.5   \n",
       "12                         0.4   \n",
       "13                         0.5   \n",
       "14                         0.4   \n",
       "15                         0.4   \n",
       "\n",
       "                                               params  std_fit_time  \\\n",
       "0   {'FscoreSelector__percentile': 80, 'RFEmodel__...      0.964590   \n",
       "1   {'FscoreSelector__percentile': 70, 'RFEmodel__...      1.893845   \n",
       "2   {'FscoreSelector__percentile': 80, 'RFEmodel__...      1.068087   \n",
       "3   {'FscoreSelector__percentile': 80, 'RFEmodel__...      1.453528   \n",
       "4   {'FscoreSelector__percentile': 80, 'RFEmodel__...      0.649627   \n",
       "5   {'FscoreSelector__percentile': 70, 'RFEmodel__...      0.604311   \n",
       "6   {'FscoreSelector__percentile': 70, 'RFEmodel__...      1.679804   \n",
       "7   {'FscoreSelector__percentile': 80, 'RFEmodel__...      0.351702   \n",
       "8   {'FscoreSelector__percentile': 80, 'RFEmodel__...      1.129368   \n",
       "9   {'FscoreSelector__percentile': 80, 'RFEmodel__...      0.297720   \n",
       "10  {'FscoreSelector__percentile': 70, 'RFEmodel__...      2.327834   \n",
       "11  {'FscoreSelector__percentile': 70, 'RFEmodel__...      1.767533   \n",
       "12  {'FscoreSelector__percentile': 70, 'RFEmodel__...      1.035622   \n",
       "13  {'FscoreSelector__percentile': 70, 'RFEmodel__...      0.636772   \n",
       "14  {'FscoreSelector__percentile': 70, 'RFEmodel__...      0.239380   \n",
       "15  {'FscoreSelector__percentile': 80, 'RFEmodel__...      0.501047   \n",
       "\n",
       "    mean_score_time  std_score_time  split0_test_score  split1_test_score  \\\n",
       "0          4.031758        0.538058           0.204896           0.205369   \n",
       "1          4.442432        1.705828           0.204810           0.199217   \n",
       "2          4.506276        1.702834           0.201292           0.204057   \n",
       "3          2.692437        1.203652           0.204953           0.205656   \n",
       "4          3.150546        0.559419           0.201615           0.203849   \n",
       "5          2.557193        0.356237           0.202287           0.198986   \n",
       "6          4.971147        0.908279           0.198356           0.198401   \n",
       "7          1.513729        0.376222           0.204991           0.205639   \n",
       "8          1.832627        0.107951           0.201693           0.204097   \n",
       "9          2.353207        0.203143           0.204614           0.205190   \n",
       "10         2.997099        1.386379           0.198405           0.198314   \n",
       "11         3.518519        1.288996           0.202207           0.199157   \n",
       "12         3.150544        0.607251           0.203128           0.198266   \n",
       "13         1.926591        0.264031           0.204405           0.199062   \n",
       "14         2.374176        0.126397           0.198441           0.198328   \n",
       "15         2.563130        0.292176           0.200918           0.204154   \n",
       "\n",
       "    split2_test_score  std_test_score  \n",
       "0            0.208384        0.001545  \n",
       "1            0.209455        0.004186  \n",
       "2            0.204053        0.001302  \n",
       "3            0.208537        0.001551  \n",
       "4            0.205019        0.001412  \n",
       "5            0.209322        0.004310  \n",
       "6            0.206050        0.003616  \n",
       "7            0.208378        0.001468  \n",
       "8            0.205391        0.001532  \n",
       "9            0.208226        0.001584  \n",
       "10           0.205999        0.003601  \n",
       "11           0.207201        0.003316  \n",
       "12           0.206054        0.003212  \n",
       "13           0.208834        0.003996  \n",
       "14           0.206062        0.003620  \n",
       "15           0.203762        0.001442  "
      ]
     },
     "execution_count": 115,
     "metadata": {},
     "output_type": "execute_result"
    }
   ],
   "source": [
    "RFEmodelCVresults"
   ]
  },
  {
   "cell_type": "markdown",
   "id": "7a169241",
   "metadata": {},
   "source": [
    "### Outil(s) de feature selection - RFESelector - modèle choisi"
   ]
  },
  {
   "cell_type": "markdown",
   "id": "f30edf31",
   "metadata": {},
   "source": [
    "Nous utiliserons donc les paramètres suivants :"
   ]
  },
  {
   "cell_type": "code",
   "execution_count": 116,
   "id": "aa731201",
   "metadata": {
    "scrolled": true
   },
   "outputs": [
    {
     "data": {
      "text/plain": [
       "{'FscoreSelector__percentile': 80,\n",
       " 'RFEmodel__max_depth': 4,\n",
       " 'RFEmodel__max_leaf_nodes': 45,\n",
       " 'RFEmodel__max_samples': 0.5}"
      ]
     },
     "execution_count": 116,
     "metadata": {},
     "output_type": "execute_result"
    }
   ],
   "source": [
    "RFEmodelCVresults.params[0]"
   ]
  },
  {
   "cell_type": "code",
   "execution_count": 117,
   "id": "d117f58d",
   "metadata": {
    "scrolled": false
   },
   "outputs": [
    {
     "data": {
      "text/html": [
       "<style>#sk-container-id-2 {color: black;}#sk-container-id-2 pre{padding: 0;}#sk-container-id-2 div.sk-toggleable {background-color: white;}#sk-container-id-2 label.sk-toggleable__label {cursor: pointer;display: block;width: 100%;margin-bottom: 0;padding: 0.3em;box-sizing: border-box;text-align: center;}#sk-container-id-2 label.sk-toggleable__label-arrow:before {content: \"▸\";float: left;margin-right: 0.25em;color: #696969;}#sk-container-id-2 label.sk-toggleable__label-arrow:hover:before {color: black;}#sk-container-id-2 div.sk-estimator:hover label.sk-toggleable__label-arrow:before {color: black;}#sk-container-id-2 div.sk-toggleable__content {max-height: 0;max-width: 0;overflow: hidden;text-align: left;background-color: #f0f8ff;}#sk-container-id-2 div.sk-toggleable__content pre {margin: 0.2em;color: black;border-radius: 0.25em;background-color: #f0f8ff;}#sk-container-id-2 input.sk-toggleable__control:checked~div.sk-toggleable__content {max-height: 200px;max-width: 100%;overflow: auto;}#sk-container-id-2 input.sk-toggleable__control:checked~label.sk-toggleable__label-arrow:before {content: \"▾\";}#sk-container-id-2 div.sk-estimator input.sk-toggleable__control:checked~label.sk-toggleable__label {background-color: #d4ebff;}#sk-container-id-2 div.sk-label input.sk-toggleable__control:checked~label.sk-toggleable__label {background-color: #d4ebff;}#sk-container-id-2 input.sk-hidden--visually {border: 0;clip: rect(1px 1px 1px 1px);clip: rect(1px, 1px, 1px, 1px);height: 1px;margin: -1px;overflow: hidden;padding: 0;position: absolute;width: 1px;}#sk-container-id-2 div.sk-estimator {font-family: monospace;background-color: #f0f8ff;border: 1px dotted black;border-radius: 0.25em;box-sizing: border-box;margin-bottom: 0.5em;}#sk-container-id-2 div.sk-estimator:hover {background-color: #d4ebff;}#sk-container-id-2 div.sk-parallel-item::after {content: \"\";width: 100%;border-bottom: 1px solid gray;flex-grow: 1;}#sk-container-id-2 div.sk-label:hover label.sk-toggleable__label {background-color: #d4ebff;}#sk-container-id-2 div.sk-serial::before {content: \"\";position: absolute;border-left: 1px solid gray;box-sizing: border-box;top: 0;bottom: 0;left: 50%;z-index: 0;}#sk-container-id-2 div.sk-serial {display: flex;flex-direction: column;align-items: center;background-color: white;padding-right: 0.2em;padding-left: 0.2em;position: relative;}#sk-container-id-2 div.sk-item {position: relative;z-index: 1;}#sk-container-id-2 div.sk-parallel {display: flex;align-items: stretch;justify-content: center;background-color: white;position: relative;}#sk-container-id-2 div.sk-item::before, #sk-container-id-2 div.sk-parallel-item::before {content: \"\";position: absolute;border-left: 1px solid gray;box-sizing: border-box;top: 0;bottom: 0;left: 50%;z-index: -1;}#sk-container-id-2 div.sk-parallel-item {display: flex;flex-direction: column;z-index: 1;position: relative;background-color: white;}#sk-container-id-2 div.sk-parallel-item:first-child::after {align-self: flex-end;width: 50%;}#sk-container-id-2 div.sk-parallel-item:last-child::after {align-self: flex-start;width: 50%;}#sk-container-id-2 div.sk-parallel-item:only-child::after {width: 0;}#sk-container-id-2 div.sk-dashed-wrapped {border: 1px dashed gray;margin: 0 0.4em 0.5em 0.4em;box-sizing: border-box;padding-bottom: 0.4em;background-color: white;}#sk-container-id-2 div.sk-label label {font-family: monospace;font-weight: bold;display: inline-block;line-height: 1.2em;}#sk-container-id-2 div.sk-label-container {text-align: center;}#sk-container-id-2 div.sk-container {/* jupyter's `normalize.less` sets `[hidden] { display: none; }` but bootstrap.min.css set `[hidden] { display: none !important; }` so we also need the `!important` here to be able to override the default hidden behavior on the sphinx rendered scikit-learn.org. See: https://github.com/scikit-learn/scikit-learn/issues/21755 */display: inline-block !important;position: relative;}#sk-container-id-2 div.sk-text-repr-fallback {display: none;}</style><div id=\"sk-container-id-2\" class=\"sk-top-container\"><div class=\"sk-text-repr-fallback\"><pre>Pipeline(steps=[(&#x27;columnTransformer&#x27;,\n",
       "                 ColumnTransformer(transformers=[(&#x27;numericTransformer&#x27;,\n",
       "                                                  Pipeline(steps=[(&#x27;imputerNum&#x27;,\n",
       "                                                                   SimpleImputer(strategy=&#x27;median&#x27;)),\n",
       "                                                                  (&#x27;scalerNum&#x27;,\n",
       "                                                                   RobustScaler())]),\n",
       "                                                  [&#x27;NAME_CONTRACT_TYPE&#x27;,\n",
       "                                                   &#x27;CODE_GENDER&#x27;,\n",
       "                                                   &#x27;FLAG_OWN_CAR&#x27;,\n",
       "                                                   &#x27;FLAG_OWN_REALTY&#x27;,\n",
       "                                                   &#x27;CNT_CHILDREN&#x27;,\n",
       "                                                   &#x27;AMT_INCOME_TOTAL&#x27;,\n",
       "                                                   &#x27;AMT_CREDIT&#x27;, &#x27;AMT_ANNUITY&#x27;,\n",
       "                                                   &#x27;AMT_GOODS_PRICE&#x27;,\n",
       "                                                   &#x27;REGION_POPULATI...\n",
       "                                                                                  unknown_value=-1)),\n",
       "                                                                  (&#x27;scalerOrdi&#x27;,\n",
       "                                                                   StandardScaler())]),\n",
       "                                                  [&#x27;NAME_EDUCATION_TYPE&#x27;])])),\n",
       "                (&#x27;VarianceSelector&#x27;, VarianceThreshold(threshold=0.001)),\n",
       "                (&#x27;FscoreSelector&#x27;, SelectPercentile(percentile=80)),\n",
       "                (&#x27;RFEmodel&#x27;,\n",
       "                 RandomForestClassifier(class_weight=&#x27;balanced&#x27;, max_depth=4,\n",
       "                                        max_leaf_nodes=45, max_samples=0.5,\n",
       "                                        min_samples_split=0.15, n_estimators=75,\n",
       "                                        n_jobs=8, random_state=16))])</pre><b>In a Jupyter environment, please rerun this cell to show the HTML representation or trust the notebook. <br />On GitHub, the HTML representation is unable to render, please try loading this page with nbviewer.org.</b></div><div class=\"sk-container\" hidden><div class=\"sk-item sk-dashed-wrapped\"><div class=\"sk-label-container\"><div class=\"sk-label sk-toggleable\"><input class=\"sk-toggleable__control sk-hidden--visually\" id=\"sk-estimator-id-16\" type=\"checkbox\" ><label for=\"sk-estimator-id-16\" class=\"sk-toggleable__label sk-toggleable__label-arrow\">Pipeline</label><div class=\"sk-toggleable__content\"><pre>Pipeline(steps=[(&#x27;columnTransformer&#x27;,\n",
       "                 ColumnTransformer(transformers=[(&#x27;numericTransformer&#x27;,\n",
       "                                                  Pipeline(steps=[(&#x27;imputerNum&#x27;,\n",
       "                                                                   SimpleImputer(strategy=&#x27;median&#x27;)),\n",
       "                                                                  (&#x27;scalerNum&#x27;,\n",
       "                                                                   RobustScaler())]),\n",
       "                                                  [&#x27;NAME_CONTRACT_TYPE&#x27;,\n",
       "                                                   &#x27;CODE_GENDER&#x27;,\n",
       "                                                   &#x27;FLAG_OWN_CAR&#x27;,\n",
       "                                                   &#x27;FLAG_OWN_REALTY&#x27;,\n",
       "                                                   &#x27;CNT_CHILDREN&#x27;,\n",
       "                                                   &#x27;AMT_INCOME_TOTAL&#x27;,\n",
       "                                                   &#x27;AMT_CREDIT&#x27;, &#x27;AMT_ANNUITY&#x27;,\n",
       "                                                   &#x27;AMT_GOODS_PRICE&#x27;,\n",
       "                                                   &#x27;REGION_POPULATI...\n",
       "                                                                                  unknown_value=-1)),\n",
       "                                                                  (&#x27;scalerOrdi&#x27;,\n",
       "                                                                   StandardScaler())]),\n",
       "                                                  [&#x27;NAME_EDUCATION_TYPE&#x27;])])),\n",
       "                (&#x27;VarianceSelector&#x27;, VarianceThreshold(threshold=0.001)),\n",
       "                (&#x27;FscoreSelector&#x27;, SelectPercentile(percentile=80)),\n",
       "                (&#x27;RFEmodel&#x27;,\n",
       "                 RandomForestClassifier(class_weight=&#x27;balanced&#x27;, max_depth=4,\n",
       "                                        max_leaf_nodes=45, max_samples=0.5,\n",
       "                                        min_samples_split=0.15, n_estimators=75,\n",
       "                                        n_jobs=8, random_state=16))])</pre></div></div></div><div class=\"sk-serial\"><div class=\"sk-item sk-dashed-wrapped\"><div class=\"sk-label-container\"><div class=\"sk-label sk-toggleable\"><input class=\"sk-toggleable__control sk-hidden--visually\" id=\"sk-estimator-id-17\" type=\"checkbox\" ><label for=\"sk-estimator-id-17\" class=\"sk-toggleable__label sk-toggleable__label-arrow\">columnTransformer: ColumnTransformer</label><div class=\"sk-toggleable__content\"><pre>ColumnTransformer(transformers=[(&#x27;numericTransformer&#x27;,\n",
       "                                 Pipeline(steps=[(&#x27;imputerNum&#x27;,\n",
       "                                                  SimpleImputer(strategy=&#x27;median&#x27;)),\n",
       "                                                 (&#x27;scalerNum&#x27;,\n",
       "                                                  RobustScaler())]),\n",
       "                                 [&#x27;NAME_CONTRACT_TYPE&#x27;, &#x27;CODE_GENDER&#x27;,\n",
       "                                  &#x27;FLAG_OWN_CAR&#x27;, &#x27;FLAG_OWN_REALTY&#x27;,\n",
       "                                  &#x27;CNT_CHILDREN&#x27;, &#x27;AMT_INCOME_TOTAL&#x27;,\n",
       "                                  &#x27;AMT_CREDIT&#x27;, &#x27;AMT_ANNUITY&#x27;,\n",
       "                                  &#x27;AMT_GOODS_PRICE&#x27;,\n",
       "                                  &#x27;REGION_POPULATION_RELATIVE&#x27;, &#x27;DAYS_BIRTH&#x27;,\n",
       "                                  &#x27;DAYS_EMPLO...\n",
       "                                                  SimpleImputer(fill_value=&#x27;missing&#x27;,\n",
       "                                                                strategy=&#x27;constant&#x27;)),\n",
       "                                                 (&#x27;encoderOrdi&#x27;,\n",
       "                                                  OrdinalEncoder(categories=[[&#x27;Lower &#x27;\n",
       "                                                                              &#x27;secondary&#x27;,\n",
       "                                                                              &#x27;Secondary &#x27;\n",
       "                                                                              &#x27;/ &#x27;\n",
       "                                                                              &#x27;secondary &#x27;\n",
       "                                                                              &#x27;special&#x27;,\n",
       "                                                                              &#x27;Incomplete &#x27;\n",
       "                                                                              &#x27;higher&#x27;,\n",
       "                                                                              &#x27;Higher &#x27;\n",
       "                                                                              &#x27;education&#x27;,\n",
       "                                                                              &#x27;Academic &#x27;\n",
       "                                                                              &#x27;degree&#x27;]],\n",
       "                                                                 dtype=&lt;class &#x27;numpy.int8&#x27;&gt;,\n",
       "                                                                 handle_unknown=&#x27;use_encoded_value&#x27;,\n",
       "                                                                 unknown_value=-1)),\n",
       "                                                 (&#x27;scalerOrdi&#x27;,\n",
       "                                                  StandardScaler())]),\n",
       "                                 [&#x27;NAME_EDUCATION_TYPE&#x27;])])</pre></div></div></div><div class=\"sk-parallel\"><div class=\"sk-parallel-item\"><div class=\"sk-item\"><div class=\"sk-label-container\"><div class=\"sk-label sk-toggleable\"><input class=\"sk-toggleable__control sk-hidden--visually\" id=\"sk-estimator-id-18\" type=\"checkbox\" ><label for=\"sk-estimator-id-18\" class=\"sk-toggleable__label sk-toggleable__label-arrow\">numericTransformer</label><div class=\"sk-toggleable__content\"><pre>[&#x27;NAME_CONTRACT_TYPE&#x27;, &#x27;CODE_GENDER&#x27;, &#x27;FLAG_OWN_CAR&#x27;, &#x27;FLAG_OWN_REALTY&#x27;, &#x27;CNT_CHILDREN&#x27;, &#x27;AMT_INCOME_TOTAL&#x27;, &#x27;AMT_CREDIT&#x27;, &#x27;AMT_ANNUITY&#x27;, &#x27;AMT_GOODS_PRICE&#x27;, &#x27;REGION_POPULATION_RELATIVE&#x27;, &#x27;DAYS_BIRTH&#x27;, &#x27;DAYS_EMPLOYED&#x27;, &#x27;DAYS_REGISTRATION&#x27;, &#x27;DAYS_ID_PUBLISH&#x27;, &#x27;OWN_CAR_AGE&#x27;, &#x27;FLAG_MOBIL&#x27;, &#x27;FLAG_EMP_PHONE&#x27;, &#x27;FLAG_WORK_PHONE&#x27;, &#x27;FLAG_CONT_MOBILE&#x27;, &#x27;FLAG_PHONE&#x27;, &#x27;FLAG_EMAIL&#x27;, &#x27;CNT_FAM_MEMBERS&#x27;, &#x27;REGION_RATING_CLIENT&#x27;, &#x27;REGION_RATING_CLIENT_W_CITY&#x27;, &#x27;HOUR_APPR_PROCESS_START&#x27;, &#x27;EXT_SOURCE_1&#x27;, &#x27;EXT_SOURCE_2&#x27;, &#x27;EXT_SOURCE_3&#x27;, &#x27;APARTMENTS_AVG&#x27;, &#x27;BASEMENTAREA_AVG&#x27;, &#x27;YEARS_BEGINEXPLUATATION_AVG&#x27;, &#x27;COMMONAREA_AVG&#x27;, &#x27;ELEVATORS_AVG&#x27;, &#x27;ENTRANCES_AVG&#x27;, &#x27;FLOORSMAX_AVG&#x27;, &#x27;FLOORSMIN_AVG&#x27;, &#x27;LANDAREA_AVG&#x27;, &#x27;LIVINGAREA_AVG&#x27;, &#x27;NONLIVINGAPARTMENTS_AVG&#x27;, &#x27;NONLIVINGAREA_AVG&#x27;, &#x27;YEARS_BEGINEXPLUATATION_MEDI&#x27;, &#x27;EMERGENCYSTATE_MODE&#x27;, &#x27;DAYS_LAST_PHONE_CHANGE&#x27;, &#x27;AMT_REQ_CREDIT_BUREAU_HOUR&#x27;, &#x27;AMT_REQ_CREDIT_BUREAU_DAY&#x27;, &#x27;AMT_REQ_CREDIT_BUREAU_WEEK&#x27;, &#x27;AMT_REQ_CREDIT_BUREAU_MON&#x27;, &#x27;AMT_REQ_CREDIT_BUREAU_QRT&#x27;, &#x27;AMT_REQ_CREDIT_BUREAU_YEAR&#x27;, &#x27;NEW_CREDIT_TO_ANNUITY_RATIO&#x27;, &#x27;NEW_DOWN_PAYMENT_RATE&#x27;, &#x27;NEW_CREDIT_TO_GOOD_RATIO&#x27;, &#x27;NEW_ANNUITY_TO_INCOME_RATIO&#x27;, &#x27;NEW_SOURCES_PROD&#x27;, &#x27;NEW_EXT_SOURCES_MEAN&#x27;, &#x27;NEW_is_NOT_sth&#x27;, &#x27;NEW_is_DOCLess&#x27;, &#x27;NEW_is_DOCMore&#x27;, &#x27;BUR_CREDIT_ACTIVE_Active_AggMean&#x27;, &#x27;BUR_CREDIT_ACTIVE_Bad debt_AggMean&#x27;, &#x27;BUR_CREDIT_ACTIVE_Closed_AggMean&#x27;, &#x27;BUR_CREDIT_ACTIVE_Sold_AggMean&#x27;, &#x27;BUR_CREDIT_ACTIVE_missing_AggMean&#x27;, &#x27;BUR_CREDIT_CURRENCY_currency 1_AggMean&#x27;, &#x27;BUR_CREDIT_CURRENCY_currency 2_AggMean&#x27;, &#x27;BUR_CREDIT_CURRENCY_currency 3_AggMean&#x27;, &#x27;BUR_CREDIT_CURRENCY_currency 4_AggMean&#x27;, &#x27;BUR_CREDIT_CURRENCY_missing_AggMean&#x27;, &#x27;BUR_BB_last10_STATUS_AggMean_AggMean&#x27;, &#x27;BUR_DAYS_CREDIT_AggMean&#x27;, &#x27;BUR_CREDIT_DAY_OVERDUE_AggMean&#x27;, &#x27;BUR_DAYS_CREDIT_ENDDATE_AggMean&#x27;, &#x27;BUR_DAYS_ENDDATE_FACT_AggMean&#x27;, &#x27;BUR_AMT_CREDIT_MAX_OVERDUE_AggMean&#x27;, &#x27;BUR_CNT_CREDIT_PROLONG_AggSum&#x27;, &#x27;BUR_AMT_CREDIT_SUM_AggSum&#x27;, &#x27;BUR_AMT_CREDIT_SUM_DEBT_AggSum&#x27;, &#x27;BUR_AMT_ANNUITY_AggMean&#x27;, &#x27;BUR_NEW_DEPT_TO_REMDAYS_RATIO_AggMax&#x27;, &#x27;PREV_NAME_CONTRACT_TYPE_Cash loans_AggMean&#x27;, &#x27;PREV_NAME_CONTRACT_TYPE_Consumer loans_AggMean&#x27;, &#x27;PREV_NAME_CONTRACT_TYPE_Revolving loans_AggMean&#x27;, &#x27;PREV_NAME_CONTRACT_TYPE_missing_AggMean&#x27;, &#x27;PREV_NAME_CONTRACT_STATUS_Approved_AggMean&#x27;, &#x27;PREV_NAME_CONTRACT_STATUS_Canceled_AggMean&#x27;, &#x27;PREV_NAME_CONTRACT_STATUS_Refused_AggMean&#x27;, &#x27;PREV_NAME_CONTRACT_STATUS_Unused offer_AggMean&#x27;, &#x27;PREV_NAME_CONTRACT_STATUS_missing_AggMean&#x27;, &#x27;PREV_NAME_PAYMENT_TYPE_Cash through the bank_AggMean&#x27;, &#x27;PREV_NAME_PAYMENT_TYPE_Cashless from the account of the employer_AggMean&#x27;, &#x27;PREV_NAME_PAYMENT_TYPE_Non-cash from your account_AggMean&#x27;, &#x27;PREV_NAME_PORTFOLIO_Cars_AggMean&#x27;, &#x27;PREV_NAME_PORTFOLIO_POS_AggMean&#x27;, &#x27;PREV_NAME_PORTFOLIO_missing_AggMean&#x27;, &#x27;PREV_AMT_ANNUITY_AggMax&#x27;, &#x27;PREV_AMT_APPLICATION_AggMin&#x27;, &#x27;PREV_AMT_CREDIT_AggMin&#x27;, &#x27;PREV_DAYS_DECISION_AggMin&#x27;, &#x27;PREV_NAME_CLIENT_TYPE_AggMin&#x27;, &#x27;PREV_NAME_PRODUCT_TYPE_AggMean&#x27;, &#x27;PREV_CNT_PAYMENT_AggMean&#x27;, &#x27;PREV_NAME_YIELD_GROUP_AggMin&#x27;, &#x27;PREV_DAYS_FIRST_DUE_AggMax&#x27;, &#x27;PREV_DAYS_LAST_DUE_1ST_VERSION_AggMax&#x27;, &#x27;PREV_DAYS_LAST_DUE_AggMax&#x27;, &#x27;PREV_NFLAG_INSURED_ON_APPROVAL_AggMean&#x27;, &#x27;PREV_NEW_DIFF_K_RATIO_AggMax&#x27;, &#x27;PREV_NEW_I_RATE_AggMin&#x27;, &#x27;CC_last10_AMT_BALANCE_AggMean&#x27;, &#x27;CC_last10_NEW_SUM_CNT_DRAW_AggSum&#x27;, &#x27;CC_last10_SK_DPD_AggMean&#x27;, &#x27;CC_last10_SK_DPD_DEF_AggMean&#x27;, &#x27;CC_AMT_BALANCE_AggMean&#x27;, &#x27;CC_SK_DPD_AggMean&#x27;, &#x27;CC_SK_DPD_DEF_AggMean&#x27;, &#x27;CC_NEW_SUM_CNT_DRAW_AggSum&#x27;, &#x27;POS_last10_SK_DPD_AggMean&#x27;, &#x27;POS_last10_SK_DPD_DEF_AggMean&#x27;, &#x27;POS_last10_NEW_ACTUAL_LEFT_TO_PAY_AggMean&#x27;, &#x27;POS_SK_DPD_AggMean&#x27;, &#x27;POS_SK_DPD_DEF_AggMean&#x27;, &#x27;INS_last10_NEW_LESS_PAY_NORM_AggMean&#x27;, &#x27;INS_last10_NEW_DPD_NORM_AggMean&#x27;, &#x27;INS_DAYS_ENTRY_PAYMENT_AggMean&#x27;, &#x27;INS_AMT_INSTALMENT_AggMean&#x27;, &#x27;INS_AMT_PAYMENT_AggMean&#x27;, &#x27;INS_NEW_LESS_PAY_NORM_AggMean&#x27;, &#x27;INS_NEW_DPD_NORM_AggMean&#x27;, &#x27;NEW_I_x_DOWN&#x27;]</pre></div></div></div><div class=\"sk-serial\"><div class=\"sk-item\"><div class=\"sk-serial\"><div class=\"sk-item\"><div class=\"sk-estimator sk-toggleable\"><input class=\"sk-toggleable__control sk-hidden--visually\" id=\"sk-estimator-id-19\" type=\"checkbox\" ><label for=\"sk-estimator-id-19\" class=\"sk-toggleable__label sk-toggleable__label-arrow\">SimpleImputer</label><div class=\"sk-toggleable__content\"><pre>SimpleImputer(strategy=&#x27;median&#x27;)</pre></div></div></div><div class=\"sk-item\"><div class=\"sk-estimator sk-toggleable\"><input class=\"sk-toggleable__control sk-hidden--visually\" id=\"sk-estimator-id-20\" type=\"checkbox\" ><label for=\"sk-estimator-id-20\" class=\"sk-toggleable__label sk-toggleable__label-arrow\">RobustScaler</label><div class=\"sk-toggleable__content\"><pre>RobustScaler()</pre></div></div></div></div></div></div></div></div><div class=\"sk-parallel-item\"><div class=\"sk-item\"><div class=\"sk-label-container\"><div class=\"sk-label sk-toggleable\"><input class=\"sk-toggleable__control sk-hidden--visually\" id=\"sk-estimator-id-21\" type=\"checkbox\" ><label for=\"sk-estimator-id-21\" class=\"sk-toggleable__label sk-toggleable__label-arrow\">highCardiTransformer</label><div class=\"sk-toggleable__content\"><pre>[&#x27;NAME_TYPE_SUITE&#x27;, &#x27;NAME_INCOME_TYPE&#x27;, &#x27;OCCUPATION_TYPE&#x27;, &#x27;WEEKDAY_APPR_PROCESS_START&#x27;, &#x27;ORGANIZATION_TYPE&#x27;, &#x27;WALLSMATERIAL_MODE&#x27;, &#x27;BUR_CREDIT_TYPE_AggMymode&#x27;, &#x27;PREV_NAME_CASH_LOAN_PURPOSE_AggMymode&#x27;, &#x27;PREV_NAME_GOODS_CATEGORY_AggMymode&#x27;, &#x27;PREV_PRODUCT_COMBINATION_AggMymode&#x27;, &#x27;PREV_WEEKDAY_APPR_PROCESS_START_AggMymode&#x27;, &#x27;PREV_CODE_REJECT_REASON_AggMymode&#x27;, &#x27;PREV_NAME_TYPE_SUITE_AggMymode&#x27;, &#x27;PREV_CHANNEL_TYPE_AggMymode&#x27;, &#x27;PREV_NAME_SELLER_INDUSTRY_AggMymode&#x27;, &#x27;CC_NAME_CONTRACT_STATUS_AggMymode&#x27;, &#x27;POS_NAME_CONTRACT_STATUS_AggMymode&#x27;]</pre></div></div></div><div class=\"sk-serial\"><div class=\"sk-item\"><div class=\"sk-serial\"><div class=\"sk-item\"><div class=\"sk-estimator sk-toggleable\"><input class=\"sk-toggleable__control sk-hidden--visually\" id=\"sk-estimator-id-22\" type=\"checkbox\" ><label for=\"sk-estimator-id-22\" class=\"sk-toggleable__label sk-toggleable__label-arrow\">SimpleImputer</label><div class=\"sk-toggleable__content\"><pre>SimpleImputer(fill_value=&#x27;missing&#x27;, strategy=&#x27;constant&#x27;)</pre></div></div></div><div class=\"sk-item\"><div class=\"sk-estimator sk-toggleable\"><input class=\"sk-toggleable__control sk-hidden--visually\" id=\"sk-estimator-id-23\" type=\"checkbox\" ><label for=\"sk-estimator-id-23\" class=\"sk-toggleable__label sk-toggleable__label-arrow\">TargetEncoder</label><div class=\"sk-toggleable__content\"><pre>TargetEncoder()</pre></div></div></div><div class=\"sk-item\"><div class=\"sk-estimator sk-toggleable\"><input class=\"sk-toggleable__control sk-hidden--visually\" id=\"sk-estimator-id-24\" type=\"checkbox\" ><label for=\"sk-estimator-id-24\" class=\"sk-toggleable__label sk-toggleable__label-arrow\">StandardScaler</label><div class=\"sk-toggleable__content\"><pre>StandardScaler()</pre></div></div></div></div></div></div></div></div><div class=\"sk-parallel-item\"><div class=\"sk-item\"><div class=\"sk-label-container\"><div class=\"sk-label sk-toggleable\"><input class=\"sk-toggleable__control sk-hidden--visually\" id=\"sk-estimator-id-25\" type=\"checkbox\" ><label for=\"sk-estimator-id-25\" class=\"sk-toggleable__label sk-toggleable__label-arrow\">nomiTransformer</label><div class=\"sk-toggleable__content\"><pre>[&#x27;NAME_FAMILY_STATUS&#x27;, &#x27;NAME_HOUSING_TYPE&#x27;, &#x27;FONDKAPREMONT_MODE&#x27;, &#x27;HOUSETYPE_MODE&#x27;]</pre></div></div></div><div class=\"sk-serial\"><div class=\"sk-item\"><div class=\"sk-serial\"><div class=\"sk-item\"><div class=\"sk-estimator sk-toggleable\"><input class=\"sk-toggleable__control sk-hidden--visually\" id=\"sk-estimator-id-26\" type=\"checkbox\" ><label for=\"sk-estimator-id-26\" class=\"sk-toggleable__label sk-toggleable__label-arrow\">SimpleImputer</label><div class=\"sk-toggleable__content\"><pre>SimpleImputer(fill_value=&#x27;missing&#x27;, strategy=&#x27;constant&#x27;)</pre></div></div></div><div class=\"sk-item\"><div class=\"sk-estimator sk-toggleable\"><input class=\"sk-toggleable__control sk-hidden--visually\" id=\"sk-estimator-id-27\" type=\"checkbox\" ><label for=\"sk-estimator-id-27\" class=\"sk-toggleable__label sk-toggleable__label-arrow\">OneHotEncoder</label><div class=\"sk-toggleable__content\"><pre>OneHotEncoder(drop=&#x27;first&#x27;, dtype=&lt;class &#x27;numpy.int8&#x27;&gt;, handle_unknown=&#x27;ignore&#x27;)</pre></div></div></div></div></div></div></div></div><div class=\"sk-parallel-item\"><div class=\"sk-item\"><div class=\"sk-label-container\"><div class=\"sk-label sk-toggleable\"><input class=\"sk-toggleable__control sk-hidden--visually\" id=\"sk-estimator-id-28\" type=\"checkbox\" ><label for=\"sk-estimator-id-28\" class=\"sk-toggleable__label sk-toggleable__label-arrow\">ordiTransformer</label><div class=\"sk-toggleable__content\"><pre>[&#x27;NAME_EDUCATION_TYPE&#x27;]</pre></div></div></div><div class=\"sk-serial\"><div class=\"sk-item\"><div class=\"sk-serial\"><div class=\"sk-item\"><div class=\"sk-estimator sk-toggleable\"><input class=\"sk-toggleable__control sk-hidden--visually\" id=\"sk-estimator-id-29\" type=\"checkbox\" ><label for=\"sk-estimator-id-29\" class=\"sk-toggleable__label sk-toggleable__label-arrow\">SimpleImputer</label><div class=\"sk-toggleable__content\"><pre>SimpleImputer(fill_value=&#x27;missing&#x27;, strategy=&#x27;constant&#x27;)</pre></div></div></div><div class=\"sk-item\"><div class=\"sk-estimator sk-toggleable\"><input class=\"sk-toggleable__control sk-hidden--visually\" id=\"sk-estimator-id-30\" type=\"checkbox\" ><label for=\"sk-estimator-id-30\" class=\"sk-toggleable__label sk-toggleable__label-arrow\">OrdinalEncoder</label><div class=\"sk-toggleable__content\"><pre>OrdinalEncoder(categories=[[&#x27;Lower secondary&#x27;, &#x27;Secondary / secondary special&#x27;,\n",
       "                            &#x27;Incomplete higher&#x27;, &#x27;Higher education&#x27;,\n",
       "                            &#x27;Academic degree&#x27;]],\n",
       "               dtype=&lt;class &#x27;numpy.int8&#x27;&gt;, handle_unknown=&#x27;use_encoded_value&#x27;,\n",
       "               unknown_value=-1)</pre></div></div></div><div class=\"sk-item\"><div class=\"sk-estimator sk-toggleable\"><input class=\"sk-toggleable__control sk-hidden--visually\" id=\"sk-estimator-id-31\" type=\"checkbox\" ><label for=\"sk-estimator-id-31\" class=\"sk-toggleable__label sk-toggleable__label-arrow\">StandardScaler</label><div class=\"sk-toggleable__content\"><pre>StandardScaler()</pre></div></div></div></div></div></div></div></div></div></div><div class=\"sk-item\"><div class=\"sk-estimator sk-toggleable\"><input class=\"sk-toggleable__control sk-hidden--visually\" id=\"sk-estimator-id-32\" type=\"checkbox\" ><label for=\"sk-estimator-id-32\" class=\"sk-toggleable__label sk-toggleable__label-arrow\">VarianceThreshold</label><div class=\"sk-toggleable__content\"><pre>VarianceThreshold(threshold=0.001)</pre></div></div></div><div class=\"sk-item\"><div class=\"sk-estimator sk-toggleable\"><input class=\"sk-toggleable__control sk-hidden--visually\" id=\"sk-estimator-id-33\" type=\"checkbox\" ><label for=\"sk-estimator-id-33\" class=\"sk-toggleable__label sk-toggleable__label-arrow\">SelectPercentile</label><div class=\"sk-toggleable__content\"><pre>SelectPercentile(percentile=80)</pre></div></div></div><div class=\"sk-item\"><div class=\"sk-estimator sk-toggleable\"><input class=\"sk-toggleable__control sk-hidden--visually\" id=\"sk-estimator-id-34\" type=\"checkbox\" ><label for=\"sk-estimator-id-34\" class=\"sk-toggleable__label sk-toggleable__label-arrow\">RandomForestClassifier</label><div class=\"sk-toggleable__content\"><pre>RandomForestClassifier(class_weight=&#x27;balanced&#x27;, max_depth=4, max_leaf_nodes=45,\n",
       "                       max_samples=0.5, min_samples_split=0.15, n_estimators=75,\n",
       "                       n_jobs=8, random_state=16)</pre></div></div></div></div></div></div></div>"
      ],
      "text/plain": [
       "Pipeline(steps=[('columnTransformer',\n",
       "                 ColumnTransformer(transformers=[('numericTransformer',\n",
       "                                                  Pipeline(steps=[('imputerNum',\n",
       "                                                                   SimpleImputer(strategy='median')),\n",
       "                                                                  ('scalerNum',\n",
       "                                                                   RobustScaler())]),\n",
       "                                                  ['NAME_CONTRACT_TYPE',\n",
       "                                                   'CODE_GENDER',\n",
       "                                                   'FLAG_OWN_CAR',\n",
       "                                                   'FLAG_OWN_REALTY',\n",
       "                                                   'CNT_CHILDREN',\n",
       "                                                   'AMT_INCOME_TOTAL',\n",
       "                                                   'AMT_CREDIT', 'AMT_ANNUITY',\n",
       "                                                   'AMT_GOODS_PRICE',\n",
       "                                                   'REGION_POPULATI...\n",
       "                                                                                  unknown_value=-1)),\n",
       "                                                                  ('scalerOrdi',\n",
       "                                                                   StandardScaler())]),\n",
       "                                                  ['NAME_EDUCATION_TYPE'])])),\n",
       "                ('VarianceSelector', VarianceThreshold(threshold=0.001)),\n",
       "                ('FscoreSelector', SelectPercentile(percentile=80)),\n",
       "                ('RFEmodel',\n",
       "                 RandomForestClassifier(class_weight='balanced', max_depth=4,\n",
       "                                        max_leaf_nodes=45, max_samples=0.5,\n",
       "                                        min_samples_split=0.15, n_estimators=75,\n",
       "                                        n_jobs=8, random_state=16))])"
      ]
     },
     "execution_count": 117,
     "metadata": {},
     "output_type": "execute_result"
    }
   ],
   "source": [
    "RFEmodelPipe.set_params(**RFEmodelCVresults.params[0])"
   ]
  },
  {
   "cell_type": "code",
   "execution_count": 118,
   "id": "3527df39",
   "metadata": {},
   "outputs": [
    {
     "data": {
      "text/plain": [
       "105"
      ]
     },
     "execution_count": 118,
     "metadata": {},
     "output_type": "execute_result"
    }
   ],
   "source": [
    "del RFEmodelGridSearch\n",
    "gc.collect()"
   ]
  },
  {
   "cell_type": "code",
   "execution_count": 119,
   "id": "f5f2cbab",
   "metadata": {},
   "outputs": [],
   "source": [
    "RFEselector = RFECV(\n",
    "    RFEmodelPipe[\"RFEmodel\"],\n",
    "    cv=StratifiedKFold(shuffle=True,n_splits=3,random_state=3),\n",
    "    scoring='average_precision',\n",
    "    verbose=3,\n",
    "    n_jobs=8,\n",
    "    step=0.05, # for speed\n",
    "    min_features_to_select=70 # for speed\n",
    ")"
   ]
  },
  {
   "cell_type": "markdown",
   "id": "52e68417",
   "metadata": {},
   "source": [
    "## Outil(s) de feature selection - Test<a class=\"anchor\" id=\"145\"></a>"
   ]
  },
  {
   "cell_type": "code",
   "execution_count": 120,
   "id": "1c8770d9",
   "metadata": {},
   "outputs": [],
   "source": [
    "fullSelectorPipeline=imbPipeline(\n",
    "    [\n",
    "        (\"columnTransformer\",columnTransformer),\n",
    "        (\"VarianceSelector\",VarianceSelector),\n",
    "        (\"FscoreSelector\",FscoreSelector),        \n",
    "        (\"RFEselector\",clone(RFEselector))\n",
    "    ]\n",
    ")"
   ]
  },
  {
   "cell_type": "code",
   "execution_count": 121,
   "id": "80a6a230",
   "metadata": {},
   "outputs": [
    {
     "name": "stdout",
     "output_type": "stream",
     "text": [
      "CPU times: total: 0 ns\n",
      "Wall time: 15.7 ms\n"
     ]
    }
   ],
   "source": [
    "%%time\n",
    "if not os.path.isdir(\"mySaves/models\") :\n",
    "    os.mkdir(\"mySaves/models\")\n",
    "\n",
    "if (\"fullSelectorPipeline.joblib\" not in os.listdir(\"mySaves/models\")) or (rapidProcessing==False) :\n",
    "    fullSelectorPipeline.fit(XTrain,yTrain)\n",
    "    dump(fullSelectorPipeline,\"mySaves/models/fullSelectorPipeline.joblib\")\n",
    "\n",
    "else :\n",
    "    fullSelectorPipeline=load(\"mySaves/models/fullSelectorPipeline.joblib\")\n"
   ]
  },
  {
   "cell_type": "code",
   "execution_count": 122,
   "id": "b3b62508",
   "metadata": {
    "scrolled": false
   },
   "outputs": [
    {
     "name": "stdout",
     "output_type": "stream",
     "text": [
      "114 features sélectionnées.\n",
      "Parmis les features sélectionnées, 20 sont des features composites.\n"
     ]
    },
    {
     "data": {
      "text/html": [
       "<div>\n",
       "<style scoped>\n",
       "    .dataframe tbody tr th:only-of-type {\n",
       "        vertical-align: middle;\n",
       "    }\n",
       "\n",
       "    .dataframe tbody tr th {\n",
       "        vertical-align: top;\n",
       "    }\n",
       "\n",
       "    .dataframe thead th {\n",
       "        text-align: right;\n",
       "    }\n",
       "</style>\n",
       "<table border=\"1\" class=\"dataframe\">\n",
       "  <thead>\n",
       "    <tr style=\"text-align: right;\">\n",
       "      <th></th>\n",
       "      <th>Feature</th>\n",
       "      <th>Variance</th>\n",
       "      <th>Fscore</th>\n",
       "      <th>ranking</th>\n",
       "      <th>Importance</th>\n",
       "    </tr>\n",
       "  </thead>\n",
       "  <tbody>\n",
       "    <tr>\n",
       "      <th>55</th>\n",
       "      <td>NEW_is_NOT_sth</td>\n",
       "      <td>2.940861e-01</td>\n",
       "      <td>455.678529</td>\n",
       "      <td>1.0</td>\n",
       "      <td>0.196611</td>\n",
       "    </tr>\n",
       "    <tr>\n",
       "      <th>53</th>\n",
       "      <td>NEW_SOURCES_PROD</td>\n",
       "      <td>4.642284e-01</td>\n",
       "      <td>4880.310675</td>\n",
       "      <td>1.0</td>\n",
       "      <td>0.069227</td>\n",
       "    </tr>\n",
       "    <tr>\n",
       "      <th>68</th>\n",
       "      <td>BUR_BB_last10_STATUS_AggMean_AggMean</td>\n",
       "      <td>1.213465e-01</td>\n",
       "      <td>360.117016</td>\n",
       "      <td>1.0</td>\n",
       "      <td>0.050827</td>\n",
       "    </tr>\n",
       "    <tr>\n",
       "      <th>128</th>\n",
       "      <td>NEW_I_x_DOWN</td>\n",
       "      <td>8.738533e-01</td>\n",
       "      <td>1540.957958</td>\n",
       "      <td>1.0</td>\n",
       "      <td>0.038414</td>\n",
       "    </tr>\n",
       "    <tr>\n",
       "      <th>50</th>\n",
       "      <td>NEW_DOWN_PAYMENT_RATE</td>\n",
       "      <td>3.922905e-01</td>\n",
       "      <td>1159.507889</td>\n",
       "      <td>1.0</td>\n",
       "      <td>0.034623</td>\n",
       "    </tr>\n",
       "    <tr>\n",
       "      <th>51</th>\n",
       "      <td>NEW_CREDIT_TO_GOOD_RATIO</td>\n",
       "      <td>3.922905e-01</td>\n",
       "      <td>1159.507889</td>\n",
       "      <td>1.0</td>\n",
       "      <td>0.012511</td>\n",
       "    </tr>\n",
       "    <tr>\n",
       "      <th>127</th>\n",
       "      <td>INS_NEW_DPD_NORM_AggMean</td>\n",
       "      <td>5.682116e+01</td>\n",
       "      <td>925.934871</td>\n",
       "      <td>1.0</td>\n",
       "      <td>0.008239</td>\n",
       "    </tr>\n",
       "    <tr>\n",
       "      <th>122</th>\n",
       "      <td>INS_last10_NEW_DPD_NORM_AggMean</td>\n",
       "      <td>1.045796e+02</td>\n",
       "      <td>1012.876212</td>\n",
       "      <td>1.0</td>\n",
       "      <td>0.005556</td>\n",
       "    </tr>\n",
       "    <tr>\n",
       "      <th>106</th>\n",
       "      <td>PREV_NEW_DIFF_K_RATIO_AggMax</td>\n",
       "      <td>1.638178e+00</td>\n",
       "      <td>522.495307</td>\n",
       "      <td>1.0</td>\n",
       "      <td>0.004315</td>\n",
       "    </tr>\n",
       "    <tr>\n",
       "      <th>121</th>\n",
       "      <td>INS_last10_NEW_LESS_PAY_NORM_AggMean</td>\n",
       "      <td>2.188597e+00</td>\n",
       "      <td>1067.640274</td>\n",
       "      <td>1.0</td>\n",
       "      <td>0.001411</td>\n",
       "    </tr>\n",
       "    <tr>\n",
       "      <th>108</th>\n",
       "      <td>CC_last10_AMT_BALANCE_AggMean</td>\n",
       "      <td>5.614087e+09</td>\n",
       "      <td>581.095540</td>\n",
       "      <td>1.0</td>\n",
       "      <td>0.000758</td>\n",
       "    </tr>\n",
       "    <tr>\n",
       "      <th>107</th>\n",
       "      <td>PREV_NEW_I_RATE_AggMin</td>\n",
       "      <td>1.066319e+00</td>\n",
       "      <td>899.653804</td>\n",
       "      <td>1.0</td>\n",
       "      <td>0.000622</td>\n",
       "    </tr>\n",
       "    <tr>\n",
       "      <th>126</th>\n",
       "      <td>INS_NEW_LESS_PAY_NORM_AggMean</td>\n",
       "      <td>2.214550e+00</td>\n",
       "      <td>1062.457154</td>\n",
       "      <td>1.0</td>\n",
       "      <td>0.000000</td>\n",
       "    </tr>\n",
       "    <tr>\n",
       "      <th>57</th>\n",
       "      <td>NEW_is_DOCMore</td>\n",
       "      <td>2.064584e-01</td>\n",
       "      <td>485.533345</td>\n",
       "      <td>1.0</td>\n",
       "      <td>0.000000</td>\n",
       "    </tr>\n",
       "    <tr>\n",
       "      <th>109</th>\n",
       "      <td>CC_last10_NEW_SUM_CNT_DRAW_AggSum</td>\n",
       "      <td>1.460027e+03</td>\n",
       "      <td>394.407147</td>\n",
       "      <td>1.0</td>\n",
       "      <td>0.000000</td>\n",
       "    </tr>\n",
       "    <tr>\n",
       "      <th>118</th>\n",
       "      <td>POS_last10_NEW_ACTUAL_LEFT_TO_PAY_AggMean</td>\n",
       "      <td>3.236208e+00</td>\n",
       "      <td>321.487028</td>\n",
       "      <td>1.0</td>\n",
       "      <td>0.000000</td>\n",
       "    </tr>\n",
       "    <tr>\n",
       "      <th>115</th>\n",
       "      <td>CC_NEW_SUM_CNT_DRAW_AggSum</td>\n",
       "      <td>3.285084e+03</td>\n",
       "      <td>246.456322</td>\n",
       "      <td>1.0</td>\n",
       "      <td>0.000000</td>\n",
       "    </tr>\n",
       "    <tr>\n",
       "      <th>49</th>\n",
       "      <td>NEW_CREDIT_TO_ANNUITY_RATIO</td>\n",
       "      <td>4.651529e-01</td>\n",
       "      <td>245.873356</td>\n",
       "      <td>1.0</td>\n",
       "      <td>0.000000</td>\n",
       "    </tr>\n",
       "    <tr>\n",
       "      <th>52</th>\n",
       "      <td>NEW_ANNUITY_TO_INCOME_RATIO</td>\n",
       "      <td>6.824722e-01</td>\n",
       "      <td>48.787083</td>\n",
       "      <td>1.0</td>\n",
       "      <td>0.000000</td>\n",
       "    </tr>\n",
       "    <tr>\n",
       "      <th>116</th>\n",
       "      <td>POS_last10_SK_DPD_AggMean</td>\n",
       "      <td>7.816115e+03</td>\n",
       "      <td>13.718897</td>\n",
       "      <td>1.0</td>\n",
       "      <td>0.000000</td>\n",
       "    </tr>\n",
       "    <tr>\n",
       "      <th>54</th>\n",
       "      <td>NEW_EXT_SOURCES_MEAN</td>\n",
       "      <td>5.133335e-01</td>\n",
       "      <td>12699.754648</td>\n",
       "      <td>2.0</td>\n",
       "      <td>NaN</td>\n",
       "    </tr>\n",
       "    <tr>\n",
       "      <th>56</th>\n",
       "      <td>NEW_is_DOCLess</td>\n",
       "      <td>1.727201e-01</td>\n",
       "      <td>301.216529</td>\n",
       "      <td>2.0</td>\n",
       "      <td>NaN</td>\n",
       "    </tr>\n",
       "    <tr>\n",
       "      <th>117</th>\n",
       "      <td>POS_last10_SK_DPD_DEF_AggMean</td>\n",
       "      <td>2.401819e+02</td>\n",
       "      <td>9.874005</td>\n",
       "      <td>NaN</td>\n",
       "      <td>NaN</td>\n",
       "    </tr>\n",
       "    <tr>\n",
       "      <th>78</th>\n",
       "      <td>BUR_NEW_DEPT_TO_REMDAYS_RATIO_AggMax</td>\n",
       "      <td>1.560664e+02</td>\n",
       "      <td>3.779304</td>\n",
       "      <td>NaN</td>\n",
       "      <td>NaN</td>\n",
       "    </tr>\n",
       "    <tr>\n",
       "      <th>111</th>\n",
       "      <td>CC_last10_SK_DPD_DEF_AggMean</td>\n",
       "      <td>7.807993e+01</td>\n",
       "      <td>3.373182</td>\n",
       "      <td>NaN</td>\n",
       "      <td>NaN</td>\n",
       "    </tr>\n",
       "    <tr>\n",
       "      <th>110</th>\n",
       "      <td>CC_last10_SK_DPD_AggMean</td>\n",
       "      <td>3.569765e+03</td>\n",
       "      <td>0.033202</td>\n",
       "      <td>NaN</td>\n",
       "      <td>NaN</td>\n",
       "    </tr>\n",
       "  </tbody>\n",
       "</table>\n",
       "</div>"
      ],
      "text/plain": [
       "                                       Feature      Variance        Fscore  \\\n",
       "55                              NEW_is_NOT_sth  2.940861e-01    455.678529   \n",
       "53                            NEW_SOURCES_PROD  4.642284e-01   4880.310675   \n",
       "68        BUR_BB_last10_STATUS_AggMean_AggMean  1.213465e-01    360.117016   \n",
       "128                               NEW_I_x_DOWN  8.738533e-01   1540.957958   \n",
       "50                       NEW_DOWN_PAYMENT_RATE  3.922905e-01   1159.507889   \n",
       "51                    NEW_CREDIT_TO_GOOD_RATIO  3.922905e-01   1159.507889   \n",
       "127                   INS_NEW_DPD_NORM_AggMean  5.682116e+01    925.934871   \n",
       "122            INS_last10_NEW_DPD_NORM_AggMean  1.045796e+02   1012.876212   \n",
       "106               PREV_NEW_DIFF_K_RATIO_AggMax  1.638178e+00    522.495307   \n",
       "121       INS_last10_NEW_LESS_PAY_NORM_AggMean  2.188597e+00   1067.640274   \n",
       "108              CC_last10_AMT_BALANCE_AggMean  5.614087e+09    581.095540   \n",
       "107                     PREV_NEW_I_RATE_AggMin  1.066319e+00    899.653804   \n",
       "126              INS_NEW_LESS_PAY_NORM_AggMean  2.214550e+00   1062.457154   \n",
       "57                              NEW_is_DOCMore  2.064584e-01    485.533345   \n",
       "109          CC_last10_NEW_SUM_CNT_DRAW_AggSum  1.460027e+03    394.407147   \n",
       "118  POS_last10_NEW_ACTUAL_LEFT_TO_PAY_AggMean  3.236208e+00    321.487028   \n",
       "115                 CC_NEW_SUM_CNT_DRAW_AggSum  3.285084e+03    246.456322   \n",
       "49                 NEW_CREDIT_TO_ANNUITY_RATIO  4.651529e-01    245.873356   \n",
       "52                 NEW_ANNUITY_TO_INCOME_RATIO  6.824722e-01     48.787083   \n",
       "116                  POS_last10_SK_DPD_AggMean  7.816115e+03     13.718897   \n",
       "54                        NEW_EXT_SOURCES_MEAN  5.133335e-01  12699.754648   \n",
       "56                              NEW_is_DOCLess  1.727201e-01    301.216529   \n",
       "117              POS_last10_SK_DPD_DEF_AggMean  2.401819e+02      9.874005   \n",
       "78        BUR_NEW_DEPT_TO_REMDAYS_RATIO_AggMax  1.560664e+02      3.779304   \n",
       "111               CC_last10_SK_DPD_DEF_AggMean  7.807993e+01      3.373182   \n",
       "110                   CC_last10_SK_DPD_AggMean  3.569765e+03      0.033202   \n",
       "\n",
       "     ranking  Importance  \n",
       "55       1.0    0.196611  \n",
       "53       1.0    0.069227  \n",
       "68       1.0    0.050827  \n",
       "128      1.0    0.038414  \n",
       "50       1.0    0.034623  \n",
       "51       1.0    0.012511  \n",
       "127      1.0    0.008239  \n",
       "122      1.0    0.005556  \n",
       "106      1.0    0.004315  \n",
       "121      1.0    0.001411  \n",
       "108      1.0    0.000758  \n",
       "107      1.0    0.000622  \n",
       "126      1.0    0.000000  \n",
       "57       1.0    0.000000  \n",
       "109      1.0    0.000000  \n",
       "118      1.0    0.000000  \n",
       "115      1.0    0.000000  \n",
       "49       1.0    0.000000  \n",
       "52       1.0    0.000000  \n",
       "116      1.0    0.000000  \n",
       "54       2.0         NaN  \n",
       "56       2.0         NaN  \n",
       "117      NaN         NaN  \n",
       "78       NaN         NaN  \n",
       "111      NaN         NaN  \n",
       "110      NaN         NaN  "
      ]
     },
     "metadata": {},
     "output_type": "display_data"
    }
   ],
   "source": [
    "# put feature selection results in a dataframe\n",
    "\n",
    "# create a dataframe\n",
    "selector_result_df = pd.DataFrame()\n",
    "\n",
    "# get feature names\n",
    "selector_result_df[\"Feature\"]=fullSelectorPipeline[\"columnTransformer\"].get_feature_names_out()\n",
    "selector_result_df[\"Feature\"]=selector_result_df[\"Feature\"].apply(lambda x : x.split(\"__\")[1])\n",
    "\n",
    "# get variances (used in 1st selector VarianceThreshold)\n",
    "selector_result_df[\"Variance\"]=fullSelectorPipeline[\"VarianceSelector\"].variances_\n",
    "\n",
    "# get F statistics (used in 2nd selector SelectPercentile) for features selected in 1st selector\n",
    "varianceTreshold = fullSelectorPipeline[\"VarianceSelector\"].get_params()[\"threshold\"] # get threshold\n",
    "\n",
    "selector_result_df.loc[selector_result_df[\"Variance\"]>varianceTreshold,\"Fscore\"] = \\\n",
    "fullSelectorPipeline[\"FscoreSelector\"].scores_\n",
    "\n",
    "# get ranking (result from 3rd selector RFECV) for features selected in 2nd selector\n",
    "mask = selector_result_df.loc[selector_result_df[\"Fscore\"].notna(),\"Fscore\"] \\\n",
    ".sort_values(ascending=False) \\\n",
    ".head(\n",
    "    len(fullSelectorPipeline[\"RFEselector\"].ranking_)\n",
    ") \\\n",
    ".index\n",
    "\n",
    "selector_result_df.loc[mask,\"ranking\"]=fullSelectorPipeline[\"RFEselector\"].ranking_\n",
    "\n",
    "\n",
    "# get features importances (or coeff) for features selected in 3rd selector\n",
    "if hasattr(fullSelectorPipeline[\"RFEselector\"].estimator_,\"feature_importances_\") :\n",
    "    \n",
    "    selector_result_df.loc[selector_result_df[\"ranking\"]==1,\"Importance\"] = \\\n",
    "    fullSelectorPipeline[\"RFEselector\"].estimator_.feature_importances_\n",
    "    \n",
    "if hasattr(fullSelectorPipeline[\"RFEselector\"].estimator_,\"coef_\") :\n",
    "    selector_result_df.loc[selector_result_df[\"ranking\"]==1,\"Importance\"] = \\\n",
    "    abs(fullSelectorPipeline[\"RFEselector\"].estimator_.coef_[0])\n",
    "\n",
    "print(len(selector_result_df.loc[selector_result_df[\"ranking\"]==1]),\"features sélectionnées.\")\n",
    "\n",
    "mySelectedFeats=selector_result_df.loc[selector_result_df[\"Feature\"].apply(\n",
    "    lambda x : \n",
    "    (\"NEW\" in x) \n",
    "    or \n",
    "    (\"last\" in x)\n",
    ")]\n",
    "print(\"Parmis les features sélectionnées,\",len(mySelectedFeats[mySelectedFeats[\"ranking\"]==1]), \"sont des features composites.\")\n",
    "display(mySelectedFeats.sort_values([\"Importance\",\"Fscore\",\"Variance\"],ascending=False))\n"
   ]
  },
  {
   "cell_type": "code",
   "execution_count": 123,
   "id": "adec466b",
   "metadata": {
    "scrolled": false
   },
   "outputs": [
    {
     "data": {
      "application/vnd.jupyter.widget-view+json": {
       "model_id": "5ae4d99d88e542c08b589028329ea69e",
       "version_major": 2,
       "version_minor": 0
      },
      "text/plain": [
       "VBox(children=(RadioButtons(description='Feature selection step : ', options=('Variance', 'Fscore', 'Importanc…"
      ]
     },
     "metadata": {},
     "output_type": "display_data"
    },
    {
     "data": {
      "application/vnd.jupyter.widget-view+json": {
       "model_id": "c3327fd7507e44f28d9af7005857a0d8",
       "version_major": 2,
       "version_minor": 0
      },
      "text/plain": [
       "Output()"
      ]
     },
     "metadata": {},
     "output_type": "display_data"
    }
   ],
   "source": [
    "steps = [\"Variance\",\"Fscore\",\"ranking\",\"Importance\",\"Importance\"]\n",
    "\n",
    "# create a palette function, one color for each original dataset\n",
    "prefixs = [\"BUR\",\"PREV\",\"CC\",\"INS\",\"POS\",\"APPLI\"]\n",
    "prefixsColors = {prefix:color for color,prefix in zip(sns.color_palette(\"Set2\"),prefixs)}\n",
    "def palette(step,nFeatures) :\n",
    "    '''\n",
    "    return a custom list of colors, one for each of the \"BUR\",\"PREV\",\"CC\",\"INS\",\"POS\",\"main csv\"\n",
    "    \n",
    "    parameter :\n",
    "    -----------\n",
    "    step - str : feature selection step; one of \"Variance\",\"Fscore\",\"ranking\",\"Importance\"\n",
    "    nFeatures - int : number of features to display\n",
    "    \n",
    "    return :\n",
    "    --------\n",
    "    a list en colors from prefixsColors dictionnary\n",
    "    '''\n",
    "    data=selector_result_df.sort_values(step,ascending=True if step != \"Importance\" else False).head(nFeatures)\n",
    "    return [\n",
    "        prefixsColors[col.split(\"_\")[0]] \n",
    "        if col.split(\"_\")[0] in prefixsColors.keys()\n",
    "        else prefixsColors[\"APPLI\"]\n",
    "        for col in data[\"Feature\"].values\n",
    "    ]\n",
    "\n",
    "def greyFeatures(axes,step,nFeatures) :\n",
    "    '''\n",
    "    color the dropped features after a feature selection step in grey\n",
    "    parameters :\n",
    "    ------------\n",
    "    axes : plt axes\n",
    "    step : feature selection step; one of \"Variance\",\"Fscore\",\"ranking\",\"Importance\"\n",
    "    nFeatures - int : number of features to display\n",
    "    '''\n",
    "    data=selector_result_df.sort_values(step,ascending=True if step != \"Importance\" else False).head(nFeatures)\n",
    "    i = steps.index(step) # index of the step\n",
    "    yticklabels=axes.get_yticklabels() # store axes y labels\n",
    "    # duplicate y labels positions\n",
    "    positions = list(range(len(yticklabels)))+list(np.arange(len(yticklabels))+0.00000001)\n",
    "    # duplicate y labels texts as well ...\n",
    "    labels = \\\n",
    "    [ytick.get_text() for ytick in yticklabels] + \\\n",
    "    [ytick.get_text() \n",
    "     if not np.isnan(val) # ... but only if the column name is still in the next step \n",
    "     else \"\" \n",
    "     for ytick,val in zip(\n",
    "         yticklabels,\n",
    "         data[steps[i+1]].values\n",
    "     )]\n",
    "    # apply positions and labels\n",
    "    axes.set_yticks(positions,labels)\n",
    "    \n",
    "    # get initial tick labels and color them\n",
    "    majorTicks = axes.yaxis.get_majorticklabels()\n",
    "    for i in range(len(yticklabels)) :\n",
    "        majorTicks[i].set_color(\"grey\")\n",
    "\n",
    "def xLim(axes,step) :\n",
    "    '''\n",
    "    set xlims for différent features selcetion steps\n",
    "    '''\n",
    "    i = steps.index(step)\n",
    "    xMaxList = [0.005,None,None,None]\n",
    "    axes.set_xlim(0,xMaxList[i])\n",
    "    \n",
    "def vLine(axes,step) :\n",
    "    '''\n",
    "    draw a threshold vertical line, for différent features selcetion steps, if necessary\n",
    "    '''\n",
    "    i = steps.index(step)\n",
    "    xvLine = [\n",
    "        0.001,\n",
    "        selector_result_df.loc[selector_result_df[\"ranking\"].notna(),\"Fscore\"].sort_values().iloc[0],\n",
    "        0,\n",
    "        0]\n",
    "    axes.axvline(x=xvLine[i],ls=':')\n",
    "        \n",
    "def selectorBarPlot(step,nFeatures) :\n",
    "    '''\n",
    "    plot a bar plot with features on y axis and feature selection step values on x axis\n",
    "    \n",
    "    parameters :\n",
    "    ------------\n",
    "    step : feature selection step; one of \"Variance\",\"Fscore\",\"ranking\",\"Importance\"\n",
    "    nFeatures - int : number of features to display\n",
    "    \n",
    "    output :\n",
    "    --------\n",
    "    feature importance barplot\n",
    "    '''\n",
    "    data=selector_result_df.sort_values(step,ascending=step != \"Importance\").head(nFeatures)\n",
    "    fig, ax = plt.subplots(1,figsize=(10,nFeatures*0.22))\n",
    "    sns.barplot(data=data,y=\"Feature\",x=step,ax=ax,palette=palette(step,nFeatures))\n",
    "    ax.set_title(\"Feature selection based on \"+step if step!=\"Importance\" else \"Feature selection from RFECV\\n top\"+str(nFeatures)+\" features\")\n",
    "\n",
    "    # apply custop functions\n",
    "    greyFeatures(ax,step,nFeatures)\n",
    "    xLim(ax,step)\n",
    "    vLine(ax,step)\n",
    "    \n",
    "    # set legend\n",
    "    legendElements = [Patch(facecolor=color,label=prefix) for prefix,color in prefixsColors.items()]\n",
    "    legendElements = [legendElements[-1]]+legendElements[:-1]\n",
    "    ax.legend(handles=legendElements,loc='upper right')\n",
    "    \n",
    "\n",
    "# create widgets\n",
    "widStep = widgets.RadioButtons(\n",
    "        options=[\"Variance\",\"Fscore\",\"Importance\"],\n",
    "        description=\"Feature selection step : \",\n",
    "        style={'description_width': 'initial'}\n",
    "    )\n",
    "widnfeatures = widgets.BoundedIntText(\n",
    "        value=40,\n",
    "        min=0,\n",
    "        max=len(selector_result_df),\n",
    "        description=\"Number of features : \",\n",
    "        disabled=False,\n",
    "        style={'description_width': 'initial'}\n",
    "    )\n",
    "ui = widgets.VBox([widStep,widnfeatures],)\n",
    "\n",
    "# interactive output\n",
    "out=widgets.interactive_output(selectorBarPlot,{\"step\":widStep,\"nFeatures\":widnfeatures})\n",
    "\n",
    "display(ui,out)"
   ]
  },
  {
   "cell_type": "markdown",
   "id": "0af2f9c0",
   "metadata": {},
   "source": [
    "# MODELES : méthodologie<a class=\"anchor\" id=\"15\"></a>"
   ]
  },
  {
   "cell_type": "markdown",
   "id": "3d0eeaff",
   "metadata": {},
   "source": [
    "Nous allons tester différents modèles.\n",
    "\n",
    "Le premier sera de type `dummy` et servira de référence pour pouvoir apprécier les performances des modèles suivants.\n",
    "\n",
    "Pour chaque modèle la méthodologie sera la suivante :\n",
    "- créer un ou des **dictionnaires de d'hyperparamètre à tester**\n",
    "- déterminer les meilleurs **hyperparamètres** par **validation croisée**\n",
    "- créer un **pipeline global** avec ces hyperparamètres\n",
    "- effectuer une **nouvelle validation croisée** pour :\n",
    "    - tester sa capacité de **généralisation**\n",
    "    - **extraire à partir du modèle** l'importance des variables (via `.feature_importance_` ou `.coef_`)"
   ]
  },
  {
   "cell_type": "markdown",
   "id": "cdd68556",
   "metadata": {},
   "source": [
    "Nous allons tout d'abord créer nos `StratifiedKFold` :"
   ]
  },
  {
   "cell_type": "code",
   "execution_count": 124,
   "id": "8ec5a5cf",
   "metadata": {},
   "outputs": [],
   "source": [
    "cvGS = StratifiedKFold(shuffle=True,n_splits=3,random_state=16) # one for hyperparameters tuning"
   ]
  },
  {
   "cell_type": "code",
   "execution_count": 125,
   "id": "3d2d5faa",
   "metadata": {},
   "outputs": [],
   "source": [
    "cvPred = StratifiedKFold(shuffle=True,n_splits=3,random_state=7) # one for generalisation"
   ]
  },
  {
   "cell_type": "markdown",
   "id": "e298a7ff",
   "metadata": {},
   "source": [
    "Nous allons utiliser différentes fonctions spécifiques pour ce projet, qui nous permettront d'aller plus vite :"
   ]
  },
  {
   "cell_type": "markdown",
   "id": "c0d355df",
   "metadata": {},
   "source": [
    "Une pour extraire de notre pipeline le nom des features sélectionnées par notre RFEselector :"
   ]
  },
  {
   "cell_type": "code",
   "execution_count": 126,
   "id": "87b129ed",
   "metadata": {},
   "outputs": [],
   "source": [
    "def extract_features_from_pipe(pipe) :\n",
    "    \n",
    "    '''\n",
    "    custom function to extract features names from the pipeline\n",
    "    \n",
    "    parameter :\n",
    "    -----------\n",
    "    pipe - model pipeline\n",
    "    \n",
    "    output :\n",
    "    --------\n",
    "    array of feature names\n",
    "    '''\n",
    "    \n",
    "    # create a dataframe\n",
    "    features = pd.DataFrame()\n",
    "\n",
    "    # get feature names\n",
    "    features[\"features\"]=pipe[\"columnTransformer\"].get_feature_names_out()\n",
    "    features[\"features\"]=features[\"features\"].apply(lambda x : x.split(\"__\")[1])\n",
    "\n",
    "    # get variances (used in 1st selector VarianceThreshold)\n",
    "    features[\"variances\"]=pipe[\"VarianceSelector\"].variances_\n",
    "\n",
    "    # get F statistics (used in 2nd selector SelectPercentile) for features selected in 1st selector\n",
    "    varianceTreshold = pipe[\"VarianceSelector\"].get_params()[\"threshold\"] # get threshold\n",
    "\n",
    "    features.loc[features[\"variances\"]>varianceTreshold,\"Fscore\"] = \\\n",
    "    pipe[\"FscoreSelector\"].scores_\n",
    "\n",
    "    # get ranking (result from 3rd selector RFECV) for features selected in 2nd selector\n",
    "    percentile=pipe[\"FscoreSelector\"].get_params()[\"percentile\"] # get percentile\n",
    "\n",
    "    mask = features.loc[features[\"Fscore\"].notna(),\"Fscore\"] \\\n",
    "    .sort_values(ascending=False) \\\n",
    "    .head(\n",
    "        len(fullSelectorPipeline[\"RFEselector\"].ranking_)\n",
    "    ) \\\n",
    "    .index\n",
    "\n",
    "    features.loc[mask,\"ranking\"]=pipe[\"RFEselector\"].ranking_\n",
    "    selection = features.loc[features[\"ranking\"]==1,\"features\"]\n",
    "    return selection.values, selection.index"
   ]
  },
  {
   "cell_type": "markdown",
   "id": "9276768d",
   "metadata": {},
   "source": [
    "Une pour réaliser une validation croisée sur le StratifiedKFold `cvPred` (sur lequel nous testons la capacité de généralisation de nos modèles) et déterminer :\n",
    "- les scores \"out of folds\"\n",
    "- l'importance des features via `.feature_importances_` ou `.coef_`\n",
    "- l'average precision\n",
    "- le temps moyen d'apprentissage"
   ]
  },
  {
   "cell_type": "code",
   "execution_count": 127,
   "id": "e08a1e29",
   "metadata": {},
   "outputs": [],
   "source": [
    "def getCrossValProbs_Imp_Results(pipe) :\n",
    "    '''\n",
    "    custum function to compute cross validation probabilities and importances\n",
    "    paramaters :\n",
    "    -----------\n",
    "    pipe - pipline\n",
    "    \n",
    "    output :\n",
    "    --------\n",
    "    meanImportances - dataframe with features names and importances through folds\n",
    "    '''\n",
    "    \n",
    "    # create dataframe to store features names and importances of each fold\n",
    "    impDf = pd.DataFrame()\n",
    "    # create dataframe to store fitting time of each fold\n",
    "    fitTimeList = []\n",
    "    # create series to store results\n",
    "    resultSeries = pd.Series()\n",
    "    # create an array to store probs\n",
    "    yProbCV = np.zeros(len(yTrain))\n",
    "    # iterate on folds\n",
    "    for n_fold,(train_idx, valid_idx)in enumerate(cvPred.split(XTrain,yTrain)) :\n",
    "        # fit\n",
    "        start = time.time()\n",
    "        pipe.fit(XTrain.iloc[train_idx],yTrain.iloc[train_idx])\n",
    "        fitTimeList.append(time.time()-start)\n",
    "        # predict probs\n",
    "        yProbCV[valid_idx] = pipe.predict_proba(XTrain.iloc[valid_idx])[:,1]\n",
    "        # extract features using custom function\n",
    "        features,_ = extract_features_from_pipe(pipe)\n",
    "        # put features and importances in the frame\n",
    "        if hasattr(pipe[\"clf\"],\"feature_importances_\") :\n",
    "            imps = pipe[\"clf\"].feature_importances_.copy()\n",
    "        if hasattr(pipe[\"clf\"],\"coef_\") :\n",
    "            imps = abs(pipe[\"clf\"].coef_.copy()[0])\n",
    "            \n",
    "        for feat,imp in zip(features,imps) :\n",
    "            impDf.loc[feat,'imp_fold'+str(n_fold)]=imp\n",
    "    # compute mean\n",
    "    impDf[\"mean_Importance_(skipping_where_not_selected)\"]=impDf.mean(axis=1)\n",
    "    impDf[\"mean_Importance_(zero_where_not_selected)\"]=impDf.fillna(0).mean(axis=1)\n",
    "    # reset index\n",
    "    impDf=impDf.reset_index(names=\"Feature\")\n",
    "    # store results\n",
    "    resultSeries.loc[\"Average Precision\"] = average_precision_score(y_score=yProbCV,y_true=yTrain) \n",
    "    resultSeries.loc[\"Mean fit time\"]=np.mean(fitTimeList)\n",
    "\n",
    "    \n",
    "    return yProbCV,impDf,resultSeries"
   ]
  },
  {
   "cell_type": "markdown",
   "id": "ed6e95e9",
   "metadata": {},
   "source": [
    "Une pour tracer un barplot avec l'importance des feartures :"
   ]
  },
  {
   "cell_type": "code",
   "execution_count": 128,
   "id": "ca3cdac5",
   "metadata": {},
   "outputs": [],
   "source": [
    "def plotFeatImpWID(importancesTabsList,modelsNamesList,customFeaturesList=[]) :\n",
    "    '''\n",
    "    custom function to plot features importances mean from pipeline(s)\n",
    "    \n",
    "    parameter :\n",
    "    -----------\n",
    "    pipesList - list : models pipelines\n",
    "    modelsNamesList - list : models names\n",
    "    featuresList - list : names of features\n",
    "    customFeaturesList - list : names of created features\n",
    "    \n",
    "    output :\n",
    "    --------\n",
    "    barplot of features importances, with options\n",
    "    '''\n",
    "    # create main func\n",
    "    def plotFeatImp(modelName,nTop=0,onlyTop=False,skip_not_selected=True) :        \n",
    "        i = modelsNamesList.index(modelName) # index of modelName in main list\n",
    "        tab = importancesTabsList[i] # extract tab\n",
    "        importanceColName = tab.columns[-2] if skip_not_selected==True else tab.columns[-1]\n",
    "        \n",
    "        \n",
    "        # create a palette function, one color for each original dataset\n",
    "        prefixs = [\"BUR\",\"PREV\",\"CC\",\"INS\",\"POS\",\"APPLI\"]\n",
    "        prefixsColors = {prefix:color for color,prefix in zip(sns.color_palette(\"Set2\"),prefixs)}\n",
    "        def palette(tab) :\n",
    "            return [\n",
    "                prefixsColors[col.split(\"_\")[0]] \n",
    "                if col.split(\"_\")[0] in prefixsColors.keys()\n",
    "                else prefixsColors[\"APPLI\"]\n",
    "                for col in tab[\"Feature\"].values\n",
    "            ]\n",
    "        \n",
    "        # create a bar edge function, black if the feature is a created one\n",
    "        def edgeColors(tab) :\n",
    "            return [\"k\" if col in customFeaturesList else \"w\" for col in tab[\"Feature\"].values]\n",
    "\n",
    "        # create a barplot function\n",
    "        def barplot(tab,axes) :\n",
    "            sns.barplot(\n",
    "                data=tab,\n",
    "                x=importanceColName,\n",
    "                y=\"Feature\",\n",
    "                ax=axes,\n",
    "                palette=palette(tab),\n",
    "                **{\"edgecolor\":edgeColors(tab)}\n",
    "            )\n",
    "            # set legend\n",
    "            legendElements = [Patch(facecolor=color,label=prefix) for prefix,color in prefixsColors.items()]\n",
    "            legendElements = [legendElements[-1]]+legendElements[:-1]\n",
    "            legendElements.append(Patch(facecolor=\"w\",label=\"my Features\",edgecolor=\"k\"))\n",
    "            axes.legend(handles=legendElements,loc='best')\n",
    "            \n",
    "            # set title\n",
    "            ax.set_title(modelName+\"\\nMean feature importance \\n(model-based)\")\n",
    "            \n",
    "\n",
    "        # manage options\n",
    "        \n",
    "        if nTop>0 : # topN features\n",
    "            \n",
    "            # if we want to plot all features\n",
    "            if onlyTop==False :\n",
    "                fig,ax=plt.subplots(1,1,figsize=(10,0.2*len(tab)))\n",
    "                barplot(tab,ax)\n",
    "                # add a vertical line for nTop importance level\n",
    "                top = tab[importanceColName].sort_values(ascending=False).values[:int(nTop)][-1]\n",
    "                ax.axvline(x=top,**{\"c\":\"k\",\"linestyle\":\":\",\"linewidth\":0.5})\n",
    "                plt.show()\n",
    "            \n",
    "            # else we plot importances only for topN features\n",
    "            else :\n",
    "                tab=tab.sort_values(importanceColName,ascending=False).iloc[:int(nTop),:]\n",
    "                fig,ax=plt.subplots(1,1,figsize=(10,0.2*len(tab)))\n",
    "                barplot(tab,ax)\n",
    "\n",
    "        else : # if no nTop given, regular plot\n",
    "            fig,ax=plt.subplots(1,1,figsize=(10,0.2*len(tab)))\n",
    "            barplot(tab,ax)\n",
    "\n",
    "            \n",
    "    # define widgets for options\n",
    "    \n",
    "    widModelImp = widgets.RadioButtons(\n",
    "        options=modelsNamesList,\n",
    "        value=modelsNamesList[-1],\n",
    "        description=\"\",\n",
    "        disabled=False,\n",
    "        style={'description_width': 'initial'}\n",
    "    )\n",
    "    ui1=widgets.HBox([widgets.Label(\"Model :\"),widModelImp])\n",
    "    \n",
    "   \n",
    "    widTop = widgets.BoundedIntText(\n",
    "        value=30,\n",
    "        min=0,\n",
    "        max=len(importancesTabsList[-1]),\n",
    "        description=\"N top features : \",\n",
    "        disabled=False,\n",
    "        style={'description_width': 'initial'}\n",
    "    )\n",
    "    \n",
    "    widOnlyTop = widgets.Checkbox(\n",
    "        value=True,\n",
    "        description='only top ?',\n",
    "        disabled=False,\n",
    "        style={'description_width': 'initial'}\n",
    "    )\n",
    "    widSkipNotSelected = widgets.Checkbox(\n",
    "        value=True,\n",
    "        description='importance mean, skip not selected times ?',\n",
    "        disabled=False,\n",
    "        style={'description_width': 'initial'}\n",
    "    )\n",
    "    \n",
    "    def handleModelChange(change) :\n",
    "        widTop.max=len(importancesTabsList[modelsNamesList.index(change.new)])\n",
    "    widModelImp.observe(handleModelChange,\"value\")\n",
    "    \n",
    "    # define ui and output\n",
    "    ui2=widgets.HBox([ui1,widSkipNotSelected])\n",
    "    ui3=widgets.HBox([widTop,widOnlyTop])\n",
    "    out = widgets.interactive_output(\n",
    "        plotFeatImp,\n",
    "        {\"modelName\":widModelImp,\"nTop\":widTop,\"onlyTop\":widOnlyTop,\"skip_not_selected\":widSkipNotSelected}\n",
    "    )\n",
    "    \n",
    "    display(ui2,ui3,out)"
   ]
  },
  {
   "cell_type": "markdown",
   "id": "d255068f",
   "metadata": {},
   "source": [
    "# MODELES : modèle de référence naïf - dummy<a class=\"anchor\" id=\"16\"></a>"
   ]
  },
  {
   "cell_type": "markdown",
   "id": "e8165331",
   "metadata": {},
   "source": [
    "Afin d'apprécier les performances des modèles que nous allons entraîner, nous allons tout d'abord entraîner un modèle de référence de type dummy."
   ]
  },
  {
   "cell_type": "code",
   "execution_count": 129,
   "id": "15f891a0",
   "metadata": {},
   "outputs": [
    {
     "data": {
      "text/html": [
       "<style>#sk-container-id-3 {color: black;}#sk-container-id-3 pre{padding: 0;}#sk-container-id-3 div.sk-toggleable {background-color: white;}#sk-container-id-3 label.sk-toggleable__label {cursor: pointer;display: block;width: 100%;margin-bottom: 0;padding: 0.3em;box-sizing: border-box;text-align: center;}#sk-container-id-3 label.sk-toggleable__label-arrow:before {content: \"▸\";float: left;margin-right: 0.25em;color: #696969;}#sk-container-id-3 label.sk-toggleable__label-arrow:hover:before {color: black;}#sk-container-id-3 div.sk-estimator:hover label.sk-toggleable__label-arrow:before {color: black;}#sk-container-id-3 div.sk-toggleable__content {max-height: 0;max-width: 0;overflow: hidden;text-align: left;background-color: #f0f8ff;}#sk-container-id-3 div.sk-toggleable__content pre {margin: 0.2em;color: black;border-radius: 0.25em;background-color: #f0f8ff;}#sk-container-id-3 input.sk-toggleable__control:checked~div.sk-toggleable__content {max-height: 200px;max-width: 100%;overflow: auto;}#sk-container-id-3 input.sk-toggleable__control:checked~label.sk-toggleable__label-arrow:before {content: \"▾\";}#sk-container-id-3 div.sk-estimator input.sk-toggleable__control:checked~label.sk-toggleable__label {background-color: #d4ebff;}#sk-container-id-3 div.sk-label input.sk-toggleable__control:checked~label.sk-toggleable__label {background-color: #d4ebff;}#sk-container-id-3 input.sk-hidden--visually {border: 0;clip: rect(1px 1px 1px 1px);clip: rect(1px, 1px, 1px, 1px);height: 1px;margin: -1px;overflow: hidden;padding: 0;position: absolute;width: 1px;}#sk-container-id-3 div.sk-estimator {font-family: monospace;background-color: #f0f8ff;border: 1px dotted black;border-radius: 0.25em;box-sizing: border-box;margin-bottom: 0.5em;}#sk-container-id-3 div.sk-estimator:hover {background-color: #d4ebff;}#sk-container-id-3 div.sk-parallel-item::after {content: \"\";width: 100%;border-bottom: 1px solid gray;flex-grow: 1;}#sk-container-id-3 div.sk-label:hover label.sk-toggleable__label {background-color: #d4ebff;}#sk-container-id-3 div.sk-serial::before {content: \"\";position: absolute;border-left: 1px solid gray;box-sizing: border-box;top: 0;bottom: 0;left: 50%;z-index: 0;}#sk-container-id-3 div.sk-serial {display: flex;flex-direction: column;align-items: center;background-color: white;padding-right: 0.2em;padding-left: 0.2em;position: relative;}#sk-container-id-3 div.sk-item {position: relative;z-index: 1;}#sk-container-id-3 div.sk-parallel {display: flex;align-items: stretch;justify-content: center;background-color: white;position: relative;}#sk-container-id-3 div.sk-item::before, #sk-container-id-3 div.sk-parallel-item::before {content: \"\";position: absolute;border-left: 1px solid gray;box-sizing: border-box;top: 0;bottom: 0;left: 50%;z-index: -1;}#sk-container-id-3 div.sk-parallel-item {display: flex;flex-direction: column;z-index: 1;position: relative;background-color: white;}#sk-container-id-3 div.sk-parallel-item:first-child::after {align-self: flex-end;width: 50%;}#sk-container-id-3 div.sk-parallel-item:last-child::after {align-self: flex-start;width: 50%;}#sk-container-id-3 div.sk-parallel-item:only-child::after {width: 0;}#sk-container-id-3 div.sk-dashed-wrapped {border: 1px dashed gray;margin: 0 0.4em 0.5em 0.4em;box-sizing: border-box;padding-bottom: 0.4em;background-color: white;}#sk-container-id-3 div.sk-label label {font-family: monospace;font-weight: bold;display: inline-block;line-height: 1.2em;}#sk-container-id-3 div.sk-label-container {text-align: center;}#sk-container-id-3 div.sk-container {/* jupyter's `normalize.less` sets `[hidden] { display: none; }` but bootstrap.min.css set `[hidden] { display: none !important; }` so we also need the `!important` here to be able to override the default hidden behavior on the sphinx rendered scikit-learn.org. See: https://github.com/scikit-learn/scikit-learn/issues/21755 */display: inline-block !important;position: relative;}#sk-container-id-3 div.sk-text-repr-fallback {display: none;}</style><div id=\"sk-container-id-3\" class=\"sk-top-container\"><div class=\"sk-text-repr-fallback\"><pre>DummyClassifier(strategy=&#x27;stratified&#x27;)</pre><b>In a Jupyter environment, please rerun this cell to show the HTML representation or trust the notebook. <br />On GitHub, the HTML representation is unable to render, please try loading this page with nbviewer.org.</b></div><div class=\"sk-container\" hidden><div class=\"sk-item\"><div class=\"sk-estimator sk-toggleable\"><input class=\"sk-toggleable__control sk-hidden--visually\" id=\"sk-estimator-id-35\" type=\"checkbox\" checked><label for=\"sk-estimator-id-35\" class=\"sk-toggleable__label sk-toggleable__label-arrow\">DummyClassifier</label><div class=\"sk-toggleable__content\"><pre>DummyClassifier(strategy=&#x27;stratified&#x27;)</pre></div></div></div></div></div>"
      ],
      "text/plain": [
       "DummyClassifier(strategy='stratified')"
      ]
     },
     "execution_count": 129,
     "metadata": {},
     "output_type": "execute_result"
    }
   ],
   "source": [
    "# initiale a dummy classifier\n",
    "dummy=DummyClassifier(strategy=\"stratified\")\n",
    "# fit on train data\n",
    "dummy.fit(XTrain,yTrain)"
   ]
  },
  {
   "cell_type": "code",
   "execution_count": 130,
   "id": "dab4bbd7",
   "metadata": {},
   "outputs": [],
   "source": [
    "# initiate a timer\n",
    "start=time.time()\n",
    "# compute out of folds scores\n",
    "dummy_yProbCV = cross_val_predict(\n",
    "    estimator=dummy,\n",
    "    X=XTrain,\n",
    "    y=yTrain,\n",
    "    cv=cvPred,\n",
    "    n_jobs=8,\n",
    "    method=\"predict_proba\"\n",
    ")[:,1]\n",
    "# save runtime\n",
    "dummyTime = (time.time()-start)/cvPred.n_splits"
   ]
  },
  {
   "cell_type": "markdown",
   "id": "d356095b",
   "metadata": {},
   "source": [
    "Nous avons donc notre modèles de référence. Nous pouvons initialiser un tableau comparatif de nos modèles :"
   ]
  },
  {
   "cell_type": "code",
   "execution_count": 131,
   "id": "72a1bf3a",
   "metadata": {},
   "outputs": [
    {
     "data": {
      "text/html": [
       "<div>\n",
       "<style scoped>\n",
       "    .dataframe tbody tr th:only-of-type {\n",
       "        vertical-align: middle;\n",
       "    }\n",
       "\n",
       "    .dataframe tbody tr th {\n",
       "        vertical-align: top;\n",
       "    }\n",
       "\n",
       "    .dataframe thead th {\n",
       "        text-align: right;\n",
       "    }\n",
       "</style>\n",
       "<table border=\"1\" class=\"dataframe\">\n",
       "  <thead>\n",
       "    <tr style=\"text-align: right;\">\n",
       "      <th></th>\n",
       "      <th>dummy</th>\n",
       "    </tr>\n",
       "  </thead>\n",
       "  <tbody>\n",
       "    <tr>\n",
       "      <th>Average Precision</th>\n",
       "      <td>0.080909</td>\n",
       "    </tr>\n",
       "    <tr>\n",
       "      <th>Mean fit time</th>\n",
       "      <td>1.868098</td>\n",
       "    </tr>\n",
       "  </tbody>\n",
       "</table>\n",
       "</div>"
      ],
      "text/plain": [
       "                      dummy\n",
       "Average Precision  0.080909\n",
       "Mean fit time      1.868098"
      ]
     },
     "execution_count": 131,
     "metadata": {},
     "output_type": "execute_result"
    }
   ],
   "source": [
    "# initiate a dataframe to store, for each model, ...\n",
    "models_CV_results = pd.DataFrame()\n",
    "# ... the average precision\n",
    "models_CV_results.loc[\"Average Precision\",\"dummy\"] = average_precision_score(y_true=yTrain,y_score=dummy_yProbCV)\n",
    "# ... the runtime\n",
    "models_CV_results.loc[\"Mean fit time\",\"dummy\"] = dummyTime\n",
    "models_CV_results"
   ]
  },
  {
   "cell_type": "markdown",
   "id": "096194c0",
   "metadata": {},
   "source": [
    "Et tracer les courbes ROC et PrecisionRecall.\n",
    "\n",
    "(pour cela nous utilisons une fonction de `myFunctions` permettant de tracer ces deux courbes sur la base des scores issus d'une validation croisée, soit en faisant appel à tous les scores d'un coup, soit en calculant la courbe de chaque fold afin d'en faire la moyenne)."
   ]
  },
  {
   "cell_type": "code",
   "execution_count": 132,
   "id": "9873fb39",
   "metadata": {
    "scrolled": false
   },
   "outputs": [
    {
     "data": {
      "application/vnd.jupyter.widget-view+json": {
       "model_id": "6b4ddb9af05a489aaa7dfc747b666726",
       "version_major": 2,
       "version_minor": 0
      },
      "text/plain": [
       "Dropdown(description='Model :', options=('all', 'dummy'), style=DescriptionStyle(description_width='initial'),…"
      ]
     },
     "metadata": {},
     "output_type": "display_data"
    },
    {
     "data": {
      "application/vnd.jupyter.widget-view+json": {
       "model_id": "6f0570efe41b47f19abf035c1f0afac4",
       "version_major": 2,
       "version_minor": 0
      },
      "text/plain": [
       "Output()"
      ]
     },
     "metadata": {},
     "output_type": "display_data"
    }
   ],
   "source": [
    "# plot ROC and PR curves from CV scores\n",
    "mf.plotROCandPRfromCV_WID (\n",
    "    oofProbList=[dummy_yProbCV],\n",
    "    modelNameList=[\"dummy\"],\n",
    "    Xtrain=XTrain.values,\n",
    "    ytrain=yTrain.values,\n",
    "    kf=cvPred,\n",
    "    palette=None)"
   ]
  },
  {
   "cell_type": "markdown",
   "id": "8f62f3a9",
   "metadata": {},
   "source": [
    "On retouve les courbes classiques pour notre dummy :\n",
    "- la ROC AUC de 0.5 car lorsque l'on abaisse progressivement le seuil de classification, les nouvelles prédictions positives créées ont autant de chance d'être bonne ou mauvaise - le TPR et le FPR augmentent au même rythme.\n",
    "- l'average précision de 0.08 (le taux de TARGET positives) car lorsque l'on abaisse progressivement le seuil, les nouvelles prédictions positives créées :\n",
    "    - font augmenter progessivement le taux de vrais positifs - le Recall augmente\n",
    "    - font augmenter aussi vite le nombre de vrais positifs (le numérateur) que le nombre de prédictions positives (le dénominateur) - la précision ne change pas."
   ]
  },
  {
   "cell_type": "markdown",
   "id": "7850eefb",
   "metadata": {},
   "source": [
    "# MODELES : Random Forest<a class=\"anchor\" id=\"17\"></a>"
   ]
  },
  {
   "cell_type": "markdown",
   "id": "4b070012",
   "metadata": {},
   "source": [
    "Nous allons rechercher les meilleurs hyperparamètres pour un algorithme de forêt aléatoire :"
   ]
  },
  {
   "cell_type": "code",
   "execution_count": 133,
   "id": "03175cd8",
   "metadata": {},
   "outputs": [],
   "source": [
    "RFclf = RandomForestClassifier(n_jobs=8,verbose=1,random_state=3)"
   ]
  },
  {
   "cell_type": "markdown",
   "id": "1ef16f81",
   "metadata": {},
   "source": [
    "Le pipeline général pour ce modèle serait donc :"
   ]
  },
  {
   "cell_type": "code",
   "execution_count": 134,
   "id": "30886814",
   "metadata": {},
   "outputs": [
    {
     "data": {
      "text/html": [
       "<style>#sk-container-id-4 {color: black;}#sk-container-id-4 pre{padding: 0;}#sk-container-id-4 div.sk-toggleable {background-color: white;}#sk-container-id-4 label.sk-toggleable__label {cursor: pointer;display: block;width: 100%;margin-bottom: 0;padding: 0.3em;box-sizing: border-box;text-align: center;}#sk-container-id-4 label.sk-toggleable__label-arrow:before {content: \"▸\";float: left;margin-right: 0.25em;color: #696969;}#sk-container-id-4 label.sk-toggleable__label-arrow:hover:before {color: black;}#sk-container-id-4 div.sk-estimator:hover label.sk-toggleable__label-arrow:before {color: black;}#sk-container-id-4 div.sk-toggleable__content {max-height: 0;max-width: 0;overflow: hidden;text-align: left;background-color: #f0f8ff;}#sk-container-id-4 div.sk-toggleable__content pre {margin: 0.2em;color: black;border-radius: 0.25em;background-color: #f0f8ff;}#sk-container-id-4 input.sk-toggleable__control:checked~div.sk-toggleable__content {max-height: 200px;max-width: 100%;overflow: auto;}#sk-container-id-4 input.sk-toggleable__control:checked~label.sk-toggleable__label-arrow:before {content: \"▾\";}#sk-container-id-4 div.sk-estimator input.sk-toggleable__control:checked~label.sk-toggleable__label {background-color: #d4ebff;}#sk-container-id-4 div.sk-label input.sk-toggleable__control:checked~label.sk-toggleable__label {background-color: #d4ebff;}#sk-container-id-4 input.sk-hidden--visually {border: 0;clip: rect(1px 1px 1px 1px);clip: rect(1px, 1px, 1px, 1px);height: 1px;margin: -1px;overflow: hidden;padding: 0;position: absolute;width: 1px;}#sk-container-id-4 div.sk-estimator {font-family: monospace;background-color: #f0f8ff;border: 1px dotted black;border-radius: 0.25em;box-sizing: border-box;margin-bottom: 0.5em;}#sk-container-id-4 div.sk-estimator:hover {background-color: #d4ebff;}#sk-container-id-4 div.sk-parallel-item::after {content: \"\";width: 100%;border-bottom: 1px solid gray;flex-grow: 1;}#sk-container-id-4 div.sk-label:hover label.sk-toggleable__label {background-color: #d4ebff;}#sk-container-id-4 div.sk-serial::before {content: \"\";position: absolute;border-left: 1px solid gray;box-sizing: border-box;top: 0;bottom: 0;left: 50%;z-index: 0;}#sk-container-id-4 div.sk-serial {display: flex;flex-direction: column;align-items: center;background-color: white;padding-right: 0.2em;padding-left: 0.2em;position: relative;}#sk-container-id-4 div.sk-item {position: relative;z-index: 1;}#sk-container-id-4 div.sk-parallel {display: flex;align-items: stretch;justify-content: center;background-color: white;position: relative;}#sk-container-id-4 div.sk-item::before, #sk-container-id-4 div.sk-parallel-item::before {content: \"\";position: absolute;border-left: 1px solid gray;box-sizing: border-box;top: 0;bottom: 0;left: 50%;z-index: -1;}#sk-container-id-4 div.sk-parallel-item {display: flex;flex-direction: column;z-index: 1;position: relative;background-color: white;}#sk-container-id-4 div.sk-parallel-item:first-child::after {align-self: flex-end;width: 50%;}#sk-container-id-4 div.sk-parallel-item:last-child::after {align-self: flex-start;width: 50%;}#sk-container-id-4 div.sk-parallel-item:only-child::after {width: 0;}#sk-container-id-4 div.sk-dashed-wrapped {border: 1px dashed gray;margin: 0 0.4em 0.5em 0.4em;box-sizing: border-box;padding-bottom: 0.4em;background-color: white;}#sk-container-id-4 div.sk-label label {font-family: monospace;font-weight: bold;display: inline-block;line-height: 1.2em;}#sk-container-id-4 div.sk-label-container {text-align: center;}#sk-container-id-4 div.sk-container {/* jupyter's `normalize.less` sets `[hidden] { display: none; }` but bootstrap.min.css set `[hidden] { display: none !important; }` so we also need the `!important` here to be able to override the default hidden behavior on the sphinx rendered scikit-learn.org. See: https://github.com/scikit-learn/scikit-learn/issues/21755 */display: inline-block !important;position: relative;}#sk-container-id-4 div.sk-text-repr-fallback {display: none;}</style><div id=\"sk-container-id-4\" class=\"sk-top-container\"><div class=\"sk-text-repr-fallback\"><pre>Pipeline(steps=[(&#x27;columnTransformer&#x27;,\n",
       "                 ColumnTransformer(transformers=[(&#x27;numericTransformer&#x27;,\n",
       "                                                  Pipeline(steps=[(&#x27;imputerNum&#x27;,\n",
       "                                                                   SimpleImputer(strategy=&#x27;median&#x27;)),\n",
       "                                                                  (&#x27;scalerNum&#x27;,\n",
       "                                                                   RobustScaler())]),\n",
       "                                                  [&#x27;NAME_CONTRACT_TYPE&#x27;,\n",
       "                                                   &#x27;CODE_GENDER&#x27;,\n",
       "                                                   &#x27;FLAG_OWN_CAR&#x27;,\n",
       "                                                   &#x27;FLAG_OWN_REALTY&#x27;,\n",
       "                                                   &#x27;CNT_CHILDREN&#x27;,\n",
       "                                                   &#x27;AMT_INCOME_TOTAL&#x27;,\n",
       "                                                   &#x27;AMT_CREDIT&#x27;, &#x27;AMT_ANNUITY&#x27;,\n",
       "                                                   &#x27;AMT_GOODS_PRICE&#x27;,\n",
       "                                                   &#x27;REGION_POPULATI...\n",
       "                                                        min_samples_split=0.15,\n",
       "                                                        n_estimators=75,\n",
       "                                                        n_jobs=8,\n",
       "                                                        random_state=16),\n",
       "                       min_features_to_select=70, n_jobs=8,\n",
       "                       scoring=&#x27;average_precision&#x27;, step=0.05, verbose=3)),\n",
       "                (&#x27;overSampler&#x27;, SMOTE(sampling_strategy=0.4)),\n",
       "                (&#x27;underSampler&#x27;,\n",
       "                 RandomUnderSampler(random_state=16, sampling_strategy=0.7)),\n",
       "                (&#x27;clf&#x27;,\n",
       "                 RandomForestClassifier(n_jobs=8, random_state=3, verbose=1))],\n",
       "         verbose=True)</pre><b>In a Jupyter environment, please rerun this cell to show the HTML representation or trust the notebook. <br />On GitHub, the HTML representation is unable to render, please try loading this page with nbviewer.org.</b></div><div class=\"sk-container\" hidden><div class=\"sk-item sk-dashed-wrapped\"><div class=\"sk-label-container\"><div class=\"sk-label sk-toggleable\"><input class=\"sk-toggleable__control sk-hidden--visually\" id=\"sk-estimator-id-36\" type=\"checkbox\" ><label for=\"sk-estimator-id-36\" class=\"sk-toggleable__label sk-toggleable__label-arrow\">Pipeline</label><div class=\"sk-toggleable__content\"><pre>Pipeline(steps=[(&#x27;columnTransformer&#x27;,\n",
       "                 ColumnTransformer(transformers=[(&#x27;numericTransformer&#x27;,\n",
       "                                                  Pipeline(steps=[(&#x27;imputerNum&#x27;,\n",
       "                                                                   SimpleImputer(strategy=&#x27;median&#x27;)),\n",
       "                                                                  (&#x27;scalerNum&#x27;,\n",
       "                                                                   RobustScaler())]),\n",
       "                                                  [&#x27;NAME_CONTRACT_TYPE&#x27;,\n",
       "                                                   &#x27;CODE_GENDER&#x27;,\n",
       "                                                   &#x27;FLAG_OWN_CAR&#x27;,\n",
       "                                                   &#x27;FLAG_OWN_REALTY&#x27;,\n",
       "                                                   &#x27;CNT_CHILDREN&#x27;,\n",
       "                                                   &#x27;AMT_INCOME_TOTAL&#x27;,\n",
       "                                                   &#x27;AMT_CREDIT&#x27;, &#x27;AMT_ANNUITY&#x27;,\n",
       "                                                   &#x27;AMT_GOODS_PRICE&#x27;,\n",
       "                                                   &#x27;REGION_POPULATI...\n",
       "                                                        min_samples_split=0.15,\n",
       "                                                        n_estimators=75,\n",
       "                                                        n_jobs=8,\n",
       "                                                        random_state=16),\n",
       "                       min_features_to_select=70, n_jobs=8,\n",
       "                       scoring=&#x27;average_precision&#x27;, step=0.05, verbose=3)),\n",
       "                (&#x27;overSampler&#x27;, SMOTE(sampling_strategy=0.4)),\n",
       "                (&#x27;underSampler&#x27;,\n",
       "                 RandomUnderSampler(random_state=16, sampling_strategy=0.7)),\n",
       "                (&#x27;clf&#x27;,\n",
       "                 RandomForestClassifier(n_jobs=8, random_state=3, verbose=1))],\n",
       "         verbose=True)</pre></div></div></div><div class=\"sk-serial\"><div class=\"sk-item sk-dashed-wrapped\"><div class=\"sk-label-container\"><div class=\"sk-label sk-toggleable\"><input class=\"sk-toggleable__control sk-hidden--visually\" id=\"sk-estimator-id-37\" type=\"checkbox\" ><label for=\"sk-estimator-id-37\" class=\"sk-toggleable__label sk-toggleable__label-arrow\">columnTransformer: ColumnTransformer</label><div class=\"sk-toggleable__content\"><pre>ColumnTransformer(transformers=[(&#x27;numericTransformer&#x27;,\n",
       "                                 Pipeline(steps=[(&#x27;imputerNum&#x27;,\n",
       "                                                  SimpleImputer(strategy=&#x27;median&#x27;)),\n",
       "                                                 (&#x27;scalerNum&#x27;,\n",
       "                                                  RobustScaler())]),\n",
       "                                 [&#x27;NAME_CONTRACT_TYPE&#x27;, &#x27;CODE_GENDER&#x27;,\n",
       "                                  &#x27;FLAG_OWN_CAR&#x27;, &#x27;FLAG_OWN_REALTY&#x27;,\n",
       "                                  &#x27;CNT_CHILDREN&#x27;, &#x27;AMT_INCOME_TOTAL&#x27;,\n",
       "                                  &#x27;AMT_CREDIT&#x27;, &#x27;AMT_ANNUITY&#x27;,\n",
       "                                  &#x27;AMT_GOODS_PRICE&#x27;,\n",
       "                                  &#x27;REGION_POPULATION_RELATIVE&#x27;, &#x27;DAYS_BIRTH&#x27;,\n",
       "                                  &#x27;DAYS_EMPLO...\n",
       "                                                  SimpleImputer(fill_value=&#x27;missing&#x27;,\n",
       "                                                                strategy=&#x27;constant&#x27;)),\n",
       "                                                 (&#x27;encoderOrdi&#x27;,\n",
       "                                                  OrdinalEncoder(categories=[[&#x27;Lower &#x27;\n",
       "                                                                              &#x27;secondary&#x27;,\n",
       "                                                                              &#x27;Secondary &#x27;\n",
       "                                                                              &#x27;/ &#x27;\n",
       "                                                                              &#x27;secondary &#x27;\n",
       "                                                                              &#x27;special&#x27;,\n",
       "                                                                              &#x27;Incomplete &#x27;\n",
       "                                                                              &#x27;higher&#x27;,\n",
       "                                                                              &#x27;Higher &#x27;\n",
       "                                                                              &#x27;education&#x27;,\n",
       "                                                                              &#x27;Academic &#x27;\n",
       "                                                                              &#x27;degree&#x27;]],\n",
       "                                                                 dtype=&lt;class &#x27;numpy.int8&#x27;&gt;,\n",
       "                                                                 handle_unknown=&#x27;use_encoded_value&#x27;,\n",
       "                                                                 unknown_value=-1)),\n",
       "                                                 (&#x27;scalerOrdi&#x27;,\n",
       "                                                  StandardScaler())]),\n",
       "                                 [&#x27;NAME_EDUCATION_TYPE&#x27;])])</pre></div></div></div><div class=\"sk-parallel\"><div class=\"sk-parallel-item\"><div class=\"sk-item\"><div class=\"sk-label-container\"><div class=\"sk-label sk-toggleable\"><input class=\"sk-toggleable__control sk-hidden--visually\" id=\"sk-estimator-id-38\" type=\"checkbox\" ><label for=\"sk-estimator-id-38\" class=\"sk-toggleable__label sk-toggleable__label-arrow\">numericTransformer</label><div class=\"sk-toggleable__content\"><pre>[&#x27;NAME_CONTRACT_TYPE&#x27;, &#x27;CODE_GENDER&#x27;, &#x27;FLAG_OWN_CAR&#x27;, &#x27;FLAG_OWN_REALTY&#x27;, &#x27;CNT_CHILDREN&#x27;, &#x27;AMT_INCOME_TOTAL&#x27;, &#x27;AMT_CREDIT&#x27;, &#x27;AMT_ANNUITY&#x27;, &#x27;AMT_GOODS_PRICE&#x27;, &#x27;REGION_POPULATION_RELATIVE&#x27;, &#x27;DAYS_BIRTH&#x27;, &#x27;DAYS_EMPLOYED&#x27;, &#x27;DAYS_REGISTRATION&#x27;, &#x27;DAYS_ID_PUBLISH&#x27;, &#x27;OWN_CAR_AGE&#x27;, &#x27;FLAG_MOBIL&#x27;, &#x27;FLAG_EMP_PHONE&#x27;, &#x27;FLAG_WORK_PHONE&#x27;, &#x27;FLAG_CONT_MOBILE&#x27;, &#x27;FLAG_PHONE&#x27;, &#x27;FLAG_EMAIL&#x27;, &#x27;CNT_FAM_MEMBERS&#x27;, &#x27;REGION_RATING_CLIENT&#x27;, &#x27;REGION_RATING_CLIENT_W_CITY&#x27;, &#x27;HOUR_APPR_PROCESS_START&#x27;, &#x27;EXT_SOURCE_1&#x27;, &#x27;EXT_SOURCE_2&#x27;, &#x27;EXT_SOURCE_3&#x27;, &#x27;APARTMENTS_AVG&#x27;, &#x27;BASEMENTAREA_AVG&#x27;, &#x27;YEARS_BEGINEXPLUATATION_AVG&#x27;, &#x27;COMMONAREA_AVG&#x27;, &#x27;ELEVATORS_AVG&#x27;, &#x27;ENTRANCES_AVG&#x27;, &#x27;FLOORSMAX_AVG&#x27;, &#x27;FLOORSMIN_AVG&#x27;, &#x27;LANDAREA_AVG&#x27;, &#x27;LIVINGAREA_AVG&#x27;, &#x27;NONLIVINGAPARTMENTS_AVG&#x27;, &#x27;NONLIVINGAREA_AVG&#x27;, &#x27;YEARS_BEGINEXPLUATATION_MEDI&#x27;, &#x27;EMERGENCYSTATE_MODE&#x27;, &#x27;DAYS_LAST_PHONE_CHANGE&#x27;, &#x27;AMT_REQ_CREDIT_BUREAU_HOUR&#x27;, &#x27;AMT_REQ_CREDIT_BUREAU_DAY&#x27;, &#x27;AMT_REQ_CREDIT_BUREAU_WEEK&#x27;, &#x27;AMT_REQ_CREDIT_BUREAU_MON&#x27;, &#x27;AMT_REQ_CREDIT_BUREAU_QRT&#x27;, &#x27;AMT_REQ_CREDIT_BUREAU_YEAR&#x27;, &#x27;NEW_CREDIT_TO_ANNUITY_RATIO&#x27;, &#x27;NEW_DOWN_PAYMENT_RATE&#x27;, &#x27;NEW_CREDIT_TO_GOOD_RATIO&#x27;, &#x27;NEW_ANNUITY_TO_INCOME_RATIO&#x27;, &#x27;NEW_SOURCES_PROD&#x27;, &#x27;NEW_EXT_SOURCES_MEAN&#x27;, &#x27;NEW_is_NOT_sth&#x27;, &#x27;NEW_is_DOCLess&#x27;, &#x27;NEW_is_DOCMore&#x27;, &#x27;BUR_CREDIT_ACTIVE_Active_AggMean&#x27;, &#x27;BUR_CREDIT_ACTIVE_Bad debt_AggMean&#x27;, &#x27;BUR_CREDIT_ACTIVE_Closed_AggMean&#x27;, &#x27;BUR_CREDIT_ACTIVE_Sold_AggMean&#x27;, &#x27;BUR_CREDIT_ACTIVE_missing_AggMean&#x27;, &#x27;BUR_CREDIT_CURRENCY_currency 1_AggMean&#x27;, &#x27;BUR_CREDIT_CURRENCY_currency 2_AggMean&#x27;, &#x27;BUR_CREDIT_CURRENCY_currency 3_AggMean&#x27;, &#x27;BUR_CREDIT_CURRENCY_currency 4_AggMean&#x27;, &#x27;BUR_CREDIT_CURRENCY_missing_AggMean&#x27;, &#x27;BUR_BB_last10_STATUS_AggMean_AggMean&#x27;, &#x27;BUR_DAYS_CREDIT_AggMean&#x27;, &#x27;BUR_CREDIT_DAY_OVERDUE_AggMean&#x27;, &#x27;BUR_DAYS_CREDIT_ENDDATE_AggMean&#x27;, &#x27;BUR_DAYS_ENDDATE_FACT_AggMean&#x27;, &#x27;BUR_AMT_CREDIT_MAX_OVERDUE_AggMean&#x27;, &#x27;BUR_CNT_CREDIT_PROLONG_AggSum&#x27;, &#x27;BUR_AMT_CREDIT_SUM_AggSum&#x27;, &#x27;BUR_AMT_CREDIT_SUM_DEBT_AggSum&#x27;, &#x27;BUR_AMT_ANNUITY_AggMean&#x27;, &#x27;BUR_NEW_DEPT_TO_REMDAYS_RATIO_AggMax&#x27;, &#x27;PREV_NAME_CONTRACT_TYPE_Cash loans_AggMean&#x27;, &#x27;PREV_NAME_CONTRACT_TYPE_Consumer loans_AggMean&#x27;, &#x27;PREV_NAME_CONTRACT_TYPE_Revolving loans_AggMean&#x27;, &#x27;PREV_NAME_CONTRACT_TYPE_missing_AggMean&#x27;, &#x27;PREV_NAME_CONTRACT_STATUS_Approved_AggMean&#x27;, &#x27;PREV_NAME_CONTRACT_STATUS_Canceled_AggMean&#x27;, &#x27;PREV_NAME_CONTRACT_STATUS_Refused_AggMean&#x27;, &#x27;PREV_NAME_CONTRACT_STATUS_Unused offer_AggMean&#x27;, &#x27;PREV_NAME_CONTRACT_STATUS_missing_AggMean&#x27;, &#x27;PREV_NAME_PAYMENT_TYPE_Cash through the bank_AggMean&#x27;, &#x27;PREV_NAME_PAYMENT_TYPE_Cashless from the account of the employer_AggMean&#x27;, &#x27;PREV_NAME_PAYMENT_TYPE_Non-cash from your account_AggMean&#x27;, &#x27;PREV_NAME_PORTFOLIO_Cars_AggMean&#x27;, &#x27;PREV_NAME_PORTFOLIO_POS_AggMean&#x27;, &#x27;PREV_NAME_PORTFOLIO_missing_AggMean&#x27;, &#x27;PREV_AMT_ANNUITY_AggMax&#x27;, &#x27;PREV_AMT_APPLICATION_AggMin&#x27;, &#x27;PREV_AMT_CREDIT_AggMin&#x27;, &#x27;PREV_DAYS_DECISION_AggMin&#x27;, &#x27;PREV_NAME_CLIENT_TYPE_AggMin&#x27;, &#x27;PREV_NAME_PRODUCT_TYPE_AggMean&#x27;, &#x27;PREV_CNT_PAYMENT_AggMean&#x27;, &#x27;PREV_NAME_YIELD_GROUP_AggMin&#x27;, &#x27;PREV_DAYS_FIRST_DUE_AggMax&#x27;, &#x27;PREV_DAYS_LAST_DUE_1ST_VERSION_AggMax&#x27;, &#x27;PREV_DAYS_LAST_DUE_AggMax&#x27;, &#x27;PREV_NFLAG_INSURED_ON_APPROVAL_AggMean&#x27;, &#x27;PREV_NEW_DIFF_K_RATIO_AggMax&#x27;, &#x27;PREV_NEW_I_RATE_AggMin&#x27;, &#x27;CC_last10_AMT_BALANCE_AggMean&#x27;, &#x27;CC_last10_NEW_SUM_CNT_DRAW_AggSum&#x27;, &#x27;CC_last10_SK_DPD_AggMean&#x27;, &#x27;CC_last10_SK_DPD_DEF_AggMean&#x27;, &#x27;CC_AMT_BALANCE_AggMean&#x27;, &#x27;CC_SK_DPD_AggMean&#x27;, &#x27;CC_SK_DPD_DEF_AggMean&#x27;, &#x27;CC_NEW_SUM_CNT_DRAW_AggSum&#x27;, &#x27;POS_last10_SK_DPD_AggMean&#x27;, &#x27;POS_last10_SK_DPD_DEF_AggMean&#x27;, &#x27;POS_last10_NEW_ACTUAL_LEFT_TO_PAY_AggMean&#x27;, &#x27;POS_SK_DPD_AggMean&#x27;, &#x27;POS_SK_DPD_DEF_AggMean&#x27;, &#x27;INS_last10_NEW_LESS_PAY_NORM_AggMean&#x27;, &#x27;INS_last10_NEW_DPD_NORM_AggMean&#x27;, &#x27;INS_DAYS_ENTRY_PAYMENT_AggMean&#x27;, &#x27;INS_AMT_INSTALMENT_AggMean&#x27;, &#x27;INS_AMT_PAYMENT_AggMean&#x27;, &#x27;INS_NEW_LESS_PAY_NORM_AggMean&#x27;, &#x27;INS_NEW_DPD_NORM_AggMean&#x27;, &#x27;NEW_I_x_DOWN&#x27;]</pre></div></div></div><div class=\"sk-serial\"><div class=\"sk-item\"><div class=\"sk-serial\"><div class=\"sk-item\"><div class=\"sk-estimator sk-toggleable\"><input class=\"sk-toggleable__control sk-hidden--visually\" id=\"sk-estimator-id-39\" type=\"checkbox\" ><label for=\"sk-estimator-id-39\" class=\"sk-toggleable__label sk-toggleable__label-arrow\">SimpleImputer</label><div class=\"sk-toggleable__content\"><pre>SimpleImputer(strategy=&#x27;median&#x27;)</pre></div></div></div><div class=\"sk-item\"><div class=\"sk-estimator sk-toggleable\"><input class=\"sk-toggleable__control sk-hidden--visually\" id=\"sk-estimator-id-40\" type=\"checkbox\" ><label for=\"sk-estimator-id-40\" class=\"sk-toggleable__label sk-toggleable__label-arrow\">RobustScaler</label><div class=\"sk-toggleable__content\"><pre>RobustScaler()</pre></div></div></div></div></div></div></div></div><div class=\"sk-parallel-item\"><div class=\"sk-item\"><div class=\"sk-label-container\"><div class=\"sk-label sk-toggleable\"><input class=\"sk-toggleable__control sk-hidden--visually\" id=\"sk-estimator-id-41\" type=\"checkbox\" ><label for=\"sk-estimator-id-41\" class=\"sk-toggleable__label sk-toggleable__label-arrow\">highCardiTransformer</label><div class=\"sk-toggleable__content\"><pre>[&#x27;NAME_TYPE_SUITE&#x27;, &#x27;NAME_INCOME_TYPE&#x27;, &#x27;OCCUPATION_TYPE&#x27;, &#x27;WEEKDAY_APPR_PROCESS_START&#x27;, &#x27;ORGANIZATION_TYPE&#x27;, &#x27;WALLSMATERIAL_MODE&#x27;, &#x27;BUR_CREDIT_TYPE_AggMymode&#x27;, &#x27;PREV_NAME_CASH_LOAN_PURPOSE_AggMymode&#x27;, &#x27;PREV_NAME_GOODS_CATEGORY_AggMymode&#x27;, &#x27;PREV_PRODUCT_COMBINATION_AggMymode&#x27;, &#x27;PREV_WEEKDAY_APPR_PROCESS_START_AggMymode&#x27;, &#x27;PREV_CODE_REJECT_REASON_AggMymode&#x27;, &#x27;PREV_NAME_TYPE_SUITE_AggMymode&#x27;, &#x27;PREV_CHANNEL_TYPE_AggMymode&#x27;, &#x27;PREV_NAME_SELLER_INDUSTRY_AggMymode&#x27;, &#x27;CC_NAME_CONTRACT_STATUS_AggMymode&#x27;, &#x27;POS_NAME_CONTRACT_STATUS_AggMymode&#x27;]</pre></div></div></div><div class=\"sk-serial\"><div class=\"sk-item\"><div class=\"sk-serial\"><div class=\"sk-item\"><div class=\"sk-estimator sk-toggleable\"><input class=\"sk-toggleable__control sk-hidden--visually\" id=\"sk-estimator-id-42\" type=\"checkbox\" ><label for=\"sk-estimator-id-42\" class=\"sk-toggleable__label sk-toggleable__label-arrow\">SimpleImputer</label><div class=\"sk-toggleable__content\"><pre>SimpleImputer(fill_value=&#x27;missing&#x27;, strategy=&#x27;constant&#x27;)</pre></div></div></div><div class=\"sk-item\"><div class=\"sk-estimator sk-toggleable\"><input class=\"sk-toggleable__control sk-hidden--visually\" id=\"sk-estimator-id-43\" type=\"checkbox\" ><label for=\"sk-estimator-id-43\" class=\"sk-toggleable__label sk-toggleable__label-arrow\">TargetEncoder</label><div class=\"sk-toggleable__content\"><pre>TargetEncoder()</pre></div></div></div><div class=\"sk-item\"><div class=\"sk-estimator sk-toggleable\"><input class=\"sk-toggleable__control sk-hidden--visually\" id=\"sk-estimator-id-44\" type=\"checkbox\" ><label for=\"sk-estimator-id-44\" class=\"sk-toggleable__label sk-toggleable__label-arrow\">StandardScaler</label><div class=\"sk-toggleable__content\"><pre>StandardScaler()</pre></div></div></div></div></div></div></div></div><div class=\"sk-parallel-item\"><div class=\"sk-item\"><div class=\"sk-label-container\"><div class=\"sk-label sk-toggleable\"><input class=\"sk-toggleable__control sk-hidden--visually\" id=\"sk-estimator-id-45\" type=\"checkbox\" ><label for=\"sk-estimator-id-45\" class=\"sk-toggleable__label sk-toggleable__label-arrow\">nomiTransformer</label><div class=\"sk-toggleable__content\"><pre>[&#x27;NAME_FAMILY_STATUS&#x27;, &#x27;NAME_HOUSING_TYPE&#x27;, &#x27;FONDKAPREMONT_MODE&#x27;, &#x27;HOUSETYPE_MODE&#x27;]</pre></div></div></div><div class=\"sk-serial\"><div class=\"sk-item\"><div class=\"sk-serial\"><div class=\"sk-item\"><div class=\"sk-estimator sk-toggleable\"><input class=\"sk-toggleable__control sk-hidden--visually\" id=\"sk-estimator-id-46\" type=\"checkbox\" ><label for=\"sk-estimator-id-46\" class=\"sk-toggleable__label sk-toggleable__label-arrow\">SimpleImputer</label><div class=\"sk-toggleable__content\"><pre>SimpleImputer(fill_value=&#x27;missing&#x27;, strategy=&#x27;constant&#x27;)</pre></div></div></div><div class=\"sk-item\"><div class=\"sk-estimator sk-toggleable\"><input class=\"sk-toggleable__control sk-hidden--visually\" id=\"sk-estimator-id-47\" type=\"checkbox\" ><label for=\"sk-estimator-id-47\" class=\"sk-toggleable__label sk-toggleable__label-arrow\">OneHotEncoder</label><div class=\"sk-toggleable__content\"><pre>OneHotEncoder(drop=&#x27;first&#x27;, dtype=&lt;class &#x27;numpy.int8&#x27;&gt;, handle_unknown=&#x27;ignore&#x27;)</pre></div></div></div></div></div></div></div></div><div class=\"sk-parallel-item\"><div class=\"sk-item\"><div class=\"sk-label-container\"><div class=\"sk-label sk-toggleable\"><input class=\"sk-toggleable__control sk-hidden--visually\" id=\"sk-estimator-id-48\" type=\"checkbox\" ><label for=\"sk-estimator-id-48\" class=\"sk-toggleable__label sk-toggleable__label-arrow\">ordiTransformer</label><div class=\"sk-toggleable__content\"><pre>[&#x27;NAME_EDUCATION_TYPE&#x27;]</pre></div></div></div><div class=\"sk-serial\"><div class=\"sk-item\"><div class=\"sk-serial\"><div class=\"sk-item\"><div class=\"sk-estimator sk-toggleable\"><input class=\"sk-toggleable__control sk-hidden--visually\" id=\"sk-estimator-id-49\" type=\"checkbox\" ><label for=\"sk-estimator-id-49\" class=\"sk-toggleable__label sk-toggleable__label-arrow\">SimpleImputer</label><div class=\"sk-toggleable__content\"><pre>SimpleImputer(fill_value=&#x27;missing&#x27;, strategy=&#x27;constant&#x27;)</pre></div></div></div><div class=\"sk-item\"><div class=\"sk-estimator sk-toggleable\"><input class=\"sk-toggleable__control sk-hidden--visually\" id=\"sk-estimator-id-50\" type=\"checkbox\" ><label for=\"sk-estimator-id-50\" class=\"sk-toggleable__label sk-toggleable__label-arrow\">OrdinalEncoder</label><div class=\"sk-toggleable__content\"><pre>OrdinalEncoder(categories=[[&#x27;Lower secondary&#x27;, &#x27;Secondary / secondary special&#x27;,\n",
       "                            &#x27;Incomplete higher&#x27;, &#x27;Higher education&#x27;,\n",
       "                            &#x27;Academic degree&#x27;]],\n",
       "               dtype=&lt;class &#x27;numpy.int8&#x27;&gt;, handle_unknown=&#x27;use_encoded_value&#x27;,\n",
       "               unknown_value=-1)</pre></div></div></div><div class=\"sk-item\"><div class=\"sk-estimator sk-toggleable\"><input class=\"sk-toggleable__control sk-hidden--visually\" id=\"sk-estimator-id-51\" type=\"checkbox\" ><label for=\"sk-estimator-id-51\" class=\"sk-toggleable__label sk-toggleable__label-arrow\">StandardScaler</label><div class=\"sk-toggleable__content\"><pre>StandardScaler()</pre></div></div></div></div></div></div></div></div></div></div><div class=\"sk-item\"><div class=\"sk-estimator sk-toggleable\"><input class=\"sk-toggleable__control sk-hidden--visually\" id=\"sk-estimator-id-52\" type=\"checkbox\" ><label for=\"sk-estimator-id-52\" class=\"sk-toggleable__label sk-toggleable__label-arrow\">VarianceThreshold</label><div class=\"sk-toggleable__content\"><pre>VarianceThreshold(threshold=0.001)</pre></div></div></div><div class=\"sk-item\"><div class=\"sk-estimator sk-toggleable\"><input class=\"sk-toggleable__control sk-hidden--visually\" id=\"sk-estimator-id-53\" type=\"checkbox\" ><label for=\"sk-estimator-id-53\" class=\"sk-toggleable__label sk-toggleable__label-arrow\">SelectPercentile</label><div class=\"sk-toggleable__content\"><pre>SelectPercentile(percentile=80)</pre></div></div></div><div class=\"sk-item sk-dashed-wrapped\"><div class=\"sk-label-container\"><div class=\"sk-label sk-toggleable\"><input class=\"sk-toggleable__control sk-hidden--visually\" id=\"sk-estimator-id-54\" type=\"checkbox\" ><label for=\"sk-estimator-id-54\" class=\"sk-toggleable__label sk-toggleable__label-arrow\">RFEselector: RFECV</label><div class=\"sk-toggleable__content\"><pre>RFECV(cv=StratifiedKFold(n_splits=3, random_state=3, shuffle=True),\n",
       "      estimator=RandomForestClassifier(class_weight=&#x27;balanced&#x27;, max_depth=4,\n",
       "                                       max_leaf_nodes=45, max_samples=0.5,\n",
       "                                       min_samples_split=0.15, n_estimators=75,\n",
       "                                       n_jobs=8, random_state=16),\n",
       "      min_features_to_select=70, n_jobs=8, scoring=&#x27;average_precision&#x27;,\n",
       "      step=0.05, verbose=3)</pre></div></div></div><div class=\"sk-parallel\"><div class=\"sk-parallel-item\"><div class=\"sk-item\"><div class=\"sk-label-container\"><div class=\"sk-label sk-toggleable\"><input class=\"sk-toggleable__control sk-hidden--visually\" id=\"sk-estimator-id-55\" type=\"checkbox\" ><label for=\"sk-estimator-id-55\" class=\"sk-toggleable__label sk-toggleable__label-arrow\">estimator: RandomForestClassifier</label><div class=\"sk-toggleable__content\"><pre>RandomForestClassifier(class_weight=&#x27;balanced&#x27;, max_depth=4, max_leaf_nodes=45,\n",
       "                       max_samples=0.5, min_samples_split=0.15, n_estimators=75,\n",
       "                       n_jobs=8, random_state=16)</pre></div></div></div><div class=\"sk-serial\"><div class=\"sk-item\"><div class=\"sk-estimator sk-toggleable\"><input class=\"sk-toggleable__control sk-hidden--visually\" id=\"sk-estimator-id-56\" type=\"checkbox\" ><label for=\"sk-estimator-id-56\" class=\"sk-toggleable__label sk-toggleable__label-arrow\">RandomForestClassifier</label><div class=\"sk-toggleable__content\"><pre>RandomForestClassifier(class_weight=&#x27;balanced&#x27;, max_depth=4, max_leaf_nodes=45,\n",
       "                       max_samples=0.5, min_samples_split=0.15, n_estimators=75,\n",
       "                       n_jobs=8, random_state=16)</pre></div></div></div></div></div></div></div></div><div class=\"sk-item\"><div class=\"sk-estimator sk-toggleable\"><input class=\"sk-toggleable__control sk-hidden--visually\" id=\"sk-estimator-id-57\" type=\"checkbox\" ><label for=\"sk-estimator-id-57\" class=\"sk-toggleable__label sk-toggleable__label-arrow\">SMOTE</label><div class=\"sk-toggleable__content\"><pre>SMOTE(sampling_strategy=0.4)</pre></div></div></div><div class=\"sk-item\"><div class=\"sk-estimator sk-toggleable\"><input class=\"sk-toggleable__control sk-hidden--visually\" id=\"sk-estimator-id-58\" type=\"checkbox\" ><label for=\"sk-estimator-id-58\" class=\"sk-toggleable__label sk-toggleable__label-arrow\">RandomUnderSampler</label><div class=\"sk-toggleable__content\"><pre>RandomUnderSampler(random_state=16, sampling_strategy=0.7)</pre></div></div></div><div class=\"sk-item\"><div class=\"sk-estimator sk-toggleable\"><input class=\"sk-toggleable__control sk-hidden--visually\" id=\"sk-estimator-id-59\" type=\"checkbox\" ><label for=\"sk-estimator-id-59\" class=\"sk-toggleable__label sk-toggleable__label-arrow\">RandomForestClassifier</label><div class=\"sk-toggleable__content\"><pre>RandomForestClassifier(n_jobs=8, random_state=3, verbose=1)</pre></div></div></div></div></div></div></div>"
      ],
      "text/plain": [
       "Pipeline(steps=[('columnTransformer',\n",
       "                 ColumnTransformer(transformers=[('numericTransformer',\n",
       "                                                  Pipeline(steps=[('imputerNum',\n",
       "                                                                   SimpleImputer(strategy='median')),\n",
       "                                                                  ('scalerNum',\n",
       "                                                                   RobustScaler())]),\n",
       "                                                  ['NAME_CONTRACT_TYPE',\n",
       "                                                   'CODE_GENDER',\n",
       "                                                   'FLAG_OWN_CAR',\n",
       "                                                   'FLAG_OWN_REALTY',\n",
       "                                                   'CNT_CHILDREN',\n",
       "                                                   'AMT_INCOME_TOTAL',\n",
       "                                                   'AMT_CREDIT', 'AMT_ANNUITY',\n",
       "                                                   'AMT_GOODS_PRICE',\n",
       "                                                   'REGION_POPULATI...\n",
       "                                                        min_samples_split=0.15,\n",
       "                                                        n_estimators=75,\n",
       "                                                        n_jobs=8,\n",
       "                                                        random_state=16),\n",
       "                       min_features_to_select=70, n_jobs=8,\n",
       "                       scoring='average_precision', step=0.05, verbose=3)),\n",
       "                ('overSampler', SMOTE(sampling_strategy=0.4)),\n",
       "                ('underSampler',\n",
       "                 RandomUnderSampler(random_state=16, sampling_strategy=0.7)),\n",
       "                ('clf',\n",
       "                 RandomForestClassifier(n_jobs=8, random_state=3, verbose=1))],\n",
       "         verbose=True)"
      ]
     },
     "execution_count": 134,
     "metadata": {},
     "output_type": "execute_result"
    }
   ],
   "source": [
    "imbPipeline(\n",
    "    [\n",
    "        (\"columnTransformer\",columnTransformer),\n",
    "        (\"VarianceSelector\",VarianceSelector),\n",
    "        (\"FscoreSelector\",FscoreSelector),        \n",
    "        (\"RFEselector\",clone(RFEselector)),\n",
    "        (\"overSampler\",overSampler),\n",
    "        (\"underSampler\",underSampler),\n",
    "        (\"clf\",RFclf)\n",
    "    ],\n",
    "    verbose=True\n",
    ")"
   ]
  },
  {
   "cell_type": "markdown",
   "id": "38ee69c4",
   "metadata": {},
   "source": [
    "Cependant, le `RFESelector`, bien qu'optimisé pour minimiser les temps de calcul, **reste assez long**.\n",
    "Ainsi dans le cadre d'une recherche sur grille, où il est nécessaire d'entraîner le pipeline de nombreuses fois, les temps de calcul seront très long.\n",
    "\n",
    "Nous faisons donc **le choix** de séparer le pipeline en deux au niveau de la feature selection. Nous alimenterons donc **notre recherche sur grille avec un dataset déjà réduit au niveau de l'espace des variables**.\n",
    "\n",
    "Les features sélectionnées seront donc toujours les mêmes, ce qui n'est pas optimal, et dégradera la capacité de généralisation des modèles (overfitting sur les features sélectionnées sur le XTrain global)."
   ]
  },
  {
   "cell_type": "markdown",
   "id": "22c71da1",
   "metadata": {},
   "source": [
    "Nous reprenons donc le `fullSelectorPipeline` que nous avons utilisé précédemment pour le test."
   ]
  },
  {
   "cell_type": "code",
   "execution_count": 135,
   "id": "88573bd0",
   "metadata": {},
   "outputs": [
    {
     "data": {
      "text/html": [
       "<style>#sk-container-id-5 {color: black;}#sk-container-id-5 pre{padding: 0;}#sk-container-id-5 div.sk-toggleable {background-color: white;}#sk-container-id-5 label.sk-toggleable__label {cursor: pointer;display: block;width: 100%;margin-bottom: 0;padding: 0.3em;box-sizing: border-box;text-align: center;}#sk-container-id-5 label.sk-toggleable__label-arrow:before {content: \"▸\";float: left;margin-right: 0.25em;color: #696969;}#sk-container-id-5 label.sk-toggleable__label-arrow:hover:before {color: black;}#sk-container-id-5 div.sk-estimator:hover label.sk-toggleable__label-arrow:before {color: black;}#sk-container-id-5 div.sk-toggleable__content {max-height: 0;max-width: 0;overflow: hidden;text-align: left;background-color: #f0f8ff;}#sk-container-id-5 div.sk-toggleable__content pre {margin: 0.2em;color: black;border-radius: 0.25em;background-color: #f0f8ff;}#sk-container-id-5 input.sk-toggleable__control:checked~div.sk-toggleable__content {max-height: 200px;max-width: 100%;overflow: auto;}#sk-container-id-5 input.sk-toggleable__control:checked~label.sk-toggleable__label-arrow:before {content: \"▾\";}#sk-container-id-5 div.sk-estimator input.sk-toggleable__control:checked~label.sk-toggleable__label {background-color: #d4ebff;}#sk-container-id-5 div.sk-label input.sk-toggleable__control:checked~label.sk-toggleable__label {background-color: #d4ebff;}#sk-container-id-5 input.sk-hidden--visually {border: 0;clip: rect(1px 1px 1px 1px);clip: rect(1px, 1px, 1px, 1px);height: 1px;margin: -1px;overflow: hidden;padding: 0;position: absolute;width: 1px;}#sk-container-id-5 div.sk-estimator {font-family: monospace;background-color: #f0f8ff;border: 1px dotted black;border-radius: 0.25em;box-sizing: border-box;margin-bottom: 0.5em;}#sk-container-id-5 div.sk-estimator:hover {background-color: #d4ebff;}#sk-container-id-5 div.sk-parallel-item::after {content: \"\";width: 100%;border-bottom: 1px solid gray;flex-grow: 1;}#sk-container-id-5 div.sk-label:hover label.sk-toggleable__label {background-color: #d4ebff;}#sk-container-id-5 div.sk-serial::before {content: \"\";position: absolute;border-left: 1px solid gray;box-sizing: border-box;top: 0;bottom: 0;left: 50%;z-index: 0;}#sk-container-id-5 div.sk-serial {display: flex;flex-direction: column;align-items: center;background-color: white;padding-right: 0.2em;padding-left: 0.2em;position: relative;}#sk-container-id-5 div.sk-item {position: relative;z-index: 1;}#sk-container-id-5 div.sk-parallel {display: flex;align-items: stretch;justify-content: center;background-color: white;position: relative;}#sk-container-id-5 div.sk-item::before, #sk-container-id-5 div.sk-parallel-item::before {content: \"\";position: absolute;border-left: 1px solid gray;box-sizing: border-box;top: 0;bottom: 0;left: 50%;z-index: -1;}#sk-container-id-5 div.sk-parallel-item {display: flex;flex-direction: column;z-index: 1;position: relative;background-color: white;}#sk-container-id-5 div.sk-parallel-item:first-child::after {align-self: flex-end;width: 50%;}#sk-container-id-5 div.sk-parallel-item:last-child::after {align-self: flex-start;width: 50%;}#sk-container-id-5 div.sk-parallel-item:only-child::after {width: 0;}#sk-container-id-5 div.sk-dashed-wrapped {border: 1px dashed gray;margin: 0 0.4em 0.5em 0.4em;box-sizing: border-box;padding-bottom: 0.4em;background-color: white;}#sk-container-id-5 div.sk-label label {font-family: monospace;font-weight: bold;display: inline-block;line-height: 1.2em;}#sk-container-id-5 div.sk-label-container {text-align: center;}#sk-container-id-5 div.sk-container {/* jupyter's `normalize.less` sets `[hidden] { display: none; }` but bootstrap.min.css set `[hidden] { display: none !important; }` so we also need the `!important` here to be able to override the default hidden behavior on the sphinx rendered scikit-learn.org. See: https://github.com/scikit-learn/scikit-learn/issues/21755 */display: inline-block !important;position: relative;}#sk-container-id-5 div.sk-text-repr-fallback {display: none;}</style><div id=\"sk-container-id-5\" class=\"sk-top-container\"><div class=\"sk-text-repr-fallback\"><pre>Pipeline(steps=[(&#x27;columnTransformer&#x27;,\n",
       "                 ColumnTransformer(transformers=[(&#x27;numericTransformer&#x27;,\n",
       "                                                  Pipeline(steps=[(&#x27;imputerNum&#x27;,\n",
       "                                                                   SimpleImputer(strategy=&#x27;median&#x27;)),\n",
       "                                                                  (&#x27;scalerNum&#x27;,\n",
       "                                                                   RobustScaler())]),\n",
       "                                                  [&#x27;NAME_CONTRACT_TYPE&#x27;,\n",
       "                                                   &#x27;CODE_GENDER&#x27;,\n",
       "                                                   &#x27;FLAG_OWN_CAR&#x27;,\n",
       "                                                   &#x27;FLAG_OWN_REALTY&#x27;,\n",
       "                                                   &#x27;CNT_CHILDREN&#x27;,\n",
       "                                                   &#x27;AMT_INCOME_TOTAL&#x27;,\n",
       "                                                   &#x27;AMT_CREDIT&#x27;, &#x27;AMT_ANNUITY&#x27;,\n",
       "                                                   &#x27;AMT_GOODS_PRICE&#x27;,\n",
       "                                                   &#x27;REGION_POPULATI...\n",
       "                (&#x27;FscoreSelector&#x27;, SelectPercentile(percentile=80)),\n",
       "                (&#x27;RFEselector&#x27;,\n",
       "                 RFECV(cv=StratifiedKFold(n_splits=3, random_state=3, shuffle=True),\n",
       "                       estimator=RandomForestClassifier(class_weight=&#x27;balanced&#x27;,\n",
       "                                                        max_depth=4,\n",
       "                                                        max_leaf_nodes=45,\n",
       "                                                        max_samples=0.5,\n",
       "                                                        min_samples_split=0.15,\n",
       "                                                        n_estimators=75,\n",
       "                                                        n_jobs=8,\n",
       "                                                        random_state=16),\n",
       "                       min_features_to_select=70, n_jobs=8,\n",
       "                       scoring=&#x27;average_precision&#x27;, step=0.05, verbose=3))])</pre><b>In a Jupyter environment, please rerun this cell to show the HTML representation or trust the notebook. <br />On GitHub, the HTML representation is unable to render, please try loading this page with nbviewer.org.</b></div><div class=\"sk-container\" hidden><div class=\"sk-item sk-dashed-wrapped\"><div class=\"sk-label-container\"><div class=\"sk-label sk-toggleable\"><input class=\"sk-toggleable__control sk-hidden--visually\" id=\"sk-estimator-id-60\" type=\"checkbox\" ><label for=\"sk-estimator-id-60\" class=\"sk-toggleable__label sk-toggleable__label-arrow\">Pipeline</label><div class=\"sk-toggleable__content\"><pre>Pipeline(steps=[(&#x27;columnTransformer&#x27;,\n",
       "                 ColumnTransformer(transformers=[(&#x27;numericTransformer&#x27;,\n",
       "                                                  Pipeline(steps=[(&#x27;imputerNum&#x27;,\n",
       "                                                                   SimpleImputer(strategy=&#x27;median&#x27;)),\n",
       "                                                                  (&#x27;scalerNum&#x27;,\n",
       "                                                                   RobustScaler())]),\n",
       "                                                  [&#x27;NAME_CONTRACT_TYPE&#x27;,\n",
       "                                                   &#x27;CODE_GENDER&#x27;,\n",
       "                                                   &#x27;FLAG_OWN_CAR&#x27;,\n",
       "                                                   &#x27;FLAG_OWN_REALTY&#x27;,\n",
       "                                                   &#x27;CNT_CHILDREN&#x27;,\n",
       "                                                   &#x27;AMT_INCOME_TOTAL&#x27;,\n",
       "                                                   &#x27;AMT_CREDIT&#x27;, &#x27;AMT_ANNUITY&#x27;,\n",
       "                                                   &#x27;AMT_GOODS_PRICE&#x27;,\n",
       "                                                   &#x27;REGION_POPULATI...\n",
       "                (&#x27;FscoreSelector&#x27;, SelectPercentile(percentile=80)),\n",
       "                (&#x27;RFEselector&#x27;,\n",
       "                 RFECV(cv=StratifiedKFold(n_splits=3, random_state=3, shuffle=True),\n",
       "                       estimator=RandomForestClassifier(class_weight=&#x27;balanced&#x27;,\n",
       "                                                        max_depth=4,\n",
       "                                                        max_leaf_nodes=45,\n",
       "                                                        max_samples=0.5,\n",
       "                                                        min_samples_split=0.15,\n",
       "                                                        n_estimators=75,\n",
       "                                                        n_jobs=8,\n",
       "                                                        random_state=16),\n",
       "                       min_features_to_select=70, n_jobs=8,\n",
       "                       scoring=&#x27;average_precision&#x27;, step=0.05, verbose=3))])</pre></div></div></div><div class=\"sk-serial\"><div class=\"sk-item sk-dashed-wrapped\"><div class=\"sk-label-container\"><div class=\"sk-label sk-toggleable\"><input class=\"sk-toggleable__control sk-hidden--visually\" id=\"sk-estimator-id-61\" type=\"checkbox\" ><label for=\"sk-estimator-id-61\" class=\"sk-toggleable__label sk-toggleable__label-arrow\">columnTransformer: ColumnTransformer</label><div class=\"sk-toggleable__content\"><pre>ColumnTransformer(transformers=[(&#x27;numericTransformer&#x27;,\n",
       "                                 Pipeline(steps=[(&#x27;imputerNum&#x27;,\n",
       "                                                  SimpleImputer(strategy=&#x27;median&#x27;)),\n",
       "                                                 (&#x27;scalerNum&#x27;,\n",
       "                                                  RobustScaler())]),\n",
       "                                 [&#x27;NAME_CONTRACT_TYPE&#x27;, &#x27;CODE_GENDER&#x27;,\n",
       "                                  &#x27;FLAG_OWN_CAR&#x27;, &#x27;FLAG_OWN_REALTY&#x27;,\n",
       "                                  &#x27;CNT_CHILDREN&#x27;, &#x27;AMT_INCOME_TOTAL&#x27;,\n",
       "                                  &#x27;AMT_CREDIT&#x27;, &#x27;AMT_ANNUITY&#x27;,\n",
       "                                  &#x27;AMT_GOODS_PRICE&#x27;,\n",
       "                                  &#x27;REGION_POPULATION_RELATIVE&#x27;, &#x27;DAYS_BIRTH&#x27;,\n",
       "                                  &#x27;DAYS_EMPLO...\n",
       "                                                  SimpleImputer(fill_value=&#x27;missing&#x27;,\n",
       "                                                                strategy=&#x27;constant&#x27;)),\n",
       "                                                 (&#x27;encoderOrdi&#x27;,\n",
       "                                                  OrdinalEncoder(categories=[[&#x27;Lower &#x27;\n",
       "                                                                              &#x27;secondary&#x27;,\n",
       "                                                                              &#x27;Secondary &#x27;\n",
       "                                                                              &#x27;/ &#x27;\n",
       "                                                                              &#x27;secondary &#x27;\n",
       "                                                                              &#x27;special&#x27;,\n",
       "                                                                              &#x27;Incomplete &#x27;\n",
       "                                                                              &#x27;higher&#x27;,\n",
       "                                                                              &#x27;Higher &#x27;\n",
       "                                                                              &#x27;education&#x27;,\n",
       "                                                                              &#x27;Academic &#x27;\n",
       "                                                                              &#x27;degree&#x27;]],\n",
       "                                                                 dtype=&lt;class &#x27;numpy.int8&#x27;&gt;,\n",
       "                                                                 handle_unknown=&#x27;use_encoded_value&#x27;,\n",
       "                                                                 unknown_value=-1)),\n",
       "                                                 (&#x27;scalerOrdi&#x27;,\n",
       "                                                  StandardScaler())]),\n",
       "                                 [&#x27;NAME_EDUCATION_TYPE&#x27;])])</pre></div></div></div><div class=\"sk-parallel\"><div class=\"sk-parallel-item\"><div class=\"sk-item\"><div class=\"sk-label-container\"><div class=\"sk-label sk-toggleable\"><input class=\"sk-toggleable__control sk-hidden--visually\" id=\"sk-estimator-id-62\" type=\"checkbox\" ><label for=\"sk-estimator-id-62\" class=\"sk-toggleable__label sk-toggleable__label-arrow\">numericTransformer</label><div class=\"sk-toggleable__content\"><pre>[&#x27;NAME_CONTRACT_TYPE&#x27;, &#x27;CODE_GENDER&#x27;, &#x27;FLAG_OWN_CAR&#x27;, &#x27;FLAG_OWN_REALTY&#x27;, &#x27;CNT_CHILDREN&#x27;, &#x27;AMT_INCOME_TOTAL&#x27;, &#x27;AMT_CREDIT&#x27;, &#x27;AMT_ANNUITY&#x27;, &#x27;AMT_GOODS_PRICE&#x27;, &#x27;REGION_POPULATION_RELATIVE&#x27;, &#x27;DAYS_BIRTH&#x27;, &#x27;DAYS_EMPLOYED&#x27;, &#x27;DAYS_REGISTRATION&#x27;, &#x27;DAYS_ID_PUBLISH&#x27;, &#x27;OWN_CAR_AGE&#x27;, &#x27;FLAG_MOBIL&#x27;, &#x27;FLAG_EMP_PHONE&#x27;, &#x27;FLAG_WORK_PHONE&#x27;, &#x27;FLAG_CONT_MOBILE&#x27;, &#x27;FLAG_PHONE&#x27;, &#x27;FLAG_EMAIL&#x27;, &#x27;CNT_FAM_MEMBERS&#x27;, &#x27;REGION_RATING_CLIENT&#x27;, &#x27;REGION_RATING_CLIENT_W_CITY&#x27;, &#x27;HOUR_APPR_PROCESS_START&#x27;, &#x27;EXT_SOURCE_1&#x27;, &#x27;EXT_SOURCE_2&#x27;, &#x27;EXT_SOURCE_3&#x27;, &#x27;APARTMENTS_AVG&#x27;, &#x27;BASEMENTAREA_AVG&#x27;, &#x27;YEARS_BEGINEXPLUATATION_AVG&#x27;, &#x27;COMMONAREA_AVG&#x27;, &#x27;ELEVATORS_AVG&#x27;, &#x27;ENTRANCES_AVG&#x27;, &#x27;FLOORSMAX_AVG&#x27;, &#x27;FLOORSMIN_AVG&#x27;, &#x27;LANDAREA_AVG&#x27;, &#x27;LIVINGAREA_AVG&#x27;, &#x27;NONLIVINGAPARTMENTS_AVG&#x27;, &#x27;NONLIVINGAREA_AVG&#x27;, &#x27;YEARS_BEGINEXPLUATATION_MEDI&#x27;, &#x27;EMERGENCYSTATE_MODE&#x27;, &#x27;DAYS_LAST_PHONE_CHANGE&#x27;, &#x27;AMT_REQ_CREDIT_BUREAU_HOUR&#x27;, &#x27;AMT_REQ_CREDIT_BUREAU_DAY&#x27;, &#x27;AMT_REQ_CREDIT_BUREAU_WEEK&#x27;, &#x27;AMT_REQ_CREDIT_BUREAU_MON&#x27;, &#x27;AMT_REQ_CREDIT_BUREAU_QRT&#x27;, &#x27;AMT_REQ_CREDIT_BUREAU_YEAR&#x27;, &#x27;NEW_CREDIT_TO_ANNUITY_RATIO&#x27;, &#x27;NEW_DOWN_PAYMENT_RATE&#x27;, &#x27;NEW_CREDIT_TO_GOOD_RATIO&#x27;, &#x27;NEW_ANNUITY_TO_INCOME_RATIO&#x27;, &#x27;NEW_SOURCES_PROD&#x27;, &#x27;NEW_EXT_SOURCES_MEAN&#x27;, &#x27;NEW_is_NOT_sth&#x27;, &#x27;NEW_is_DOCLess&#x27;, &#x27;NEW_is_DOCMore&#x27;, &#x27;BUR_CREDIT_ACTIVE_Active_AggMean&#x27;, &#x27;BUR_CREDIT_ACTIVE_Bad debt_AggMean&#x27;, &#x27;BUR_CREDIT_ACTIVE_Closed_AggMean&#x27;, &#x27;BUR_CREDIT_ACTIVE_Sold_AggMean&#x27;, &#x27;BUR_CREDIT_ACTIVE_missing_AggMean&#x27;, &#x27;BUR_CREDIT_CURRENCY_currency 1_AggMean&#x27;, &#x27;BUR_CREDIT_CURRENCY_currency 2_AggMean&#x27;, &#x27;BUR_CREDIT_CURRENCY_currency 3_AggMean&#x27;, &#x27;BUR_CREDIT_CURRENCY_currency 4_AggMean&#x27;, &#x27;BUR_CREDIT_CURRENCY_missing_AggMean&#x27;, &#x27;BUR_BB_last10_STATUS_AggMean_AggMean&#x27;, &#x27;BUR_DAYS_CREDIT_AggMean&#x27;, &#x27;BUR_CREDIT_DAY_OVERDUE_AggMean&#x27;, &#x27;BUR_DAYS_CREDIT_ENDDATE_AggMean&#x27;, &#x27;BUR_DAYS_ENDDATE_FACT_AggMean&#x27;, &#x27;BUR_AMT_CREDIT_MAX_OVERDUE_AggMean&#x27;, &#x27;BUR_CNT_CREDIT_PROLONG_AggSum&#x27;, &#x27;BUR_AMT_CREDIT_SUM_AggSum&#x27;, &#x27;BUR_AMT_CREDIT_SUM_DEBT_AggSum&#x27;, &#x27;BUR_AMT_ANNUITY_AggMean&#x27;, &#x27;BUR_NEW_DEPT_TO_REMDAYS_RATIO_AggMax&#x27;, &#x27;PREV_NAME_CONTRACT_TYPE_Cash loans_AggMean&#x27;, &#x27;PREV_NAME_CONTRACT_TYPE_Consumer loans_AggMean&#x27;, &#x27;PREV_NAME_CONTRACT_TYPE_Revolving loans_AggMean&#x27;, &#x27;PREV_NAME_CONTRACT_TYPE_missing_AggMean&#x27;, &#x27;PREV_NAME_CONTRACT_STATUS_Approved_AggMean&#x27;, &#x27;PREV_NAME_CONTRACT_STATUS_Canceled_AggMean&#x27;, &#x27;PREV_NAME_CONTRACT_STATUS_Refused_AggMean&#x27;, &#x27;PREV_NAME_CONTRACT_STATUS_Unused offer_AggMean&#x27;, &#x27;PREV_NAME_CONTRACT_STATUS_missing_AggMean&#x27;, &#x27;PREV_NAME_PAYMENT_TYPE_Cash through the bank_AggMean&#x27;, &#x27;PREV_NAME_PAYMENT_TYPE_Cashless from the account of the employer_AggMean&#x27;, &#x27;PREV_NAME_PAYMENT_TYPE_Non-cash from your account_AggMean&#x27;, &#x27;PREV_NAME_PORTFOLIO_Cars_AggMean&#x27;, &#x27;PREV_NAME_PORTFOLIO_POS_AggMean&#x27;, &#x27;PREV_NAME_PORTFOLIO_missing_AggMean&#x27;, &#x27;PREV_AMT_ANNUITY_AggMax&#x27;, &#x27;PREV_AMT_APPLICATION_AggMin&#x27;, &#x27;PREV_AMT_CREDIT_AggMin&#x27;, &#x27;PREV_DAYS_DECISION_AggMin&#x27;, &#x27;PREV_NAME_CLIENT_TYPE_AggMin&#x27;, &#x27;PREV_NAME_PRODUCT_TYPE_AggMean&#x27;, &#x27;PREV_CNT_PAYMENT_AggMean&#x27;, &#x27;PREV_NAME_YIELD_GROUP_AggMin&#x27;, &#x27;PREV_DAYS_FIRST_DUE_AggMax&#x27;, &#x27;PREV_DAYS_LAST_DUE_1ST_VERSION_AggMax&#x27;, &#x27;PREV_DAYS_LAST_DUE_AggMax&#x27;, &#x27;PREV_NFLAG_INSURED_ON_APPROVAL_AggMean&#x27;, &#x27;PREV_NEW_DIFF_K_RATIO_AggMax&#x27;, &#x27;PREV_NEW_I_RATE_AggMin&#x27;, &#x27;CC_last10_AMT_BALANCE_AggMean&#x27;, &#x27;CC_last10_NEW_SUM_CNT_DRAW_AggSum&#x27;, &#x27;CC_last10_SK_DPD_AggMean&#x27;, &#x27;CC_last10_SK_DPD_DEF_AggMean&#x27;, &#x27;CC_AMT_BALANCE_AggMean&#x27;, &#x27;CC_SK_DPD_AggMean&#x27;, &#x27;CC_SK_DPD_DEF_AggMean&#x27;, &#x27;CC_NEW_SUM_CNT_DRAW_AggSum&#x27;, &#x27;POS_last10_SK_DPD_AggMean&#x27;, &#x27;POS_last10_SK_DPD_DEF_AggMean&#x27;, &#x27;POS_last10_NEW_ACTUAL_LEFT_TO_PAY_AggMean&#x27;, &#x27;POS_SK_DPD_AggMean&#x27;, &#x27;POS_SK_DPD_DEF_AggMean&#x27;, &#x27;INS_last10_NEW_LESS_PAY_NORM_AggMean&#x27;, &#x27;INS_last10_NEW_DPD_NORM_AggMean&#x27;, &#x27;INS_DAYS_ENTRY_PAYMENT_AggMean&#x27;, &#x27;INS_AMT_INSTALMENT_AggMean&#x27;, &#x27;INS_AMT_PAYMENT_AggMean&#x27;, &#x27;INS_NEW_LESS_PAY_NORM_AggMean&#x27;, &#x27;INS_NEW_DPD_NORM_AggMean&#x27;, &#x27;NEW_I_x_DOWN&#x27;]</pre></div></div></div><div class=\"sk-serial\"><div class=\"sk-item\"><div class=\"sk-serial\"><div class=\"sk-item\"><div class=\"sk-estimator sk-toggleable\"><input class=\"sk-toggleable__control sk-hidden--visually\" id=\"sk-estimator-id-63\" type=\"checkbox\" ><label for=\"sk-estimator-id-63\" class=\"sk-toggleable__label sk-toggleable__label-arrow\">SimpleImputer</label><div class=\"sk-toggleable__content\"><pre>SimpleImputer(strategy=&#x27;median&#x27;)</pre></div></div></div><div class=\"sk-item\"><div class=\"sk-estimator sk-toggleable\"><input class=\"sk-toggleable__control sk-hidden--visually\" id=\"sk-estimator-id-64\" type=\"checkbox\" ><label for=\"sk-estimator-id-64\" class=\"sk-toggleable__label sk-toggleable__label-arrow\">RobustScaler</label><div class=\"sk-toggleable__content\"><pre>RobustScaler()</pre></div></div></div></div></div></div></div></div><div class=\"sk-parallel-item\"><div class=\"sk-item\"><div class=\"sk-label-container\"><div class=\"sk-label sk-toggleable\"><input class=\"sk-toggleable__control sk-hidden--visually\" id=\"sk-estimator-id-65\" type=\"checkbox\" ><label for=\"sk-estimator-id-65\" class=\"sk-toggleable__label sk-toggleable__label-arrow\">highCardiTransformer</label><div class=\"sk-toggleable__content\"><pre>[&#x27;NAME_TYPE_SUITE&#x27;, &#x27;NAME_INCOME_TYPE&#x27;, &#x27;OCCUPATION_TYPE&#x27;, &#x27;WEEKDAY_APPR_PROCESS_START&#x27;, &#x27;ORGANIZATION_TYPE&#x27;, &#x27;WALLSMATERIAL_MODE&#x27;, &#x27;BUR_CREDIT_TYPE_AggMymode&#x27;, &#x27;PREV_NAME_CASH_LOAN_PURPOSE_AggMymode&#x27;, &#x27;PREV_NAME_GOODS_CATEGORY_AggMymode&#x27;, &#x27;PREV_PRODUCT_COMBINATION_AggMymode&#x27;, &#x27;PREV_WEEKDAY_APPR_PROCESS_START_AggMymode&#x27;, &#x27;PREV_CODE_REJECT_REASON_AggMymode&#x27;, &#x27;PREV_NAME_TYPE_SUITE_AggMymode&#x27;, &#x27;PREV_CHANNEL_TYPE_AggMymode&#x27;, &#x27;PREV_NAME_SELLER_INDUSTRY_AggMymode&#x27;, &#x27;CC_NAME_CONTRACT_STATUS_AggMymode&#x27;, &#x27;POS_NAME_CONTRACT_STATUS_AggMymode&#x27;]</pre></div></div></div><div class=\"sk-serial\"><div class=\"sk-item\"><div class=\"sk-serial\"><div class=\"sk-item\"><div class=\"sk-estimator sk-toggleable\"><input class=\"sk-toggleable__control sk-hidden--visually\" id=\"sk-estimator-id-66\" type=\"checkbox\" ><label for=\"sk-estimator-id-66\" class=\"sk-toggleable__label sk-toggleable__label-arrow\">SimpleImputer</label><div class=\"sk-toggleable__content\"><pre>SimpleImputer(fill_value=&#x27;missing&#x27;, strategy=&#x27;constant&#x27;)</pre></div></div></div><div class=\"sk-item\"><div class=\"sk-estimator sk-toggleable\"><input class=\"sk-toggleable__control sk-hidden--visually\" id=\"sk-estimator-id-67\" type=\"checkbox\" ><label for=\"sk-estimator-id-67\" class=\"sk-toggleable__label sk-toggleable__label-arrow\">TargetEncoder</label><div class=\"sk-toggleable__content\"><pre>TargetEncoder()</pre></div></div></div><div class=\"sk-item\"><div class=\"sk-estimator sk-toggleable\"><input class=\"sk-toggleable__control sk-hidden--visually\" id=\"sk-estimator-id-68\" type=\"checkbox\" ><label for=\"sk-estimator-id-68\" class=\"sk-toggleable__label sk-toggleable__label-arrow\">StandardScaler</label><div class=\"sk-toggleable__content\"><pre>StandardScaler()</pre></div></div></div></div></div></div></div></div><div class=\"sk-parallel-item\"><div class=\"sk-item\"><div class=\"sk-label-container\"><div class=\"sk-label sk-toggleable\"><input class=\"sk-toggleable__control sk-hidden--visually\" id=\"sk-estimator-id-69\" type=\"checkbox\" ><label for=\"sk-estimator-id-69\" class=\"sk-toggleable__label sk-toggleable__label-arrow\">nomiTransformer</label><div class=\"sk-toggleable__content\"><pre>[&#x27;NAME_FAMILY_STATUS&#x27;, &#x27;NAME_HOUSING_TYPE&#x27;, &#x27;FONDKAPREMONT_MODE&#x27;, &#x27;HOUSETYPE_MODE&#x27;]</pre></div></div></div><div class=\"sk-serial\"><div class=\"sk-item\"><div class=\"sk-serial\"><div class=\"sk-item\"><div class=\"sk-estimator sk-toggleable\"><input class=\"sk-toggleable__control sk-hidden--visually\" id=\"sk-estimator-id-70\" type=\"checkbox\" ><label for=\"sk-estimator-id-70\" class=\"sk-toggleable__label sk-toggleable__label-arrow\">SimpleImputer</label><div class=\"sk-toggleable__content\"><pre>SimpleImputer(fill_value=&#x27;missing&#x27;, strategy=&#x27;constant&#x27;)</pre></div></div></div><div class=\"sk-item\"><div class=\"sk-estimator sk-toggleable\"><input class=\"sk-toggleable__control sk-hidden--visually\" id=\"sk-estimator-id-71\" type=\"checkbox\" ><label for=\"sk-estimator-id-71\" class=\"sk-toggleable__label sk-toggleable__label-arrow\">OneHotEncoder</label><div class=\"sk-toggleable__content\"><pre>OneHotEncoder(drop=&#x27;first&#x27;, dtype=&lt;class &#x27;numpy.int8&#x27;&gt;, handle_unknown=&#x27;ignore&#x27;)</pre></div></div></div></div></div></div></div></div><div class=\"sk-parallel-item\"><div class=\"sk-item\"><div class=\"sk-label-container\"><div class=\"sk-label sk-toggleable\"><input class=\"sk-toggleable__control sk-hidden--visually\" id=\"sk-estimator-id-72\" type=\"checkbox\" ><label for=\"sk-estimator-id-72\" class=\"sk-toggleable__label sk-toggleable__label-arrow\">ordiTransformer</label><div class=\"sk-toggleable__content\"><pre>[&#x27;NAME_EDUCATION_TYPE&#x27;]</pre></div></div></div><div class=\"sk-serial\"><div class=\"sk-item\"><div class=\"sk-serial\"><div class=\"sk-item\"><div class=\"sk-estimator sk-toggleable\"><input class=\"sk-toggleable__control sk-hidden--visually\" id=\"sk-estimator-id-73\" type=\"checkbox\" ><label for=\"sk-estimator-id-73\" class=\"sk-toggleable__label sk-toggleable__label-arrow\">SimpleImputer</label><div class=\"sk-toggleable__content\"><pre>SimpleImputer(fill_value=&#x27;missing&#x27;, strategy=&#x27;constant&#x27;)</pre></div></div></div><div class=\"sk-item\"><div class=\"sk-estimator sk-toggleable\"><input class=\"sk-toggleable__control sk-hidden--visually\" id=\"sk-estimator-id-74\" type=\"checkbox\" ><label for=\"sk-estimator-id-74\" class=\"sk-toggleable__label sk-toggleable__label-arrow\">OrdinalEncoder</label><div class=\"sk-toggleable__content\"><pre>OrdinalEncoder(categories=[[&#x27;Lower secondary&#x27;, &#x27;Secondary / secondary special&#x27;,\n",
       "                            &#x27;Incomplete higher&#x27;, &#x27;Higher education&#x27;,\n",
       "                            &#x27;Academic degree&#x27;]],\n",
       "               dtype=&lt;class &#x27;numpy.int8&#x27;&gt;, handle_unknown=&#x27;use_encoded_value&#x27;,\n",
       "               unknown_value=-1)</pre></div></div></div><div class=\"sk-item\"><div class=\"sk-estimator sk-toggleable\"><input class=\"sk-toggleable__control sk-hidden--visually\" id=\"sk-estimator-id-75\" type=\"checkbox\" ><label for=\"sk-estimator-id-75\" class=\"sk-toggleable__label sk-toggleable__label-arrow\">StandardScaler</label><div class=\"sk-toggleable__content\"><pre>StandardScaler()</pre></div></div></div></div></div></div></div></div></div></div><div class=\"sk-item\"><div class=\"sk-estimator sk-toggleable\"><input class=\"sk-toggleable__control sk-hidden--visually\" id=\"sk-estimator-id-76\" type=\"checkbox\" ><label for=\"sk-estimator-id-76\" class=\"sk-toggleable__label sk-toggleable__label-arrow\">VarianceThreshold</label><div class=\"sk-toggleable__content\"><pre>VarianceThreshold(threshold=0.001)</pre></div></div></div><div class=\"sk-item\"><div class=\"sk-estimator sk-toggleable\"><input class=\"sk-toggleable__control sk-hidden--visually\" id=\"sk-estimator-id-77\" type=\"checkbox\" ><label for=\"sk-estimator-id-77\" class=\"sk-toggleable__label sk-toggleable__label-arrow\">SelectPercentile</label><div class=\"sk-toggleable__content\"><pre>SelectPercentile(percentile=80)</pre></div></div></div><div class=\"sk-item sk-dashed-wrapped\"><div class=\"sk-label-container\"><div class=\"sk-label sk-toggleable\"><input class=\"sk-toggleable__control sk-hidden--visually\" id=\"sk-estimator-id-78\" type=\"checkbox\" ><label for=\"sk-estimator-id-78\" class=\"sk-toggleable__label sk-toggleable__label-arrow\">RFEselector: RFECV</label><div class=\"sk-toggleable__content\"><pre>RFECV(cv=StratifiedKFold(n_splits=3, random_state=3, shuffle=True),\n",
       "      estimator=RandomForestClassifier(class_weight=&#x27;balanced&#x27;, max_depth=4,\n",
       "                                       max_leaf_nodes=45, max_samples=0.5,\n",
       "                                       min_samples_split=0.15, n_estimators=75,\n",
       "                                       n_jobs=8, random_state=16),\n",
       "      min_features_to_select=70, n_jobs=8, scoring=&#x27;average_precision&#x27;,\n",
       "      step=0.05, verbose=3)</pre></div></div></div><div class=\"sk-parallel\"><div class=\"sk-parallel-item\"><div class=\"sk-item\"><div class=\"sk-label-container\"><div class=\"sk-label sk-toggleable\"><input class=\"sk-toggleable__control sk-hidden--visually\" id=\"sk-estimator-id-79\" type=\"checkbox\" ><label for=\"sk-estimator-id-79\" class=\"sk-toggleable__label sk-toggleable__label-arrow\">estimator: RandomForestClassifier</label><div class=\"sk-toggleable__content\"><pre>RandomForestClassifier(class_weight=&#x27;balanced&#x27;, max_depth=4, max_leaf_nodes=45,\n",
       "                       max_samples=0.5, min_samples_split=0.15, n_estimators=75,\n",
       "                       n_jobs=8, random_state=16)</pre></div></div></div><div class=\"sk-serial\"><div class=\"sk-item\"><div class=\"sk-estimator sk-toggleable\"><input class=\"sk-toggleable__control sk-hidden--visually\" id=\"sk-estimator-id-80\" type=\"checkbox\" ><label for=\"sk-estimator-id-80\" class=\"sk-toggleable__label sk-toggleable__label-arrow\">RandomForestClassifier</label><div class=\"sk-toggleable__content\"><pre>RandomForestClassifier(class_weight=&#x27;balanced&#x27;, max_depth=4, max_leaf_nodes=45,\n",
       "                       max_samples=0.5, min_samples_split=0.15, n_estimators=75,\n",
       "                       n_jobs=8, random_state=16)</pre></div></div></div></div></div></div></div></div></div></div></div></div>"
      ],
      "text/plain": [
       "Pipeline(steps=[('columnTransformer',\n",
       "                 ColumnTransformer(transformers=[('numericTransformer',\n",
       "                                                  Pipeline(steps=[('imputerNum',\n",
       "                                                                   SimpleImputer(strategy='median')),\n",
       "                                                                  ('scalerNum',\n",
       "                                                                   RobustScaler())]),\n",
       "                                                  ['NAME_CONTRACT_TYPE',\n",
       "                                                   'CODE_GENDER',\n",
       "                                                   'FLAG_OWN_CAR',\n",
       "                                                   'FLAG_OWN_REALTY',\n",
       "                                                   'CNT_CHILDREN',\n",
       "                                                   'AMT_INCOME_TOTAL',\n",
       "                                                   'AMT_CREDIT', 'AMT_ANNUITY',\n",
       "                                                   'AMT_GOODS_PRICE',\n",
       "                                                   'REGION_POPULATI...\n",
       "                ('FscoreSelector', SelectPercentile(percentile=80)),\n",
       "                ('RFEselector',\n",
       "                 RFECV(cv=StratifiedKFold(n_splits=3, random_state=3, shuffle=True),\n",
       "                       estimator=RandomForestClassifier(class_weight='balanced',\n",
       "                                                        max_depth=4,\n",
       "                                                        max_leaf_nodes=45,\n",
       "                                                        max_samples=0.5,\n",
       "                                                        min_samples_split=0.15,\n",
       "                                                        n_estimators=75,\n",
       "                                                        n_jobs=8,\n",
       "                                                        random_state=16),\n",
       "                       min_features_to_select=70, n_jobs=8,\n",
       "                       scoring='average_precision', step=0.05, verbose=3))])"
      ]
     },
     "execution_count": 135,
     "metadata": {},
     "output_type": "execute_result"
    }
   ],
   "source": [
    "fullSelectorPipeline"
   ]
  },
  {
   "cell_type": "code",
   "execution_count": 136,
   "id": "14ca27f6",
   "metadata": {},
   "outputs": [],
   "source": [
    "# store selected features names\n",
    "selectedCols = selector_result_df.loc[selector_result_df[\"ranking\"]==1,\"Feature\"]"
   ]
  },
  {
   "cell_type": "code",
   "execution_count": 137,
   "id": "fd4e5209",
   "metadata": {},
   "outputs": [],
   "source": [
    "XTrainForGS = pd.DataFrame(\n",
    "    fullSelectorPipeline.transform(XTrain), # get only selected features\n",
    "    columns=selectedCols,\n",
    "    index=XTrain.index\n",
    ")"
   ]
  },
  {
   "cell_type": "markdown",
   "id": "37c2c406",
   "metadata": {},
   "source": [
    "Nous avons maintenant le jeu d'entraînement que nous utiliserons pour notre optimisation d'hyperparamètres. Nous pouvons définir maintenant la grille pour notre `Random Forest` :"
   ]
  },
  {
   "cell_type": "code",
   "execution_count": 138,
   "id": "b7092bfe",
   "metadata": {},
   "outputs": [],
   "source": [
    "RFgridSMOTE =({\n",
    "        \"clf__class_weight\":[\n",
    "            \"balanced\",\n",
    "            None\n",
    "            ],\n",
    "        \"clf__max_depth\":[\n",
    "            5,\n",
    "            15,\n",
    "            20\n",
    "            ],\n",
    "        \"clf__min_samples_split\":[\n",
    "            0.001,\n",
    "            0.002,\n",
    "            0.003\n",
    "            ],\n",
    "        \"clf__n_estimators\":[\n",
    "            50,\n",
    "            75,\n",
    "            100\n",
    "            ],\n",
    "        \"clf__max_samples\":[\n",
    "            0.2,\n",
    "            0.5,\n",
    "            0.8,\n",
    "            ],\n",
    "        \"clf__max_features\":[\n",
    "            6,\n",
    "            12,\n",
    "            18,\n",
    "            ],\n",
    "        \"overSampler__sampling_strategy\":[\n",
    "            0.15,\n",
    "            0.30,\n",
    "            0.45,\n",
    "            ],\n",
    "        \"overSampler__k_neighbors\":[\n",
    "            3,\n",
    "            6,\n",
    "            9\n",
    "            ],\n",
    "        \"underSampler__sampling_strategy\":[\n",
    "            0.8,\n",
    "            0.85,\n",
    "            0.9,\n",
    "            ],\n",
    "    },4)\n",
    "\n",
    "RFgridCLASSWEIGHT=({\n",
    "        \"clf__class_weight\":[\n",
    "            \"balanced\",\n",
    "            ],\n",
    "        \"clf__max_depth\":[\n",
    "            10,\n",
    "            15,\n",
    "            20\n",
    "            ],\n",
    "        \"clf__min_samples_split\":[\n",
    "            0.001,\n",
    "            0.002,\n",
    "            0.003\n",
    "            ],\n",
    "        \"clf__n_estimators\":[\n",
    "            50,\n",
    "            75,\n",
    "            100\n",
    "            ],\n",
    "        \"clf__max_samples\":[\n",
    "            0.2,\n",
    "            0.5,\n",
    "            0.8\n",
    "            ],\n",
    "        \"clf__max_features\":[\n",
    "            6,\n",
    "            12,\n",
    "            18,\n",
    "            ],\n",
    "        \"overSampler\":[\n",
    "            \"passthrough\"\n",
    "            ],\n",
    "        \"underSampler\":[\n",
    "            \"passthrough\"\n",
    "            ],\n",
    "    },6)"
   ]
  },
  {
   "cell_type": "markdown",
   "id": "db461eb7",
   "metadata": {},
   "source": [
    "Afin de gagner du temps, nous utiliserons le `BayesSearchCV`.\n",
    "\n",
    "- Cet algorithme diffère de `GridSearchCV` car l'ensemble des combinaisons d'hyperparamètres n'est pas testé. **Le nombre de tests est défini à l'avance**\n",
    "- Cet algorithme diffère également de `RandomizedSearchCV`, qui lui aussi ne teste pas toutes les possibilités, car les combinaisons testées ne le sont pas au hasard mais **prennent en compte les résultats des combinaisons précédentes**"
   ]
  },
  {
   "cell_type": "code",
   "execution_count": 139,
   "id": "a8c271c6",
   "metadata": {},
   "outputs": [],
   "source": [
    "RFOptiSearch = BayesSearchCV(\n",
    "    estimator=imbPipeline(\n",
    "        [\n",
    "            (\"overSampler\",overSampler),\n",
    "            (\"underSampler\",underSampler),\n",
    "            (\"clf\",RFclf)\n",
    "        ],\n",
    "        verbose=True\n",
    "    ),\n",
    "    n_iter=None,\n",
    "    search_spaces=[RFgridSMOTE,RFgridCLASSWEIGHT],\n",
    "    scoring=\"average_precision\",\n",
    "    cv=cvGS,\n",
    "    verbose=3,\n",
    "    n_jobs=8,\n",
    "    refit=False,\n",
    "    random_state=3\n",
    ")"
   ]
  },
  {
   "cell_type": "code",
   "execution_count": 140,
   "id": "10e9be2a",
   "metadata": {
    "scrolled": true
   },
   "outputs": [
    {
     "name": "stdout",
     "output_type": "stream",
     "text": [
      "CPU times: total: 0 ns\n",
      "Wall time: 0 ns\n"
     ]
    }
   ],
   "source": [
    "%%time\n",
    "if not os.path.isdir(\"mySaves/models\") :\n",
    "    os.mkdir(\"mySaves/models\")\n",
    "\n",
    "if (\"RFOptiSearch.joblib\" not in os.listdir(\"mySaves/models\")) or (rapidProcessing==False) :\n",
    "    RFOptiSearch.fit(XTrainForGS,yTrain)\n",
    "    dump(RFOptiSearch,\"mySaves/models/RFOptiSearch.joblib\")\n",
    "\n",
    "else :\n",
    "    RFOptiSearch=load(\"mySaves/models/RFOptiSearch.joblib\")\n"
   ]
  },
  {
   "cell_type": "code",
   "execution_count": 141,
   "id": "4a9b9db7",
   "metadata": {
    "scrolled": false
   },
   "outputs": [],
   "source": [
    "RFOptiSearchResults = pd.DataFrame(RFOptiSearch.cv_results_).sort_values(\"rank_test_score\")"
   ]
  },
  {
   "cell_type": "code",
   "execution_count": 142,
   "id": "b491a9f3",
   "metadata": {
    "scrolled": false
   },
   "outputs": [
    {
     "data": {
      "text/html": [
       "<div>\n",
       "<style scoped>\n",
       "    .dataframe tbody tr th:only-of-type {\n",
       "        vertical-align: middle;\n",
       "    }\n",
       "\n",
       "    .dataframe tbody tr th {\n",
       "        vertical-align: top;\n",
       "    }\n",
       "\n",
       "    .dataframe thead th {\n",
       "        text-align: right;\n",
       "    }\n",
       "</style>\n",
       "<table border=\"1\" class=\"dataframe\">\n",
       "  <thead>\n",
       "    <tr style=\"text-align: right;\">\n",
       "      <th></th>\n",
       "      <th>mean_test_score</th>\n",
       "      <th>rank_test_score</th>\n",
       "      <th>mean_fit_time</th>\n",
       "      <th>std_fit_time</th>\n",
       "      <th>mean_score_time</th>\n",
       "      <th>std_score_time</th>\n",
       "      <th>param_clf__class_weight</th>\n",
       "      <th>param_clf__max_depth</th>\n",
       "      <th>param_clf__max_features</th>\n",
       "      <th>param_clf__max_samples</th>\n",
       "      <th>param_clf__min_samples_split</th>\n",
       "      <th>param_clf__n_estimators</th>\n",
       "      <th>param_overSampler__k_neighbors</th>\n",
       "      <th>param_overSampler__sampling_strategy</th>\n",
       "      <th>param_underSampler__sampling_strategy</th>\n",
       "      <th>param_overSampler</th>\n",
       "      <th>param_underSampler</th>\n",
       "      <th>std_test_score</th>\n",
       "    </tr>\n",
       "  </thead>\n",
       "  <tbody>\n",
       "    <tr>\n",
       "      <th>8</th>\n",
       "      <td>0.239380</td>\n",
       "      <td>1</td>\n",
       "      <td>29.549306</td>\n",
       "      <td>0.316054</td>\n",
       "      <td>0.324220</td>\n",
       "      <td>0.008781</td>\n",
       "      <td>balanced</td>\n",
       "      <td>15</td>\n",
       "      <td>12</td>\n",
       "      <td>0.5</td>\n",
       "      <td>0.002</td>\n",
       "      <td>75</td>\n",
       "      <td>NaN</td>\n",
       "      <td>NaN</td>\n",
       "      <td>NaN</td>\n",
       "      <td>passthrough</td>\n",
       "      <td>passthrough</td>\n",
       "      <td>0.003429</td>\n",
       "    </tr>\n",
       "    <tr>\n",
       "      <th>7</th>\n",
       "      <td>0.239009</td>\n",
       "      <td>2</td>\n",
       "      <td>27.952208</td>\n",
       "      <td>0.525337</td>\n",
       "      <td>0.344028</td>\n",
       "      <td>0.064912</td>\n",
       "      <td>balanced</td>\n",
       "      <td>20</td>\n",
       "      <td>12</td>\n",
       "      <td>0.5</td>\n",
       "      <td>0.003</td>\n",
       "      <td>75</td>\n",
       "      <td>NaN</td>\n",
       "      <td>NaN</td>\n",
       "      <td>NaN</td>\n",
       "      <td>passthrough</td>\n",
       "      <td>passthrough</td>\n",
       "      <td>0.003020</td>\n",
       "    </tr>\n",
       "    <tr>\n",
       "      <th>5</th>\n",
       "      <td>0.236164</td>\n",
       "      <td>3</td>\n",
       "      <td>6.631327</td>\n",
       "      <td>0.400781</td>\n",
       "      <td>0.299773</td>\n",
       "      <td>0.066412</td>\n",
       "      <td>balanced</td>\n",
       "      <td>15</td>\n",
       "      <td>6</td>\n",
       "      <td>0.2</td>\n",
       "      <td>0.002</td>\n",
       "      <td>75</td>\n",
       "      <td>NaN</td>\n",
       "      <td>NaN</td>\n",
       "      <td>NaN</td>\n",
       "      <td>passthrough</td>\n",
       "      <td>passthrough</td>\n",
       "      <td>0.002322</td>\n",
       "    </tr>\n",
       "    <tr>\n",
       "      <th>4</th>\n",
       "      <td>0.235800</td>\n",
       "      <td>4</td>\n",
       "      <td>12.341982</td>\n",
       "      <td>0.367126</td>\n",
       "      <td>0.359472</td>\n",
       "      <td>0.101808</td>\n",
       "      <td>balanced</td>\n",
       "      <td>10</td>\n",
       "      <td>6</td>\n",
       "      <td>0.5</td>\n",
       "      <td>0.001</td>\n",
       "      <td>75</td>\n",
       "      <td>NaN</td>\n",
       "      <td>NaN</td>\n",
       "      <td>NaN</td>\n",
       "      <td>passthrough</td>\n",
       "      <td>passthrough</td>\n",
       "      <td>0.002389</td>\n",
       "    </tr>\n",
       "    <tr>\n",
       "      <th>9</th>\n",
       "      <td>0.235311</td>\n",
       "      <td>5</td>\n",
       "      <td>45.851715</td>\n",
       "      <td>0.642961</td>\n",
       "      <td>0.366923</td>\n",
       "      <td>0.041696</td>\n",
       "      <td>balanced</td>\n",
       "      <td>10</td>\n",
       "      <td>18</td>\n",
       "      <td>0.5</td>\n",
       "      <td>0.001</td>\n",
       "      <td>100</td>\n",
       "      <td>NaN</td>\n",
       "      <td>NaN</td>\n",
       "      <td>NaN</td>\n",
       "      <td>passthrough</td>\n",
       "      <td>passthrough</td>\n",
       "      <td>0.002434</td>\n",
       "    </tr>\n",
       "    <tr>\n",
       "      <th>6</th>\n",
       "      <td>0.234361</td>\n",
       "      <td>6</td>\n",
       "      <td>23.895346</td>\n",
       "      <td>0.495080</td>\n",
       "      <td>0.477824</td>\n",
       "      <td>0.201855</td>\n",
       "      <td>balanced</td>\n",
       "      <td>10</td>\n",
       "      <td>18</td>\n",
       "      <td>0.2</td>\n",
       "      <td>0.001</td>\n",
       "      <td>100</td>\n",
       "      <td>NaN</td>\n",
       "      <td>NaN</td>\n",
       "      <td>NaN</td>\n",
       "      <td>passthrough</td>\n",
       "      <td>passthrough</td>\n",
       "      <td>0.002503</td>\n",
       "    </tr>\n",
       "    <tr>\n",
       "      <th>2</th>\n",
       "      <td>0.228024</td>\n",
       "      <td>7</td>\n",
       "      <td>8.150430</td>\n",
       "      <td>0.138274</td>\n",
       "      <td>0.395002</td>\n",
       "      <td>0.030461</td>\n",
       "      <td>balanced</td>\n",
       "      <td>15</td>\n",
       "      <td>6</td>\n",
       "      <td>0.5</td>\n",
       "      <td>0.001</td>\n",
       "      <td>75</td>\n",
       "      <td>3</td>\n",
       "      <td>0.15</td>\n",
       "      <td>0.85</td>\n",
       "      <td>NaN</td>\n",
       "      <td>NaN</td>\n",
       "      <td>0.003077</td>\n",
       "    </tr>\n",
       "    <tr>\n",
       "      <th>1</th>\n",
       "      <td>0.213287</td>\n",
       "      <td>8</td>\n",
       "      <td>20.150972</td>\n",
       "      <td>0.989314</td>\n",
       "      <td>0.517912</td>\n",
       "      <td>0.307959</td>\n",
       "      <td>None</td>\n",
       "      <td>20</td>\n",
       "      <td>6</td>\n",
       "      <td>0.8</td>\n",
       "      <td>0.002</td>\n",
       "      <td>75</td>\n",
       "      <td>9</td>\n",
       "      <td>0.3</td>\n",
       "      <td>0.85</td>\n",
       "      <td>NaN</td>\n",
       "      <td>NaN</td>\n",
       "      <td>0.004600</td>\n",
       "    </tr>\n",
       "    <tr>\n",
       "      <th>3</th>\n",
       "      <td>0.203287</td>\n",
       "      <td>9</td>\n",
       "      <td>26.998444</td>\n",
       "      <td>0.838595</td>\n",
       "      <td>0.535801</td>\n",
       "      <td>0.204621</td>\n",
       "      <td>balanced</td>\n",
       "      <td>15</td>\n",
       "      <td>6</td>\n",
       "      <td>0.5</td>\n",
       "      <td>0.001</td>\n",
       "      <td>100</td>\n",
       "      <td>6</td>\n",
       "      <td>0.45</td>\n",
       "      <td>0.9</td>\n",
       "      <td>NaN</td>\n",
       "      <td>NaN</td>\n",
       "      <td>0.005045</td>\n",
       "    </tr>\n",
       "    <tr>\n",
       "      <th>0</th>\n",
       "      <td>0.185994</td>\n",
       "      <td>10</td>\n",
       "      <td>15.300756</td>\n",
       "      <td>0.599474</td>\n",
       "      <td>0.299891</td>\n",
       "      <td>0.094594</td>\n",
       "      <td>None</td>\n",
       "      <td>5</td>\n",
       "      <td>12</td>\n",
       "      <td>0.5</td>\n",
       "      <td>0.001</td>\n",
       "      <td>100</td>\n",
       "      <td>9</td>\n",
       "      <td>0.3</td>\n",
       "      <td>0.9</td>\n",
       "      <td>NaN</td>\n",
       "      <td>NaN</td>\n",
       "      <td>0.003363</td>\n",
       "    </tr>\n",
       "  </tbody>\n",
       "</table>\n",
       "</div>"
      ],
      "text/plain": [
       "   mean_test_score  rank_test_score  mean_fit_time  std_fit_time  \\\n",
       "8         0.239380                1      29.549306      0.316054   \n",
       "7         0.239009                2      27.952208      0.525337   \n",
       "5         0.236164                3       6.631327      0.400781   \n",
       "4         0.235800                4      12.341982      0.367126   \n",
       "9         0.235311                5      45.851715      0.642961   \n",
       "6         0.234361                6      23.895346      0.495080   \n",
       "2         0.228024                7       8.150430      0.138274   \n",
       "1         0.213287                8      20.150972      0.989314   \n",
       "3         0.203287                9      26.998444      0.838595   \n",
       "0         0.185994               10      15.300756      0.599474   \n",
       "\n",
       "   mean_score_time  std_score_time param_clf__class_weight  \\\n",
       "8         0.324220        0.008781                balanced   \n",
       "7         0.344028        0.064912                balanced   \n",
       "5         0.299773        0.066412                balanced   \n",
       "4         0.359472        0.101808                balanced   \n",
       "9         0.366923        0.041696                balanced   \n",
       "6         0.477824        0.201855                balanced   \n",
       "2         0.395002        0.030461                balanced   \n",
       "1         0.517912        0.307959                    None   \n",
       "3         0.535801        0.204621                balanced   \n",
       "0         0.299891        0.094594                    None   \n",
       "\n",
       "  param_clf__max_depth param_clf__max_features param_clf__max_samples  \\\n",
       "8                   15                      12                    0.5   \n",
       "7                   20                      12                    0.5   \n",
       "5                   15                       6                    0.2   \n",
       "4                   10                       6                    0.5   \n",
       "9                   10                      18                    0.5   \n",
       "6                   10                      18                    0.2   \n",
       "2                   15                       6                    0.5   \n",
       "1                   20                       6                    0.8   \n",
       "3                   15                       6                    0.5   \n",
       "0                    5                      12                    0.5   \n",
       "\n",
       "  param_clf__min_samples_split param_clf__n_estimators  \\\n",
       "8                        0.002                      75   \n",
       "7                        0.003                      75   \n",
       "5                        0.002                      75   \n",
       "4                        0.001                      75   \n",
       "9                        0.001                     100   \n",
       "6                        0.001                     100   \n",
       "2                        0.001                      75   \n",
       "1                        0.002                      75   \n",
       "3                        0.001                     100   \n",
       "0                        0.001                     100   \n",
       "\n",
       "  param_overSampler__k_neighbors param_overSampler__sampling_strategy  \\\n",
       "8                            NaN                                  NaN   \n",
       "7                            NaN                                  NaN   \n",
       "5                            NaN                                  NaN   \n",
       "4                            NaN                                  NaN   \n",
       "9                            NaN                                  NaN   \n",
       "6                            NaN                                  NaN   \n",
       "2                              3                                 0.15   \n",
       "1                              9                                  0.3   \n",
       "3                              6                                 0.45   \n",
       "0                              9                                  0.3   \n",
       "\n",
       "  param_underSampler__sampling_strategy param_overSampler param_underSampler  \\\n",
       "8                                   NaN       passthrough        passthrough   \n",
       "7                                   NaN       passthrough        passthrough   \n",
       "5                                   NaN       passthrough        passthrough   \n",
       "4                                   NaN       passthrough        passthrough   \n",
       "9                                   NaN       passthrough        passthrough   \n",
       "6                                   NaN       passthrough        passthrough   \n",
       "2                                  0.85               NaN                NaN   \n",
       "1                                  0.85               NaN                NaN   \n",
       "3                                   0.9               NaN                NaN   \n",
       "0                                   0.9               NaN                NaN   \n",
       "\n",
       "   std_test_score  \n",
       "8        0.003429  \n",
       "7        0.003020  \n",
       "5        0.002322  \n",
       "4        0.002389  \n",
       "9        0.002434  \n",
       "6        0.002503  \n",
       "2        0.003077  \n",
       "1        0.004600  \n",
       "3        0.005045  \n",
       "0        0.003363  "
      ]
     },
     "execution_count": 142,
     "metadata": {},
     "output_type": "execute_result"
    }
   ],
   "source": [
    "cols=[col for col in RFOptiSearchResults.columns \\\n",
    "      if (\n",
    "    (\"score\" in col)or\\\n",
    "    (\"time\" in col)or\\\n",
    "    (\"param_\" in col))\\\n",
    "      and(\"split0\" not in col)and(\"split1\" not in col)and(\"split2\" not in col)and(\"split3\" not in col)]\n",
    "RFOptiSearchResults=RFOptiSearchResults[cols]\n",
    "RFOptiSearchResults=RFOptiSearchResults[\n",
    "    [\"mean_test_score\",\"rank_test_score\"]\\\n",
    "    +[col for col in RFOptiSearchResults.columns if col not in [\"mean_test_score\",\"rank_test_score\"]]\n",
    "]\n",
    "RFOptiSearchResults.sort_values(\"rank_test_score\")\n",
    "\n",
    "RFOptiSearchResults.head(30)"
   ]
  },
  {
   "cell_type": "markdown",
   "id": "4be998a7",
   "metadata": {},
   "source": [
    "Les meilleurs paramètres sont les suivants :"
   ]
  },
  {
   "cell_type": "code",
   "execution_count": 143,
   "id": "a7b9a74a",
   "metadata": {},
   "outputs": [
    {
     "data": {
      "text/plain": [
       "OrderedDict([('clf__class_weight', 'balanced'),\n",
       "             ('clf__max_depth', 15),\n",
       "             ('clf__max_features', 12),\n",
       "             ('clf__max_samples', 0.5),\n",
       "             ('clf__min_samples_split', 0.002),\n",
       "             ('clf__n_estimators', 75),\n",
       "             ('overSampler', 'passthrough'),\n",
       "             ('underSampler', 'passthrough')])"
      ]
     },
     "execution_count": 143,
     "metadata": {},
     "output_type": "execute_result"
    }
   ],
   "source": [
    "RFOptiSearch.best_params_"
   ]
  },
  {
   "cell_type": "markdown",
   "id": "a794dcca",
   "metadata": {},
   "source": [
    "Nous pouvons maintenant réintégrer le RFESelector dans le pipeline :"
   ]
  },
  {
   "cell_type": "code",
   "execution_count": 144,
   "id": "890ada6d",
   "metadata": {},
   "outputs": [],
   "source": [
    "RFpipeTuned = imbPipeline(\n",
    "    [\n",
    "        (\"columnTransformer\",columnTransformer),\n",
    "        (\"VarianceSelector\",VarianceSelector),\n",
    "        (\"FscoreSelector\",FscoreSelector),        \n",
    "        (\"RFEselector\",clone(RFEselector)),\n",
    "        (\"overSampler\",overSampler),\n",
    "        (\"underSampler\",underSampler),\n",
    "        (\"clf\",RFclf)\n",
    "    ],\n",
    "    verbose=True\n",
    ")"
   ]
  },
  {
   "cell_type": "markdown",
   "id": "e0ca5e7d",
   "metadata": {},
   "source": [
    "Appliquer les paramètres déterminés :"
   ]
  },
  {
   "cell_type": "code",
   "execution_count": 145,
   "id": "80eb3d1c",
   "metadata": {},
   "outputs": [
    {
     "data": {
      "text/html": [
       "<style>#sk-container-id-6 {color: black;}#sk-container-id-6 pre{padding: 0;}#sk-container-id-6 div.sk-toggleable {background-color: white;}#sk-container-id-6 label.sk-toggleable__label {cursor: pointer;display: block;width: 100%;margin-bottom: 0;padding: 0.3em;box-sizing: border-box;text-align: center;}#sk-container-id-6 label.sk-toggleable__label-arrow:before {content: \"▸\";float: left;margin-right: 0.25em;color: #696969;}#sk-container-id-6 label.sk-toggleable__label-arrow:hover:before {color: black;}#sk-container-id-6 div.sk-estimator:hover label.sk-toggleable__label-arrow:before {color: black;}#sk-container-id-6 div.sk-toggleable__content {max-height: 0;max-width: 0;overflow: hidden;text-align: left;background-color: #f0f8ff;}#sk-container-id-6 div.sk-toggleable__content pre {margin: 0.2em;color: black;border-radius: 0.25em;background-color: #f0f8ff;}#sk-container-id-6 input.sk-toggleable__control:checked~div.sk-toggleable__content {max-height: 200px;max-width: 100%;overflow: auto;}#sk-container-id-6 input.sk-toggleable__control:checked~label.sk-toggleable__label-arrow:before {content: \"▾\";}#sk-container-id-6 div.sk-estimator input.sk-toggleable__control:checked~label.sk-toggleable__label {background-color: #d4ebff;}#sk-container-id-6 div.sk-label input.sk-toggleable__control:checked~label.sk-toggleable__label {background-color: #d4ebff;}#sk-container-id-6 input.sk-hidden--visually {border: 0;clip: rect(1px 1px 1px 1px);clip: rect(1px, 1px, 1px, 1px);height: 1px;margin: -1px;overflow: hidden;padding: 0;position: absolute;width: 1px;}#sk-container-id-6 div.sk-estimator {font-family: monospace;background-color: #f0f8ff;border: 1px dotted black;border-radius: 0.25em;box-sizing: border-box;margin-bottom: 0.5em;}#sk-container-id-6 div.sk-estimator:hover {background-color: #d4ebff;}#sk-container-id-6 div.sk-parallel-item::after {content: \"\";width: 100%;border-bottom: 1px solid gray;flex-grow: 1;}#sk-container-id-6 div.sk-label:hover label.sk-toggleable__label {background-color: #d4ebff;}#sk-container-id-6 div.sk-serial::before {content: \"\";position: absolute;border-left: 1px solid gray;box-sizing: border-box;top: 0;bottom: 0;left: 50%;z-index: 0;}#sk-container-id-6 div.sk-serial {display: flex;flex-direction: column;align-items: center;background-color: white;padding-right: 0.2em;padding-left: 0.2em;position: relative;}#sk-container-id-6 div.sk-item {position: relative;z-index: 1;}#sk-container-id-6 div.sk-parallel {display: flex;align-items: stretch;justify-content: center;background-color: white;position: relative;}#sk-container-id-6 div.sk-item::before, #sk-container-id-6 div.sk-parallel-item::before {content: \"\";position: absolute;border-left: 1px solid gray;box-sizing: border-box;top: 0;bottom: 0;left: 50%;z-index: -1;}#sk-container-id-6 div.sk-parallel-item {display: flex;flex-direction: column;z-index: 1;position: relative;background-color: white;}#sk-container-id-6 div.sk-parallel-item:first-child::after {align-self: flex-end;width: 50%;}#sk-container-id-6 div.sk-parallel-item:last-child::after {align-self: flex-start;width: 50%;}#sk-container-id-6 div.sk-parallel-item:only-child::after {width: 0;}#sk-container-id-6 div.sk-dashed-wrapped {border: 1px dashed gray;margin: 0 0.4em 0.5em 0.4em;box-sizing: border-box;padding-bottom: 0.4em;background-color: white;}#sk-container-id-6 div.sk-label label {font-family: monospace;font-weight: bold;display: inline-block;line-height: 1.2em;}#sk-container-id-6 div.sk-label-container {text-align: center;}#sk-container-id-6 div.sk-container {/* jupyter's `normalize.less` sets `[hidden] { display: none; }` but bootstrap.min.css set `[hidden] { display: none !important; }` so we also need the `!important` here to be able to override the default hidden behavior on the sphinx rendered scikit-learn.org. See: https://github.com/scikit-learn/scikit-learn/issues/21755 */display: inline-block !important;position: relative;}#sk-container-id-6 div.sk-text-repr-fallback {display: none;}</style><div id=\"sk-container-id-6\" class=\"sk-top-container\"><div class=\"sk-text-repr-fallback\"><pre>Pipeline(steps=[(&#x27;columnTransformer&#x27;,\n",
       "                 ColumnTransformer(transformers=[(&#x27;numericTransformer&#x27;,\n",
       "                                                  Pipeline(steps=[(&#x27;imputerNum&#x27;,\n",
       "                                                                   SimpleImputer(strategy=&#x27;median&#x27;)),\n",
       "                                                                  (&#x27;scalerNum&#x27;,\n",
       "                                                                   RobustScaler())]),\n",
       "                                                  [&#x27;NAME_CONTRACT_TYPE&#x27;,\n",
       "                                                   &#x27;CODE_GENDER&#x27;,\n",
       "                                                   &#x27;FLAG_OWN_CAR&#x27;,\n",
       "                                                   &#x27;FLAG_OWN_REALTY&#x27;,\n",
       "                                                   &#x27;CNT_CHILDREN&#x27;,\n",
       "                                                   &#x27;AMT_INCOME_TOTAL&#x27;,\n",
       "                                                   &#x27;AMT_CREDIT&#x27;, &#x27;AMT_ANNUITY&#x27;,\n",
       "                                                   &#x27;AMT_GOODS_PRICE&#x27;,\n",
       "                                                   &#x27;REGION_POPULATI...\n",
       "                                                        random_state=16),\n",
       "                       min_features_to_select=70, n_jobs=8,\n",
       "                       scoring=&#x27;average_precision&#x27;, step=0.05, verbose=3)),\n",
       "                (&#x27;overSampler&#x27;, &#x27;passthrough&#x27;), (&#x27;underSampler&#x27;, &#x27;passthrough&#x27;),\n",
       "                (&#x27;clf&#x27;,\n",
       "                 RandomForestClassifier(class_weight=&#x27;balanced&#x27;, max_depth=15,\n",
       "                                        max_features=12, max_samples=0.5,\n",
       "                                        min_samples_split=0.002,\n",
       "                                        n_estimators=75, n_jobs=8,\n",
       "                                        random_state=3, verbose=1))],\n",
       "         verbose=True)</pre><b>In a Jupyter environment, please rerun this cell to show the HTML representation or trust the notebook. <br />On GitHub, the HTML representation is unable to render, please try loading this page with nbviewer.org.</b></div><div class=\"sk-container\" hidden><div class=\"sk-item sk-dashed-wrapped\"><div class=\"sk-label-container\"><div class=\"sk-label sk-toggleable\"><input class=\"sk-toggleable__control sk-hidden--visually\" id=\"sk-estimator-id-81\" type=\"checkbox\" ><label for=\"sk-estimator-id-81\" class=\"sk-toggleable__label sk-toggleable__label-arrow\">Pipeline</label><div class=\"sk-toggleable__content\"><pre>Pipeline(steps=[(&#x27;columnTransformer&#x27;,\n",
       "                 ColumnTransformer(transformers=[(&#x27;numericTransformer&#x27;,\n",
       "                                                  Pipeline(steps=[(&#x27;imputerNum&#x27;,\n",
       "                                                                   SimpleImputer(strategy=&#x27;median&#x27;)),\n",
       "                                                                  (&#x27;scalerNum&#x27;,\n",
       "                                                                   RobustScaler())]),\n",
       "                                                  [&#x27;NAME_CONTRACT_TYPE&#x27;,\n",
       "                                                   &#x27;CODE_GENDER&#x27;,\n",
       "                                                   &#x27;FLAG_OWN_CAR&#x27;,\n",
       "                                                   &#x27;FLAG_OWN_REALTY&#x27;,\n",
       "                                                   &#x27;CNT_CHILDREN&#x27;,\n",
       "                                                   &#x27;AMT_INCOME_TOTAL&#x27;,\n",
       "                                                   &#x27;AMT_CREDIT&#x27;, &#x27;AMT_ANNUITY&#x27;,\n",
       "                                                   &#x27;AMT_GOODS_PRICE&#x27;,\n",
       "                                                   &#x27;REGION_POPULATI...\n",
       "                                                        random_state=16),\n",
       "                       min_features_to_select=70, n_jobs=8,\n",
       "                       scoring=&#x27;average_precision&#x27;, step=0.05, verbose=3)),\n",
       "                (&#x27;overSampler&#x27;, &#x27;passthrough&#x27;), (&#x27;underSampler&#x27;, &#x27;passthrough&#x27;),\n",
       "                (&#x27;clf&#x27;,\n",
       "                 RandomForestClassifier(class_weight=&#x27;balanced&#x27;, max_depth=15,\n",
       "                                        max_features=12, max_samples=0.5,\n",
       "                                        min_samples_split=0.002,\n",
       "                                        n_estimators=75, n_jobs=8,\n",
       "                                        random_state=3, verbose=1))],\n",
       "         verbose=True)</pre></div></div></div><div class=\"sk-serial\"><div class=\"sk-item sk-dashed-wrapped\"><div class=\"sk-label-container\"><div class=\"sk-label sk-toggleable\"><input class=\"sk-toggleable__control sk-hidden--visually\" id=\"sk-estimator-id-82\" type=\"checkbox\" ><label for=\"sk-estimator-id-82\" class=\"sk-toggleable__label sk-toggleable__label-arrow\">columnTransformer: ColumnTransformer</label><div class=\"sk-toggleable__content\"><pre>ColumnTransformer(transformers=[(&#x27;numericTransformer&#x27;,\n",
       "                                 Pipeline(steps=[(&#x27;imputerNum&#x27;,\n",
       "                                                  SimpleImputer(strategy=&#x27;median&#x27;)),\n",
       "                                                 (&#x27;scalerNum&#x27;,\n",
       "                                                  RobustScaler())]),\n",
       "                                 [&#x27;NAME_CONTRACT_TYPE&#x27;, &#x27;CODE_GENDER&#x27;,\n",
       "                                  &#x27;FLAG_OWN_CAR&#x27;, &#x27;FLAG_OWN_REALTY&#x27;,\n",
       "                                  &#x27;CNT_CHILDREN&#x27;, &#x27;AMT_INCOME_TOTAL&#x27;,\n",
       "                                  &#x27;AMT_CREDIT&#x27;, &#x27;AMT_ANNUITY&#x27;,\n",
       "                                  &#x27;AMT_GOODS_PRICE&#x27;,\n",
       "                                  &#x27;REGION_POPULATION_RELATIVE&#x27;, &#x27;DAYS_BIRTH&#x27;,\n",
       "                                  &#x27;DAYS_EMPLO...\n",
       "                                                  SimpleImputer(fill_value=&#x27;missing&#x27;,\n",
       "                                                                strategy=&#x27;constant&#x27;)),\n",
       "                                                 (&#x27;encoderOrdi&#x27;,\n",
       "                                                  OrdinalEncoder(categories=[[&#x27;Lower &#x27;\n",
       "                                                                              &#x27;secondary&#x27;,\n",
       "                                                                              &#x27;Secondary &#x27;\n",
       "                                                                              &#x27;/ &#x27;\n",
       "                                                                              &#x27;secondary &#x27;\n",
       "                                                                              &#x27;special&#x27;,\n",
       "                                                                              &#x27;Incomplete &#x27;\n",
       "                                                                              &#x27;higher&#x27;,\n",
       "                                                                              &#x27;Higher &#x27;\n",
       "                                                                              &#x27;education&#x27;,\n",
       "                                                                              &#x27;Academic &#x27;\n",
       "                                                                              &#x27;degree&#x27;]],\n",
       "                                                                 dtype=&lt;class &#x27;numpy.int8&#x27;&gt;,\n",
       "                                                                 handle_unknown=&#x27;use_encoded_value&#x27;,\n",
       "                                                                 unknown_value=-1)),\n",
       "                                                 (&#x27;scalerOrdi&#x27;,\n",
       "                                                  StandardScaler())]),\n",
       "                                 [&#x27;NAME_EDUCATION_TYPE&#x27;])])</pre></div></div></div><div class=\"sk-parallel\"><div class=\"sk-parallel-item\"><div class=\"sk-item\"><div class=\"sk-label-container\"><div class=\"sk-label sk-toggleable\"><input class=\"sk-toggleable__control sk-hidden--visually\" id=\"sk-estimator-id-83\" type=\"checkbox\" ><label for=\"sk-estimator-id-83\" class=\"sk-toggleable__label sk-toggleable__label-arrow\">numericTransformer</label><div class=\"sk-toggleable__content\"><pre>[&#x27;NAME_CONTRACT_TYPE&#x27;, &#x27;CODE_GENDER&#x27;, &#x27;FLAG_OWN_CAR&#x27;, &#x27;FLAG_OWN_REALTY&#x27;, &#x27;CNT_CHILDREN&#x27;, &#x27;AMT_INCOME_TOTAL&#x27;, &#x27;AMT_CREDIT&#x27;, &#x27;AMT_ANNUITY&#x27;, &#x27;AMT_GOODS_PRICE&#x27;, &#x27;REGION_POPULATION_RELATIVE&#x27;, &#x27;DAYS_BIRTH&#x27;, &#x27;DAYS_EMPLOYED&#x27;, &#x27;DAYS_REGISTRATION&#x27;, &#x27;DAYS_ID_PUBLISH&#x27;, &#x27;OWN_CAR_AGE&#x27;, &#x27;FLAG_MOBIL&#x27;, &#x27;FLAG_EMP_PHONE&#x27;, &#x27;FLAG_WORK_PHONE&#x27;, &#x27;FLAG_CONT_MOBILE&#x27;, &#x27;FLAG_PHONE&#x27;, &#x27;FLAG_EMAIL&#x27;, &#x27;CNT_FAM_MEMBERS&#x27;, &#x27;REGION_RATING_CLIENT&#x27;, &#x27;REGION_RATING_CLIENT_W_CITY&#x27;, &#x27;HOUR_APPR_PROCESS_START&#x27;, &#x27;EXT_SOURCE_1&#x27;, &#x27;EXT_SOURCE_2&#x27;, &#x27;EXT_SOURCE_3&#x27;, &#x27;APARTMENTS_AVG&#x27;, &#x27;BASEMENTAREA_AVG&#x27;, &#x27;YEARS_BEGINEXPLUATATION_AVG&#x27;, &#x27;COMMONAREA_AVG&#x27;, &#x27;ELEVATORS_AVG&#x27;, &#x27;ENTRANCES_AVG&#x27;, &#x27;FLOORSMAX_AVG&#x27;, &#x27;FLOORSMIN_AVG&#x27;, &#x27;LANDAREA_AVG&#x27;, &#x27;LIVINGAREA_AVG&#x27;, &#x27;NONLIVINGAPARTMENTS_AVG&#x27;, &#x27;NONLIVINGAREA_AVG&#x27;, &#x27;YEARS_BEGINEXPLUATATION_MEDI&#x27;, &#x27;EMERGENCYSTATE_MODE&#x27;, &#x27;DAYS_LAST_PHONE_CHANGE&#x27;, &#x27;AMT_REQ_CREDIT_BUREAU_HOUR&#x27;, &#x27;AMT_REQ_CREDIT_BUREAU_DAY&#x27;, &#x27;AMT_REQ_CREDIT_BUREAU_WEEK&#x27;, &#x27;AMT_REQ_CREDIT_BUREAU_MON&#x27;, &#x27;AMT_REQ_CREDIT_BUREAU_QRT&#x27;, &#x27;AMT_REQ_CREDIT_BUREAU_YEAR&#x27;, &#x27;NEW_CREDIT_TO_ANNUITY_RATIO&#x27;, &#x27;NEW_DOWN_PAYMENT_RATE&#x27;, &#x27;NEW_CREDIT_TO_GOOD_RATIO&#x27;, &#x27;NEW_ANNUITY_TO_INCOME_RATIO&#x27;, &#x27;NEW_SOURCES_PROD&#x27;, &#x27;NEW_EXT_SOURCES_MEAN&#x27;, &#x27;NEW_is_NOT_sth&#x27;, &#x27;NEW_is_DOCLess&#x27;, &#x27;NEW_is_DOCMore&#x27;, &#x27;BUR_CREDIT_ACTIVE_Active_AggMean&#x27;, &#x27;BUR_CREDIT_ACTIVE_Bad debt_AggMean&#x27;, &#x27;BUR_CREDIT_ACTIVE_Closed_AggMean&#x27;, &#x27;BUR_CREDIT_ACTIVE_Sold_AggMean&#x27;, &#x27;BUR_CREDIT_ACTIVE_missing_AggMean&#x27;, &#x27;BUR_CREDIT_CURRENCY_currency 1_AggMean&#x27;, &#x27;BUR_CREDIT_CURRENCY_currency 2_AggMean&#x27;, &#x27;BUR_CREDIT_CURRENCY_currency 3_AggMean&#x27;, &#x27;BUR_CREDIT_CURRENCY_currency 4_AggMean&#x27;, &#x27;BUR_CREDIT_CURRENCY_missing_AggMean&#x27;, &#x27;BUR_BB_last10_STATUS_AggMean_AggMean&#x27;, &#x27;BUR_DAYS_CREDIT_AggMean&#x27;, &#x27;BUR_CREDIT_DAY_OVERDUE_AggMean&#x27;, &#x27;BUR_DAYS_CREDIT_ENDDATE_AggMean&#x27;, &#x27;BUR_DAYS_ENDDATE_FACT_AggMean&#x27;, &#x27;BUR_AMT_CREDIT_MAX_OVERDUE_AggMean&#x27;, &#x27;BUR_CNT_CREDIT_PROLONG_AggSum&#x27;, &#x27;BUR_AMT_CREDIT_SUM_AggSum&#x27;, &#x27;BUR_AMT_CREDIT_SUM_DEBT_AggSum&#x27;, &#x27;BUR_AMT_ANNUITY_AggMean&#x27;, &#x27;BUR_NEW_DEPT_TO_REMDAYS_RATIO_AggMax&#x27;, &#x27;PREV_NAME_CONTRACT_TYPE_Cash loans_AggMean&#x27;, &#x27;PREV_NAME_CONTRACT_TYPE_Consumer loans_AggMean&#x27;, &#x27;PREV_NAME_CONTRACT_TYPE_Revolving loans_AggMean&#x27;, &#x27;PREV_NAME_CONTRACT_TYPE_missing_AggMean&#x27;, &#x27;PREV_NAME_CONTRACT_STATUS_Approved_AggMean&#x27;, &#x27;PREV_NAME_CONTRACT_STATUS_Canceled_AggMean&#x27;, &#x27;PREV_NAME_CONTRACT_STATUS_Refused_AggMean&#x27;, &#x27;PREV_NAME_CONTRACT_STATUS_Unused offer_AggMean&#x27;, &#x27;PREV_NAME_CONTRACT_STATUS_missing_AggMean&#x27;, &#x27;PREV_NAME_PAYMENT_TYPE_Cash through the bank_AggMean&#x27;, &#x27;PREV_NAME_PAYMENT_TYPE_Cashless from the account of the employer_AggMean&#x27;, &#x27;PREV_NAME_PAYMENT_TYPE_Non-cash from your account_AggMean&#x27;, &#x27;PREV_NAME_PORTFOLIO_Cars_AggMean&#x27;, &#x27;PREV_NAME_PORTFOLIO_POS_AggMean&#x27;, &#x27;PREV_NAME_PORTFOLIO_missing_AggMean&#x27;, &#x27;PREV_AMT_ANNUITY_AggMax&#x27;, &#x27;PREV_AMT_APPLICATION_AggMin&#x27;, &#x27;PREV_AMT_CREDIT_AggMin&#x27;, &#x27;PREV_DAYS_DECISION_AggMin&#x27;, &#x27;PREV_NAME_CLIENT_TYPE_AggMin&#x27;, &#x27;PREV_NAME_PRODUCT_TYPE_AggMean&#x27;, &#x27;PREV_CNT_PAYMENT_AggMean&#x27;, &#x27;PREV_NAME_YIELD_GROUP_AggMin&#x27;, &#x27;PREV_DAYS_FIRST_DUE_AggMax&#x27;, &#x27;PREV_DAYS_LAST_DUE_1ST_VERSION_AggMax&#x27;, &#x27;PREV_DAYS_LAST_DUE_AggMax&#x27;, &#x27;PREV_NFLAG_INSURED_ON_APPROVAL_AggMean&#x27;, &#x27;PREV_NEW_DIFF_K_RATIO_AggMax&#x27;, &#x27;PREV_NEW_I_RATE_AggMin&#x27;, &#x27;CC_last10_AMT_BALANCE_AggMean&#x27;, &#x27;CC_last10_NEW_SUM_CNT_DRAW_AggSum&#x27;, &#x27;CC_last10_SK_DPD_AggMean&#x27;, &#x27;CC_last10_SK_DPD_DEF_AggMean&#x27;, &#x27;CC_AMT_BALANCE_AggMean&#x27;, &#x27;CC_SK_DPD_AggMean&#x27;, &#x27;CC_SK_DPD_DEF_AggMean&#x27;, &#x27;CC_NEW_SUM_CNT_DRAW_AggSum&#x27;, &#x27;POS_last10_SK_DPD_AggMean&#x27;, &#x27;POS_last10_SK_DPD_DEF_AggMean&#x27;, &#x27;POS_last10_NEW_ACTUAL_LEFT_TO_PAY_AggMean&#x27;, &#x27;POS_SK_DPD_AggMean&#x27;, &#x27;POS_SK_DPD_DEF_AggMean&#x27;, &#x27;INS_last10_NEW_LESS_PAY_NORM_AggMean&#x27;, &#x27;INS_last10_NEW_DPD_NORM_AggMean&#x27;, &#x27;INS_DAYS_ENTRY_PAYMENT_AggMean&#x27;, &#x27;INS_AMT_INSTALMENT_AggMean&#x27;, &#x27;INS_AMT_PAYMENT_AggMean&#x27;, &#x27;INS_NEW_LESS_PAY_NORM_AggMean&#x27;, &#x27;INS_NEW_DPD_NORM_AggMean&#x27;, &#x27;NEW_I_x_DOWN&#x27;]</pre></div></div></div><div class=\"sk-serial\"><div class=\"sk-item\"><div class=\"sk-serial\"><div class=\"sk-item\"><div class=\"sk-estimator sk-toggleable\"><input class=\"sk-toggleable__control sk-hidden--visually\" id=\"sk-estimator-id-84\" type=\"checkbox\" ><label for=\"sk-estimator-id-84\" class=\"sk-toggleable__label sk-toggleable__label-arrow\">SimpleImputer</label><div class=\"sk-toggleable__content\"><pre>SimpleImputer(strategy=&#x27;median&#x27;)</pre></div></div></div><div class=\"sk-item\"><div class=\"sk-estimator sk-toggleable\"><input class=\"sk-toggleable__control sk-hidden--visually\" id=\"sk-estimator-id-85\" type=\"checkbox\" ><label for=\"sk-estimator-id-85\" class=\"sk-toggleable__label sk-toggleable__label-arrow\">RobustScaler</label><div class=\"sk-toggleable__content\"><pre>RobustScaler()</pre></div></div></div></div></div></div></div></div><div class=\"sk-parallel-item\"><div class=\"sk-item\"><div class=\"sk-label-container\"><div class=\"sk-label sk-toggleable\"><input class=\"sk-toggleable__control sk-hidden--visually\" id=\"sk-estimator-id-86\" type=\"checkbox\" ><label for=\"sk-estimator-id-86\" class=\"sk-toggleable__label sk-toggleable__label-arrow\">highCardiTransformer</label><div class=\"sk-toggleable__content\"><pre>[&#x27;NAME_TYPE_SUITE&#x27;, &#x27;NAME_INCOME_TYPE&#x27;, &#x27;OCCUPATION_TYPE&#x27;, &#x27;WEEKDAY_APPR_PROCESS_START&#x27;, &#x27;ORGANIZATION_TYPE&#x27;, &#x27;WALLSMATERIAL_MODE&#x27;, &#x27;BUR_CREDIT_TYPE_AggMymode&#x27;, &#x27;PREV_NAME_CASH_LOAN_PURPOSE_AggMymode&#x27;, &#x27;PREV_NAME_GOODS_CATEGORY_AggMymode&#x27;, &#x27;PREV_PRODUCT_COMBINATION_AggMymode&#x27;, &#x27;PREV_WEEKDAY_APPR_PROCESS_START_AggMymode&#x27;, &#x27;PREV_CODE_REJECT_REASON_AggMymode&#x27;, &#x27;PREV_NAME_TYPE_SUITE_AggMymode&#x27;, &#x27;PREV_CHANNEL_TYPE_AggMymode&#x27;, &#x27;PREV_NAME_SELLER_INDUSTRY_AggMymode&#x27;, &#x27;CC_NAME_CONTRACT_STATUS_AggMymode&#x27;, &#x27;POS_NAME_CONTRACT_STATUS_AggMymode&#x27;]</pre></div></div></div><div class=\"sk-serial\"><div class=\"sk-item\"><div class=\"sk-serial\"><div class=\"sk-item\"><div class=\"sk-estimator sk-toggleable\"><input class=\"sk-toggleable__control sk-hidden--visually\" id=\"sk-estimator-id-87\" type=\"checkbox\" ><label for=\"sk-estimator-id-87\" class=\"sk-toggleable__label sk-toggleable__label-arrow\">SimpleImputer</label><div class=\"sk-toggleable__content\"><pre>SimpleImputer(fill_value=&#x27;missing&#x27;, strategy=&#x27;constant&#x27;)</pre></div></div></div><div class=\"sk-item\"><div class=\"sk-estimator sk-toggleable\"><input class=\"sk-toggleable__control sk-hidden--visually\" id=\"sk-estimator-id-88\" type=\"checkbox\" ><label for=\"sk-estimator-id-88\" class=\"sk-toggleable__label sk-toggleable__label-arrow\">TargetEncoder</label><div class=\"sk-toggleable__content\"><pre>TargetEncoder()</pre></div></div></div><div class=\"sk-item\"><div class=\"sk-estimator sk-toggleable\"><input class=\"sk-toggleable__control sk-hidden--visually\" id=\"sk-estimator-id-89\" type=\"checkbox\" ><label for=\"sk-estimator-id-89\" class=\"sk-toggleable__label sk-toggleable__label-arrow\">StandardScaler</label><div class=\"sk-toggleable__content\"><pre>StandardScaler()</pre></div></div></div></div></div></div></div></div><div class=\"sk-parallel-item\"><div class=\"sk-item\"><div class=\"sk-label-container\"><div class=\"sk-label sk-toggleable\"><input class=\"sk-toggleable__control sk-hidden--visually\" id=\"sk-estimator-id-90\" type=\"checkbox\" ><label for=\"sk-estimator-id-90\" class=\"sk-toggleable__label sk-toggleable__label-arrow\">nomiTransformer</label><div class=\"sk-toggleable__content\"><pre>[&#x27;NAME_FAMILY_STATUS&#x27;, &#x27;NAME_HOUSING_TYPE&#x27;, &#x27;FONDKAPREMONT_MODE&#x27;, &#x27;HOUSETYPE_MODE&#x27;]</pre></div></div></div><div class=\"sk-serial\"><div class=\"sk-item\"><div class=\"sk-serial\"><div class=\"sk-item\"><div class=\"sk-estimator sk-toggleable\"><input class=\"sk-toggleable__control sk-hidden--visually\" id=\"sk-estimator-id-91\" type=\"checkbox\" ><label for=\"sk-estimator-id-91\" class=\"sk-toggleable__label sk-toggleable__label-arrow\">SimpleImputer</label><div class=\"sk-toggleable__content\"><pre>SimpleImputer(fill_value=&#x27;missing&#x27;, strategy=&#x27;constant&#x27;)</pre></div></div></div><div class=\"sk-item\"><div class=\"sk-estimator sk-toggleable\"><input class=\"sk-toggleable__control sk-hidden--visually\" id=\"sk-estimator-id-92\" type=\"checkbox\" ><label for=\"sk-estimator-id-92\" class=\"sk-toggleable__label sk-toggleable__label-arrow\">OneHotEncoder</label><div class=\"sk-toggleable__content\"><pre>OneHotEncoder(drop=&#x27;first&#x27;, dtype=&lt;class &#x27;numpy.int8&#x27;&gt;, handle_unknown=&#x27;ignore&#x27;)</pre></div></div></div></div></div></div></div></div><div class=\"sk-parallel-item\"><div class=\"sk-item\"><div class=\"sk-label-container\"><div class=\"sk-label sk-toggleable\"><input class=\"sk-toggleable__control sk-hidden--visually\" id=\"sk-estimator-id-93\" type=\"checkbox\" ><label for=\"sk-estimator-id-93\" class=\"sk-toggleable__label sk-toggleable__label-arrow\">ordiTransformer</label><div class=\"sk-toggleable__content\"><pre>[&#x27;NAME_EDUCATION_TYPE&#x27;]</pre></div></div></div><div class=\"sk-serial\"><div class=\"sk-item\"><div class=\"sk-serial\"><div class=\"sk-item\"><div class=\"sk-estimator sk-toggleable\"><input class=\"sk-toggleable__control sk-hidden--visually\" id=\"sk-estimator-id-94\" type=\"checkbox\" ><label for=\"sk-estimator-id-94\" class=\"sk-toggleable__label sk-toggleable__label-arrow\">SimpleImputer</label><div class=\"sk-toggleable__content\"><pre>SimpleImputer(fill_value=&#x27;missing&#x27;, strategy=&#x27;constant&#x27;)</pre></div></div></div><div class=\"sk-item\"><div class=\"sk-estimator sk-toggleable\"><input class=\"sk-toggleable__control sk-hidden--visually\" id=\"sk-estimator-id-95\" type=\"checkbox\" ><label for=\"sk-estimator-id-95\" class=\"sk-toggleable__label sk-toggleable__label-arrow\">OrdinalEncoder</label><div class=\"sk-toggleable__content\"><pre>OrdinalEncoder(categories=[[&#x27;Lower secondary&#x27;, &#x27;Secondary / secondary special&#x27;,\n",
       "                            &#x27;Incomplete higher&#x27;, &#x27;Higher education&#x27;,\n",
       "                            &#x27;Academic degree&#x27;]],\n",
       "               dtype=&lt;class &#x27;numpy.int8&#x27;&gt;, handle_unknown=&#x27;use_encoded_value&#x27;,\n",
       "               unknown_value=-1)</pre></div></div></div><div class=\"sk-item\"><div class=\"sk-estimator sk-toggleable\"><input class=\"sk-toggleable__control sk-hidden--visually\" id=\"sk-estimator-id-96\" type=\"checkbox\" ><label for=\"sk-estimator-id-96\" class=\"sk-toggleable__label sk-toggleable__label-arrow\">StandardScaler</label><div class=\"sk-toggleable__content\"><pre>StandardScaler()</pre></div></div></div></div></div></div></div></div></div></div><div class=\"sk-item\"><div class=\"sk-estimator sk-toggleable\"><input class=\"sk-toggleable__control sk-hidden--visually\" id=\"sk-estimator-id-97\" type=\"checkbox\" ><label for=\"sk-estimator-id-97\" class=\"sk-toggleable__label sk-toggleable__label-arrow\">VarianceThreshold</label><div class=\"sk-toggleable__content\"><pre>VarianceThreshold(threshold=0.001)</pre></div></div></div><div class=\"sk-item\"><div class=\"sk-estimator sk-toggleable\"><input class=\"sk-toggleable__control sk-hidden--visually\" id=\"sk-estimator-id-98\" type=\"checkbox\" ><label for=\"sk-estimator-id-98\" class=\"sk-toggleable__label sk-toggleable__label-arrow\">SelectPercentile</label><div class=\"sk-toggleable__content\"><pre>SelectPercentile(percentile=80)</pre></div></div></div><div class=\"sk-item sk-dashed-wrapped\"><div class=\"sk-label-container\"><div class=\"sk-label sk-toggleable\"><input class=\"sk-toggleable__control sk-hidden--visually\" id=\"sk-estimator-id-99\" type=\"checkbox\" ><label for=\"sk-estimator-id-99\" class=\"sk-toggleable__label sk-toggleable__label-arrow\">RFEselector: RFECV</label><div class=\"sk-toggleable__content\"><pre>RFECV(cv=StratifiedKFold(n_splits=3, random_state=3, shuffle=True),\n",
       "      estimator=RandomForestClassifier(class_weight=&#x27;balanced&#x27;, max_depth=4,\n",
       "                                       max_leaf_nodes=45, max_samples=0.5,\n",
       "                                       min_samples_split=0.15, n_estimators=75,\n",
       "                                       n_jobs=8, random_state=16),\n",
       "      min_features_to_select=70, n_jobs=8, scoring=&#x27;average_precision&#x27;,\n",
       "      step=0.05, verbose=3)</pre></div></div></div><div class=\"sk-parallel\"><div class=\"sk-parallel-item\"><div class=\"sk-item\"><div class=\"sk-label-container\"><div class=\"sk-label sk-toggleable\"><input class=\"sk-toggleable__control sk-hidden--visually\" id=\"sk-estimator-id-100\" type=\"checkbox\" ><label for=\"sk-estimator-id-100\" class=\"sk-toggleable__label sk-toggleable__label-arrow\">estimator: RandomForestClassifier</label><div class=\"sk-toggleable__content\"><pre>RandomForestClassifier(class_weight=&#x27;balanced&#x27;, max_depth=4, max_leaf_nodes=45,\n",
       "                       max_samples=0.5, min_samples_split=0.15, n_estimators=75,\n",
       "                       n_jobs=8, random_state=16)</pre></div></div></div><div class=\"sk-serial\"><div class=\"sk-item\"><div class=\"sk-estimator sk-toggleable\"><input class=\"sk-toggleable__control sk-hidden--visually\" id=\"sk-estimator-id-101\" type=\"checkbox\" ><label for=\"sk-estimator-id-101\" class=\"sk-toggleable__label sk-toggleable__label-arrow\">RandomForestClassifier</label><div class=\"sk-toggleable__content\"><pre>RandomForestClassifier(class_weight=&#x27;balanced&#x27;, max_depth=4, max_leaf_nodes=45,\n",
       "                       max_samples=0.5, min_samples_split=0.15, n_estimators=75,\n",
       "                       n_jobs=8, random_state=16)</pre></div></div></div></div></div></div></div></div><div class=\"sk-item\"><div class=\"sk-estimator sk-toggleable\"><input class=\"sk-toggleable__control sk-hidden--visually\" id=\"sk-estimator-id-102\" type=\"checkbox\" ><label for=\"sk-estimator-id-102\" class=\"sk-toggleable__label sk-toggleable__label-arrow\">passthrough</label><div class=\"sk-toggleable__content\"><pre>passthrough</pre></div></div></div><div class=\"sk-item\"><div class=\"sk-estimator sk-toggleable\"><input class=\"sk-toggleable__control sk-hidden--visually\" id=\"sk-estimator-id-103\" type=\"checkbox\" ><label for=\"sk-estimator-id-103\" class=\"sk-toggleable__label sk-toggleable__label-arrow\">passthrough</label><div class=\"sk-toggleable__content\"><pre>passthrough</pre></div></div></div><div class=\"sk-item\"><div class=\"sk-estimator sk-toggleable\"><input class=\"sk-toggleable__control sk-hidden--visually\" id=\"sk-estimator-id-104\" type=\"checkbox\" ><label for=\"sk-estimator-id-104\" class=\"sk-toggleable__label sk-toggleable__label-arrow\">RandomForestClassifier</label><div class=\"sk-toggleable__content\"><pre>RandomForestClassifier(class_weight=&#x27;balanced&#x27;, max_depth=15, max_features=12,\n",
       "                       max_samples=0.5, min_samples_split=0.002,\n",
       "                       n_estimators=75, n_jobs=8, random_state=3, verbose=1)</pre></div></div></div></div></div></div></div>"
      ],
      "text/plain": [
       "Pipeline(steps=[('columnTransformer',\n",
       "                 ColumnTransformer(transformers=[('numericTransformer',\n",
       "                                                  Pipeline(steps=[('imputerNum',\n",
       "                                                                   SimpleImputer(strategy='median')),\n",
       "                                                                  ('scalerNum',\n",
       "                                                                   RobustScaler())]),\n",
       "                                                  ['NAME_CONTRACT_TYPE',\n",
       "                                                   'CODE_GENDER',\n",
       "                                                   'FLAG_OWN_CAR',\n",
       "                                                   'FLAG_OWN_REALTY',\n",
       "                                                   'CNT_CHILDREN',\n",
       "                                                   'AMT_INCOME_TOTAL',\n",
       "                                                   'AMT_CREDIT', 'AMT_ANNUITY',\n",
       "                                                   'AMT_GOODS_PRICE',\n",
       "                                                   'REGION_POPULATI...\n",
       "                                                        random_state=16),\n",
       "                       min_features_to_select=70, n_jobs=8,\n",
       "                       scoring='average_precision', step=0.05, verbose=3)),\n",
       "                ('overSampler', 'passthrough'), ('underSampler', 'passthrough'),\n",
       "                ('clf',\n",
       "                 RandomForestClassifier(class_weight='balanced', max_depth=15,\n",
       "                                        max_features=12, max_samples=0.5,\n",
       "                                        min_samples_split=0.002,\n",
       "                                        n_estimators=75, n_jobs=8,\n",
       "                                        random_state=3, verbose=1))],\n",
       "         verbose=True)"
      ]
     },
     "execution_count": 145,
     "metadata": {},
     "output_type": "execute_result"
    }
   ],
   "source": [
    "RFpipeTuned.set_params(**RFOptiSearch.best_params_)"
   ]
  },
  {
   "cell_type": "markdown",
   "id": "616aac51",
   "metadata": {},
   "source": [
    "Et utiliser notre fonction `getCrossValProbs_Imp_Results` pour obtenir :\n",
    "- les scores out of folds\n",
    "- l'importance des features\n",
    "- l'average precision\n",
    "- le temps moyen d'apprentissage"
   ]
  },
  {
   "cell_type": "code",
   "execution_count": 146,
   "id": "aad482d4",
   "metadata": {},
   "outputs": [
    {
     "name": "stdout",
     "output_type": "stream",
     "text": [
      "CPU times: total: 0 ns\n",
      "Wall time: 9.01 ms\n"
     ]
    }
   ],
   "source": [
    "%%time\n",
    "if not os.path.isdir(\"mySaves/oof_preds\") :\n",
    "    os.mkdir(\"mySaves/oof_preds\")\n",
    "if not os.path.isdir(\"mySaves/features_importances\") :\n",
    "    os.mkdir(\"mySaves/features_importances\")\n",
    "if not os.path.isdir(\"mySaves/CV_results\") :\n",
    "    os.mkdir(\"mySaves/CV_results\")\n",
    "\n",
    "if (\"RF_yProbCV.joblib\" not in os.listdir(\"mySaves/oof_preds\") ) or (rapidProcessing == False):\n",
    "    RF_yProbCV,RF_impTab,RF_resultsSeries = getCrossValProbs_Imp_Results(RFpipeTuned)\n",
    "    \n",
    "    dump(RF_yProbCV,\"mySaves/oof_preds/RF_yProbCV.joblib\")\n",
    "    dump(RF_impTab,\"mySaves/features_importances/RF_impTab.joblib\")\n",
    "    dump(RF_resultsSeries,\"mySaves/CV_results/RF_resultsSeries.joblib\")\n",
    "\n",
    "else :\n",
    "    RF_yProbCV=load(\"mySaves/oof_preds/RF_yProbCV.joblib\")\n",
    "    RF_impTab = load(\"mySaves/features_importances/RF_impTab.joblib\")\n",
    "    RF_resultsSeries = load(\"mySaves/CV_results/RF_resultsSeries.joblib\")"
   ]
  },
  {
   "cell_type": "markdown",
   "id": "a3a20175",
   "metadata": {},
   "source": [
    "Nous pouvons :\n",
    "- mettre à jour notre tableau comparatif des modèles\n",
    "- tracer nos courbes\n",
    "- afficher l'importance des variables"
   ]
  },
  {
   "cell_type": "code",
   "execution_count": 147,
   "id": "5422f709",
   "metadata": {},
   "outputs": [
    {
     "data": {
      "text/html": [
       "<div>\n",
       "<style scoped>\n",
       "    .dataframe tbody tr th:only-of-type {\n",
       "        vertical-align: middle;\n",
       "    }\n",
       "\n",
       "    .dataframe tbody tr th {\n",
       "        vertical-align: top;\n",
       "    }\n",
       "\n",
       "    .dataframe thead th {\n",
       "        text-align: right;\n",
       "    }\n",
       "</style>\n",
       "<table border=\"1\" class=\"dataframe\">\n",
       "  <thead>\n",
       "    <tr style=\"text-align: right;\">\n",
       "      <th></th>\n",
       "      <th>dummy</th>\n",
       "      <th>Rand Forest</th>\n",
       "    </tr>\n",
       "  </thead>\n",
       "  <tbody>\n",
       "    <tr>\n",
       "      <th>Average Precision</th>\n",
       "      <td>0.080909</td>\n",
       "      <td>0.237849</td>\n",
       "    </tr>\n",
       "    <tr>\n",
       "      <th>Mean fit time</th>\n",
       "      <td>1.868098</td>\n",
       "      <td>63.401027</td>\n",
       "    </tr>\n",
       "  </tbody>\n",
       "</table>\n",
       "</div>"
      ],
      "text/plain": [
       "                      dummy  Rand Forest\n",
       "Average Precision  0.080909     0.237849\n",
       "Mean fit time      1.868098    63.401027"
      ]
     },
     "execution_count": 147,
     "metadata": {},
     "output_type": "execute_result"
    }
   ],
   "source": [
    "models_CV_results[\"Rand Forest\"] = RF_resultsSeries\n",
    "models_CV_results"
   ]
  },
  {
   "cell_type": "markdown",
   "id": "99ffe3c3",
   "metadata": {},
   "source": [
    "la fonction `plotROCandPRfromCV_WID` permet d'afficher soit tous les modèles, soit chaque modèle pris individuellement (dans ce cas les courbes de chaque fold apparaissent)."
   ]
  },
  {
   "cell_type": "code",
   "execution_count": 148,
   "id": "dd878189",
   "metadata": {
    "scrolled": false
   },
   "outputs": [
    {
     "data": {
      "application/vnd.jupyter.widget-view+json": {
       "model_id": "9c317ded1ef04a078282751d7ffdbd42",
       "version_major": 2,
       "version_minor": 0
      },
      "text/plain": [
       "Dropdown(description='Model :', options=('all', 'dummy', 'Rand Forest'), style=DescriptionStyle(description_wi…"
      ]
     },
     "metadata": {},
     "output_type": "display_data"
    },
    {
     "data": {
      "application/vnd.jupyter.widget-view+json": {
       "model_id": "23ac406a13594ac88fb83dd2fda38328",
       "version_major": 2,
       "version_minor": 0
      },
      "text/plain": [
       "Output()"
      ]
     },
     "metadata": {},
     "output_type": "display_data"
    }
   ],
   "source": [
    "# plot ROC and PR curves from CV scores\n",
    "mf.plotROCandPRfromCV_WID (\n",
    "    oofProbList=[dummy_yProbCV,RF_yProbCV],\n",
    "    modelNameList=[\"dummy\",\"Rand Forest\"],\n",
    "    Xtrain=XTrain.values,\n",
    "    ytrain=yTrain.values,\n",
    "    kf=cvPred,\n",
    "    palette=None)"
   ]
  },
  {
   "cell_type": "markdown",
   "id": "daad5041",
   "metadata": {},
   "source": [
    "Le pipeline `RFpipeTuned` se démarque bien de notre `dummy`. Avec logiquement un temps d'entraînement moyen plus long."
   ]
  },
  {
   "cell_type": "code",
   "execution_count": 149,
   "id": "ca0f1a0a",
   "metadata": {
    "scrolled": false
   },
   "outputs": [
    {
     "data": {
      "application/vnd.jupyter.widget-view+json": {
       "model_id": "c157e08b51f0409f826ed399e75eb7f9",
       "version_major": 2,
       "version_minor": 0
      },
      "text/plain": [
       "HBox(children=(HBox(children=(Label(value='Model :'), RadioButtons(options=('Random Forest',), style=Descripti…"
      ]
     },
     "metadata": {},
     "output_type": "display_data"
    },
    {
     "data": {
      "application/vnd.jupyter.widget-view+json": {
       "model_id": "7735a9783a6049f5875abb9033e51282",
       "version_major": 2,
       "version_minor": 0
      },
      "text/plain": [
       "HBox(children=(BoundedIntText(value=30, description='N top features : ', max=127, style=DescriptionStyle(descr…"
      ]
     },
     "metadata": {},
     "output_type": "display_data"
    },
    {
     "data": {
      "application/vnd.jupyter.widget-view+json": {
       "model_id": "39d430fc8f6948f3815b09dc3c20bffc",
       "version_major": 2,
       "version_minor": 0
      },
      "text/plain": [
       "Output()"
      ]
     },
     "metadata": {},
     "output_type": "display_data"
    }
   ],
   "source": [
    "plotFeatImpWID(\n",
    "    importancesTabsList=[RF_impTab],\n",
    "    modelsNamesList=[\"Random Forest\"],\n",
    "    customFeaturesList=myFeatures\n",
    ") "
   ]
  },
  {
   "cell_type": "markdown",
   "id": "c2c32679",
   "metadata": {},
   "source": [
    "Dans la suite logique de l'exploration de données, les features de type `EXT_SOURCE` se démarquent.\n",
    "\n",
    "Nous retrouvons également quelques autres features composites."
   ]
  },
  {
   "cell_type": "markdown",
   "id": "a9cc0266",
   "metadata": {},
   "source": [
    "# MODELES : Logistic Regression<a class=\"anchor\" id=\"18\"></a>"
   ]
  },
  {
   "cell_type": "markdown",
   "id": "3eea12f2",
   "metadata": {},
   "source": [
    "Nous allons rechercher les meilleurs hyperparamètres pour un algorithme de régression logisique :"
   ]
  },
  {
   "cell_type": "code",
   "execution_count": 150,
   "id": "642f5555",
   "metadata": {},
   "outputs": [],
   "source": [
    "LRclf = LogisticRegression(n_jobs=8,verbose=1,random_state=7)"
   ]
  },
  {
   "cell_type": "code",
   "execution_count": 151,
   "id": "8bc4a097",
   "metadata": {},
   "outputs": [],
   "source": [
    "LRgridSMOTE ={\n",
    "        \"clf__class_weight\":[\n",
    "            \"balanced\",\n",
    "            None\n",
    "            ],\n",
    "        \"clf__C\":(\n",
    "            1e-4,\n",
    "            1e+1,\n",
    "            'log-uniform',\n",
    "        ),\n",
    "        \"clf__max_iter\":[\n",
    "            100,\n",
    "            150,\n",
    "            200\n",
    "            ],\n",
    "        \"clf__fit_intercept\":[\n",
    "            True,\n",
    "            False\n",
    "            ],\n",
    "        \"clf__intercept_scaling\":(\n",
    "            1,\n",
    "            10,\n",
    "            \"uniform\"\n",
    "        ),\n",
    "        \"clf__penalty\":[\n",
    "            \"l2\",\n",
    "#             None,\n",
    "            ],\n",
    "        \"clf__solver\":[\n",
    "            \"lbfgs\",\n",
    "#             \"newton-cg\",\n",
    "            \"newton-cholesky\",\n",
    "            ],\n",
    "        \"overSampler__sampling_strategy\":[\n",
    "            0.15,\n",
    "            0.30,\n",
    "            0.45,\n",
    "            ],\n",
    "        \"overSampler__k_neighbors\":[\n",
    "            3,\n",
    "            6,\n",
    "            9\n",
    "            ],\n",
    "        \"underSampler__sampling_strategy\":[\n",
    "            0.8,\n",
    "            0.85,\n",
    "            0.9,\n",
    "            ],\n",
    "    }\n",
    "\n",
    "LRgridCLASSWEIGHT={\n",
    "        \"clf__class_weight\":[\n",
    "            \"balanced\"\n",
    "            ],\n",
    "        \"clf__C\":(\n",
    "            1e-4,\n",
    "            1e+1,\n",
    "            'log-uniform',\n",
    "        ),\n",
    "        \"clf__max_iter\":[\n",
    "            100,\n",
    "            150,\n",
    "            200\n",
    "            ],\n",
    "        \"clf__fit_intercept\":[\n",
    "            True,\n",
    "            False\n",
    "            ],\n",
    "        \"clf__intercept_scaling\":(\n",
    "            1,\n",
    "            10,\n",
    "            \"uniform\"\n",
    "        ),\n",
    "        \"clf__penalty\":[\n",
    "            \"l2\",\n",
    "#             None,\n",
    "            ],\n",
    "        \"clf__solver\":[\n",
    "            \"lbfgs\",\n",
    "#             \"newton-cg\",\n",
    "            \"newton-cholesky\",\n",
    "            ],\n",
    "        \"overSampler\":[\n",
    "            \"passthrough\"\n",
    "            ],\n",
    "        \"underSampler\":[\n",
    "            \"passthrough\"\n",
    "            ],\n",
    "    }\n",
    "\n",
    "LRgridSMOTE2=LRgridSMOTE.copy()\n",
    "LRgridCLASSWEIGHT2=LRgridCLASSWEIGHT.copy()\n",
    "LRgridSMOTE2[\"clf__solver\"]=LRgridCLASSWEIGHT2[\"clf__solver\"]=[\"liblinear\"]\n",
    "LRgridSMOTE2[\"clf__penalty\"]=LRgridCLASSWEIGHT2[\"clf__penalty\"]=\\\n",
    "[\"l1\",\"l2\"]\n",
    "\n",
    "\n",
    "LRgrid=[\n",
    "    (LRgridSMOTE,3),\n",
    "    (LRgridCLASSWEIGHT,7),\n",
    "    (LRgridSMOTE2,2),\n",
    "    (LRgridCLASSWEIGHT2,3)\n",
    "]"
   ]
  },
  {
   "cell_type": "code",
   "execution_count": 152,
   "id": "8da33f88",
   "metadata": {},
   "outputs": [],
   "source": [
    "LROptiSearch = BayesSearchCV(\n",
    "    estimator=imbPipeline(\n",
    "        [\n",
    "            (\"overSampler\",overSampler),\n",
    "            (\"underSampler\",underSampler),\n",
    "            (\"clf\",LRclf)\n",
    "        ],\n",
    "        verbose=True\n",
    "    ),\n",
    "    n_iter=None,\n",
    "    search_spaces=LRgrid,\n",
    "    scoring=\"average_precision\",\n",
    "    cv=cvGS,\n",
    "    verbose=3,\n",
    "    n_jobs=8,\n",
    "    refit=False,\n",
    "    random_state=7\n",
    ")"
   ]
  },
  {
   "cell_type": "code",
   "execution_count": 153,
   "id": "a6a5f9df",
   "metadata": {
    "scrolled": true
   },
   "outputs": [
    {
     "name": "stdout",
     "output_type": "stream",
     "text": [
      "CPU times: total: 0 ns\n",
      "Wall time: 15.6 ms\n"
     ]
    }
   ],
   "source": [
    "%%time\n",
    "if not os.path.isdir(\"mySaves/models\") :\n",
    "    os.mkdir(\"mySaves/models\")\n",
    "\n",
    "if (\"LROptiSearch.joblib\" not in os.listdir(\"mySaves/models\")) or (rapidProcessing==False) :\n",
    "    LROptiSearch.fit(XTrainForGS,yTrain)\n",
    "    dump(LROptiSearch,\"mySaves/models/LROptiSearch.joblib\")\n",
    "\n",
    "else :\n",
    "    LROptiSearch=load(\"mySaves/models/LROptiSearch.joblib\")\n"
   ]
  },
  {
   "cell_type": "code",
   "execution_count": 154,
   "id": "d720af56",
   "metadata": {},
   "outputs": [],
   "source": [
    "LROptiSearchResults = pd.DataFrame(LROptiSearch.cv_results_).sort_values(\"rank_test_score\")"
   ]
  },
  {
   "cell_type": "code",
   "execution_count": 155,
   "id": "4b1e8985",
   "metadata": {
    "scrolled": false
   },
   "outputs": [
    {
     "data": {
      "text/html": [
       "<div>\n",
       "<style scoped>\n",
       "    .dataframe tbody tr th:only-of-type {\n",
       "        vertical-align: middle;\n",
       "    }\n",
       "\n",
       "    .dataframe tbody tr th {\n",
       "        vertical-align: top;\n",
       "    }\n",
       "\n",
       "    .dataframe thead th {\n",
       "        text-align: right;\n",
       "    }\n",
       "</style>\n",
       "<table border=\"1\" class=\"dataframe\">\n",
       "  <thead>\n",
       "    <tr style=\"text-align: right;\">\n",
       "      <th></th>\n",
       "      <th>mean_test_score</th>\n",
       "      <th>rank_test_score</th>\n",
       "      <th>mean_fit_time</th>\n",
       "      <th>std_fit_time</th>\n",
       "      <th>mean_score_time</th>\n",
       "      <th>std_score_time</th>\n",
       "      <th>param_clf__C</th>\n",
       "      <th>param_clf__class_weight</th>\n",
       "      <th>param_clf__fit_intercept</th>\n",
       "      <th>param_clf__intercept_scaling</th>\n",
       "      <th>param_clf__max_iter</th>\n",
       "      <th>param_clf__penalty</th>\n",
       "      <th>param_clf__solver</th>\n",
       "      <th>param_overSampler__k_neighbors</th>\n",
       "      <th>param_overSampler__sampling_strategy</th>\n",
       "      <th>param_underSampler__sampling_strategy</th>\n",
       "      <th>param_overSampler</th>\n",
       "      <th>param_underSampler</th>\n",
       "      <th>std_test_score</th>\n",
       "    </tr>\n",
       "  </thead>\n",
       "  <tbody>\n",
       "    <tr>\n",
       "      <th>13</th>\n",
       "      <td>0.244702</td>\n",
       "      <td>1</td>\n",
       "      <td>9.480457</td>\n",
       "      <td>0.962565</td>\n",
       "      <td>0.037551</td>\n",
       "      <td>0.001097</td>\n",
       "      <td>0.012447</td>\n",
       "      <td>balanced</td>\n",
       "      <td>True</td>\n",
       "      <td>8</td>\n",
       "      <td>200</td>\n",
       "      <td>l1</td>\n",
       "      <td>liblinear</td>\n",
       "      <td>NaN</td>\n",
       "      <td>NaN</td>\n",
       "      <td>NaN</td>\n",
       "      <td>passthrough</td>\n",
       "      <td>passthrough</td>\n",
       "      <td>0.004834</td>\n",
       "    </tr>\n",
       "    <tr>\n",
       "      <th>6</th>\n",
       "      <td>0.244494</td>\n",
       "      <td>2</td>\n",
       "      <td>1.956277</td>\n",
       "      <td>0.143683</td>\n",
       "      <td>0.041586</td>\n",
       "      <td>0.004814</td>\n",
       "      <td>0.050509</td>\n",
       "      <td>balanced</td>\n",
       "      <td>True</td>\n",
       "      <td>7</td>\n",
       "      <td>150</td>\n",
       "      <td>l2</td>\n",
       "      <td>newton-cholesky</td>\n",
       "      <td>NaN</td>\n",
       "      <td>NaN</td>\n",
       "      <td>NaN</td>\n",
       "      <td>passthrough</td>\n",
       "      <td>passthrough</td>\n",
       "      <td>0.004836</td>\n",
       "    </tr>\n",
       "    <tr>\n",
       "      <th>4</th>\n",
       "      <td>0.244345</td>\n",
       "      <td>3</td>\n",
       "      <td>1.807962</td>\n",
       "      <td>0.114523</td>\n",
       "      <td>0.041486</td>\n",
       "      <td>0.002214</td>\n",
       "      <td>1.666324</td>\n",
       "      <td>balanced</td>\n",
       "      <td>True</td>\n",
       "      <td>10</td>\n",
       "      <td>150</td>\n",
       "      <td>l2</td>\n",
       "      <td>newton-cholesky</td>\n",
       "      <td>NaN</td>\n",
       "      <td>NaN</td>\n",
       "      <td>NaN</td>\n",
       "      <td>passthrough</td>\n",
       "      <td>passthrough</td>\n",
       "      <td>0.004774</td>\n",
       "    </tr>\n",
       "    <tr>\n",
       "      <th>5</th>\n",
       "      <td>0.244341</td>\n",
       "      <td>4</td>\n",
       "      <td>1.807696</td>\n",
       "      <td>0.093098</td>\n",
       "      <td>0.039254</td>\n",
       "      <td>0.006952</td>\n",
       "      <td>2.053206</td>\n",
       "      <td>balanced</td>\n",
       "      <td>True</td>\n",
       "      <td>3</td>\n",
       "      <td>200</td>\n",
       "      <td>l2</td>\n",
       "      <td>newton-cholesky</td>\n",
       "      <td>NaN</td>\n",
       "      <td>NaN</td>\n",
       "      <td>NaN</td>\n",
       "      <td>passthrough</td>\n",
       "      <td>passthrough</td>\n",
       "      <td>0.004773</td>\n",
       "    </tr>\n",
       "    <tr>\n",
       "      <th>8</th>\n",
       "      <td>0.243244</td>\n",
       "      <td>5</td>\n",
       "      <td>1.610353</td>\n",
       "      <td>0.088847</td>\n",
       "      <td>0.036326</td>\n",
       "      <td>0.003706</td>\n",
       "      <td>0.00251</td>\n",
       "      <td>balanced</td>\n",
       "      <td>False</td>\n",
       "      <td>8</td>\n",
       "      <td>150</td>\n",
       "      <td>l2</td>\n",
       "      <td>newton-cholesky</td>\n",
       "      <td>NaN</td>\n",
       "      <td>NaN</td>\n",
       "      <td>NaN</td>\n",
       "      <td>passthrough</td>\n",
       "      <td>passthrough</td>\n",
       "      <td>0.005106</td>\n",
       "    </tr>\n",
       "    <tr>\n",
       "      <th>7</th>\n",
       "      <td>0.242858</td>\n",
       "      <td>6</td>\n",
       "      <td>1.692088</td>\n",
       "      <td>0.072957</td>\n",
       "      <td>0.045699</td>\n",
       "      <td>0.010301</td>\n",
       "      <td>0.070208</td>\n",
       "      <td>balanced</td>\n",
       "      <td>False</td>\n",
       "      <td>2</td>\n",
       "      <td>100</td>\n",
       "      <td>l2</td>\n",
       "      <td>newton-cholesky</td>\n",
       "      <td>NaN</td>\n",
       "      <td>NaN</td>\n",
       "      <td>NaN</td>\n",
       "      <td>passthrough</td>\n",
       "      <td>passthrough</td>\n",
       "      <td>0.004872</td>\n",
       "    </tr>\n",
       "    <tr>\n",
       "      <th>14</th>\n",
       "      <td>0.242786</td>\n",
       "      <td>7</td>\n",
       "      <td>17.551918</td>\n",
       "      <td>3.832803</td>\n",
       "      <td>0.037676</td>\n",
       "      <td>0.006434</td>\n",
       "      <td>4.020573</td>\n",
       "      <td>balanced</td>\n",
       "      <td>False</td>\n",
       "      <td>8</td>\n",
       "      <td>150</td>\n",
       "      <td>l1</td>\n",
       "      <td>liblinear</td>\n",
       "      <td>NaN</td>\n",
       "      <td>NaN</td>\n",
       "      <td>NaN</td>\n",
       "      <td>passthrough</td>\n",
       "      <td>passthrough</td>\n",
       "      <td>0.004889</td>\n",
       "    </tr>\n",
       "    <tr>\n",
       "      <th>12</th>\n",
       "      <td>0.242764</td>\n",
       "      <td>8</td>\n",
       "      <td>20.922523</td>\n",
       "      <td>1.698827</td>\n",
       "      <td>0.036952</td>\n",
       "      <td>0.001614</td>\n",
       "      <td>1.545131</td>\n",
       "      <td>balanced</td>\n",
       "      <td>False</td>\n",
       "      <td>7</td>\n",
       "      <td>200</td>\n",
       "      <td>l1</td>\n",
       "      <td>liblinear</td>\n",
       "      <td>NaN</td>\n",
       "      <td>NaN</td>\n",
       "      <td>NaN</td>\n",
       "      <td>passthrough</td>\n",
       "      <td>passthrough</td>\n",
       "      <td>0.004877</td>\n",
       "    </tr>\n",
       "    <tr>\n",
       "      <th>11</th>\n",
       "      <td>0.239385</td>\n",
       "      <td>9</td>\n",
       "      <td>3.108182</td>\n",
       "      <td>0.125557</td>\n",
       "      <td>0.033709</td>\n",
       "      <td>0.004285</td>\n",
       "      <td>0.013152</td>\n",
       "      <td>balanced</td>\n",
       "      <td>False</td>\n",
       "      <td>7</td>\n",
       "      <td>150</td>\n",
       "      <td>l1</td>\n",
       "      <td>liblinear</td>\n",
       "      <td>3</td>\n",
       "      <td>0.15</td>\n",
       "      <td>0.85</td>\n",
       "      <td>NaN</td>\n",
       "      <td>NaN</td>\n",
       "      <td>0.004398</td>\n",
       "    </tr>\n",
       "    <tr>\n",
       "      <th>10</th>\n",
       "      <td>0.231958</td>\n",
       "      <td>10</td>\n",
       "      <td>6.818408</td>\n",
       "      <td>2.291864</td>\n",
       "      <td>0.038428</td>\n",
       "      <td>0.006314</td>\n",
       "      <td>1.944449</td>\n",
       "      <td>balanced</td>\n",
       "      <td>False</td>\n",
       "      <td>7</td>\n",
       "      <td>200</td>\n",
       "      <td>l2</td>\n",
       "      <td>liblinear</td>\n",
       "      <td>6</td>\n",
       "      <td>0.15</td>\n",
       "      <td>0.9</td>\n",
       "      <td>NaN</td>\n",
       "      <td>NaN</td>\n",
       "      <td>0.004503</td>\n",
       "    </tr>\n",
       "    <tr>\n",
       "      <th>3</th>\n",
       "      <td>0.158492</td>\n",
       "      <td>11</td>\n",
       "      <td>6.731762</td>\n",
       "      <td>0.076346</td>\n",
       "      <td>0.041598</td>\n",
       "      <td>0.006648</td>\n",
       "      <td>3.372501</td>\n",
       "      <td>balanced</td>\n",
       "      <td>False</td>\n",
       "      <td>1</td>\n",
       "      <td>150</td>\n",
       "      <td>l2</td>\n",
       "      <td>lbfgs</td>\n",
       "      <td>NaN</td>\n",
       "      <td>NaN</td>\n",
       "      <td>NaN</td>\n",
       "      <td>passthrough</td>\n",
       "      <td>passthrough</td>\n",
       "      <td>0.007276</td>\n",
       "    </tr>\n",
       "    <tr>\n",
       "      <th>9</th>\n",
       "      <td>0.154805</td>\n",
       "      <td>12</td>\n",
       "      <td>6.553906</td>\n",
       "      <td>0.080254</td>\n",
       "      <td>0.040721</td>\n",
       "      <td>0.005546</td>\n",
       "      <td>0.005171</td>\n",
       "      <td>balanced</td>\n",
       "      <td>False</td>\n",
       "      <td>9</td>\n",
       "      <td>150</td>\n",
       "      <td>l2</td>\n",
       "      <td>lbfgs</td>\n",
       "      <td>NaN</td>\n",
       "      <td>NaN</td>\n",
       "      <td>NaN</td>\n",
       "      <td>passthrough</td>\n",
       "      <td>passthrough</td>\n",
       "      <td>0.006436</td>\n",
       "    </tr>\n",
       "    <tr>\n",
       "      <th>0</th>\n",
       "      <td>0.150153</td>\n",
       "      <td>13</td>\n",
       "      <td>4.399917</td>\n",
       "      <td>1.143597</td>\n",
       "      <td>0.036110</td>\n",
       "      <td>0.005477</td>\n",
       "      <td>0.00483</td>\n",
       "      <td>None</td>\n",
       "      <td>True</td>\n",
       "      <td>5</td>\n",
       "      <td>150</td>\n",
       "      <td>l2</td>\n",
       "      <td>lbfgs</td>\n",
       "      <td>6</td>\n",
       "      <td>0.3</td>\n",
       "      <td>0.85</td>\n",
       "      <td>NaN</td>\n",
       "      <td>NaN</td>\n",
       "      <td>0.025722</td>\n",
       "    </tr>\n",
       "    <tr>\n",
       "      <th>1</th>\n",
       "      <td>0.138624</td>\n",
       "      <td>14</td>\n",
       "      <td>4.151494</td>\n",
       "      <td>0.787688</td>\n",
       "      <td>0.045819</td>\n",
       "      <td>0.006092</td>\n",
       "      <td>0.024951</td>\n",
       "      <td>balanced</td>\n",
       "      <td>False</td>\n",
       "      <td>8</td>\n",
       "      <td>100</td>\n",
       "      <td>l2</td>\n",
       "      <td>lbfgs</td>\n",
       "      <td>3</td>\n",
       "      <td>0.3</td>\n",
       "      <td>0.85</td>\n",
       "      <td>NaN</td>\n",
       "      <td>NaN</td>\n",
       "      <td>0.015351</td>\n",
       "    </tr>\n",
       "    <tr>\n",
       "      <th>2</th>\n",
       "      <td>0.123138</td>\n",
       "      <td>15</td>\n",
       "      <td>3.361540</td>\n",
       "      <td>0.330964</td>\n",
       "      <td>0.038196</td>\n",
       "      <td>0.006665</td>\n",
       "      <td>9.665895</td>\n",
       "      <td>None</td>\n",
       "      <td>True</td>\n",
       "      <td>4</td>\n",
       "      <td>150</td>\n",
       "      <td>l2</td>\n",
       "      <td>lbfgs</td>\n",
       "      <td>3</td>\n",
       "      <td>0.3</td>\n",
       "      <td>0.85</td>\n",
       "      <td>NaN</td>\n",
       "      <td>NaN</td>\n",
       "      <td>0.008639</td>\n",
       "    </tr>\n",
       "  </tbody>\n",
       "</table>\n",
       "</div>"
      ],
      "text/plain": [
       "    mean_test_score  rank_test_score  mean_fit_time  std_fit_time  \\\n",
       "13         0.244702                1       9.480457      0.962565   \n",
       "6          0.244494                2       1.956277      0.143683   \n",
       "4          0.244345                3       1.807962      0.114523   \n",
       "5          0.244341                4       1.807696      0.093098   \n",
       "8          0.243244                5       1.610353      0.088847   \n",
       "7          0.242858                6       1.692088      0.072957   \n",
       "14         0.242786                7      17.551918      3.832803   \n",
       "12         0.242764                8      20.922523      1.698827   \n",
       "11         0.239385                9       3.108182      0.125557   \n",
       "10         0.231958               10       6.818408      2.291864   \n",
       "3          0.158492               11       6.731762      0.076346   \n",
       "9          0.154805               12       6.553906      0.080254   \n",
       "0          0.150153               13       4.399917      1.143597   \n",
       "1          0.138624               14       4.151494      0.787688   \n",
       "2          0.123138               15       3.361540      0.330964   \n",
       "\n",
       "    mean_score_time  std_score_time param_clf__C param_clf__class_weight  \\\n",
       "13         0.037551        0.001097     0.012447                balanced   \n",
       "6          0.041586        0.004814     0.050509                balanced   \n",
       "4          0.041486        0.002214     1.666324                balanced   \n",
       "5          0.039254        0.006952     2.053206                balanced   \n",
       "8          0.036326        0.003706      0.00251                balanced   \n",
       "7          0.045699        0.010301     0.070208                balanced   \n",
       "14         0.037676        0.006434     4.020573                balanced   \n",
       "12         0.036952        0.001614     1.545131                balanced   \n",
       "11         0.033709        0.004285     0.013152                balanced   \n",
       "10         0.038428        0.006314     1.944449                balanced   \n",
       "3          0.041598        0.006648     3.372501                balanced   \n",
       "9          0.040721        0.005546     0.005171                balanced   \n",
       "0          0.036110        0.005477      0.00483                    None   \n",
       "1          0.045819        0.006092     0.024951                balanced   \n",
       "2          0.038196        0.006665     9.665895                    None   \n",
       "\n",
       "   param_clf__fit_intercept param_clf__intercept_scaling param_clf__max_iter  \\\n",
       "13                     True                            8                 200   \n",
       "6                      True                            7                 150   \n",
       "4                      True                           10                 150   \n",
       "5                      True                            3                 200   \n",
       "8                     False                            8                 150   \n",
       "7                     False                            2                 100   \n",
       "14                    False                            8                 150   \n",
       "12                    False                            7                 200   \n",
       "11                    False                            7                 150   \n",
       "10                    False                            7                 200   \n",
       "3                     False                            1                 150   \n",
       "9                     False                            9                 150   \n",
       "0                      True                            5                 150   \n",
       "1                     False                            8                 100   \n",
       "2                      True                            4                 150   \n",
       "\n",
       "   param_clf__penalty param_clf__solver param_overSampler__k_neighbors  \\\n",
       "13                 l1         liblinear                            NaN   \n",
       "6                  l2   newton-cholesky                            NaN   \n",
       "4                  l2   newton-cholesky                            NaN   \n",
       "5                  l2   newton-cholesky                            NaN   \n",
       "8                  l2   newton-cholesky                            NaN   \n",
       "7                  l2   newton-cholesky                            NaN   \n",
       "14                 l1         liblinear                            NaN   \n",
       "12                 l1         liblinear                            NaN   \n",
       "11                 l1         liblinear                              3   \n",
       "10                 l2         liblinear                              6   \n",
       "3                  l2             lbfgs                            NaN   \n",
       "9                  l2             lbfgs                            NaN   \n",
       "0                  l2             lbfgs                              6   \n",
       "1                  l2             lbfgs                              3   \n",
       "2                  l2             lbfgs                              3   \n",
       "\n",
       "   param_overSampler__sampling_strategy param_underSampler__sampling_strategy  \\\n",
       "13                                  NaN                                   NaN   \n",
       "6                                   NaN                                   NaN   \n",
       "4                                   NaN                                   NaN   \n",
       "5                                   NaN                                   NaN   \n",
       "8                                   NaN                                   NaN   \n",
       "7                                   NaN                                   NaN   \n",
       "14                                  NaN                                   NaN   \n",
       "12                                  NaN                                   NaN   \n",
       "11                                 0.15                                  0.85   \n",
       "10                                 0.15                                   0.9   \n",
       "3                                   NaN                                   NaN   \n",
       "9                                   NaN                                   NaN   \n",
       "0                                   0.3                                  0.85   \n",
       "1                                   0.3                                  0.85   \n",
       "2                                   0.3                                  0.85   \n",
       "\n",
       "   param_overSampler param_underSampler  std_test_score  \n",
       "13       passthrough        passthrough        0.004834  \n",
       "6        passthrough        passthrough        0.004836  \n",
       "4        passthrough        passthrough        0.004774  \n",
       "5        passthrough        passthrough        0.004773  \n",
       "8        passthrough        passthrough        0.005106  \n",
       "7        passthrough        passthrough        0.004872  \n",
       "14       passthrough        passthrough        0.004889  \n",
       "12       passthrough        passthrough        0.004877  \n",
       "11               NaN                NaN        0.004398  \n",
       "10               NaN                NaN        0.004503  \n",
       "3        passthrough        passthrough        0.007276  \n",
       "9        passthrough        passthrough        0.006436  \n",
       "0                NaN                NaN        0.025722  \n",
       "1                NaN                NaN        0.015351  \n",
       "2                NaN                NaN        0.008639  "
      ]
     },
     "execution_count": 155,
     "metadata": {},
     "output_type": "execute_result"
    }
   ],
   "source": [
    "cols=[col for col in LROptiSearchResults.columns \\\n",
    "      if (\n",
    "    (\"score\" in col)or\\\n",
    "    (\"time\" in col)or\\\n",
    "    (\"param_\" in col))\\\n",
    "      and(\"split0\" not in col)and(\"split1\" not in col)and(\"split2\" not in col)and(\"split3\" not in col)]\n",
    "LROptiSearchResults=LROptiSearchResults[cols]\n",
    "LROptiSearchResults=LROptiSearchResults[\n",
    "    [\"mean_test_score\",\"rank_test_score\"]\\\n",
    "    +[col for col in LROptiSearchResults.columns if col not in [\"mean_test_score\",\"rank_test_score\"]]\n",
    "]\n",
    "LROptiSearchResults.sort_values(\"rank_test_score\")\n",
    "\n",
    "LROptiSearchResults.head(30)"
   ]
  },
  {
   "cell_type": "markdown",
   "id": "c7f643aa",
   "metadata": {},
   "source": [
    "Les meilleurs paramètres sont les suivants :"
   ]
  },
  {
   "cell_type": "code",
   "execution_count": 156,
   "id": "a2c01cd0",
   "metadata": {},
   "outputs": [
    {
     "data": {
      "text/plain": [
       "OrderedDict([('clf__C', 0.012446745510423799),\n",
       "             ('clf__class_weight', 'balanced'),\n",
       "             ('clf__fit_intercept', True),\n",
       "             ('clf__intercept_scaling', 8),\n",
       "             ('clf__max_iter', 200),\n",
       "             ('clf__penalty', 'l1'),\n",
       "             ('clf__solver', 'liblinear'),\n",
       "             ('overSampler', 'passthrough'),\n",
       "             ('underSampler', 'passthrough')])"
      ]
     },
     "execution_count": 156,
     "metadata": {},
     "output_type": "execute_result"
    }
   ],
   "source": [
    "LROptiSearch.best_params_"
   ]
  },
  {
   "cell_type": "markdown",
   "id": "324f7d20",
   "metadata": {},
   "source": [
    "Le pipeline général pour notre régression logistique :"
   ]
  },
  {
   "cell_type": "code",
   "execution_count": 157,
   "id": "6e1f5e24",
   "metadata": {},
   "outputs": [],
   "source": [
    "LRpipeTuned = imbPipeline(\n",
    "    [\n",
    "        (\"columnTransformer\",columnTransformer),\n",
    "        (\"VarianceSelector\",VarianceSelector),\n",
    "        (\"FscoreSelector\",FscoreSelector),        \n",
    "        (\"RFEselector\",clone(RFEselector)),\n",
    "        (\"overSampler\",overSampler),\n",
    "        (\"underSampler\",underSampler),\n",
    "        (\"clf\",LRclf)\n",
    "    ],\n",
    "    verbose=True\n",
    ")"
   ]
  },
  {
   "cell_type": "markdown",
   "id": "ba71d82b",
   "metadata": {},
   "source": [
    "Appliquer les paramètres déterminés :"
   ]
  },
  {
   "cell_type": "code",
   "execution_count": 158,
   "id": "6441da4e",
   "metadata": {},
   "outputs": [
    {
     "data": {
      "text/html": [
       "<style>#sk-container-id-7 {color: black;}#sk-container-id-7 pre{padding: 0;}#sk-container-id-7 div.sk-toggleable {background-color: white;}#sk-container-id-7 label.sk-toggleable__label {cursor: pointer;display: block;width: 100%;margin-bottom: 0;padding: 0.3em;box-sizing: border-box;text-align: center;}#sk-container-id-7 label.sk-toggleable__label-arrow:before {content: \"▸\";float: left;margin-right: 0.25em;color: #696969;}#sk-container-id-7 label.sk-toggleable__label-arrow:hover:before {color: black;}#sk-container-id-7 div.sk-estimator:hover label.sk-toggleable__label-arrow:before {color: black;}#sk-container-id-7 div.sk-toggleable__content {max-height: 0;max-width: 0;overflow: hidden;text-align: left;background-color: #f0f8ff;}#sk-container-id-7 div.sk-toggleable__content pre {margin: 0.2em;color: black;border-radius: 0.25em;background-color: #f0f8ff;}#sk-container-id-7 input.sk-toggleable__control:checked~div.sk-toggleable__content {max-height: 200px;max-width: 100%;overflow: auto;}#sk-container-id-7 input.sk-toggleable__control:checked~label.sk-toggleable__label-arrow:before {content: \"▾\";}#sk-container-id-7 div.sk-estimator input.sk-toggleable__control:checked~label.sk-toggleable__label {background-color: #d4ebff;}#sk-container-id-7 div.sk-label input.sk-toggleable__control:checked~label.sk-toggleable__label {background-color: #d4ebff;}#sk-container-id-7 input.sk-hidden--visually {border: 0;clip: rect(1px 1px 1px 1px);clip: rect(1px, 1px, 1px, 1px);height: 1px;margin: -1px;overflow: hidden;padding: 0;position: absolute;width: 1px;}#sk-container-id-7 div.sk-estimator {font-family: monospace;background-color: #f0f8ff;border: 1px dotted black;border-radius: 0.25em;box-sizing: border-box;margin-bottom: 0.5em;}#sk-container-id-7 div.sk-estimator:hover {background-color: #d4ebff;}#sk-container-id-7 div.sk-parallel-item::after {content: \"\";width: 100%;border-bottom: 1px solid gray;flex-grow: 1;}#sk-container-id-7 div.sk-label:hover label.sk-toggleable__label {background-color: #d4ebff;}#sk-container-id-7 div.sk-serial::before {content: \"\";position: absolute;border-left: 1px solid gray;box-sizing: border-box;top: 0;bottom: 0;left: 50%;z-index: 0;}#sk-container-id-7 div.sk-serial {display: flex;flex-direction: column;align-items: center;background-color: white;padding-right: 0.2em;padding-left: 0.2em;position: relative;}#sk-container-id-7 div.sk-item {position: relative;z-index: 1;}#sk-container-id-7 div.sk-parallel {display: flex;align-items: stretch;justify-content: center;background-color: white;position: relative;}#sk-container-id-7 div.sk-item::before, #sk-container-id-7 div.sk-parallel-item::before {content: \"\";position: absolute;border-left: 1px solid gray;box-sizing: border-box;top: 0;bottom: 0;left: 50%;z-index: -1;}#sk-container-id-7 div.sk-parallel-item {display: flex;flex-direction: column;z-index: 1;position: relative;background-color: white;}#sk-container-id-7 div.sk-parallel-item:first-child::after {align-self: flex-end;width: 50%;}#sk-container-id-7 div.sk-parallel-item:last-child::after {align-self: flex-start;width: 50%;}#sk-container-id-7 div.sk-parallel-item:only-child::after {width: 0;}#sk-container-id-7 div.sk-dashed-wrapped {border: 1px dashed gray;margin: 0 0.4em 0.5em 0.4em;box-sizing: border-box;padding-bottom: 0.4em;background-color: white;}#sk-container-id-7 div.sk-label label {font-family: monospace;font-weight: bold;display: inline-block;line-height: 1.2em;}#sk-container-id-7 div.sk-label-container {text-align: center;}#sk-container-id-7 div.sk-container {/* jupyter's `normalize.less` sets `[hidden] { display: none; }` but bootstrap.min.css set `[hidden] { display: none !important; }` so we also need the `!important` here to be able to override the default hidden behavior on the sphinx rendered scikit-learn.org. See: https://github.com/scikit-learn/scikit-learn/issues/21755 */display: inline-block !important;position: relative;}#sk-container-id-7 div.sk-text-repr-fallback {display: none;}</style><div id=\"sk-container-id-7\" class=\"sk-top-container\"><div class=\"sk-text-repr-fallback\"><pre>Pipeline(steps=[(&#x27;columnTransformer&#x27;,\n",
       "                 ColumnTransformer(transformers=[(&#x27;numericTransformer&#x27;,\n",
       "                                                  Pipeline(steps=[(&#x27;imputerNum&#x27;,\n",
       "                                                                   SimpleImputer(strategy=&#x27;median&#x27;)),\n",
       "                                                                  (&#x27;scalerNum&#x27;,\n",
       "                                                                   RobustScaler())]),\n",
       "                                                  [&#x27;NAME_CONTRACT_TYPE&#x27;,\n",
       "                                                   &#x27;CODE_GENDER&#x27;,\n",
       "                                                   &#x27;FLAG_OWN_CAR&#x27;,\n",
       "                                                   &#x27;FLAG_OWN_REALTY&#x27;,\n",
       "                                                   &#x27;CNT_CHILDREN&#x27;,\n",
       "                                                   &#x27;AMT_INCOME_TOTAL&#x27;,\n",
       "                                                   &#x27;AMT_CREDIT&#x27;, &#x27;AMT_ANNUITY&#x27;,\n",
       "                                                   &#x27;AMT_GOODS_PRICE&#x27;,\n",
       "                                                   &#x27;REGION_POPULATI...\n",
       "                                                        random_state=16),\n",
       "                       min_features_to_select=70, n_jobs=8,\n",
       "                       scoring=&#x27;average_precision&#x27;, step=0.05, verbose=3)),\n",
       "                (&#x27;overSampler&#x27;, &#x27;passthrough&#x27;), (&#x27;underSampler&#x27;, &#x27;passthrough&#x27;),\n",
       "                (&#x27;clf&#x27;,\n",
       "                 LogisticRegression(C=0.012446745510423799,\n",
       "                                    class_weight=&#x27;balanced&#x27;,\n",
       "                                    intercept_scaling=8, max_iter=200, n_jobs=8,\n",
       "                                    penalty=&#x27;l1&#x27;, random_state=7,\n",
       "                                    solver=&#x27;liblinear&#x27;, verbose=1))],\n",
       "         verbose=True)</pre><b>In a Jupyter environment, please rerun this cell to show the HTML representation or trust the notebook. <br />On GitHub, the HTML representation is unable to render, please try loading this page with nbviewer.org.</b></div><div class=\"sk-container\" hidden><div class=\"sk-item sk-dashed-wrapped\"><div class=\"sk-label-container\"><div class=\"sk-label sk-toggleable\"><input class=\"sk-toggleable__control sk-hidden--visually\" id=\"sk-estimator-id-105\" type=\"checkbox\" ><label for=\"sk-estimator-id-105\" class=\"sk-toggleable__label sk-toggleable__label-arrow\">Pipeline</label><div class=\"sk-toggleable__content\"><pre>Pipeline(steps=[(&#x27;columnTransformer&#x27;,\n",
       "                 ColumnTransformer(transformers=[(&#x27;numericTransformer&#x27;,\n",
       "                                                  Pipeline(steps=[(&#x27;imputerNum&#x27;,\n",
       "                                                                   SimpleImputer(strategy=&#x27;median&#x27;)),\n",
       "                                                                  (&#x27;scalerNum&#x27;,\n",
       "                                                                   RobustScaler())]),\n",
       "                                                  [&#x27;NAME_CONTRACT_TYPE&#x27;,\n",
       "                                                   &#x27;CODE_GENDER&#x27;,\n",
       "                                                   &#x27;FLAG_OWN_CAR&#x27;,\n",
       "                                                   &#x27;FLAG_OWN_REALTY&#x27;,\n",
       "                                                   &#x27;CNT_CHILDREN&#x27;,\n",
       "                                                   &#x27;AMT_INCOME_TOTAL&#x27;,\n",
       "                                                   &#x27;AMT_CREDIT&#x27;, &#x27;AMT_ANNUITY&#x27;,\n",
       "                                                   &#x27;AMT_GOODS_PRICE&#x27;,\n",
       "                                                   &#x27;REGION_POPULATI...\n",
       "                                                        random_state=16),\n",
       "                       min_features_to_select=70, n_jobs=8,\n",
       "                       scoring=&#x27;average_precision&#x27;, step=0.05, verbose=3)),\n",
       "                (&#x27;overSampler&#x27;, &#x27;passthrough&#x27;), (&#x27;underSampler&#x27;, &#x27;passthrough&#x27;),\n",
       "                (&#x27;clf&#x27;,\n",
       "                 LogisticRegression(C=0.012446745510423799,\n",
       "                                    class_weight=&#x27;balanced&#x27;,\n",
       "                                    intercept_scaling=8, max_iter=200, n_jobs=8,\n",
       "                                    penalty=&#x27;l1&#x27;, random_state=7,\n",
       "                                    solver=&#x27;liblinear&#x27;, verbose=1))],\n",
       "         verbose=True)</pre></div></div></div><div class=\"sk-serial\"><div class=\"sk-item sk-dashed-wrapped\"><div class=\"sk-label-container\"><div class=\"sk-label sk-toggleable\"><input class=\"sk-toggleable__control sk-hidden--visually\" id=\"sk-estimator-id-106\" type=\"checkbox\" ><label for=\"sk-estimator-id-106\" class=\"sk-toggleable__label sk-toggleable__label-arrow\">columnTransformer: ColumnTransformer</label><div class=\"sk-toggleable__content\"><pre>ColumnTransformer(transformers=[(&#x27;numericTransformer&#x27;,\n",
       "                                 Pipeline(steps=[(&#x27;imputerNum&#x27;,\n",
       "                                                  SimpleImputer(strategy=&#x27;median&#x27;)),\n",
       "                                                 (&#x27;scalerNum&#x27;,\n",
       "                                                  RobustScaler())]),\n",
       "                                 [&#x27;NAME_CONTRACT_TYPE&#x27;, &#x27;CODE_GENDER&#x27;,\n",
       "                                  &#x27;FLAG_OWN_CAR&#x27;, &#x27;FLAG_OWN_REALTY&#x27;,\n",
       "                                  &#x27;CNT_CHILDREN&#x27;, &#x27;AMT_INCOME_TOTAL&#x27;,\n",
       "                                  &#x27;AMT_CREDIT&#x27;, &#x27;AMT_ANNUITY&#x27;,\n",
       "                                  &#x27;AMT_GOODS_PRICE&#x27;,\n",
       "                                  &#x27;REGION_POPULATION_RELATIVE&#x27;, &#x27;DAYS_BIRTH&#x27;,\n",
       "                                  &#x27;DAYS_EMPLO...\n",
       "                                                  SimpleImputer(fill_value=&#x27;missing&#x27;,\n",
       "                                                                strategy=&#x27;constant&#x27;)),\n",
       "                                                 (&#x27;encoderOrdi&#x27;,\n",
       "                                                  OrdinalEncoder(categories=[[&#x27;Lower &#x27;\n",
       "                                                                              &#x27;secondary&#x27;,\n",
       "                                                                              &#x27;Secondary &#x27;\n",
       "                                                                              &#x27;/ &#x27;\n",
       "                                                                              &#x27;secondary &#x27;\n",
       "                                                                              &#x27;special&#x27;,\n",
       "                                                                              &#x27;Incomplete &#x27;\n",
       "                                                                              &#x27;higher&#x27;,\n",
       "                                                                              &#x27;Higher &#x27;\n",
       "                                                                              &#x27;education&#x27;,\n",
       "                                                                              &#x27;Academic &#x27;\n",
       "                                                                              &#x27;degree&#x27;]],\n",
       "                                                                 dtype=&lt;class &#x27;numpy.int8&#x27;&gt;,\n",
       "                                                                 handle_unknown=&#x27;use_encoded_value&#x27;,\n",
       "                                                                 unknown_value=-1)),\n",
       "                                                 (&#x27;scalerOrdi&#x27;,\n",
       "                                                  StandardScaler())]),\n",
       "                                 [&#x27;NAME_EDUCATION_TYPE&#x27;])])</pre></div></div></div><div class=\"sk-parallel\"><div class=\"sk-parallel-item\"><div class=\"sk-item\"><div class=\"sk-label-container\"><div class=\"sk-label sk-toggleable\"><input class=\"sk-toggleable__control sk-hidden--visually\" id=\"sk-estimator-id-107\" type=\"checkbox\" ><label for=\"sk-estimator-id-107\" class=\"sk-toggleable__label sk-toggleable__label-arrow\">numericTransformer</label><div class=\"sk-toggleable__content\"><pre>[&#x27;NAME_CONTRACT_TYPE&#x27;, &#x27;CODE_GENDER&#x27;, &#x27;FLAG_OWN_CAR&#x27;, &#x27;FLAG_OWN_REALTY&#x27;, &#x27;CNT_CHILDREN&#x27;, &#x27;AMT_INCOME_TOTAL&#x27;, &#x27;AMT_CREDIT&#x27;, &#x27;AMT_ANNUITY&#x27;, &#x27;AMT_GOODS_PRICE&#x27;, &#x27;REGION_POPULATION_RELATIVE&#x27;, &#x27;DAYS_BIRTH&#x27;, &#x27;DAYS_EMPLOYED&#x27;, &#x27;DAYS_REGISTRATION&#x27;, &#x27;DAYS_ID_PUBLISH&#x27;, &#x27;OWN_CAR_AGE&#x27;, &#x27;FLAG_MOBIL&#x27;, &#x27;FLAG_EMP_PHONE&#x27;, &#x27;FLAG_WORK_PHONE&#x27;, &#x27;FLAG_CONT_MOBILE&#x27;, &#x27;FLAG_PHONE&#x27;, &#x27;FLAG_EMAIL&#x27;, &#x27;CNT_FAM_MEMBERS&#x27;, &#x27;REGION_RATING_CLIENT&#x27;, &#x27;REGION_RATING_CLIENT_W_CITY&#x27;, &#x27;HOUR_APPR_PROCESS_START&#x27;, &#x27;EXT_SOURCE_1&#x27;, &#x27;EXT_SOURCE_2&#x27;, &#x27;EXT_SOURCE_3&#x27;, &#x27;APARTMENTS_AVG&#x27;, &#x27;BASEMENTAREA_AVG&#x27;, &#x27;YEARS_BEGINEXPLUATATION_AVG&#x27;, &#x27;COMMONAREA_AVG&#x27;, &#x27;ELEVATORS_AVG&#x27;, &#x27;ENTRANCES_AVG&#x27;, &#x27;FLOORSMAX_AVG&#x27;, &#x27;FLOORSMIN_AVG&#x27;, &#x27;LANDAREA_AVG&#x27;, &#x27;LIVINGAREA_AVG&#x27;, &#x27;NONLIVINGAPARTMENTS_AVG&#x27;, &#x27;NONLIVINGAREA_AVG&#x27;, &#x27;YEARS_BEGINEXPLUATATION_MEDI&#x27;, &#x27;EMERGENCYSTATE_MODE&#x27;, &#x27;DAYS_LAST_PHONE_CHANGE&#x27;, &#x27;AMT_REQ_CREDIT_BUREAU_HOUR&#x27;, &#x27;AMT_REQ_CREDIT_BUREAU_DAY&#x27;, &#x27;AMT_REQ_CREDIT_BUREAU_WEEK&#x27;, &#x27;AMT_REQ_CREDIT_BUREAU_MON&#x27;, &#x27;AMT_REQ_CREDIT_BUREAU_QRT&#x27;, &#x27;AMT_REQ_CREDIT_BUREAU_YEAR&#x27;, &#x27;NEW_CREDIT_TO_ANNUITY_RATIO&#x27;, &#x27;NEW_DOWN_PAYMENT_RATE&#x27;, &#x27;NEW_CREDIT_TO_GOOD_RATIO&#x27;, &#x27;NEW_ANNUITY_TO_INCOME_RATIO&#x27;, &#x27;NEW_SOURCES_PROD&#x27;, &#x27;NEW_EXT_SOURCES_MEAN&#x27;, &#x27;NEW_is_NOT_sth&#x27;, &#x27;NEW_is_DOCLess&#x27;, &#x27;NEW_is_DOCMore&#x27;, &#x27;BUR_CREDIT_ACTIVE_Active_AggMean&#x27;, &#x27;BUR_CREDIT_ACTIVE_Bad debt_AggMean&#x27;, &#x27;BUR_CREDIT_ACTIVE_Closed_AggMean&#x27;, &#x27;BUR_CREDIT_ACTIVE_Sold_AggMean&#x27;, &#x27;BUR_CREDIT_ACTIVE_missing_AggMean&#x27;, &#x27;BUR_CREDIT_CURRENCY_currency 1_AggMean&#x27;, &#x27;BUR_CREDIT_CURRENCY_currency 2_AggMean&#x27;, &#x27;BUR_CREDIT_CURRENCY_currency 3_AggMean&#x27;, &#x27;BUR_CREDIT_CURRENCY_currency 4_AggMean&#x27;, &#x27;BUR_CREDIT_CURRENCY_missing_AggMean&#x27;, &#x27;BUR_BB_last10_STATUS_AggMean_AggMean&#x27;, &#x27;BUR_DAYS_CREDIT_AggMean&#x27;, &#x27;BUR_CREDIT_DAY_OVERDUE_AggMean&#x27;, &#x27;BUR_DAYS_CREDIT_ENDDATE_AggMean&#x27;, &#x27;BUR_DAYS_ENDDATE_FACT_AggMean&#x27;, &#x27;BUR_AMT_CREDIT_MAX_OVERDUE_AggMean&#x27;, &#x27;BUR_CNT_CREDIT_PROLONG_AggSum&#x27;, &#x27;BUR_AMT_CREDIT_SUM_AggSum&#x27;, &#x27;BUR_AMT_CREDIT_SUM_DEBT_AggSum&#x27;, &#x27;BUR_AMT_ANNUITY_AggMean&#x27;, &#x27;BUR_NEW_DEPT_TO_REMDAYS_RATIO_AggMax&#x27;, &#x27;PREV_NAME_CONTRACT_TYPE_Cash loans_AggMean&#x27;, &#x27;PREV_NAME_CONTRACT_TYPE_Consumer loans_AggMean&#x27;, &#x27;PREV_NAME_CONTRACT_TYPE_Revolving loans_AggMean&#x27;, &#x27;PREV_NAME_CONTRACT_TYPE_missing_AggMean&#x27;, &#x27;PREV_NAME_CONTRACT_STATUS_Approved_AggMean&#x27;, &#x27;PREV_NAME_CONTRACT_STATUS_Canceled_AggMean&#x27;, &#x27;PREV_NAME_CONTRACT_STATUS_Refused_AggMean&#x27;, &#x27;PREV_NAME_CONTRACT_STATUS_Unused offer_AggMean&#x27;, &#x27;PREV_NAME_CONTRACT_STATUS_missing_AggMean&#x27;, &#x27;PREV_NAME_PAYMENT_TYPE_Cash through the bank_AggMean&#x27;, &#x27;PREV_NAME_PAYMENT_TYPE_Cashless from the account of the employer_AggMean&#x27;, &#x27;PREV_NAME_PAYMENT_TYPE_Non-cash from your account_AggMean&#x27;, &#x27;PREV_NAME_PORTFOLIO_Cars_AggMean&#x27;, &#x27;PREV_NAME_PORTFOLIO_POS_AggMean&#x27;, &#x27;PREV_NAME_PORTFOLIO_missing_AggMean&#x27;, &#x27;PREV_AMT_ANNUITY_AggMax&#x27;, &#x27;PREV_AMT_APPLICATION_AggMin&#x27;, &#x27;PREV_AMT_CREDIT_AggMin&#x27;, &#x27;PREV_DAYS_DECISION_AggMin&#x27;, &#x27;PREV_NAME_CLIENT_TYPE_AggMin&#x27;, &#x27;PREV_NAME_PRODUCT_TYPE_AggMean&#x27;, &#x27;PREV_CNT_PAYMENT_AggMean&#x27;, &#x27;PREV_NAME_YIELD_GROUP_AggMin&#x27;, &#x27;PREV_DAYS_FIRST_DUE_AggMax&#x27;, &#x27;PREV_DAYS_LAST_DUE_1ST_VERSION_AggMax&#x27;, &#x27;PREV_DAYS_LAST_DUE_AggMax&#x27;, &#x27;PREV_NFLAG_INSURED_ON_APPROVAL_AggMean&#x27;, &#x27;PREV_NEW_DIFF_K_RATIO_AggMax&#x27;, &#x27;PREV_NEW_I_RATE_AggMin&#x27;, &#x27;CC_last10_AMT_BALANCE_AggMean&#x27;, &#x27;CC_last10_NEW_SUM_CNT_DRAW_AggSum&#x27;, &#x27;CC_last10_SK_DPD_AggMean&#x27;, &#x27;CC_last10_SK_DPD_DEF_AggMean&#x27;, &#x27;CC_AMT_BALANCE_AggMean&#x27;, &#x27;CC_SK_DPD_AggMean&#x27;, &#x27;CC_SK_DPD_DEF_AggMean&#x27;, &#x27;CC_NEW_SUM_CNT_DRAW_AggSum&#x27;, &#x27;POS_last10_SK_DPD_AggMean&#x27;, &#x27;POS_last10_SK_DPD_DEF_AggMean&#x27;, &#x27;POS_last10_NEW_ACTUAL_LEFT_TO_PAY_AggMean&#x27;, &#x27;POS_SK_DPD_AggMean&#x27;, &#x27;POS_SK_DPD_DEF_AggMean&#x27;, &#x27;INS_last10_NEW_LESS_PAY_NORM_AggMean&#x27;, &#x27;INS_last10_NEW_DPD_NORM_AggMean&#x27;, &#x27;INS_DAYS_ENTRY_PAYMENT_AggMean&#x27;, &#x27;INS_AMT_INSTALMENT_AggMean&#x27;, &#x27;INS_AMT_PAYMENT_AggMean&#x27;, &#x27;INS_NEW_LESS_PAY_NORM_AggMean&#x27;, &#x27;INS_NEW_DPD_NORM_AggMean&#x27;, &#x27;NEW_I_x_DOWN&#x27;]</pre></div></div></div><div class=\"sk-serial\"><div class=\"sk-item\"><div class=\"sk-serial\"><div class=\"sk-item\"><div class=\"sk-estimator sk-toggleable\"><input class=\"sk-toggleable__control sk-hidden--visually\" id=\"sk-estimator-id-108\" type=\"checkbox\" ><label for=\"sk-estimator-id-108\" class=\"sk-toggleable__label sk-toggleable__label-arrow\">SimpleImputer</label><div class=\"sk-toggleable__content\"><pre>SimpleImputer(strategy=&#x27;median&#x27;)</pre></div></div></div><div class=\"sk-item\"><div class=\"sk-estimator sk-toggleable\"><input class=\"sk-toggleable__control sk-hidden--visually\" id=\"sk-estimator-id-109\" type=\"checkbox\" ><label for=\"sk-estimator-id-109\" class=\"sk-toggleable__label sk-toggleable__label-arrow\">RobustScaler</label><div class=\"sk-toggleable__content\"><pre>RobustScaler()</pre></div></div></div></div></div></div></div></div><div class=\"sk-parallel-item\"><div class=\"sk-item\"><div class=\"sk-label-container\"><div class=\"sk-label sk-toggleable\"><input class=\"sk-toggleable__control sk-hidden--visually\" id=\"sk-estimator-id-110\" type=\"checkbox\" ><label for=\"sk-estimator-id-110\" class=\"sk-toggleable__label sk-toggleable__label-arrow\">highCardiTransformer</label><div class=\"sk-toggleable__content\"><pre>[&#x27;NAME_TYPE_SUITE&#x27;, &#x27;NAME_INCOME_TYPE&#x27;, &#x27;OCCUPATION_TYPE&#x27;, &#x27;WEEKDAY_APPR_PROCESS_START&#x27;, &#x27;ORGANIZATION_TYPE&#x27;, &#x27;WALLSMATERIAL_MODE&#x27;, &#x27;BUR_CREDIT_TYPE_AggMymode&#x27;, &#x27;PREV_NAME_CASH_LOAN_PURPOSE_AggMymode&#x27;, &#x27;PREV_NAME_GOODS_CATEGORY_AggMymode&#x27;, &#x27;PREV_PRODUCT_COMBINATION_AggMymode&#x27;, &#x27;PREV_WEEKDAY_APPR_PROCESS_START_AggMymode&#x27;, &#x27;PREV_CODE_REJECT_REASON_AggMymode&#x27;, &#x27;PREV_NAME_TYPE_SUITE_AggMymode&#x27;, &#x27;PREV_CHANNEL_TYPE_AggMymode&#x27;, &#x27;PREV_NAME_SELLER_INDUSTRY_AggMymode&#x27;, &#x27;CC_NAME_CONTRACT_STATUS_AggMymode&#x27;, &#x27;POS_NAME_CONTRACT_STATUS_AggMymode&#x27;]</pre></div></div></div><div class=\"sk-serial\"><div class=\"sk-item\"><div class=\"sk-serial\"><div class=\"sk-item\"><div class=\"sk-estimator sk-toggleable\"><input class=\"sk-toggleable__control sk-hidden--visually\" id=\"sk-estimator-id-111\" type=\"checkbox\" ><label for=\"sk-estimator-id-111\" class=\"sk-toggleable__label sk-toggleable__label-arrow\">SimpleImputer</label><div class=\"sk-toggleable__content\"><pre>SimpleImputer(fill_value=&#x27;missing&#x27;, strategy=&#x27;constant&#x27;)</pre></div></div></div><div class=\"sk-item\"><div class=\"sk-estimator sk-toggleable\"><input class=\"sk-toggleable__control sk-hidden--visually\" id=\"sk-estimator-id-112\" type=\"checkbox\" ><label for=\"sk-estimator-id-112\" class=\"sk-toggleable__label sk-toggleable__label-arrow\">TargetEncoder</label><div class=\"sk-toggleable__content\"><pre>TargetEncoder()</pre></div></div></div><div class=\"sk-item\"><div class=\"sk-estimator sk-toggleable\"><input class=\"sk-toggleable__control sk-hidden--visually\" id=\"sk-estimator-id-113\" type=\"checkbox\" ><label for=\"sk-estimator-id-113\" class=\"sk-toggleable__label sk-toggleable__label-arrow\">StandardScaler</label><div class=\"sk-toggleable__content\"><pre>StandardScaler()</pre></div></div></div></div></div></div></div></div><div class=\"sk-parallel-item\"><div class=\"sk-item\"><div class=\"sk-label-container\"><div class=\"sk-label sk-toggleable\"><input class=\"sk-toggleable__control sk-hidden--visually\" id=\"sk-estimator-id-114\" type=\"checkbox\" ><label for=\"sk-estimator-id-114\" class=\"sk-toggleable__label sk-toggleable__label-arrow\">nomiTransformer</label><div class=\"sk-toggleable__content\"><pre>[&#x27;NAME_FAMILY_STATUS&#x27;, &#x27;NAME_HOUSING_TYPE&#x27;, &#x27;FONDKAPREMONT_MODE&#x27;, &#x27;HOUSETYPE_MODE&#x27;]</pre></div></div></div><div class=\"sk-serial\"><div class=\"sk-item\"><div class=\"sk-serial\"><div class=\"sk-item\"><div class=\"sk-estimator sk-toggleable\"><input class=\"sk-toggleable__control sk-hidden--visually\" id=\"sk-estimator-id-115\" type=\"checkbox\" ><label for=\"sk-estimator-id-115\" class=\"sk-toggleable__label sk-toggleable__label-arrow\">SimpleImputer</label><div class=\"sk-toggleable__content\"><pre>SimpleImputer(fill_value=&#x27;missing&#x27;, strategy=&#x27;constant&#x27;)</pre></div></div></div><div class=\"sk-item\"><div class=\"sk-estimator sk-toggleable\"><input class=\"sk-toggleable__control sk-hidden--visually\" id=\"sk-estimator-id-116\" type=\"checkbox\" ><label for=\"sk-estimator-id-116\" class=\"sk-toggleable__label sk-toggleable__label-arrow\">OneHotEncoder</label><div class=\"sk-toggleable__content\"><pre>OneHotEncoder(drop=&#x27;first&#x27;, dtype=&lt;class &#x27;numpy.int8&#x27;&gt;, handle_unknown=&#x27;ignore&#x27;)</pre></div></div></div></div></div></div></div></div><div class=\"sk-parallel-item\"><div class=\"sk-item\"><div class=\"sk-label-container\"><div class=\"sk-label sk-toggleable\"><input class=\"sk-toggleable__control sk-hidden--visually\" id=\"sk-estimator-id-117\" type=\"checkbox\" ><label for=\"sk-estimator-id-117\" class=\"sk-toggleable__label sk-toggleable__label-arrow\">ordiTransformer</label><div class=\"sk-toggleable__content\"><pre>[&#x27;NAME_EDUCATION_TYPE&#x27;]</pre></div></div></div><div class=\"sk-serial\"><div class=\"sk-item\"><div class=\"sk-serial\"><div class=\"sk-item\"><div class=\"sk-estimator sk-toggleable\"><input class=\"sk-toggleable__control sk-hidden--visually\" id=\"sk-estimator-id-118\" type=\"checkbox\" ><label for=\"sk-estimator-id-118\" class=\"sk-toggleable__label sk-toggleable__label-arrow\">SimpleImputer</label><div class=\"sk-toggleable__content\"><pre>SimpleImputer(fill_value=&#x27;missing&#x27;, strategy=&#x27;constant&#x27;)</pre></div></div></div><div class=\"sk-item\"><div class=\"sk-estimator sk-toggleable\"><input class=\"sk-toggleable__control sk-hidden--visually\" id=\"sk-estimator-id-119\" type=\"checkbox\" ><label for=\"sk-estimator-id-119\" class=\"sk-toggleable__label sk-toggleable__label-arrow\">OrdinalEncoder</label><div class=\"sk-toggleable__content\"><pre>OrdinalEncoder(categories=[[&#x27;Lower secondary&#x27;, &#x27;Secondary / secondary special&#x27;,\n",
       "                            &#x27;Incomplete higher&#x27;, &#x27;Higher education&#x27;,\n",
       "                            &#x27;Academic degree&#x27;]],\n",
       "               dtype=&lt;class &#x27;numpy.int8&#x27;&gt;, handle_unknown=&#x27;use_encoded_value&#x27;,\n",
       "               unknown_value=-1)</pre></div></div></div><div class=\"sk-item\"><div class=\"sk-estimator sk-toggleable\"><input class=\"sk-toggleable__control sk-hidden--visually\" id=\"sk-estimator-id-120\" type=\"checkbox\" ><label for=\"sk-estimator-id-120\" class=\"sk-toggleable__label sk-toggleable__label-arrow\">StandardScaler</label><div class=\"sk-toggleable__content\"><pre>StandardScaler()</pre></div></div></div></div></div></div></div></div></div></div><div class=\"sk-item\"><div class=\"sk-estimator sk-toggleable\"><input class=\"sk-toggleable__control sk-hidden--visually\" id=\"sk-estimator-id-121\" type=\"checkbox\" ><label for=\"sk-estimator-id-121\" class=\"sk-toggleable__label sk-toggleable__label-arrow\">VarianceThreshold</label><div class=\"sk-toggleable__content\"><pre>VarianceThreshold(threshold=0.001)</pre></div></div></div><div class=\"sk-item\"><div class=\"sk-estimator sk-toggleable\"><input class=\"sk-toggleable__control sk-hidden--visually\" id=\"sk-estimator-id-122\" type=\"checkbox\" ><label for=\"sk-estimator-id-122\" class=\"sk-toggleable__label sk-toggleable__label-arrow\">SelectPercentile</label><div class=\"sk-toggleable__content\"><pre>SelectPercentile(percentile=80)</pre></div></div></div><div class=\"sk-item sk-dashed-wrapped\"><div class=\"sk-label-container\"><div class=\"sk-label sk-toggleable\"><input class=\"sk-toggleable__control sk-hidden--visually\" id=\"sk-estimator-id-123\" type=\"checkbox\" ><label for=\"sk-estimator-id-123\" class=\"sk-toggleable__label sk-toggleable__label-arrow\">RFEselector: RFECV</label><div class=\"sk-toggleable__content\"><pre>RFECV(cv=StratifiedKFold(n_splits=3, random_state=3, shuffle=True),\n",
       "      estimator=RandomForestClassifier(class_weight=&#x27;balanced&#x27;, max_depth=4,\n",
       "                                       max_leaf_nodes=45, max_samples=0.5,\n",
       "                                       min_samples_split=0.15, n_estimators=75,\n",
       "                                       n_jobs=8, random_state=16),\n",
       "      min_features_to_select=70, n_jobs=8, scoring=&#x27;average_precision&#x27;,\n",
       "      step=0.05, verbose=3)</pre></div></div></div><div class=\"sk-parallel\"><div class=\"sk-parallel-item\"><div class=\"sk-item\"><div class=\"sk-label-container\"><div class=\"sk-label sk-toggleable\"><input class=\"sk-toggleable__control sk-hidden--visually\" id=\"sk-estimator-id-124\" type=\"checkbox\" ><label for=\"sk-estimator-id-124\" class=\"sk-toggleable__label sk-toggleable__label-arrow\">estimator: RandomForestClassifier</label><div class=\"sk-toggleable__content\"><pre>RandomForestClassifier(class_weight=&#x27;balanced&#x27;, max_depth=4, max_leaf_nodes=45,\n",
       "                       max_samples=0.5, min_samples_split=0.15, n_estimators=75,\n",
       "                       n_jobs=8, random_state=16)</pre></div></div></div><div class=\"sk-serial\"><div class=\"sk-item\"><div class=\"sk-estimator sk-toggleable\"><input class=\"sk-toggleable__control sk-hidden--visually\" id=\"sk-estimator-id-125\" type=\"checkbox\" ><label for=\"sk-estimator-id-125\" class=\"sk-toggleable__label sk-toggleable__label-arrow\">RandomForestClassifier</label><div class=\"sk-toggleable__content\"><pre>RandomForestClassifier(class_weight=&#x27;balanced&#x27;, max_depth=4, max_leaf_nodes=45,\n",
       "                       max_samples=0.5, min_samples_split=0.15, n_estimators=75,\n",
       "                       n_jobs=8, random_state=16)</pre></div></div></div></div></div></div></div></div><div class=\"sk-item\"><div class=\"sk-estimator sk-toggleable\"><input class=\"sk-toggleable__control sk-hidden--visually\" id=\"sk-estimator-id-126\" type=\"checkbox\" ><label for=\"sk-estimator-id-126\" class=\"sk-toggleable__label sk-toggleable__label-arrow\">passthrough</label><div class=\"sk-toggleable__content\"><pre>passthrough</pre></div></div></div><div class=\"sk-item\"><div class=\"sk-estimator sk-toggleable\"><input class=\"sk-toggleable__control sk-hidden--visually\" id=\"sk-estimator-id-127\" type=\"checkbox\" ><label for=\"sk-estimator-id-127\" class=\"sk-toggleable__label sk-toggleable__label-arrow\">passthrough</label><div class=\"sk-toggleable__content\"><pre>passthrough</pre></div></div></div><div class=\"sk-item\"><div class=\"sk-estimator sk-toggleable\"><input class=\"sk-toggleable__control sk-hidden--visually\" id=\"sk-estimator-id-128\" type=\"checkbox\" ><label for=\"sk-estimator-id-128\" class=\"sk-toggleable__label sk-toggleable__label-arrow\">LogisticRegression</label><div class=\"sk-toggleable__content\"><pre>LogisticRegression(C=0.012446745510423799, class_weight=&#x27;balanced&#x27;,\n",
       "                   intercept_scaling=8, max_iter=200, n_jobs=8, penalty=&#x27;l1&#x27;,\n",
       "                   random_state=7, solver=&#x27;liblinear&#x27;, verbose=1)</pre></div></div></div></div></div></div></div>"
      ],
      "text/plain": [
       "Pipeline(steps=[('columnTransformer',\n",
       "                 ColumnTransformer(transformers=[('numericTransformer',\n",
       "                                                  Pipeline(steps=[('imputerNum',\n",
       "                                                                   SimpleImputer(strategy='median')),\n",
       "                                                                  ('scalerNum',\n",
       "                                                                   RobustScaler())]),\n",
       "                                                  ['NAME_CONTRACT_TYPE',\n",
       "                                                   'CODE_GENDER',\n",
       "                                                   'FLAG_OWN_CAR',\n",
       "                                                   'FLAG_OWN_REALTY',\n",
       "                                                   'CNT_CHILDREN',\n",
       "                                                   'AMT_INCOME_TOTAL',\n",
       "                                                   'AMT_CREDIT', 'AMT_ANNUITY',\n",
       "                                                   'AMT_GOODS_PRICE',\n",
       "                                                   'REGION_POPULATI...\n",
       "                                                        random_state=16),\n",
       "                       min_features_to_select=70, n_jobs=8,\n",
       "                       scoring='average_precision', step=0.05, verbose=3)),\n",
       "                ('overSampler', 'passthrough'), ('underSampler', 'passthrough'),\n",
       "                ('clf',\n",
       "                 LogisticRegression(C=0.012446745510423799,\n",
       "                                    class_weight='balanced',\n",
       "                                    intercept_scaling=8, max_iter=200, n_jobs=8,\n",
       "                                    penalty='l1', random_state=7,\n",
       "                                    solver='liblinear', verbose=1))],\n",
       "         verbose=True)"
      ]
     },
     "execution_count": 158,
     "metadata": {},
     "output_type": "execute_result"
    }
   ],
   "source": [
    "LRpipeTuned.set_params(**LROptiSearch.best_params_)"
   ]
  },
  {
   "cell_type": "markdown",
   "id": "20af0000",
   "metadata": {},
   "source": [
    "Utilisons notre fonction `getCrossValProbs_Imp_Results` pour obtenir :\n",
    "- les scores out of folds\n",
    "- l'importance des features\n",
    "- l'average precision\n",
    "- le temps moyen d'apprentissage"
   ]
  },
  {
   "cell_type": "code",
   "execution_count": 159,
   "id": "d2f9b701",
   "metadata": {},
   "outputs": [
    {
     "name": "stdout",
     "output_type": "stream",
     "text": [
      "CPU times: total: 0 ns\n",
      "Wall time: 0 ns\n"
     ]
    }
   ],
   "source": [
    "%%time\n",
    "if not os.path.isdir(\"mySaves/oof_preds\") :\n",
    "    os.mkdir(\"mySaves/oof_preds\")\n",
    "if not os.path.isdir(\"mySaves/features_importances\") :\n",
    "    os.mkdir(\"mySaves/features_importances\")\n",
    "if not os.path.isdir(\"mySaves/CV_results\") :\n",
    "    os.mkdir(\"mySaves/CV_results\")\n",
    "\n",
    "if (\"LR_yProbCV.joblib\" not in os.listdir(\"mySaves/oof_preds\") ) or (rapidProcessing == False) :\n",
    "    LR_yProbCV,LR_impTab,LR_resultsSeries = getCrossValProbs_Imp_Results(LRpipeTuned)\n",
    "\n",
    "    dump(LR_yProbCV,\"mySaves/oof_preds/LR_yProbCV.joblib\")\n",
    "    dump(LR_impTab,\"mySaves/features_importances/LR_impTab.joblib\")\n",
    "    dump(LR_resultsSeries,\"mySaves/CV_results/LR_resultsSeries.joblib\")\n",
    "\n",
    "else :\n",
    "    LR_yProbCV=load(\"mySaves/oof_preds/LR_yProbCV.joblib\")\n",
    "    LR_impTab =load(\"mySaves/features_importances/LR_impTab.joblib\")\n",
    "    LR_resultsSeries = load(\"mySaves/CV_results/LR_resultsSeries.joblib\")"
   ]
  },
  {
   "cell_type": "markdown",
   "id": "df3ed0d4",
   "metadata": {},
   "source": [
    "Nous pouvons :\n",
    "- mettre à jour notre tableau comparatif des modèles\n",
    "- tracer nos courbes\n",
    "- afficher l'importance des variables"
   ]
  },
  {
   "cell_type": "code",
   "execution_count": 160,
   "id": "3d53d01c",
   "metadata": {},
   "outputs": [
    {
     "data": {
      "text/html": [
       "<div>\n",
       "<style scoped>\n",
       "    .dataframe tbody tr th:only-of-type {\n",
       "        vertical-align: middle;\n",
       "    }\n",
       "\n",
       "    .dataframe tbody tr th {\n",
       "        vertical-align: top;\n",
       "    }\n",
       "\n",
       "    .dataframe thead th {\n",
       "        text-align: right;\n",
       "    }\n",
       "</style>\n",
       "<table border=\"1\" class=\"dataframe\">\n",
       "  <thead>\n",
       "    <tr style=\"text-align: right;\">\n",
       "      <th></th>\n",
       "      <th>dummy</th>\n",
       "      <th>Rand Forest</th>\n",
       "      <th>Logistic Reg</th>\n",
       "    </tr>\n",
       "  </thead>\n",
       "  <tbody>\n",
       "    <tr>\n",
       "      <th>Average Precision</th>\n",
       "      <td>0.080909</td>\n",
       "      <td>0.237849</td>\n",
       "      <td>0.242374</td>\n",
       "    </tr>\n",
       "    <tr>\n",
       "      <th>Mean fit time</th>\n",
       "      <td>1.868098</td>\n",
       "      <td>63.401027</td>\n",
       "      <td>60.975310</td>\n",
       "    </tr>\n",
       "  </tbody>\n",
       "</table>\n",
       "</div>"
      ],
      "text/plain": [
       "                      dummy  Rand Forest  Logistic Reg\n",
       "Average Precision  0.080909     0.237849      0.242374\n",
       "Mean fit time      1.868098    63.401027     60.975310"
      ]
     },
     "execution_count": 160,
     "metadata": {},
     "output_type": "execute_result"
    }
   ],
   "source": [
    "models_CV_results[\"Logistic Reg\"] = LR_resultsSeries\n",
    "models_CV_results"
   ]
  },
  {
   "cell_type": "markdown",
   "id": "02143da3",
   "metadata": {},
   "source": [
    "Le pipeline `LRpipeTuned` fait légèrement mieux que la forêt aléatoire sur notre métrique d'évaluation, et la surpasse en terme de temps d'apprentissage."
   ]
  },
  {
   "cell_type": "code",
   "execution_count": 161,
   "id": "2545b439",
   "metadata": {
    "scrolled": false
   },
   "outputs": [
    {
     "data": {
      "application/vnd.jupyter.widget-view+json": {
       "model_id": "dd1eda5f75f2498ab9413d94a42e9bcc",
       "version_major": 2,
       "version_minor": 0
      },
      "text/plain": [
       "Dropdown(description='Model :', options=('all', 'dummy', 'Rand Forest', 'Logistic Reg'), style=DescriptionStyl…"
      ]
     },
     "metadata": {},
     "output_type": "display_data"
    },
    {
     "data": {
      "application/vnd.jupyter.widget-view+json": {
       "model_id": "e8b801cb404f4039963052423dee8aac",
       "version_major": 2,
       "version_minor": 0
      },
      "text/plain": [
       "Output()"
      ]
     },
     "metadata": {},
     "output_type": "display_data"
    }
   ],
   "source": [
    "# plot ROC and PR curves from CV scores\n",
    "mf.plotROCandPRfromCV_WID (\n",
    "    oofProbList=[dummy_yProbCV,RF_yProbCV,LR_yProbCV],\n",
    "    modelNameList=[\"dummy\",\"Rand Forest\",\"Logistic Reg\"],\n",
    "    Xtrain=XTrain.values,\n",
    "    ytrain=yTrain.values,\n",
    "    kf=cvPred,\n",
    "    palette=None)"
   ]
  },
  {
   "cell_type": "code",
   "execution_count": 162,
   "id": "afa23c35",
   "metadata": {},
   "outputs": [
    {
     "data": {
      "application/vnd.jupyter.widget-view+json": {
       "model_id": "e54c9191211448df8433333c2120db4f",
       "version_major": 2,
       "version_minor": 0
      },
      "text/plain": [
       "HBox(children=(HBox(children=(Label(value='Model :'), RadioButtons(index=1, options=('Random Forest', 'Logisti…"
      ]
     },
     "metadata": {},
     "output_type": "display_data"
    },
    {
     "data": {
      "application/vnd.jupyter.widget-view+json": {
       "model_id": "5287e68cbb484d5788aa5ed40158f013",
       "version_major": 2,
       "version_minor": 0
      },
      "text/plain": [
       "HBox(children=(BoundedIntText(value=30, description='N top features : ', max=127, style=DescriptionStyle(descr…"
      ]
     },
     "metadata": {},
     "output_type": "display_data"
    },
    {
     "data": {
      "application/vnd.jupyter.widget-view+json": {
       "model_id": "a17eb0e5e6aa4dbbb9f3aba24e26e1f5",
       "version_major": 2,
       "version_minor": 0
      },
      "text/plain": [
       "Output()"
      ]
     },
     "metadata": {},
     "output_type": "display_data"
    }
   ],
   "source": [
    "plotFeatImpWID(\n",
    "    importancesTabsList=[RF_impTab,LR_impTab],\n",
    "    modelsNamesList=[\"Random Forest\",\"Logistic Regression\"],\n",
    "    customFeaturesList=myFeatures\n",
    ") "
   ]
  },
  {
   "cell_type": "markdown",
   "id": "a52ac3da",
   "metadata": {},
   "source": [
    "Certaines des features qui ressortent n'ont en revanche pas forcémment été identifiées lors de l'exploration de données. Il y a notamment plusieurs features caractérisant le logement (ex : `APARTMNETS_AVG`). Ce comportement s'explique peut-être en raison du caractètre linéaire de la régression logistique. L'algorithme essaie de capturer une tendance linéaire là où vraissemblablement le problème ne l'est pas."
   ]
  },
  {
   "cell_type": "markdown",
   "id": "04882156",
   "metadata": {},
   "source": [
    "# MODELES : LightGBM<a class=\"anchor\" id=\"19\"></a>"
   ]
  },
  {
   "cell_type": "markdown",
   "id": "e4a31603",
   "metadata": {},
   "source": [
    "Nous allons rechercher les meilleurs hyperparamètres pour un algorithme de boosting d'arbres de décision."
   ]
  },
  {
   "cell_type": "code",
   "execution_count": 163,
   "id": "e80e2965",
   "metadata": {},
   "outputs": [],
   "source": [
    "LBclf = LGBMClassifier(\n",
    "    max_depth=-1,\n",
    "    n_jobs=8,\n",
    "    objective = 'binary',\n",
    "    learning_rate=0.05,\n",
    "    verbose=1,\n",
    "    random_state=18,\n",
    "    **{\"early_stopping_round\":5}\n",
    ")"
   ]
  },
  {
   "cell_type": "markdown",
   "id": "0ad21075",
   "metadata": {},
   "source": [
    "Afin de pouvoir utiliser le paramètre `early_stopping_round` de lightGBM et continuer à utiliser `BayesSearchCV`, nous allons \"sacrifier\" une partie du set d'entraînement que nous utiliserons comme `eval_sets`."
   ]
  },
  {
   "cell_type": "code",
   "execution_count": 164,
   "id": "184cda55",
   "metadata": {
    "scrolled": true
   },
   "outputs": [],
   "source": [
    "XTrainForGSForLB, XEvalForLB, yTrainForLB, yEvalForLB = \\\n",
    "train_test_split(XTrainForGS,yTrain,stratify=yTrain,shuffle=True, test_size=0.2,random_state=16)"
   ]
  },
  {
   "cell_type": "markdown",
   "id": "50b3bd94",
   "metadata": {},
   "source": [
    "Nous pouvons maintenant définir les paramètres pour l'entraînement :"
   ]
  },
  {
   "cell_type": "code",
   "execution_count": 165,
   "id": "492f2df6",
   "metadata": {},
   "outputs": [],
   "source": [
    "fit_params ={\n",
    "    \"clf__eval_metric\" : \"average_precision\",\n",
    "    \"clf__eval_set\" : [(XEvalForLB.values,yEvalForLB.values)],\n",
    "    \"clf__eval_names\" : [\"eval\"],\n",
    "}"
   ]
  },
  {
   "cell_type": "markdown",
   "id": "fad48d1a",
   "metadata": {},
   "source": [
    "Comme nous utilisons `early_stopping_round`, nous pouvons définir un `n_estimators` très grand :"
   ]
  },
  {
   "cell_type": "code",
   "execution_count": 166,
   "id": "9ae3bf69",
   "metadata": {},
   "outputs": [
    {
     "data": {
      "text/html": [
       "<style>#sk-container-id-8 {color: black;}#sk-container-id-8 pre{padding: 0;}#sk-container-id-8 div.sk-toggleable {background-color: white;}#sk-container-id-8 label.sk-toggleable__label {cursor: pointer;display: block;width: 100%;margin-bottom: 0;padding: 0.3em;box-sizing: border-box;text-align: center;}#sk-container-id-8 label.sk-toggleable__label-arrow:before {content: \"▸\";float: left;margin-right: 0.25em;color: #696969;}#sk-container-id-8 label.sk-toggleable__label-arrow:hover:before {color: black;}#sk-container-id-8 div.sk-estimator:hover label.sk-toggleable__label-arrow:before {color: black;}#sk-container-id-8 div.sk-toggleable__content {max-height: 0;max-width: 0;overflow: hidden;text-align: left;background-color: #f0f8ff;}#sk-container-id-8 div.sk-toggleable__content pre {margin: 0.2em;color: black;border-radius: 0.25em;background-color: #f0f8ff;}#sk-container-id-8 input.sk-toggleable__control:checked~div.sk-toggleable__content {max-height: 200px;max-width: 100%;overflow: auto;}#sk-container-id-8 input.sk-toggleable__control:checked~label.sk-toggleable__label-arrow:before {content: \"▾\";}#sk-container-id-8 div.sk-estimator input.sk-toggleable__control:checked~label.sk-toggleable__label {background-color: #d4ebff;}#sk-container-id-8 div.sk-label input.sk-toggleable__control:checked~label.sk-toggleable__label {background-color: #d4ebff;}#sk-container-id-8 input.sk-hidden--visually {border: 0;clip: rect(1px 1px 1px 1px);clip: rect(1px, 1px, 1px, 1px);height: 1px;margin: -1px;overflow: hidden;padding: 0;position: absolute;width: 1px;}#sk-container-id-8 div.sk-estimator {font-family: monospace;background-color: #f0f8ff;border: 1px dotted black;border-radius: 0.25em;box-sizing: border-box;margin-bottom: 0.5em;}#sk-container-id-8 div.sk-estimator:hover {background-color: #d4ebff;}#sk-container-id-8 div.sk-parallel-item::after {content: \"\";width: 100%;border-bottom: 1px solid gray;flex-grow: 1;}#sk-container-id-8 div.sk-label:hover label.sk-toggleable__label {background-color: #d4ebff;}#sk-container-id-8 div.sk-serial::before {content: \"\";position: absolute;border-left: 1px solid gray;box-sizing: border-box;top: 0;bottom: 0;left: 50%;z-index: 0;}#sk-container-id-8 div.sk-serial {display: flex;flex-direction: column;align-items: center;background-color: white;padding-right: 0.2em;padding-left: 0.2em;position: relative;}#sk-container-id-8 div.sk-item {position: relative;z-index: 1;}#sk-container-id-8 div.sk-parallel {display: flex;align-items: stretch;justify-content: center;background-color: white;position: relative;}#sk-container-id-8 div.sk-item::before, #sk-container-id-8 div.sk-parallel-item::before {content: \"\";position: absolute;border-left: 1px solid gray;box-sizing: border-box;top: 0;bottom: 0;left: 50%;z-index: -1;}#sk-container-id-8 div.sk-parallel-item {display: flex;flex-direction: column;z-index: 1;position: relative;background-color: white;}#sk-container-id-8 div.sk-parallel-item:first-child::after {align-self: flex-end;width: 50%;}#sk-container-id-8 div.sk-parallel-item:last-child::after {align-self: flex-start;width: 50%;}#sk-container-id-8 div.sk-parallel-item:only-child::after {width: 0;}#sk-container-id-8 div.sk-dashed-wrapped {border: 1px dashed gray;margin: 0 0.4em 0.5em 0.4em;box-sizing: border-box;padding-bottom: 0.4em;background-color: white;}#sk-container-id-8 div.sk-label label {font-family: monospace;font-weight: bold;display: inline-block;line-height: 1.2em;}#sk-container-id-8 div.sk-label-container {text-align: center;}#sk-container-id-8 div.sk-container {/* jupyter's `normalize.less` sets `[hidden] { display: none; }` but bootstrap.min.css set `[hidden] { display: none !important; }` so we also need the `!important` here to be able to override the default hidden behavior on the sphinx rendered scikit-learn.org. See: https://github.com/scikit-learn/scikit-learn/issues/21755 */display: inline-block !important;position: relative;}#sk-container-id-8 div.sk-text-repr-fallback {display: none;}</style><div id=\"sk-container-id-8\" class=\"sk-top-container\"><div class=\"sk-text-repr-fallback\"><pre>LGBMClassifier(early_stopping_round=5, learning_rate=0.05, n_estimators=5000,\n",
       "               n_jobs=8, objective=&#x27;binary&#x27;, random_state=18, verbose=1)</pre><b>In a Jupyter environment, please rerun this cell to show the HTML representation or trust the notebook. <br />On GitHub, the HTML representation is unable to render, please try loading this page with nbviewer.org.</b></div><div class=\"sk-container\" hidden><div class=\"sk-item\"><div class=\"sk-estimator sk-toggleable\"><input class=\"sk-toggleable__control sk-hidden--visually\" id=\"sk-estimator-id-129\" type=\"checkbox\" checked><label for=\"sk-estimator-id-129\" class=\"sk-toggleable__label sk-toggleable__label-arrow\">LGBMClassifier</label><div class=\"sk-toggleable__content\"><pre>LGBMClassifier(early_stopping_round=5, learning_rate=0.05, n_estimators=5000,\n",
       "               n_jobs=8, objective=&#x27;binary&#x27;, random_state=18, verbose=1)</pre></div></div></div></div></div>"
      ],
      "text/plain": [
       "LGBMClassifier(early_stopping_round=5, learning_rate=0.05, n_estimators=5000,\n",
       "               n_jobs=8, objective='binary', random_state=18, verbose=1)"
      ]
     },
     "execution_count": 166,
     "metadata": {},
     "output_type": "execute_result"
    }
   ],
   "source": [
    "LBclf.set_params(**{\"n_estimators\":5000})"
   ]
  },
  {
   "cell_type": "markdown",
   "id": "8fd5bda6",
   "metadata": {},
   "source": [
    "Nous pouvons maintenant définir la grille de recherche :"
   ]
  },
  {
   "cell_type": "code",
   "execution_count": 167,
   "id": "5c2504b9",
   "metadata": {},
   "outputs": [],
   "source": [
    "LBgridSMOTE =({\n",
    "        \"clf__class_weight\":[\n",
    "            \"balanced\",\n",
    "            None\n",
    "            ],\n",
    "        \"clf__colsample_bytree\":[\n",
    "            0.85,\n",
    "            1\n",
    "            ],\n",
    "        \"clf__num_leaves\":(\n",
    "            25,\n",
    "            40,\n",
    "            \"uniform\"\n",
    "        ),\n",
    "        \"clf__min_child_samples\":[\n",
    "            400,\n",
    "            1000,\n",
    "            \"uniform\"\n",
    "            ],\n",
    "        \"clf__min_child_weight\":[\n",
    "            10,\n",
    "            60,\n",
    "            'uniform',\n",
    "            ],\n",
    "        \"clf__subsample\":[\n",
    "            0.2,\n",
    "            0.5\n",
    "            ],\n",
    "        \"clf__reg_alpha\":[\n",
    "            0,\n",
    "            40\n",
    "            ],\n",
    "        \"clf__reg_lambda\":[\n",
    "            0,\n",
    "            40\n",
    "            ],\n",
    "        \"overSampler__sampling_strategy\":[\n",
    "            0.15,\n",
    "            0.30,\n",
    "            0.45,\n",
    "            ],\n",
    "        \"overSampler__k_neighbors\":[\n",
    "            3,\n",
    "            6,\n",
    "            9\n",
    "            ],\n",
    "        \"underSampler__sampling_strategy\":[\n",
    "            0.8,\n",
    "            0.85,\n",
    "            0.9,\n",
    "            ],\n",
    "    },6)\n",
    "\n",
    "LBgridCLASSWEIGHT=({\n",
    "        \"clf__class_weight\":[\n",
    "            \"balanced\"\n",
    "            ],\n",
    "        \"clf__colsample_bytree\":[\n",
    "            0.85,\n",
    "            1,\n",
    "            ],\n",
    "        \"clf__num_leaves\":(\n",
    "            25,\n",
    "            40,\n",
    "            \"uniform\"\n",
    "        ),\n",
    "        \"clf__min_child_samples\":[\n",
    "            400,\n",
    "            1000,\n",
    "            \"uniform\"\n",
    "            ],\n",
    "        \"clf__min_child_weight\":[\n",
    "            10,\n",
    "            60,\n",
    "            'uniform',\n",
    "            ],\n",
    "        \"clf__subsample\":[\n",
    "            0.2,\n",
    "            0.5,\n",
    "            ],\n",
    "        \"clf__reg_alpha\":[\n",
    "            0,\n",
    "            40\n",
    "            ],\n",
    "        \"clf__reg_lambda\":[\n",
    "            0,\n",
    "            40\n",
    "            ],\n",
    "        \"overSampler\":[\n",
    "            \"passthrough\"\n",
    "            ],\n",
    "        \"underSampler\":[\n",
    "            \"passthrough\"\n",
    "            ],\n",
    "    },16)\n",
    "\n",
    "LBgrid=[LBgridSMOTE,LBgridCLASSWEIGHT]"
   ]
  },
  {
   "cell_type": "code",
   "execution_count": 168,
   "id": "3df8d9bb",
   "metadata": {},
   "outputs": [],
   "source": [
    "LBOptiSearch = BayesSearchCV(\n",
    "    estimator=imbPipeline(\n",
    "        [\n",
    "            (\"overSampler\",overSampler),\n",
    "            (\"underSampler\",underSampler),\n",
    "            (\"clf\",LBclf)\n",
    "        ],\n",
    "        verbose=True\n",
    "    ),\n",
    "    n_iter=None,\n",
    "    search_spaces=LBgrid,\n",
    "    scoring=\"average_precision\",\n",
    "    cv=cvGS,\n",
    "    verbose=3,\n",
    "    n_jobs=8,\n",
    "    refit=False,\n",
    "    random_state=18\n",
    ")"
   ]
  },
  {
   "cell_type": "code",
   "execution_count": 169,
   "id": "ab971813",
   "metadata": {},
   "outputs": [
    {
     "name": "stdout",
     "output_type": "stream",
     "text": [
      "CPU times: total: 0 ns\n",
      "Wall time: 15.5 ms\n"
     ]
    }
   ],
   "source": [
    "%%time\n",
    "if not os.path.isdir(\"mySaves/models\") :\n",
    "    os.mkdir(\"mySaves/models\")\n",
    "\n",
    "if (\"LBOptiSearch.joblib\" not in os.listdir(\"mySaves/models\")) or (rapidProcessing==False) :\n",
    "    LBOptiSearch.fit(XTrainForGSForLB.values,yTrainForLB.values,**fit_params)\n",
    "    dump(LBOptiSearch,\"mySaves/models/LBOptiSearch.joblib\")\n",
    "\n",
    "else :\n",
    "    LBOptiSearch=load(\"mySaves/models/LBOptiSearch.joblib\")\n"
   ]
  },
  {
   "cell_type": "code",
   "execution_count": 170,
   "id": "01167170",
   "metadata": {},
   "outputs": [],
   "source": [
    "LBOptiSearchResults = pd.DataFrame(LBOptiSearch.cv_results_).sort_values(\"rank_test_score\")"
   ]
  },
  {
   "cell_type": "code",
   "execution_count": 171,
   "id": "3ceb1051",
   "metadata": {
    "scrolled": false
   },
   "outputs": [
    {
     "data": {
      "text/html": [
       "<div>\n",
       "<style scoped>\n",
       "    .dataframe tbody tr th:only-of-type {\n",
       "        vertical-align: middle;\n",
       "    }\n",
       "\n",
       "    .dataframe tbody tr th {\n",
       "        vertical-align: top;\n",
       "    }\n",
       "\n",
       "    .dataframe thead th {\n",
       "        text-align: right;\n",
       "    }\n",
       "</style>\n",
       "<table border=\"1\" class=\"dataframe\">\n",
       "  <thead>\n",
       "    <tr style=\"text-align: right;\">\n",
       "      <th></th>\n",
       "      <th>mean_test_score</th>\n",
       "      <th>rank_test_score</th>\n",
       "      <th>mean_fit_time</th>\n",
       "      <th>std_fit_time</th>\n",
       "      <th>mean_score_time</th>\n",
       "      <th>std_score_time</th>\n",
       "      <th>param_clf__class_weight</th>\n",
       "      <th>param_clf__colsample_bytree</th>\n",
       "      <th>param_clf__min_child_samples</th>\n",
       "      <th>param_clf__min_child_weight</th>\n",
       "      <th>param_clf__num_leaves</th>\n",
       "      <th>param_clf__reg_alpha</th>\n",
       "      <th>param_clf__reg_lambda</th>\n",
       "      <th>param_clf__subsample</th>\n",
       "      <th>param_overSampler__k_neighbors</th>\n",
       "      <th>param_overSampler__sampling_strategy</th>\n",
       "      <th>param_underSampler__sampling_strategy</th>\n",
       "      <th>param_overSampler</th>\n",
       "      <th>param_underSampler</th>\n",
       "      <th>std_test_score</th>\n",
       "    </tr>\n",
       "  </thead>\n",
       "  <tbody>\n",
       "    <tr>\n",
       "      <th>18</th>\n",
       "      <td>0.269783</td>\n",
       "      <td>1</td>\n",
       "      <td>9.615825</td>\n",
       "      <td>0.835411</td>\n",
       "      <td>0.311760</td>\n",
       "      <td>0.032937</td>\n",
       "      <td>balanced</td>\n",
       "      <td>0.879457</td>\n",
       "      <td>507</td>\n",
       "      <td>59</td>\n",
       "      <td>26</td>\n",
       "      <td>13</td>\n",
       "      <td>37</td>\n",
       "      <td>0.5</td>\n",
       "      <td>NaN</td>\n",
       "      <td>NaN</td>\n",
       "      <td>NaN</td>\n",
       "      <td>passthrough</td>\n",
       "      <td>passthrough</td>\n",
       "      <td>0.004702</td>\n",
       "    </tr>\n",
       "    <tr>\n",
       "      <th>9</th>\n",
       "      <td>0.269258</td>\n",
       "      <td>2</td>\n",
       "      <td>10.517842</td>\n",
       "      <td>0.266063</td>\n",
       "      <td>0.370162</td>\n",
       "      <td>0.040886</td>\n",
       "      <td>balanced</td>\n",
       "      <td>0.968831</td>\n",
       "      <td>730</td>\n",
       "      <td>41</td>\n",
       "      <td>26</td>\n",
       "      <td>33</td>\n",
       "      <td>20</td>\n",
       "      <td>0.493901</td>\n",
       "      <td>NaN</td>\n",
       "      <td>NaN</td>\n",
       "      <td>NaN</td>\n",
       "      <td>passthrough</td>\n",
       "      <td>passthrough</td>\n",
       "      <td>0.005311</td>\n",
       "    </tr>\n",
       "    <tr>\n",
       "      <th>20</th>\n",
       "      <td>0.269202</td>\n",
       "      <td>3</td>\n",
       "      <td>11.364055</td>\n",
       "      <td>1.138031</td>\n",
       "      <td>0.348689</td>\n",
       "      <td>0.055061</td>\n",
       "      <td>balanced</td>\n",
       "      <td>0.970992</td>\n",
       "      <td>536</td>\n",
       "      <td>49</td>\n",
       "      <td>37</td>\n",
       "      <td>28</td>\n",
       "      <td>36</td>\n",
       "      <td>0.499975</td>\n",
       "      <td>NaN</td>\n",
       "      <td>NaN</td>\n",
       "      <td>NaN</td>\n",
       "      <td>passthrough</td>\n",
       "      <td>passthrough</td>\n",
       "      <td>0.004265</td>\n",
       "    </tr>\n",
       "    <tr>\n",
       "      <th>11</th>\n",
       "      <td>0.268813</td>\n",
       "      <td>4</td>\n",
       "      <td>10.076929</td>\n",
       "      <td>0.406649</td>\n",
       "      <td>0.290488</td>\n",
       "      <td>0.004216</td>\n",
       "      <td>balanced</td>\n",
       "      <td>0.901326</td>\n",
       "      <td>891</td>\n",
       "      <td>54</td>\n",
       "      <td>35</td>\n",
       "      <td>33</td>\n",
       "      <td>25</td>\n",
       "      <td>0.281867</td>\n",
       "      <td>NaN</td>\n",
       "      <td>NaN</td>\n",
       "      <td>NaN</td>\n",
       "      <td>passthrough</td>\n",
       "      <td>passthrough</td>\n",
       "      <td>0.004719</td>\n",
       "    </tr>\n",
       "    <tr>\n",
       "      <th>15</th>\n",
       "      <td>0.268653</td>\n",
       "      <td>5</td>\n",
       "      <td>9.299555</td>\n",
       "      <td>0.998071</td>\n",
       "      <td>0.294811</td>\n",
       "      <td>0.034636</td>\n",
       "      <td>balanced</td>\n",
       "      <td>0.955246</td>\n",
       "      <td>714</td>\n",
       "      <td>60</td>\n",
       "      <td>26</td>\n",
       "      <td>17</td>\n",
       "      <td>11</td>\n",
       "      <td>0.26868</td>\n",
       "      <td>NaN</td>\n",
       "      <td>NaN</td>\n",
       "      <td>NaN</td>\n",
       "      <td>passthrough</td>\n",
       "      <td>passthrough</td>\n",
       "      <td>0.004532</td>\n",
       "    </tr>\n",
       "    <tr>\n",
       "      <th>17</th>\n",
       "      <td>0.268579</td>\n",
       "      <td>6</td>\n",
       "      <td>11.283746</td>\n",
       "      <td>0.995178</td>\n",
       "      <td>0.337039</td>\n",
       "      <td>0.013036</td>\n",
       "      <td>balanced</td>\n",
       "      <td>0.976068</td>\n",
       "      <td>592</td>\n",
       "      <td>51</td>\n",
       "      <td>26</td>\n",
       "      <td>40</td>\n",
       "      <td>13</td>\n",
       "      <td>0.2</td>\n",
       "      <td>NaN</td>\n",
       "      <td>NaN</td>\n",
       "      <td>NaN</td>\n",
       "      <td>passthrough</td>\n",
       "      <td>passthrough</td>\n",
       "      <td>0.005313</td>\n",
       "    </tr>\n",
       "    <tr>\n",
       "      <th>10</th>\n",
       "      <td>0.268221</td>\n",
       "      <td>7</td>\n",
       "      <td>8.788891</td>\n",
       "      <td>0.988770</td>\n",
       "      <td>0.287519</td>\n",
       "      <td>0.033185</td>\n",
       "      <td>balanced</td>\n",
       "      <td>0.996161</td>\n",
       "      <td>844</td>\n",
       "      <td>49</td>\n",
       "      <td>27</td>\n",
       "      <td>23</td>\n",
       "      <td>27</td>\n",
       "      <td>0.21541</td>\n",
       "      <td>NaN</td>\n",
       "      <td>NaN</td>\n",
       "      <td>NaN</td>\n",
       "      <td>passthrough</td>\n",
       "      <td>passthrough</td>\n",
       "      <td>0.004469</td>\n",
       "    </tr>\n",
       "    <tr>\n",
       "      <th>21</th>\n",
       "      <td>0.268167</td>\n",
       "      <td>8</td>\n",
       "      <td>8.869377</td>\n",
       "      <td>0.732830</td>\n",
       "      <td>0.269786</td>\n",
       "      <td>0.011550</td>\n",
       "      <td>balanced</td>\n",
       "      <td>0.995328</td>\n",
       "      <td>587</td>\n",
       "      <td>52</td>\n",
       "      <td>26</td>\n",
       "      <td>6</td>\n",
       "      <td>35</td>\n",
       "      <td>0.5</td>\n",
       "      <td>NaN</td>\n",
       "      <td>NaN</td>\n",
       "      <td>NaN</td>\n",
       "      <td>passthrough</td>\n",
       "      <td>passthrough</td>\n",
       "      <td>0.004945</td>\n",
       "    </tr>\n",
       "    <tr>\n",
       "      <th>13</th>\n",
       "      <td>0.268128</td>\n",
       "      <td>9</td>\n",
       "      <td>8.951521</td>\n",
       "      <td>1.120462</td>\n",
       "      <td>0.282439</td>\n",
       "      <td>0.029907</td>\n",
       "      <td>balanced</td>\n",
       "      <td>0.957291</td>\n",
       "      <td>550</td>\n",
       "      <td>42</td>\n",
       "      <td>34</td>\n",
       "      <td>21</td>\n",
       "      <td>36</td>\n",
       "      <td>0.304207</td>\n",
       "      <td>NaN</td>\n",
       "      <td>NaN</td>\n",
       "      <td>NaN</td>\n",
       "      <td>passthrough</td>\n",
       "      <td>passthrough</td>\n",
       "      <td>0.004515</td>\n",
       "    </tr>\n",
       "    <tr>\n",
       "      <th>19</th>\n",
       "      <td>0.268027</td>\n",
       "      <td>10</td>\n",
       "      <td>9.764269</td>\n",
       "      <td>1.108521</td>\n",
       "      <td>0.324218</td>\n",
       "      <td>0.053454</td>\n",
       "      <td>balanced</td>\n",
       "      <td>0.868372</td>\n",
       "      <td>681</td>\n",
       "      <td>22</td>\n",
       "      <td>29</td>\n",
       "      <td>30</td>\n",
       "      <td>11</td>\n",
       "      <td>0.201969</td>\n",
       "      <td>NaN</td>\n",
       "      <td>NaN</td>\n",
       "      <td>NaN</td>\n",
       "      <td>passthrough</td>\n",
       "      <td>passthrough</td>\n",
       "      <td>0.002911</td>\n",
       "    </tr>\n",
       "    <tr>\n",
       "      <th>7</th>\n",
       "      <td>0.268014</td>\n",
       "      <td>11</td>\n",
       "      <td>9.843347</td>\n",
       "      <td>0.795097</td>\n",
       "      <td>0.326770</td>\n",
       "      <td>0.035999</td>\n",
       "      <td>balanced</td>\n",
       "      <td>0.966344</td>\n",
       "      <td>857</td>\n",
       "      <td>17</td>\n",
       "      <td>33</td>\n",
       "      <td>21</td>\n",
       "      <td>8</td>\n",
       "      <td>0.486094</td>\n",
       "      <td>NaN</td>\n",
       "      <td>NaN</td>\n",
       "      <td>NaN</td>\n",
       "      <td>passthrough</td>\n",
       "      <td>passthrough</td>\n",
       "      <td>0.005183</td>\n",
       "    </tr>\n",
       "    <tr>\n",
       "      <th>14</th>\n",
       "      <td>0.267810</td>\n",
       "      <td>12</td>\n",
       "      <td>8.867882</td>\n",
       "      <td>0.696796</td>\n",
       "      <td>0.317976</td>\n",
       "      <td>0.043628</td>\n",
       "      <td>balanced</td>\n",
       "      <td>0.889057</td>\n",
       "      <td>707</td>\n",
       "      <td>14</td>\n",
       "      <td>26</td>\n",
       "      <td>23</td>\n",
       "      <td>29</td>\n",
       "      <td>0.384896</td>\n",
       "      <td>NaN</td>\n",
       "      <td>NaN</td>\n",
       "      <td>NaN</td>\n",
       "      <td>passthrough</td>\n",
       "      <td>passthrough</td>\n",
       "      <td>0.006098</td>\n",
       "    </tr>\n",
       "    <tr>\n",
       "      <th>8</th>\n",
       "      <td>0.267742</td>\n",
       "      <td>13</td>\n",
       "      <td>8.938850</td>\n",
       "      <td>0.471925</td>\n",
       "      <td>0.267430</td>\n",
       "      <td>0.019678</td>\n",
       "      <td>balanced</td>\n",
       "      <td>0.882775</td>\n",
       "      <td>781</td>\n",
       "      <td>34</td>\n",
       "      <td>35</td>\n",
       "      <td>8</td>\n",
       "      <td>25</td>\n",
       "      <td>0.44115</td>\n",
       "      <td>NaN</td>\n",
       "      <td>NaN</td>\n",
       "      <td>NaN</td>\n",
       "      <td>passthrough</td>\n",
       "      <td>passthrough</td>\n",
       "      <td>0.005027</td>\n",
       "    </tr>\n",
       "    <tr>\n",
       "      <th>6</th>\n",
       "      <td>0.267071</td>\n",
       "      <td>14</td>\n",
       "      <td>7.921544</td>\n",
       "      <td>0.581363</td>\n",
       "      <td>0.237583</td>\n",
       "      <td>0.015170</td>\n",
       "      <td>balanced</td>\n",
       "      <td>0.95507</td>\n",
       "      <td>998</td>\n",
       "      <td>56</td>\n",
       "      <td>33</td>\n",
       "      <td>0</td>\n",
       "      <td>6</td>\n",
       "      <td>0.47286</td>\n",
       "      <td>NaN</td>\n",
       "      <td>NaN</td>\n",
       "      <td>NaN</td>\n",
       "      <td>passthrough</td>\n",
       "      <td>passthrough</td>\n",
       "      <td>0.004818</td>\n",
       "    </tr>\n",
       "    <tr>\n",
       "      <th>16</th>\n",
       "      <td>0.266526</td>\n",
       "      <td>15</td>\n",
       "      <td>9.684514</td>\n",
       "      <td>0.966187</td>\n",
       "      <td>0.306374</td>\n",
       "      <td>0.025102</td>\n",
       "      <td>balanced</td>\n",
       "      <td>0.885234</td>\n",
       "      <td>592</td>\n",
       "      <td>10</td>\n",
       "      <td>39</td>\n",
       "      <td>40</td>\n",
       "      <td>25</td>\n",
       "      <td>0.40826</td>\n",
       "      <td>NaN</td>\n",
       "      <td>NaN</td>\n",
       "      <td>NaN</td>\n",
       "      <td>passthrough</td>\n",
       "      <td>passthrough</td>\n",
       "      <td>0.004565</td>\n",
       "    </tr>\n",
       "    <tr>\n",
       "      <th>4</th>\n",
       "      <td>0.258955</td>\n",
       "      <td>16</td>\n",
       "      <td>13.214833</td>\n",
       "      <td>0.657107</td>\n",
       "      <td>0.389079</td>\n",
       "      <td>0.009466</td>\n",
       "      <td>None</td>\n",
       "      <td>0.990798</td>\n",
       "      <td>991</td>\n",
       "      <td>13</td>\n",
       "      <td>34</td>\n",
       "      <td>15</td>\n",
       "      <td>7</td>\n",
       "      <td>0.207259</td>\n",
       "      <td>6</td>\n",
       "      <td>0.3</td>\n",
       "      <td>0.8</td>\n",
       "      <td>NaN</td>\n",
       "      <td>NaN</td>\n",
       "      <td>0.004022</td>\n",
       "    </tr>\n",
       "    <tr>\n",
       "      <th>0</th>\n",
       "      <td>0.258129</td>\n",
       "      <td>17</td>\n",
       "      <td>9.588212</td>\n",
       "      <td>0.479221</td>\n",
       "      <td>0.377110</td>\n",
       "      <td>0.026675</td>\n",
       "      <td>balanced</td>\n",
       "      <td>0.966826</td>\n",
       "      <td>486</td>\n",
       "      <td>15</td>\n",
       "      <td>36</td>\n",
       "      <td>22</td>\n",
       "      <td>34</td>\n",
       "      <td>0.427567</td>\n",
       "      <td>6</td>\n",
       "      <td>0.3</td>\n",
       "      <td>0.85</td>\n",
       "      <td>NaN</td>\n",
       "      <td>NaN</td>\n",
       "      <td>0.004901</td>\n",
       "    </tr>\n",
       "    <tr>\n",
       "      <th>1</th>\n",
       "      <td>0.257714</td>\n",
       "      <td>18</td>\n",
       "      <td>14.680147</td>\n",
       "      <td>0.588263</td>\n",
       "      <td>0.456845</td>\n",
       "      <td>0.013763</td>\n",
       "      <td>balanced</td>\n",
       "      <td>0.942399</td>\n",
       "      <td>575</td>\n",
       "      <td>58</td>\n",
       "      <td>40</td>\n",
       "      <td>29</td>\n",
       "      <td>37</td>\n",
       "      <td>0.32953</td>\n",
       "      <td>3</td>\n",
       "      <td>0.45</td>\n",
       "      <td>0.9</td>\n",
       "      <td>NaN</td>\n",
       "      <td>NaN</td>\n",
       "      <td>0.005289</td>\n",
       "    </tr>\n",
       "    <tr>\n",
       "      <th>2</th>\n",
       "      <td>0.255388</td>\n",
       "      <td>19</td>\n",
       "      <td>9.428134</td>\n",
       "      <td>0.732321</td>\n",
       "      <td>0.399740</td>\n",
       "      <td>0.019699</td>\n",
       "      <td>balanced</td>\n",
       "      <td>0.940013</td>\n",
       "      <td>862</td>\n",
       "      <td>36</td>\n",
       "      <td>31</td>\n",
       "      <td>40</td>\n",
       "      <td>18</td>\n",
       "      <td>0.266337</td>\n",
       "      <td>6</td>\n",
       "      <td>0.3</td>\n",
       "      <td>0.85</td>\n",
       "      <td>NaN</td>\n",
       "      <td>NaN</td>\n",
       "      <td>0.003287</td>\n",
       "    </tr>\n",
       "    <tr>\n",
       "      <th>3</th>\n",
       "      <td>0.254904</td>\n",
       "      <td>20</td>\n",
       "      <td>10.352580</td>\n",
       "      <td>0.360803</td>\n",
       "      <td>0.380532</td>\n",
       "      <td>0.010974</td>\n",
       "      <td>balanced</td>\n",
       "      <td>0.852559</td>\n",
       "      <td>525</td>\n",
       "      <td>53</td>\n",
       "      <td>35</td>\n",
       "      <td>37</td>\n",
       "      <td>16</td>\n",
       "      <td>0.311909</td>\n",
       "      <td>9</td>\n",
       "      <td>0.3</td>\n",
       "      <td>0.85</td>\n",
       "      <td>NaN</td>\n",
       "      <td>NaN</td>\n",
       "      <td>0.005317</td>\n",
       "    </tr>\n",
       "    <tr>\n",
       "      <th>12</th>\n",
       "      <td>0.248406</td>\n",
       "      <td>21</td>\n",
       "      <td>4.865199</td>\n",
       "      <td>2.026867</td>\n",
       "      <td>0.166540</td>\n",
       "      <td>0.082894</td>\n",
       "      <td>balanced</td>\n",
       "      <td>0.887726</td>\n",
       "      <td>975</td>\n",
       "      <td>45</td>\n",
       "      <td>29</td>\n",
       "      <td>6</td>\n",
       "      <td>25</td>\n",
       "      <td>0.22545</td>\n",
       "      <td>NaN</td>\n",
       "      <td>NaN</td>\n",
       "      <td>NaN</td>\n",
       "      <td>passthrough</td>\n",
       "      <td>passthrough</td>\n",
       "      <td>0.023590</td>\n",
       "    </tr>\n",
       "    <tr>\n",
       "      <th>5</th>\n",
       "      <td>0.230179</td>\n",
       "      <td>22</td>\n",
       "      <td>6.644626</td>\n",
       "      <td>3.056751</td>\n",
       "      <td>0.272800</td>\n",
       "      <td>0.174043</td>\n",
       "      <td>None</td>\n",
       "      <td>0.856075</td>\n",
       "      <td>956</td>\n",
       "      <td>21</td>\n",
       "      <td>26</td>\n",
       "      <td>34</td>\n",
       "      <td>7</td>\n",
       "      <td>0.253054</td>\n",
       "      <td>3</td>\n",
       "      <td>0.3</td>\n",
       "      <td>0.85</td>\n",
       "      <td>NaN</td>\n",
       "      <td>NaN</td>\n",
       "      <td>0.038722</td>\n",
       "    </tr>\n",
       "  </tbody>\n",
       "</table>\n",
       "</div>"
      ],
      "text/plain": [
       "    mean_test_score  rank_test_score  mean_fit_time  std_fit_time  \\\n",
       "18         0.269783                1       9.615825      0.835411   \n",
       "9          0.269258                2      10.517842      0.266063   \n",
       "20         0.269202                3      11.364055      1.138031   \n",
       "11         0.268813                4      10.076929      0.406649   \n",
       "15         0.268653                5       9.299555      0.998071   \n",
       "17         0.268579                6      11.283746      0.995178   \n",
       "10         0.268221                7       8.788891      0.988770   \n",
       "21         0.268167                8       8.869377      0.732830   \n",
       "13         0.268128                9       8.951521      1.120462   \n",
       "19         0.268027               10       9.764269      1.108521   \n",
       "7          0.268014               11       9.843347      0.795097   \n",
       "14         0.267810               12       8.867882      0.696796   \n",
       "8          0.267742               13       8.938850      0.471925   \n",
       "6          0.267071               14       7.921544      0.581363   \n",
       "16         0.266526               15       9.684514      0.966187   \n",
       "4          0.258955               16      13.214833      0.657107   \n",
       "0          0.258129               17       9.588212      0.479221   \n",
       "1          0.257714               18      14.680147      0.588263   \n",
       "2          0.255388               19       9.428134      0.732321   \n",
       "3          0.254904               20      10.352580      0.360803   \n",
       "12         0.248406               21       4.865199      2.026867   \n",
       "5          0.230179               22       6.644626      3.056751   \n",
       "\n",
       "    mean_score_time  std_score_time param_clf__class_weight  \\\n",
       "18         0.311760        0.032937                balanced   \n",
       "9          0.370162        0.040886                balanced   \n",
       "20         0.348689        0.055061                balanced   \n",
       "11         0.290488        0.004216                balanced   \n",
       "15         0.294811        0.034636                balanced   \n",
       "17         0.337039        0.013036                balanced   \n",
       "10         0.287519        0.033185                balanced   \n",
       "21         0.269786        0.011550                balanced   \n",
       "13         0.282439        0.029907                balanced   \n",
       "19         0.324218        0.053454                balanced   \n",
       "7          0.326770        0.035999                balanced   \n",
       "14         0.317976        0.043628                balanced   \n",
       "8          0.267430        0.019678                balanced   \n",
       "6          0.237583        0.015170                balanced   \n",
       "16         0.306374        0.025102                balanced   \n",
       "4          0.389079        0.009466                    None   \n",
       "0          0.377110        0.026675                balanced   \n",
       "1          0.456845        0.013763                balanced   \n",
       "2          0.399740        0.019699                balanced   \n",
       "3          0.380532        0.010974                balanced   \n",
       "12         0.166540        0.082894                balanced   \n",
       "5          0.272800        0.174043                    None   \n",
       "\n",
       "   param_clf__colsample_bytree param_clf__min_child_samples  \\\n",
       "18                    0.879457                          507   \n",
       "9                     0.968831                          730   \n",
       "20                    0.970992                          536   \n",
       "11                    0.901326                          891   \n",
       "15                    0.955246                          714   \n",
       "17                    0.976068                          592   \n",
       "10                    0.996161                          844   \n",
       "21                    0.995328                          587   \n",
       "13                    0.957291                          550   \n",
       "19                    0.868372                          681   \n",
       "7                     0.966344                          857   \n",
       "14                    0.889057                          707   \n",
       "8                     0.882775                          781   \n",
       "6                      0.95507                          998   \n",
       "16                    0.885234                          592   \n",
       "4                     0.990798                          991   \n",
       "0                     0.966826                          486   \n",
       "1                     0.942399                          575   \n",
       "2                     0.940013                          862   \n",
       "3                     0.852559                          525   \n",
       "12                    0.887726                          975   \n",
       "5                     0.856075                          956   \n",
       "\n",
       "   param_clf__min_child_weight param_clf__num_leaves param_clf__reg_alpha  \\\n",
       "18                          59                    26                   13   \n",
       "9                           41                    26                   33   \n",
       "20                          49                    37                   28   \n",
       "11                          54                    35                   33   \n",
       "15                          60                    26                   17   \n",
       "17                          51                    26                   40   \n",
       "10                          49                    27                   23   \n",
       "21                          52                    26                    6   \n",
       "13                          42                    34                   21   \n",
       "19                          22                    29                   30   \n",
       "7                           17                    33                   21   \n",
       "14                          14                    26                   23   \n",
       "8                           34                    35                    8   \n",
       "6                           56                    33                    0   \n",
       "16                          10                    39                   40   \n",
       "4                           13                    34                   15   \n",
       "0                           15                    36                   22   \n",
       "1                           58                    40                   29   \n",
       "2                           36                    31                   40   \n",
       "3                           53                    35                   37   \n",
       "12                          45                    29                    6   \n",
       "5                           21                    26                   34   \n",
       "\n",
       "   param_clf__reg_lambda param_clf__subsample param_overSampler__k_neighbors  \\\n",
       "18                    37                  0.5                            NaN   \n",
       "9                     20             0.493901                            NaN   \n",
       "20                    36             0.499975                            NaN   \n",
       "11                    25             0.281867                            NaN   \n",
       "15                    11              0.26868                            NaN   \n",
       "17                    13                  0.2                            NaN   \n",
       "10                    27              0.21541                            NaN   \n",
       "21                    35                  0.5                            NaN   \n",
       "13                    36             0.304207                            NaN   \n",
       "19                    11             0.201969                            NaN   \n",
       "7                      8             0.486094                            NaN   \n",
       "14                    29             0.384896                            NaN   \n",
       "8                     25              0.44115                            NaN   \n",
       "6                      6              0.47286                            NaN   \n",
       "16                    25              0.40826                            NaN   \n",
       "4                      7             0.207259                              6   \n",
       "0                     34             0.427567                              6   \n",
       "1                     37              0.32953                              3   \n",
       "2                     18             0.266337                              6   \n",
       "3                     16             0.311909                              9   \n",
       "12                    25              0.22545                            NaN   \n",
       "5                      7             0.253054                              3   \n",
       "\n",
       "   param_overSampler__sampling_strategy param_underSampler__sampling_strategy  \\\n",
       "18                                  NaN                                   NaN   \n",
       "9                                   NaN                                   NaN   \n",
       "20                                  NaN                                   NaN   \n",
       "11                                  NaN                                   NaN   \n",
       "15                                  NaN                                   NaN   \n",
       "17                                  NaN                                   NaN   \n",
       "10                                  NaN                                   NaN   \n",
       "21                                  NaN                                   NaN   \n",
       "13                                  NaN                                   NaN   \n",
       "19                                  NaN                                   NaN   \n",
       "7                                   NaN                                   NaN   \n",
       "14                                  NaN                                   NaN   \n",
       "8                                   NaN                                   NaN   \n",
       "6                                   NaN                                   NaN   \n",
       "16                                  NaN                                   NaN   \n",
       "4                                   0.3                                   0.8   \n",
       "0                                   0.3                                  0.85   \n",
       "1                                  0.45                                   0.9   \n",
       "2                                   0.3                                  0.85   \n",
       "3                                   0.3                                  0.85   \n",
       "12                                  NaN                                   NaN   \n",
       "5                                   0.3                                  0.85   \n",
       "\n",
       "   param_overSampler param_underSampler  std_test_score  \n",
       "18       passthrough        passthrough        0.004702  \n",
       "9        passthrough        passthrough        0.005311  \n",
       "20       passthrough        passthrough        0.004265  \n",
       "11       passthrough        passthrough        0.004719  \n",
       "15       passthrough        passthrough        0.004532  \n",
       "17       passthrough        passthrough        0.005313  \n",
       "10       passthrough        passthrough        0.004469  \n",
       "21       passthrough        passthrough        0.004945  \n",
       "13       passthrough        passthrough        0.004515  \n",
       "19       passthrough        passthrough        0.002911  \n",
       "7        passthrough        passthrough        0.005183  \n",
       "14       passthrough        passthrough        0.006098  \n",
       "8        passthrough        passthrough        0.005027  \n",
       "6        passthrough        passthrough        0.004818  \n",
       "16       passthrough        passthrough        0.004565  \n",
       "4                NaN                NaN        0.004022  \n",
       "0                NaN                NaN        0.004901  \n",
       "1                NaN                NaN        0.005289  \n",
       "2                NaN                NaN        0.003287  \n",
       "3                NaN                NaN        0.005317  \n",
       "12       passthrough        passthrough        0.023590  \n",
       "5                NaN                NaN        0.038722  "
      ]
     },
     "execution_count": 171,
     "metadata": {},
     "output_type": "execute_result"
    }
   ],
   "source": [
    "cols=[col for col in LBOptiSearchResults.columns \\\n",
    "      if (\n",
    "    (\"score\" in col)or\\\n",
    "    (\"time\" in col)or\\\n",
    "    (\"param_\" in col))\\\n",
    "      and(\"split0\" not in col)and(\"split1\" not in col)and(\"split2\" not in col)and(\"split3\" not in col)]\n",
    "LBOptiSearchResults=LBOptiSearchResults[cols]\n",
    "LBOptiSearchResults=LBOptiSearchResults[\n",
    "    [\"mean_test_score\",\"rank_test_score\"]\\\n",
    "    +[col for col in LBOptiSearchResults.columns if col not in [\"mean_test_score\",\"rank_test_score\"]]\n",
    "]\n",
    "LBOptiSearchResults.sort_values(\"rank_test_score\")\n",
    "\n",
    "LBOptiSearchResults.head(30)"
   ]
  },
  {
   "cell_type": "code",
   "execution_count": 172,
   "id": "d7cd18d7",
   "metadata": {},
   "outputs": [
    {
     "data": {
      "text/plain": [
       "OrderedDict([('clf__class_weight', 'balanced'),\n",
       "             ('clf__colsample_bytree', 0.8794565447845865),\n",
       "             ('clf__min_child_samples', 507),\n",
       "             ('clf__min_child_weight', 59),\n",
       "             ('clf__num_leaves', 26),\n",
       "             ('clf__reg_alpha', 13),\n",
       "             ('clf__reg_lambda', 37),\n",
       "             ('clf__subsample', 0.5),\n",
       "             ('overSampler', 'passthrough'),\n",
       "             ('underSampler', 'passthrough')])"
      ]
     },
     "execution_count": 172,
     "metadata": {},
     "output_type": "execute_result"
    }
   ],
   "source": [
    "LBOptiSearch.best_params_"
   ]
  },
  {
   "cell_type": "markdown",
   "id": "42e75bf9",
   "metadata": {},
   "source": [
    "Nous ré-initialisons un LGBM, cette fois sans `early_stopping_round`, et donc avec un `n_estimators` plus petit."
   ]
  },
  {
   "cell_type": "code",
   "execution_count": 173,
   "id": "ecd39a0b",
   "metadata": {},
   "outputs": [],
   "source": [
    "LBclf = LGBMClassifier(\n",
    "    max_depth=-1,\n",
    "    n_jobs=16,\n",
    "    objective = 'binary',\n",
    "    verbose=1,\n",
    "    random_state=18,\n",
    "    learning_rate=0.05,\n",
    "    n_estimators=1000, # this time we set the number of iterations to a lower value\n",
    "#     **{\"early_stopping_round\":10} # no early stop\n",
    ")"
   ]
  },
  {
   "cell_type": "code",
   "execution_count": 174,
   "id": "824062f2",
   "metadata": {},
   "outputs": [],
   "source": [
    "LBpipeTuned = imbPipeline(\n",
    "    [\n",
    "        (\"columnTransformer\",columnTransformer),\n",
    "        (\"VarianceSelector\",VarianceSelector),\n",
    "        (\"FscoreSelector\",FscoreSelector),        \n",
    "        (\"RFEselector\",clone(RFEselector)),\n",
    "        (\"overSampler\",overSampler),\n",
    "        (\"underSampler\",underSampler),\n",
    "        (\"clf\",LBclf)\n",
    "    ],\n",
    "    verbose=True\n",
    ")"
   ]
  },
  {
   "cell_type": "code",
   "execution_count": 175,
   "id": "cf5ca017",
   "metadata": {},
   "outputs": [
    {
     "data": {
      "text/html": [
       "<style>#sk-container-id-9 {color: black;}#sk-container-id-9 pre{padding: 0;}#sk-container-id-9 div.sk-toggleable {background-color: white;}#sk-container-id-9 label.sk-toggleable__label {cursor: pointer;display: block;width: 100%;margin-bottom: 0;padding: 0.3em;box-sizing: border-box;text-align: center;}#sk-container-id-9 label.sk-toggleable__label-arrow:before {content: \"▸\";float: left;margin-right: 0.25em;color: #696969;}#sk-container-id-9 label.sk-toggleable__label-arrow:hover:before {color: black;}#sk-container-id-9 div.sk-estimator:hover label.sk-toggleable__label-arrow:before {color: black;}#sk-container-id-9 div.sk-toggleable__content {max-height: 0;max-width: 0;overflow: hidden;text-align: left;background-color: #f0f8ff;}#sk-container-id-9 div.sk-toggleable__content pre {margin: 0.2em;color: black;border-radius: 0.25em;background-color: #f0f8ff;}#sk-container-id-9 input.sk-toggleable__control:checked~div.sk-toggleable__content {max-height: 200px;max-width: 100%;overflow: auto;}#sk-container-id-9 input.sk-toggleable__control:checked~label.sk-toggleable__label-arrow:before {content: \"▾\";}#sk-container-id-9 div.sk-estimator input.sk-toggleable__control:checked~label.sk-toggleable__label {background-color: #d4ebff;}#sk-container-id-9 div.sk-label input.sk-toggleable__control:checked~label.sk-toggleable__label {background-color: #d4ebff;}#sk-container-id-9 input.sk-hidden--visually {border: 0;clip: rect(1px 1px 1px 1px);clip: rect(1px, 1px, 1px, 1px);height: 1px;margin: -1px;overflow: hidden;padding: 0;position: absolute;width: 1px;}#sk-container-id-9 div.sk-estimator {font-family: monospace;background-color: #f0f8ff;border: 1px dotted black;border-radius: 0.25em;box-sizing: border-box;margin-bottom: 0.5em;}#sk-container-id-9 div.sk-estimator:hover {background-color: #d4ebff;}#sk-container-id-9 div.sk-parallel-item::after {content: \"\";width: 100%;border-bottom: 1px solid gray;flex-grow: 1;}#sk-container-id-9 div.sk-label:hover label.sk-toggleable__label {background-color: #d4ebff;}#sk-container-id-9 div.sk-serial::before {content: \"\";position: absolute;border-left: 1px solid gray;box-sizing: border-box;top: 0;bottom: 0;left: 50%;z-index: 0;}#sk-container-id-9 div.sk-serial {display: flex;flex-direction: column;align-items: center;background-color: white;padding-right: 0.2em;padding-left: 0.2em;position: relative;}#sk-container-id-9 div.sk-item {position: relative;z-index: 1;}#sk-container-id-9 div.sk-parallel {display: flex;align-items: stretch;justify-content: center;background-color: white;position: relative;}#sk-container-id-9 div.sk-item::before, #sk-container-id-9 div.sk-parallel-item::before {content: \"\";position: absolute;border-left: 1px solid gray;box-sizing: border-box;top: 0;bottom: 0;left: 50%;z-index: -1;}#sk-container-id-9 div.sk-parallel-item {display: flex;flex-direction: column;z-index: 1;position: relative;background-color: white;}#sk-container-id-9 div.sk-parallel-item:first-child::after {align-self: flex-end;width: 50%;}#sk-container-id-9 div.sk-parallel-item:last-child::after {align-self: flex-start;width: 50%;}#sk-container-id-9 div.sk-parallel-item:only-child::after {width: 0;}#sk-container-id-9 div.sk-dashed-wrapped {border: 1px dashed gray;margin: 0 0.4em 0.5em 0.4em;box-sizing: border-box;padding-bottom: 0.4em;background-color: white;}#sk-container-id-9 div.sk-label label {font-family: monospace;font-weight: bold;display: inline-block;line-height: 1.2em;}#sk-container-id-9 div.sk-label-container {text-align: center;}#sk-container-id-9 div.sk-container {/* jupyter's `normalize.less` sets `[hidden] { display: none; }` but bootstrap.min.css set `[hidden] { display: none !important; }` so we also need the `!important` here to be able to override the default hidden behavior on the sphinx rendered scikit-learn.org. See: https://github.com/scikit-learn/scikit-learn/issues/21755 */display: inline-block !important;position: relative;}#sk-container-id-9 div.sk-text-repr-fallback {display: none;}</style><div id=\"sk-container-id-9\" class=\"sk-top-container\"><div class=\"sk-text-repr-fallback\"><pre>Pipeline(steps=[(&#x27;columnTransformer&#x27;,\n",
       "                 ColumnTransformer(transformers=[(&#x27;numericTransformer&#x27;,\n",
       "                                                  Pipeline(steps=[(&#x27;imputerNum&#x27;,\n",
       "                                                                   SimpleImputer(strategy=&#x27;median&#x27;)),\n",
       "                                                                  (&#x27;scalerNum&#x27;,\n",
       "                                                                   RobustScaler())]),\n",
       "                                                  [&#x27;NAME_CONTRACT_TYPE&#x27;,\n",
       "                                                   &#x27;CODE_GENDER&#x27;,\n",
       "                                                   &#x27;FLAG_OWN_CAR&#x27;,\n",
       "                                                   &#x27;FLAG_OWN_REALTY&#x27;,\n",
       "                                                   &#x27;CNT_CHILDREN&#x27;,\n",
       "                                                   &#x27;AMT_INCOME_TOTAL&#x27;,\n",
       "                                                   &#x27;AMT_CREDIT&#x27;, &#x27;AMT_ANNUITY&#x27;,\n",
       "                                                   &#x27;AMT_GOODS_PRICE&#x27;,\n",
       "                                                   &#x27;REGION_POPULATI...\n",
       "                       scoring=&#x27;average_precision&#x27;, step=0.05, verbose=3)),\n",
       "                (&#x27;overSampler&#x27;, &#x27;passthrough&#x27;), (&#x27;underSampler&#x27;, &#x27;passthrough&#x27;),\n",
       "                (&#x27;clf&#x27;,\n",
       "                 LGBMClassifier(class_weight=&#x27;balanced&#x27;,\n",
       "                                colsample_bytree=0.8794565447845865,\n",
       "                                learning_rate=0.05, min_child_samples=507,\n",
       "                                min_child_weight=59, n_estimators=1000,\n",
       "                                n_jobs=16, num_leaves=26, objective=&#x27;binary&#x27;,\n",
       "                                random_state=18, reg_alpha=13, reg_lambda=37,\n",
       "                                subsample=0.5, verbose=1))],\n",
       "         verbose=True)</pre><b>In a Jupyter environment, please rerun this cell to show the HTML representation or trust the notebook. <br />On GitHub, the HTML representation is unable to render, please try loading this page with nbviewer.org.</b></div><div class=\"sk-container\" hidden><div class=\"sk-item sk-dashed-wrapped\"><div class=\"sk-label-container\"><div class=\"sk-label sk-toggleable\"><input class=\"sk-toggleable__control sk-hidden--visually\" id=\"sk-estimator-id-130\" type=\"checkbox\" ><label for=\"sk-estimator-id-130\" class=\"sk-toggleable__label sk-toggleable__label-arrow\">Pipeline</label><div class=\"sk-toggleable__content\"><pre>Pipeline(steps=[(&#x27;columnTransformer&#x27;,\n",
       "                 ColumnTransformer(transformers=[(&#x27;numericTransformer&#x27;,\n",
       "                                                  Pipeline(steps=[(&#x27;imputerNum&#x27;,\n",
       "                                                                   SimpleImputer(strategy=&#x27;median&#x27;)),\n",
       "                                                                  (&#x27;scalerNum&#x27;,\n",
       "                                                                   RobustScaler())]),\n",
       "                                                  [&#x27;NAME_CONTRACT_TYPE&#x27;,\n",
       "                                                   &#x27;CODE_GENDER&#x27;,\n",
       "                                                   &#x27;FLAG_OWN_CAR&#x27;,\n",
       "                                                   &#x27;FLAG_OWN_REALTY&#x27;,\n",
       "                                                   &#x27;CNT_CHILDREN&#x27;,\n",
       "                                                   &#x27;AMT_INCOME_TOTAL&#x27;,\n",
       "                                                   &#x27;AMT_CREDIT&#x27;, &#x27;AMT_ANNUITY&#x27;,\n",
       "                                                   &#x27;AMT_GOODS_PRICE&#x27;,\n",
       "                                                   &#x27;REGION_POPULATI...\n",
       "                       scoring=&#x27;average_precision&#x27;, step=0.05, verbose=3)),\n",
       "                (&#x27;overSampler&#x27;, &#x27;passthrough&#x27;), (&#x27;underSampler&#x27;, &#x27;passthrough&#x27;),\n",
       "                (&#x27;clf&#x27;,\n",
       "                 LGBMClassifier(class_weight=&#x27;balanced&#x27;,\n",
       "                                colsample_bytree=0.8794565447845865,\n",
       "                                learning_rate=0.05, min_child_samples=507,\n",
       "                                min_child_weight=59, n_estimators=1000,\n",
       "                                n_jobs=16, num_leaves=26, objective=&#x27;binary&#x27;,\n",
       "                                random_state=18, reg_alpha=13, reg_lambda=37,\n",
       "                                subsample=0.5, verbose=1))],\n",
       "         verbose=True)</pre></div></div></div><div class=\"sk-serial\"><div class=\"sk-item sk-dashed-wrapped\"><div class=\"sk-label-container\"><div class=\"sk-label sk-toggleable\"><input class=\"sk-toggleable__control sk-hidden--visually\" id=\"sk-estimator-id-131\" type=\"checkbox\" ><label for=\"sk-estimator-id-131\" class=\"sk-toggleable__label sk-toggleable__label-arrow\">columnTransformer: ColumnTransformer</label><div class=\"sk-toggleable__content\"><pre>ColumnTransformer(transformers=[(&#x27;numericTransformer&#x27;,\n",
       "                                 Pipeline(steps=[(&#x27;imputerNum&#x27;,\n",
       "                                                  SimpleImputer(strategy=&#x27;median&#x27;)),\n",
       "                                                 (&#x27;scalerNum&#x27;,\n",
       "                                                  RobustScaler())]),\n",
       "                                 [&#x27;NAME_CONTRACT_TYPE&#x27;, &#x27;CODE_GENDER&#x27;,\n",
       "                                  &#x27;FLAG_OWN_CAR&#x27;, &#x27;FLAG_OWN_REALTY&#x27;,\n",
       "                                  &#x27;CNT_CHILDREN&#x27;, &#x27;AMT_INCOME_TOTAL&#x27;,\n",
       "                                  &#x27;AMT_CREDIT&#x27;, &#x27;AMT_ANNUITY&#x27;,\n",
       "                                  &#x27;AMT_GOODS_PRICE&#x27;,\n",
       "                                  &#x27;REGION_POPULATION_RELATIVE&#x27;, &#x27;DAYS_BIRTH&#x27;,\n",
       "                                  &#x27;DAYS_EMPLO...\n",
       "                                                  SimpleImputer(fill_value=&#x27;missing&#x27;,\n",
       "                                                                strategy=&#x27;constant&#x27;)),\n",
       "                                                 (&#x27;encoderOrdi&#x27;,\n",
       "                                                  OrdinalEncoder(categories=[[&#x27;Lower &#x27;\n",
       "                                                                              &#x27;secondary&#x27;,\n",
       "                                                                              &#x27;Secondary &#x27;\n",
       "                                                                              &#x27;/ &#x27;\n",
       "                                                                              &#x27;secondary &#x27;\n",
       "                                                                              &#x27;special&#x27;,\n",
       "                                                                              &#x27;Incomplete &#x27;\n",
       "                                                                              &#x27;higher&#x27;,\n",
       "                                                                              &#x27;Higher &#x27;\n",
       "                                                                              &#x27;education&#x27;,\n",
       "                                                                              &#x27;Academic &#x27;\n",
       "                                                                              &#x27;degree&#x27;]],\n",
       "                                                                 dtype=&lt;class &#x27;numpy.int8&#x27;&gt;,\n",
       "                                                                 handle_unknown=&#x27;use_encoded_value&#x27;,\n",
       "                                                                 unknown_value=-1)),\n",
       "                                                 (&#x27;scalerOrdi&#x27;,\n",
       "                                                  StandardScaler())]),\n",
       "                                 [&#x27;NAME_EDUCATION_TYPE&#x27;])])</pre></div></div></div><div class=\"sk-parallel\"><div class=\"sk-parallel-item\"><div class=\"sk-item\"><div class=\"sk-label-container\"><div class=\"sk-label sk-toggleable\"><input class=\"sk-toggleable__control sk-hidden--visually\" id=\"sk-estimator-id-132\" type=\"checkbox\" ><label for=\"sk-estimator-id-132\" class=\"sk-toggleable__label sk-toggleable__label-arrow\">numericTransformer</label><div class=\"sk-toggleable__content\"><pre>[&#x27;NAME_CONTRACT_TYPE&#x27;, &#x27;CODE_GENDER&#x27;, &#x27;FLAG_OWN_CAR&#x27;, &#x27;FLAG_OWN_REALTY&#x27;, &#x27;CNT_CHILDREN&#x27;, &#x27;AMT_INCOME_TOTAL&#x27;, &#x27;AMT_CREDIT&#x27;, &#x27;AMT_ANNUITY&#x27;, &#x27;AMT_GOODS_PRICE&#x27;, &#x27;REGION_POPULATION_RELATIVE&#x27;, &#x27;DAYS_BIRTH&#x27;, &#x27;DAYS_EMPLOYED&#x27;, &#x27;DAYS_REGISTRATION&#x27;, &#x27;DAYS_ID_PUBLISH&#x27;, &#x27;OWN_CAR_AGE&#x27;, &#x27;FLAG_MOBIL&#x27;, &#x27;FLAG_EMP_PHONE&#x27;, &#x27;FLAG_WORK_PHONE&#x27;, &#x27;FLAG_CONT_MOBILE&#x27;, &#x27;FLAG_PHONE&#x27;, &#x27;FLAG_EMAIL&#x27;, &#x27;CNT_FAM_MEMBERS&#x27;, &#x27;REGION_RATING_CLIENT&#x27;, &#x27;REGION_RATING_CLIENT_W_CITY&#x27;, &#x27;HOUR_APPR_PROCESS_START&#x27;, &#x27;EXT_SOURCE_1&#x27;, &#x27;EXT_SOURCE_2&#x27;, &#x27;EXT_SOURCE_3&#x27;, &#x27;APARTMENTS_AVG&#x27;, &#x27;BASEMENTAREA_AVG&#x27;, &#x27;YEARS_BEGINEXPLUATATION_AVG&#x27;, &#x27;COMMONAREA_AVG&#x27;, &#x27;ELEVATORS_AVG&#x27;, &#x27;ENTRANCES_AVG&#x27;, &#x27;FLOORSMAX_AVG&#x27;, &#x27;FLOORSMIN_AVG&#x27;, &#x27;LANDAREA_AVG&#x27;, &#x27;LIVINGAREA_AVG&#x27;, &#x27;NONLIVINGAPARTMENTS_AVG&#x27;, &#x27;NONLIVINGAREA_AVG&#x27;, &#x27;YEARS_BEGINEXPLUATATION_MEDI&#x27;, &#x27;EMERGENCYSTATE_MODE&#x27;, &#x27;DAYS_LAST_PHONE_CHANGE&#x27;, &#x27;AMT_REQ_CREDIT_BUREAU_HOUR&#x27;, &#x27;AMT_REQ_CREDIT_BUREAU_DAY&#x27;, &#x27;AMT_REQ_CREDIT_BUREAU_WEEK&#x27;, &#x27;AMT_REQ_CREDIT_BUREAU_MON&#x27;, &#x27;AMT_REQ_CREDIT_BUREAU_QRT&#x27;, &#x27;AMT_REQ_CREDIT_BUREAU_YEAR&#x27;, &#x27;NEW_CREDIT_TO_ANNUITY_RATIO&#x27;, &#x27;NEW_DOWN_PAYMENT_RATE&#x27;, &#x27;NEW_CREDIT_TO_GOOD_RATIO&#x27;, &#x27;NEW_ANNUITY_TO_INCOME_RATIO&#x27;, &#x27;NEW_SOURCES_PROD&#x27;, &#x27;NEW_EXT_SOURCES_MEAN&#x27;, &#x27;NEW_is_NOT_sth&#x27;, &#x27;NEW_is_DOCLess&#x27;, &#x27;NEW_is_DOCMore&#x27;, &#x27;BUR_CREDIT_ACTIVE_Active_AggMean&#x27;, &#x27;BUR_CREDIT_ACTIVE_Bad debt_AggMean&#x27;, &#x27;BUR_CREDIT_ACTIVE_Closed_AggMean&#x27;, &#x27;BUR_CREDIT_ACTIVE_Sold_AggMean&#x27;, &#x27;BUR_CREDIT_ACTIVE_missing_AggMean&#x27;, &#x27;BUR_CREDIT_CURRENCY_currency 1_AggMean&#x27;, &#x27;BUR_CREDIT_CURRENCY_currency 2_AggMean&#x27;, &#x27;BUR_CREDIT_CURRENCY_currency 3_AggMean&#x27;, &#x27;BUR_CREDIT_CURRENCY_currency 4_AggMean&#x27;, &#x27;BUR_CREDIT_CURRENCY_missing_AggMean&#x27;, &#x27;BUR_BB_last10_STATUS_AggMean_AggMean&#x27;, &#x27;BUR_DAYS_CREDIT_AggMean&#x27;, &#x27;BUR_CREDIT_DAY_OVERDUE_AggMean&#x27;, &#x27;BUR_DAYS_CREDIT_ENDDATE_AggMean&#x27;, &#x27;BUR_DAYS_ENDDATE_FACT_AggMean&#x27;, &#x27;BUR_AMT_CREDIT_MAX_OVERDUE_AggMean&#x27;, &#x27;BUR_CNT_CREDIT_PROLONG_AggSum&#x27;, &#x27;BUR_AMT_CREDIT_SUM_AggSum&#x27;, &#x27;BUR_AMT_CREDIT_SUM_DEBT_AggSum&#x27;, &#x27;BUR_AMT_ANNUITY_AggMean&#x27;, &#x27;BUR_NEW_DEPT_TO_REMDAYS_RATIO_AggMax&#x27;, &#x27;PREV_NAME_CONTRACT_TYPE_Cash loans_AggMean&#x27;, &#x27;PREV_NAME_CONTRACT_TYPE_Consumer loans_AggMean&#x27;, &#x27;PREV_NAME_CONTRACT_TYPE_Revolving loans_AggMean&#x27;, &#x27;PREV_NAME_CONTRACT_TYPE_missing_AggMean&#x27;, &#x27;PREV_NAME_CONTRACT_STATUS_Approved_AggMean&#x27;, &#x27;PREV_NAME_CONTRACT_STATUS_Canceled_AggMean&#x27;, &#x27;PREV_NAME_CONTRACT_STATUS_Refused_AggMean&#x27;, &#x27;PREV_NAME_CONTRACT_STATUS_Unused offer_AggMean&#x27;, &#x27;PREV_NAME_CONTRACT_STATUS_missing_AggMean&#x27;, &#x27;PREV_NAME_PAYMENT_TYPE_Cash through the bank_AggMean&#x27;, &#x27;PREV_NAME_PAYMENT_TYPE_Cashless from the account of the employer_AggMean&#x27;, &#x27;PREV_NAME_PAYMENT_TYPE_Non-cash from your account_AggMean&#x27;, &#x27;PREV_NAME_PORTFOLIO_Cars_AggMean&#x27;, &#x27;PREV_NAME_PORTFOLIO_POS_AggMean&#x27;, &#x27;PREV_NAME_PORTFOLIO_missing_AggMean&#x27;, &#x27;PREV_AMT_ANNUITY_AggMax&#x27;, &#x27;PREV_AMT_APPLICATION_AggMin&#x27;, &#x27;PREV_AMT_CREDIT_AggMin&#x27;, &#x27;PREV_DAYS_DECISION_AggMin&#x27;, &#x27;PREV_NAME_CLIENT_TYPE_AggMin&#x27;, &#x27;PREV_NAME_PRODUCT_TYPE_AggMean&#x27;, &#x27;PREV_CNT_PAYMENT_AggMean&#x27;, &#x27;PREV_NAME_YIELD_GROUP_AggMin&#x27;, &#x27;PREV_DAYS_FIRST_DUE_AggMax&#x27;, &#x27;PREV_DAYS_LAST_DUE_1ST_VERSION_AggMax&#x27;, &#x27;PREV_DAYS_LAST_DUE_AggMax&#x27;, &#x27;PREV_NFLAG_INSURED_ON_APPROVAL_AggMean&#x27;, &#x27;PREV_NEW_DIFF_K_RATIO_AggMax&#x27;, &#x27;PREV_NEW_I_RATE_AggMin&#x27;, &#x27;CC_last10_AMT_BALANCE_AggMean&#x27;, &#x27;CC_last10_NEW_SUM_CNT_DRAW_AggSum&#x27;, &#x27;CC_last10_SK_DPD_AggMean&#x27;, &#x27;CC_last10_SK_DPD_DEF_AggMean&#x27;, &#x27;CC_AMT_BALANCE_AggMean&#x27;, &#x27;CC_SK_DPD_AggMean&#x27;, &#x27;CC_SK_DPD_DEF_AggMean&#x27;, &#x27;CC_NEW_SUM_CNT_DRAW_AggSum&#x27;, &#x27;POS_last10_SK_DPD_AggMean&#x27;, &#x27;POS_last10_SK_DPD_DEF_AggMean&#x27;, &#x27;POS_last10_NEW_ACTUAL_LEFT_TO_PAY_AggMean&#x27;, &#x27;POS_SK_DPD_AggMean&#x27;, &#x27;POS_SK_DPD_DEF_AggMean&#x27;, &#x27;INS_last10_NEW_LESS_PAY_NORM_AggMean&#x27;, &#x27;INS_last10_NEW_DPD_NORM_AggMean&#x27;, &#x27;INS_DAYS_ENTRY_PAYMENT_AggMean&#x27;, &#x27;INS_AMT_INSTALMENT_AggMean&#x27;, &#x27;INS_AMT_PAYMENT_AggMean&#x27;, &#x27;INS_NEW_LESS_PAY_NORM_AggMean&#x27;, &#x27;INS_NEW_DPD_NORM_AggMean&#x27;, &#x27;NEW_I_x_DOWN&#x27;]</pre></div></div></div><div class=\"sk-serial\"><div class=\"sk-item\"><div class=\"sk-serial\"><div class=\"sk-item\"><div class=\"sk-estimator sk-toggleable\"><input class=\"sk-toggleable__control sk-hidden--visually\" id=\"sk-estimator-id-133\" type=\"checkbox\" ><label for=\"sk-estimator-id-133\" class=\"sk-toggleable__label sk-toggleable__label-arrow\">SimpleImputer</label><div class=\"sk-toggleable__content\"><pre>SimpleImputer(strategy=&#x27;median&#x27;)</pre></div></div></div><div class=\"sk-item\"><div class=\"sk-estimator sk-toggleable\"><input class=\"sk-toggleable__control sk-hidden--visually\" id=\"sk-estimator-id-134\" type=\"checkbox\" ><label for=\"sk-estimator-id-134\" class=\"sk-toggleable__label sk-toggleable__label-arrow\">RobustScaler</label><div class=\"sk-toggleable__content\"><pre>RobustScaler()</pre></div></div></div></div></div></div></div></div><div class=\"sk-parallel-item\"><div class=\"sk-item\"><div class=\"sk-label-container\"><div class=\"sk-label sk-toggleable\"><input class=\"sk-toggleable__control sk-hidden--visually\" id=\"sk-estimator-id-135\" type=\"checkbox\" ><label for=\"sk-estimator-id-135\" class=\"sk-toggleable__label sk-toggleable__label-arrow\">highCardiTransformer</label><div class=\"sk-toggleable__content\"><pre>[&#x27;NAME_TYPE_SUITE&#x27;, &#x27;NAME_INCOME_TYPE&#x27;, &#x27;OCCUPATION_TYPE&#x27;, &#x27;WEEKDAY_APPR_PROCESS_START&#x27;, &#x27;ORGANIZATION_TYPE&#x27;, &#x27;WALLSMATERIAL_MODE&#x27;, &#x27;BUR_CREDIT_TYPE_AggMymode&#x27;, &#x27;PREV_NAME_CASH_LOAN_PURPOSE_AggMymode&#x27;, &#x27;PREV_NAME_GOODS_CATEGORY_AggMymode&#x27;, &#x27;PREV_PRODUCT_COMBINATION_AggMymode&#x27;, &#x27;PREV_WEEKDAY_APPR_PROCESS_START_AggMymode&#x27;, &#x27;PREV_CODE_REJECT_REASON_AggMymode&#x27;, &#x27;PREV_NAME_TYPE_SUITE_AggMymode&#x27;, &#x27;PREV_CHANNEL_TYPE_AggMymode&#x27;, &#x27;PREV_NAME_SELLER_INDUSTRY_AggMymode&#x27;, &#x27;CC_NAME_CONTRACT_STATUS_AggMymode&#x27;, &#x27;POS_NAME_CONTRACT_STATUS_AggMymode&#x27;]</pre></div></div></div><div class=\"sk-serial\"><div class=\"sk-item\"><div class=\"sk-serial\"><div class=\"sk-item\"><div class=\"sk-estimator sk-toggleable\"><input class=\"sk-toggleable__control sk-hidden--visually\" id=\"sk-estimator-id-136\" type=\"checkbox\" ><label for=\"sk-estimator-id-136\" class=\"sk-toggleable__label sk-toggleable__label-arrow\">SimpleImputer</label><div class=\"sk-toggleable__content\"><pre>SimpleImputer(fill_value=&#x27;missing&#x27;, strategy=&#x27;constant&#x27;)</pre></div></div></div><div class=\"sk-item\"><div class=\"sk-estimator sk-toggleable\"><input class=\"sk-toggleable__control sk-hidden--visually\" id=\"sk-estimator-id-137\" type=\"checkbox\" ><label for=\"sk-estimator-id-137\" class=\"sk-toggleable__label sk-toggleable__label-arrow\">TargetEncoder</label><div class=\"sk-toggleable__content\"><pre>TargetEncoder()</pre></div></div></div><div class=\"sk-item\"><div class=\"sk-estimator sk-toggleable\"><input class=\"sk-toggleable__control sk-hidden--visually\" id=\"sk-estimator-id-138\" type=\"checkbox\" ><label for=\"sk-estimator-id-138\" class=\"sk-toggleable__label sk-toggleable__label-arrow\">StandardScaler</label><div class=\"sk-toggleable__content\"><pre>StandardScaler()</pre></div></div></div></div></div></div></div></div><div class=\"sk-parallel-item\"><div class=\"sk-item\"><div class=\"sk-label-container\"><div class=\"sk-label sk-toggleable\"><input class=\"sk-toggleable__control sk-hidden--visually\" id=\"sk-estimator-id-139\" type=\"checkbox\" ><label for=\"sk-estimator-id-139\" class=\"sk-toggleable__label sk-toggleable__label-arrow\">nomiTransformer</label><div class=\"sk-toggleable__content\"><pre>[&#x27;NAME_FAMILY_STATUS&#x27;, &#x27;NAME_HOUSING_TYPE&#x27;, &#x27;FONDKAPREMONT_MODE&#x27;, &#x27;HOUSETYPE_MODE&#x27;]</pre></div></div></div><div class=\"sk-serial\"><div class=\"sk-item\"><div class=\"sk-serial\"><div class=\"sk-item\"><div class=\"sk-estimator sk-toggleable\"><input class=\"sk-toggleable__control sk-hidden--visually\" id=\"sk-estimator-id-140\" type=\"checkbox\" ><label for=\"sk-estimator-id-140\" class=\"sk-toggleable__label sk-toggleable__label-arrow\">SimpleImputer</label><div class=\"sk-toggleable__content\"><pre>SimpleImputer(fill_value=&#x27;missing&#x27;, strategy=&#x27;constant&#x27;)</pre></div></div></div><div class=\"sk-item\"><div class=\"sk-estimator sk-toggleable\"><input class=\"sk-toggleable__control sk-hidden--visually\" id=\"sk-estimator-id-141\" type=\"checkbox\" ><label for=\"sk-estimator-id-141\" class=\"sk-toggleable__label sk-toggleable__label-arrow\">OneHotEncoder</label><div class=\"sk-toggleable__content\"><pre>OneHotEncoder(drop=&#x27;first&#x27;, dtype=&lt;class &#x27;numpy.int8&#x27;&gt;, handle_unknown=&#x27;ignore&#x27;)</pre></div></div></div></div></div></div></div></div><div class=\"sk-parallel-item\"><div class=\"sk-item\"><div class=\"sk-label-container\"><div class=\"sk-label sk-toggleable\"><input class=\"sk-toggleable__control sk-hidden--visually\" id=\"sk-estimator-id-142\" type=\"checkbox\" ><label for=\"sk-estimator-id-142\" class=\"sk-toggleable__label sk-toggleable__label-arrow\">ordiTransformer</label><div class=\"sk-toggleable__content\"><pre>[&#x27;NAME_EDUCATION_TYPE&#x27;]</pre></div></div></div><div class=\"sk-serial\"><div class=\"sk-item\"><div class=\"sk-serial\"><div class=\"sk-item\"><div class=\"sk-estimator sk-toggleable\"><input class=\"sk-toggleable__control sk-hidden--visually\" id=\"sk-estimator-id-143\" type=\"checkbox\" ><label for=\"sk-estimator-id-143\" class=\"sk-toggleable__label sk-toggleable__label-arrow\">SimpleImputer</label><div class=\"sk-toggleable__content\"><pre>SimpleImputer(fill_value=&#x27;missing&#x27;, strategy=&#x27;constant&#x27;)</pre></div></div></div><div class=\"sk-item\"><div class=\"sk-estimator sk-toggleable\"><input class=\"sk-toggleable__control sk-hidden--visually\" id=\"sk-estimator-id-144\" type=\"checkbox\" ><label for=\"sk-estimator-id-144\" class=\"sk-toggleable__label sk-toggleable__label-arrow\">OrdinalEncoder</label><div class=\"sk-toggleable__content\"><pre>OrdinalEncoder(categories=[[&#x27;Lower secondary&#x27;, &#x27;Secondary / secondary special&#x27;,\n",
       "                            &#x27;Incomplete higher&#x27;, &#x27;Higher education&#x27;,\n",
       "                            &#x27;Academic degree&#x27;]],\n",
       "               dtype=&lt;class &#x27;numpy.int8&#x27;&gt;, handle_unknown=&#x27;use_encoded_value&#x27;,\n",
       "               unknown_value=-1)</pre></div></div></div><div class=\"sk-item\"><div class=\"sk-estimator sk-toggleable\"><input class=\"sk-toggleable__control sk-hidden--visually\" id=\"sk-estimator-id-145\" type=\"checkbox\" ><label for=\"sk-estimator-id-145\" class=\"sk-toggleable__label sk-toggleable__label-arrow\">StandardScaler</label><div class=\"sk-toggleable__content\"><pre>StandardScaler()</pre></div></div></div></div></div></div></div></div></div></div><div class=\"sk-item\"><div class=\"sk-estimator sk-toggleable\"><input class=\"sk-toggleable__control sk-hidden--visually\" id=\"sk-estimator-id-146\" type=\"checkbox\" ><label for=\"sk-estimator-id-146\" class=\"sk-toggleable__label sk-toggleable__label-arrow\">VarianceThreshold</label><div class=\"sk-toggleable__content\"><pre>VarianceThreshold(threshold=0.001)</pre></div></div></div><div class=\"sk-item\"><div class=\"sk-estimator sk-toggleable\"><input class=\"sk-toggleable__control sk-hidden--visually\" id=\"sk-estimator-id-147\" type=\"checkbox\" ><label for=\"sk-estimator-id-147\" class=\"sk-toggleable__label sk-toggleable__label-arrow\">SelectPercentile</label><div class=\"sk-toggleable__content\"><pre>SelectPercentile(percentile=80)</pre></div></div></div><div class=\"sk-item sk-dashed-wrapped\"><div class=\"sk-label-container\"><div class=\"sk-label sk-toggleable\"><input class=\"sk-toggleable__control sk-hidden--visually\" id=\"sk-estimator-id-148\" type=\"checkbox\" ><label for=\"sk-estimator-id-148\" class=\"sk-toggleable__label sk-toggleable__label-arrow\">RFEselector: RFECV</label><div class=\"sk-toggleable__content\"><pre>RFECV(cv=StratifiedKFold(n_splits=3, random_state=3, shuffle=True),\n",
       "      estimator=RandomForestClassifier(class_weight=&#x27;balanced&#x27;, max_depth=4,\n",
       "                                       max_leaf_nodes=45, max_samples=0.5,\n",
       "                                       min_samples_split=0.15, n_estimators=75,\n",
       "                                       n_jobs=8, random_state=16),\n",
       "      min_features_to_select=70, n_jobs=8, scoring=&#x27;average_precision&#x27;,\n",
       "      step=0.05, verbose=3)</pre></div></div></div><div class=\"sk-parallel\"><div class=\"sk-parallel-item\"><div class=\"sk-item\"><div class=\"sk-label-container\"><div class=\"sk-label sk-toggleable\"><input class=\"sk-toggleable__control sk-hidden--visually\" id=\"sk-estimator-id-149\" type=\"checkbox\" ><label for=\"sk-estimator-id-149\" class=\"sk-toggleable__label sk-toggleable__label-arrow\">estimator: RandomForestClassifier</label><div class=\"sk-toggleable__content\"><pre>RandomForestClassifier(class_weight=&#x27;balanced&#x27;, max_depth=4, max_leaf_nodes=45,\n",
       "                       max_samples=0.5, min_samples_split=0.15, n_estimators=75,\n",
       "                       n_jobs=8, random_state=16)</pre></div></div></div><div class=\"sk-serial\"><div class=\"sk-item\"><div class=\"sk-estimator sk-toggleable\"><input class=\"sk-toggleable__control sk-hidden--visually\" id=\"sk-estimator-id-150\" type=\"checkbox\" ><label for=\"sk-estimator-id-150\" class=\"sk-toggleable__label sk-toggleable__label-arrow\">RandomForestClassifier</label><div class=\"sk-toggleable__content\"><pre>RandomForestClassifier(class_weight=&#x27;balanced&#x27;, max_depth=4, max_leaf_nodes=45,\n",
       "                       max_samples=0.5, min_samples_split=0.15, n_estimators=75,\n",
       "                       n_jobs=8, random_state=16)</pre></div></div></div></div></div></div></div></div><div class=\"sk-item\"><div class=\"sk-estimator sk-toggleable\"><input class=\"sk-toggleable__control sk-hidden--visually\" id=\"sk-estimator-id-151\" type=\"checkbox\" ><label for=\"sk-estimator-id-151\" class=\"sk-toggleable__label sk-toggleable__label-arrow\">passthrough</label><div class=\"sk-toggleable__content\"><pre>passthrough</pre></div></div></div><div class=\"sk-item\"><div class=\"sk-estimator sk-toggleable\"><input class=\"sk-toggleable__control sk-hidden--visually\" id=\"sk-estimator-id-152\" type=\"checkbox\" ><label for=\"sk-estimator-id-152\" class=\"sk-toggleable__label sk-toggleable__label-arrow\">passthrough</label><div class=\"sk-toggleable__content\"><pre>passthrough</pre></div></div></div><div class=\"sk-item\"><div class=\"sk-estimator sk-toggleable\"><input class=\"sk-toggleable__control sk-hidden--visually\" id=\"sk-estimator-id-153\" type=\"checkbox\" ><label for=\"sk-estimator-id-153\" class=\"sk-toggleable__label sk-toggleable__label-arrow\">LGBMClassifier</label><div class=\"sk-toggleable__content\"><pre>LGBMClassifier(class_weight=&#x27;balanced&#x27;, colsample_bytree=0.8794565447845865,\n",
       "               learning_rate=0.05, min_child_samples=507, min_child_weight=59,\n",
       "               n_estimators=1000, n_jobs=16, num_leaves=26, objective=&#x27;binary&#x27;,\n",
       "               random_state=18, reg_alpha=13, reg_lambda=37, subsample=0.5,\n",
       "               verbose=1)</pre></div></div></div></div></div></div></div>"
      ],
      "text/plain": [
       "Pipeline(steps=[('columnTransformer',\n",
       "                 ColumnTransformer(transformers=[('numericTransformer',\n",
       "                                                  Pipeline(steps=[('imputerNum',\n",
       "                                                                   SimpleImputer(strategy='median')),\n",
       "                                                                  ('scalerNum',\n",
       "                                                                   RobustScaler())]),\n",
       "                                                  ['NAME_CONTRACT_TYPE',\n",
       "                                                   'CODE_GENDER',\n",
       "                                                   'FLAG_OWN_CAR',\n",
       "                                                   'FLAG_OWN_REALTY',\n",
       "                                                   'CNT_CHILDREN',\n",
       "                                                   'AMT_INCOME_TOTAL',\n",
       "                                                   'AMT_CREDIT', 'AMT_ANNUITY',\n",
       "                                                   'AMT_GOODS_PRICE',\n",
       "                                                   'REGION_POPULATI...\n",
       "                       scoring='average_precision', step=0.05, verbose=3)),\n",
       "                ('overSampler', 'passthrough'), ('underSampler', 'passthrough'),\n",
       "                ('clf',\n",
       "                 LGBMClassifier(class_weight='balanced',\n",
       "                                colsample_bytree=0.8794565447845865,\n",
       "                                learning_rate=0.05, min_child_samples=507,\n",
       "                                min_child_weight=59, n_estimators=1000,\n",
       "                                n_jobs=16, num_leaves=26, objective='binary',\n",
       "                                random_state=18, reg_alpha=13, reg_lambda=37,\n",
       "                                subsample=0.5, verbose=1))],\n",
       "         verbose=True)"
      ]
     },
     "execution_count": 175,
     "metadata": {},
     "output_type": "execute_result"
    }
   ],
   "source": [
    "LBpipeTuned.set_params(**LBOptiSearch.best_params_)"
   ]
  },
  {
   "cell_type": "markdown",
   "id": "cae19e54",
   "metadata": {},
   "source": [
    "Utilisons notre fonction `getCrossValProbs_Imp_Results` pour obtenir :\n",
    "- les scores out of folds\n",
    "- l'importance des features\n",
    "- l'average precision\n",
    "- le temps moyen d'apprentissage"
   ]
  },
  {
   "cell_type": "code",
   "execution_count": 176,
   "id": "bb36ea8d",
   "metadata": {},
   "outputs": [
    {
     "name": "stdout",
     "output_type": "stream",
     "text": [
      "CPU times: total: 0 ns\n",
      "Wall time: 14.4 ms\n"
     ]
    }
   ],
   "source": [
    "%%time\n",
    "if not os.path.isdir(\"mySaves/oof_preds\") :\n",
    "    os.mkdir(\"mySaves/oof_preds\")\n",
    "if not os.path.isdir(\"mySaves/features_importances\") :\n",
    "    os.mkdir(\"mySaves/features_importances\")\n",
    "if not os.path.isdir(\"mySaves/CV_results\") :\n",
    "    os.mkdir(\"mySaves/CV_results\")\n",
    "\n",
    "if (\"LB_yProbCV.joblib\" not in os.listdir(\"mySaves/oof_preds\") ) or (rapidProcessing == False) :\n",
    "    LB_yProbCV,LB_impTab,LB_resultsSeries = getCrossValProbs_Imp_Results(LBpipeTuned)\n",
    "\n",
    "    dump(LB_yProbCV,\"mySaves/oof_preds/LB_yProbCV.joblib\")\n",
    "    dump(LB_impTab,\"mySaves/features_importances/LB_impTab.joblib\")\n",
    "    dump(LB_resultsSeries,\"mySaves/CV_results/LB_resultsSeries.joblib\")\n",
    "\n",
    "else :\n",
    "    LB_yProbCV=load(\"mySaves/oof_preds/LB_yProbCV.joblib\")\n",
    "    LB_impTab =load(\"mySaves/features_importances/LB_impTab.joblib\")\n",
    "    LB_resultsSeries = load(\"mySaves/CV_results/LB_resultsSeries.joblib\")"
   ]
  },
  {
   "cell_type": "markdown",
   "id": "d9cb4846",
   "metadata": {},
   "source": [
    "Nous pouvons :\n",
    "- mettre à jour notre tableau comparatif des modèles\n",
    "- tracer nos courbes\n",
    "- afficher l'importance des variables"
   ]
  },
  {
   "cell_type": "code",
   "execution_count": 177,
   "id": "aff5f093",
   "metadata": {},
   "outputs": [
    {
     "data": {
      "text/html": [
       "<div>\n",
       "<style scoped>\n",
       "    .dataframe tbody tr th:only-of-type {\n",
       "        vertical-align: middle;\n",
       "    }\n",
       "\n",
       "    .dataframe tbody tr th {\n",
       "        vertical-align: top;\n",
       "    }\n",
       "\n",
       "    .dataframe thead th {\n",
       "        text-align: right;\n",
       "    }\n",
       "</style>\n",
       "<table border=\"1\" class=\"dataframe\">\n",
       "  <thead>\n",
       "    <tr style=\"text-align: right;\">\n",
       "      <th></th>\n",
       "      <th>dummy</th>\n",
       "      <th>Rand Forest</th>\n",
       "      <th>Logistic Reg</th>\n",
       "      <th>Light GBM</th>\n",
       "    </tr>\n",
       "  </thead>\n",
       "  <tbody>\n",
       "    <tr>\n",
       "      <th>Average Precision</th>\n",
       "      <td>0.080909</td>\n",
       "      <td>0.237849</td>\n",
       "      <td>0.242374</td>\n",
       "      <td>0.269331</td>\n",
       "    </tr>\n",
       "    <tr>\n",
       "      <th>Mean fit time</th>\n",
       "      <td>1.868098</td>\n",
       "      <td>63.401027</td>\n",
       "      <td>60.975310</td>\n",
       "      <td>61.450287</td>\n",
       "    </tr>\n",
       "  </tbody>\n",
       "</table>\n",
       "</div>"
      ],
      "text/plain": [
       "                      dummy  Rand Forest  Logistic Reg  Light GBM\n",
       "Average Precision  0.080909     0.237849      0.242374   0.269331\n",
       "Mean fit time      1.868098    63.401027     60.975310  61.450287"
      ]
     },
     "execution_count": 177,
     "metadata": {},
     "output_type": "execute_result"
    }
   ],
   "source": [
    "models_CV_results[\"Light GBM\"] = LB_resultsSeries\n",
    "models_CV_results"
   ]
  },
  {
   "cell_type": "markdown",
   "id": "fe880401",
   "metadata": {},
   "source": [
    "Le pipeline `LBpipeTuned` fait mieux que les précédents sur notre métrique d'évaluation, le tout avec un temps d'apprentissage assez compétitif."
   ]
  },
  {
   "cell_type": "code",
   "execution_count": 178,
   "id": "3a69781f",
   "metadata": {
    "scrolled": false
   },
   "outputs": [
    {
     "data": {
      "application/vnd.jupyter.widget-view+json": {
       "model_id": "b1255a6ff6064885b7bdd6e4e329676d",
       "version_major": 2,
       "version_minor": 0
      },
      "text/plain": [
       "Dropdown(description='Model :', options=('all', 'dummy', 'Rand Forest', 'Logistic Reg', 'LightGBM'), style=Des…"
      ]
     },
     "metadata": {},
     "output_type": "display_data"
    },
    {
     "data": {
      "application/vnd.jupyter.widget-view+json": {
       "model_id": "2acf5f36790b4c65a19e75875a92fa73",
       "version_major": 2,
       "version_minor": 0
      },
      "text/plain": [
       "Output()"
      ]
     },
     "metadata": {},
     "output_type": "display_data"
    }
   ],
   "source": [
    "# plot ROC and PR curves from CV scores\n",
    "mf.plotROCandPRfromCV_WID (\n",
    "    oofProbList=[dummy_yProbCV,RF_yProbCV,LR_yProbCV,LB_yProbCV],\n",
    "    modelNameList=[\"dummy\",\"Rand Forest\",\"Logistic Reg\",\"LightGBM\"],\n",
    "    Xtrain=XTrain.values,\n",
    "    ytrain=yTrain.values,\n",
    "    kf=cvPred,\n",
    "    palette=None)"
   ]
  },
  {
   "cell_type": "code",
   "execution_count": 179,
   "id": "bbc9f385",
   "metadata": {
    "scrolled": false
   },
   "outputs": [
    {
     "data": {
      "application/vnd.jupyter.widget-view+json": {
       "model_id": "2d7f04cbe2a64bdabe37809aedcb8733",
       "version_major": 2,
       "version_minor": 0
      },
      "text/plain": [
       "HBox(children=(HBox(children=(Label(value='Model :'), RadioButtons(index=2, options=('Random Forest', 'Logisti…"
      ]
     },
     "metadata": {},
     "output_type": "display_data"
    },
    {
     "data": {
      "application/vnd.jupyter.widget-view+json": {
       "model_id": "e815a2aba16c4decb72dca2ecf4cb569",
       "version_major": 2,
       "version_minor": 0
      },
      "text/plain": [
       "HBox(children=(BoundedIntText(value=30, description='N top features : ', max=126, style=DescriptionStyle(descr…"
      ]
     },
     "metadata": {},
     "output_type": "display_data"
    },
    {
     "data": {
      "application/vnd.jupyter.widget-view+json": {
       "model_id": "2670e878784541839d966f862c677a88",
       "version_major": 2,
       "version_minor": 0
      },
      "text/plain": [
       "Output()"
      ]
     },
     "metadata": {},
     "output_type": "display_data"
    }
   ],
   "source": [
    "plotFeatImpWID(\n",
    "    importancesTabsList=[RF_impTab,LR_impTab,LB_impTab],\n",
    "    modelsNamesList=[\"Random Forest\",\"Logistic Regression\",\"Light GBM\"],\n",
    "    customFeaturesList=myFeatures\n",
    ") "
   ]
  },
  {
   "cell_type": "markdown",
   "id": "1e00f2f9",
   "metadata": {},
   "source": [
    "Les features qui ressortent paraissent également plus logiques. Outre les `EXT_SOURCE` ou affiliées, nous retrouvons des conclusions issues de notre analyse (l'âge, la durée d'emploi, le type d'emploi, etc.).\n",
    "\n",
    "Nous retrouvons également plus de features composites."
   ]
  },
  {
   "cell_type": "markdown",
   "id": "d2407d17",
   "metadata": {},
   "source": [
    "# MODELE CHOISI - Essai sur le Test set<a class=\"anchor\" id=\"20\"></a>"
   ]
  },
  {
   "cell_type": "markdown",
   "id": "6c184127",
   "metadata": {},
   "source": [
    "Sur la base de notre métrique d'évaluation, nous pouvons sélectionner le `LightGBM` comme notre meilleur modèle."
   ]
  },
  {
   "cell_type": "markdown",
   "id": "ab848587",
   "metadata": {},
   "source": [
    "Nous pouvons tester le modèle sélectionné sur le Test set :"
   ]
  },
  {
   "cell_type": "code",
   "execution_count": 180,
   "id": "815ab206",
   "metadata": {},
   "outputs": [
    {
     "name": "stdout",
     "output_type": "stream",
     "text": [
      "CPU times: total: 15.6 ms\n",
      "Wall time: 36.6 ms\n"
     ]
    }
   ],
   "source": [
    "%%time\n",
    "# first, fit LBpipeTuned on train set\n",
    "if not os.path.isdir(\"mySaves/models\") :\n",
    "    os.mkdir(\"mySaves/models\")\n",
    "\n",
    "if (\"LBpipeTuned.joblib\" not in os.listdir(\"mySaves/models\")) or (rapidProcessing==False) :\n",
    "    LBpipeTuned.fit(XTrain,yTrain)\n",
    "    dump(LBpipeTuned,\"mySaves/models/LBpipeTuned.joblib\")\n",
    "\n",
    "else :\n",
    "    LBpipeTuned=load(\"mySaves/models/LBpipeTuned.joblib\")\n"
   ]
  },
  {
   "cell_type": "markdown",
   "id": "39f29996",
   "metadata": {},
   "source": [
    "Nous pouvons tracer de la même manière les courbes ROC et PR, en utilisant une fonction de `myFunction` permettant de tracer ces courbes sur la base d'un modèle déjà entraîné et d'un set de test."
   ]
  },
  {
   "cell_type": "code",
   "execution_count": 181,
   "id": "f1666205",
   "metadata": {},
   "outputs": [
    {
     "data": {
      "image/png": "[encoded data removed]",
      "text/plain": [
       "<Figure size 1200x600 with 2 Axes>"
      ]
     },
     "metadata": {},
     "output_type": "display_data"
    }
   ],
   "source": [
    "# then, plot ROC and PR curves :\n",
    "mf.plotROCandPR(\n",
    "    alreadyFittedModelsList=LBpipeTuned,\n",
    "    namesList=\"LightGBM\",\n",
    "    Xtest=XTest,\n",
    "    ytest=yTest,\n",
    "    plot_chance_level=True,\n",
    "    palette=\"r\",\n",
    ")"
   ]
  },
  {
   "cell_type": "markdown",
   "id": "75161ffd",
   "metadata": {},
   "source": [
    "Notre `LBpipeTuned` atteint un résultat équivalent sur le jeu de test."
   ]
  },
  {
   "cell_type": "markdown",
   "id": "f7b22081",
   "metadata": {},
   "source": [
    "# MODELE CHOISI - et sans les features composites ?<a class=\"anchor\" id=\"21\"></a>"
   ]
  },
  {
   "cell_type": "markdown",
   "id": "9ae98a0f",
   "metadata": {},
   "source": [
    "Essayons d'analyser l'impact des features composites et des agrégats sur le résultat :"
   ]
  },
  {
   "cell_type": "code",
   "execution_count": 182,
   "id": "1a849cfc",
   "metadata": {
    "scrolled": false
   },
   "outputs": [
    {
     "data": {
      "text/html": [
       "<div>\n",
       "<style scoped>\n",
       "    .dataframe tbody tr th:only-of-type {\n",
       "        vertical-align: middle;\n",
       "    }\n",
       "\n",
       "    .dataframe tbody tr th {\n",
       "        vertical-align: top;\n",
       "    }\n",
       "\n",
       "    .dataframe thead th {\n",
       "        text-align: right;\n",
       "    }\n",
       "</style>\n",
       "<table border=\"1\" class=\"dataframe\">\n",
       "  <thead>\n",
       "    <tr style=\"text-align: right;\">\n",
       "      <th></th>\n",
       "      <th>LGBM Average Precision</th>\n",
       "      <th>diff%</th>\n",
       "    </tr>\n",
       "  </thead>\n",
       "  <tbody>\n",
       "    <tr>\n",
       "      <th>with My and Agg features</th>\n",
       "      <td>0.278420</td>\n",
       "      <td>0.0 %</td>\n",
       "    </tr>\n",
       "    <tr>\n",
       "      <th>without My features</th>\n",
       "      <td>0.265955</td>\n",
       "      <td>-4.5 %</td>\n",
       "    </tr>\n",
       "    <tr>\n",
       "      <th>without My or Agg features</th>\n",
       "      <td>0.247446</td>\n",
       "      <td>-11.1 %</td>\n",
       "    </tr>\n",
       "  </tbody>\n",
       "</table>\n",
       "</div>"
      ],
      "text/plain": [
       "                            LGBM Average Precision    diff%\n",
       "with My and Agg features                  0.278420    0.0 %\n",
       "without My features                       0.265955   -4.5 %\n",
       "without My or Agg features                0.247446  -11.1 %"
      ]
     },
     "metadata": {},
     "output_type": "display_data"
    }
   ],
   "source": [
    "## initiate a tab to store results\n",
    "myFeaturesImpact = pd.DataFrame()\n",
    "myFeaturesImpact.loc[\"with My and Agg features\",\"LGBM Average Precision\"] = \\\n",
    "average_precision_score(y_score=LBpipeTuned.predict_proba(XTest)[:,1],y_true=yTest) \n",
    "\n",
    "## considering just NEW and Lastxx features\n",
    "\n",
    "notMyFeatures = [col for col in XTrain if col not in myFeatures]\n",
    "# modify transformers \n",
    "columnTransformerWithoutMyFeatures = ColumnTransformer(\n",
    "    [\n",
    "        (\"numericTransformer\",numericTransformer,[c for c in numColsNames if c in notMyFeatures]),\n",
    "        (\"highCardiTransformer\",highCardiTransformer,[c for c in newHighCardiColsNames if c  in notMyFeatures]),\n",
    "        (\"nomiTransformer\",nomiTransformer,[c for c in remainingNomiColsNames if c in notMyFeatures]),\n",
    "        (\"ordiTransformer\",ordiTransformer,[e[0] for e in [c for c in remainingOrdiColsNamesAndOrder if c in notMyFeatures]])\n",
    "    ]\n",
    ")\n",
    "# copy original pipe\n",
    "LBpipeTunedWithoutMyFeatures = clone(LBpipeTuned)\n",
    "# set params\n",
    "LBpipeTunedWithoutMyFeatures.set_params(**{\"columnTransformer\":columnTransformerWithoutMyFeatures})\n",
    "# fit \n",
    "if not os.path.isdir(\"mySaves/models\") :\n",
    "    os.mkdir(\"mySaves/models\")\n",
    "if (\"LBpipeTunedWithoutMyFeatures.joblib\" not in os.listdir(\"mySaves/models\")) or (rapidProcessing == False):\n",
    "    LBpipeTunedWithoutMyFeatures.fit(XTrain[notMyFeatures],yTrain)\n",
    "    dump(LBpipeTunedWithoutMyFeatures,\"mySaves/models/LBpipeTunedWithoutMyFeatures.joblib\")\n",
    "else :\n",
    "    LBpipeTunedWithoutMyFeatures=load(\"mySaves/models/LBpipeTunedWithoutMyFeatures.joblib\")\n",
    "# compute average precision\n",
    "myFeaturesImpact.loc[\"without My features\",\"LGBM Average Precision\"] = \\\n",
    "average_precision_score(y_score=LBpipeTunedWithoutMyFeatures.predict_proba(XTest[notMyFeatures])[:,1],y_true=yTest) \n",
    "\n",
    "\n",
    "## considering NEW, Lastxx features AND all aggregated features\n",
    "\n",
    "aggFeatures = [col for col in XTrain if (col.startswith((\"BUR\",\"PREV\",\"CC\",\"INS\",\"POS\"))) and (col not in myFeatures)]\n",
    "allCustomFeatures = myFeatures + aggFeatures\n",
    "initialFeatures = [col for col in XTrain if col not in allCustomFeatures]\n",
    "# modify transformers \n",
    "columnTransformerWithoutMyandAggFeatures = ColumnTransformer(\n",
    "    [\n",
    "        (\"numericTransformer\",numericTransformer,[c for c in numColsNames if c in initialFeatures]),\n",
    "        (\"highCardiTransformer\",highCardiTransformer,[c for c in newHighCardiColsNames if c  in initialFeatures]),\n",
    "        (\"nomiTransformer\",nomiTransformer,[c for c in remainingNomiColsNames if c in initialFeatures]),\n",
    "        (\"ordiTransformer\",ordiTransformer,[e[0] for e in [c for c in remainingOrdiColsNamesAndOrder if c in initialFeatures]])\n",
    "    ]\n",
    ")\n",
    "# copy original pipe\n",
    "LBpipeTunedWithoutMyandAggFeatures = clone(LBpipeTuned)\n",
    "# set params\n",
    "LBpipeTunedWithoutMyandAggFeatures.set_params(**{\"columnTransformer\":columnTransformerWithoutMyandAggFeatures})\n",
    "# fit \n",
    "if not os.path.isdir(\"mySaves/models\") :\n",
    "    os.mkdir(\"mySaves/models\")\n",
    "if (\"LBpipeTunedWithoutMyandAggFeatures.joblib\" not in os.listdir(\"mySaves/models\")) or (rapidProcessing == False):\n",
    "    LBpipeTunedWithoutMyandAggFeatures.fit(XTrain[initialFeatures],yTrain)\n",
    "    dump(LBpipeTunedWithoutMyandAggFeatures,\"mySaves/models/LBpipeTunedWithoutMyandAggFeatures.joblib\")\n",
    "else :\n",
    "    LBpipeTunedWithoutMyandAggFeatures=load(\"mySaves/models/LBpipeTunedWithoutMyandAggFeatures.joblib\")\n",
    "# compute average precision\n",
    "myFeaturesImpact.loc[\"without My or Agg features\",\"LGBM Average Precision\"] = \\\n",
    "average_precision_score(y_score=LBpipeTunedWithoutMyandAggFeatures.predict_proba(XTest[initialFeatures])[:,1],y_true=yTest) \n",
    "\n",
    "## add a column - difference with initial score\n",
    "myFeaturesImpact[\"diff%\"] = \\\n",
    "(myFeaturesImpact[\"LGBM Average Precision\"] -myFeaturesImpact.loc[\"with My and Agg features\",\"LGBM Average Precision\"]) \\\n",
    "/ myFeaturesImpact.loc[\"with My and Agg features\",\"LGBM Average Precision\"]\n",
    "myFeaturesImpact[\"diff%\"]=round(myFeaturesImpact[\"diff%\"]*100,1).astype(str)+\" %\"\n",
    "\n",
    "display(myFeaturesImpact)"
   ]
  },
  {
   "cell_type": "markdown",
   "id": "4863457b",
   "metadata": {},
   "source": [
    "L'utilisation des autre datasets a donc un impact positif sur l'average precision.\n",
    "\n",
    "L'ajout des features composites (`NEW_xxx` et `Lastxx_xx`) également."
   ]
  },
  {
   "cell_type": "markdown",
   "id": "11954bd0",
   "metadata": {},
   "source": [
    "# MODELE CHOISI - sélectionner un seuil basé sur notre hypothèse business<a class=\"anchor\" id=\"22\"></a>"
   ]
  },
  {
   "cell_type": "markdown",
   "id": "68b0bf4e",
   "metadata": {},
   "source": [
    "Nous allons utiliser notre hypothèse **cFN = 10 x cFP** pour déterminer le seuil de classification optimal pour notre problème. La méthode :\n",
    "- convertir cette hypothèse en matrice de coût\n",
    "- pour différents seuils :\n",
    "    - calculer la matrice confusion du modèle\n",
    "    - calculer le coût moyen par prédiction\n",
    "- choisir le seuil avec le coût le plus faible\n",
    "\n",
    "... le tout dans une fonction de `myFunction`\n",
    "\n",
    "Nous en profiterons pour comparer les modèles précédemment rejetés au modèle sélectionné."
   ]
  },
  {
   "cell_type": "code",
   "execution_count": 183,
   "id": "fd90454a",
   "metadata": {},
   "outputs": [
    {
     "name": "stderr",
     "output_type": "stream",
     "text": [
      "[Parallel(n_jobs=8)]: Using backend ThreadingBackend with 8 concurrent workers.\n",
      "[Parallel(n_jobs=8)]: Done  34 tasks      | elapsed:    0.0s\n",
      "[Parallel(n_jobs=8)]: Done  75 out of  75 | elapsed:    0.0s finished\n"
     ]
    },
    {
     "data": {
      "image/png": "[encoded data removed]",
      "text/plain": [
       "<Figure size 1200x400 with 1 Axes>"
      ]
     },
     "metadata": {},
     "output_type": "display_data"
    },
    {
     "data": {
      "text/html": [
       "<div>\n",
       "<style scoped>\n",
       "    .dataframe tbody tr th:only-of-type {\n",
       "        vertical-align: middle;\n",
       "    }\n",
       "\n",
       "    .dataframe tbody tr th {\n",
       "        vertical-align: top;\n",
       "    }\n",
       "\n",
       "    .dataframe thead th {\n",
       "        text-align: right;\n",
       "    }\n",
       "</style>\n",
       "<table border=\"1\" class=\"dataframe\">\n",
       "  <thead>\n",
       "    <tr style=\"text-align: right;\">\n",
       "      <th></th>\n",
       "      <th>model</th>\n",
       "      <th>threshold</th>\n",
       "      <th>cost</th>\n",
       "    </tr>\n",
       "  </thead>\n",
       "  <tbody>\n",
       "    <tr>\n",
       "      <th>0</th>\n",
       "      <td>dummy</td>\n",
       "      <td>1.100000</td>\n",
       "      <td>0.807278</td>\n",
       "    </tr>\n",
       "    <tr>\n",
       "      <th>1</th>\n",
       "      <td>Rand Forest</td>\n",
       "      <td>0.475025</td>\n",
       "      <td>0.528608</td>\n",
       "    </tr>\n",
       "    <tr>\n",
       "      <th>2</th>\n",
       "      <td>Logistic Reg</td>\n",
       "      <td>0.541761</td>\n",
       "      <td>0.520723</td>\n",
       "    </tr>\n",
       "    <tr>\n",
       "      <th>3</th>\n",
       "      <td>LightGBM</td>\n",
       "      <td>0.453476</td>\n",
       "      <td>0.491082</td>\n",
       "    </tr>\n",
       "  </tbody>\n",
       "</table>\n",
       "</div>"
      ],
      "text/plain": [
       "          model  threshold      cost\n",
       "0         dummy   1.100000  0.807278\n",
       "1   Rand Forest   0.475025  0.528608\n",
       "2  Logistic Reg   0.541761  0.520723\n",
       "3      LightGBM   0.453476  0.491082"
      ]
     },
     "metadata": {},
     "output_type": "display_data"
    },
    {
     "name": "stdout",
     "output_type": "stream",
     "text": [
      "le modèle avec le coût le plus faible est  LightGBM\n",
      "CPU times: total: 1min 7s\n",
      "Wall time: 1min 49s\n"
     ]
    }
   ],
   "source": [
    "%%time\n",
    "# fit RFpipeTuned and LRpipeTuned on train set\n",
    "if not os.path.isdir(\"mySaves/models\") :\n",
    "    os.mkdir(\"mySaves/models\")\n",
    "if (\"RFpipeTuned.joblib\" not in os.listdir(\"mySaves/models\")) or (rapidProcessing == False):\n",
    "    RFpipeTuned.fit(XTrain,yTrain)\n",
    "    dump(RFpipeTuned,\"mySaves/models/RFpipeTuned.joblib\")\n",
    "else :\n",
    "    RFpipeTuned=load(\"mySaves/models/RFpipeTuned.joblib\")\n",
    "\n",
    "if (\"LRpipeTuned.joblib\" not in os.listdir(\"mySaves/models\")) or (rapidProcessing == False):\n",
    "    LRpipeTuned.fit(XTrain,yTrain)\n",
    "    dump(LRpipeTuned,\"mySaves/models/LRpipeTuned.joblib\")\n",
    "else :\n",
    "    LRpipeTuned=load(\"mySaves/models/LRpipeTuned.joblib\")\n",
    "\n",
    "# build a cost matrix\n",
    "# CTN  CFP\n",
    "# CFN  CTP\n",
    "PretADepenserCostMatrix=[\n",
    "    [0 , 1],\n",
    "    [10, 0]\n",
    "] \n",
    "\n",
    "# use the getCostEffectiveClassifModelUsingTEST function\n",
    "_,modelBestThreshold,_ =  \\\n",
    "mf.getCostEffectiveClassifModelUsingTEST(\n",
    "    alreadyFittedModelsList=[dummy,RFpipeTuned,LRpipeTuned,LBpipeTuned],\n",
    "    namesList=[\"dummy\",\"Rand Forest\",\"Logistic Reg\",\"LightGBM\"],\n",
    "    X_test=XTest,\n",
    "    y_test=yTest,\n",
    "    costMatrix=PretADepenserCostMatrix,\n",
    "    drop_intermediate=True,\n",
    "    plot=True,\n",
    "    palette=None)"
   ]
  },
  {
   "cell_type": "markdown",
   "id": "77af9abc",
   "metadata": {},
   "source": [
    "Nous avons déterminé le **meilleur seuil** étant donnée notre **hypothèse de travail (cFN = 10 x cFP)**.\n",
    "\n",
    "***Nota :*** *nous voyons également quel auraient pu être les seuils pour les autres modèles. A noter que `LBpipeTuned` est bien celui avec le coût le plus bas.*"
   ]
  },
  {
   "cell_type": "markdown",
   "id": "cbd0ee14",
   "metadata": {},
   "source": [
    "# MODELE CHOISI - faire des prédictions<a class=\"anchor\" id=\"23\"></a>"
   ]
  },
  {
   "cell_type": "markdown",
   "id": "b223f036",
   "metadata": {},
   "source": [
    "Nous pouvons maintenant faire des prédictions sur notre set de test :"
   ]
  },
  {
   "cell_type": "code",
   "execution_count": 184,
   "id": "b0860049",
   "metadata": {},
   "outputs": [
    {
     "data": {
      "text/plain": [
       "61503"
      ]
     },
     "execution_count": 184,
     "metadata": {},
     "output_type": "execute_result"
    }
   ],
   "source": [
    "len(yTest)"
   ]
  },
  {
   "cell_type": "code",
   "execution_count": 185,
   "id": "e0aea7e7",
   "metadata": {},
   "outputs": [
    {
     "data": {
      "image/png": "[encoded data removed]",
      "text/plain": [
       "<Figure size 1500x700 with 4 Axes>"
      ]
     },
     "metadata": {},
     "output_type": "display_data"
    }
   ],
   "source": [
    "# model probabilities on test set\n",
    "yProbsOnTest = LBpipeTuned.predict_proba(XTest)[:,1]\n",
    "# model predictions\n",
    "yPreds = np.where(yProbsOnTest >= modelBestThreshold,1,0)\n",
    "errors = (yPreds != yTest.values)\n",
    "\n",
    "# dummy\n",
    "yPredsDummy = dummy.predict(XTest)\n",
    "\n",
    "# plot confusion matrices\n",
    "fig,(ax1,ax2) = plt.subplots(1,2,figsize=(15,7))\n",
    "ConfusionMatrixDisplay.from_predictions(y_true=yTest,y_pred=yPredsDummy,ax=ax1);\n",
    "ConfusionMatrixDisplay.from_predictions(y_true=yTest,y_pred=yPreds,ax=ax2);\n",
    "ax1.set_title(\"dummy\")\n",
    "ax2.set_title(\"LGBM\")\n",
    "fig.suptitle(\"predictions on test set\");"
   ]
  },
  {
   "cell_type": "markdown",
   "id": "fd68f405",
   "metadata": {},
   "source": [
    "On peut aussi calculer nos différentes métriques :\n",
    "- le recall,\n",
    "- la précision\n",
    "- le coût moyen d'une prédiction (ici on utilise une fonction de `myFonction`)"
   ]
  },
  {
   "cell_type": "code",
   "execution_count": 186,
   "id": "9fc9b579",
   "metadata": {},
   "outputs": [
    {
     "data": {
      "text/html": [
       "<div>\n",
       "<style scoped>\n",
       "    .dataframe tbody tr th:only-of-type {\n",
       "        vertical-align: middle;\n",
       "    }\n",
       "\n",
       "    .dataframe tbody tr th {\n",
       "        vertical-align: top;\n",
       "    }\n",
       "\n",
       "    .dataframe thead th {\n",
       "        text-align: right;\n",
       "    }\n",
       "</style>\n",
       "<table border=\"1\" class=\"dataframe\">\n",
       "  <thead>\n",
       "    <tr style=\"text-align: right;\">\n",
       "      <th></th>\n",
       "      <th>LGBM</th>\n",
       "      <th>Dummy</th>\n",
       "    </tr>\n",
       "  </thead>\n",
       "  <tbody>\n",
       "    <tr>\n",
       "      <th>recall</th>\n",
       "      <td>0.711782</td>\n",
       "      <td>0.075126</td>\n",
       "    </tr>\n",
       "    <tr>\n",
       "      <th>precision</th>\n",
       "      <td>0.181912</td>\n",
       "      <td>0.075767</td>\n",
       "    </tr>\n",
       "    <tr>\n",
       "      <th>average prediction cost</th>\n",
       "      <td>0.491082</td>\n",
       "      <td>0.820610</td>\n",
       "    </tr>\n",
       "  </tbody>\n",
       "</table>\n",
       "</div>"
      ],
      "text/plain": [
       "                             LGBM     Dummy\n",
       "recall                   0.711782  0.075126\n",
       "precision                0.181912  0.075767\n",
       "average prediction cost  0.491082  0.820610"
      ]
     },
     "metadata": {},
     "output_type": "display_data"
    }
   ],
   "source": [
    "# intiate a dataframe\n",
    "metrics = pd.DataFrame()\n",
    "\n",
    "# compute...\n",
    "for name,pred in zip([\"LGBM\",\"Dummy\"],[yPreds,yPredsDummy]) :\n",
    "    metrics.loc[\"recall\",name]=recall_score(y_true=yTest,y_pred=pred) # ... recall\n",
    "    metrics.loc[\"precision\",name]=precision_score(y_true=yTest,y_pred=pred,zero_division=np.nan) # ... precision\n",
    "    metrics.loc[\"average prediction cost\",name]=mf.meanCostPerPrediction( # ... average predicition cost\n",
    "                                                    confusionMatrix=confusion_matrix(\n",
    "                                                        y_true=yTest,\n",
    "                                                        y_pred=pred\n",
    "                                                    ),\n",
    "                                                    costMatrix=PretADepenserCostMatrix\n",
    "                                                )\n",
    "\n",
    "display(metrics)"
   ]
  },
  {
   "cell_type": "markdown",
   "id": "6dd45da7",
   "metadata": {},
   "source": [
    "Nous voyons que le modèle n'est pas parfait, mais le nombre de faux négatifs est tout de même limité. Cela se fait au détriment du nombre de faux positifs, qui lui est assez important. \n",
    "\n",
    "Cependant cette précision globalement faible est à mettre en perspective avec le déséquilibre de classes important de notre problème. Le modèle apportera ainsi tout de même des alertes précieuses à la banque."
   ]
  },
  {
   "cell_type": "markdown",
   "id": "9d34fb64",
   "metadata": {},
   "source": [
    "# MODELE CHOISI - expliquer nos prédictions<a class=\"anchor\" id=\"24\"></a>"
   ]
  },
  {
   "cell_type": "markdown",
   "id": "d63fbe62",
   "metadata": {},
   "source": [
    "## Préambule<a class=\"anchor\" id=\"241\"></a>"
   ]
  },
  {
   "cell_type": "markdown",
   "id": "1152bc67",
   "metadata": {},
   "source": [
    "Nous allons utiliser SHAP pour expliquer nos prédictions.\n",
    "\n",
    "Cet algorithme utilise des approximations des valeurs de Shapley et est une des méthodes d'explicabilité les plus utilisées.\n",
    "\n",
    "Les valeurs de Shapley permettent de connaître la contribution de chaque feature à une prédiction donnée, ou plus exactement de savoir comment chaque feature fait différer une prédiction de la prédiction moyenne."
   ]
  },
  {
   "cell_type": "markdown",
   "id": "c94745ed",
   "metadata": {},
   "source": [
    "Pour obtenir cette contribution :\n",
    "- on calcule la prédiction pour toutes les combinaisons possibles\n",
    "- pour une feature donnée, on calcule sa contribution marginale pour chaque combinaison où elle apparaît en effectuant la soustraction entre la prédiction avec elle et la prédiction pour cette même combinaison, mais sans elle.\n",
    "- on calcule enfin la moyenne pondérée de toutes ces contributions marginales.\n",
    "\n",
    "Cette méthode permet d'obtenir des contributions \"justes\", car elle prend en compte les intéractions avec les autres features. Par exemple, si une feature de ne fonctionne bien qu'avec une autre feature en particulier, sa contribution marginale ne sera bonne qu'en présence de cette autre feature dans la combinaison. Cette bonne performance sera lissée par la moyenne.\n",
    "\n",
    "Le problème des valeurs de Shapley est qu'elles nécessitent beaucoup de puissance de calcul. L'algorithme SHAP estime ces valeurs grâce à un noyau permettant de transformer ce problèmes en un problème de régression linéaire."
   ]
  },
  {
   "cell_type": "markdown",
   "id": "9bab715b",
   "metadata": {},
   "source": [
    "SHAP n'étant pas facilement compatible avec ImbLearn `Pipeline`, nous allons de tout d'abord \"préprocesser\" nos set d'entraînement et de test :"
   ]
  },
  {
   "cell_type": "code",
   "execution_count": 187,
   "id": "c2f88132",
   "metadata": {},
   "outputs": [],
   "source": [
    "# preprocess Xtrain and XTest with already fitted LBpipeTuned\n",
    "XTrainPreprocessed = pd.DataFrame(\n",
    "    LBpipeTuned[:-1].transform(XTrain), # .transform with preprocessing steps of the pipeline\n",
    "    columns=extract_features_from_pipe(LBpipeTuned)[0] # use custom function to get features names\n",
    ")\n",
    "XTestPreprocessed = pd.DataFrame(\n",
    "    LBpipeTuned[:-1].transform(XTest), # .transform with preprocessing steps of the pipeline\n",
    "    columns=extract_features_from_pipe(LBpipeTuned)[0] # use custom function to get features names\n",
    ")"
   ]
  },
  {
   "cell_type": "markdown",
   "id": "eb59d562",
   "metadata": {},
   "source": [
    "Nous pouvons maintenant créer un SHAP `Explainer` :"
   ]
  },
  {
   "cell_type": "code",
   "execution_count": 188,
   "id": "8295a40b",
   "metadata": {},
   "outputs": [],
   "source": [
    "lgbmExplainer = shap.TreeExplainer(LBpipeTuned[-1],data=XTrainPreprocessed.sample(10000),model_output=\"probability\")"
   ]
  },
  {
   "cell_type": "markdown",
   "id": "0e9e27da",
   "metadata": {},
   "source": [
    "Et générer notre objet `Explanation` :\n",
    "\n",
    "*Nota :* Cette opération étant très longue, nous allons le stocker."
   ]
  },
  {
   "cell_type": "code",
   "execution_count": 189,
   "id": "2586330d",
   "metadata": {},
   "outputs": [
    {
     "name": "stdout",
     "output_type": "stream",
     "text": [
      "CPU times: total: 0 ns\n",
      "Wall time: 140 ms\n"
     ]
    }
   ],
   "source": [
    "%%time\n",
    "if not os.path.isdir(\"mySaves/shapValues\") :\n",
    "    os.mkdir(\"mySaves/shapValues\")\n",
    "\n",
    "if (\"lgbmShapValues.joblib\" not in os.listdir(\"mySaves/shapValues\")) or (rapidProcessing == False) :\n",
    "    lgbmShapValues = lgbmExplainer(XTestPreprocessed,check_additivity=False)\n",
    "    dump(lgbmShapValues,\"mySaves/shapValues/lgbmShapValues.joblib\")\n",
    "\n",
    "else :\n",
    "    lgbmShapValues=load(\"mySaves/shapValues/lgbmShapValues.joblib\")"
   ]
  },
  {
   "cell_type": "markdown",
   "id": "31be9b1c",
   "metadata": {},
   "source": [
    "Nous pouvons comparer les probabilités de sortie réelle de notre algorithme avec la somme des Shapley values (sommes sur les différentes features) issues de l'Explainer :"
   ]
  },
  {
   "cell_type": "code",
   "execution_count": 190,
   "id": "277d5de7",
   "metadata": {},
   "outputs": [
    {
     "data": {
      "text/plain": [
       "0.0003044330699605207"
      ]
     },
     "execution_count": 190,
     "metadata": {},
     "output_type": "execute_result"
    }
   ],
   "source": [
    "yProbsOnTest = LBpipeTuned.predict_proba(XTest)[:,1]\n",
    "yProbsWithShap = lgbmShapValues.values.sum(axis=1) + lgbmExplainer.expected_value\n",
    "\n",
    "(yProbsOnTest-yProbsWithShap).std()"
   ]
  },
  {
   "cell_type": "markdown",
   "id": "701396c3",
   "metadata": {},
   "source": [
    "Les probabilités/scores sont très proches."
   ]
  },
  {
   "cell_type": "markdown",
   "id": "e9272306",
   "metadata": {},
   "source": [
    "SHAP nous permettant d'interpréter notre modèles aussi bien au niveau global que local, nous allons extraire quelques observations.\n",
    "\n",
    "L'idée est d'avoir quelques observations pour chaque type de prédiction (TN, FP, FN et TP)."
   ]
  },
  {
   "cell_type": "code",
   "execution_count": 191,
   "id": "3d6a1454",
   "metadata": {},
   "outputs": [],
   "source": [
    "testResults = pd.DataFrame()\n",
    "testResults[\"yTest\"]=yTest.values\n",
    "testResults[\"yPred\"]=yPreds\n",
    "\n",
    "TNidx = testResults.loc[(testResults[\"yTest\"]==0)&(testResults[\"yPred\"]==0)].index\n",
    "FPidx = testResults.loc[(testResults[\"yTest\"]==0)&(testResults[\"yPred\"]==1)].index\n",
    "FNidx = testResults.loc[(testResults[\"yTest\"]==1)&(testResults[\"yPred\"]==0)].index\n",
    "TPidx = testResults.loc[(testResults[\"yTest\"]==1)&(testResults[\"yPred\"]==1)].index\n",
    "\n",
    "rand_ste = 16\n",
    "nb_samp = 3\n",
    "# initiate an list of index for our sample \n",
    "sampleIdx=[]\n",
    "\n",
    "for idx in [TNidx,FPidx,FNidx,TPidx] :\n",
    "    np.random.seed(rand_ste)\n",
    "    sampleIdx += np.random.choice(\n",
    "        idx,\n",
    "        size=nb_samp,\n",
    "        replace=False\n",
    "    ).tolist()\n",
    "\n",
    "lgbmShapValuesSamples=lgbmShapValues[sampleIdx]\n",
    "sampleInfos=[elt for elt in ['TN', 'FP', 'FN', 'TP'] for i in range(nb_samp)]\n",
    "errorsSample=errors[sampleIdx]"
   ]
  },
  {
   "cell_type": "markdown",
   "id": "5ea73328",
   "metadata": {},
   "source": [
    "## `shap.plots.bar`<a class=\"anchor\" id=\"242\"></a>"
   ]
  },
  {
   "cell_type": "markdown",
   "id": "dbeb08c6",
   "metadata": {},
   "source": [
    "Nous pouvons afficher un barplot avec l'importance de chaque variable :"
   ]
  },
  {
   "cell_type": "code",
   "execution_count": 192,
   "id": "92a698f4",
   "metadata": {
    "scrolled": false
   },
   "outputs": [
    {
     "data": {
      "application/vnd.jupyter.widget-view+json": {
       "model_id": "f86deab3aecc412d88c3096f44bb243e",
       "version_major": 2,
       "version_minor": 0
      },
      "text/plain": [
       "VBox(children=(Dropdown(description='Which observation(s) : ', options={'all test set': 'allTest', 'all sample…"
      ]
     },
     "metadata": {},
     "output_type": "display_data"
    },
    {
     "data": {
      "application/vnd.jupyter.widget-view+json": {
       "model_id": "45a9be3d21444043adedc6ebbbc1ad7b",
       "version_major": 2,
       "version_minor": 0
      },
      "text/plain": [
       "Output()"
      ]
     },
     "metadata": {},
     "output_type": "display_data"
    }
   ],
   "source": [
    "# use widgets to select different options\n",
    "\n",
    "widTop = widgets.BoundedIntText(# number of features to display\n",
    "    value=20,\n",
    "    min=0,\n",
    "    max=len(lgbmExplainer.data_feature_names),\n",
    "    description=\"N top features : \",\n",
    "    disabled=False,\n",
    "    style={'description_width': 'initial'}\n",
    ")\n",
    "\n",
    "widSample = widgets.Dropdown(# select sample(s)\n",
    "    options={\"all test set\" : \"allTest\"}\\\n",
    "    |{\"all samples\":\"allSamps\"}\\\n",
    "    |{\"sample \"+str(i+1)+\" (\"+sampleInfos[i]+\")\" : i for i in range(len(lgbmShapValuesSamples))},\n",
    "    description = \"Which observation(s) : \",\n",
    "    style={'description_width': 'initial'}\n",
    ")\n",
    "\n",
    "ui = widgets.VBox([widSample,widTop])\n",
    "\n",
    "def boldFeatures(axes) :\n",
    "    '''\n",
    "    for features in myFeatures, set fontweight to \"bold\"\n",
    "    parameter :\n",
    "    -----------\n",
    "    axes : matplotlib axes\n",
    "    '''\n",
    "    ytickslabels=axes.get_yticklabels(which='both') # 'both' becaux SHAP uses two layers, one grey, one black\n",
    "    fontWeights=[\"bold\" if ytick.get_text().split(\" \")[-1] in myFeatures else \"normal\" for ytick in ytickslabels]\n",
    "    # apply fontweights\n",
    "    for ytick,fontWeight in zip(ytickslabels,fontWeights) :\n",
    "        ytick.set_fontweight(fontWeight)\n",
    "\n",
    "def myShapBarPlot(sample,top) :\n",
    "    '''\n",
    "    custom SHAP barplot\n",
    "    parameters :\n",
    "    ------------\n",
    "    sample - str or int : sample(s) we ant to explain\n",
    "    top - int : number of feature to display\n",
    "    '''\n",
    "    fig,ax=plt.subplots(1,figsize=[10,top*0.5])\n",
    "    if sample==\"allTest\" :\n",
    "        shap.plots.bar(lgbmShapValues,max_display=top,show=False)\n",
    "        ax.set_title(\"SHAP feature importance bar plot\\nGlobal - on test set\")\n",
    "    elif sample==\"allSamps\" :\n",
    "        shap.plots.bar(lgbmShapValuesSamples,max_display=top,show=False)\n",
    "        ax.set_title(\"SHAP feature importance bar plot\\nGlobal - on the \"+str(nb_samp)+\" test set samples\")\n",
    "    else :\n",
    "        shap.plots.bar(lgbmShapValuesSamples[sample],max_display=top,show=False)\n",
    "        ax.set_title(\"SHAP feature importance bar plot\\nLocal - on sample \"+str(sample+1))\n",
    "    \n",
    "    # adjust fontweights\n",
    "    boldFeatures(ax)\n",
    "    \n",
    "    plt.show()\n",
    "\n",
    "out = widgets.interactive_output(myShapBarPlot,{\"sample\":widSample,\"top\":widTop})\n",
    "\n",
    "display(ui,out)"
   ]
  },
  {
   "cell_type": "markdown",
   "id": "0e6ac5f8",
   "metadata": {},
   "source": [
    "Quelques features composites ressortent, comme la feature synthétisant les `xx_NOT_xx`s, nous informant sur les distances entres les différentes adresses renseignées au dossier. \n",
    "\n",
    "Des features `EXT_SOURCE` ressortent également, ainsi que certaines liées au taux du crédit (`NEW_I_x_DOWN` et `PREV_NAME_YIELD_GROUP_AggMin`). \n",
    "\n",
    "Globalement nous retrouvons des features révélées lors de l'exploration."
   ]
  },
  {
   "cell_type": "markdown",
   "id": "ffd374d6",
   "metadata": {},
   "source": [
    "## `shap.decision_plot`<a class=\"anchor\" id=\"243\"></a>"
   ]
  },
  {
   "cell_type": "code",
   "execution_count": 193,
   "id": "e193fed7",
   "metadata": {
    "scrolled": false
   },
   "outputs": [
    {
     "data": {
      "application/vnd.jupyter.widget-view+json": {
       "model_id": "9df04afd4ec645d0bfd398a8dbb2aadc",
       "version_major": 2,
       "version_minor": 0
      },
      "text/plain": [
       "VBox(children=(Dropdown(description='Which observation(s) : ', options={'all samples': [0, 1, 2, 3, 4, 5, 6, 7…"
      ]
     },
     "metadata": {},
     "output_type": "display_data"
    },
    {
     "data": {
      "application/vnd.jupyter.widget-view+json": {
       "model_id": "c5d5c3144205441593097a84133d11cc",
       "version_major": 2,
       "version_minor": 0
      },
      "text/plain": [
       "Output()"
      ]
     },
     "metadata": {},
     "output_type": "display_data"
    }
   ],
   "source": [
    "sampSize = len(lgbmShapValuesSamples)\n",
    "\n",
    "widSampleBis = widgets.Dropdown(# select sample(s)\n",
    "    options={\"all samples\":list(range(sampSize))}\\\n",
    "    |{\"sample \"+str(i+1)+\" (\"+sampleInfos[i]+\")\" : i for i in range(sampSize)},\n",
    "    description = \"Which observation(s) : \",\n",
    "    style={'description_width': 'initial'}\n",
    ")\n",
    "widTopBis=widgets.BoundedIntText(# number of features to display\n",
    "    value=20,\n",
    "    min=0,\n",
    "    max=len(lgbmExplainer.data_feature_names),\n",
    "    description=\"N top features : \",\n",
    "    disabled=False,\n",
    "    style={'description_width': 'initial'}\n",
    ")\n",
    "\n",
    "uiBis = widgets.VBox([widSampleBis,widTopBis])\n",
    "\n",
    "def myShapDecisionPlot(sample,top) :\n",
    "    '''\n",
    "    custom SHAP decision plot\n",
    "    parameters :\n",
    "    ------------\n",
    "    sample - str or int : sample(s) we ant to explain\n",
    "    top - int : number of feature to display\n",
    "    '''\n",
    "    fig,ax=plt.subplots(1,figsize=[10,top*0.5])\n",
    "    shap.decision_plot(\n",
    "        base_value=lgbmShapValuesSamples.base_values[0],\n",
    "        shap_values=lgbmShapValuesSamples.values[sample],\n",
    "        features=lgbmShapValuesSamples.data[sample],\n",
    "        feature_names=lgbmShapValuesSamples.feature_names,\n",
    "        feature_display_range=slice(-1, -top, -1),\n",
    "        xlim=[0,1],\n",
    "        show=False,\n",
    "        highlight=errorsSample[sample],\n",
    "        auto_size_plot=False\n",
    "    )\n",
    "    ax.set_title(\"SHAP decision plot\\n(how the model makes decisions)\")\n",
    "\n",
    "    \n",
    "    # adjust fontweights\n",
    "    boldFeatures(ax)\n",
    "    # add a vertical line with threshold\n",
    "    ax.axvline(x=modelBestThreshold,lw=3,ls=\":\",c=\"k\")\n",
    "    plt.show()\n",
    "    \n",
    "outBis = widgets.interactive_output(myShapDecisionPlot,{\"sample\":widSampleBis,\"top\":widTopBis})\n",
    "\n",
    "display(uiBis,outBis)\n"
   ]
  },
  {
   "cell_type": "markdown",
   "id": "ae23bfd2",
   "metadata": {},
   "source": [
    "Nous voyons l'intérêt de l'aspect local de `SHAP` et tout particulièrement du `decision plot` : En apprendre plus sur la manière dont le modèle arrive au score final aidera grandement les chargés de relation client à :\n",
    "- déceler des incohérences\n",
    "- savoir quelles parties du dossier d'un client peut être à explorer"
   ]
  },
  {
   "cell_type": "markdown",
   "id": "163c4f52",
   "metadata": {},
   "source": [
    "## `shap.plots.waterfall`<a class=\"anchor\" id=\"244\"></a>"
   ]
  },
  {
   "cell_type": "markdown",
   "id": "fb416608",
   "metadata": {},
   "source": [
    "`SHAP` propose également le graphique `waterfall`, qui apporte les même informations locales que le précédent :"
   ]
  },
  {
   "cell_type": "code",
   "execution_count": 194,
   "id": "b8fa52df",
   "metadata": {},
   "outputs": [
    {
     "data": {
      "application/vnd.jupyter.widget-view+json": {
       "model_id": "1d2429c06c414b96a9c988e653d2c084",
       "version_major": 2,
       "version_minor": 0
      },
      "text/plain": [
       "VBox(children=(Dropdown(description='Which observation : ', options={'sample 1 (TN)': 0, 'sample 2 (TN)': 1, '…"
      ]
     },
     "metadata": {},
     "output_type": "display_data"
    },
    {
     "data": {
      "application/vnd.jupyter.widget-view+json": {
       "model_id": "1ec26a18b5404e5aa893c278e60a7376",
       "version_major": 2,
       "version_minor": 0
      },
      "text/plain": [
       "Output()"
      ]
     },
     "metadata": {},
     "output_type": "display_data"
    }
   ],
   "source": [
    "widSampleTER = widgets.Dropdown(# select sample\n",
    "    options={\"sample \"+str(i+1)+\" (\"+sampleInfos[i]+\")\" : i for i in range(sampSize)},\n",
    "    description = \"Which observation : \",\n",
    "    style={'description_width': 'initial'}\n",
    ")\n",
    "widTopTER=widgets.BoundedIntText(# number of features to display\n",
    "    value=20,\n",
    "    min=0,\n",
    "    max=len(lgbmExplainer.data_feature_names),\n",
    "    description=\"N top features : \",\n",
    "    disabled=False,\n",
    "    style={'description_width': 'initial'}\n",
    ")\n",
    "uiTER = widgets.VBox([widSampleTER,widTopTER])\n",
    "\n",
    "def myWaterfall(sample,top) :\n",
    "    '''\n",
    "    custom SHAP waterfall plot\n",
    "    parameters :\n",
    "    ------------\n",
    "    sample - str or int : sample(s) we ant to explain\n",
    "    top - int : number of feature to display\n",
    "    '''\n",
    "    fig,ax=plt.subplots(1,figsize=[10,top*0.5])\n",
    "    shap.plots.waterfall(lgbmShapValuesSamples[sample],max_display=top,show=False)\n",
    "    # adjust fontweights\n",
    "    boldFeatures(ax)\n",
    "    plt.show()\n",
    "    \n",
    "out=widgets.interactive_output(myWaterfall,{\"sample\":widSampleTER,\"top\":widTopTER})\n",
    "\n",
    "display(uiTER,out)\n",
    "\n",
    "# shap.plots.waterfall(lgbmShapValuesSamples[-5])"
   ]
  },
  {
   "cell_type": "markdown",
   "id": "da12efbb",
   "metadata": {},
   "source": [
    "# CONCLUSION"
   ]
  },
  {
   "cell_type": "markdown",
   "id": "27a0cda5",
   "metadata": {},
   "source": [
    "Nous voyons qu'un modèle **ne peut pas être parfait**, même s'il est toujours possible d'apporter des améliorations. Cet outil de scoring peut effectivement apporter beaucoup à la banque :\n",
    "- **gain de temps**\n",
    "- **aide à la décision**\n",
    "\n",
    "Les chargés de relation client et l'outil s'**apporteront mutuellement** grâce à l'**interprétabilité** du modèle :\n",
    "- **regard critique** sur le résultat pour un client donné\n",
    "- **mise en exergue** des éléments du dossier **susceptibles de poser problème**, pour analyse plus poussée par exemple"
   ]
  },
  {
   "cell_type": "markdown",
   "id": "95a52c2b",
   "metadata": {},
   "source": [
    "Sur le plan des améliorations possibles :\n",
    "- Nous avons vu que `SMOTE` a toujours été surpassé par `classweights`. Nous pensons qu'avec plus de temps de développement et calcul il serait **possible de l'améliorer** :\n",
    "    - utiliser **SMOTENC** pour éviter mieux traiter les variables **catégorielles**\n",
    "    - cela nécessiterait de modifier le preprocessing, la feature selection\n",
    "    - LightGBM est capable de traiter les variable catégorielles directement donc cela ne poserait pas de problème\n",
    "- Remplacer le RandomUnderSampling par un algorithme plus habile comme l'**`EditedNearestNeighbors`**\n",
    "- Gérer **plus finement les imputations** :\n",
    "    - features numériques : `IterativeImputer` ? `KNNImputer` ?\n",
    "    - features catégorielles : Imputer basé sur un `KNNClassifier` ?\n",
    "    - features intéressantes (ex : `EXT_SOURCE`) : développer un modèle ?\n",
    "- Gérer **plus finement les outliers** :\n",
    "    - `FunctionSampler(func = IsolationForest)` ?\n",
    "- D'**autres features composites** ? Exemple :\n",
    "\n",
    "<img src=\"idee_feature.png\" alt=\"idee_feature\" width=\"1000\"/>"
   ]
  },
  {
   "cell_type": "code",
   "execution_count": 195,
   "id": "da2b3a0b",
   "metadata": {},
   "outputs": [
    {
     "data": {
      "text/plain": [
       "5.659461792310079"
      ]
     },
     "execution_count": 195,
     "metadata": {},
     "output_type": "execute_result"
    }
   ],
   "source": [
    "end_time = time.time()\n",
    "execution_time = (end_time - start_time)/60\n",
    "execution_time"
   ]
  }
 ],
 "metadata": {
  "kernelspec": {
   "display_name": "envProject4",
   "language": "python",
   "name": "envproject4"
  },
  "language_info": {
   "codemirror_mode": {
    "name": "ipython",
    "version": 3
   },
   "file_extension": ".py",
   "mimetype": "text/x-python",
   "name": "python",
   "nbconvert_exporter": "python",
   "pygments_lexer": "ipython3",
   "version": "3.11.3"
  }
 },
 "nbformat": 4,
 "nbformat_minor": 5
}
